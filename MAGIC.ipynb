{
 "cells": [
  {
   "cell_type": "code",
   "execution_count": 1,
   "metadata": {
    "cellView": "form",
    "colab": {
     "base_uri": "https://localhost:8080/"
    },
    "executionInfo": {
     "elapsed": 21415,
     "status": "ok",
     "timestamp": 1625144834837,
     "user": {
      "displayName": "Noemi Tomasello",
      "photoUrl": "https://lh3.googleusercontent.com/a-/AOh14GjIW9yCqcM8LQ4exswU2SMdZkf4dyrZ2hNdGKNq=s64",
      "userId": "14936482853525964477"
     },
     "user_tz": -120
    },
    "id": "05GMUn_Aw-Oq",
    "outputId": "3896a1ef-8806-40d8-ecca-15d03f708685",
    "slideshow": {
     "slide_type": "skip"
    }
   },
   "outputs": [
    {
     "name": "stdout",
     "output_type": "stream",
     "text": [
      "Collecting plotly==4.14.3\n",
      "\u001b[?25l  Downloading https://files.pythonhosted.org/packages/1f/f6/bd3c17c8003b6641df1228e80e1acac97ed8402635e46c2571f8e1ef63af/plotly-4.14.3-py2.py3-none-any.whl (13.2MB)\n",
      "\u001b[K     |████████████████████████████████| 13.2MB 218kB/s \n",
      "\u001b[?25hRequirement already satisfied: retrying>=1.3.3 in /usr/local/lib/python3.7/dist-packages (from plotly==4.14.3) (1.3.3)\n",
      "Requirement already satisfied: six in /usr/local/lib/python3.7/dist-packages (from plotly==4.14.3) (1.15.0)\n",
      "Installing collected packages: plotly\n",
      "  Found existing installation: plotly 4.4.1\n",
      "    Uninstalling plotly-4.4.1:\n",
      "      Successfully uninstalled plotly-4.4.1\n",
      "Successfully installed plotly-4.14.3\n"
     ]
    }
   ],
   "source": [
    "#@title\n",
    "! pip install plotly==4.14.3"
   ]
  },
  {
   "cell_type": "code",
   "execution_count": null,
   "metadata": {
    "id": "EmZ6EC4FANl_",
    "slideshow": {
     "slide_type": "skip"
    }
   },
   "outputs": [],
   "source": [
    "#!pip install https://github.com/pandas-profiling/pandas-profiling/archive/master.zip"
   ]
  },
  {
   "cell_type": "markdown",
   "metadata": {
    "id": "kkno7KVTpqjy",
    "slideshow": {
     "slide_type": "slide"
    }
   },
   "source": [
    "# **Introduction**\n",
    "\n",
    "\n",
    "The aim of this project is to develop a classification model for the discrimination between gamma-rays and hadron-rays. The dataset used is taken from the UCI database <a href=\"https://archive.ics.uci.edu/ml/datasets/MAGIC+Gamma+Telescope\">MAGIC Gamma Telescope</a> and it concerns data specifically created to simulate the presence of high energy gamma particles.  Gamma-rays are photons like the light rays but more \"energetic\". To observe them there are two ways: one is to use satellites in space and catch them before they pass through the earth atmosphere; the other way is to use earth detectors, like MAGIC, which observe the so-called *Cherenkov light*, that is the glow produced by paricles created when photons interact with the earth atmosphere.\n",
    "<p align=\"center\"><img src=\"https://magic.mpp.mpg.de/uploads/pics/MAGICTEST_2.jpg\" width=700 height=200/></p>\n",
    "\n",
    "The MAGIC (**M**ajor **A**tmospheric **G**amma-ray **I**maging **C**herenkov) Telescope is one of the major telescopes for observing gamma rays currently operative. It is made of two Imaging Atmospheric Cherenkov telescopes and it aims at detecting and study primary photons.<br/>\n",
    "MAGIC is able to identigy the Cherenkov light thanks to the hundreds of mirrors it is made of, and therefore is able to capture it in pictures with a camera of less than nanosecond temporal resolution. \n",
    "\n",
    "\n",
    "\n",
    "\n",
    "<a href=\"https://home.infn.it/it/approfondimenti/esperimenti/1389-magic-major-atmospheric-gamma-imaging-cherenkov-telescope\">Source INFN<a/>"
   ]
  },
  {
   "cell_type": "code",
   "execution_count": 1,
   "metadata": {
    "cellView": "form",
    "id": "hDTSCm_FodnO",
    "slideshow": {
     "slide_type": "skip"
    }
   },
   "outputs": [
    {
     "ename": "ModuleNotFoundError",
     "evalue": "No module named 'cufflinks'",
     "output_type": "error",
     "traceback": [
      "\u001b[1;31m---------------------------------------------------------------------------\u001b[0m",
      "\u001b[1;31mModuleNotFoundError\u001b[0m                       Traceback (most recent call last)",
      "\u001b[1;32m<ipython-input-1-ae68bf98b0c1>\u001b[0m in \u001b[0;36m<module>\u001b[1;34m\u001b[0m\n\u001b[0;32m      5\u001b[0m \u001b[1;32mimport\u001b[0m \u001b[0mseaborn\u001b[0m \u001b[1;32mas\u001b[0m \u001b[0msns\u001b[0m\u001b[1;33m\u001b[0m\u001b[1;33m\u001b[0m\u001b[0m\n\u001b[0;32m      6\u001b[0m \u001b[1;32mimport\u001b[0m \u001b[0mmatplotlib\u001b[0m\u001b[1;33m.\u001b[0m\u001b[0mpyplot\u001b[0m \u001b[1;32mas\u001b[0m \u001b[0mplt\u001b[0m\u001b[1;33m\u001b[0m\u001b[1;33m\u001b[0m\u001b[0m\n\u001b[1;32m----> 7\u001b[1;33m \u001b[1;32mimport\u001b[0m \u001b[0mcufflinks\u001b[0m \u001b[1;32mas\u001b[0m \u001b[0mcf\u001b[0m\u001b[1;33m\u001b[0m\u001b[1;33m\u001b[0m\u001b[0m\n\u001b[0m\u001b[0;32m      8\u001b[0m \u001b[1;32mimport\u001b[0m \u001b[0mplotly\u001b[0m\u001b[1;33m\u001b[0m\u001b[1;33m\u001b[0m\u001b[0m\n\u001b[0;32m      9\u001b[0m \u001b[1;32mimport\u001b[0m \u001b[0mplotly\u001b[0m\u001b[1;33m.\u001b[0m\u001b[0mgraph_objects\u001b[0m \u001b[1;32mas\u001b[0m \u001b[0mgo\u001b[0m\u001b[1;33m\u001b[0m\u001b[1;33m\u001b[0m\u001b[0m\n",
      "\u001b[1;31mModuleNotFoundError\u001b[0m: No module named 'cufflinks'"
     ]
    }
   ],
   "source": [
    "#@title\n",
    "import pandas as pd \n",
    "import numpy as np \n",
    "import csv \n",
    "import seaborn as sns\n",
    "import matplotlib.pyplot as plt\n",
    "import cufflinks as cf\n",
    "import plotly\n",
    "import plotly.graph_objects as go\n",
    "import plotly.express as px\n",
    "import plotly.figure_factory as ff\n",
    "from plotly.offline import download_plotlyjs, init_notebook_mode, iplot\n",
    "from plotly.subplots import make_subplots\n",
    "from scipy import stats\n",
    "from sklearn.decomposition import PCA\n",
    "from sklearn.ensemble import IsolationForest\n",
    "from sklearn.cluster import DBSCAN\n",
    "from sklearn.neighbors import LocalOutlierFactor \n",
    "from sklearn.svm import SVC\n",
    "from sklearn.preprocessing import StandardScaler, normalize, MinMaxScaler, OneHotEncoder,LabelEncoder\n",
    "from sklearn.model_selection import train_test_split\n",
    "from sklearn.metrics import classification_report, confusion_matrix\n",
    "from sklearn.linear_model import LogisticRegression, LinearRegression\n",
    "from sklearn.neighbors import KNeighborsClassifier as KNN\n",
    "from sklearn.ensemble import RandomForestClassifier\n",
    "from sklearn.pipeline import Pipeline \n",
    "from sklearn.model_selection import GridSearchCV, KFold, StratifiedKFold,ParameterGrid, learning_curve,ShuffleSplit\n",
    "from sklearn.metrics import mean_squared_error, accuracy_score, f1_score, precision_score, recall_score\n",
    "from imblearn.over_sampling import SMOTE \n",
    "from sklearn.discriminant_analysis import QuadraticDiscriminantAnalysis as QDA\n",
    "from imblearn.under_sampling import RandomUnderSampler\n",
    "from statistics import mode\n",
    "from collections import Counter\n",
    "from pandas_profiling import ProfileReport\n",
    "from IPython.display import Javascript\n",
    "from plotly.offline import get_plotlyjs\n",
    "Javascript(get_plotlyjs())\n",
    "#pd.options.plotting.backend = \"plotly\"\n",
    "%matplotlib inline\n",
    "import warnings\n",
    "warnings.filterwarnings(\"ignore\")"
   ]
  },
  {
   "cell_type": "code",
   "execution_count": 3,
   "metadata": {
    "cellView": "form",
    "colab": {
     "base_uri": "https://localhost:8080/",
     "height": 421
    },
    "executionInfo": {
     "elapsed": 247,
     "status": "ok",
     "timestamp": 1625144866571,
     "user": {
      "displayName": "Noemi Tomasello",
      "photoUrl": "https://lh3.googleusercontent.com/a-/AOh14GjIW9yCqcM8LQ4exswU2SMdZkf4dyrZ2hNdGKNq=s64",
      "userId": "14936482853525964477"
     },
     "user_tz": -120
    },
    "id": "gyAlck1HodnV",
    "outputId": "95981617-eb98-4fd3-e553-5bcd20279e62",
    "slideshow": {
     "slide_type": "subslide"
    }
   },
   "outputs": [
    {
     "data": {
      "text/html": [
       "<div>\n",
       "<style scoped>\n",
       "    .dataframe tbody tr th:only-of-type {\n",
       "        vertical-align: middle;\n",
       "    }\n",
       "\n",
       "    .dataframe tbody tr th {\n",
       "        vertical-align: top;\n",
       "    }\n",
       "\n",
       "    .dataframe thead th {\n",
       "        text-align: right;\n",
       "    }\n",
       "</style>\n",
       "<table border=\"1\" class=\"dataframe\">\n",
       "  <thead>\n",
       "    <tr style=\"text-align: right;\">\n",
       "      <th></th>\n",
       "      <th>fLength</th>\n",
       "      <th>fWidth</th>\n",
       "      <th>fSize</th>\n",
       "      <th>fConc</th>\n",
       "      <th>fConc1</th>\n",
       "      <th>fAsym</th>\n",
       "      <th>fM3Long</th>\n",
       "      <th>fM3Trans</th>\n",
       "      <th>fAlpha</th>\n",
       "      <th>fDist</th>\n",
       "      <th>class</th>\n",
       "    </tr>\n",
       "  </thead>\n",
       "  <tbody>\n",
       "    <tr>\n",
       "      <th>0</th>\n",
       "      <td>28.7967</td>\n",
       "      <td>16.0021</td>\n",
       "      <td>2.6449</td>\n",
       "      <td>0.3918</td>\n",
       "      <td>0.1982</td>\n",
       "      <td>27.7004</td>\n",
       "      <td>22.0110</td>\n",
       "      <td>-8.2027</td>\n",
       "      <td>40.0920</td>\n",
       "      <td>81.8828</td>\n",
       "      <td>g</td>\n",
       "    </tr>\n",
       "    <tr>\n",
       "      <th>1</th>\n",
       "      <td>31.6036</td>\n",
       "      <td>11.7235</td>\n",
       "      <td>2.5185</td>\n",
       "      <td>0.5303</td>\n",
       "      <td>0.3773</td>\n",
       "      <td>26.2722</td>\n",
       "      <td>23.8238</td>\n",
       "      <td>-9.9574</td>\n",
       "      <td>6.3609</td>\n",
       "      <td>205.2610</td>\n",
       "      <td>g</td>\n",
       "    </tr>\n",
       "    <tr>\n",
       "      <th>2</th>\n",
       "      <td>162.0520</td>\n",
       "      <td>136.0310</td>\n",
       "      <td>4.0612</td>\n",
       "      <td>0.0374</td>\n",
       "      <td>0.0187</td>\n",
       "      <td>116.7410</td>\n",
       "      <td>-64.8580</td>\n",
       "      <td>-45.2160</td>\n",
       "      <td>76.9600</td>\n",
       "      <td>256.7880</td>\n",
       "      <td>g</td>\n",
       "    </tr>\n",
       "    <tr>\n",
       "      <th>3</th>\n",
       "      <td>23.8172</td>\n",
       "      <td>9.5728</td>\n",
       "      <td>2.3385</td>\n",
       "      <td>0.6147</td>\n",
       "      <td>0.3922</td>\n",
       "      <td>27.2107</td>\n",
       "      <td>-6.4633</td>\n",
       "      <td>-7.1513</td>\n",
       "      <td>10.4490</td>\n",
       "      <td>116.7370</td>\n",
       "      <td>g</td>\n",
       "    </tr>\n",
       "    <tr>\n",
       "      <th>4</th>\n",
       "      <td>75.1362</td>\n",
       "      <td>30.9205</td>\n",
       "      <td>3.1611</td>\n",
       "      <td>0.3168</td>\n",
       "      <td>0.1832</td>\n",
       "      <td>-5.5277</td>\n",
       "      <td>28.5525</td>\n",
       "      <td>21.8393</td>\n",
       "      <td>4.6480</td>\n",
       "      <td>356.4620</td>\n",
       "      <td>g</td>\n",
       "    </tr>\n",
       "    <tr>\n",
       "      <th>...</th>\n",
       "      <td>...</td>\n",
       "      <td>...</td>\n",
       "      <td>...</td>\n",
       "      <td>...</td>\n",
       "      <td>...</td>\n",
       "      <td>...</td>\n",
       "      <td>...</td>\n",
       "      <td>...</td>\n",
       "      <td>...</td>\n",
       "      <td>...</td>\n",
       "      <td>...</td>\n",
       "    </tr>\n",
       "    <tr>\n",
       "      <th>19015</th>\n",
       "      <td>21.3846</td>\n",
       "      <td>10.9170</td>\n",
       "      <td>2.6161</td>\n",
       "      <td>0.5857</td>\n",
       "      <td>0.3934</td>\n",
       "      <td>15.2618</td>\n",
       "      <td>11.5245</td>\n",
       "      <td>2.8766</td>\n",
       "      <td>2.4229</td>\n",
       "      <td>106.8258</td>\n",
       "      <td>h</td>\n",
       "    </tr>\n",
       "    <tr>\n",
       "      <th>19016</th>\n",
       "      <td>28.9452</td>\n",
       "      <td>6.7020</td>\n",
       "      <td>2.2672</td>\n",
       "      <td>0.5351</td>\n",
       "      <td>0.2784</td>\n",
       "      <td>37.0816</td>\n",
       "      <td>13.1853</td>\n",
       "      <td>-2.9632</td>\n",
       "      <td>86.7975</td>\n",
       "      <td>247.4560</td>\n",
       "      <td>h</td>\n",
       "    </tr>\n",
       "    <tr>\n",
       "      <th>19017</th>\n",
       "      <td>75.4455</td>\n",
       "      <td>47.5305</td>\n",
       "      <td>3.4483</td>\n",
       "      <td>0.1417</td>\n",
       "      <td>0.0549</td>\n",
       "      <td>-9.3561</td>\n",
       "      <td>41.0562</td>\n",
       "      <td>-9.4662</td>\n",
       "      <td>30.2987</td>\n",
       "      <td>256.5166</td>\n",
       "      <td>h</td>\n",
       "    </tr>\n",
       "    <tr>\n",
       "      <th>19018</th>\n",
       "      <td>120.5135</td>\n",
       "      <td>76.9018</td>\n",
       "      <td>3.9939</td>\n",
       "      <td>0.0944</td>\n",
       "      <td>0.0683</td>\n",
       "      <td>5.8043</td>\n",
       "      <td>-93.5224</td>\n",
       "      <td>-63.8389</td>\n",
       "      <td>84.6874</td>\n",
       "      <td>408.3166</td>\n",
       "      <td>h</td>\n",
       "    </tr>\n",
       "    <tr>\n",
       "      <th>19019</th>\n",
       "      <td>187.1814</td>\n",
       "      <td>53.0014</td>\n",
       "      <td>3.2093</td>\n",
       "      <td>0.2876</td>\n",
       "      <td>0.1539</td>\n",
       "      <td>-167.3125</td>\n",
       "      <td>-168.4558</td>\n",
       "      <td>31.4755</td>\n",
       "      <td>52.7310</td>\n",
       "      <td>272.3174</td>\n",
       "      <td>h</td>\n",
       "    </tr>\n",
       "  </tbody>\n",
       "</table>\n",
       "<p>19020 rows × 11 columns</p>\n",
       "</div>"
      ],
      "text/plain": [
       "        fLength    fWidth   fSize   fConc  ...  fM3Trans   fAlpha     fDist  class\n",
       "0       28.7967   16.0021  2.6449  0.3918  ...   -8.2027  40.0920   81.8828      g\n",
       "1       31.6036   11.7235  2.5185  0.5303  ...   -9.9574   6.3609  205.2610      g\n",
       "2      162.0520  136.0310  4.0612  0.0374  ...  -45.2160  76.9600  256.7880      g\n",
       "3       23.8172    9.5728  2.3385  0.6147  ...   -7.1513  10.4490  116.7370      g\n",
       "4       75.1362   30.9205  3.1611  0.3168  ...   21.8393   4.6480  356.4620      g\n",
       "...         ...       ...     ...     ...  ...       ...      ...       ...    ...\n",
       "19015   21.3846   10.9170  2.6161  0.5857  ...    2.8766   2.4229  106.8258      h\n",
       "19016   28.9452    6.7020  2.2672  0.5351  ...   -2.9632  86.7975  247.4560      h\n",
       "19017   75.4455   47.5305  3.4483  0.1417  ...   -9.4662  30.2987  256.5166      h\n",
       "19018  120.5135   76.9018  3.9939  0.0944  ...  -63.8389  84.6874  408.3166      h\n",
       "19019  187.1814   53.0014  3.2093  0.2876  ...   31.4755  52.7310  272.3174      h\n",
       "\n",
       "[19020 rows x 11 columns]"
      ]
     },
     "execution_count": 3,
     "metadata": {
      "tags": []
     },
     "output_type": "execute_result"
    }
   ],
   "source": [
    "#@title\n",
    "labels =  [\"fLength\",\"fWidth\",\"fSize\",\"fConc\",\"fConc1\", \"fAsym\",\"fM3Long\",\"fM3Trans\",\"fAlpha\",\"fDist\",\"class\"]\n",
    "df = pd.read_csv(\"magic04.data\",names=labels, delimiter=\",\")\n",
    "df"
   ]
  },
  {
   "cell_type": "markdown",
   "metadata": {
    "id": "SB56iphjodnW",
    "slideshow": {
     "slide_type": "slide"
    }
   },
   "source": [
    "# **Data Exploration**\n",
    "\n",
    "The data was generated to simulate registration of high energy gamma particles in an atmospheric Cherenkov telescope by a Monte Carlo program, Corsika. (<a href=\"https://archive.ics.uci.edu/ml/datasets/MAGIC+Gamma+Telescope\">UCI Dataset</a>).<br/>\n",
    "Depending on the energy of the primary gamma, a total of few hundreds to some 10000 Cherenkov photons get collected, in patterns (called the shower image), allowing to discriminate statistically those caused by primary gammas (signal) from the images of hadronic showers initiated by cosmic rays in the upper atmosphere (background).\n",
    "\n",
    "<div style=\"align:centre\">\n",
    "<img src=\"https://www.researchgate.net/profile/Mose-Mariotti/publication/3140370/figure/fig3/AS:667647221981189@1536190910397/Typical-shower-images-in-the-MAGIC-Telescope-corresponding-to-different-candidate.ppm\" width=300 height=250/>\n",
    "Tipical shower image taken from MAGIC <div/> \n",
    "<br/>\n",
    "\n",
    "<img src=\"https://media.springernature.com/original/springer-static/image/chp%3A10.1007%2F978-3-030-24194-0_3/MediaObjects/483406_1_En_3_Fig6_HTML.png\" width=300 height=250/><br/>\n",
    "After some pre-processing these images can become ellipses, and its characteristics (also called Hillas parameters)can be used to performed discrimination. These parameters and other characteristcs are indeed the attributes of our dataset"
   ]
  },
  {
   "cell_type": "code",
   "execution_count": null,
   "metadata": {
    "colab": {
     "base_uri": "https://localhost:8080/"
    },
    "executionInfo": {
     "elapsed": 23470,
     "status": "ok",
     "timestamp": 1619881332062,
     "user": {
      "displayName": "Noemi Tomasello",
      "photoUrl": "https://lh6.googleusercontent.com/-0vac6q9vL7M/AAAAAAAAAAI/AAAAAAAACQY/OsKV2bRy4NA/s64/photo.jpg",
      "userId": "14936482853525964477"
     },
     "user_tz": -120
    },
    "id": "2HeffSWFodnZ",
    "outputId": "1af0b08a-b58b-4b76-d434-af7368e28908",
    "slideshow": {
     "slide_type": "subslide"
    }
   },
   "outputs": [
    {
     "name": "stdout",
     "output_type": "stream",
     "text": [
      "<class 'pandas.core.frame.DataFrame'>\n",
      "RangeIndex: 19020 entries, 0 to 19019\n",
      "Data columns (total 11 columns):\n",
      " #   Column    Non-Null Count  Dtype  \n",
      "---  ------    --------------  -----  \n",
      " 0   fLength   19020 non-null  float64\n",
      " 1   fWidth    19020 non-null  float64\n",
      " 2   fSize     19020 non-null  float64\n",
      " 3   fConc     19020 non-null  float64\n",
      " 4   fConc1    19020 non-null  float64\n",
      " 5   fAsym     19020 non-null  float64\n",
      " 6   fM3Long   19020 non-null  float64\n",
      " 7   fM3Trans  19020 non-null  float64\n",
      " 8   fAlpha    19020 non-null  float64\n",
      " 9   fDist     19020 non-null  float64\n",
      " 10  class     19020 non-null  object \n",
      "dtypes: float64(10), object(1)\n",
      "memory usage: 1.6+ MB\n"
     ]
    }
   ],
   "source": [
    "df.info()"
   ]
  },
  {
   "cell_type": "markdown",
   "metadata": {
    "id": "D2_s4XrEroJq",
    "slideshow": {
     "slide_type": "subslide"
    }
   },
   "source": [
    "As we can see, the dataset consists of 11 columns, considering also the ‘class’ column, which represents the target of the classification task. In particular, they represent:\n",
    "1.   **fLength**: major axis of ellipse [mm]\n",
    "2.   **fWidth**: minor axis of ellipse [mm]\n",
    "3.   **fSize**: 10-log of sum of content of all pixels [in #phot]\n",
    "4.   **fConc**: ratio of sum of two highest pixels over fSize [ratio]\n",
    "5.  **fConc1**: ratio of highest pixel over fSize [ratio]\n",
    "6.  **fAsym**: distance from highest pixel to center, projected onto major axis [mm]\n",
    "7.  **fM3Long**: 3rd root of third moment along major axis [mm]\n",
    "8.  **fM3Trans**: 3rd root of third moment along minor axis [mm]\n",
    "9.  **fAlpha**: angle of major axis with vector to origin [deg]\n",
    "10. **fDist**: distance from origin to center of ellipse [mm]\n",
    "11. **class**: g,h -> gamma (signal), hadron (background)\n",
    "\n",
    "The dataset have in total 19020 istances, with continous attributes that contains only numeric features, specifically floats. There is *not any missing value*. "
   ]
  },
  {
   "cell_type": "code",
   "execution_count": null,
   "metadata": {
    "colab": {
     "base_uri": "https://localhost:8080/"
    },
    "executionInfo": {
     "elapsed": 23451,
     "status": "ok",
     "timestamp": 1619881332062,
     "user": {
      "displayName": "Noemi Tomasello",
      "photoUrl": "https://lh6.googleusercontent.com/-0vac6q9vL7M/AAAAAAAAAAI/AAAAAAAACQY/OsKV2bRy4NA/s64/photo.jpg",
      "userId": "14936482853525964477"
     },
     "user_tz": -120
    },
    "id": "7HvmKNjwodnZ",
    "outputId": "60ca924c-7364-4f5a-d650-fe87366cc610",
    "slideshow": {
     "slide_type": "subslide"
    }
   },
   "outputs": [
    {
     "name": "stdout",
     "output_type": "stream",
     "text": [
      "Number of missing values: 0\n"
     ]
    }
   ],
   "source": [
    "print(f\"Number of missing values: {df.isnull().values.sum()}\")"
   ]
  },
  {
   "cell_type": "markdown",
   "metadata": {
    "id": "xqQsfo1_uoQT",
    "slideshow": {
     "slide_type": "subslide"
    }
   },
   "source": [
    "As already quoted, the aim is distinguish between a gamma ray (class 'g') and a hadron (class 'h'). In particular \n",
    "\n",
    "\n",
    "*   **Gamma ray** is a penetreting form of electromagnetic radion araising from the radioactive decay of atomic nuclei.\n",
    "*   **Hadron** is a subatomic particle made of two or more quarks held together by the strong force. The protons and the netrons are two types of hadron \n",
    "\n",
    "\n",
    "As we can see below, the features have all quite different statistics. This is a factor that makes me understand I have to normalize to improve performances with the models. "
   ]
  },
  {
   "cell_type": "code",
   "execution_count": null,
   "metadata": {
    "colab": {
     "base_uri": "https://localhost:8080/",
     "height": 295
    },
    "executionInfo": {
     "elapsed": 23434,
     "status": "ok",
     "timestamp": 1619881332063,
     "user": {
      "displayName": "Noemi Tomasello",
      "photoUrl": "https://lh6.googleusercontent.com/-0vac6q9vL7M/AAAAAAAAAAI/AAAAAAAACQY/OsKV2bRy4NA/s64/photo.jpg",
      "userId": "14936482853525964477"
     },
     "user_tz": -120
    },
    "id": "GAZpPXYQodna",
    "outputId": "bd1ae49e-2f40-4789-d612-9cf98a6cddf4",
    "scrolled": true,
    "slideshow": {
     "slide_type": "subslide"
    }
   },
   "outputs": [
    {
     "data": {
      "text/html": [
       "<div>\n",
       "<style scoped>\n",
       "    .dataframe tbody tr th:only-of-type {\n",
       "        vertical-align: middle;\n",
       "    }\n",
       "\n",
       "    .dataframe tbody tr th {\n",
       "        vertical-align: top;\n",
       "    }\n",
       "\n",
       "    .dataframe thead th {\n",
       "        text-align: right;\n",
       "    }\n",
       "</style>\n",
       "<table border=\"1\" class=\"dataframe\">\n",
       "  <thead>\n",
       "    <tr style=\"text-align: right;\">\n",
       "      <th></th>\n",
       "      <th>fLength</th>\n",
       "      <th>fWidth</th>\n",
       "      <th>fSize</th>\n",
       "      <th>fConc</th>\n",
       "      <th>fConc1</th>\n",
       "      <th>fAsym</th>\n",
       "      <th>fM3Long</th>\n",
       "      <th>fM3Trans</th>\n",
       "      <th>fAlpha</th>\n",
       "      <th>fDist</th>\n",
       "    </tr>\n",
       "  </thead>\n",
       "  <tbody>\n",
       "    <tr>\n",
       "      <th>count</th>\n",
       "      <td>19020.000000</td>\n",
       "      <td>19020.000000</td>\n",
       "      <td>19020.000000</td>\n",
       "      <td>19020.000000</td>\n",
       "      <td>19020.000000</td>\n",
       "      <td>19020.000000</td>\n",
       "      <td>19020.000000</td>\n",
       "      <td>19020.000000</td>\n",
       "      <td>19020.000000</td>\n",
       "      <td>19020.000000</td>\n",
       "    </tr>\n",
       "    <tr>\n",
       "      <th>mean</th>\n",
       "      <td>53.250154</td>\n",
       "      <td>22.180966</td>\n",
       "      <td>2.825017</td>\n",
       "      <td>0.380327</td>\n",
       "      <td>0.214657</td>\n",
       "      <td>-4.331745</td>\n",
       "      <td>10.545545</td>\n",
       "      <td>0.249726</td>\n",
       "      <td>27.645707</td>\n",
       "      <td>193.818026</td>\n",
       "    </tr>\n",
       "    <tr>\n",
       "      <th>std</th>\n",
       "      <td>42.364855</td>\n",
       "      <td>18.346056</td>\n",
       "      <td>0.472599</td>\n",
       "      <td>0.182813</td>\n",
       "      <td>0.110511</td>\n",
       "      <td>59.206062</td>\n",
       "      <td>51.000118</td>\n",
       "      <td>20.827439</td>\n",
       "      <td>26.103621</td>\n",
       "      <td>74.731787</td>\n",
       "    </tr>\n",
       "    <tr>\n",
       "      <th>min</th>\n",
       "      <td>4.283500</td>\n",
       "      <td>0.000000</td>\n",
       "      <td>1.941300</td>\n",
       "      <td>0.013100</td>\n",
       "      <td>0.000300</td>\n",
       "      <td>-457.916100</td>\n",
       "      <td>-331.780000</td>\n",
       "      <td>-205.894700</td>\n",
       "      <td>0.000000</td>\n",
       "      <td>1.282600</td>\n",
       "    </tr>\n",
       "    <tr>\n",
       "      <th>25%</th>\n",
       "      <td>24.336000</td>\n",
       "      <td>11.863800</td>\n",
       "      <td>2.477100</td>\n",
       "      <td>0.235800</td>\n",
       "      <td>0.128475</td>\n",
       "      <td>-20.586550</td>\n",
       "      <td>-12.842775</td>\n",
       "      <td>-10.849375</td>\n",
       "      <td>5.547925</td>\n",
       "      <td>142.492250</td>\n",
       "    </tr>\n",
       "    <tr>\n",
       "      <th>50%</th>\n",
       "      <td>37.147700</td>\n",
       "      <td>17.139900</td>\n",
       "      <td>2.739600</td>\n",
       "      <td>0.354150</td>\n",
       "      <td>0.196500</td>\n",
       "      <td>4.013050</td>\n",
       "      <td>15.314100</td>\n",
       "      <td>0.666200</td>\n",
       "      <td>17.679500</td>\n",
       "      <td>191.851450</td>\n",
       "    </tr>\n",
       "    <tr>\n",
       "      <th>75%</th>\n",
       "      <td>70.122175</td>\n",
       "      <td>24.739475</td>\n",
       "      <td>3.101600</td>\n",
       "      <td>0.503700</td>\n",
       "      <td>0.285225</td>\n",
       "      <td>24.063700</td>\n",
       "      <td>35.837800</td>\n",
       "      <td>10.946425</td>\n",
       "      <td>45.883550</td>\n",
       "      <td>240.563825</td>\n",
       "    </tr>\n",
       "    <tr>\n",
       "      <th>max</th>\n",
       "      <td>334.177000</td>\n",
       "      <td>256.382000</td>\n",
       "      <td>5.323300</td>\n",
       "      <td>0.893000</td>\n",
       "      <td>0.675200</td>\n",
       "      <td>575.240700</td>\n",
       "      <td>238.321000</td>\n",
       "      <td>179.851000</td>\n",
       "      <td>90.000000</td>\n",
       "      <td>495.561000</td>\n",
       "    </tr>\n",
       "  </tbody>\n",
       "</table>\n",
       "</div>"
      ],
      "text/plain": [
       "            fLength        fWidth  ...        fAlpha         fDist\n",
       "count  19020.000000  19020.000000  ...  19020.000000  19020.000000\n",
       "mean      53.250154     22.180966  ...     27.645707    193.818026\n",
       "std       42.364855     18.346056  ...     26.103621     74.731787\n",
       "min        4.283500      0.000000  ...      0.000000      1.282600\n",
       "25%       24.336000     11.863800  ...      5.547925    142.492250\n",
       "50%       37.147700     17.139900  ...     17.679500    191.851450\n",
       "75%       70.122175     24.739475  ...     45.883550    240.563825\n",
       "max      334.177000    256.382000  ...     90.000000    495.561000\n",
       "\n",
       "[8 rows x 10 columns]"
      ]
     },
     "execution_count": 7,
     "metadata": {
      "tags": []
     },
     "output_type": "execute_result"
    }
   ],
   "source": [
    "df.describe()"
   ]
  },
  {
   "cell_type": "markdown",
   "metadata": {
    "id": "Br7oPNbbb6Mi",
    "slideshow": {
     "slide_type": "subslide"
    }
   },
   "source": [
    "Even though this is a dataset specifically created for simulation, it shows an imbalance between the two classes, beacuse it is technically easier to recreate gamma-ray characteristcs rathen than hadrons. But when dealing with real data it would actually be the opposite since hadrons represents the majority of the events."
   ]
  },
  {
   "cell_type": "code",
   "execution_count": null,
   "metadata": {
    "colab": {
     "base_uri": "https://localhost:8080/",
     "height": 317
    },
    "executionInfo": {
     "elapsed": 23932,
     "status": "ok",
     "timestamp": 1619881332578,
     "user": {
      "displayName": "Noemi Tomasello",
      "photoUrl": "https://lh6.googleusercontent.com/-0vac6q9vL7M/AAAAAAAAAAI/AAAAAAAACQY/OsKV2bRy4NA/s64/photo.jpg",
      "userId": "14936482853525964477"
     },
     "user_tz": -120
    },
    "id": "jVS_i0rPb7PU",
    "outputId": "ef484df5-b774-46d9-b592-59f77e0a22e2",
    "slideshow": {
     "slide_type": "subslide"
    }
   },
   "outputs": [
    {
     "data": {
      "text/html": [
       "<html>\n",
       "<head><meta charset=\"utf-8\" /></head>\n",
       "<body>\n",
       "    <div>            <script src=\"https://cdnjs.cloudflare.com/ajax/libs/mathjax/2.7.5/MathJax.js?config=TeX-AMS-MML_SVG\"></script><script type=\"text/javascript\">if (window.MathJax) {MathJax.Hub.Config({SVG: {font: \"STIX-Web\"}});}</script>                <script type=\"text/javascript\">window.PlotlyConfig = {MathJaxConfig: 'local'};</script>\n",
       "        <script src=\"https://cdn.plot.ly/plotly-latest.min.js\"></script>                <div id=\"054f143f-c289-49cd-a355-4ab77c36749f\" class=\"plotly-graph-div\" style=\"height:300px; width:400px;\"></div>            <script type=\"text/javascript\">                                    window.PLOTLYENV=window.PLOTLYENV || {};                                    if (document.getElementById(\"054f143f-c289-49cd-a355-4ab77c36749f\")) {                    Plotly.newPlot(                        \"054f143f-c289-49cd-a355-4ab77c36749f\",                        [{\"alignmentgroup\": \"True\", \"bingroup\": \"x\", \"hovertemplate\": \"class=%{x}<br>count=%{y}<extra></extra>\", \"legendgroup\": \"g\", \"marker\": {\"color\": \"#00cc96\"}, \"name\": \"g\", \"offsetgroup\": \"g\", \"orientation\": \"v\", \"showlegend\": true, \"type\": \"histogram\", \"x\": [\"g\", \"g\", \"g\", \"g\", \"g\", \"g\", \"g\", \"g\", \"g\", \"g\", \"g\", \"g\", \"g\", \"g\", \"g\", \"g\", \"g\", \"g\", \"g\", \"g\", \"g\", \"g\", \"g\", \"g\", \"g\", \"g\", \"g\", \"g\", \"g\", \"g\", \"g\", \"g\", \"g\", \"g\", \"g\", \"g\", \"g\", \"g\", \"g\", \"g\", \"g\", \"g\", \"g\", \"g\", \"g\", \"g\", \"g\", \"g\", \"g\", \"g\", \"g\", \"g\", \"g\", \"g\", \"g\", \"g\", \"g\", \"g\", \"g\", \"g\", \"g\", \"g\", \"g\", \"g\", \"g\", \"g\", \"g\", \"g\", \"g\", \"g\", \"g\", \"g\", \"g\", \"g\", \"g\", \"g\", \"g\", \"g\", \"g\", \"g\", \"g\", \"g\", \"g\", \"g\", \"g\", \"g\", \"g\", \"g\", \"g\", \"g\", \"g\", \"g\", \"g\", \"g\", \"g\", \"g\", \"g\", \"g\", \"g\", \"g\", \"g\", \"g\", \"g\", \"g\", \"g\", \"g\", \"g\", \"g\", \"g\", \"g\", \"g\", \"g\", \"g\", \"g\", \"g\", \"g\", \"g\", \"g\", \"g\", \"g\", \"g\", \"g\", \"g\", \"g\", \"g\", \"g\", \"g\", \"g\", \"g\", \"g\", \"g\", \"g\", \"g\", \"g\", \"g\", \"g\", \"g\", \"g\", \"g\", \"g\", \"g\", \"g\", \"g\", \"g\", \"g\", \"g\", \"g\", \"g\", \"g\", \"g\", \"g\", \"g\", \"g\", \"g\", \"g\", \"g\", \"g\", \"g\", \"g\", \"g\", \"g\", \"g\", \"g\", \"g\", \"g\", \"g\", \"g\", \"g\", \"g\", \"g\", \"g\", \"g\", \"g\", \"g\", \"g\", \"g\", \"g\", \"g\", \"g\", \"g\", \"g\", \"g\", \"g\", \"g\", \"g\", \"g\", \"g\", \"g\", \"g\", \"g\", \"g\", \"g\", \"g\", \"g\", \"g\", \"g\", \"g\", \"g\", \"g\", \"g\", \"g\", \"g\", \"g\", \"g\", \"g\", \"g\", \"g\", \"g\", \"g\", \"g\", \"g\", \"g\", \"g\", \"g\", \"g\", \"g\", \"g\", \"g\", \"g\", \"g\", \"g\", \"g\", \"g\", \"g\", \"g\", \"g\", \"g\", \"g\", \"g\", \"g\", \"g\", \"g\", \"g\", \"g\", \"g\", \"g\", \"g\", \"g\", \"g\", \"g\", \"g\", \"g\", \"g\", \"g\", \"g\", \"g\", \"g\", \"g\", \"g\", \"g\", \"g\", \"g\", \"g\", \"g\", \"g\", \"g\", \"g\", \"g\", \"g\", \"g\", \"g\", \"g\", \"g\", \"g\", \"g\", \"g\", \"g\", \"g\", \"g\", \"g\", \"g\", \"g\", \"g\", \"g\", \"g\", \"g\", \"g\", \"g\", \"g\", \"g\", \"g\", \"g\", \"g\", \"g\", \"g\", \"g\", \"g\", \"g\", \"g\", \"g\", \"g\", \"g\", \"g\", \"g\", \"g\", \"g\", \"g\", \"g\", \"g\", \"g\", \"g\", \"g\", \"g\", \"g\", \"g\", \"g\", \"g\", \"g\", \"g\", \"g\", \"g\", \"g\", \"g\", \"g\", \"g\", \"g\", \"g\", \"g\", \"g\", \"g\", \"g\", \"g\", \"g\", \"g\", \"g\", \"g\", \"g\", \"g\", \"g\", \"g\", \"g\", \"g\", \"g\", \"g\", \"g\", \"g\", \"g\", \"g\", \"g\", \"g\", \"g\", \"g\", \"g\", \"g\", \"g\", \"g\", \"g\", \"g\", \"g\", \"g\", \"g\", \"g\", \"g\", \"g\", \"g\", \"g\", \"g\", \"g\", \"g\", \"g\", \"g\", \"g\", \"g\", \"g\", \"g\", \"g\", \"g\", \"g\", \"g\", \"g\", \"g\", \"g\", \"g\", \"g\", \"g\", \"g\", \"g\", \"g\", \"g\", \"g\", \"g\", \"g\", \"g\", \"g\", \"g\", \"g\", \"g\", \"g\", \"g\", \"g\", \"g\", \"g\", \"g\", \"g\", \"g\", \"g\", \"g\", \"g\", \"g\", \"g\", \"g\", \"g\", \"g\", \"g\", \"g\", \"g\", \"g\", \"g\", \"g\", \"g\", \"g\", \"g\", \"g\", \"g\", \"g\", \"g\", \"g\", \"g\", \"g\", \"g\", \"g\", \"g\", \"g\", \"g\", \"g\", \"g\", \"g\", \"g\", \"g\", \"g\", \"g\", \"g\", \"g\", \"g\", \"g\", \"g\", \"g\", \"g\", \"g\", \"g\", \"g\", \"g\", \"g\", \"g\", \"g\", \"g\", \"g\", \"g\", \"g\", \"g\", \"g\", \"g\", \"g\", \"g\", \"g\", \"g\", \"g\", \"g\", \"g\", \"g\", \"g\", \"g\", \"g\", \"g\", \"g\", \"g\", \"g\", \"g\", \"g\", \"g\", \"g\", \"g\", \"g\", \"g\", \"g\", \"g\", \"g\", \"g\", \"g\", \"g\", \"g\", \"g\", \"g\", \"g\", \"g\", \"g\", \"g\", \"g\", \"g\", \"g\", \"g\", \"g\", \"g\", \"g\", \"g\", \"g\", \"g\", \"g\", \"g\", \"g\", \"g\", \"g\", \"g\", \"g\", \"g\", \"g\", \"g\", \"g\", \"g\", \"g\", \"g\", \"g\", \"g\", \"g\", \"g\", \"g\", \"g\", \"g\", \"g\", \"g\", \"g\", \"g\", \"g\", \"g\", \"g\", \"g\", \"g\", \"g\", \"g\", \"g\", \"g\", \"g\", \"g\", \"g\", \"g\", \"g\", \"g\", \"g\", \"g\", \"g\", \"g\", \"g\", \"g\", \"g\", \"g\", \"g\", \"g\", \"g\", \"g\", \"g\", \"g\", \"g\", \"g\", \"g\", \"g\", \"g\", \"g\", \"g\", \"g\", \"g\", \"g\", \"g\", \"g\", \"g\", \"g\", \"g\", \"g\", \"g\", \"g\", \"g\", \"g\", \"g\", \"g\", \"g\", \"g\", \"g\", \"g\", \"g\", \"g\", \"g\", \"g\", \"g\", \"g\", \"g\", \"g\", \"g\", \"g\", \"g\", \"g\", \"g\", \"g\", \"g\", \"g\", \"g\", \"g\", \"g\", \"g\", \"g\", \"g\", \"g\", \"g\", \"g\", \"g\", \"g\", \"g\", \"g\", \"g\", \"g\", \"g\", \"g\", \"g\", \"g\", \"g\", \"g\", \"g\", \"g\", \"g\", \"g\", \"g\", \"g\", \"g\", \"g\", \"g\", \"g\", \"g\", \"g\", \"g\", \"g\", \"g\", \"g\", \"g\", \"g\", \"g\", \"g\", \"g\", \"g\", \"g\", \"g\", \"g\", \"g\", \"g\", \"g\", \"g\", \"g\", \"g\", \"g\", \"g\", \"g\", \"g\", \"g\", \"g\", \"g\", \"g\", \"g\", \"g\", \"g\", \"g\", \"g\", \"g\", \"g\", \"g\", \"g\", \"g\", \"g\", \"g\", \"g\", \"g\", \"g\", \"g\", \"g\", \"g\", \"g\", \"g\", \"g\", \"g\", \"g\", \"g\", \"g\", \"g\", \"g\", \"g\", \"g\", \"g\", \"g\", \"g\", \"g\", \"g\", \"g\", \"g\", \"g\", \"g\", \"g\", \"g\", \"g\", \"g\", \"g\", \"g\", \"g\", \"g\", \"g\", \"g\", \"g\", \"g\", \"g\", \"g\", \"g\", \"g\", \"g\", \"g\", \"g\", \"g\", \"g\", \"g\", \"g\", \"g\", \"g\", \"g\", \"g\", \"g\", \"g\", \"g\", \"g\", \"g\", \"g\", \"g\", \"g\", \"g\", \"g\", \"g\", \"g\", \"g\", \"g\", \"g\", \"g\", \"g\", \"g\", \"g\", \"g\", \"g\", \"g\", \"g\", \"g\", \"g\", \"g\", \"g\", \"g\", \"g\", \"g\", \"g\", \"g\", \"g\", \"g\", \"g\", \"g\", \"g\", \"g\", \"g\", \"g\", \"g\", \"g\", \"g\", \"g\", \"g\", \"g\", \"g\", \"g\", \"g\", \"g\", \"g\", \"g\", \"g\", \"g\", \"g\", \"g\", \"g\", \"g\", \"g\", \"g\", \"g\", \"g\", \"g\", \"g\", \"g\", \"g\", \"g\", \"g\", \"g\", \"g\", \"g\", \"g\", \"g\", \"g\", \"g\", \"g\", \"g\", \"g\", \"g\", \"g\", \"g\", \"g\", \"g\", \"g\", \"g\", \"g\", \"g\", \"g\", \"g\", \"g\", \"g\", \"g\", \"g\", \"g\", \"g\", \"g\", \"g\", \"g\", \"g\", \"g\", \"g\", \"g\", \"g\", \"g\", \"g\", \"g\", \"g\", \"g\", \"g\", \"g\", \"g\", \"g\", \"g\", \"g\", \"g\", \"g\", \"g\", \"g\", \"g\", \"g\", \"g\", \"g\", \"g\", \"g\", \"g\", \"g\", \"g\", \"g\", \"g\", \"g\", \"g\", \"g\", \"g\", \"g\", \"g\", \"g\", \"g\", \"g\", \"g\", \"g\", \"g\", \"g\", \"g\", \"g\", \"g\", \"g\", \"g\", \"g\", \"g\", \"g\", \"g\", \"g\", \"g\", \"g\", \"g\", \"g\", \"g\", \"g\", \"g\", \"g\", \"g\", \"g\", \"g\", \"g\", \"g\", \"g\", \"g\", \"g\", \"g\", \"g\", \"g\", \"g\", \"g\", \"g\", \"g\", \"g\", \"g\", \"g\", \"g\", \"g\", \"g\", \"g\", \"g\", \"g\", \"g\", \"g\", \"g\", \"g\", \"g\", \"g\", \"g\", \"g\", \"g\", \"g\", \"g\", \"g\", \"g\", \"g\", \"g\", \"g\", \"g\", \"g\", \"g\", \"g\", \"g\", \"g\", \"g\", \"g\", \"g\", \"g\", \"g\", \"g\", \"g\", \"g\", \"g\", \"g\", \"g\", \"g\", \"g\", \"g\", \"g\", \"g\", \"g\", \"g\", \"g\", \"g\", \"g\", \"g\", \"g\", \"g\", \"g\", \"g\", \"g\", \"g\", \"g\", \"g\", \"g\", \"g\", \"g\", \"g\", \"g\", \"g\", \"g\", \"g\", \"g\", \"g\", \"g\", \"g\", \"g\", \"g\", \"g\", \"g\", \"g\", \"g\", \"g\", \"g\", \"g\", \"g\", \"g\", \"g\", \"g\", \"g\", \"g\", \"g\", \"g\", \"g\", \"g\", \"g\", \"g\", \"g\", \"g\", \"g\", \"g\", \"g\", \"g\", \"g\", \"g\", \"g\", \"g\", \"g\", \"g\", \"g\", \"g\", \"g\", \"g\", \"g\", \"g\", \"g\", \"g\", \"g\", \"g\", \"g\", \"g\", \"g\", \"g\", \"g\", \"g\", \"g\", \"g\", \"g\", \"g\", \"g\", \"g\", \"g\", \"g\", \"g\", \"g\", \"g\", \"g\", \"g\", \"g\", \"g\", \"g\", \"g\", \"g\", \"g\", \"g\", \"g\", \"g\", \"g\", \"g\", \"g\", \"g\", \"g\", \"g\", \"g\", \"g\", \"g\", \"g\", \"g\", \"g\", \"g\", \"g\", \"g\", \"g\", \"g\", \"g\", \"g\", \"g\", \"g\", \"g\", \"g\", \"g\", \"g\", \"g\", \"g\", \"g\", \"g\", \"g\", \"g\", \"g\", \"g\", \"g\", \"g\", \"g\", \"g\", \"g\", \"g\", \"g\", \"g\", \"g\", \"g\", \"g\", \"g\", \"g\", \"g\", \"g\", \"g\", \"g\", \"g\", \"g\", \"g\", \"g\", \"g\", \"g\", \"g\", \"g\", \"g\", \"g\", \"g\", \"g\", \"g\", \"g\", \"g\", \"g\", \"g\", \"g\", \"g\", \"g\", \"g\", \"g\", \"g\", \"g\", \"g\", \"g\", \"g\", \"g\", \"g\", \"g\", \"g\", \"g\", \"g\", \"g\", \"g\", \"g\", \"g\", \"g\", \"g\", \"g\", \"g\", \"g\", \"g\", \"g\", \"g\", \"g\", \"g\", \"g\", \"g\", \"g\", \"g\", \"g\", \"g\", \"g\", \"g\", \"g\", \"g\", \"g\", \"g\", \"g\", \"g\", \"g\", \"g\", \"g\", \"g\", \"g\", \"g\", \"g\", \"g\", \"g\", \"g\", \"g\", \"g\", \"g\", \"g\", \"g\", \"g\", \"g\", \"g\", \"g\", \"g\", \"g\", \"g\", \"g\", \"g\", \"g\", \"g\", \"g\", \"g\", \"g\", \"g\", \"g\", \"g\", \"g\", \"g\", \"g\", \"g\", \"g\", \"g\", \"g\", \"g\", \"g\", \"g\", \"g\", \"g\", \"g\", \"g\", \"g\", \"g\", \"g\", \"g\", \"g\", \"g\", \"g\", \"g\", \"g\", \"g\", \"g\", \"g\", \"g\", \"g\", \"g\", \"g\", \"g\", \"g\", \"g\", \"g\", \"g\", \"g\", \"g\", \"g\", \"g\", \"g\", \"g\", \"g\", \"g\", \"g\", \"g\", \"g\", \"g\", \"g\", \"g\", \"g\", \"g\", \"g\", \"g\", \"g\", \"g\", \"g\", \"g\", \"g\", \"g\", \"g\", \"g\", \"g\", \"g\", \"g\", \"g\", \"g\", \"g\", \"g\", \"g\", \"g\", \"g\", \"g\", \"g\", \"g\", \"g\", \"g\", \"g\", \"g\", \"g\", \"g\", \"g\", \"g\", \"g\", \"g\", \"g\", \"g\", \"g\", \"g\", \"g\", \"g\", \"g\", \"g\", \"g\", \"g\", \"g\", \"g\", \"g\", \"g\", \"g\", \"g\", \"g\", \"g\", \"g\", \"g\", \"g\", \"g\", \"g\", \"g\", \"g\", \"g\", \"g\", \"g\", \"g\", \"g\", \"g\", \"g\", \"g\", \"g\", \"g\", \"g\", \"g\", \"g\", \"g\", \"g\", \"g\", \"g\", \"g\", \"g\", \"g\", \"g\", \"g\", \"g\", \"g\", \"g\", \"g\", \"g\", \"g\", \"g\", \"g\", \"g\", \"g\", \"g\", \"g\", \"g\", \"g\", \"g\", \"g\", \"g\", \"g\", \"g\", \"g\", \"g\", \"g\", \"g\", \"g\", \"g\", \"g\", \"g\", \"g\", \"g\", \"g\", \"g\", \"g\", \"g\", \"g\", \"g\", \"g\", \"g\", \"g\", \"g\", \"g\", \"g\", \"g\", \"g\", \"g\", \"g\", \"g\", \"g\", \"g\", \"g\", \"g\", \"g\", \"g\", \"g\", \"g\", \"g\", \"g\", \"g\", \"g\", \"g\", \"g\", \"g\", \"g\", \"g\", \"g\", \"g\", \"g\", \"g\", \"g\", \"g\", \"g\", \"g\", \"g\", \"g\", \"g\", \"g\", \"g\", \"g\", \"g\", \"g\", \"g\", \"g\", \"g\", \"g\", \"g\", \"g\", \"g\", \"g\", \"g\", \"g\", \"g\", \"g\", \"g\", \"g\", \"g\", \"g\", \"g\", \"g\", \"g\", \"g\", \"g\", \"g\", \"g\", \"g\", \"g\", \"g\", \"g\", \"g\", \"g\", \"g\", \"g\", \"g\", \"g\", \"g\", \"g\", \"g\", \"g\", \"g\", \"g\", \"g\", \"g\", \"g\", \"g\", \"g\", \"g\", \"g\", \"g\", \"g\", \"g\", \"g\", \"g\", \"g\", \"g\", \"g\", \"g\", \"g\", \"g\", \"g\", \"g\", \"g\", \"g\", \"g\", \"g\", \"g\", \"g\", \"g\", \"g\", \"g\", \"g\", \"g\", \"g\", \"g\", \"g\", \"g\", \"g\", \"g\", \"g\", \"g\", \"g\", \"g\", \"g\", \"g\", \"g\", \"g\", \"g\", \"g\", \"g\", \"g\", \"g\", \"g\", \"g\", \"g\", \"g\", \"g\", \"g\", \"g\", \"g\", \"g\", \"g\", \"g\", \"g\", \"g\", \"g\", \"g\", \"g\", \"g\", \"g\", \"g\", \"g\", \"g\", \"g\", \"g\", \"g\", \"g\", \"g\", \"g\", \"g\", \"g\", \"g\", \"g\", \"g\", \"g\", \"g\", \"g\", \"g\", \"g\", \"g\", \"g\", \"g\", \"g\", \"g\", \"g\", \"g\", \"g\", \"g\", \"g\", \"g\", \"g\", \"g\", \"g\", \"g\", \"g\", \"g\", \"g\", \"g\", \"g\", \"g\", \"g\", \"g\", \"g\", \"g\", \"g\", \"g\", \"g\", \"g\", \"g\", \"g\", \"g\", \"g\", \"g\", \"g\", \"g\", \"g\", \"g\", \"g\", \"g\", \"g\", \"g\", \"g\", \"g\", \"g\", \"g\", \"g\", \"g\", \"g\", \"g\", \"g\", \"g\", \"g\", \"g\", \"g\", \"g\", \"g\", \"g\", \"g\", \"g\", \"g\", \"g\", \"g\", \"g\", \"g\", \"g\", \"g\", \"g\", \"g\", \"g\", \"g\", \"g\", \"g\", \"g\", \"g\", \"g\", \"g\", \"g\", \"g\", \"g\", \"g\", \"g\", \"g\", \"g\", \"g\", \"g\", \"g\", \"g\", \"g\", \"g\", \"g\", \"g\", \"g\", \"g\", \"g\", \"g\", \"g\", \"g\", \"g\", \"g\", \"g\", \"g\", \"g\", \"g\", \"g\", \"g\", \"g\", \"g\", \"g\", \"g\", \"g\", \"g\", \"g\", \"g\", \"g\", \"g\", \"g\", \"g\", \"g\", \"g\", \"g\", \"g\", \"g\", \"g\", \"g\", \"g\", \"g\", \"g\", \"g\", \"g\", \"g\", \"g\", \"g\", \"g\", \"g\", \"g\", \"g\", \"g\", \"g\", \"g\", \"g\", \"g\", \"g\", \"g\", \"g\", \"g\", \"g\", \"g\", \"g\", \"g\", \"g\", \"g\", \"g\", \"g\", \"g\", \"g\", \"g\", \"g\", \"g\", \"g\", \"g\", \"g\", \"g\", \"g\", \"g\", \"g\", \"g\", \"g\", \"g\", \"g\", \"g\", \"g\", \"g\", \"g\", \"g\", \"g\", \"g\", \"g\", \"g\", \"g\", \"g\", \"g\", \"g\", \"g\", \"g\", \"g\", \"g\", \"g\", \"g\", \"g\", \"g\", \"g\", \"g\", \"g\", \"g\", \"g\", \"g\", \"g\", \"g\", \"g\", \"g\", \"g\", \"g\", \"g\", \"g\", \"g\", \"g\", \"g\", \"g\", \"g\", \"g\", \"g\", \"g\", \"g\", \"g\", \"g\", \"g\", \"g\", \"g\", \"g\", \"g\", \"g\", \"g\", \"g\", \"g\", \"g\", \"g\", \"g\", \"g\", \"g\", \"g\", \"g\", \"g\", \"g\", \"g\", \"g\", \"g\", \"g\", \"g\", \"g\", \"g\", \"g\", \"g\", \"g\", \"g\", \"g\", \"g\", \"g\", \"g\", \"g\", \"g\", \"g\", \"g\", \"g\", \"g\", \"g\", \"g\", \"g\", \"g\", \"g\", \"g\", \"g\", \"g\", \"g\", \"g\", \"g\", \"g\", \"g\", \"g\", \"g\", \"g\", \"g\", \"g\", \"g\", \"g\", \"g\", \"g\", \"g\", \"g\", \"g\", \"g\", \"g\", \"g\", \"g\", \"g\", \"g\", \"g\", \"g\", \"g\", \"g\", \"g\", \"g\", \"g\", \"g\", \"g\", \"g\", \"g\", \"g\", \"g\", \"g\", \"g\", \"g\", \"g\", \"g\", \"g\", \"g\", \"g\", \"g\", \"g\", \"g\", \"g\", \"g\", \"g\", \"g\", \"g\", \"g\", \"g\", \"g\", \"g\", \"g\", \"g\", \"g\", \"g\", \"g\", \"g\", \"g\", \"g\", \"g\", \"g\", \"g\", \"g\", \"g\", \"g\", \"g\", \"g\", \"g\", \"g\", \"g\", \"g\", \"g\", \"g\", \"g\", \"g\", \"g\", \"g\", \"g\", \"g\", \"g\", \"g\", \"g\", \"g\", \"g\", \"g\", \"g\", \"g\", \"g\", \"g\", \"g\", \"g\", \"g\", \"g\", \"g\", \"g\", \"g\", \"g\", \"g\", \"g\", \"g\", \"g\", \"g\", \"g\", \"g\", \"g\", \"g\", \"g\", \"g\", \"g\", \"g\", \"g\", \"g\", \"g\", \"g\", \"g\", \"g\", \"g\", \"g\", \"g\", \"g\", \"g\", \"g\", \"g\", \"g\", \"g\", \"g\", \"g\", \"g\", \"g\", \"g\", \"g\", \"g\", \"g\", \"g\", \"g\", \"g\", \"g\", \"g\", \"g\", \"g\", \"g\", \"g\", \"g\", \"g\", \"g\", \"g\", \"g\", \"g\", \"g\", \"g\", \"g\", \"g\", \"g\", \"g\", \"g\", \"g\", \"g\", \"g\", \"g\", \"g\", \"g\", \"g\", \"g\", \"g\", \"g\", \"g\", \"g\", \"g\", \"g\", \"g\", \"g\", \"g\", \"g\", \"g\", \"g\", \"g\", \"g\", \"g\", \"g\", \"g\", \"g\", \"g\", \"g\", \"g\", \"g\", \"g\", \"g\", \"g\", \"g\", \"g\", \"g\", \"g\", \"g\", \"g\", \"g\", \"g\", \"g\", \"g\", \"g\", \"g\", \"g\", \"g\", \"g\", \"g\", \"g\", \"g\", \"g\", \"g\", \"g\", \"g\", \"g\", \"g\", \"g\", \"g\", \"g\", \"g\", \"g\", \"g\", \"g\", \"g\", \"g\", \"g\", \"g\", \"g\", \"g\", \"g\", \"g\", \"g\", \"g\", \"g\", \"g\", \"g\", \"g\", \"g\", \"g\", \"g\", \"g\", \"g\", \"g\", \"g\", \"g\", \"g\", \"g\", \"g\", \"g\", \"g\", \"g\", \"g\", \"g\", \"g\", \"g\", \"g\", \"g\", \"g\", \"g\", \"g\", \"g\", \"g\", \"g\", \"g\", \"g\", \"g\", \"g\", \"g\", \"g\", \"g\", \"g\", \"g\", \"g\", \"g\", \"g\", \"g\", \"g\", \"g\", \"g\", \"g\", \"g\", \"g\", \"g\", \"g\", \"g\", \"g\", \"g\", \"g\", \"g\", \"g\", \"g\", \"g\", \"g\", \"g\", \"g\", \"g\", \"g\", \"g\", \"g\", \"g\", \"g\", \"g\", \"g\", \"g\", \"g\", \"g\", \"g\", \"g\", \"g\", \"g\", \"g\", \"g\", \"g\", \"g\", \"g\", \"g\", \"g\", \"g\", \"g\", \"g\", \"g\", \"g\", \"g\", \"g\", \"g\", \"g\", \"g\", \"g\", \"g\", \"g\", \"g\", \"g\", \"g\", \"g\", \"g\", \"g\", \"g\", \"g\", \"g\", \"g\", \"g\", \"g\", \"g\", \"g\", \"g\", \"g\", \"g\", \"g\", \"g\", \"g\", \"g\", \"g\", \"g\", \"g\", \"g\", \"g\", \"g\", \"g\", \"g\", \"g\", \"g\", \"g\", \"g\", \"g\", \"g\", \"g\", \"g\", \"g\", \"g\", \"g\", \"g\", \"g\", \"g\", \"g\", \"g\", \"g\", \"g\", \"g\", \"g\", \"g\", \"g\", \"g\", \"g\", \"g\", \"g\", \"g\", \"g\", \"g\", \"g\", \"g\", \"g\", \"g\", \"g\", \"g\", \"g\", \"g\", \"g\", \"g\", \"g\", \"g\", \"g\", \"g\", \"g\", \"g\", \"g\", \"g\", \"g\", \"g\", \"g\", \"g\", \"g\", \"g\", \"g\", \"g\", \"g\", \"g\", \"g\", \"g\", \"g\", \"g\", \"g\", \"g\", \"g\", \"g\", \"g\", \"g\", \"g\", \"g\", \"g\", \"g\", \"g\", \"g\", \"g\", \"g\", \"g\", \"g\", \"g\", \"g\", \"g\", \"g\", \"g\", \"g\", \"g\", \"g\", \"g\", \"g\", \"g\", \"g\", \"g\", \"g\", \"g\", \"g\", \"g\", \"g\", \"g\", \"g\", \"g\", \"g\", \"g\", \"g\", \"g\", \"g\", \"g\", \"g\", \"g\", \"g\", \"g\", \"g\", \"g\", \"g\", \"g\", \"g\", \"g\", \"g\", \"g\", \"g\", \"g\", \"g\", \"g\", \"g\", \"g\", \"g\", \"g\", \"g\", \"g\", \"g\", \"g\", \"g\", \"g\", \"g\", \"g\", \"g\", \"g\", \"g\", \"g\", \"g\", \"g\", \"g\", \"g\", \"g\", \"g\", \"g\", \"g\", \"g\", \"g\", \"g\", \"g\", \"g\", \"g\", \"g\", \"g\", \"g\", \"g\", \"g\", \"g\", \"g\", \"g\", \"g\", \"g\", \"g\", \"g\", \"g\", \"g\", \"g\", \"g\", \"g\", \"g\", \"g\", \"g\", \"g\", \"g\", \"g\", \"g\", \"g\", \"g\", \"g\", \"g\", \"g\", \"g\", \"g\", \"g\", \"g\", \"g\", \"g\", \"g\", \"g\", \"g\", \"g\", \"g\", \"g\", \"g\", \"g\", \"g\", \"g\", \"g\", \"g\", \"g\", \"g\", \"g\", \"g\", \"g\", \"g\", \"g\", \"g\", \"g\", \"g\", \"g\", \"g\", \"g\", \"g\", \"g\", \"g\", \"g\", \"g\", \"g\", \"g\", \"g\", \"g\", \"g\", \"g\", \"g\", \"g\", \"g\", \"g\", \"g\", \"g\", \"g\", \"g\", \"g\", \"g\", \"g\", \"g\", \"g\", \"g\", \"g\", \"g\", \"g\", \"g\", \"g\", \"g\", \"g\", \"g\", \"g\", \"g\", \"g\", \"g\", \"g\", \"g\", \"g\", \"g\", \"g\", \"g\", \"g\", \"g\", \"g\", \"g\", \"g\", \"g\", \"g\", \"g\", \"g\", \"g\", \"g\", \"g\", \"g\", \"g\", \"g\", \"g\", \"g\", \"g\", \"g\", \"g\", \"g\", \"g\", \"g\", \"g\", \"g\", \"g\", \"g\", \"g\", \"g\", \"g\", \"g\", \"g\", \"g\", \"g\", \"g\", \"g\", \"g\", \"g\", \"g\", \"g\", \"g\", \"g\", \"g\", \"g\", \"g\", \"g\", \"g\", \"g\", \"g\", \"g\", \"g\", \"g\", \"g\", \"g\", \"g\", \"g\", \"g\", \"g\", \"g\", \"g\", \"g\", \"g\", \"g\", \"g\", \"g\", \"g\", \"g\", \"g\", \"g\", \"g\", \"g\", \"g\", \"g\", \"g\", \"g\", \"g\", \"g\", \"g\", \"g\", \"g\", \"g\", \"g\", \"g\", \"g\", \"g\", \"g\", \"g\", \"g\", \"g\", \"g\", \"g\", \"g\", \"g\", \"g\", \"g\", \"g\", \"g\", \"g\", \"g\", \"g\", \"g\", \"g\", \"g\", \"g\", \"g\", \"g\", \"g\", \"g\", \"g\", \"g\", \"g\", \"g\", \"g\", \"g\", \"g\", \"g\", \"g\", \"g\", \"g\", \"g\", \"g\", \"g\", \"g\", \"g\", \"g\", \"g\", \"g\", \"g\", \"g\", \"g\", \"g\", \"g\", \"g\", \"g\", \"g\", \"g\", \"g\", \"g\", \"g\", \"g\", \"g\", \"g\", \"g\", \"g\", \"g\", \"g\", \"g\", \"g\", \"g\", \"g\", \"g\", \"g\", \"g\", \"g\", \"g\", \"g\", \"g\", \"g\", \"g\", \"g\", \"g\", \"g\", \"g\", \"g\", \"g\", \"g\", \"g\", \"g\", \"g\", \"g\", \"g\", \"g\", \"g\", \"g\", \"g\", \"g\", \"g\", \"g\", \"g\", \"g\", \"g\", \"g\", \"g\", \"g\", \"g\", \"g\", \"g\", \"g\", \"g\", \"g\", \"g\", \"g\", \"g\", \"g\", \"g\", \"g\", \"g\", \"g\", \"g\", \"g\", \"g\", \"g\", \"g\", \"g\", \"g\", \"g\", \"g\", \"g\", \"g\", \"g\", \"g\", \"g\", \"g\", \"g\", \"g\", \"g\", \"g\", \"g\", \"g\", \"g\", \"g\", \"g\", \"g\", \"g\", \"g\", \"g\", \"g\", \"g\", \"g\", \"g\", \"g\", \"g\", \"g\", \"g\", \"g\", \"g\", \"g\", \"g\", \"g\", \"g\", \"g\", \"g\", \"g\", \"g\", \"g\", \"g\", \"g\", \"g\", \"g\", \"g\", \"g\", \"g\", \"g\", \"g\", \"g\", \"g\", \"g\", \"g\", \"g\", \"g\", \"g\", \"g\", \"g\", \"g\", \"g\", \"g\", \"g\", \"g\", \"g\", \"g\", \"g\", \"g\", \"g\", \"g\", \"g\", \"g\", \"g\", \"g\", \"g\", \"g\", \"g\", \"g\", \"g\", \"g\", \"g\", \"g\", \"g\", \"g\", \"g\", \"g\", \"g\", \"g\", \"g\", \"g\", \"g\", \"g\", \"g\", \"g\", \"g\", \"g\", \"g\", \"g\", \"g\", \"g\", \"g\", \"g\", \"g\", \"g\", \"g\", \"g\", \"g\", \"g\", \"g\", \"g\", \"g\", \"g\", \"g\", \"g\", \"g\", \"g\", \"g\", \"g\", \"g\", \"g\", \"g\", \"g\", \"g\", \"g\", \"g\", \"g\", \"g\", \"g\", \"g\", \"g\", \"g\", \"g\", \"g\", \"g\", \"g\", \"g\", \"g\", \"g\", \"g\", \"g\", \"g\", \"g\", \"g\", \"g\", \"g\", \"g\", \"g\", \"g\", \"g\", \"g\", \"g\", \"g\", \"g\", \"g\", \"g\", \"g\", \"g\", \"g\", \"g\", \"g\", \"g\", \"g\", \"g\", \"g\", \"g\", \"g\", \"g\", \"g\", \"g\", \"g\", \"g\", \"g\", \"g\", \"g\", \"g\", \"g\", \"g\", \"g\", \"g\", \"g\", \"g\", \"g\", \"g\", \"g\", \"g\", \"g\", \"g\", \"g\", \"g\", \"g\", \"g\", \"g\", \"g\", \"g\", \"g\", \"g\", \"g\", \"g\", \"g\", \"g\", \"g\", \"g\", \"g\", \"g\", \"g\", \"g\", \"g\", \"g\", \"g\", \"g\", \"g\", \"g\", \"g\", \"g\", \"g\", \"g\", \"g\", \"g\", \"g\", \"g\", \"g\", \"g\", \"g\", \"g\", \"g\", \"g\", \"g\", \"g\", \"g\", \"g\", \"g\", \"g\", \"g\", \"g\", \"g\", \"g\", \"g\", \"g\", \"g\", \"g\", \"g\", \"g\", \"g\", \"g\", \"g\", \"g\", \"g\", \"g\", \"g\", \"g\", \"g\", \"g\", \"g\", \"g\", \"g\", \"g\", \"g\", \"g\", \"g\", \"g\", \"g\", \"g\", \"g\", \"g\", \"g\", \"g\", \"g\", \"g\", \"g\", \"g\", \"g\", \"g\", \"g\", \"g\", \"g\", \"g\", \"g\", \"g\", \"g\", \"g\", \"g\", \"g\", \"g\", \"g\", \"g\", \"g\", \"g\", \"g\", \"g\", \"g\", \"g\", \"g\", \"g\", \"g\", \"g\", \"g\", \"g\", \"g\", \"g\", \"g\", \"g\", \"g\", \"g\", \"g\", \"g\", \"g\", \"g\", \"g\", \"g\", \"g\", \"g\", \"g\", \"g\", \"g\", \"g\", \"g\", \"g\", \"g\", \"g\", \"g\", \"g\", \"g\", \"g\", \"g\", \"g\", \"g\", \"g\", \"g\", \"g\", \"g\", \"g\", \"g\", \"g\", \"g\", \"g\", \"g\", \"g\", \"g\", \"g\", \"g\", \"g\", \"g\", \"g\", \"g\", \"g\", \"g\", \"g\", \"g\", \"g\", \"g\", \"g\", \"g\", \"g\", \"g\", \"g\", \"g\", \"g\", \"g\", \"g\", \"g\", \"g\", \"g\", \"g\", \"g\", \"g\", \"g\", \"g\", \"g\", \"g\", \"g\", \"g\", \"g\", \"g\", \"g\", \"g\", \"g\", \"g\", \"g\", \"g\", \"g\", \"g\", \"g\", \"g\", \"g\", \"g\", \"g\", \"g\", \"g\", \"g\", \"g\", \"g\", \"g\", \"g\", \"g\", \"g\", \"g\", \"g\", \"g\", \"g\", \"g\", \"g\", \"g\", \"g\", \"g\", \"g\", \"g\", \"g\", \"g\", \"g\", \"g\", \"g\", \"g\", \"g\", \"g\", \"g\", \"g\", \"g\", \"g\", \"g\", \"g\", \"g\", \"g\", \"g\", \"g\", \"g\", \"g\", \"g\", \"g\", \"g\", \"g\", \"g\", \"g\", \"g\", \"g\", \"g\", \"g\", \"g\", \"g\", \"g\", \"g\", \"g\", \"g\", \"g\", \"g\", \"g\", \"g\", \"g\", \"g\", \"g\", \"g\", \"g\", \"g\", \"g\", \"g\", \"g\", \"g\", \"g\", \"g\", \"g\", \"g\", \"g\", \"g\", \"g\", \"g\", \"g\", \"g\", \"g\", \"g\", \"g\", \"g\", \"g\", \"g\", \"g\", \"g\", \"g\", \"g\", \"g\", \"g\", \"g\", \"g\", \"g\", \"g\", \"g\", \"g\", \"g\", \"g\", \"g\", \"g\", \"g\", \"g\", \"g\", \"g\", \"g\", \"g\", \"g\", \"g\", \"g\", \"g\", \"g\", \"g\", \"g\", \"g\", \"g\", \"g\", \"g\", \"g\", \"g\", \"g\", \"g\", \"g\", \"g\", \"g\", \"g\", \"g\", \"g\", \"g\", \"g\", \"g\", \"g\", \"g\", \"g\", \"g\", \"g\", \"g\", \"g\", \"g\", \"g\", \"g\", \"g\", \"g\", \"g\", \"g\", \"g\", \"g\", \"g\", \"g\", \"g\", \"g\", \"g\", \"g\", \"g\", \"g\", \"g\", \"g\", \"g\", \"g\", \"g\", \"g\", \"g\", \"g\", \"g\", \"g\", \"g\", \"g\", \"g\", \"g\", \"g\", \"g\", \"g\", \"g\", \"g\", \"g\", \"g\", \"g\", \"g\", \"g\", \"g\", \"g\", \"g\", \"g\", \"g\", \"g\", \"g\", \"g\", \"g\", \"g\", \"g\", \"g\", \"g\", \"g\", \"g\", \"g\", \"g\", \"g\", \"g\", \"g\", \"g\", \"g\", \"g\", \"g\", \"g\", \"g\", \"g\", \"g\", \"g\", \"g\", \"g\", \"g\", \"g\", \"g\", \"g\", \"g\", \"g\", \"g\", \"g\", \"g\", \"g\", \"g\", \"g\", \"g\", \"g\", \"g\", \"g\", \"g\", \"g\", \"g\", \"g\", \"g\", \"g\", \"g\", \"g\", \"g\", \"g\", \"g\", \"g\", \"g\", \"g\", \"g\", \"g\", \"g\", \"g\", \"g\", \"g\", \"g\", \"g\", \"g\", \"g\", \"g\", \"g\", \"g\", \"g\", \"g\", \"g\", \"g\", \"g\", \"g\", \"g\", \"g\", \"g\", \"g\", \"g\", \"g\", \"g\", \"g\", \"g\", \"g\", \"g\", \"g\", \"g\", \"g\", \"g\", \"g\", \"g\", \"g\", \"g\", \"g\", \"g\", \"g\", \"g\", \"g\", \"g\", \"g\", \"g\", \"g\", \"g\", \"g\", \"g\", \"g\", \"g\", \"g\", \"g\", \"g\", \"g\", \"g\", \"g\", \"g\", \"g\", \"g\", \"g\", \"g\", \"g\", \"g\", \"g\", \"g\", \"g\", \"g\", \"g\", \"g\", \"g\", \"g\", \"g\", \"g\", \"g\", \"g\", \"g\", \"g\", \"g\", \"g\", \"g\", \"g\", \"g\", \"g\", \"g\", \"g\", \"g\", \"g\", \"g\", \"g\", \"g\", \"g\", \"g\", \"g\", \"g\", \"g\", \"g\", \"g\", \"g\", \"g\", \"g\", \"g\", \"g\", \"g\", \"g\", \"g\", \"g\", \"g\", \"g\", \"g\", \"g\", \"g\", \"g\", \"g\", \"g\", \"g\", \"g\", \"g\", \"g\", \"g\", \"g\", \"g\", \"g\", \"g\", \"g\", \"g\", \"g\", \"g\", \"g\", \"g\", \"g\", \"g\", \"g\", \"g\", \"g\", \"g\", \"g\", \"g\", \"g\", \"g\", \"g\", \"g\", \"g\", \"g\", \"g\", \"g\", \"g\", \"g\", \"g\", \"g\", \"g\", \"g\", \"g\", \"g\", \"g\", \"g\", \"g\", \"g\", \"g\", \"g\", \"g\", \"g\", \"g\", \"g\", \"g\", \"g\", \"g\", \"g\", \"g\", \"g\", \"g\", \"g\", \"g\", \"g\", \"g\", \"g\", \"g\", \"g\", \"g\", \"g\", \"g\", \"g\", \"g\", \"g\", \"g\", \"g\", \"g\", \"g\", \"g\", \"g\", \"g\", \"g\", \"g\", \"g\", \"g\", \"g\", \"g\", \"g\", \"g\", \"g\", \"g\", \"g\", \"g\", \"g\", \"g\", \"g\", \"g\", \"g\", \"g\", \"g\", \"g\", \"g\", \"g\", \"g\", \"g\", \"g\", \"g\", \"g\", \"g\", \"g\", \"g\", \"g\", \"g\", \"g\", \"g\", \"g\", \"g\", \"g\", \"g\", \"g\", \"g\", \"g\", \"g\", \"g\", \"g\", \"g\", \"g\", \"g\", \"g\", \"g\", \"g\", \"g\", \"g\", \"g\", \"g\", \"g\", \"g\", \"g\", \"g\", \"g\", \"g\", \"g\", \"g\", \"g\", \"g\", \"g\", \"g\", \"g\", \"g\", \"g\", \"g\", \"g\", \"g\", \"g\", \"g\", \"g\", \"g\", \"g\", \"g\", \"g\", \"g\", \"g\", \"g\", \"g\", \"g\", \"g\", \"g\", \"g\", \"g\", \"g\", \"g\", \"g\", \"g\", \"g\", \"g\", \"g\", \"g\", \"g\", \"g\", \"g\", \"g\", \"g\", \"g\", \"g\", \"g\", \"g\", \"g\", \"g\", \"g\", \"g\", \"g\", \"g\", \"g\", \"g\", \"g\", \"g\", \"g\", \"g\", \"g\", \"g\", \"g\", \"g\", \"g\", \"g\", \"g\", \"g\", \"g\", \"g\", \"g\", \"g\", \"g\", \"g\", \"g\", \"g\", \"g\", \"g\", \"g\", \"g\", \"g\", \"g\", \"g\", \"g\", \"g\", \"g\", \"g\", \"g\", \"g\", \"g\", \"g\", \"g\", \"g\", \"g\", \"g\", \"g\", \"g\", \"g\", \"g\", \"g\", \"g\", \"g\", \"g\", \"g\", \"g\", \"g\", \"g\", \"g\", \"g\", \"g\", \"g\", \"g\", \"g\", \"g\", \"g\", \"g\", \"g\", \"g\", \"g\", \"g\", \"g\", \"g\", \"g\", \"g\", \"g\", \"g\", \"g\", \"g\", \"g\", \"g\", \"g\", \"g\", \"g\", \"g\", \"g\", \"g\", \"g\", \"g\", \"g\", \"g\", \"g\", \"g\", \"g\", \"g\", \"g\", \"g\", \"g\", \"g\", \"g\", \"g\", \"g\", \"g\", \"g\", \"g\", \"g\", \"g\", \"g\", \"g\", \"g\", \"g\", \"g\", \"g\", \"g\", \"g\", \"g\", \"g\", \"g\", \"g\", \"g\", \"g\", \"g\", \"g\", \"g\", \"g\", \"g\", \"g\", \"g\", \"g\", \"g\", \"g\", \"g\", \"g\", \"g\", \"g\", \"g\", \"g\", \"g\", \"g\", \"g\", \"g\", \"g\", \"g\", \"g\", \"g\", \"g\", \"g\", \"g\", \"g\", \"g\", \"g\", \"g\", \"g\", \"g\", \"g\", \"g\", \"g\", \"g\", \"g\", \"g\", \"g\", \"g\", \"g\", \"g\", \"g\", \"g\", \"g\", \"g\", \"g\", \"g\", \"g\", \"g\", \"g\", \"g\", \"g\", \"g\", \"g\", \"g\", \"g\", \"g\", \"g\", \"g\", \"g\", \"g\", \"g\", \"g\", \"g\", \"g\", \"g\", \"g\", \"g\", \"g\", \"g\", \"g\", \"g\", \"g\", \"g\", \"g\", \"g\", \"g\", \"g\", \"g\", \"g\", \"g\", \"g\", \"g\", \"g\", \"g\", \"g\", \"g\", \"g\", \"g\", \"g\", \"g\", \"g\", \"g\", \"g\", \"g\", \"g\", \"g\", \"g\", \"g\", \"g\", \"g\", \"g\", \"g\", \"g\", \"g\", \"g\", \"g\", \"g\", \"g\", \"g\", \"g\", \"g\", \"g\", \"g\", \"g\", \"g\", \"g\", \"g\", \"g\", \"g\", \"g\", \"g\", \"g\", \"g\", \"g\", \"g\", \"g\", \"g\", \"g\", \"g\", \"g\", \"g\", \"g\", \"g\", \"g\", \"g\", \"g\", \"g\", \"g\", \"g\", \"g\", \"g\", \"g\", \"g\", \"g\", \"g\", \"g\", \"g\", \"g\", \"g\", \"g\", \"g\", \"g\", \"g\", \"g\", \"g\", \"g\", \"g\", \"g\", \"g\", \"g\", \"g\", \"g\", \"g\", \"g\", \"g\", \"g\", \"g\", \"g\", \"g\", \"g\", \"g\", \"g\", \"g\", \"g\", \"g\", \"g\", \"g\", \"g\", \"g\", \"g\", \"g\", \"g\", \"g\", \"g\", \"g\", \"g\", \"g\", \"g\", \"g\", \"g\", \"g\", \"g\", \"g\", \"g\", \"g\", \"g\", \"g\", \"g\", \"g\", \"g\", \"g\", \"g\", \"g\", \"g\", \"g\", \"g\", \"g\", \"g\", \"g\", \"g\", \"g\", \"g\", \"g\", \"g\", \"g\", \"g\", \"g\", \"g\", \"g\", \"g\", \"g\", \"g\", \"g\", \"g\", \"g\", \"g\", \"g\", \"g\", \"g\", \"g\", \"g\", \"g\", \"g\", \"g\", \"g\", \"g\", \"g\", \"g\", \"g\", \"g\", \"g\", \"g\", \"g\", \"g\", \"g\", \"g\", \"g\", \"g\", \"g\", \"g\", \"g\", \"g\", \"g\", \"g\", \"g\", \"g\", \"g\", \"g\", \"g\", \"g\", \"g\", \"g\", \"g\", \"g\", \"g\", \"g\", \"g\", \"g\", \"g\", \"g\", \"g\", \"g\", \"g\", \"g\", \"g\", \"g\", \"g\", \"g\", \"g\", \"g\", \"g\", \"g\", \"g\", \"g\", \"g\", \"g\", \"g\", \"g\", \"g\", \"g\", \"g\", \"g\", \"g\", \"g\", \"g\", \"g\", \"g\", \"g\", \"g\", \"g\", \"g\", \"g\", \"g\", \"g\", \"g\", \"g\", \"g\", \"g\", \"g\", \"g\", \"g\", \"g\", \"g\", \"g\", \"g\", \"g\", \"g\", \"g\", \"g\", \"g\", \"g\", \"g\", \"g\", \"g\", \"g\", \"g\", \"g\", \"g\", \"g\", \"g\", \"g\", \"g\", \"g\", \"g\", \"g\", \"g\", \"g\", \"g\", \"g\", \"g\", \"g\", \"g\", \"g\", \"g\", \"g\", \"g\", \"g\", \"g\", \"g\", \"g\", \"g\", \"g\", \"g\", \"g\", \"g\", \"g\", \"g\", \"g\", \"g\", \"g\", \"g\", \"g\", \"g\", \"g\", \"g\", \"g\", \"g\", \"g\", \"g\", \"g\", \"g\", \"g\", \"g\", \"g\", \"g\", \"g\", \"g\", \"g\", \"g\", \"g\", \"g\", \"g\", \"g\", \"g\", \"g\", \"g\", \"g\", \"g\", \"g\", \"g\", \"g\", \"g\", \"g\", \"g\", \"g\", \"g\", \"g\", \"g\", \"g\", \"g\", \"g\", \"g\", \"g\", \"g\", \"g\", \"g\", \"g\", \"g\", \"g\", \"g\", \"g\", \"g\", \"g\", \"g\", \"g\", \"g\", \"g\", \"g\", \"g\", \"g\", \"g\", \"g\", \"g\", \"g\", \"g\", \"g\", \"g\", \"g\", \"g\", \"g\", \"g\", \"g\", \"g\", \"g\", \"g\", \"g\", \"g\", \"g\", \"g\", \"g\", \"g\", \"g\", \"g\", \"g\", \"g\", \"g\", \"g\", \"g\", \"g\", \"g\", \"g\", \"g\", \"g\", \"g\", \"g\", \"g\", \"g\", \"g\", \"g\", \"g\", \"g\", \"g\", \"g\", \"g\", \"g\", \"g\", \"g\", \"g\", \"g\", \"g\", \"g\", \"g\", \"g\", \"g\", \"g\", \"g\", \"g\", \"g\", \"g\", \"g\", \"g\", \"g\", \"g\", \"g\", \"g\", \"g\", \"g\", \"g\", \"g\", \"g\", \"g\", \"g\", \"g\", \"g\", \"g\", \"g\", \"g\", \"g\", \"g\", \"g\", \"g\", \"g\", \"g\", \"g\", \"g\", \"g\", \"g\", \"g\", \"g\", \"g\", \"g\", \"g\", \"g\", \"g\", \"g\", \"g\", \"g\", \"g\", \"g\", \"g\", \"g\", \"g\", \"g\", \"g\", \"g\", \"g\", \"g\", \"g\", \"g\", \"g\", \"g\", \"g\", \"g\", \"g\", \"g\", \"g\", \"g\", \"g\", \"g\", \"g\", \"g\", \"g\", \"g\", \"g\", \"g\", \"g\", \"g\", \"g\", \"g\", \"g\", \"g\", \"g\", \"g\", \"g\", \"g\", \"g\", \"g\", \"g\", \"g\", \"g\", \"g\", \"g\", \"g\", \"g\", \"g\", \"g\", \"g\", \"g\", \"g\", \"g\", \"g\", \"g\", \"g\", \"g\", \"g\", \"g\", \"g\", \"g\", \"g\", \"g\", \"g\", \"g\", \"g\", \"g\", \"g\", \"g\", \"g\", \"g\", \"g\", \"g\", \"g\", \"g\", \"g\", \"g\", \"g\", \"g\", \"g\", \"g\", \"g\", \"g\", \"g\", \"g\", \"g\", \"g\", \"g\", \"g\", \"g\", \"g\", \"g\", \"g\", \"g\", \"g\", \"g\", \"g\", \"g\", \"g\", \"g\", \"g\", \"g\", \"g\", \"g\", \"g\", \"g\", \"g\", \"g\", \"g\", \"g\", \"g\", \"g\", \"g\", \"g\", \"g\", \"g\", \"g\", \"g\", \"g\", \"g\", \"g\", \"g\", \"g\", \"g\", \"g\", \"g\", \"g\", \"g\", \"g\", \"g\", \"g\", \"g\", \"g\", \"g\", \"g\", \"g\", \"g\", \"g\", \"g\", \"g\", \"g\", \"g\", \"g\", \"g\", \"g\", \"g\", \"g\", \"g\", \"g\", \"g\", \"g\", \"g\", \"g\", \"g\", \"g\", \"g\", \"g\", \"g\", \"g\", \"g\", \"g\", \"g\", \"g\", \"g\", \"g\", \"g\", \"g\", \"g\", \"g\", \"g\", \"g\", \"g\", \"g\", \"g\", \"g\", \"g\", \"g\", \"g\", \"g\", \"g\", \"g\", \"g\", \"g\", \"g\", \"g\", \"g\", \"g\", \"g\", \"g\", \"g\", \"g\", \"g\", \"g\", \"g\", \"g\", \"g\", \"g\", \"g\", \"g\", \"g\", \"g\", \"g\", \"g\", \"g\", \"g\", \"g\", \"g\", \"g\", \"g\", \"g\", \"g\", \"g\", \"g\", \"g\", \"g\", \"g\", \"g\", \"g\", \"g\", \"g\", \"g\", \"g\", \"g\", \"g\", \"g\", \"g\", \"g\", \"g\", \"g\", \"g\", \"g\", \"g\", \"g\", \"g\", \"g\", \"g\", \"g\", \"g\", \"g\", \"g\", \"g\", \"g\", \"g\", \"g\", \"g\", \"g\", \"g\", \"g\", \"g\", \"g\", \"g\", \"g\", \"g\", \"g\", \"g\", \"g\", \"g\", \"g\", \"g\", \"g\", \"g\", \"g\", \"g\", \"g\", \"g\", \"g\", \"g\", \"g\", \"g\", \"g\", \"g\", \"g\", \"g\", \"g\", \"g\", \"g\", \"g\", \"g\", \"g\", \"g\", \"g\", \"g\", \"g\", \"g\", \"g\", \"g\", \"g\", \"g\", \"g\", \"g\", \"g\", \"g\", \"g\", \"g\", \"g\", \"g\", \"g\", \"g\", \"g\", \"g\", \"g\", \"g\", \"g\", \"g\", \"g\", \"g\", \"g\", \"g\", \"g\", \"g\", \"g\", \"g\", \"g\", \"g\", \"g\", \"g\", \"g\", \"g\", \"g\", \"g\", \"g\", \"g\", \"g\", \"g\", \"g\", \"g\", \"g\", \"g\", \"g\", \"g\", \"g\", \"g\", \"g\", \"g\", \"g\", \"g\", \"g\", \"g\", \"g\", \"g\", \"g\", \"g\", \"g\", \"g\", \"g\", \"g\", \"g\", \"g\", \"g\", \"g\", \"g\", \"g\", \"g\", \"g\", \"g\", \"g\", \"g\", \"g\", \"g\", \"g\", \"g\", \"g\", \"g\", \"g\", \"g\", \"g\", \"g\", \"g\", \"g\", \"g\", \"g\", \"g\", \"g\", \"g\", \"g\", \"g\", \"g\", \"g\", \"g\", \"g\", \"g\", \"g\", \"g\", \"g\", \"g\", \"g\", \"g\", \"g\", \"g\", \"g\", \"g\", \"g\", \"g\", \"g\", \"g\", \"g\", \"g\", \"g\", \"g\", \"g\", \"g\", \"g\", \"g\", \"g\", \"g\", \"g\", \"g\", \"g\", \"g\", \"g\", \"g\", \"g\", \"g\", \"g\", \"g\", \"g\", \"g\", \"g\", \"g\", \"g\", \"g\", \"g\", \"g\", \"g\", \"g\", \"g\", \"g\", \"g\", \"g\", \"g\", \"g\", \"g\", \"g\", \"g\", \"g\", \"g\", \"g\", \"g\", \"g\", \"g\", \"g\", \"g\", \"g\", \"g\", \"g\", \"g\", \"g\", \"g\", \"g\", \"g\", \"g\", \"g\", \"g\", \"g\", \"g\", \"g\", \"g\", \"g\", \"g\", \"g\", \"g\", \"g\", \"g\", \"g\", \"g\", \"g\", \"g\", \"g\", \"g\", \"g\", \"g\", \"g\", \"g\", \"g\", \"g\", \"g\", \"g\", \"g\", \"g\", \"g\", \"g\", \"g\", \"g\", \"g\", \"g\", \"g\", \"g\", \"g\", \"g\", \"g\", \"g\", \"g\", \"g\", \"g\", \"g\", \"g\", \"g\", \"g\", \"g\", \"g\", \"g\", \"g\", \"g\", \"g\", \"g\", \"g\", \"g\", \"g\", \"g\", \"g\", \"g\", \"g\", \"g\", \"g\", \"g\", \"g\", \"g\", \"g\", \"g\", \"g\", \"g\", \"g\", \"g\", \"g\", \"g\", \"g\", \"g\", \"g\", \"g\", \"g\", \"g\", \"g\", \"g\", \"g\", \"g\", \"g\", \"g\", \"g\", \"g\", \"g\", \"g\", \"g\", \"g\", \"g\", \"g\", \"g\", \"g\", \"g\", \"g\", \"g\", \"g\", \"g\", \"g\", \"g\", \"g\", \"g\", \"g\", \"g\", \"g\", \"g\", \"g\", \"g\", \"g\", \"g\", \"g\", \"g\", \"g\", \"g\", \"g\", \"g\", \"g\", \"g\", \"g\", \"g\", \"g\", \"g\", \"g\", \"g\", \"g\", \"g\", \"g\", \"g\", \"g\", \"g\", \"g\", \"g\", \"g\", \"g\", \"g\", \"g\", \"g\", \"g\", \"g\", \"g\", \"g\", \"g\", \"g\", \"g\", \"g\", \"g\", \"g\", \"g\", \"g\", \"g\", \"g\", \"g\", \"g\", \"g\", \"g\", \"g\", \"g\", \"g\", \"g\", \"g\", \"g\", \"g\", \"g\", \"g\", \"g\", \"g\", \"g\", \"g\", \"g\", \"g\", \"g\", \"g\", \"g\", \"g\", \"g\", \"g\", \"g\", \"g\", \"g\", \"g\", \"g\", \"g\", \"g\", \"g\", \"g\", \"g\", \"g\", \"g\", \"g\", \"g\", \"g\", \"g\", \"g\", \"g\", \"g\", \"g\", \"g\", \"g\", \"g\", \"g\", \"g\", \"g\", \"g\", \"g\", \"g\", \"g\", \"g\", \"g\", \"g\", \"g\", \"g\", \"g\", \"g\", \"g\", \"g\", \"g\", \"g\", \"g\", \"g\", \"g\", \"g\", \"g\", \"g\", \"g\", \"g\", \"g\", \"g\", \"g\", \"g\", \"g\", \"g\", \"g\", \"g\", \"g\", \"g\", \"g\", \"g\", \"g\", \"g\", \"g\", \"g\", \"g\", \"g\", \"g\", \"g\", \"g\", \"g\", \"g\", \"g\", \"g\", \"g\", \"g\", \"g\", \"g\", \"g\", \"g\", \"g\", \"g\", \"g\", \"g\", \"g\", \"g\", \"g\", \"g\", \"g\", \"g\", \"g\", \"g\", \"g\", \"g\", \"g\", \"g\", \"g\", \"g\", \"g\", \"g\", \"g\", \"g\", \"g\", \"g\", \"g\", \"g\", \"g\", \"g\", \"g\", \"g\", \"g\", \"g\", \"g\", \"g\", \"g\", \"g\", \"g\", \"g\", \"g\", \"g\", \"g\", \"g\", \"g\", \"g\", \"g\", \"g\", \"g\", \"g\", \"g\", \"g\", \"g\", \"g\", \"g\", \"g\", \"g\", \"g\", \"g\", \"g\", \"g\", \"g\", \"g\", \"g\", \"g\", \"g\", \"g\", \"g\", \"g\", \"g\", \"g\", \"g\", \"g\", \"g\", \"g\", \"g\", \"g\", \"g\", \"g\", \"g\", \"g\", \"g\", \"g\", \"g\", \"g\", \"g\", \"g\", \"g\", \"g\", \"g\", \"g\", \"g\", \"g\", \"g\", \"g\", \"g\", \"g\", \"g\", \"g\", \"g\", \"g\", \"g\", \"g\", \"g\", \"g\", \"g\", \"g\", \"g\", \"g\", \"g\", \"g\", \"g\", \"g\", \"g\", \"g\", \"g\", \"g\", \"g\", \"g\", \"g\", \"g\", \"g\", \"g\", \"g\", \"g\", \"g\", \"g\", \"g\", \"g\", \"g\", \"g\", \"g\", \"g\", \"g\", \"g\", \"g\", \"g\", \"g\", \"g\", \"g\", \"g\", \"g\", \"g\", \"g\", \"g\", \"g\", \"g\", \"g\", \"g\", \"g\", \"g\", \"g\", \"g\", \"g\", \"g\", \"g\", \"g\", \"g\", \"g\", \"g\", \"g\", \"g\", \"g\", \"g\", \"g\", \"g\", \"g\", \"g\", \"g\", \"g\", \"g\", \"g\", \"g\", \"g\", \"g\", \"g\", \"g\", \"g\", \"g\", \"g\", \"g\", \"g\", \"g\", \"g\", \"g\", \"g\", \"g\", \"g\", \"g\", \"g\", \"g\", \"g\", \"g\", \"g\", \"g\", \"g\", \"g\", \"g\", \"g\", \"g\", \"g\", \"g\", \"g\", \"g\", \"g\", \"g\", \"g\", \"g\", \"g\", \"g\", \"g\", \"g\", \"g\", \"g\", \"g\", \"g\", \"g\", \"g\", \"g\", \"g\", \"g\", \"g\", \"g\", \"g\", \"g\", \"g\", \"g\", \"g\", \"g\", \"g\", \"g\", \"g\", \"g\", \"g\", \"g\", \"g\", \"g\", \"g\", \"g\", \"g\", \"g\", \"g\", \"g\", \"g\", \"g\", \"g\", \"g\", \"g\", \"g\", \"g\", \"g\", \"g\", \"g\", \"g\", \"g\", \"g\", \"g\", \"g\", \"g\", \"g\", \"g\", \"g\", \"g\", \"g\", \"g\", \"g\", \"g\", \"g\", \"g\", \"g\", \"g\", \"g\", \"g\", \"g\", \"g\", \"g\", \"g\", \"g\", \"g\", \"g\", \"g\", \"g\", \"g\", \"g\", \"g\", \"g\", \"g\", \"g\", \"g\", \"g\", \"g\", \"g\", \"g\", \"g\", \"g\", \"g\", \"g\", \"g\", \"g\", \"g\", \"g\", \"g\", \"g\", \"g\", \"g\", \"g\", \"g\", \"g\", \"g\", \"g\", \"g\", \"g\", \"g\", \"g\", \"g\", \"g\", \"g\", \"g\", \"g\", \"g\", \"g\", \"g\", \"g\", \"g\", \"g\", \"g\", \"g\", \"g\", \"g\", \"g\", \"g\", \"g\", \"g\", \"g\", \"g\", \"g\", \"g\", \"g\", \"g\", \"g\", \"g\", \"g\", \"g\", \"g\", \"g\", \"g\", \"g\", \"g\", \"g\", \"g\", \"g\", \"g\", \"g\", \"g\", \"g\", \"g\", \"g\", \"g\", \"g\", \"g\", \"g\", \"g\", \"g\", \"g\", \"g\", \"g\", \"g\", \"g\", \"g\", \"g\", \"g\", \"g\", \"g\", \"g\", \"g\", \"g\", \"g\", \"g\", \"g\", \"g\", \"g\", \"g\", \"g\", \"g\", \"g\", \"g\", \"g\", \"g\", \"g\", \"g\", \"g\", \"g\", \"g\", \"g\", \"g\", \"g\", \"g\", \"g\", \"g\", \"g\", \"g\", \"g\", \"g\", \"g\", \"g\", \"g\", \"g\", \"g\", \"g\", \"g\", \"g\", \"g\", \"g\", \"g\", \"g\", \"g\", \"g\", \"g\", \"g\", \"g\", \"g\", \"g\", \"g\", \"g\", \"g\", \"g\", \"g\", \"g\", \"g\", \"g\", \"g\", \"g\", \"g\", \"g\", \"g\", \"g\", \"g\", \"g\", \"g\", \"g\", \"g\", \"g\", \"g\", \"g\", \"g\", \"g\", \"g\", \"g\", \"g\", \"g\", \"g\", \"g\", \"g\", \"g\", \"g\", \"g\", \"g\", \"g\", \"g\", \"g\", \"g\", \"g\", \"g\", \"g\", \"g\", \"g\", \"g\", \"g\", \"g\", \"g\", \"g\", \"g\", \"g\", \"g\", \"g\", \"g\", \"g\", \"g\", \"g\", \"g\", \"g\", \"g\", \"g\", \"g\", \"g\", \"g\", \"g\", \"g\", \"g\", \"g\", \"g\", \"g\", \"g\", \"g\", \"g\", \"g\", \"g\", \"g\", \"g\", \"g\", \"g\", \"g\", \"g\", \"g\", \"g\", \"g\", \"g\", \"g\", \"g\", \"g\", \"g\", \"g\", \"g\", \"g\", \"g\", \"g\", \"g\", \"g\", \"g\", \"g\", \"g\", \"g\", \"g\", \"g\", \"g\", \"g\", \"g\", \"g\", \"g\", \"g\", \"g\", \"g\", \"g\", \"g\", \"g\", \"g\", \"g\", \"g\", \"g\", \"g\", \"g\", \"g\", \"g\", \"g\", \"g\", \"g\", \"g\", \"g\", \"g\", \"g\", \"g\", \"g\", \"g\", \"g\", \"g\", \"g\", \"g\", \"g\", \"g\", \"g\", \"g\", \"g\", \"g\", \"g\", \"g\", \"g\", \"g\", \"g\", \"g\", \"g\", \"g\", \"g\", \"g\", \"g\", \"g\", \"g\", \"g\", \"g\", \"g\", \"g\", \"g\", \"g\", \"g\", \"g\", \"g\", \"g\", \"g\", \"g\", \"g\", \"g\", \"g\", \"g\", \"g\", \"g\", \"g\", \"g\", \"g\", \"g\", \"g\", \"g\", \"g\", \"g\", \"g\", \"g\", \"g\", \"g\", \"g\", \"g\", \"g\", \"g\", \"g\", \"g\", \"g\", \"g\", \"g\", \"g\", \"g\", \"g\", \"g\", \"g\", \"g\", \"g\", \"g\", \"g\", \"g\", \"g\", \"g\", \"g\", \"g\", \"g\", \"g\", \"g\", \"g\", \"g\", \"g\", \"g\", \"g\", \"g\", \"g\", \"g\", \"g\", \"g\", \"g\", \"g\", \"g\", \"g\", \"g\", \"g\", \"g\", \"g\", \"g\", \"g\", \"g\", \"g\", \"g\", \"g\", \"g\", \"g\", \"g\", \"g\", \"g\", \"g\", \"g\", \"g\", \"g\", \"g\", \"g\", \"g\", \"g\", \"g\", \"g\", \"g\", \"g\", \"g\", \"g\", \"g\", \"g\", \"g\", \"g\", \"g\", \"g\", \"g\", \"g\", \"g\", \"g\", \"g\", \"g\", \"g\", \"g\", \"g\", \"g\", \"g\", \"g\", \"g\", \"g\", \"g\", \"g\", \"g\", \"g\", \"g\", \"g\", \"g\", \"g\", \"g\", \"g\", \"g\", \"g\", \"g\", \"g\", \"g\", \"g\", \"g\", \"g\", \"g\", \"g\", \"g\", \"g\", \"g\", \"g\", \"g\", \"g\", \"g\", \"g\", \"g\", \"g\", \"g\", \"g\", \"g\", \"g\", \"g\", \"g\", \"g\", \"g\", \"g\", \"g\", \"g\", \"g\", \"g\", \"g\", \"g\", \"g\", \"g\", \"g\", \"g\", \"g\", \"g\", \"g\", \"g\", \"g\", \"g\", \"g\", \"g\", \"g\", \"g\", \"g\", \"g\", \"g\", \"g\", \"g\", \"g\", \"g\", \"g\", \"g\", \"g\", \"g\", \"g\", \"g\", \"g\", \"g\", \"g\", \"g\", \"g\", \"g\", \"g\", \"g\", \"g\", \"g\", \"g\", \"g\", \"g\", \"g\", \"g\", \"g\", \"g\", \"g\", \"g\", \"g\", \"g\", \"g\", \"g\", \"g\", \"g\", \"g\", \"g\", \"g\", \"g\", \"g\", \"g\", \"g\", \"g\", \"g\", \"g\", \"g\", \"g\", \"g\", \"g\", \"g\", \"g\", \"g\", \"g\", \"g\", \"g\", \"g\", \"g\", \"g\", \"g\", \"g\", \"g\", \"g\", \"g\", \"g\", \"g\", \"g\", \"g\", \"g\", \"g\", \"g\", \"g\", \"g\", \"g\", \"g\", \"g\", \"g\", \"g\", \"g\", \"g\", \"g\", \"g\", \"g\", \"g\", \"g\", \"g\", \"g\", \"g\", \"g\", \"g\", \"g\", \"g\", \"g\", \"g\", \"g\", \"g\", \"g\", \"g\", \"g\", \"g\", \"g\", \"g\", \"g\", \"g\", \"g\", \"g\", \"g\", \"g\", \"g\", \"g\", \"g\", \"g\", \"g\", \"g\", \"g\", \"g\", \"g\", \"g\", \"g\", \"g\", \"g\", \"g\", \"g\", \"g\", \"g\", \"g\", \"g\", \"g\", \"g\", \"g\", \"g\", \"g\", \"g\", \"g\", \"g\", \"g\", \"g\", \"g\", \"g\", \"g\", \"g\", \"g\", \"g\", \"g\", \"g\", \"g\", \"g\", \"g\", \"g\", \"g\", \"g\", \"g\", \"g\", \"g\", \"g\", \"g\", \"g\", \"g\", \"g\", \"g\", \"g\", \"g\", \"g\", \"g\", \"g\", \"g\", \"g\", \"g\", \"g\", \"g\", \"g\", \"g\", \"g\", \"g\", \"g\", \"g\", \"g\", \"g\", \"g\", \"g\", \"g\", \"g\", \"g\", \"g\", \"g\", \"g\", \"g\", \"g\", \"g\", \"g\", \"g\", \"g\", \"g\", \"g\", \"g\", \"g\", \"g\", \"g\", \"g\", \"g\", \"g\", \"g\", \"g\", \"g\", \"g\", \"g\", \"g\", \"g\", \"g\", \"g\", \"g\", \"g\", \"g\", \"g\", \"g\", \"g\", \"g\", \"g\", \"g\", \"g\", \"g\", \"g\", \"g\", \"g\", \"g\", \"g\", \"g\", \"g\", \"g\", \"g\", \"g\", \"g\", \"g\", \"g\", \"g\", \"g\", \"g\", \"g\", \"g\", \"g\", \"g\", \"g\", \"g\", \"g\", \"g\", \"g\", \"g\", \"g\", \"g\", \"g\", \"g\", \"g\", \"g\", \"g\", \"g\", \"g\", \"g\", \"g\", \"g\", \"g\", \"g\", \"g\", \"g\", \"g\", \"g\", \"g\", \"g\", \"g\", \"g\", \"g\", \"g\", \"g\", \"g\", \"g\", \"g\", \"g\", \"g\", \"g\", \"g\", \"g\", \"g\", \"g\", \"g\", \"g\", \"g\", \"g\", \"g\", \"g\", \"g\", \"g\", \"g\", \"g\", \"g\", \"g\", \"g\", \"g\", \"g\", \"g\", \"g\", \"g\", \"g\", \"g\", \"g\", \"g\", \"g\", \"g\", \"g\", \"g\", \"g\", \"g\", \"g\", \"g\", \"g\", \"g\", \"g\", \"g\", \"g\", \"g\", \"g\", \"g\", \"g\", \"g\", \"g\", \"g\", \"g\", \"g\", \"g\", \"g\", \"g\", \"g\", \"g\", \"g\", \"g\", \"g\", \"g\", \"g\", \"g\", \"g\", \"g\", \"g\", \"g\", \"g\", \"g\", \"g\", \"g\", \"g\", \"g\", \"g\", \"g\", \"g\", \"g\", \"g\", \"g\", \"g\", \"g\", \"g\", \"g\", \"g\", \"g\", \"g\", \"g\", \"g\", \"g\", \"g\", \"g\", \"g\", \"g\", \"g\", \"g\", \"g\", \"g\", \"g\", \"g\", \"g\", \"g\", \"g\", \"g\", \"g\", \"g\", \"g\", \"g\", \"g\", \"g\", \"g\", \"g\", \"g\", \"g\", \"g\", \"g\", \"g\", \"g\", \"g\", \"g\", \"g\", \"g\", \"g\", \"g\", \"g\", \"g\", \"g\", \"g\", \"g\", \"g\", \"g\", \"g\", \"g\", \"g\", \"g\", \"g\", \"g\", \"g\", \"g\", \"g\", \"g\", \"g\", \"g\", \"g\", \"g\", \"g\", \"g\", \"g\", \"g\", \"g\", \"g\", \"g\", \"g\", \"g\", \"g\", \"g\", \"g\", \"g\", \"g\", \"g\", \"g\", \"g\", \"g\", \"g\", \"g\", \"g\", \"g\", \"g\", \"g\", \"g\", \"g\", \"g\", \"g\", \"g\", \"g\", \"g\", \"g\", \"g\", \"g\", \"g\", \"g\", \"g\", \"g\", \"g\", \"g\", \"g\", \"g\", \"g\", \"g\", \"g\", \"g\", \"g\", \"g\", \"g\", \"g\", \"g\", \"g\", \"g\", \"g\", \"g\", \"g\", \"g\", \"g\", \"g\", \"g\", \"g\", \"g\", \"g\", \"g\", \"g\", \"g\", \"g\", \"g\", \"g\", \"g\", \"g\", \"g\", \"g\", \"g\", \"g\", \"g\", \"g\", \"g\", \"g\", \"g\", \"g\", \"g\", \"g\", \"g\", \"g\", \"g\", \"g\", \"g\", \"g\", \"g\", \"g\", \"g\", \"g\", \"g\", \"g\", \"g\", \"g\", \"g\", \"g\", \"g\", \"g\", \"g\", \"g\", \"g\", \"g\", \"g\", \"g\", \"g\", \"g\", \"g\", \"g\", \"g\", \"g\", \"g\", \"g\", \"g\", \"g\", \"g\", \"g\", \"g\", \"g\", \"g\", \"g\", \"g\", \"g\", \"g\", \"g\", \"g\", \"g\", \"g\", \"g\", \"g\", \"g\", \"g\", \"g\", \"g\", \"g\", \"g\", \"g\", \"g\", \"g\", \"g\", \"g\", \"g\", \"g\", \"g\", \"g\", \"g\", \"g\", \"g\", \"g\", \"g\", \"g\", \"g\", \"g\", \"g\", \"g\", \"g\", \"g\", \"g\", \"g\", \"g\", \"g\", \"g\", \"g\", \"g\", \"g\", \"g\", \"g\", \"g\", \"g\", \"g\", \"g\", \"g\", \"g\", \"g\", \"g\", \"g\", \"g\", \"g\", \"g\", \"g\", \"g\", \"g\", \"g\", \"g\", \"g\", \"g\", \"g\", \"g\", \"g\", \"g\", \"g\", \"g\", \"g\", \"g\", \"g\", \"g\", \"g\", \"g\", \"g\", \"g\", \"g\", \"g\", \"g\", \"g\", \"g\", \"g\", \"g\", \"g\", \"g\", \"g\", \"g\", \"g\", \"g\", \"g\", \"g\", \"g\", \"g\", \"g\", \"g\", \"g\", \"g\", \"g\", \"g\", \"g\", \"g\", \"g\", \"g\", \"g\", \"g\", \"g\", \"g\", \"g\", \"g\", \"g\", \"g\", \"g\", \"g\", \"g\", \"g\", \"g\", \"g\", \"g\", \"g\", \"g\", \"g\", \"g\", \"g\", \"g\", \"g\", \"g\", \"g\", \"g\", \"g\", \"g\", \"g\", \"g\", \"g\", \"g\", \"g\", \"g\", \"g\", \"g\", \"g\", \"g\", \"g\", \"g\", \"g\", \"g\", \"g\", \"g\", \"g\", \"g\", \"g\", \"g\", \"g\", \"g\", \"g\", \"g\", \"g\", \"g\", \"g\", \"g\", \"g\", \"g\", \"g\", \"g\", \"g\", \"g\", \"g\", \"g\", \"g\", \"g\", \"g\", \"g\", \"g\", \"g\", \"g\", \"g\", \"g\", \"g\", \"g\", \"g\", \"g\", \"g\", \"g\", \"g\", \"g\", \"g\", \"g\", \"g\", \"g\", \"g\", \"g\", \"g\", \"g\", \"g\", \"g\", \"g\", \"g\", \"g\", \"g\", \"g\", \"g\", \"g\", \"g\", \"g\", \"g\", \"g\", \"g\", \"g\", \"g\", \"g\", \"g\", \"g\", \"g\", \"g\", \"g\", \"g\", \"g\", \"g\", \"g\", \"g\", \"g\", \"g\", \"g\", \"g\", \"g\", \"g\", \"g\", \"g\", \"g\", \"g\", \"g\", \"g\", \"g\", \"g\", \"g\", \"g\", \"g\", \"g\", \"g\", \"g\", \"g\", \"g\", \"g\", \"g\", \"g\", \"g\", \"g\", \"g\", \"g\", \"g\", \"g\", \"g\", \"g\", \"g\", \"g\", \"g\", \"g\", \"g\", \"g\", \"g\", \"g\", \"g\", \"g\", \"g\", \"g\", \"g\", \"g\", \"g\", \"g\", \"g\", \"g\", \"g\", \"g\", \"g\", \"g\", \"g\", \"g\", \"g\", \"g\", \"g\", \"g\", \"g\", \"g\", \"g\", \"g\", \"g\", \"g\", \"g\", \"g\", \"g\", \"g\", \"g\", \"g\", \"g\", \"g\", \"g\", \"g\", \"g\", \"g\", \"g\", \"g\", \"g\", \"g\", \"g\", \"g\", \"g\", \"g\", \"g\", \"g\", \"g\", \"g\", \"g\", \"g\", \"g\", \"g\", \"g\", \"g\", \"g\", \"g\", \"g\", \"g\", \"g\", \"g\", \"g\", \"g\", \"g\", \"g\", \"g\", \"g\", \"g\", \"g\", \"g\", \"g\", \"g\", \"g\", \"g\", \"g\", \"g\", \"g\", \"g\", \"g\", \"g\", \"g\", \"g\", \"g\", \"g\", \"g\", \"g\", \"g\", \"g\", \"g\", \"g\", \"g\", \"g\", \"g\", \"g\", \"g\", \"g\", \"g\", \"g\", \"g\", \"g\", \"g\", \"g\", \"g\", \"g\", \"g\", \"g\", \"g\", \"g\", \"g\", \"g\", \"g\", \"g\", \"g\", \"g\", \"g\", \"g\", \"g\", \"g\", \"g\", \"g\", \"g\", \"g\", \"g\", \"g\", \"g\", \"g\", \"g\", \"g\", \"g\", \"g\", \"g\", \"g\", \"g\", \"g\", \"g\", \"g\", \"g\", \"g\", \"g\", \"g\", \"g\", \"g\", \"g\", \"g\", \"g\", \"g\", \"g\", \"g\", \"g\", \"g\", \"g\", \"g\", \"g\", \"g\", \"g\", \"g\", \"g\", \"g\", \"g\", \"g\", \"g\", \"g\", \"g\", \"g\", \"g\", \"g\", \"g\", \"g\", \"g\", \"g\", \"g\", \"g\", \"g\", \"g\", \"g\", \"g\", \"g\", \"g\", \"g\", \"g\", \"g\", \"g\", \"g\", \"g\", \"g\", \"g\", \"g\", \"g\", \"g\", \"g\", \"g\", \"g\", \"g\", \"g\", \"g\", \"g\", \"g\", \"g\", \"g\", \"g\", \"g\", \"g\", \"g\", \"g\", \"g\", \"g\", \"g\", \"g\", \"g\", \"g\", \"g\", \"g\", \"g\", \"g\", \"g\", \"g\", \"g\", \"g\", \"g\", \"g\", \"g\", \"g\", \"g\", \"g\", \"g\", \"g\", \"g\", \"g\", \"g\", \"g\", \"g\", \"g\", \"g\", \"g\", \"g\", \"g\", \"g\", \"g\", \"g\", \"g\", \"g\", \"g\", \"g\", \"g\", \"g\", \"g\", \"g\", \"g\", \"g\", \"g\", \"g\", \"g\", \"g\", \"g\", \"g\", \"g\", \"g\", \"g\", \"g\", \"g\", \"g\", \"g\", \"g\", \"g\", \"g\", \"g\", \"g\", \"g\", \"g\", \"g\", \"g\", \"g\", \"g\", \"g\", \"g\", \"g\", \"g\", \"g\", \"g\", \"g\", \"g\", \"g\", \"g\", \"g\", \"g\", \"g\", \"g\", \"g\", \"g\", \"g\", \"g\", \"g\", \"g\", \"g\", \"g\", \"g\", \"g\", \"g\", \"g\", \"g\", \"g\", \"g\", \"g\", \"g\", \"g\", \"g\", \"g\", \"g\", \"g\", \"g\", \"g\", \"g\", \"g\", \"g\", \"g\", \"g\", \"g\", \"g\", \"g\", \"g\", \"g\", \"g\", \"g\", \"g\", \"g\", \"g\", \"g\", \"g\", \"g\", \"g\", \"g\", \"g\", \"g\", \"g\", \"g\", \"g\", \"g\", \"g\", \"g\", \"g\", \"g\", \"g\", \"g\", \"g\", \"g\", \"g\", \"g\", \"g\", \"g\", \"g\", \"g\", \"g\", \"g\", \"g\", \"g\", \"g\", \"g\", \"g\", \"g\", \"g\", \"g\", \"g\", \"g\", \"g\", \"g\", \"g\", \"g\", \"g\", \"g\", \"g\", \"g\", \"g\", \"g\", \"g\", \"g\", \"g\", \"g\", \"g\", \"g\", \"g\", \"g\", \"g\", \"g\", \"g\", \"g\", \"g\", \"g\", \"g\", \"g\", \"g\", \"g\", \"g\", \"g\", \"g\", \"g\", \"g\", \"g\", \"g\", \"g\", \"g\", \"g\", \"g\", \"g\", \"g\", \"g\", \"g\", \"g\", \"g\", \"g\", \"g\", \"g\", \"g\", \"g\", \"g\", \"g\", \"g\", \"g\", \"g\", \"g\", \"g\", \"g\", \"g\", \"g\", \"g\", \"g\", \"g\", \"g\", \"g\", \"g\", \"g\", \"g\", \"g\", \"g\", \"g\", \"g\", \"g\", \"g\", \"g\", \"g\", \"g\", \"g\", \"g\", \"g\", \"g\", \"g\", \"g\", \"g\", \"g\", \"g\", \"g\", \"g\", \"g\", \"g\", \"g\", \"g\", \"g\", \"g\", \"g\", \"g\", \"g\", \"g\", \"g\", \"g\", \"g\", \"g\", \"g\", \"g\", \"g\", \"g\", \"g\", \"g\", \"g\", \"g\", \"g\", \"g\", \"g\", \"g\", \"g\", \"g\", \"g\", \"g\", \"g\", \"g\", \"g\", \"g\", \"g\", \"g\", \"g\", \"g\", \"g\", \"g\", \"g\", \"g\", \"g\", \"g\", \"g\", \"g\", \"g\", \"g\", \"g\", \"g\", \"g\", \"g\", \"g\", \"g\", \"g\", \"g\", \"g\", \"g\", \"g\", \"g\", \"g\", \"g\", \"g\", \"g\", \"g\", \"g\", \"g\", \"g\", \"g\", \"g\", \"g\", \"g\", \"g\", \"g\", \"g\", \"g\", \"g\", \"g\", \"g\", \"g\", \"g\", \"g\", \"g\", \"g\", \"g\", \"g\", \"g\", \"g\", \"g\", \"g\", \"g\", \"g\", \"g\", \"g\", \"g\", \"g\", \"g\", \"g\", \"g\", \"g\", \"g\", \"g\", \"g\", \"g\", \"g\", \"g\", \"g\", \"g\", \"g\", \"g\", \"g\", \"g\", \"g\", \"g\", \"g\", \"g\", \"g\", \"g\", \"g\", \"g\", \"g\", \"g\", \"g\", \"g\", \"g\", \"g\", \"g\", \"g\", \"g\", \"g\", \"g\", \"g\", \"g\", \"g\", \"g\", \"g\", \"g\", \"g\", \"g\", \"g\", \"g\", \"g\", \"g\", \"g\", \"g\", \"g\", \"g\", \"g\", \"g\", \"g\", \"g\", \"g\", \"g\", \"g\", \"g\", \"g\", \"g\", \"g\", \"g\", \"g\", \"g\", \"g\", \"g\", \"g\", \"g\", \"g\", \"g\", \"g\", \"g\", \"g\", \"g\", \"g\", \"g\", \"g\", \"g\", \"g\", \"g\", \"g\", \"g\", \"g\", \"g\", \"g\", \"g\", \"g\", \"g\", \"g\", \"g\", \"g\", \"g\", \"g\", \"g\", \"g\", \"g\", \"g\", \"g\", \"g\", \"g\", \"g\", \"g\", \"g\", \"g\", \"g\", \"g\", \"g\", \"g\", \"g\", \"g\", \"g\", \"g\", \"g\", \"g\", \"g\", \"g\", \"g\", \"g\", \"g\", \"g\", \"g\", \"g\", \"g\", \"g\", \"g\", \"g\", \"g\", \"g\", \"g\", \"g\", \"g\", \"g\", \"g\", \"g\", \"g\", \"g\", \"g\", \"g\", \"g\", \"g\", \"g\", \"g\", \"g\", \"g\", \"g\", \"g\", \"g\", \"g\", \"g\", \"g\", \"g\", \"g\", \"g\", \"g\", \"g\", \"g\", \"g\", \"g\", \"g\", \"g\", \"g\", \"g\", \"g\", \"g\", \"g\", \"g\", \"g\", \"g\", \"g\", \"g\", \"g\", \"g\", \"g\", \"g\", \"g\", \"g\", \"g\", \"g\", \"g\", \"g\", \"g\", \"g\", \"g\", \"g\", \"g\", \"g\", \"g\", \"g\", \"g\", \"g\", \"g\", \"g\", \"g\", \"g\", \"g\", \"g\", \"g\", \"g\", \"g\", \"g\", \"g\", \"g\", \"g\", \"g\", \"g\", \"g\", \"g\", \"g\", \"g\", \"g\", \"g\", \"g\", \"g\", \"g\", \"g\", \"g\", \"g\", \"g\", \"g\", \"g\", \"g\", \"g\", \"g\", \"g\", \"g\", \"g\", \"g\", \"g\", \"g\", \"g\", \"g\", \"g\", \"g\", \"g\", \"g\", \"g\", \"g\", \"g\", \"g\", \"g\", \"g\", \"g\", \"g\", \"g\", \"g\", \"g\", \"g\", \"g\", \"g\", \"g\", \"g\", \"g\", \"g\", \"g\", \"g\", \"g\", \"g\", \"g\", \"g\", \"g\", \"g\", \"g\", \"g\", \"g\", \"g\", \"g\", \"g\", \"g\", \"g\", \"g\", \"g\", \"g\", \"g\", \"g\", \"g\", \"g\", \"g\", \"g\", \"g\", \"g\", \"g\", \"g\", \"g\", \"g\", \"g\", \"g\", \"g\", \"g\", \"g\", \"g\", \"g\", \"g\", \"g\", \"g\", \"g\", \"g\", \"g\", \"g\", \"g\", \"g\", \"g\", \"g\", \"g\", \"g\", \"g\", \"g\", \"g\", \"g\", \"g\", \"g\", \"g\", \"g\", \"g\", \"g\", \"g\", \"g\", \"g\", \"g\", \"g\", \"g\", \"g\", \"g\", \"g\", \"g\", \"g\", \"g\", \"g\", \"g\", \"g\", \"g\", \"g\", \"g\", \"g\", \"g\", \"g\", \"g\", \"g\", \"g\", \"g\", \"g\", \"g\", \"g\", \"g\", \"g\", \"g\", \"g\", \"g\", \"g\", \"g\", \"g\", \"g\", \"g\", \"g\", \"g\", \"g\", \"g\", \"g\", \"g\", \"g\", \"g\", \"g\", \"g\", \"g\", \"g\", \"g\", \"g\", \"g\", \"g\", \"g\", \"g\", \"g\", \"g\", \"g\", \"g\", \"g\", \"g\", \"g\", \"g\", \"g\", \"g\", \"g\", \"g\", \"g\", \"g\", \"g\", \"g\", \"g\", \"g\", \"g\", \"g\", \"g\", \"g\", \"g\", \"g\", \"g\", \"g\", \"g\", \"g\", \"g\", \"g\", \"g\", \"g\", \"g\", \"g\", \"g\", \"g\", \"g\", \"g\", \"g\", \"g\", \"g\", \"g\", \"g\", \"g\", \"g\", \"g\", \"g\", \"g\", \"g\", \"g\", \"g\", \"g\", \"g\", \"g\", \"g\", \"g\", \"g\", \"g\", \"g\", \"g\", \"g\", \"g\", \"g\", \"g\", \"g\", \"g\", \"g\", \"g\", \"g\", \"g\", \"g\", \"g\", \"g\", \"g\", \"g\", \"g\", \"g\", \"g\", \"g\", \"g\", \"g\", \"g\", \"g\", \"g\", \"g\", \"g\", \"g\", \"g\", \"g\", \"g\", \"g\", \"g\", \"g\", \"g\", \"g\", \"g\", \"g\", \"g\", \"g\", \"g\", \"g\", \"g\", \"g\", \"g\", \"g\", \"g\", \"g\", \"g\", \"g\", \"g\", \"g\", \"g\", \"g\", \"g\", \"g\", \"g\", \"g\", \"g\", \"g\", \"g\", \"g\", \"g\", \"g\", \"g\", \"g\", \"g\", \"g\", \"g\", \"g\", \"g\", \"g\", \"g\", \"g\", \"g\", \"g\", \"g\", \"g\", \"g\", \"g\", \"g\", \"g\", \"g\", \"g\", \"g\", \"g\", \"g\", \"g\", \"g\", \"g\", \"g\", \"g\", \"g\", \"g\", \"g\", \"g\", \"g\", \"g\", \"g\", \"g\", \"g\", \"g\", \"g\", \"g\", \"g\", \"g\", \"g\", \"g\", \"g\", \"g\", \"g\", \"g\", \"g\", \"g\", \"g\", \"g\", \"g\", \"g\", \"g\", \"g\", \"g\", \"g\", \"g\", \"g\", \"g\", \"g\", \"g\", \"g\", \"g\", \"g\", \"g\", \"g\", \"g\", \"g\", \"g\", \"g\", \"g\", \"g\", \"g\", \"g\", \"g\", \"g\", \"g\", \"g\", \"g\", \"g\", \"g\", \"g\", \"g\", \"g\", \"g\", \"g\", \"g\", \"g\", \"g\", \"g\", \"g\", \"g\", \"g\", \"g\", \"g\", \"g\", \"g\", \"g\", \"g\", \"g\", \"g\", \"g\", \"g\", \"g\", \"g\", \"g\", \"g\", \"g\", \"g\", \"g\", \"g\", \"g\", \"g\", \"g\", \"g\", \"g\", \"g\", \"g\", \"g\", \"g\", \"g\", \"g\", \"g\", \"g\", \"g\", \"g\", \"g\", \"g\", \"g\", \"g\", \"g\", \"g\", \"g\", \"g\", \"g\", \"g\", \"g\", \"g\", \"g\", \"g\", \"g\", \"g\", \"g\", \"g\", \"g\", \"g\", \"g\", \"g\", \"g\", \"g\", \"g\", \"g\", \"g\", \"g\", \"g\", \"g\", \"g\", \"g\", \"g\", \"g\", \"g\", \"g\", \"g\", \"g\", \"g\", \"g\", \"g\", \"g\", \"g\", \"g\", \"g\", \"g\", \"g\", \"g\", \"g\", \"g\", \"g\", \"g\", \"g\", \"g\", \"g\", \"g\", \"g\", \"g\", \"g\", \"g\", \"g\", \"g\", \"g\", \"g\", \"g\", \"g\", \"g\", \"g\", \"g\", \"g\", \"g\", \"g\", \"g\", \"g\", \"g\", \"g\", \"g\", \"g\", \"g\", \"g\", \"g\", \"g\", \"g\", \"g\", \"g\", \"g\", \"g\", \"g\", \"g\", \"g\", \"g\", \"g\", \"g\", \"g\", \"g\", \"g\", \"g\", \"g\", \"g\", \"g\", \"g\", \"g\", \"g\", \"g\", \"g\", \"g\", \"g\", \"g\", \"g\", \"g\", \"g\", \"g\", \"g\", \"g\", \"g\", \"g\", \"g\", \"g\", \"g\", \"g\", \"g\", \"g\", \"g\", \"g\", \"g\", \"g\", \"g\", \"g\", \"g\", \"g\", \"g\", \"g\", \"g\", \"g\", \"g\", \"g\", \"g\", \"g\", \"g\", \"g\", \"g\", \"g\", \"g\", \"g\", \"g\", \"g\", \"g\", \"g\", \"g\", \"g\", \"g\", \"g\", \"g\", \"g\", \"g\", \"g\", \"g\", \"g\", \"g\", \"g\", \"g\", \"g\", \"g\", \"g\", \"g\", \"g\", \"g\", \"g\", \"g\", \"g\", \"g\", \"g\", \"g\", \"g\", \"g\", \"g\", \"g\", \"g\", \"g\", \"g\", \"g\", \"g\", \"g\", \"g\", \"g\", \"g\", \"g\", \"g\", \"g\", \"g\", \"g\", \"g\", \"g\", \"g\", \"g\", \"g\", \"g\", \"g\", \"g\", \"g\", \"g\", \"g\", \"g\", \"g\", \"g\", \"g\", \"g\", \"g\", \"g\", \"g\", \"g\", \"g\", \"g\", \"g\", \"g\", \"g\", \"g\", \"g\", \"g\", \"g\", \"g\", \"g\", \"g\", \"g\", \"g\", \"g\", \"g\", \"g\", \"g\", \"g\", \"g\", \"g\", \"g\", \"g\", \"g\", \"g\", \"g\", \"g\", \"g\", \"g\", \"g\", \"g\", \"g\", \"g\", \"g\", \"g\", \"g\", \"g\", \"g\", \"g\", \"g\", \"g\", \"g\", \"g\", \"g\", \"g\", \"g\", \"g\", \"g\", \"g\", \"g\", \"g\", \"g\", \"g\", \"g\", \"g\", \"g\", \"g\", \"g\", \"g\", \"g\", \"g\", \"g\", \"g\", \"g\", \"g\", \"g\", \"g\", \"g\", \"g\", \"g\", \"g\", \"g\", \"g\", \"g\", \"g\", \"g\", \"g\", \"g\", \"g\", \"g\", \"g\", \"g\", \"g\", \"g\", \"g\", \"g\", \"g\", \"g\", \"g\", \"g\", \"g\", \"g\", \"g\", \"g\", \"g\", \"g\", \"g\", \"g\", \"g\", \"g\", \"g\", \"g\", \"g\", \"g\", \"g\", \"g\", \"g\", \"g\", \"g\", \"g\", \"g\", \"g\", \"g\", \"g\", \"g\", \"g\", \"g\", \"g\", \"g\", \"g\", \"g\", \"g\", \"g\", \"g\", \"g\", \"g\", \"g\", \"g\", \"g\", \"g\", \"g\", \"g\", \"g\", \"g\", \"g\", \"g\", \"g\", \"g\", \"g\", \"g\", \"g\", \"g\", \"g\", \"g\", \"g\", \"g\", \"g\", \"g\", \"g\", \"g\", \"g\", \"g\", \"g\", \"g\", \"g\", \"g\", \"g\", \"g\", \"g\", \"g\", \"g\", \"g\", \"g\", \"g\", \"g\", \"g\", \"g\", \"g\", \"g\", \"g\", \"g\", \"g\", \"g\", \"g\", \"g\", \"g\", \"g\", \"g\", \"g\", \"g\", \"g\", \"g\", \"g\", \"g\", \"g\", \"g\", \"g\", \"g\", \"g\", \"g\", \"g\", \"g\", \"g\", \"g\", \"g\", \"g\", \"g\", \"g\", \"g\", \"g\", \"g\", \"g\", \"g\", \"g\", \"g\", \"g\", \"g\", \"g\", \"g\", \"g\", \"g\", \"g\", \"g\", \"g\", \"g\", \"g\", \"g\", \"g\", \"g\", \"g\", \"g\", \"g\", \"g\", \"g\", \"g\", \"g\", \"g\", \"g\", \"g\", \"g\", \"g\", \"g\", \"g\", \"g\", \"g\", \"g\", \"g\", \"g\", \"g\", \"g\", \"g\", \"g\", \"g\", \"g\", \"g\", \"g\", \"g\", \"g\", \"g\", \"g\", \"g\", \"g\", \"g\", \"g\", \"g\", \"g\", \"g\", \"g\", \"g\", \"g\", \"g\", \"g\", \"g\", \"g\", \"g\", \"g\", \"g\", \"g\", \"g\", \"g\", \"g\", \"g\", \"g\", \"g\", \"g\", \"g\", \"g\", \"g\", \"g\", \"g\", \"g\", \"g\", \"g\", \"g\", \"g\", \"g\", \"g\", \"g\", \"g\", \"g\", \"g\", \"g\", \"g\", \"g\", \"g\", \"g\", \"g\", \"g\", \"g\", \"g\", \"g\", \"g\", \"g\", \"g\", \"g\", \"g\", \"g\", \"g\", \"g\", \"g\", \"g\", \"g\", \"g\", \"g\", \"g\", \"g\", \"g\", \"g\", \"g\", \"g\", \"g\", \"g\", \"g\", \"g\", \"g\", \"g\", \"g\", \"g\", \"g\", \"g\", \"g\", \"g\", \"g\", \"g\", \"g\", \"g\", \"g\", \"g\", \"g\", \"g\", \"g\", \"g\", \"g\", \"g\", \"g\", \"g\", \"g\", \"g\", \"g\", \"g\", \"g\", \"g\", \"g\", \"g\", \"g\", \"g\", \"g\", \"g\", \"g\", \"g\", \"g\", \"g\", \"g\", \"g\", \"g\", \"g\", \"g\", \"g\", \"g\", \"g\", \"g\", \"g\", \"g\", \"g\", \"g\", \"g\", \"g\", \"g\", \"g\", \"g\", \"g\", \"g\", \"g\", \"g\", \"g\", \"g\", \"g\", \"g\", \"g\", \"g\", \"g\", \"g\", \"g\", \"g\", \"g\", \"g\", \"g\", \"g\", \"g\", \"g\", \"g\", \"g\", \"g\", \"g\", \"g\", \"g\", \"g\", \"g\", \"g\", \"g\", \"g\", \"g\", \"g\", \"g\", \"g\", \"g\", \"g\", \"g\", \"g\", \"g\", \"g\", \"g\", \"g\", \"g\", \"g\", \"g\", \"g\", \"g\", \"g\", \"g\", \"g\", \"g\", \"g\", \"g\", \"g\", \"g\", \"g\", \"g\", \"g\", \"g\", \"g\", \"g\", \"g\", \"g\", \"g\", \"g\", \"g\", \"g\", \"g\", \"g\", \"g\", \"g\", \"g\", \"g\", \"g\", \"g\", \"g\", \"g\", \"g\", \"g\", \"g\", \"g\", \"g\", \"g\", \"g\", \"g\", \"g\", \"g\", \"g\", \"g\", \"g\", \"g\", \"g\", \"g\", \"g\", \"g\", \"g\", \"g\", \"g\", \"g\", \"g\", \"g\", \"g\", \"g\", \"g\", \"g\", \"g\", \"g\", \"g\", \"g\", \"g\", \"g\", \"g\", \"g\", \"g\", \"g\", \"g\", \"g\", \"g\", \"g\", \"g\", \"g\", \"g\", \"g\", \"g\", \"g\", \"g\", \"g\", \"g\", \"g\", \"g\", \"g\", \"g\", \"g\", \"g\", \"g\", \"g\", \"g\", \"g\", \"g\", \"g\", \"g\", \"g\", \"g\", \"g\", \"g\", \"g\", \"g\", \"g\", \"g\", \"g\", \"g\", \"g\", \"g\", \"g\", \"g\", \"g\", \"g\", \"g\", \"g\", \"g\", \"g\", \"g\", \"g\", \"g\", \"g\", \"g\", \"g\", \"g\", \"g\", \"g\", \"g\", \"g\", \"g\", \"g\", \"g\", \"g\", \"g\", \"g\", \"g\", \"g\", \"g\", \"g\", \"g\", \"g\", \"g\", \"g\", \"g\", \"g\", \"g\", \"g\", \"g\", \"g\", \"g\", \"g\", \"g\", \"g\", \"g\", \"g\", \"g\", \"g\", \"g\", \"g\", \"g\", \"g\", \"g\", \"g\", \"g\", \"g\", \"g\", \"g\", \"g\", \"g\", \"g\", \"g\", \"g\", \"g\", \"g\", \"g\", \"g\", \"g\", \"g\", \"g\", \"g\", \"g\", \"g\", \"g\", \"g\", \"g\", \"g\", \"g\", \"g\", \"g\", \"g\", \"g\", \"g\", \"g\", \"g\", \"g\", \"g\", \"g\", \"g\", \"g\", \"g\", \"g\", \"g\", \"g\", \"g\", \"g\", \"g\", \"g\", \"g\", \"g\", \"g\", \"g\", \"g\", \"g\", \"g\", \"g\", \"g\", \"g\", \"g\", \"g\", \"g\", \"g\", \"g\", \"g\", \"g\", \"g\", \"g\", \"g\", \"g\", \"g\", \"g\", \"g\", \"g\", \"g\", \"g\", \"g\", \"g\", \"g\", \"g\", \"g\", \"g\", \"g\", \"g\", \"g\", \"g\", \"g\", \"g\", \"g\", \"g\", \"g\", \"g\", \"g\", \"g\", \"g\", \"g\", \"g\", \"g\", \"g\", \"g\", \"g\", \"g\", \"g\", \"g\", \"g\", \"g\", \"g\", \"g\", \"g\", \"g\", \"g\", \"g\", \"g\", \"g\", \"g\", \"g\", \"g\", \"g\", \"g\", \"g\", \"g\", \"g\", \"g\", \"g\", \"g\", \"g\", \"g\", \"g\", \"g\", \"g\", \"g\", \"g\", \"g\", \"g\", \"g\", \"g\", \"g\", \"g\", \"g\", \"g\", \"g\", \"g\", \"g\", \"g\", \"g\", \"g\", \"g\", \"g\", \"g\", \"g\", \"g\", \"g\", \"g\", \"g\", \"g\", \"g\", \"g\", \"g\", \"g\", \"g\", \"g\", \"g\", \"g\", \"g\", \"g\", \"g\", \"g\", \"g\", \"g\", \"g\", \"g\", \"g\", \"g\", \"g\", \"g\", \"g\", \"g\", \"g\", \"g\", \"g\", \"g\", \"g\", \"g\", \"g\", \"g\", \"g\", \"g\", \"g\", \"g\", \"g\", \"g\", \"g\", \"g\", \"g\", \"g\", \"g\", \"g\", \"g\", \"g\", \"g\", \"g\", \"g\", \"g\", \"g\", \"g\", \"g\", \"g\", \"g\", \"g\", \"g\", \"g\", \"g\", \"g\", \"g\", \"g\", \"g\", \"g\", \"g\", \"g\", \"g\", \"g\", \"g\", \"g\", \"g\", \"g\", \"g\", \"g\", \"g\", \"g\", \"g\", \"g\", \"g\", \"g\", \"g\", \"g\", \"g\", \"g\", \"g\", \"g\", \"g\", \"g\", \"g\", \"g\", \"g\", \"g\", \"g\", \"g\", \"g\", \"g\", \"g\", \"g\", \"g\", \"g\", \"g\", \"g\", \"g\", \"g\", \"g\", \"g\", \"g\", \"g\", \"g\", \"g\", \"g\", \"g\", \"g\", \"g\", \"g\", \"g\", \"g\", \"g\", \"g\", \"g\", \"g\", \"g\", \"g\", \"g\", \"g\", \"g\", \"g\", \"g\", \"g\", \"g\", \"g\", \"g\", \"g\", \"g\", \"g\", \"g\", \"g\", \"g\", \"g\", \"g\", \"g\", \"g\", \"g\", \"g\", \"g\", \"g\", \"g\", \"g\", \"g\", \"g\", \"g\", \"g\", \"g\", \"g\", \"g\", \"g\", \"g\", \"g\", \"g\", \"g\", \"g\", \"g\", \"g\", \"g\", \"g\", \"g\", \"g\", \"g\", \"g\", \"g\", \"g\", \"g\", \"g\", \"g\", \"g\", \"g\", \"g\", \"g\", \"g\", \"g\", \"g\", \"g\", \"g\", \"g\", \"g\", \"g\", \"g\", \"g\", \"g\", \"g\", \"g\", \"g\", \"g\", \"g\", \"g\", \"g\", \"g\", \"g\", \"g\", \"g\", \"g\", \"g\", \"g\", \"g\", \"g\", \"g\", \"g\", \"g\", \"g\", \"g\", \"g\", \"g\", \"g\", \"g\", \"g\", \"g\", \"g\", \"g\", \"g\", \"g\", \"g\", \"g\", \"g\", \"g\", \"g\", \"g\", \"g\", \"g\", \"g\", \"g\", \"g\", \"g\", \"g\", \"g\", \"g\", \"g\", \"g\", \"g\", \"g\", \"g\", \"g\", \"g\", \"g\", \"g\", \"g\", \"g\", \"g\", \"g\", \"g\", \"g\", \"g\", \"g\", \"g\", \"g\", \"g\", \"g\", \"g\", \"g\", \"g\", \"g\", \"g\", \"g\", \"g\", \"g\", \"g\", \"g\", \"g\", \"g\", \"g\", \"g\", \"g\", \"g\", \"g\", \"g\", \"g\", \"g\", \"g\", \"g\", \"g\", \"g\", \"g\", \"g\", \"g\", \"g\", \"g\", \"g\", \"g\", \"g\", \"g\", \"g\", \"g\", \"g\", \"g\", \"g\", \"g\", \"g\", \"g\", \"g\", \"g\", \"g\", \"g\", \"g\", \"g\", \"g\", \"g\", \"g\", \"g\", \"g\", \"g\", \"g\", \"g\", \"g\", \"g\", \"g\", \"g\", \"g\", \"g\", \"g\", \"g\", \"g\", \"g\", \"g\", \"g\", \"g\", \"g\", \"g\", \"g\", \"g\", \"g\", \"g\", \"g\", \"g\", \"g\", \"g\", \"g\", \"g\", \"g\", \"g\", \"g\", \"g\", \"g\", \"g\", \"g\", \"g\", \"g\", \"g\", \"g\", \"g\", \"g\", \"g\", \"g\", \"g\", \"g\", \"g\", \"g\", \"g\", \"g\", \"g\", \"g\", \"g\", \"g\", \"g\", \"g\", \"g\", \"g\", \"g\", \"g\", \"g\", \"g\", \"g\", \"g\", \"g\", \"g\", \"g\", \"g\", \"g\", \"g\", \"g\", \"g\", \"g\", \"g\", \"g\", \"g\", \"g\", \"g\", \"g\", \"g\", \"g\", \"g\", \"g\", \"g\", \"g\", \"g\", \"g\", \"g\", \"g\", \"g\", \"g\", \"g\", \"g\", \"g\", \"g\", \"g\", \"g\", \"g\", \"g\", \"g\", \"g\", \"g\", \"g\", \"g\", \"g\", \"g\", \"g\", \"g\", \"g\", \"g\", \"g\", \"g\", \"g\", \"g\", \"g\", \"g\", \"g\", \"g\", \"g\", \"g\", \"g\", \"g\", \"g\", \"g\", \"g\", \"g\", \"g\", \"g\", \"g\", \"g\", \"g\", \"g\", \"g\", \"g\", \"g\", \"g\", \"g\", \"g\", \"g\", \"g\", \"g\", \"g\", \"g\", \"g\", \"g\", \"g\", \"g\", \"g\", \"g\", \"g\", \"g\", \"g\", \"g\", \"g\", \"g\", \"g\", \"g\", \"g\", \"g\", \"g\", \"g\", \"g\", \"g\", \"g\", \"g\", \"g\", \"g\", \"g\", \"g\", \"g\", \"g\", \"g\", \"g\", \"g\", \"g\", \"g\", \"g\", \"g\", \"g\", \"g\", \"g\", \"g\", \"g\", \"g\", \"g\", \"g\", \"g\", \"g\", \"g\", \"g\", \"g\", \"g\", \"g\", \"g\", \"g\", \"g\", \"g\", \"g\", \"g\", \"g\", \"g\", \"g\", \"g\", \"g\", \"g\", \"g\", \"g\", \"g\", \"g\", \"g\", \"g\", \"g\", \"g\", \"g\", \"g\", \"g\", \"g\", \"g\", \"g\", \"g\", \"g\", \"g\", \"g\", \"g\", \"g\", \"g\", \"g\", \"g\", \"g\", \"g\", \"g\", \"g\", \"g\", \"g\", \"g\", \"g\", \"g\", \"g\", \"g\", \"g\", \"g\", \"g\", \"g\", \"g\", \"g\", \"g\", \"g\", \"g\", \"g\", \"g\", \"g\", \"g\", \"g\", \"g\", \"g\", \"g\", \"g\", \"g\", \"g\", \"g\", \"g\", \"g\", \"g\", \"g\", \"g\", \"g\", \"g\", \"g\", \"g\", \"g\", \"g\", \"g\", \"g\", \"g\", \"g\", \"g\", \"g\", \"g\", \"g\", \"g\", \"g\", \"g\", \"g\", \"g\", \"g\", \"g\", \"g\", \"g\", \"g\", \"g\", \"g\", \"g\", \"g\", \"g\", \"g\", \"g\", \"g\", \"g\", \"g\", \"g\", \"g\", \"g\", \"g\", \"g\", \"g\", \"g\", \"g\", \"g\", \"g\", \"g\", \"g\", \"g\", \"g\", \"g\", \"g\", \"g\", \"g\", \"g\", \"g\", \"g\", \"g\", \"g\", \"g\", \"g\", \"g\", \"g\", \"g\", \"g\", \"g\", \"g\", \"g\", \"g\", \"g\", \"g\", \"g\", \"g\", \"g\", \"g\", \"g\", \"g\", \"g\", \"g\", \"g\", \"g\", \"g\", \"g\", \"g\", \"g\", \"g\", \"g\", \"g\", \"g\", \"g\", \"g\", \"g\", \"g\", \"g\", \"g\", \"g\", \"g\", \"g\", \"g\", \"g\", \"g\", \"g\", \"g\", \"g\", \"g\", \"g\", \"g\", \"g\", \"g\", \"g\", \"g\", \"g\", \"g\", \"g\", \"g\", \"g\", \"g\", \"g\", \"g\", \"g\", \"g\", \"g\", \"g\", \"g\", \"g\", \"g\", \"g\", \"g\", \"g\", \"g\", \"g\", \"g\", \"g\", \"g\", \"g\", \"g\", \"g\", \"g\", \"g\", \"g\", \"g\", \"g\", \"g\", \"g\", \"g\", \"g\", \"g\", \"g\", \"g\", \"g\", \"g\", \"g\", \"g\", \"g\", \"g\", \"g\", \"g\", \"g\", \"g\", \"g\", \"g\", \"g\", \"g\", \"g\", \"g\", \"g\", \"g\", \"g\", \"g\", \"g\", \"g\", \"g\", \"g\", \"g\", \"g\", \"g\", \"g\", \"g\", \"g\", \"g\", \"g\", \"g\", \"g\", \"g\", \"g\", \"g\", \"g\", \"g\", \"g\", \"g\", \"g\", \"g\", \"g\", \"g\", \"g\", \"g\", \"g\", \"g\", \"g\", \"g\", \"g\", \"g\", \"g\", \"g\", \"g\", \"g\", \"g\", \"g\", \"g\", \"g\", \"g\", \"g\", \"g\", \"g\", \"g\", \"g\", \"g\", \"g\", \"g\", \"g\", \"g\", \"g\", \"g\", \"g\", \"g\", \"g\", \"g\", \"g\", \"g\", \"g\", \"g\", \"g\", \"g\", \"g\", \"g\", \"g\", \"g\", \"g\", \"g\", \"g\", \"g\", \"g\", \"g\", \"g\", \"g\", \"g\", \"g\", \"g\", \"g\", \"g\", \"g\", \"g\", \"g\", \"g\", \"g\", \"g\", \"g\", \"g\", \"g\", \"g\", \"g\", \"g\", \"g\", \"g\", \"g\", \"g\", \"g\", \"g\", \"g\", \"g\", \"g\", \"g\", \"g\", \"g\", \"g\", \"g\", \"g\", \"g\", \"g\", \"g\", \"g\", \"g\", \"g\", \"g\", \"g\", \"g\", \"g\", \"g\", \"g\", \"g\", \"g\", \"g\", \"g\", \"g\", \"g\", \"g\", \"g\", \"g\", \"g\", \"g\", \"g\", \"g\", \"g\", \"g\", \"g\", \"g\", \"g\", \"g\", \"g\", \"g\", \"g\", \"g\", \"g\", \"g\", \"g\", \"g\", \"g\", \"g\", \"g\", \"g\", \"g\", \"g\", \"g\", \"g\", \"g\", \"g\", \"g\", \"g\", \"g\", \"g\", \"g\", \"g\", \"g\", \"g\", \"g\", \"g\", \"g\", \"g\", \"g\", \"g\", \"g\", \"g\", \"g\", \"g\", \"g\", \"g\", \"g\", \"g\", \"g\", \"g\", \"g\", \"g\", \"g\", \"g\", \"g\", \"g\", \"g\", \"g\", \"g\", \"g\", \"g\", \"g\", \"g\", \"g\", \"g\", \"g\", \"g\", \"g\", \"g\", \"g\", \"g\", \"g\", \"g\", \"g\", \"g\", \"g\", \"g\", \"g\", \"g\", \"g\", \"g\", \"g\", \"g\", \"g\", \"g\", \"g\", \"g\", \"g\", \"g\", \"g\", \"g\", \"g\", \"g\", \"g\", \"g\", \"g\", \"g\", \"g\", \"g\", \"g\", \"g\", \"g\", \"g\", \"g\", \"g\", \"g\", \"g\", \"g\", \"g\", \"g\", \"g\", \"g\", \"g\", \"g\", \"g\", \"g\", \"g\", \"g\", \"g\", \"g\", \"g\", \"g\", \"g\", \"g\", \"g\", \"g\", \"g\", \"g\", \"g\", \"g\", \"g\", \"g\", \"g\", \"g\", \"g\", \"g\", \"g\", \"g\", \"g\", \"g\", \"g\", \"g\", \"g\", \"g\", \"g\", \"g\", \"g\", \"g\", \"g\", \"g\", \"g\", \"g\", \"g\", \"g\", \"g\", \"g\", \"g\", \"g\", \"g\", \"g\", \"g\", \"g\", \"g\", \"g\", \"g\", \"g\", \"g\", \"g\", \"g\", \"g\", \"g\", \"g\", \"g\", \"g\", \"g\", \"g\", \"g\", \"g\", \"g\", \"g\", \"g\", \"g\", \"g\", \"g\", \"g\", \"g\", \"g\", \"g\", \"g\", \"g\", \"g\", \"g\", \"g\", \"g\", \"g\", \"g\", \"g\", \"g\", \"g\", \"g\", \"g\", \"g\", \"g\", \"g\", \"g\", \"g\", \"g\", \"g\", \"g\", \"g\", \"g\", \"g\", \"g\", \"g\", \"g\", \"g\", \"g\", \"g\", \"g\", \"g\", \"g\", \"g\", \"g\", \"g\", \"g\", \"g\", \"g\", \"g\", \"g\", \"g\", \"g\", \"g\", \"g\", \"g\", \"g\", \"g\", \"g\", \"g\", \"g\", \"g\", \"g\", \"g\", \"g\", \"g\", \"g\", \"g\", \"g\", \"g\", \"g\", \"g\", \"g\", \"g\", \"g\", \"g\", \"g\", \"g\", \"g\", \"g\", \"g\", \"g\", \"g\", \"g\", \"g\", \"g\", \"g\", \"g\", \"g\", \"g\", \"g\", \"g\", \"g\", \"g\", \"g\", \"g\", \"g\", \"g\", \"g\", \"g\", \"g\", \"g\", \"g\", \"g\", \"g\", \"g\", \"g\", \"g\", \"g\", \"g\", \"g\", \"g\", \"g\", \"g\", \"g\", \"g\", \"g\", \"g\", \"g\", \"g\", \"g\", \"g\", \"g\", \"g\", \"g\", \"g\", \"g\", \"g\", \"g\", \"g\", \"g\", \"g\", \"g\", \"g\", \"g\", \"g\", \"g\", \"g\", \"g\", \"g\", \"g\", \"g\", \"g\", \"g\", \"g\", \"g\", \"g\", \"g\", \"g\", \"g\", \"g\", \"g\", \"g\", \"g\", \"g\", \"g\", \"g\", \"g\", \"g\", \"g\", \"g\", \"g\", \"g\", \"g\", \"g\", \"g\", \"g\", \"g\", \"g\", \"g\", \"g\", \"g\", \"g\", \"g\", \"g\", \"g\", \"g\", \"g\", \"g\", \"g\", \"g\", \"g\", \"g\", \"g\", \"g\", \"g\", \"g\", \"g\", \"g\", \"g\", \"g\", \"g\", \"g\", \"g\", \"g\", \"g\", \"g\", \"g\", \"g\", \"g\", \"g\", \"g\", \"g\", \"g\", \"g\", \"g\", \"g\", \"g\", \"g\", \"g\", \"g\", \"g\", \"g\", \"g\", \"g\", \"g\", \"g\", \"g\", \"g\", \"g\", \"g\", \"g\", \"g\", \"g\", \"g\", \"g\", \"g\", \"g\", \"g\", \"g\", \"g\", \"g\", \"g\", \"g\", \"g\", \"g\", \"g\", \"g\", \"g\", \"g\", \"g\", \"g\", \"g\", \"g\", \"g\", \"g\", \"g\", \"g\", \"g\", \"g\", \"g\", \"g\", \"g\", \"g\", \"g\", \"g\", \"g\", \"g\", \"g\", \"g\", \"g\", \"g\", \"g\", \"g\", \"g\", \"g\", \"g\", \"g\", \"g\", \"g\", \"g\", \"g\", \"g\", \"g\", \"g\", \"g\", \"g\", \"g\", \"g\", \"g\", \"g\", \"g\", \"g\", \"g\", \"g\", \"g\", \"g\", \"g\", \"g\", \"g\", \"g\", \"g\", \"g\", \"g\", \"g\", \"g\", \"g\", \"g\", \"g\", \"g\", \"g\", \"g\", \"g\", \"g\", \"g\", \"g\", \"g\", \"g\", \"g\", \"g\", \"g\", \"g\", \"g\", \"g\", \"g\", \"g\", \"g\", \"g\", \"g\", \"g\", \"g\", \"g\", \"g\", \"g\", \"g\", \"g\", \"g\", \"g\", \"g\", \"g\", \"g\", \"g\", \"g\", \"g\", \"g\", \"g\", \"g\", \"g\", \"g\", \"g\", \"g\", \"g\", \"g\", \"g\", \"g\", \"g\", \"g\", \"g\", \"g\", \"g\", \"g\", \"g\", \"g\", \"g\", \"g\", \"g\", \"g\", \"g\", \"g\", \"g\", \"g\", \"g\", \"g\", \"g\", \"g\", \"g\", \"g\", \"g\", \"g\", \"g\", \"g\", \"g\", \"g\", \"g\", \"g\", \"g\", \"g\", \"g\", \"g\", \"g\", \"g\", \"g\", \"g\", \"g\", \"g\", \"g\", \"g\", \"g\", \"g\", \"g\", \"g\", \"g\", \"g\", \"g\", \"g\", \"g\", \"g\", \"g\", \"g\", \"g\", \"g\", \"g\", \"g\", \"g\", \"g\", \"g\", \"g\", \"g\", \"g\", \"g\", \"g\", \"g\", \"g\", \"g\", \"g\", \"g\", \"g\", \"g\", \"g\", \"g\", \"g\", \"g\", \"g\", \"g\", \"g\", \"g\", \"g\", \"g\", \"g\", \"g\", \"g\", \"g\", \"g\", \"g\", \"g\", \"g\", \"g\", \"g\", \"g\", \"g\", \"g\", \"g\", \"g\", \"g\", \"g\", \"g\", \"g\", \"g\", \"g\", \"g\", \"g\", \"g\", \"g\", \"g\", \"g\", \"g\", \"g\", \"g\", \"g\", \"g\", \"g\", \"g\", \"g\", \"g\", \"g\", \"g\", \"g\", \"g\", \"g\", \"g\", \"g\", \"g\", \"g\", \"g\", \"g\", \"g\", \"g\", \"g\", \"g\", \"g\", \"g\", \"g\", \"g\", \"g\", \"g\", \"g\", \"g\", \"g\", \"g\", \"g\", \"g\", \"g\", \"g\", \"g\", \"g\", \"g\", \"g\", \"g\", \"g\", \"g\", \"g\", \"g\", \"g\", \"g\", \"g\", \"g\", \"g\", \"g\", \"g\", \"g\", \"g\", \"g\", \"g\", \"g\", \"g\", \"g\", \"g\", \"g\", \"g\", \"g\", \"g\", \"g\", \"g\", \"g\", \"g\", \"g\", \"g\", \"g\", \"g\", \"g\", \"g\", \"g\", \"g\", \"g\", \"g\", \"g\", \"g\", \"g\", \"g\", \"g\", \"g\", \"g\", \"g\", \"g\", \"g\", \"g\", \"g\", \"g\", \"g\", \"g\", \"g\", \"g\", \"g\", \"g\", \"g\", \"g\", \"g\", \"g\", \"g\", \"g\", \"g\", \"g\", \"g\", \"g\", \"g\", \"g\", \"g\", \"g\", \"g\", \"g\", \"g\", \"g\", \"g\", \"g\", \"g\", \"g\", \"g\", \"g\", \"g\", \"g\", \"g\", \"g\", \"g\", \"g\", \"g\", \"g\", \"g\", \"g\", \"g\", \"g\", \"g\", \"g\", \"g\", \"g\", \"g\", \"g\", \"g\", \"g\", \"g\", \"g\", \"g\", \"g\", \"g\", \"g\", \"g\", \"g\", \"g\", \"g\", \"g\", \"g\", \"g\", \"g\", \"g\", \"g\", \"g\", \"g\", \"g\", \"g\", \"g\", \"g\", \"g\", \"g\", \"g\", \"g\", \"g\", \"g\", \"g\", \"g\", \"g\", \"g\", \"g\", \"g\", \"g\", \"g\", \"g\", \"g\", \"g\", \"g\", \"g\", \"g\", \"g\", \"g\", \"g\", \"g\", \"g\", \"g\", \"g\", \"g\", \"g\", \"g\", \"g\", \"g\", \"g\", \"g\", \"g\", \"g\", \"g\", \"g\", \"g\", \"g\", \"g\", \"g\", \"g\", \"g\", \"g\", \"g\", \"g\", \"g\", \"g\", \"g\", \"g\", \"g\", \"g\", \"g\", \"g\", \"g\", \"g\", \"g\", \"g\", \"g\", \"g\", \"g\", \"g\", \"g\", \"g\", \"g\", \"g\", \"g\", \"g\", \"g\", \"g\", \"g\", \"g\", \"g\", \"g\", \"g\", \"g\", \"g\", \"g\", \"g\", \"g\", \"g\", \"g\", \"g\", \"g\", \"g\", \"g\", \"g\", \"g\", \"g\", \"g\", \"g\", \"g\", \"g\", \"g\", \"g\", \"g\", \"g\", \"g\", \"g\", \"g\", \"g\", \"g\", \"g\", \"g\", \"g\", \"g\", \"g\", \"g\", \"g\", \"g\", \"g\", \"g\", \"g\", \"g\", \"g\", \"g\", \"g\", \"g\", \"g\", \"g\", \"g\", \"g\", \"g\", \"g\", \"g\", \"g\", \"g\", \"g\", \"g\", \"g\", \"g\", \"g\", \"g\", \"g\", \"g\", \"g\", \"g\", \"g\", \"g\", \"g\", \"g\", \"g\", \"g\", \"g\", \"g\", \"g\", \"g\", \"g\", \"g\", \"g\", \"g\", \"g\", \"g\", \"g\", \"g\", \"g\", \"g\", \"g\", \"g\", \"g\", \"g\", \"g\", \"g\", \"g\", \"g\", \"g\", \"g\", \"g\", \"g\", \"g\", \"g\", \"g\", \"g\", \"g\", \"g\", \"g\", \"g\", \"g\", \"g\", \"g\", \"g\", \"g\", \"g\", \"g\", \"g\", \"g\", \"g\", \"g\", \"g\", \"g\", \"g\", \"g\", \"g\", \"g\", \"g\", \"g\", \"g\", \"g\", \"g\", \"g\", \"g\", \"g\", \"g\", \"g\", \"g\", \"g\", \"g\", \"g\", \"g\", \"g\", \"g\", \"g\", \"g\", \"g\", \"g\", \"g\", \"g\", \"g\", \"g\", \"g\", \"g\", \"g\", \"g\", \"g\", \"g\", \"g\", \"g\", \"g\", \"g\", \"g\", \"g\", \"g\", \"g\", \"g\", \"g\", \"g\", \"g\", \"g\", \"g\", \"g\", \"g\", \"g\", \"g\", \"g\", \"g\", \"g\", \"g\", \"g\", \"g\", \"g\", \"g\", \"g\", \"g\", \"g\", \"g\", \"g\", \"g\", \"g\", \"g\", \"g\", \"g\", \"g\", \"g\", \"g\", \"g\", \"g\", \"g\", \"g\", \"g\", \"g\", \"g\", \"g\", \"g\", \"g\", \"g\", \"g\", \"g\", \"g\", \"g\", \"g\", \"g\", \"g\", \"g\", \"g\", \"g\", \"g\", \"g\", \"g\", \"g\", \"g\", \"g\", \"g\", \"g\", \"g\", \"g\", \"g\", \"g\", \"g\", \"g\", \"g\", \"g\", \"g\", \"g\", \"g\", \"g\", \"g\", \"g\", \"g\", \"g\", \"g\", \"g\", \"g\", \"g\", \"g\", \"g\", \"g\", \"g\", \"g\", \"g\", \"g\", \"g\", \"g\", \"g\", \"g\", \"g\", \"g\", \"g\", \"g\", \"g\", \"g\", \"g\", \"g\", \"g\", \"g\", \"g\", \"g\", \"g\", \"g\", \"g\", \"g\", \"g\", \"g\", \"g\", \"g\", \"g\", \"g\", \"g\", \"g\", \"g\", \"g\", \"g\", \"g\", \"g\", \"g\", \"g\", \"g\", \"g\", \"g\", \"g\", \"g\", \"g\", \"g\", \"g\", \"g\", \"g\", \"g\", \"g\", \"g\", \"g\", \"g\", \"g\", \"g\", \"g\", \"g\", \"g\", \"g\", \"g\", \"g\", \"g\", \"g\", \"g\", \"g\", \"g\", \"g\", \"g\", \"g\", \"g\", \"g\", \"g\", \"g\", \"g\", \"g\", \"g\", \"g\", \"g\", \"g\", \"g\", \"g\", \"g\", \"g\", \"g\", \"g\", \"g\", \"g\", \"g\", \"g\", \"g\", \"g\", \"g\", \"g\", \"g\", \"g\", \"g\", \"g\", \"g\", \"g\", \"g\", \"g\", \"g\", \"g\", \"g\", \"g\", \"g\", \"g\", \"g\", \"g\", \"g\", \"g\", \"g\", \"g\", \"g\", \"g\", \"g\", \"g\", \"g\", \"g\", \"g\", \"g\", \"g\", \"g\", \"g\", \"g\", \"g\", \"g\", \"g\", \"g\", \"g\", \"g\", \"g\", \"g\", \"g\", \"g\", \"g\", \"g\", \"g\", \"g\", \"g\", \"g\", \"g\", \"g\", \"g\", \"g\", \"g\", \"g\", \"g\", \"g\", \"g\", \"g\", \"g\", \"g\", \"g\", \"g\", \"g\", \"g\", \"g\", \"g\", \"g\", \"g\", \"g\", \"g\", \"g\", \"g\", \"g\", \"g\", \"g\", \"g\", \"g\", \"g\", \"g\", \"g\", \"g\", \"g\", \"g\", \"g\", \"g\", \"g\", \"g\", \"g\", \"g\", \"g\", \"g\", \"g\", \"g\", \"g\", \"g\", \"g\", \"g\", \"g\", \"g\", \"g\", \"g\", \"g\", \"g\", \"g\", \"g\", \"g\", \"g\", \"g\", \"g\", \"g\", \"g\", \"g\", \"g\", \"g\", \"g\", \"g\", \"g\", \"g\", \"g\", \"g\", \"g\", \"g\", \"g\", \"g\", \"g\", \"g\", \"g\", \"g\", \"g\", \"g\", \"g\", \"g\", \"g\", \"g\", \"g\", \"g\", \"g\", \"g\", \"g\", \"g\", \"g\", \"g\", \"g\", \"g\", \"g\", \"g\", \"g\", \"g\", \"g\", \"g\", \"g\", \"g\", \"g\", \"g\", \"g\", \"g\", \"g\", \"g\", \"g\", \"g\", \"g\", \"g\", \"g\", \"g\", \"g\", \"g\", \"g\", \"g\", \"g\", \"g\", \"g\", \"g\", \"g\", \"g\", \"g\", \"g\", \"g\", \"g\", \"g\", \"g\", \"g\", \"g\", \"g\", \"g\", \"g\", \"g\", \"g\", \"g\", \"g\", \"g\", \"g\", \"g\", \"g\", \"g\", \"g\", \"g\", \"g\", \"g\", \"g\", \"g\", \"g\", \"g\", \"g\", \"g\", \"g\", \"g\", \"g\", \"g\", \"g\", \"g\", \"g\", \"g\", \"g\", \"g\", \"g\", \"g\", \"g\", \"g\", \"g\", \"g\", \"g\", \"g\", \"g\", \"g\", \"g\", \"g\", \"g\", \"g\", \"g\", \"g\", \"g\", \"g\", \"g\", \"g\", \"g\", \"g\", \"g\", \"g\", \"g\", \"g\", \"g\", \"g\", \"g\", \"g\", \"g\", \"g\", \"g\", \"g\", \"g\", \"g\", \"g\", \"g\", \"g\", \"g\", \"g\", \"g\", \"g\", \"g\", \"g\", \"g\", \"g\", \"g\", \"g\", \"g\", \"g\", \"g\", \"g\", \"g\", \"g\", \"g\", \"g\", \"g\", \"g\", \"g\", \"g\", \"g\", \"g\", \"g\", \"g\", \"g\", \"g\", \"g\", \"g\", \"g\", \"g\", \"g\", \"g\", \"g\", \"g\", \"g\", \"g\", \"g\", \"g\", \"g\", \"g\", \"g\", \"g\", \"g\", \"g\", \"g\", \"g\", \"g\", \"g\", \"g\", \"g\", \"g\", \"g\", \"g\", \"g\", \"g\", \"g\", \"g\", \"g\", \"g\", \"g\", \"g\", \"g\", \"g\", \"g\", \"g\", \"g\", \"g\", \"g\", \"g\", \"g\", \"g\", \"g\", \"g\", \"g\", \"g\", \"g\", \"g\", \"g\", \"g\", \"g\", \"g\", \"g\", \"g\", \"g\", \"g\", \"g\", \"g\", \"g\", \"g\", \"g\", \"g\", \"g\", \"g\", \"g\", \"g\", \"g\", \"g\", \"g\", \"g\", \"g\", \"g\", \"g\", \"g\", \"g\", \"g\", \"g\", \"g\", \"g\", \"g\", \"g\", \"g\", \"g\", \"g\", \"g\", \"g\", \"g\", \"g\", \"g\", \"g\", \"g\", \"g\", \"g\", \"g\", \"g\", \"g\", \"g\", \"g\", \"g\", \"g\", \"g\", \"g\", \"g\", \"g\", \"g\", \"g\", \"g\", \"g\", \"g\", \"g\", \"g\", \"g\", \"g\", \"g\", \"g\", \"g\", \"g\", \"g\", \"g\", \"g\", \"g\", \"g\", \"g\", \"g\", \"g\", \"g\", \"g\", \"g\", \"g\", \"g\", \"g\", \"g\", \"g\", \"g\", \"g\", \"g\", \"g\", \"g\", \"g\", \"g\", \"g\", \"g\", \"g\", \"g\", \"g\", \"g\", \"g\", \"g\", \"g\", \"g\", \"g\", \"g\", \"g\", \"g\", \"g\", \"g\", \"g\", \"g\", \"g\", \"g\", \"g\", \"g\", \"g\", \"g\", \"g\", \"g\", \"g\", \"g\", \"g\", \"g\", \"g\", \"g\", \"g\", \"g\", \"g\", \"g\", \"g\", \"g\", \"g\", \"g\", \"g\", \"g\", \"g\", \"g\", \"g\", \"g\", \"g\", \"g\", \"g\", \"g\", \"g\", \"g\", \"g\", \"g\", \"g\", \"g\", \"g\", \"g\", \"g\", \"g\", \"g\", \"g\", \"g\", \"g\", \"g\", \"g\", \"g\", \"g\", \"g\", \"g\", \"g\", \"g\", \"g\", \"g\", \"g\", \"g\", \"g\", \"g\", \"g\", \"g\", \"g\", \"g\", \"g\", \"g\", \"g\", \"g\", \"g\", \"g\", \"g\", \"g\", \"g\", \"g\", \"g\", \"g\", \"g\", \"g\", \"g\", \"g\", \"g\", \"g\", \"g\", \"g\", \"g\", \"g\", \"g\", \"g\", \"g\", \"g\", \"g\", \"g\", \"g\", \"g\", \"g\", \"g\", \"g\", \"g\", \"g\", \"g\", \"g\", \"g\", \"g\", \"g\", \"g\", \"g\", \"g\", \"g\", \"g\", \"g\", \"g\", \"g\", \"g\", \"g\", \"g\", \"g\", \"g\", \"g\", \"g\", \"g\", \"g\", \"g\", \"g\", \"g\", \"g\", \"g\", \"g\", \"g\", \"g\", \"g\", \"g\", \"g\", \"g\", \"g\", \"g\", \"g\", \"g\", \"g\", \"g\", \"g\", \"g\", \"g\", \"g\", \"g\", \"g\", \"g\", \"g\", \"g\", \"g\", \"g\", \"g\", \"g\", \"g\", \"g\", \"g\", \"g\", \"g\", \"g\", \"g\", \"g\", \"g\", \"g\", \"g\", \"g\", \"g\", \"g\", \"g\", \"g\", \"g\", \"g\", \"g\", \"g\", \"g\", \"g\", \"g\", \"g\", \"g\", \"g\", \"g\", \"g\", \"g\", \"g\", \"g\", \"g\", \"g\", \"g\", \"g\", \"g\", \"g\", \"g\", \"g\", \"g\", \"g\", \"g\", \"g\", \"g\", \"g\", \"g\", \"g\", \"g\", \"g\", \"g\", \"g\", \"g\", \"g\", \"g\", \"g\", \"g\", \"g\", \"g\", \"g\", \"g\", \"g\", \"g\", \"g\", \"g\", \"g\", \"g\", \"g\", \"g\", \"g\", \"g\", \"g\", \"g\", \"g\", \"g\", \"g\", \"g\", \"g\", \"g\", \"g\", \"g\", \"g\", \"g\", \"g\", \"g\", \"g\", \"g\", \"g\", \"g\", \"g\", \"g\", \"g\", \"g\", \"g\", \"g\", \"g\", \"g\", \"g\", \"g\", \"g\", \"g\", \"g\", \"g\", \"g\", \"g\", \"g\", \"g\", \"g\", \"g\", \"g\", \"g\", \"g\", \"g\", \"g\", \"g\", \"g\", \"g\", \"g\", \"g\", \"g\", \"g\", \"g\", \"g\", \"g\", \"g\", \"g\", \"g\", \"g\", \"g\", \"g\", \"g\", \"g\", \"g\", \"g\", \"g\", \"g\", \"g\", \"g\", \"g\", \"g\", \"g\", \"g\", \"g\", \"g\", \"g\", \"g\", \"g\", \"g\", \"g\", \"g\", \"g\", \"g\", \"g\", \"g\", \"g\", \"g\", \"g\", \"g\", \"g\", \"g\", \"g\", \"g\", \"g\", \"g\", \"g\", \"g\", \"g\", \"g\", \"g\", \"g\", \"g\", \"g\", \"g\", \"g\", \"g\", \"g\", \"g\", \"g\", \"g\", \"g\", \"g\", \"g\", \"g\", \"g\", \"g\", \"g\", \"g\", \"g\", \"g\", \"g\", \"g\", \"g\", \"g\", \"g\", \"g\", \"g\", \"g\", \"g\", \"g\", \"g\", \"g\", \"g\", \"g\", \"g\", \"g\", \"g\", \"g\", \"g\", \"g\", \"g\", \"g\", \"g\", \"g\", \"g\", \"g\", \"g\", \"g\", \"g\", \"g\", \"g\", \"g\", \"g\", \"g\", \"g\", \"g\", \"g\", \"g\", \"g\", \"g\", \"g\", \"g\", \"g\", \"g\", \"g\", \"g\", \"g\", \"g\", \"g\", \"g\", \"g\", \"g\", \"g\", \"g\", \"g\", \"g\", \"g\", \"g\", \"g\", \"g\", \"g\", \"g\", \"g\", \"g\", \"g\", \"g\", \"g\", \"g\", \"g\", \"g\", \"g\", \"g\", \"g\", \"g\", \"g\", \"g\", \"g\", \"g\", \"g\", \"g\", \"g\", \"g\", \"g\", \"g\", \"g\", \"g\", \"g\", \"g\", \"g\", \"g\", \"g\", \"g\", \"g\", \"g\", \"g\", \"g\", \"g\", \"g\", \"g\", \"g\", \"g\", \"g\", \"g\", \"g\", \"g\", \"g\", \"g\", \"g\", \"g\", \"g\", \"g\", \"g\", \"g\", \"g\", \"g\", \"g\", \"g\", \"g\", \"g\", \"g\", \"g\", \"g\", \"g\", \"g\", \"g\", \"g\", \"g\", \"g\", \"g\", \"g\", \"g\", \"g\", \"g\", \"g\", \"g\", \"g\", \"g\", \"g\", \"g\", \"g\", \"g\", \"g\", \"g\", \"g\", \"g\", \"g\", \"g\", \"g\", \"g\", \"g\", \"g\", \"g\", \"g\", \"g\", \"g\", \"g\", \"g\", \"g\", \"g\", \"g\", \"g\", \"g\", \"g\", \"g\", \"g\", \"g\", \"g\", \"g\", \"g\", \"g\", \"g\", \"g\", \"g\", \"g\", \"g\", \"g\", \"g\", \"g\", \"g\", \"g\", \"g\", \"g\", \"g\", \"g\", \"g\", \"g\", \"g\", \"g\", \"g\", \"g\", \"g\", \"g\", \"g\", \"g\", \"g\", \"g\", \"g\", \"g\", \"g\", \"g\", \"g\", \"g\", \"g\", \"g\", \"g\", \"g\", \"g\", \"g\", \"g\", \"g\", \"g\", \"g\", \"g\", \"g\", \"g\", \"g\", \"g\", \"g\", \"g\", \"g\", \"g\", \"g\", \"g\", \"g\", \"g\", \"g\", \"g\", \"g\", \"g\", \"g\", \"g\", \"g\", \"g\", \"g\", \"g\", \"g\", \"g\", \"g\", \"g\", \"g\", \"g\", \"g\", \"g\", \"g\", \"g\", \"g\", \"g\", \"g\", \"g\", \"g\", \"g\", \"g\", \"g\", \"g\", \"g\", \"g\", \"g\", \"g\", \"g\", \"g\", \"g\", \"g\", \"g\", \"g\", \"g\", \"g\", \"g\", \"g\", \"g\", \"g\", \"g\", \"g\", \"g\", \"g\", \"g\", \"g\", \"g\", \"g\", \"g\", \"g\", \"g\", \"g\", \"g\", \"g\", \"g\", \"g\", \"g\", \"g\", \"g\", \"g\", \"g\", \"g\", \"g\", \"g\", \"g\", \"g\", \"g\", \"g\", \"g\", \"g\", \"g\", \"g\", \"g\", \"g\", \"g\", \"g\", \"g\", \"g\", \"g\", \"g\", \"g\", \"g\", \"g\", \"g\", \"g\", \"g\", \"g\", \"g\", \"g\", \"g\", \"g\", \"g\", \"g\", \"g\", \"g\", \"g\", \"g\", \"g\", \"g\", \"g\", \"g\", \"g\", \"g\", \"g\", \"g\", \"g\", \"g\", \"g\", \"g\", \"g\", \"g\", \"g\", \"g\", \"g\", \"g\", \"g\", \"g\", \"g\", \"g\", \"g\", \"g\", \"g\", \"g\", \"g\", \"g\", \"g\", \"g\", \"g\", \"g\", \"g\", \"g\", \"g\", \"g\", \"g\", \"g\", \"g\", \"g\", \"g\", \"g\", \"g\", \"g\", \"g\", \"g\", \"g\", \"g\", \"g\", \"g\", \"g\", \"g\", \"g\", \"g\", \"g\", \"g\", \"g\", \"g\", \"g\", \"g\", \"g\", \"g\", \"g\", \"g\", \"g\", \"g\", \"g\", \"g\", \"g\", \"g\", \"g\", \"g\", \"g\", \"g\", \"g\", \"g\", \"g\", \"g\", \"g\", \"g\", \"g\", \"g\", \"g\", \"g\", \"g\", \"g\", \"g\", \"g\", \"g\", \"g\", \"g\", \"g\", \"g\", \"g\", \"g\", \"g\", \"g\", \"g\", \"g\", \"g\", \"g\", \"g\", \"g\", \"g\", \"g\", \"g\", \"g\", \"g\", \"g\", \"g\", \"g\", \"g\", \"g\", \"g\", \"g\", \"g\", \"g\", \"g\", \"g\", \"g\", \"g\", \"g\", \"g\", \"g\", \"g\", \"g\", \"g\", \"g\", \"g\", \"g\", \"g\", \"g\", \"g\", \"g\", \"g\", \"g\", \"g\", \"g\", \"g\", \"g\", \"g\", \"g\", \"g\", \"g\", \"g\", \"g\", \"g\", \"g\", \"g\", \"g\", \"g\", \"g\", \"g\", \"g\", \"g\", \"g\", \"g\", \"g\", \"g\", \"g\", \"g\", \"g\", \"g\", \"g\", \"g\", \"g\", \"g\", \"g\", \"g\", \"g\", \"g\", \"g\", \"g\", \"g\", \"g\", \"g\", \"g\", \"g\", \"g\", \"g\", \"g\", \"g\", \"g\", \"g\", \"g\", \"g\", \"g\", \"g\", \"g\", \"g\", \"g\", \"g\", \"g\", \"g\", \"g\", \"g\", \"g\", \"g\", \"g\", \"g\", \"g\", \"g\", \"g\", \"g\", \"g\", \"g\", \"g\", \"g\", \"g\", \"g\", \"g\", \"g\", \"g\", \"g\", \"g\", \"g\", \"g\", \"g\", \"g\", \"g\", \"g\", \"g\", \"g\", \"g\", \"g\", \"g\", \"g\", \"g\", \"g\", \"g\", \"g\", \"g\", \"g\", \"g\", \"g\", \"g\", \"g\", \"g\", \"g\", \"g\", \"g\", \"g\", \"g\", \"g\", \"g\", \"g\", \"g\", \"g\", \"g\", \"g\", \"g\", \"g\", \"g\", \"g\", \"g\", \"g\", \"g\", \"g\", \"g\", \"g\", \"g\", \"g\", \"g\", \"g\", \"g\", \"g\", \"g\", \"g\", \"g\", \"g\", \"g\", \"g\", \"g\", \"g\", \"g\", \"g\", \"g\", \"g\", \"g\", \"g\", \"g\", \"g\", \"g\", \"g\", \"g\", \"g\", \"g\", \"g\", \"g\", \"g\", \"g\", \"g\", \"g\", \"g\", \"g\", \"g\", \"g\", \"g\", \"g\", \"g\", \"g\", \"g\", \"g\", \"g\", \"g\", \"g\", \"g\", \"g\", \"g\", \"g\", \"g\", \"g\", \"g\", \"g\", \"g\", \"g\", \"g\", \"g\", \"g\", \"g\", \"g\", \"g\", \"g\", \"g\", \"g\", \"g\", \"g\", \"g\", \"g\", \"g\", \"g\", \"g\", \"g\", \"g\", \"g\", \"g\", \"g\", \"g\", \"g\", \"g\", \"g\", \"g\", \"g\", \"g\", \"g\", \"g\", \"g\", \"g\", \"g\", \"g\", \"g\", \"g\", \"g\", \"g\", \"g\", \"g\", \"g\", \"g\", \"g\", \"g\", \"g\", \"g\", \"g\", \"g\", \"g\", \"g\", \"g\", \"g\", \"g\", \"g\", \"g\", \"g\", \"g\", \"g\", \"g\", \"g\", \"g\", \"g\", \"g\", \"g\", \"g\", \"g\", \"g\", \"g\", \"g\", \"g\", \"g\", \"g\", \"g\", \"g\", \"g\", \"g\", \"g\", \"g\", \"g\", \"g\", \"g\", \"g\", \"g\", \"g\", \"g\", \"g\", \"g\", \"g\", \"g\", \"g\", \"g\", \"g\", \"g\", \"g\", \"g\", \"g\", \"g\", \"g\", \"g\", \"g\", \"g\", \"g\", \"g\", \"g\", \"g\", \"g\", \"g\", \"g\", \"g\", \"g\", \"g\", \"g\", \"g\", \"g\", \"g\", \"g\", \"g\", \"g\", \"g\", \"g\", \"g\", \"g\", \"g\", \"g\", \"g\", \"g\", \"g\", \"g\", \"g\", \"g\", \"g\", \"g\", \"g\", \"g\", \"g\", \"g\", \"g\", \"g\", \"g\", \"g\", \"g\", \"g\", \"g\", \"g\", \"g\", \"g\", \"g\", \"g\", \"g\", \"g\", \"g\", \"g\", \"g\", \"g\", \"g\", \"g\", \"g\", \"g\", \"g\", \"g\", \"g\", \"g\", \"g\", \"g\", \"g\", \"g\", \"g\", \"g\", \"g\", \"g\", \"g\", \"g\", \"g\", \"g\", \"g\", \"g\", \"g\", \"g\", \"g\", \"g\", \"g\", \"g\", \"g\", \"g\", \"g\", \"g\", \"g\", \"g\", \"g\", \"g\", \"g\", \"g\", \"g\", \"g\", \"g\", \"g\", \"g\", \"g\", \"g\", \"g\", \"g\", \"g\", \"g\", \"g\", \"g\", \"g\", \"g\", \"g\", \"g\", \"g\", \"g\", \"g\", \"g\", \"g\", \"g\", \"g\", \"g\", \"g\", \"g\", \"g\", \"g\", \"g\", \"g\", \"g\", \"g\", \"g\", \"g\", \"g\", \"g\", \"g\", \"g\", \"g\", \"g\", \"g\", \"g\", \"g\", \"g\", \"g\", \"g\", \"g\", \"g\", \"g\", \"g\", \"g\", \"g\", \"g\", \"g\", \"g\", \"g\", \"g\", \"g\", \"g\", \"g\", \"g\", \"g\", \"g\", \"g\", \"g\", \"g\", \"g\", \"g\", \"g\", \"g\", \"g\", \"g\", \"g\", \"g\", \"g\", \"g\", \"g\", \"g\", \"g\", \"g\", \"g\", \"g\", \"g\", \"g\", \"g\", \"g\", \"g\", \"g\", \"g\", \"g\"], \"xaxis\": \"x\", \"yaxis\": \"y\"}, {\"alignmentgroup\": \"True\", \"bingroup\": \"x\", \"hovertemplate\": \"class=%{x}<br>count=%{y}<extra></extra>\", \"legendgroup\": \"h\", \"marker\": {\"color\": \"#ab63fa\"}, \"name\": \"h\", \"offsetgroup\": \"h\", \"orientation\": \"v\", \"showlegend\": true, \"type\": \"histogram\", \"x\": [\"h\", \"h\", \"h\", \"h\", \"h\", \"h\", \"h\", \"h\", \"h\", \"h\", \"h\", \"h\", \"h\", \"h\", \"h\", \"h\", \"h\", \"h\", \"h\", \"h\", \"h\", \"h\", \"h\", \"h\", \"h\", \"h\", \"h\", \"h\", \"h\", \"h\", \"h\", \"h\", \"h\", \"h\", \"h\", \"h\", \"h\", \"h\", \"h\", \"h\", \"h\", \"h\", \"h\", \"h\", \"h\", \"h\", \"h\", \"h\", \"h\", \"h\", \"h\", \"h\", \"h\", \"h\", \"h\", \"h\", \"h\", \"h\", \"h\", \"h\", \"h\", \"h\", \"h\", \"h\", \"h\", \"h\", \"h\", \"h\", \"h\", \"h\", \"h\", \"h\", \"h\", \"h\", \"h\", \"h\", \"h\", \"h\", \"h\", \"h\", \"h\", \"h\", \"h\", \"h\", \"h\", \"h\", \"h\", \"h\", \"h\", \"h\", \"h\", \"h\", \"h\", \"h\", \"h\", \"h\", \"h\", \"h\", \"h\", \"h\", \"h\", \"h\", \"h\", \"h\", \"h\", \"h\", \"h\", \"h\", \"h\", \"h\", \"h\", \"h\", \"h\", \"h\", \"h\", \"h\", \"h\", \"h\", \"h\", \"h\", \"h\", \"h\", \"h\", \"h\", \"h\", \"h\", \"h\", \"h\", \"h\", \"h\", \"h\", \"h\", \"h\", \"h\", \"h\", \"h\", \"h\", \"h\", \"h\", \"h\", \"h\", \"h\", \"h\", \"h\", \"h\", \"h\", \"h\", \"h\", \"h\", \"h\", \"h\", \"h\", \"h\", \"h\", \"h\", \"h\", \"h\", \"h\", \"h\", \"h\", \"h\", \"h\", \"h\", \"h\", \"h\", \"h\", \"h\", \"h\", \"h\", \"h\", \"h\", \"h\", \"h\", \"h\", \"h\", \"h\", \"h\", \"h\", \"h\", \"h\", \"h\", \"h\", \"h\", \"h\", \"h\", \"h\", \"h\", \"h\", \"h\", \"h\", \"h\", \"h\", \"h\", \"h\", \"h\", \"h\", \"h\", \"h\", \"h\", \"h\", \"h\", \"h\", \"h\", \"h\", \"h\", \"h\", \"h\", \"h\", \"h\", \"h\", \"h\", \"h\", \"h\", \"h\", \"h\", \"h\", \"h\", \"h\", \"h\", \"h\", \"h\", \"h\", \"h\", \"h\", \"h\", \"h\", \"h\", \"h\", \"h\", \"h\", \"h\", \"h\", \"h\", \"h\", \"h\", \"h\", \"h\", \"h\", \"h\", \"h\", \"h\", \"h\", \"h\", \"h\", \"h\", \"h\", \"h\", \"h\", \"h\", \"h\", \"h\", \"h\", \"h\", \"h\", \"h\", \"h\", \"h\", \"h\", \"h\", \"h\", \"h\", \"h\", \"h\", \"h\", \"h\", \"h\", \"h\", \"h\", \"h\", \"h\", \"h\", \"h\", \"h\", \"h\", \"h\", \"h\", \"h\", \"h\", \"h\", \"h\", \"h\", \"h\", \"h\", \"h\", \"h\", \"h\", \"h\", \"h\", \"h\", \"h\", \"h\", \"h\", \"h\", \"h\", \"h\", \"h\", \"h\", \"h\", \"h\", \"h\", \"h\", \"h\", \"h\", \"h\", \"h\", \"h\", \"h\", \"h\", \"h\", \"h\", \"h\", \"h\", \"h\", \"h\", \"h\", \"h\", \"h\", \"h\", \"h\", \"h\", \"h\", \"h\", \"h\", \"h\", \"h\", \"h\", \"h\", \"h\", \"h\", \"h\", \"h\", \"h\", \"h\", \"h\", \"h\", \"h\", \"h\", \"h\", \"h\", \"h\", \"h\", \"h\", \"h\", \"h\", \"h\", \"h\", \"h\", \"h\", \"h\", \"h\", \"h\", \"h\", \"h\", \"h\", \"h\", \"h\", \"h\", \"h\", \"h\", \"h\", \"h\", \"h\", \"h\", \"h\", \"h\", \"h\", \"h\", \"h\", \"h\", \"h\", \"h\", \"h\", \"h\", \"h\", \"h\", \"h\", \"h\", \"h\", \"h\", \"h\", \"h\", \"h\", \"h\", \"h\", \"h\", \"h\", \"h\", \"h\", \"h\", \"h\", \"h\", \"h\", \"h\", \"h\", \"h\", \"h\", \"h\", \"h\", \"h\", \"h\", \"h\", \"h\", \"h\", \"h\", \"h\", \"h\", \"h\", \"h\", \"h\", \"h\", \"h\", \"h\", \"h\", \"h\", \"h\", \"h\", \"h\", \"h\", \"h\", \"h\", \"h\", \"h\", \"h\", \"h\", \"h\", \"h\", \"h\", \"h\", \"h\", \"h\", \"h\", \"h\", \"h\", \"h\", \"h\", \"h\", \"h\", \"h\", \"h\", \"h\", \"h\", \"h\", \"h\", \"h\", \"h\", \"h\", \"h\", \"h\", \"h\", \"h\", \"h\", \"h\", \"h\", \"h\", \"h\", \"h\", \"h\", \"h\", \"h\", \"h\", \"h\", \"h\", \"h\", \"h\", \"h\", \"h\", \"h\", \"h\", \"h\", \"h\", \"h\", \"h\", \"h\", \"h\", \"h\", \"h\", \"h\", \"h\", \"h\", \"h\", \"h\", \"h\", \"h\", \"h\", \"h\", \"h\", \"h\", \"h\", \"h\", \"h\", \"h\", \"h\", \"h\", \"h\", \"h\", \"h\", \"h\", \"h\", \"h\", \"h\", \"h\", \"h\", \"h\", \"h\", \"h\", \"h\", \"h\", \"h\", \"h\", \"h\", \"h\", \"h\", \"h\", \"h\", \"h\", \"h\", \"h\", \"h\", \"h\", \"h\", \"h\", \"h\", \"h\", \"h\", \"h\", \"h\", \"h\", \"h\", \"h\", \"h\", \"h\", \"h\", \"h\", \"h\", \"h\", \"h\", \"h\", \"h\", \"h\", \"h\", \"h\", \"h\", \"h\", \"h\", \"h\", \"h\", \"h\", \"h\", \"h\", \"h\", \"h\", \"h\", \"h\", \"h\", \"h\", \"h\", \"h\", \"h\", \"h\", \"h\", \"h\", \"h\", \"h\", \"h\", \"h\", \"h\", \"h\", \"h\", \"h\", \"h\", \"h\", \"h\", \"h\", \"h\", \"h\", \"h\", \"h\", \"h\", \"h\", \"h\", \"h\", \"h\", \"h\", \"h\", \"h\", \"h\", \"h\", \"h\", \"h\", \"h\", \"h\", \"h\", \"h\", \"h\", \"h\", \"h\", \"h\", \"h\", \"h\", \"h\", \"h\", \"h\", \"h\", \"h\", \"h\", \"h\", \"h\", \"h\", \"h\", \"h\", \"h\", \"h\", \"h\", \"h\", \"h\", \"h\", \"h\", \"h\", \"h\", \"h\", \"h\", \"h\", \"h\", \"h\", \"h\", \"h\", \"h\", \"h\", \"h\", \"h\", \"h\", \"h\", \"h\", \"h\", \"h\", \"h\", \"h\", \"h\", \"h\", \"h\", \"h\", \"h\", \"h\", \"h\", \"h\", \"h\", \"h\", \"h\", \"h\", \"h\", \"h\", \"h\", \"h\", \"h\", \"h\", \"h\", \"h\", \"h\", \"h\", \"h\", \"h\", \"h\", \"h\", \"h\", \"h\", \"h\", \"h\", \"h\", \"h\", \"h\", \"h\", \"h\", \"h\", \"h\", \"h\", \"h\", \"h\", \"h\", \"h\", \"h\", \"h\", \"h\", \"h\", \"h\", \"h\", \"h\", \"h\", \"h\", \"h\", \"h\", \"h\", \"h\", \"h\", \"h\", \"h\", \"h\", \"h\", \"h\", \"h\", \"h\", \"h\", \"h\", \"h\", \"h\", \"h\", \"h\", \"h\", \"h\", \"h\", \"h\", \"h\", \"h\", \"h\", \"h\", \"h\", \"h\", \"h\", \"h\", \"h\", \"h\", \"h\", \"h\", \"h\", \"h\", \"h\", \"h\", \"h\", \"h\", \"h\", \"h\", \"h\", \"h\", \"h\", \"h\", \"h\", \"h\", \"h\", \"h\", \"h\", \"h\", \"h\", \"h\", \"h\", \"h\", \"h\", \"h\", \"h\", \"h\", \"h\", \"h\", \"h\", \"h\", \"h\", \"h\", \"h\", \"h\", \"h\", \"h\", \"h\", \"h\", \"h\", \"h\", \"h\", \"h\", \"h\", \"h\", \"h\", \"h\", \"h\", \"h\", \"h\", \"h\", \"h\", \"h\", \"h\", \"h\", \"h\", \"h\", \"h\", \"h\", \"h\", \"h\", \"h\", \"h\", \"h\", \"h\", \"h\", \"h\", \"h\", \"h\", \"h\", \"h\", \"h\", \"h\", \"h\", \"h\", \"h\", \"h\", \"h\", \"h\", \"h\", \"h\", \"h\", \"h\", \"h\", \"h\", \"h\", \"h\", \"h\", \"h\", \"h\", \"h\", \"h\", \"h\", \"h\", \"h\", \"h\", \"h\", \"h\", \"h\", \"h\", \"h\", \"h\", \"h\", \"h\", \"h\", \"h\", \"h\", \"h\", \"h\", \"h\", \"h\", \"h\", \"h\", \"h\", \"h\", \"h\", \"h\", \"h\", \"h\", \"h\", \"h\", \"h\", \"h\", \"h\", \"h\", \"h\", \"h\", \"h\", \"h\", \"h\", \"h\", \"h\", \"h\", \"h\", \"h\", \"h\", \"h\", \"h\", \"h\", \"h\", \"h\", \"h\", \"h\", \"h\", \"h\", \"h\", \"h\", \"h\", \"h\", \"h\", \"h\", \"h\", \"h\", \"h\", \"h\", \"h\", \"h\", \"h\", \"h\", \"h\", \"h\", \"h\", \"h\", \"h\", \"h\", \"h\", \"h\", \"h\", \"h\", \"h\", \"h\", \"h\", \"h\", \"h\", \"h\", \"h\", \"h\", \"h\", \"h\", \"h\", \"h\", \"h\", \"h\", \"h\", \"h\", \"h\", \"h\", \"h\", \"h\", \"h\", \"h\", \"h\", \"h\", \"h\", \"h\", \"h\", \"h\", \"h\", \"h\", \"h\", \"h\", \"h\", \"h\", \"h\", \"h\", \"h\", \"h\", \"h\", \"h\", \"h\", \"h\", \"h\", \"h\", \"h\", \"h\", \"h\", \"h\", \"h\", \"h\", \"h\", \"h\", \"h\", \"h\", \"h\", \"h\", \"h\", \"h\", \"h\", \"h\", \"h\", \"h\", \"h\", \"h\", \"h\", \"h\", \"h\", \"h\", \"h\", \"h\", \"h\", \"h\", \"h\", \"h\", \"h\", \"h\", \"h\", \"h\", \"h\", \"h\", \"h\", \"h\", \"h\", \"h\", \"h\", \"h\", \"h\", \"h\", \"h\", \"h\", \"h\", \"h\", \"h\", \"h\", \"h\", \"h\", \"h\", \"h\", \"h\", \"h\", \"h\", \"h\", \"h\", \"h\", \"h\", \"h\", \"h\", \"h\", \"h\", \"h\", \"h\", \"h\", \"h\", \"h\", \"h\", \"h\", \"h\", \"h\", \"h\", \"h\", \"h\", \"h\", \"h\", \"h\", \"h\", \"h\", \"h\", \"h\", \"h\", \"h\", \"h\", \"h\", \"h\", \"h\", \"h\", \"h\", \"h\", \"h\", \"h\", \"h\", \"h\", \"h\", \"h\", \"h\", \"h\", \"h\", \"h\", \"h\", \"h\", \"h\", \"h\", \"h\", \"h\", \"h\", \"h\", \"h\", \"h\", \"h\", \"h\", \"h\", \"h\", \"h\", \"h\", \"h\", \"h\", \"h\", \"h\", \"h\", \"h\", \"h\", \"h\", \"h\", \"h\", \"h\", \"h\", \"h\", \"h\", \"h\", \"h\", \"h\", \"h\", \"h\", \"h\", \"h\", \"h\", \"h\", \"h\", \"h\", \"h\", \"h\", \"h\", \"h\", \"h\", \"h\", \"h\", \"h\", \"h\", \"h\", \"h\", \"h\", \"h\", \"h\", \"h\", \"h\", \"h\", \"h\", \"h\", \"h\", \"h\", \"h\", \"h\", \"h\", \"h\", \"h\", \"h\", \"h\", \"h\", \"h\", \"h\", \"h\", \"h\", \"h\", \"h\", \"h\", \"h\", \"h\", \"h\", \"h\", \"h\", \"h\", \"h\", \"h\", \"h\", \"h\", \"h\", \"h\", \"h\", \"h\", \"h\", \"h\", \"h\", \"h\", \"h\", \"h\", \"h\", \"h\", \"h\", \"h\", \"h\", \"h\", \"h\", \"h\", \"h\", \"h\", \"h\", \"h\", \"h\", \"h\", \"h\", \"h\", \"h\", \"h\", \"h\", \"h\", \"h\", \"h\", \"h\", \"h\", \"h\", \"h\", \"h\", \"h\", \"h\", \"h\", \"h\", \"h\", \"h\", \"h\", \"h\", \"h\", \"h\", \"h\", \"h\", \"h\", \"h\", \"h\", \"h\", \"h\", \"h\", \"h\", \"h\", \"h\", \"h\", \"h\", \"h\", \"h\", \"h\", \"h\", \"h\", \"h\", \"h\", \"h\", \"h\", \"h\", \"h\", \"h\", \"h\", \"h\", \"h\", \"h\", \"h\", \"h\", \"h\", \"h\", \"h\", \"h\", \"h\", \"h\", \"h\", \"h\", \"h\", \"h\", \"h\", \"h\", \"h\", \"h\", \"h\", \"h\", \"h\", \"h\", \"h\", \"h\", \"h\", \"h\", \"h\", \"h\", \"h\", \"h\", \"h\", \"h\", \"h\", \"h\", \"h\", \"h\", \"h\", \"h\", \"h\", \"h\", \"h\", \"h\", \"h\", \"h\", \"h\", \"h\", \"h\", \"h\", \"h\", \"h\", \"h\", \"h\", \"h\", \"h\", \"h\", \"h\", \"h\", \"h\", \"h\", \"h\", \"h\", \"h\", \"h\", \"h\", \"h\", \"h\", \"h\", \"h\", \"h\", \"h\", \"h\", \"h\", \"h\", \"h\", \"h\", \"h\", \"h\", \"h\", \"h\", \"h\", \"h\", \"h\", \"h\", \"h\", \"h\", \"h\", \"h\", \"h\", \"h\", \"h\", \"h\", \"h\", \"h\", \"h\", \"h\", \"h\", \"h\", \"h\", \"h\", \"h\", \"h\", \"h\", \"h\", \"h\", \"h\", \"h\", \"h\", \"h\", \"h\", \"h\", \"h\", \"h\", \"h\", \"h\", \"h\", \"h\", \"h\", \"h\", \"h\", \"h\", \"h\", \"h\", \"h\", \"h\", \"h\", \"h\", \"h\", \"h\", \"h\", \"h\", \"h\", \"h\", \"h\", \"h\", \"h\", \"h\", \"h\", \"h\", \"h\", \"h\", \"h\", \"h\", \"h\", \"h\", \"h\", \"h\", \"h\", \"h\", \"h\", \"h\", \"h\", \"h\", \"h\", \"h\", \"h\", \"h\", \"h\", \"h\", \"h\", \"h\", \"h\", \"h\", \"h\", \"h\", \"h\", \"h\", \"h\", \"h\", \"h\", \"h\", \"h\", \"h\", \"h\", \"h\", \"h\", \"h\", \"h\", \"h\", \"h\", \"h\", \"h\", \"h\", \"h\", \"h\", \"h\", \"h\", \"h\", \"h\", \"h\", \"h\", \"h\", \"h\", \"h\", \"h\", \"h\", \"h\", \"h\", \"h\", \"h\", \"h\", \"h\", \"h\", \"h\", \"h\", \"h\", \"h\", \"h\", \"h\", \"h\", \"h\", \"h\", \"h\", \"h\", \"h\", \"h\", \"h\", \"h\", \"h\", \"h\", \"h\", \"h\", \"h\", \"h\", \"h\", \"h\", \"h\", \"h\", \"h\", \"h\", \"h\", \"h\", \"h\", \"h\", \"h\", \"h\", \"h\", \"h\", \"h\", \"h\", \"h\", \"h\", \"h\", \"h\", \"h\", \"h\", \"h\", \"h\", \"h\", \"h\", \"h\", \"h\", \"h\", \"h\", \"h\", \"h\", \"h\", \"h\", \"h\", \"h\", \"h\", \"h\", \"h\", \"h\", \"h\", \"h\", \"h\", \"h\", \"h\", \"h\", \"h\", \"h\", \"h\", \"h\", \"h\", \"h\", \"h\", \"h\", \"h\", \"h\", \"h\", \"h\", \"h\", \"h\", \"h\", \"h\", \"h\", \"h\", \"h\", \"h\", \"h\", \"h\", \"h\", \"h\", \"h\", \"h\", \"h\", \"h\", \"h\", \"h\", \"h\", \"h\", \"h\", \"h\", \"h\", \"h\", \"h\", \"h\", \"h\", \"h\", \"h\", \"h\", \"h\", \"h\", \"h\", \"h\", \"h\", \"h\", \"h\", \"h\", \"h\", \"h\", \"h\", \"h\", \"h\", \"h\", \"h\", \"h\", \"h\", \"h\", \"h\", \"h\", \"h\", \"h\", \"h\", \"h\", \"h\", \"h\", \"h\", \"h\", \"h\", \"h\", \"h\", \"h\", \"h\", \"h\", \"h\", \"h\", \"h\", \"h\", \"h\", \"h\", \"h\", \"h\", \"h\", \"h\", \"h\", \"h\", \"h\", \"h\", \"h\", \"h\", \"h\", \"h\", \"h\", \"h\", \"h\", \"h\", \"h\", \"h\", \"h\", \"h\", \"h\", \"h\", \"h\", \"h\", \"h\", \"h\", \"h\", \"h\", \"h\", \"h\", \"h\", \"h\", \"h\", \"h\", \"h\", \"h\", \"h\", \"h\", \"h\", \"h\", \"h\", \"h\", \"h\", \"h\", \"h\", \"h\", \"h\", \"h\", \"h\", \"h\", \"h\", \"h\", \"h\", \"h\", \"h\", \"h\", \"h\", \"h\", \"h\", \"h\", \"h\", \"h\", \"h\", \"h\", \"h\", \"h\", \"h\", \"h\", \"h\", \"h\", \"h\", \"h\", \"h\", \"h\", \"h\", \"h\", \"h\", \"h\", \"h\", \"h\", \"h\", \"h\", \"h\", \"h\", \"h\", \"h\", \"h\", \"h\", \"h\", \"h\", \"h\", \"h\", \"h\", \"h\", \"h\", \"h\", \"h\", \"h\", \"h\", \"h\", \"h\", \"h\", \"h\", \"h\", \"h\", \"h\", \"h\", \"h\", \"h\", \"h\", \"h\", \"h\", \"h\", \"h\", \"h\", \"h\", \"h\", \"h\", \"h\", \"h\", \"h\", \"h\", \"h\", \"h\", \"h\", \"h\", \"h\", \"h\", \"h\", \"h\", \"h\", \"h\", \"h\", \"h\", \"h\", \"h\", \"h\", \"h\", \"h\", \"h\", \"h\", \"h\", \"h\", \"h\", \"h\", \"h\", \"h\", \"h\", \"h\", \"h\", \"h\", \"h\", \"h\", \"h\", \"h\", \"h\", \"h\", \"h\", \"h\", \"h\", \"h\", \"h\", \"h\", \"h\", \"h\", \"h\", \"h\", \"h\", \"h\", \"h\", \"h\", \"h\", \"h\", \"h\", \"h\", \"h\", \"h\", \"h\", \"h\", \"h\", \"h\", \"h\", \"h\", \"h\", \"h\", \"h\", \"h\", \"h\", \"h\", \"h\", \"h\", \"h\", \"h\", \"h\", \"h\", \"h\", \"h\", \"h\", \"h\", \"h\", \"h\", \"h\", \"h\", \"h\", \"h\", \"h\", \"h\", \"h\", \"h\", \"h\", \"h\", \"h\", \"h\", \"h\", \"h\", \"h\", \"h\", \"h\", \"h\", \"h\", \"h\", \"h\", \"h\", \"h\", \"h\", \"h\", \"h\", \"h\", \"h\", \"h\", \"h\", \"h\", \"h\", \"h\", \"h\", \"h\", \"h\", \"h\", \"h\", \"h\", \"h\", \"h\", \"h\", \"h\", \"h\", \"h\", \"h\", \"h\", \"h\", \"h\", \"h\", \"h\", \"h\", \"h\", \"h\", \"h\", \"h\", \"h\", \"h\", \"h\", \"h\", \"h\", \"h\", \"h\", \"h\", \"h\", \"h\", \"h\", \"h\", \"h\", \"h\", \"h\", \"h\", \"h\", \"h\", \"h\", \"h\", \"h\", \"h\", \"h\", \"h\", \"h\", \"h\", \"h\", \"h\", \"h\", \"h\", \"h\", \"h\", \"h\", \"h\", \"h\", \"h\", \"h\", \"h\", \"h\", \"h\", \"h\", \"h\", \"h\", \"h\", \"h\", \"h\", \"h\", \"h\", \"h\", \"h\", \"h\", \"h\", \"h\", \"h\", \"h\", \"h\", \"h\", \"h\", \"h\", \"h\", \"h\", \"h\", \"h\", \"h\", \"h\", \"h\", \"h\", \"h\", \"h\", \"h\", \"h\", \"h\", \"h\", \"h\", \"h\", \"h\", \"h\", \"h\", \"h\", \"h\", \"h\", \"h\", \"h\", \"h\", \"h\", \"h\", \"h\", \"h\", \"h\", \"h\", \"h\", \"h\", \"h\", \"h\", \"h\", \"h\", \"h\", \"h\", \"h\", \"h\", \"h\", \"h\", \"h\", \"h\", \"h\", \"h\", \"h\", \"h\", \"h\", \"h\", \"h\", \"h\", \"h\", \"h\", \"h\", \"h\", \"h\", \"h\", \"h\", \"h\", \"h\", \"h\", \"h\", \"h\", \"h\", \"h\", \"h\", \"h\", \"h\", \"h\", \"h\", \"h\", \"h\", \"h\", \"h\", \"h\", \"h\", \"h\", \"h\", \"h\", \"h\", \"h\", \"h\", \"h\", \"h\", \"h\", \"h\", \"h\", \"h\", \"h\", \"h\", \"h\", \"h\", \"h\", \"h\", \"h\", \"h\", \"h\", \"h\", \"h\", \"h\", \"h\", \"h\", \"h\", \"h\", \"h\", \"h\", \"h\", \"h\", \"h\", \"h\", \"h\", \"h\", \"h\", \"h\", \"h\", \"h\", \"h\", \"h\", \"h\", \"h\", \"h\", \"h\", \"h\", \"h\", \"h\", \"h\", \"h\", \"h\", \"h\", \"h\", \"h\", \"h\", \"h\", \"h\", \"h\", \"h\", \"h\", \"h\", \"h\", \"h\", \"h\", \"h\", \"h\", \"h\", \"h\", \"h\", \"h\", \"h\", \"h\", \"h\", \"h\", \"h\", \"h\", \"h\", \"h\", \"h\", \"h\", \"h\", \"h\", \"h\", \"h\", \"h\", \"h\", \"h\", \"h\", \"h\", \"h\", \"h\", \"h\", \"h\", \"h\", \"h\", \"h\", \"h\", \"h\", \"h\", \"h\", \"h\", \"h\", \"h\", \"h\", \"h\", \"h\", \"h\", \"h\", \"h\", \"h\", \"h\", \"h\", \"h\", \"h\", \"h\", \"h\", \"h\", \"h\", \"h\", \"h\", \"h\", \"h\", \"h\", \"h\", \"h\", \"h\", \"h\", \"h\", \"h\", \"h\", \"h\", \"h\", \"h\", \"h\", \"h\", \"h\", \"h\", \"h\", \"h\", \"h\", \"h\", \"h\", \"h\", \"h\", \"h\", \"h\", \"h\", \"h\", \"h\", \"h\", \"h\", \"h\", \"h\", \"h\", \"h\", \"h\", \"h\", \"h\", \"h\", \"h\", \"h\", \"h\", \"h\", \"h\", \"h\", \"h\", \"h\", \"h\", \"h\", \"h\", \"h\", \"h\", \"h\", \"h\", \"h\", \"h\", \"h\", \"h\", \"h\", \"h\", \"h\", \"h\", \"h\", \"h\", \"h\", \"h\", \"h\", \"h\", \"h\", \"h\", \"h\", \"h\", \"h\", \"h\", \"h\", \"h\", \"h\", \"h\", \"h\", \"h\", \"h\", \"h\", \"h\", \"h\", \"h\", \"h\", \"h\", \"h\", \"h\", \"h\", \"h\", \"h\", \"h\", \"h\", \"h\", \"h\", \"h\", \"h\", \"h\", \"h\", \"h\", \"h\", \"h\", \"h\", \"h\", \"h\", \"h\", \"h\", \"h\", \"h\", \"h\", \"h\", \"h\", \"h\", \"h\", \"h\", \"h\", \"h\", \"h\", \"h\", \"h\", \"h\", \"h\", \"h\", \"h\", \"h\", \"h\", \"h\", \"h\", \"h\", \"h\", \"h\", \"h\", \"h\", \"h\", \"h\", \"h\", \"h\", \"h\", \"h\", \"h\", \"h\", \"h\", \"h\", \"h\", \"h\", \"h\", \"h\", \"h\", \"h\", \"h\", \"h\", \"h\", \"h\", \"h\", \"h\", \"h\", \"h\", \"h\", \"h\", \"h\", \"h\", \"h\", \"h\", \"h\", \"h\", \"h\", \"h\", \"h\", \"h\", \"h\", \"h\", \"h\", \"h\", \"h\", \"h\", \"h\", \"h\", \"h\", \"h\", \"h\", \"h\", \"h\", \"h\", \"h\", \"h\", \"h\", \"h\", \"h\", \"h\", \"h\", \"h\", \"h\", \"h\", \"h\", \"h\", \"h\", \"h\", \"h\", \"h\", \"h\", \"h\", \"h\", \"h\", \"h\", \"h\", \"h\", \"h\", \"h\", \"h\", \"h\", \"h\", \"h\", \"h\", \"h\", \"h\", \"h\", \"h\", \"h\", \"h\", \"h\", \"h\", \"h\", \"h\", \"h\", \"h\", \"h\", \"h\", \"h\", \"h\", \"h\", \"h\", \"h\", \"h\", \"h\", \"h\", \"h\", \"h\", \"h\", \"h\", \"h\", \"h\", \"h\", \"h\", \"h\", \"h\", \"h\", \"h\", \"h\", \"h\", \"h\", \"h\", \"h\", \"h\", \"h\", \"h\", \"h\", \"h\", \"h\", \"h\", \"h\", \"h\", \"h\", \"h\", \"h\", \"h\", \"h\", \"h\", \"h\", \"h\", \"h\", \"h\", \"h\", \"h\", \"h\", \"h\", \"h\", \"h\", \"h\", \"h\", \"h\", \"h\", \"h\", \"h\", \"h\", \"h\", \"h\", \"h\", \"h\", \"h\", \"h\", \"h\", \"h\", \"h\", \"h\", \"h\", \"h\", \"h\", \"h\", \"h\", \"h\", \"h\", \"h\", \"h\", \"h\", \"h\", \"h\", \"h\", \"h\", \"h\", \"h\", \"h\", \"h\", \"h\", \"h\", \"h\", \"h\", \"h\", \"h\", \"h\", \"h\", \"h\", \"h\", \"h\", \"h\", \"h\", \"h\", \"h\", \"h\", \"h\", \"h\", \"h\", \"h\", \"h\", \"h\", \"h\", \"h\", \"h\", \"h\", \"h\", \"h\", \"h\", \"h\", \"h\", \"h\", \"h\", \"h\", \"h\", \"h\", \"h\", \"h\", \"h\", \"h\", \"h\", \"h\", \"h\", \"h\", \"h\", \"h\", \"h\", \"h\", \"h\", \"h\", \"h\", \"h\", \"h\", \"h\", \"h\", \"h\", \"h\", \"h\", \"h\", \"h\", \"h\", \"h\", \"h\", \"h\", \"h\", \"h\", \"h\", \"h\", \"h\", \"h\", \"h\", \"h\", \"h\", \"h\", \"h\", \"h\", \"h\", \"h\", \"h\", \"h\", \"h\", \"h\", \"h\", \"h\", \"h\", \"h\", \"h\", \"h\", \"h\", \"h\", \"h\", \"h\", \"h\", \"h\", \"h\", \"h\", \"h\", \"h\", \"h\", \"h\", \"h\", \"h\", \"h\", \"h\", \"h\", \"h\", \"h\", \"h\", \"h\", \"h\", \"h\", \"h\", \"h\", \"h\", \"h\", \"h\", \"h\", \"h\", \"h\", \"h\", \"h\", \"h\", \"h\", \"h\", \"h\", \"h\", \"h\", \"h\", \"h\", \"h\", \"h\", \"h\", \"h\", \"h\", \"h\", \"h\", \"h\", \"h\", \"h\", \"h\", \"h\", \"h\", \"h\", \"h\", \"h\", \"h\", \"h\", \"h\", \"h\", \"h\", \"h\", \"h\", \"h\", \"h\", \"h\", \"h\", \"h\", \"h\", \"h\", \"h\", \"h\", \"h\", \"h\", \"h\", \"h\", \"h\", \"h\", \"h\", \"h\", \"h\", \"h\", \"h\", \"h\", \"h\", \"h\", \"h\", \"h\", \"h\", \"h\", \"h\", \"h\", \"h\", \"h\", \"h\", \"h\", \"h\", \"h\", \"h\", \"h\", \"h\", \"h\", \"h\", \"h\", \"h\", \"h\", \"h\", \"h\", \"h\", \"h\", \"h\", \"h\", \"h\", \"h\", \"h\", \"h\", \"h\", \"h\", \"h\", \"h\", \"h\", \"h\", \"h\", \"h\", \"h\", \"h\", \"h\", \"h\", \"h\", \"h\", \"h\", \"h\", \"h\", \"h\", \"h\", \"h\", \"h\", \"h\", \"h\", \"h\", \"h\", \"h\", \"h\", \"h\", \"h\", \"h\", \"h\", \"h\", \"h\", \"h\", \"h\", \"h\", \"h\", \"h\", \"h\", \"h\", \"h\", \"h\", \"h\", \"h\", \"h\", \"h\", \"h\", \"h\", \"h\", \"h\", \"h\", \"h\", \"h\", \"h\", \"h\", \"h\", \"h\", \"h\", \"h\", \"h\", \"h\", \"h\", \"h\", \"h\", \"h\", \"h\", \"h\", \"h\", \"h\", \"h\", \"h\", \"h\", \"h\", \"h\", \"h\", \"h\", \"h\", \"h\", \"h\", \"h\", \"h\", \"h\", \"h\", \"h\", \"h\", \"h\", \"h\", \"h\", \"h\", \"h\", \"h\", \"h\", \"h\", \"h\", \"h\", \"h\", \"h\", \"h\", \"h\", \"h\", \"h\", \"h\", \"h\", \"h\", \"h\", \"h\", \"h\", \"h\", \"h\", \"h\", \"h\", \"h\", \"h\", \"h\", \"h\", \"h\", \"h\", \"h\", \"h\", \"h\", \"h\", \"h\", \"h\", \"h\", \"h\", \"h\", \"h\", \"h\", \"h\", \"h\", \"h\", \"h\", \"h\", \"h\", \"h\", \"h\", \"h\", \"h\", \"h\", \"h\", \"h\", \"h\", \"h\", \"h\", \"h\", \"h\", \"h\", \"h\", \"h\", \"h\", \"h\", \"h\", \"h\", \"h\", \"h\", \"h\", \"h\", \"h\", \"h\", \"h\", \"h\", \"h\", \"h\", \"h\", \"h\", \"h\", \"h\", \"h\", \"h\", \"h\", \"h\", \"h\", \"h\", \"h\", \"h\", \"h\", \"h\", \"h\", \"h\", \"h\", \"h\", \"h\", \"h\", \"h\", \"h\", \"h\", \"h\", \"h\", \"h\", \"h\", \"h\", \"h\", \"h\", \"h\", \"h\", \"h\", \"h\", \"h\", \"h\", \"h\", \"h\", \"h\", \"h\", \"h\", \"h\", \"h\", \"h\", \"h\", \"h\", \"h\", \"h\", \"h\", \"h\", \"h\", \"h\", \"h\", \"h\", \"h\", \"h\", \"h\", \"h\", \"h\", \"h\", \"h\", \"h\", \"h\", \"h\", \"h\", \"h\", \"h\", \"h\", \"h\", \"h\", \"h\", \"h\", \"h\", \"h\", \"h\", \"h\", \"h\", \"h\", \"h\", \"h\", \"h\", \"h\", \"h\", \"h\", \"h\", \"h\", \"h\", \"h\", \"h\", \"h\", \"h\", \"h\", \"h\", \"h\", \"h\", \"h\", \"h\", \"h\", \"h\", \"h\", \"h\", \"h\", \"h\", \"h\", \"h\", \"h\", \"h\", \"h\", \"h\", \"h\", \"h\", \"h\", \"h\", \"h\", \"h\", \"h\", \"h\", \"h\", \"h\", \"h\", \"h\", \"h\", \"h\", \"h\", \"h\", \"h\", \"h\", \"h\", \"h\", \"h\", \"h\", \"h\", \"h\", \"h\", \"h\", \"h\", \"h\", \"h\", \"h\", \"h\", \"h\", \"h\", \"h\", \"h\", \"h\", \"h\", \"h\", \"h\", \"h\", \"h\", \"h\", \"h\", \"h\", \"h\", \"h\", \"h\", \"h\", \"h\", \"h\", \"h\", \"h\", \"h\", \"h\", \"h\", \"h\", \"h\", \"h\", \"h\", \"h\", \"h\", \"h\", \"h\", \"h\", \"h\", \"h\", \"h\", \"h\", \"h\", \"h\", \"h\", \"h\", \"h\", \"h\", \"h\", \"h\", \"h\", \"h\", \"h\", \"h\", \"h\", \"h\", \"h\", \"h\", \"h\", \"h\", \"h\", \"h\", \"h\", \"h\", \"h\", \"h\", \"h\", \"h\", \"h\", \"h\", \"h\", \"h\", \"h\", \"h\", \"h\", \"h\", \"h\", \"h\", \"h\", \"h\", \"h\", \"h\", \"h\", \"h\", \"h\", \"h\", \"h\", \"h\", \"h\", \"h\", \"h\", \"h\", \"h\", \"h\", \"h\", \"h\", \"h\", \"h\", \"h\", \"h\", \"h\", \"h\", \"h\", \"h\", \"h\", \"h\", \"h\", \"h\", \"h\", \"h\", \"h\", \"h\", \"h\", \"h\", \"h\", \"h\", \"h\", \"h\", \"h\", \"h\", \"h\", \"h\", \"h\", \"h\", \"h\", \"h\", \"h\", \"h\", \"h\", \"h\", \"h\", \"h\", \"h\", \"h\", \"h\", \"h\", \"h\", \"h\", \"h\", \"h\", \"h\", \"h\", \"h\", \"h\", \"h\", \"h\", \"h\", \"h\", \"h\", \"h\", \"h\", \"h\", \"h\", \"h\", \"h\", \"h\", \"h\", \"h\", \"h\", \"h\", \"h\", \"h\", \"h\", \"h\", \"h\", \"h\", \"h\", \"h\", \"h\", \"h\", \"h\", \"h\", \"h\", \"h\", \"h\", \"h\", \"h\", \"h\", \"h\", \"h\", \"h\", \"h\", \"h\", \"h\", \"h\", \"h\", \"h\", \"h\", \"h\", \"h\", \"h\", \"h\", \"h\", \"h\", \"h\", \"h\", \"h\", \"h\", \"h\", \"h\", \"h\", \"h\", \"h\", \"h\", \"h\", \"h\", \"h\", \"h\", \"h\", \"h\", \"h\", \"h\", \"h\", \"h\", \"h\", \"h\", \"h\", \"h\", \"h\", \"h\", \"h\", \"h\", \"h\", \"h\", \"h\", \"h\", \"h\", \"h\", \"h\", \"h\", \"h\", \"h\", \"h\", \"h\", \"h\", \"h\", \"h\", \"h\", \"h\", \"h\", \"h\", \"h\", \"h\", \"h\", \"h\", \"h\", \"h\", \"h\", \"h\", \"h\", \"h\", \"h\", \"h\", \"h\", \"h\", \"h\", \"h\", \"h\", \"h\", \"h\", \"h\", \"h\", \"h\", \"h\", \"h\", \"h\", \"h\", \"h\", \"h\", \"h\", \"h\", \"h\", \"h\", \"h\", \"h\", \"h\", \"h\", \"h\", \"h\", \"h\", \"h\", \"h\", \"h\", \"h\", \"h\", \"h\", \"h\", \"h\", \"h\", \"h\", \"h\", \"h\", \"h\", \"h\", \"h\", \"h\", \"h\", \"h\", \"h\", \"h\", \"h\", \"h\", \"h\", \"h\", \"h\", \"h\", \"h\", \"h\", \"h\", \"h\", \"h\", \"h\", \"h\", \"h\", \"h\", \"h\", \"h\", \"h\", \"h\", \"h\", \"h\", \"h\", \"h\", \"h\", \"h\", \"h\", \"h\", \"h\", \"h\", \"h\", \"h\", \"h\", \"h\", \"h\", \"h\", \"h\", \"h\", \"h\", \"h\", \"h\", \"h\", \"h\", \"h\", \"h\", \"h\", \"h\", \"h\", \"h\", \"h\", \"h\", \"h\", \"h\", \"h\", \"h\", \"h\", \"h\", \"h\", \"h\", \"h\", \"h\", \"h\", \"h\", \"h\", \"h\", \"h\", \"h\", \"h\", \"h\", \"h\", \"h\", \"h\", \"h\", \"h\", \"h\", \"h\", \"h\", \"h\", \"h\", \"h\", \"h\", \"h\", \"h\", \"h\", \"h\", \"h\", \"h\", \"h\", \"h\", \"h\", \"h\", \"h\", \"h\", \"h\", \"h\", \"h\", \"h\", \"h\", \"h\", \"h\", \"h\", \"h\", \"h\", \"h\", \"h\", \"h\", \"h\", \"h\", \"h\", \"h\", \"h\", \"h\", \"h\", \"h\", \"h\", \"h\", \"h\", \"h\", \"h\", \"h\", \"h\", \"h\", \"h\", \"h\", \"h\", \"h\", \"h\", \"h\", \"h\", \"h\", \"h\", \"h\", \"h\", \"h\", \"h\", \"h\", \"h\", \"h\", \"h\", \"h\", \"h\", \"h\", \"h\", \"h\", \"h\", \"h\", \"h\", \"h\", \"h\", \"h\", \"h\", \"h\", \"h\", \"h\", \"h\", \"h\", \"h\", \"h\", \"h\", \"h\", \"h\", \"h\", \"h\", \"h\", \"h\", \"h\", \"h\", \"h\", \"h\", \"h\", \"h\", \"h\", \"h\", \"h\", \"h\", \"h\", \"h\", \"h\", \"h\", \"h\", \"h\", \"h\", \"h\", \"h\", \"h\", \"h\", \"h\", \"h\", \"h\", \"h\", \"h\", \"h\", \"h\", \"h\", \"h\", \"h\", \"h\", \"h\", \"h\", \"h\", \"h\", \"h\", \"h\", \"h\", \"h\", \"h\", \"h\", \"h\", \"h\", \"h\", \"h\", \"h\", \"h\", \"h\", \"h\", \"h\", \"h\", \"h\", \"h\", \"h\", \"h\", \"h\", \"h\", \"h\", \"h\", \"h\", \"h\", \"h\", \"h\", \"h\", \"h\", \"h\", \"h\", \"h\", \"h\", \"h\", \"h\", \"h\", \"h\", \"h\", \"h\", \"h\", \"h\", \"h\", \"h\", \"h\", \"h\", \"h\", \"h\", \"h\", \"h\", \"h\", \"h\", \"h\", \"h\", \"h\", \"h\", \"h\", \"h\", \"h\", \"h\", \"h\", \"h\", \"h\", \"h\", \"h\", \"h\", \"h\", \"h\", \"h\", \"h\", \"h\", \"h\", \"h\", \"h\", \"h\", \"h\", \"h\", \"h\", \"h\", \"h\", \"h\", \"h\", \"h\", \"h\", \"h\", \"h\", \"h\", \"h\", \"h\", \"h\", \"h\", \"h\", \"h\", \"h\", \"h\", \"h\", \"h\", \"h\", \"h\", \"h\", \"h\", \"h\", \"h\", \"h\", \"h\", \"h\", \"h\", \"h\", \"h\", \"h\", \"h\", \"h\", \"h\", \"h\", \"h\", \"h\", \"h\", \"h\", \"h\", \"h\", \"h\", \"h\", \"h\", \"h\", \"h\", \"h\", \"h\", \"h\", \"h\", \"h\", \"h\", \"h\", \"h\", \"h\", \"h\", \"h\", \"h\", \"h\", \"h\", \"h\", \"h\", \"h\", \"h\", \"h\", \"h\", \"h\", \"h\", \"h\", \"h\", \"h\", \"h\", \"h\", \"h\", \"h\", \"h\", \"h\", \"h\", \"h\", \"h\", \"h\", \"h\", \"h\", \"h\", \"h\", \"h\", \"h\", \"h\", \"h\", \"h\", \"h\", \"h\", \"h\", \"h\", \"h\", \"h\", \"h\", \"h\", \"h\", \"h\", \"h\", \"h\", \"h\", \"h\", \"h\", \"h\", \"h\", \"h\", \"h\", \"h\", \"h\", \"h\", \"h\", \"h\", \"h\", \"h\", \"h\", \"h\", \"h\", \"h\", \"h\", \"h\", \"h\", \"h\", \"h\", \"h\", \"h\", \"h\", \"h\", \"h\", \"h\", \"h\", \"h\", \"h\", \"h\", \"h\", \"h\", \"h\", \"h\", \"h\", \"h\", \"h\", \"h\", \"h\", \"h\", \"h\", \"h\", \"h\", \"h\", \"h\", \"h\", \"h\", \"h\", \"h\", \"h\", \"h\", \"h\", \"h\", \"h\", \"h\", \"h\", \"h\", \"h\", \"h\", \"h\", \"h\", \"h\", \"h\", \"h\", \"h\", \"h\", \"h\", \"h\", \"h\", \"h\", \"h\", \"h\", \"h\", \"h\", \"h\", \"h\", \"h\", \"h\", \"h\", \"h\", \"h\", \"h\", \"h\", \"h\", \"h\", \"h\", \"h\", \"h\", \"h\", \"h\", \"h\", \"h\", \"h\", \"h\", \"h\", \"h\", \"h\", \"h\", \"h\", \"h\", \"h\", \"h\", \"h\", \"h\", \"h\", \"h\", \"h\", \"h\", \"h\", \"h\", \"h\", \"h\", \"h\", \"h\", \"h\", \"h\", \"h\", \"h\", \"h\", \"h\", \"h\", \"h\", \"h\", \"h\", \"h\", \"h\", \"h\", \"h\", \"h\", \"h\", \"h\", \"h\", \"h\", \"h\", \"h\", \"h\", \"h\", \"h\", \"h\", \"h\", \"h\", \"h\", \"h\", \"h\", \"h\", \"h\", \"h\", \"h\", \"h\", \"h\", \"h\", \"h\", \"h\", \"h\", \"h\", \"h\", \"h\", \"h\", \"h\", \"h\", \"h\", \"h\", \"h\", \"h\", \"h\", \"h\", \"h\", \"h\", \"h\", \"h\", \"h\", \"h\", \"h\", \"h\", \"h\", \"h\", \"h\", \"h\", \"h\", \"h\", \"h\", \"h\", \"h\", \"h\", \"h\", \"h\", \"h\", \"h\", \"h\", \"h\", \"h\", \"h\", \"h\", \"h\", \"h\", \"h\", \"h\", \"h\", \"h\", \"h\", \"h\", \"h\", \"h\", \"h\", \"h\", \"h\", \"h\", \"h\", \"h\", \"h\", \"h\", \"h\", \"h\", \"h\", \"h\", \"h\", \"h\", \"h\", \"h\", \"h\", \"h\", \"h\", \"h\", \"h\", \"h\", \"h\", \"h\", \"h\", \"h\", \"h\", \"h\", \"h\", \"h\", \"h\", \"h\", \"h\", \"h\", \"h\", \"h\", \"h\", \"h\", \"h\", \"h\", \"h\", \"h\", \"h\", \"h\", \"h\", \"h\", \"h\", \"h\", \"h\", \"h\", \"h\", \"h\", \"h\", \"h\", \"h\", \"h\", \"h\", \"h\", \"h\", \"h\", \"h\", \"h\", \"h\", \"h\", \"h\", \"h\", \"h\", \"h\", \"h\", \"h\", \"h\", \"h\", \"h\", \"h\", \"h\", \"h\", \"h\", \"h\", \"h\", \"h\", \"h\", \"h\", \"h\", \"h\", \"h\", \"h\", \"h\", \"h\", \"h\", \"h\", \"h\", \"h\", \"h\", \"h\", \"h\", \"h\", \"h\", \"h\", \"h\", \"h\", \"h\", \"h\", \"h\", \"h\", \"h\", \"h\", \"h\", \"h\", \"h\", \"h\", \"h\", \"h\", \"h\", \"h\", \"h\", \"h\", \"h\", \"h\", \"h\", \"h\", \"h\", \"h\", \"h\", \"h\", \"h\", \"h\", \"h\", \"h\", \"h\", \"h\", \"h\", \"h\", \"h\", \"h\", \"h\", \"h\", \"h\", \"h\", \"h\", \"h\", \"h\", \"h\", \"h\", \"h\", \"h\", \"h\", \"h\", \"h\", \"h\", \"h\", \"h\", \"h\", \"h\", \"h\", \"h\", \"h\", \"h\", \"h\", \"h\", \"h\", \"h\", \"h\", \"h\", \"h\", \"h\", \"h\", \"h\", \"h\", \"h\", \"h\", \"h\", \"h\", \"h\", \"h\", \"h\", \"h\", \"h\", \"h\", \"h\", \"h\", \"h\", \"h\", \"h\", \"h\", \"h\", \"h\", \"h\", \"h\", \"h\", \"h\", \"h\", \"h\", \"h\", \"h\", \"h\", \"h\", \"h\", \"h\", \"h\", \"h\", \"h\", \"h\", \"h\", \"h\", \"h\", \"h\", \"h\", \"h\", \"h\", \"h\", \"h\", \"h\", \"h\", \"h\", \"h\", \"h\", \"h\", \"h\", \"h\", \"h\", \"h\", \"h\", \"h\", \"h\", \"h\", \"h\", \"h\", \"h\", \"h\", \"h\", \"h\", \"h\", \"h\", \"h\", \"h\", \"h\", \"h\", \"h\", \"h\", \"h\", \"h\", \"h\", \"h\", \"h\", \"h\", \"h\", \"h\", \"h\", \"h\", \"h\", \"h\", \"h\", \"h\", \"h\", \"h\", \"h\", \"h\", \"h\", \"h\", \"h\", \"h\", \"h\", \"h\", \"h\", \"h\", \"h\", \"h\", \"h\", \"h\", \"h\", \"h\", \"h\", \"h\", \"h\", \"h\", \"h\", \"h\", \"h\", \"h\", \"h\", \"h\", \"h\", \"h\", \"h\", \"h\", \"h\", \"h\", \"h\", \"h\", \"h\", \"h\", \"h\", \"h\", \"h\", \"h\", \"h\", \"h\", \"h\", \"h\", \"h\", \"h\", \"h\", \"h\", \"h\", \"h\", \"h\", \"h\", \"h\", \"h\", \"h\", \"h\", \"h\", \"h\", \"h\", \"h\", \"h\", \"h\", \"h\", \"h\", \"h\", \"h\", \"h\", \"h\", \"h\", \"h\", \"h\", \"h\", \"h\", \"h\", \"h\", \"h\", \"h\", \"h\", \"h\", \"h\", \"h\", \"h\", \"h\", \"h\", \"h\", \"h\", \"h\", \"h\", \"h\", \"h\", \"h\", \"h\", \"h\", \"h\", \"h\", \"h\", \"h\", \"h\", \"h\", \"h\", \"h\", \"h\", \"h\", \"h\", \"h\", \"h\", \"h\", \"h\", \"h\", \"h\", \"h\", \"h\", \"h\", \"h\", \"h\", \"h\", \"h\", \"h\", \"h\", \"h\", \"h\", \"h\", \"h\", \"h\", \"h\", \"h\", \"h\", \"h\", \"h\", \"h\", \"h\", \"h\", \"h\", \"h\", \"h\", \"h\", \"h\", \"h\", \"h\", \"h\", \"h\", \"h\", \"h\", \"h\", \"h\", \"h\", \"h\", \"h\", \"h\", \"h\", \"h\", \"h\", \"h\", \"h\", \"h\", \"h\", \"h\", \"h\", \"h\", \"h\", \"h\", \"h\", \"h\", \"h\", \"h\", \"h\", \"h\", \"h\", \"h\", \"h\", \"h\", \"h\", \"h\", \"h\", \"h\", \"h\", \"h\", \"h\", \"h\", \"h\", \"h\", \"h\", \"h\", \"h\", \"h\", \"h\", \"h\", \"h\", \"h\", \"h\", \"h\", \"h\", \"h\", \"h\", \"h\", \"h\", \"h\", \"h\", \"h\", \"h\", \"h\", \"h\", \"h\", \"h\", \"h\", \"h\", \"h\", \"h\", \"h\", \"h\", \"h\", \"h\", \"h\", \"h\", \"h\", \"h\", \"h\", \"h\", \"h\", \"h\", \"h\", \"h\", \"h\", \"h\", \"h\", \"h\", \"h\", \"h\", \"h\", \"h\", \"h\", \"h\", \"h\", \"h\", \"h\", \"h\", \"h\", \"h\", \"h\", \"h\", \"h\", \"h\", \"h\", \"h\", \"h\", \"h\", \"h\", \"h\", \"h\", \"h\", \"h\", \"h\", \"h\", \"h\", \"h\", \"h\", \"h\", \"h\", \"h\", \"h\", \"h\", \"h\", \"h\", \"h\", \"h\", \"h\", \"h\", \"h\", \"h\", \"h\", \"h\", \"h\", \"h\", \"h\", \"h\", \"h\", \"h\", \"h\", \"h\", \"h\", \"h\", \"h\", \"h\", \"h\", \"h\", \"h\", \"h\", \"h\", \"h\", \"h\", \"h\", \"h\", \"h\", \"h\", \"h\", \"h\", \"h\", \"h\", \"h\", \"h\", \"h\", \"h\", \"h\", \"h\", \"h\", \"h\", \"h\", \"h\", \"h\", \"h\", \"h\", \"h\", \"h\", \"h\", \"h\", \"h\", \"h\", \"h\", \"h\", \"h\", \"h\", \"h\", \"h\", \"h\", \"h\", \"h\", \"h\", \"h\", \"h\", \"h\", \"h\", \"h\", \"h\", \"h\", \"h\", \"h\", \"h\", \"h\", \"h\", \"h\", \"h\", \"h\", \"h\", \"h\", \"h\", \"h\", \"h\", \"h\", \"h\", \"h\", \"h\", \"h\", \"h\", \"h\", \"h\", \"h\", \"h\", \"h\", \"h\", \"h\", \"h\", \"h\", \"h\", \"h\", \"h\", \"h\", \"h\", \"h\", \"h\", \"h\", \"h\", \"h\", \"h\", \"h\", \"h\", \"h\", \"h\", \"h\", \"h\", \"h\", \"h\", \"h\", \"h\", \"h\", \"h\", \"h\", \"h\", \"h\", \"h\", \"h\", \"h\", \"h\", \"h\", \"h\", \"h\", \"h\", \"h\", \"h\", \"h\", \"h\", \"h\", \"h\", \"h\", \"h\", \"h\", \"h\", \"h\", \"h\", \"h\", \"h\", \"h\", \"h\", \"h\", \"h\", \"h\", \"h\", \"h\", \"h\", \"h\", \"h\", \"h\", \"h\", \"h\", \"h\", \"h\", \"h\", \"h\", \"h\", \"h\", \"h\", \"h\", \"h\", \"h\", \"h\", \"h\", \"h\", \"h\", \"h\", \"h\", \"h\", \"h\", \"h\", \"h\", \"h\", \"h\", \"h\", \"h\", \"h\", \"h\", \"h\", \"h\", \"h\", \"h\", \"h\", \"h\", \"h\", \"h\", \"h\", \"h\", \"h\", \"h\", \"h\", \"h\", \"h\", \"h\", \"h\", \"h\", \"h\", \"h\", \"h\", \"h\", \"h\", \"h\", \"h\", \"h\", \"h\", \"h\", \"h\", \"h\", \"h\", \"h\", \"h\", \"h\", \"h\", \"h\", \"h\", \"h\", \"h\", \"h\", \"h\", \"h\", \"h\", \"h\", \"h\", \"h\", \"h\", \"h\", \"h\", \"h\", \"h\", \"h\", \"h\", \"h\", \"h\", \"h\", \"h\", \"h\", \"h\", \"h\", \"h\", \"h\", \"h\", \"h\", \"h\", \"h\", \"h\", \"h\", \"h\", \"h\", \"h\", \"h\", \"h\", \"h\", \"h\", \"h\", \"h\", \"h\", \"h\", \"h\", \"h\", \"h\", \"h\", \"h\", \"h\", \"h\", \"h\", \"h\", \"h\", \"h\", \"h\", \"h\", \"h\", \"h\", \"h\", \"h\", \"h\", \"h\", \"h\", \"h\", \"h\", \"h\", \"h\", \"h\", \"h\", \"h\", \"h\", \"h\", \"h\", \"h\", \"h\", \"h\", \"h\", \"h\", \"h\", \"h\", \"h\", \"h\", \"h\", \"h\", \"h\", \"h\", \"h\", \"h\", \"h\", \"h\", \"h\", \"h\", \"h\", \"h\", \"h\", \"h\", \"h\", \"h\", \"h\", \"h\", \"h\", \"h\", \"h\", \"h\", \"h\", \"h\", \"h\", \"h\", \"h\", \"h\", \"h\", \"h\", \"h\", \"h\", \"h\", \"h\", \"h\", \"h\", \"h\", \"h\", \"h\", \"h\", \"h\", \"h\", \"h\", \"h\", \"h\", \"h\", \"h\", \"h\", \"h\", \"h\", \"h\", \"h\", \"h\", \"h\", \"h\", \"h\", \"h\", \"h\", \"h\", \"h\", \"h\", \"h\", \"h\", \"h\", \"h\", \"h\", \"h\", \"h\", \"h\", \"h\", \"h\", \"h\", \"h\", \"h\", \"h\", \"h\", \"h\", \"h\", \"h\", \"h\", \"h\", \"h\", \"h\", \"h\", \"h\", \"h\", \"h\", \"h\", \"h\", \"h\", \"h\", \"h\", \"h\", \"h\", \"h\", \"h\", \"h\", \"h\", \"h\", \"h\", \"h\", \"h\", \"h\", \"h\", \"h\", \"h\", \"h\", \"h\", \"h\", \"h\", \"h\", \"h\", \"h\", \"h\", \"h\", \"h\", \"h\", \"h\", \"h\", \"h\", \"h\", \"h\", \"h\", \"h\", \"h\", \"h\", \"h\", \"h\", \"h\", \"h\", \"h\", \"h\", \"h\", \"h\", \"h\", \"h\", \"h\", \"h\", \"h\", \"h\", \"h\", \"h\", \"h\", \"h\", \"h\", \"h\", \"h\", \"h\", \"h\", \"h\", \"h\", \"h\", \"h\", \"h\", \"h\", \"h\", \"h\", \"h\", \"h\", \"h\", \"h\", \"h\", \"h\", \"h\", \"h\", \"h\", \"h\", \"h\", \"h\", \"h\", \"h\", \"h\", \"h\", \"h\", \"h\", \"h\", \"h\", \"h\", \"h\", \"h\", \"h\", \"h\", \"h\", \"h\", \"h\", \"h\", \"h\", \"h\", \"h\", \"h\", \"h\", \"h\", \"h\", \"h\", \"h\", \"h\", \"h\", \"h\", \"h\", \"h\", \"h\", \"h\", \"h\", \"h\", \"h\", \"h\", \"h\", \"h\", \"h\", \"h\", \"h\", \"h\", \"h\", \"h\", \"h\", \"h\", \"h\", \"h\", \"h\", \"h\", \"h\", \"h\", \"h\", \"h\", \"h\", \"h\", \"h\", \"h\", \"h\", \"h\", \"h\", \"h\", \"h\", \"h\", \"h\", \"h\", \"h\", \"h\", \"h\", \"h\", \"h\", \"h\", \"h\", \"h\", \"h\", \"h\", \"h\", \"h\", \"h\", \"h\", \"h\", \"h\", \"h\", \"h\", \"h\", \"h\", \"h\", \"h\", \"h\", \"h\", \"h\", \"h\", \"h\", \"h\", \"h\", \"h\", \"h\", \"h\", \"h\", \"h\", \"h\", \"h\", \"h\", \"h\", \"h\", \"h\", \"h\", \"h\", \"h\", \"h\", \"h\", \"h\", \"h\", \"h\", \"h\", \"h\", \"h\", \"h\", \"h\", \"h\", \"h\", \"h\", \"h\", \"h\", \"h\", \"h\", \"h\", \"h\", \"h\", \"h\", \"h\", \"h\", \"h\", \"h\", \"h\", \"h\", \"h\", \"h\", \"h\", \"h\", \"h\", \"h\", \"h\", \"h\", \"h\", \"h\", \"h\", \"h\", \"h\", \"h\", \"h\", \"h\", \"h\", \"h\", \"h\", \"h\", \"h\", \"h\", \"h\", \"h\", \"h\", \"h\", \"h\", \"h\", \"h\", \"h\", \"h\", \"h\", \"h\", \"h\", \"h\", \"h\", \"h\", \"h\", \"h\", \"h\", \"h\", \"h\", \"h\", \"h\", \"h\", \"h\", \"h\", \"h\", \"h\", \"h\", \"h\", \"h\", \"h\", \"h\", \"h\", \"h\", \"h\", \"h\", \"h\", \"h\", \"h\", \"h\", \"h\", \"h\", \"h\", \"h\", \"h\", \"h\", \"h\", \"h\", \"h\", \"h\", \"h\", \"h\", \"h\", \"h\", \"h\", \"h\", \"h\", \"h\", \"h\", \"h\", \"h\", \"h\", \"h\", \"h\", \"h\", \"h\", \"h\", \"h\", \"h\", \"h\", \"h\", \"h\", \"h\", \"h\", \"h\", \"h\", \"h\", \"h\", \"h\", \"h\", \"h\", \"h\", \"h\", \"h\", \"h\", \"h\", \"h\", \"h\", \"h\", \"h\", \"h\", \"h\", \"h\", \"h\", \"h\", \"h\", \"h\", \"h\", \"h\", \"h\", \"h\", \"h\", \"h\", \"h\", \"h\", \"h\", \"h\", \"h\", \"h\", \"h\", \"h\", \"h\", \"h\", \"h\", \"h\", \"h\", \"h\", \"h\", \"h\", \"h\", \"h\", \"h\", \"h\", \"h\", \"h\", \"h\", \"h\", \"h\", \"h\", \"h\", \"h\", \"h\", \"h\", \"h\", \"h\", \"h\", \"h\", \"h\", \"h\", \"h\", \"h\", \"h\", \"h\", \"h\", \"h\", \"h\", \"h\", \"h\", \"h\", \"h\", \"h\", \"h\", \"h\", \"h\", \"h\", \"h\", \"h\", \"h\", \"h\", \"h\", \"h\", \"h\", \"h\", \"h\", \"h\", \"h\", \"h\", \"h\", \"h\", \"h\", \"h\", \"h\", \"h\", \"h\", \"h\", \"h\", \"h\", \"h\", \"h\", \"h\", \"h\", \"h\", \"h\", \"h\", \"h\", \"h\", \"h\", \"h\", \"h\", \"h\", \"h\", \"h\", \"h\", \"h\", \"h\", \"h\", \"h\", \"h\", \"h\", \"h\", \"h\", \"h\", \"h\", \"h\", \"h\", \"h\", \"h\", \"h\", \"h\", \"h\", \"h\", \"h\", \"h\", \"h\", \"h\", \"h\", \"h\", \"h\", \"h\", \"h\", \"h\", \"h\", \"h\", \"h\", \"h\", \"h\", \"h\", \"h\", \"h\", \"h\", \"h\", \"h\", \"h\", \"h\", \"h\", \"h\", \"h\", \"h\", \"h\", \"h\", \"h\", \"h\", \"h\", \"h\", \"h\", \"h\", \"h\", \"h\", \"h\", \"h\", \"h\", \"h\", \"h\", \"h\", \"h\", \"h\", \"h\", \"h\", \"h\", \"h\", \"h\", \"h\", \"h\", \"h\", \"h\", \"h\", \"h\", \"h\", \"h\", \"h\", \"h\", \"h\", \"h\", \"h\", \"h\", \"h\", \"h\", \"h\", \"h\", \"h\", \"h\", \"h\", \"h\", \"h\", \"h\", \"h\", \"h\", \"h\", \"h\", \"h\", \"h\", \"h\", \"h\", \"h\", \"h\", \"h\", \"h\", \"h\", \"h\", \"h\", \"h\", \"h\", \"h\", \"h\", \"h\", \"h\", \"h\", \"h\", \"h\", \"h\", \"h\", \"h\", \"h\", \"h\", \"h\", \"h\", \"h\", \"h\", \"h\", \"h\", \"h\", \"h\", \"h\", \"h\", \"h\", \"h\", \"h\", \"h\", \"h\", \"h\", \"h\", \"h\", \"h\", \"h\", \"h\", \"h\", \"h\", \"h\", \"h\", \"h\", \"h\", \"h\", \"h\", \"h\", \"h\", \"h\", \"h\", \"h\", \"h\", \"h\", \"h\", \"h\", \"h\", \"h\", \"h\", \"h\", \"h\", \"h\", \"h\", \"h\", \"h\", \"h\", \"h\", \"h\", \"h\", \"h\", \"h\", \"h\", \"h\", \"h\", \"h\", \"h\", \"h\", \"h\", \"h\", \"h\", \"h\", \"h\", \"h\", \"h\", \"h\", \"h\", \"h\", \"h\", \"h\", \"h\", \"h\", \"h\", \"h\", \"h\", \"h\", \"h\", \"h\", \"h\", \"h\", \"h\", \"h\", \"h\", \"h\", \"h\", \"h\", \"h\", \"h\", \"h\", \"h\", \"h\", \"h\", \"h\", \"h\", \"h\", \"h\", \"h\", \"h\", \"h\", \"h\", \"h\", \"h\", \"h\", \"h\", \"h\", \"h\", \"h\", \"h\", \"h\", \"h\", \"h\", \"h\", \"h\", \"h\", \"h\", \"h\", \"h\", \"h\", \"h\", \"h\", \"h\", \"h\", \"h\", \"h\", \"h\", \"h\", \"h\", \"h\", \"h\", \"h\", \"h\", \"h\", \"h\", \"h\", \"h\", \"h\", \"h\", \"h\", \"h\", \"h\", \"h\", \"h\", \"h\", \"h\", \"h\", \"h\", \"h\", \"h\", \"h\", \"h\", \"h\", \"h\", \"h\", \"h\", \"h\", \"h\", \"h\", \"h\", \"h\", \"h\", \"h\", \"h\", \"h\", \"h\", \"h\", \"h\", \"h\", \"h\", \"h\", \"h\", \"h\", \"h\", \"h\", \"h\", \"h\", \"h\", \"h\", \"h\", \"h\", \"h\", \"h\", \"h\", \"h\", \"h\", \"h\", \"h\", \"h\", \"h\", \"h\", \"h\", \"h\", \"h\", \"h\", \"h\", \"h\", \"h\", \"h\", \"h\", \"h\", \"h\", \"h\", \"h\", \"h\", \"h\", \"h\", \"h\", \"h\", \"h\", \"h\", \"h\", \"h\", \"h\", \"h\", \"h\", \"h\", \"h\", \"h\", \"h\", \"h\", \"h\", \"h\", \"h\", \"h\", \"h\", \"h\", \"h\", \"h\", \"h\", \"h\", \"h\", \"h\", \"h\", \"h\", \"h\", \"h\", \"h\", \"h\", \"h\", \"h\", \"h\", \"h\", \"h\", \"h\", \"h\", \"h\", \"h\", \"h\", \"h\", \"h\", \"h\", \"h\", \"h\", \"h\", \"h\", \"h\", \"h\", \"h\", \"h\", \"h\", \"h\", \"h\", \"h\", \"h\", \"h\", \"h\", \"h\", \"h\", \"h\", \"h\", \"h\", \"h\", \"h\", \"h\", \"h\", \"h\", \"h\", \"h\", \"h\", \"h\", \"h\", \"h\", \"h\", \"h\", \"h\", \"h\", \"h\", \"h\", \"h\", \"h\", \"h\", \"h\", \"h\", \"h\", \"h\", \"h\", \"h\", \"h\", \"h\", \"h\", \"h\", \"h\", \"h\", \"h\", \"h\", \"h\", \"h\", \"h\", \"h\", \"h\", \"h\", \"h\", \"h\", \"h\", \"h\", \"h\", \"h\", \"h\", \"h\", \"h\", \"h\", \"h\", \"h\", \"h\", \"h\", \"h\", \"h\", \"h\", \"h\", \"h\", \"h\", \"h\", \"h\", \"h\", \"h\", \"h\", \"h\", \"h\", \"h\", \"h\", \"h\", \"h\", \"h\", \"h\", \"h\", \"h\", \"h\", \"h\", \"h\", \"h\", \"h\", \"h\", \"h\", \"h\", \"h\", \"h\", \"h\", \"h\", \"h\", \"h\", \"h\", \"h\", \"h\", \"h\", \"h\", \"h\", \"h\", \"h\", \"h\", \"h\", \"h\", \"h\", \"h\", \"h\", \"h\", \"h\", \"h\", \"h\", \"h\", \"h\", \"h\", \"h\", \"h\", \"h\", \"h\", \"h\", \"h\", \"h\", \"h\", \"h\", \"h\", \"h\", \"h\", \"h\", \"h\", \"h\", \"h\", \"h\", \"h\", \"h\", \"h\", \"h\", \"h\", \"h\", \"h\", \"h\", \"h\", \"h\", \"h\", \"h\", \"h\", \"h\", \"h\", \"h\", \"h\", \"h\", \"h\", \"h\", \"h\", \"h\", \"h\", \"h\", \"h\", \"h\", \"h\", \"h\", \"h\", \"h\", \"h\", \"h\", \"h\", \"h\", \"h\", \"h\", \"h\", \"h\", \"h\", \"h\", \"h\", \"h\", \"h\", \"h\", \"h\", \"h\", \"h\", \"h\", \"h\", \"h\", \"h\", \"h\", \"h\", \"h\", \"h\", \"h\", \"h\", \"h\", \"h\", \"h\", \"h\", \"h\", \"h\", \"h\", \"h\", \"h\", \"h\", \"h\", \"h\", \"h\", \"h\", \"h\", \"h\", \"h\", \"h\", \"h\", \"h\", \"h\", \"h\", \"h\", \"h\", \"h\", \"h\", \"h\", \"h\", \"h\", \"h\", \"h\", \"h\", \"h\", \"h\", \"h\", \"h\", \"h\", \"h\", \"h\", \"h\", \"h\", \"h\", \"h\", \"h\", \"h\", \"h\", \"h\", \"h\", \"h\", \"h\", \"h\", \"h\", \"h\", \"h\", \"h\", \"h\", \"h\", \"h\", \"h\", \"h\", \"h\", \"h\", \"h\", \"h\", \"h\", \"h\", \"h\", \"h\", \"h\", \"h\", \"h\", \"h\", \"h\", \"h\", \"h\", \"h\", \"h\", \"h\", \"h\", \"h\", \"h\", \"h\", \"h\", \"h\", \"h\", \"h\", \"h\", \"h\", \"h\", \"h\", \"h\", \"h\", \"h\", \"h\", \"h\", \"h\", \"h\", \"h\", \"h\", \"h\", \"h\", \"h\", \"h\", \"h\", \"h\", \"h\", \"h\", \"h\", \"h\", \"h\", \"h\", \"h\", \"h\", \"h\", \"h\", \"h\", \"h\", \"h\", \"h\", \"h\", \"h\", \"h\", \"h\", \"h\", \"h\", \"h\", \"h\", \"h\", \"h\", \"h\", \"h\", \"h\", \"h\", \"h\", \"h\", \"h\", \"h\", \"h\", \"h\", \"h\", \"h\", \"h\", \"h\", \"h\", \"h\", \"h\", \"h\", \"h\", \"h\", \"h\", \"h\", \"h\", \"h\", \"h\", \"h\", \"h\", \"h\", \"h\", \"h\", \"h\", \"h\", \"h\", \"h\", \"h\", \"h\", \"h\", \"h\", \"h\", \"h\", \"h\", \"h\", \"h\", \"h\", \"h\", \"h\", \"h\", \"h\", \"h\", \"h\", \"h\", \"h\", \"h\", \"h\", \"h\", \"h\", \"h\", \"h\", \"h\", \"h\", \"h\", \"h\", \"h\", \"h\", \"h\", \"h\", \"h\", \"h\", \"h\", \"h\", \"h\", \"h\", \"h\", \"h\", \"h\", \"h\", \"h\", \"h\", \"h\", \"h\", \"h\", \"h\", \"h\", \"h\", \"h\", \"h\", \"h\", \"h\", \"h\", \"h\", \"h\", \"h\", \"h\", \"h\", \"h\", \"h\", \"h\", \"h\", \"h\", \"h\", \"h\", \"h\", \"h\", \"h\", \"h\", \"h\", \"h\", \"h\", \"h\", \"h\", \"h\", \"h\", \"h\", \"h\", \"h\", \"h\", \"h\", \"h\", \"h\", \"h\", \"h\", \"h\", \"h\", \"h\", \"h\", \"h\", \"h\", \"h\", \"h\", \"h\", \"h\", \"h\", \"h\", \"h\", \"h\", \"h\", \"h\", \"h\", \"h\", \"h\", \"h\", \"h\", \"h\", \"h\", \"h\", \"h\", \"h\", \"h\", \"h\", \"h\", \"h\", \"h\", \"h\", \"h\", \"h\", \"h\", \"h\", \"h\", \"h\", \"h\", \"h\", \"h\", \"h\", \"h\", \"h\", \"h\", \"h\", \"h\", \"h\", \"h\", \"h\", \"h\", \"h\", \"h\", \"h\", \"h\", \"h\", \"h\", \"h\", \"h\", \"h\", \"h\", \"h\", \"h\", \"h\", \"h\", \"h\", \"h\", \"h\", \"h\", \"h\", \"h\", \"h\", \"h\", \"h\", \"h\", \"h\", \"h\", \"h\", \"h\", \"h\", \"h\", \"h\", \"h\", \"h\", \"h\", \"h\", \"h\", \"h\", \"h\", \"h\", \"h\", \"h\", \"h\", \"h\", \"h\", \"h\", \"h\", \"h\", \"h\", \"h\", \"h\", \"h\", \"h\", \"h\", \"h\", \"h\", \"h\", \"h\", \"h\", \"h\", \"h\", \"h\", \"h\", \"h\", \"h\", \"h\", \"h\", \"h\", \"h\", \"h\", \"h\", \"h\", \"h\", \"h\", \"h\", \"h\", \"h\", \"h\", \"h\", \"h\", \"h\", \"h\", \"h\", \"h\", \"h\", \"h\", \"h\", \"h\", \"h\", \"h\", \"h\", \"h\", \"h\", \"h\", \"h\", \"h\", \"h\", \"h\", \"h\", \"h\", \"h\", \"h\", \"h\", \"h\", \"h\", \"h\", \"h\", \"h\", \"h\", \"h\", \"h\", \"h\", \"h\", \"h\", \"h\", \"h\", \"h\", \"h\", \"h\", \"h\", \"h\", \"h\", \"h\", \"h\", \"h\", \"h\", \"h\", \"h\", \"h\", \"h\", \"h\", \"h\", \"h\", \"h\", \"h\", \"h\", \"h\", \"h\", \"h\", \"h\", \"h\", \"h\", \"h\", \"h\", \"h\", \"h\", \"h\", \"h\", \"h\", \"h\", \"h\", \"h\", \"h\", \"h\", \"h\", \"h\", \"h\", \"h\", \"h\", \"h\", \"h\", \"h\", \"h\", \"h\", \"h\", \"h\", \"h\", \"h\", \"h\", \"h\", \"h\", \"h\", \"h\", \"h\", \"h\", \"h\", \"h\", \"h\", \"h\", \"h\", \"h\", \"h\", \"h\", \"h\", \"h\", \"h\", \"h\", \"h\", \"h\", \"h\", \"h\", \"h\", \"h\", \"h\", \"h\", \"h\", \"h\", \"h\", \"h\", \"h\", \"h\", \"h\", \"h\", \"h\", \"h\", \"h\", \"h\", \"h\", \"h\", \"h\", \"h\", \"h\", \"h\", \"h\", \"h\", \"h\", \"h\", \"h\", \"h\", \"h\", \"h\", \"h\", \"h\", \"h\", \"h\", \"h\", \"h\", \"h\", \"h\", \"h\", \"h\", \"h\", \"h\", \"h\", \"h\", \"h\", \"h\", \"h\", \"h\", \"h\", \"h\", \"h\", \"h\", \"h\", \"h\", \"h\", \"h\", \"h\", \"h\", \"h\", \"h\", \"h\", \"h\", \"h\", \"h\", \"h\", \"h\", \"h\", \"h\", \"h\", \"h\", \"h\", \"h\", \"h\", \"h\", \"h\", \"h\", \"h\", \"h\", \"h\", \"h\", \"h\", \"h\", \"h\", \"h\", \"h\", \"h\", \"h\", \"h\", \"h\", \"h\", \"h\", \"h\", \"h\", \"h\", \"h\", \"h\", \"h\", \"h\", \"h\", \"h\", \"h\", \"h\", \"h\", \"h\", \"h\", \"h\", \"h\", \"h\", \"h\", \"h\", \"h\", \"h\", \"h\", \"h\", \"h\", \"h\", \"h\", \"h\", \"h\", \"h\", \"h\", \"h\", \"h\", \"h\", \"h\", \"h\", \"h\", \"h\", \"h\", \"h\", \"h\", \"h\", \"h\", \"h\", \"h\", \"h\", \"h\", \"h\", \"h\", \"h\", \"h\", \"h\", \"h\", \"h\", \"h\", \"h\", \"h\", \"h\", \"h\", \"h\", \"h\", \"h\", \"h\", \"h\", \"h\", \"h\", \"h\", \"h\", \"h\", \"h\", \"h\", \"h\", \"h\", \"h\", \"h\", \"h\", \"h\", \"h\", \"h\", \"h\", \"h\", \"h\", \"h\", \"h\", \"h\", \"h\", \"h\", \"h\", \"h\", \"h\", \"h\", \"h\", \"h\", \"h\", \"h\", \"h\", \"h\", \"h\", \"h\", \"h\", \"h\", \"h\", \"h\", \"h\", \"h\", \"h\", \"h\", \"h\", \"h\", \"h\", \"h\", \"h\", \"h\", \"h\", \"h\", \"h\", \"h\", \"h\", \"h\", \"h\", \"h\", \"h\", \"h\", \"h\", \"h\", \"h\", \"h\", \"h\", \"h\", \"h\", \"h\", \"h\", \"h\", \"h\", \"h\", \"h\", \"h\", \"h\", \"h\", \"h\", \"h\", \"h\", \"h\", \"h\", \"h\", \"h\", \"h\", \"h\", \"h\", \"h\", \"h\", \"h\", \"h\", \"h\", \"h\", \"h\", \"h\", \"h\", \"h\", \"h\", \"h\", \"h\", \"h\", \"h\", \"h\", \"h\", \"h\", \"h\", \"h\", \"h\", \"h\", \"h\", \"h\", \"h\", \"h\", \"h\", \"h\", \"h\", \"h\", \"h\", \"h\", \"h\", \"h\", \"h\", \"h\", \"h\", \"h\", \"h\", \"h\", \"h\", \"h\", \"h\", \"h\", \"h\", \"h\", \"h\", \"h\", \"h\", \"h\", \"h\", \"h\", \"h\", \"h\", \"h\", \"h\", \"h\", \"h\", \"h\", \"h\", \"h\", \"h\", \"h\", \"h\", \"h\", \"h\", \"h\", \"h\", \"h\", \"h\", \"h\", \"h\", \"h\", \"h\", \"h\", \"h\", \"h\", \"h\", \"h\", \"h\", \"h\", \"h\", \"h\", \"h\", \"h\", \"h\", \"h\", \"h\", \"h\", \"h\", \"h\", \"h\", \"h\", \"h\", \"h\", \"h\", \"h\", \"h\", \"h\", \"h\", \"h\", \"h\", \"h\", \"h\", \"h\", \"h\", \"h\", \"h\", \"h\", \"h\", \"h\", \"h\", \"h\", \"h\", \"h\", \"h\", \"h\", \"h\", \"h\", \"h\", \"h\", \"h\", \"h\", \"h\", \"h\", \"h\", \"h\", \"h\", \"h\", \"h\", \"h\", \"h\", \"h\", \"h\", \"h\", \"h\", \"h\", \"h\", \"h\", \"h\", \"h\", \"h\", \"h\", \"h\", \"h\", \"h\", \"h\", \"h\", \"h\", \"h\", \"h\", \"h\", \"h\", \"h\", \"h\", \"h\", \"h\", \"h\", \"h\", \"h\", \"h\", \"h\", \"h\", \"h\", \"h\", \"h\", \"h\", \"h\", \"h\", \"h\", \"h\", \"h\", \"h\", \"h\", \"h\", \"h\", \"h\", \"h\", \"h\", \"h\", \"h\", \"h\", \"h\", \"h\", \"h\", \"h\", \"h\", \"h\", \"h\", \"h\", \"h\", \"h\", \"h\", \"h\", \"h\", \"h\", \"h\", \"h\", \"h\", \"h\", \"h\", \"h\", \"h\", \"h\", \"h\", \"h\", \"h\", \"h\", \"h\", \"h\", \"h\", \"h\", \"h\", \"h\", \"h\", \"h\", \"h\", \"h\", \"h\", \"h\", \"h\", \"h\", \"h\", \"h\", \"h\", \"h\", \"h\", \"h\", \"h\", \"h\", \"h\", \"h\", \"h\", \"h\", \"h\", \"h\", \"h\", \"h\", \"h\", \"h\", \"h\", \"h\", \"h\", \"h\", \"h\", \"h\", \"h\", \"h\", \"h\", \"h\", \"h\", \"h\", \"h\", \"h\", \"h\", \"h\", \"h\", \"h\", \"h\", \"h\", \"h\", \"h\", \"h\", \"h\", \"h\", \"h\", \"h\", \"h\", \"h\", \"h\", \"h\", \"h\"], \"xaxis\": \"x\", \"yaxis\": \"y\"}],                        {\"barmode\": \"relative\", \"height\": 300, \"legend\": {\"title\": {\"text\": \"class\"}, \"tracegroupgap\": 0}, \"margin\": {\"t\": 60}, \"template\": {\"data\": {\"bar\": [{\"error_x\": {\"color\": \"#2a3f5f\"}, \"error_y\": {\"color\": \"#2a3f5f\"}, \"marker\": {\"line\": {\"color\": \"#E5ECF6\", \"width\": 0.5}}, \"type\": \"bar\"}], \"barpolar\": [{\"marker\": {\"line\": {\"color\": \"#E5ECF6\", \"width\": 0.5}}, \"type\": \"barpolar\"}], \"carpet\": [{\"aaxis\": {\"endlinecolor\": \"#2a3f5f\", \"gridcolor\": \"white\", \"linecolor\": \"white\", \"minorgridcolor\": \"white\", \"startlinecolor\": \"#2a3f5f\"}, \"baxis\": {\"endlinecolor\": \"#2a3f5f\", \"gridcolor\": \"white\", \"linecolor\": \"white\", \"minorgridcolor\": \"white\", \"startlinecolor\": \"#2a3f5f\"}, \"type\": \"carpet\"}], \"choropleth\": [{\"colorbar\": {\"outlinewidth\": 0, \"ticks\": \"\"}, \"type\": \"choropleth\"}], \"contour\": [{\"colorbar\": {\"outlinewidth\": 0, \"ticks\": \"\"}, \"colorscale\": [[0.0, \"#0d0887\"], [0.1111111111111111, \"#46039f\"], [0.2222222222222222, \"#7201a8\"], [0.3333333333333333, \"#9c179e\"], [0.4444444444444444, \"#bd3786\"], [0.5555555555555556, \"#d8576b\"], [0.6666666666666666, \"#ed7953\"], [0.7777777777777778, \"#fb9f3a\"], [0.8888888888888888, \"#fdca26\"], [1.0, \"#f0f921\"]], \"type\": \"contour\"}], \"contourcarpet\": [{\"colorbar\": {\"outlinewidth\": 0, \"ticks\": \"\"}, \"type\": \"contourcarpet\"}], \"heatmap\": [{\"colorbar\": {\"outlinewidth\": 0, \"ticks\": \"\"}, \"colorscale\": [[0.0, \"#0d0887\"], [0.1111111111111111, \"#46039f\"], [0.2222222222222222, \"#7201a8\"], [0.3333333333333333, \"#9c179e\"], [0.4444444444444444, \"#bd3786\"], [0.5555555555555556, \"#d8576b\"], [0.6666666666666666, \"#ed7953\"], [0.7777777777777778, \"#fb9f3a\"], [0.8888888888888888, \"#fdca26\"], [1.0, \"#f0f921\"]], \"type\": \"heatmap\"}], \"heatmapgl\": [{\"colorbar\": {\"outlinewidth\": 0, \"ticks\": \"\"}, \"colorscale\": [[0.0, \"#0d0887\"], [0.1111111111111111, \"#46039f\"], [0.2222222222222222, \"#7201a8\"], [0.3333333333333333, \"#9c179e\"], [0.4444444444444444, \"#bd3786\"], [0.5555555555555556, \"#d8576b\"], [0.6666666666666666, \"#ed7953\"], [0.7777777777777778, \"#fb9f3a\"], [0.8888888888888888, \"#fdca26\"], [1.0, \"#f0f921\"]], \"type\": \"heatmapgl\"}], \"histogram\": [{\"marker\": {\"colorbar\": {\"outlinewidth\": 0, \"ticks\": \"\"}}, \"type\": \"histogram\"}], \"histogram2d\": [{\"colorbar\": {\"outlinewidth\": 0, \"ticks\": \"\"}, \"colorscale\": [[0.0, \"#0d0887\"], [0.1111111111111111, \"#46039f\"], [0.2222222222222222, \"#7201a8\"], [0.3333333333333333, \"#9c179e\"], [0.4444444444444444, \"#bd3786\"], [0.5555555555555556, \"#d8576b\"], [0.6666666666666666, \"#ed7953\"], [0.7777777777777778, \"#fb9f3a\"], [0.8888888888888888, \"#fdca26\"], [1.0, \"#f0f921\"]], \"type\": \"histogram2d\"}], \"histogram2dcontour\": [{\"colorbar\": {\"outlinewidth\": 0, \"ticks\": \"\"}, \"colorscale\": [[0.0, \"#0d0887\"], [0.1111111111111111, \"#46039f\"], [0.2222222222222222, \"#7201a8\"], [0.3333333333333333, \"#9c179e\"], [0.4444444444444444, \"#bd3786\"], [0.5555555555555556, \"#d8576b\"], [0.6666666666666666, \"#ed7953\"], [0.7777777777777778, \"#fb9f3a\"], [0.8888888888888888, \"#fdca26\"], [1.0, \"#f0f921\"]], \"type\": \"histogram2dcontour\"}], \"mesh3d\": [{\"colorbar\": {\"outlinewidth\": 0, \"ticks\": \"\"}, \"type\": \"mesh3d\"}], \"parcoords\": [{\"line\": {\"colorbar\": {\"outlinewidth\": 0, \"ticks\": \"\"}}, \"type\": \"parcoords\"}], \"pie\": [{\"automargin\": true, \"type\": \"pie\"}], \"scatter\": [{\"marker\": {\"colorbar\": {\"outlinewidth\": 0, \"ticks\": \"\"}}, \"type\": \"scatter\"}], \"scatter3d\": [{\"line\": {\"colorbar\": {\"outlinewidth\": 0, \"ticks\": \"\"}}, \"marker\": {\"colorbar\": {\"outlinewidth\": 0, \"ticks\": \"\"}}, \"type\": \"scatter3d\"}], \"scattercarpet\": [{\"marker\": {\"colorbar\": {\"outlinewidth\": 0, \"ticks\": \"\"}}, \"type\": \"scattercarpet\"}], \"scattergeo\": [{\"marker\": {\"colorbar\": {\"outlinewidth\": 0, \"ticks\": \"\"}}, \"type\": \"scattergeo\"}], \"scattergl\": [{\"marker\": {\"colorbar\": {\"outlinewidth\": 0, \"ticks\": \"\"}}, \"type\": \"scattergl\"}], \"scattermapbox\": [{\"marker\": {\"colorbar\": {\"outlinewidth\": 0, \"ticks\": \"\"}}, \"type\": \"scattermapbox\"}], \"scatterpolar\": [{\"marker\": {\"colorbar\": {\"outlinewidth\": 0, \"ticks\": \"\"}}, \"type\": \"scatterpolar\"}], \"scatterpolargl\": [{\"marker\": {\"colorbar\": {\"outlinewidth\": 0, \"ticks\": \"\"}}, \"type\": \"scatterpolargl\"}], \"scatterternary\": [{\"marker\": {\"colorbar\": {\"outlinewidth\": 0, \"ticks\": \"\"}}, \"type\": \"scatterternary\"}], \"surface\": [{\"colorbar\": {\"outlinewidth\": 0, \"ticks\": \"\"}, \"colorscale\": [[0.0, \"#0d0887\"], [0.1111111111111111, \"#46039f\"], [0.2222222222222222, \"#7201a8\"], [0.3333333333333333, \"#9c179e\"], [0.4444444444444444, \"#bd3786\"], [0.5555555555555556, \"#d8576b\"], [0.6666666666666666, \"#ed7953\"], [0.7777777777777778, \"#fb9f3a\"], [0.8888888888888888, \"#fdca26\"], [1.0, \"#f0f921\"]], \"type\": \"surface\"}], \"table\": [{\"cells\": {\"fill\": {\"color\": \"#EBF0F8\"}, \"line\": {\"color\": \"white\"}}, \"header\": {\"fill\": {\"color\": \"#C8D4E3\"}, \"line\": {\"color\": \"white\"}}, \"type\": \"table\"}]}, \"layout\": {\"annotationdefaults\": {\"arrowcolor\": \"#2a3f5f\", \"arrowhead\": 0, \"arrowwidth\": 1}, \"autotypenumbers\": \"strict\", \"coloraxis\": {\"colorbar\": {\"outlinewidth\": 0, \"ticks\": \"\"}}, \"colorscale\": {\"diverging\": [[0, \"#8e0152\"], [0.1, \"#c51b7d\"], [0.2, \"#de77ae\"], [0.3, \"#f1b6da\"], [0.4, \"#fde0ef\"], [0.5, \"#f7f7f7\"], [0.6, \"#e6f5d0\"], [0.7, \"#b8e186\"], [0.8, \"#7fbc41\"], [0.9, \"#4d9221\"], [1, \"#276419\"]], \"sequential\": [[0.0, \"#0d0887\"], [0.1111111111111111, \"#46039f\"], [0.2222222222222222, \"#7201a8\"], [0.3333333333333333, \"#9c179e\"], [0.4444444444444444, \"#bd3786\"], [0.5555555555555556, \"#d8576b\"], [0.6666666666666666, \"#ed7953\"], [0.7777777777777778, \"#fb9f3a\"], [0.8888888888888888, \"#fdca26\"], [1.0, \"#f0f921\"]], \"sequentialminus\": [[0.0, \"#0d0887\"], [0.1111111111111111, \"#46039f\"], [0.2222222222222222, \"#7201a8\"], [0.3333333333333333, \"#9c179e\"], [0.4444444444444444, \"#bd3786\"], [0.5555555555555556, \"#d8576b\"], [0.6666666666666666, \"#ed7953\"], [0.7777777777777778, \"#fb9f3a\"], [0.8888888888888888, \"#fdca26\"], [1.0, \"#f0f921\"]]}, \"colorway\": [\"#636efa\", \"#EF553B\", \"#00cc96\", \"#ab63fa\", \"#FFA15A\", \"#19d3f3\", \"#FF6692\", \"#B6E880\", \"#FF97FF\", \"#FECB52\"], \"font\": {\"color\": \"#2a3f5f\"}, \"geo\": {\"bgcolor\": \"white\", \"lakecolor\": \"white\", \"landcolor\": \"#E5ECF6\", \"showlakes\": true, \"showland\": true, \"subunitcolor\": \"white\"}, \"hoverlabel\": {\"align\": \"left\"}, \"hovermode\": \"closest\", \"mapbox\": {\"style\": \"light\"}, \"paper_bgcolor\": \"white\", \"plot_bgcolor\": \"#E5ECF6\", \"polar\": {\"angularaxis\": {\"gridcolor\": \"white\", \"linecolor\": \"white\", \"ticks\": \"\"}, \"bgcolor\": \"#E5ECF6\", \"radialaxis\": {\"gridcolor\": \"white\", \"linecolor\": \"white\", \"ticks\": \"\"}}, \"scene\": {\"xaxis\": {\"backgroundcolor\": \"#E5ECF6\", \"gridcolor\": \"white\", \"gridwidth\": 2, \"linecolor\": \"white\", \"showbackground\": true, \"ticks\": \"\", \"zerolinecolor\": \"white\"}, \"yaxis\": {\"backgroundcolor\": \"#E5ECF6\", \"gridcolor\": \"white\", \"gridwidth\": 2, \"linecolor\": \"white\", \"showbackground\": true, \"ticks\": \"\", \"zerolinecolor\": \"white\"}, \"zaxis\": {\"backgroundcolor\": \"#E5ECF6\", \"gridcolor\": \"white\", \"gridwidth\": 2, \"linecolor\": \"white\", \"showbackground\": true, \"ticks\": \"\", \"zerolinecolor\": \"white\"}}, \"shapedefaults\": {\"line\": {\"color\": \"#2a3f5f\"}}, \"ternary\": {\"aaxis\": {\"gridcolor\": \"white\", \"linecolor\": \"white\", \"ticks\": \"\"}, \"baxis\": {\"gridcolor\": \"white\", \"linecolor\": \"white\", \"ticks\": \"\"}, \"bgcolor\": \"#E5ECF6\", \"caxis\": {\"gridcolor\": \"white\", \"linecolor\": \"white\", \"ticks\": \"\"}}, \"title\": {\"x\": 0.05}, \"xaxis\": {\"automargin\": true, \"gridcolor\": \"white\", \"linecolor\": \"white\", \"ticks\": \"\", \"title\": {\"standoff\": 15}, \"zerolinecolor\": \"white\", \"zerolinewidth\": 2}, \"yaxis\": {\"automargin\": true, \"gridcolor\": \"white\", \"linecolor\": \"white\", \"ticks\": \"\", \"title\": {\"standoff\": 15}, \"zerolinecolor\": \"white\", \"zerolinewidth\": 2}}}, \"width\": 400, \"xaxis\": {\"anchor\": \"y\", \"categoryarray\": [\"g\", \"h\"], \"categoryorder\": \"array\", \"domain\": [0.0, 1.0], \"title\": {\"text\": \"class\"}}, \"yaxis\": {\"anchor\": \"x\", \"domain\": [0.0, 1.0], \"title\": {\"text\": \"count\"}}},                        {\"responsive\": true}                    ).then(function(){\n",
       "                            \n",
       "var gd = document.getElementById('054f143f-c289-49cd-a355-4ab77c36749f');\n",
       "var x = new MutationObserver(function (mutations, observer) {{\n",
       "        var display = window.getComputedStyle(gd).display;\n",
       "        if (!display || display === 'none') {{\n",
       "            console.log([gd, 'removed!']);\n",
       "            Plotly.purge(gd);\n",
       "            observer.disconnect();\n",
       "        }}\n",
       "}});\n",
       "\n",
       "// Listen for the removal of the full notebook cells\n",
       "var notebookContainer = gd.closest('#notebook-container');\n",
       "if (notebookContainer) {{\n",
       "    x.observe(notebookContainer, {childList: true});\n",
       "}}\n",
       "\n",
       "// Listen for the clearing of the current output cell\n",
       "var outputEl = gd.closest('.output');\n",
       "if (outputEl) {{\n",
       "    x.observe(outputEl, {childList: true});\n",
       "}}\n",
       "\n",
       "                        })                };                            </script>        </div>\n",
       "</body>\n",
       "</html>"
      ]
     },
     "metadata": {
      "tags": []
     },
     "output_type": "display_data"
    }
   ],
   "source": [
    "color_discrete_map = {0:'#15616d', 1: '#ff7d00'}\n",
    "px.histogram(df,x='class',color='class', width=400, height=300,color_discrete_map=color_discrete_map)"
   ]
  },
  {
   "cell_type": "markdown",
   "metadata": {
    "id": "7Xq3b3sed51y",
    "slideshow": {
     "slide_type": "subslide"
    }
   },
   "source": [
    "Just some featuers show a clear skewness. Skew indicates the distortion of a normal distribution, and it is quite common when dealing with real data, such as natural physics events."
   ]
  },
  {
   "cell_type": "code",
   "execution_count": null,
   "metadata": {
    "cellView": "form",
    "colab": {
     "base_uri": "https://localhost:8080/",
     "height": 357
    },
    "executionInfo": {
     "elapsed": 23918,
     "status": "ok",
     "timestamp": 1619881332583,
     "user": {
      "displayName": "Noemi Tomasello",
      "photoUrl": "https://lh6.googleusercontent.com/-0vac6q9vL7M/AAAAAAAAAAI/AAAAAAAACQY/OsKV2bRy4NA/s64/photo.jpg",
      "userId": "14936482853525964477"
     },
     "user_tz": -120
    },
    "id": "gFULNnRxdqDE",
    "outputId": "a4b15ae0-98d0-4fee-bcc2-df56fa588a6e",
    "slideshow": {
     "slide_type": "skip"
    }
   },
   "outputs": [
    {
     "data": {
      "text/html": [
       "<div>\n",
       "<style scoped>\n",
       "    .dataframe tbody tr th:only-of-type {\n",
       "        vertical-align: middle;\n",
       "    }\n",
       "\n",
       "    .dataframe tbody tr th {\n",
       "        vertical-align: top;\n",
       "    }\n",
       "\n",
       "    .dataframe thead th {\n",
       "        text-align: right;\n",
       "    }\n",
       "</style>\n",
       "<table border=\"1\" class=\"dataframe\">\n",
       "  <thead>\n",
       "    <tr style=\"text-align: right;\">\n",
       "      <th></th>\n",
       "      <th>Skewness</th>\n",
       "      <th>Kurtosis</th>\n",
       "    </tr>\n",
       "  </thead>\n",
       "  <tbody>\n",
       "    <tr>\n",
       "      <th>fLength</th>\n",
       "      <td>2.013652</td>\n",
       "      <td>4.970441</td>\n",
       "    </tr>\n",
       "    <tr>\n",
       "      <th>fWidth</th>\n",
       "      <td>3.371628</td>\n",
       "      <td>16.765407</td>\n",
       "    </tr>\n",
       "    <tr>\n",
       "      <th>fSize</th>\n",
       "      <td>0.875507</td>\n",
       "      <td>0.727278</td>\n",
       "    </tr>\n",
       "    <tr>\n",
       "      <th>fConc</th>\n",
       "      <td>0.485888</td>\n",
       "      <td>-0.521297</td>\n",
       "    </tr>\n",
       "    <tr>\n",
       "      <th>fConc1</th>\n",
       "      <td>0.685695</td>\n",
       "      <td>0.029391</td>\n",
       "    </tr>\n",
       "    <tr>\n",
       "      <th>fAsym</th>\n",
       "      <td>-1.046441</td>\n",
       "      <td>8.155330</td>\n",
       "    </tr>\n",
       "    <tr>\n",
       "      <th>fM3Long</th>\n",
       "      <td>-1.123078</td>\n",
       "      <td>4.670974</td>\n",
       "    </tr>\n",
       "    <tr>\n",
       "      <th>fM3Trans</th>\n",
       "      <td>0.120121</td>\n",
       "      <td>8.580352</td>\n",
       "    </tr>\n",
       "    <tr>\n",
       "      <th>fAlpha</th>\n",
       "      <td>0.850890</td>\n",
       "      <td>-0.533704</td>\n",
       "    </tr>\n",
       "    <tr>\n",
       "      <th>fDist</th>\n",
       "      <td>0.229587</td>\n",
       "      <td>-0.112577</td>\n",
       "    </tr>\n",
       "  </tbody>\n",
       "</table>\n",
       "</div>"
      ],
      "text/plain": [
       "          Skewness   Kurtosis\n",
       "fLength   2.013652   4.970441\n",
       "fWidth    3.371628  16.765407\n",
       "fSize     0.875507   0.727278\n",
       "fConc     0.485888  -0.521297\n",
       "fConc1    0.685695   0.029391\n",
       "fAsym    -1.046441   8.155330\n",
       "fM3Long  -1.123078   4.670974\n",
       "fM3Trans  0.120121   8.580352\n",
       "fAlpha    0.850890  -0.533704\n",
       "fDist     0.229587  -0.112577"
      ]
     },
     "execution_count": 9,
     "metadata": {
      "tags": []
     },
     "output_type": "execute_result"
    }
   ],
   "source": [
    "#@title\n",
    "df_skew_kuto = pd.DataFrame()\n",
    "df_skew_kuto['Skewness'] = df.skew()\n",
    "df_skew_kuto['Kurtosis'] = df.kurtosis()\n",
    "df_skew_kuto"
   ]
  },
  {
   "cell_type": "markdown",
   "metadata": {
    "id": "JnukJYKmE0Vd",
    "slideshow": {
     "slide_type": "subslide"
    }
   },
   "source": [
    "Pairplots plots are a useful tool to visulize relationship between variables easily and graphically. The function provived by seaborn creates a grid axes such that every variable will be shared accross a sigle row in the x-axes and a single column in the y-axes. While the diagonal plots represent the univariate distribution of each variable."
   ]
  },
  {
   "cell_type": "code",
   "execution_count": null,
   "metadata": {
    "colab": {
     "base_uri": "https://localhost:8080/",
     "height": 1000,
     "output_embedded_package_id": "1tiR8YPrb4p74ARYaQKdiEK4VjxJEOuUl"
    },
    "executionInfo": {
     "elapsed": 252106,
     "status": "ok",
     "timestamp": 1619881560793,
     "user": {
      "displayName": "Noemi Tomasello",
      "photoUrl": "https://lh6.googleusercontent.com/-0vac6q9vL7M/AAAAAAAAAAI/AAAAAAAACQY/OsKV2bRy4NA/s64/photo.jpg",
      "userId": "14936482853525964477"
     },
     "user_tz": -120
    },
    "id": "f-iJmsqEodna",
    "outputId": "b170a3e6-3e75-4664-f32c-0d687ea89f36",
    "scrolled": true,
    "slideshow": {
     "slide_type": "subslide"
    }
   },
   "outputs": [
    {
     "data": {
      "text/plain": [
       "Output hidden; open in https://colab.research.google.com to view."
      ]
     },
     "metadata": {},
     "output_type": "display_data"
    }
   ],
   "source": [
    "sns.set_context(\"paper\", font_scale=0.9)\n",
    "sns.pairplot(df, hue='class', plot_kws=dict(alpha=.50,s=70,linewidth=.5, edgecolor='w'),diag_kws=dict(shade=True),palette=[\"#588157\",\"#f8961e\"])"
   ]
  },
  {
   "cell_type": "markdown",
   "metadata": {
    "id": "yxZEQ3Y3Djok",
    "slideshow": {
     "slide_type": "subslide"
    }
   },
   "source": [
    "As we can see, most of the pairs of variables do not seem to have a particular correlation, but it pops up the positive correlation bewteen fConc and fConc1, and the negative correlatioin between fsize and fConc. \n",
    "Regarding the univariate distribution on the diagonal, we can see that, except for fAlpha, the distribution of class 'g' ad class 'h' have approximately similar shapes."
   ]
  },
  {
   "cell_type": "markdown",
   "metadata": {
    "id": "UuAEzrq4ZGG9",
    "slideshow": {
     "slide_type": "slide"
    }
   },
   "source": [
    "# **Data Preprocessing**\n",
    "\n",
    "In machine learning algorithm the data pre-processing step is fundamental to create a reliable model. In this case, the dataset is already pretty clean, but there are still some adjustments to be done. The steps performed before starting the classification task are:\n",
    "1. correlation among features, to see if there are some redundant variables\n",
    "2. standardization, to make all variables comparable\n",
    "3. outlier detection, to remove outliers which can make the classification unreliable\n",
    "4. oversampling / undersampling, to \"fix\" the imbalance between the two classes in the original dataset\n",
    "5. dimensionality reduction\n",
    "\n",
    "The very first pre-processing step done is the are encoding  of the class labels using 0 and 1. Precesily:\n",
    "- Class 'g' -> 0\n",
    "- Class 'h' -> 1 "
   ]
  },
  {
   "cell_type": "code",
   "execution_count": 4,
   "metadata": {
    "executionInfo": {
     "elapsed": 271,
     "status": "ok",
     "timestamp": 1625144896011,
     "user": {
      "displayName": "Noemi Tomasello",
      "photoUrl": "https://lh3.googleusercontent.com/a-/AOh14GjIW9yCqcM8LQ4exswU2SMdZkf4dyrZ2hNdGKNq=s64",
      "userId": "14936482853525964477"
     },
     "user_tz": -120
    },
    "id": "iKpDKEZ6W8zV",
    "slideshow": {
     "slide_type": "skip"
    }
   },
   "outputs": [],
   "source": [
    "LE = LabelEncoder()\n",
    "Y = LE.fit_transform(df['class'])\n",
    "df['class'] = Y"
   ]
  },
  {
   "cell_type": "markdown",
   "metadata": {
    "id": "gk76h-ebuvRj",
    "slideshow": {
     "slide_type": "slide"
    }
   },
   "source": [
    "### **Feature Correlation**\n",
    "One of the most common method to discover the more meaningful features is generate a heatmap based on the features’ correlation. Mathematically the analysis is based upon the Pearson’s Correlation Coefficient:\n",
    "\n",
    "\n",
    "\\begin{equation}\n",
    "ρ_(X,Y)=  \\frac{(n(\\sum{xy})-(\\sum{x})(\\sum{y}))}{\\sqrt{[(n\\sum{x})^2-((\\sum{x}))^2][n\\sum{y})^2-(\\sum{y})^2]}}\n",
    "\\end{equation}\n",
    "\n",
    "\n",
    "The numerator is the empirical estimate of the covariance of the jth feature and the target value, while the denominator is the square root of the variance of the jth feature, time the variance of the target. Basically then, this coefficient measures the strength of the relationship between two variables and their association with each other. To put it simply, the Pearson’s coefficient calculates the changes of a variable when another variable changes. \n",
    "Pearson’s Correlation ranges between -1 and 1, where in both cases it means there is a strong linear correlation, negative and positive respectively, between the two features. When the correlation coefficient is instead near zero, it means that the two features are not correlated at all, but this doesn’t mean it is a useless feature. On the contrary, when two features are strongly correlated, it is probable that one of them can be “discarded” because it does not provide any further information useful to the model to predict the target value. From this comes one of the most important statement in statistics \"*Correlations does not imply causations*\"\n"
   ]
  },
  {
   "cell_type": "code",
   "execution_count": 5,
   "metadata": {
    "cellView": "form",
    "colab": {
     "base_uri": "https://localhost:8080/",
     "height": 517
    },
    "executionInfo": {
     "elapsed": 278,
     "status": "ok",
     "timestamp": 1625144903039,
     "user": {
      "displayName": "Noemi Tomasello",
      "photoUrl": "https://lh3.googleusercontent.com/a-/AOh14GjIW9yCqcM8LQ4exswU2SMdZkf4dyrZ2hNdGKNq=s64",
      "userId": "14936482853525964477"
     },
     "user_tz": -120
    },
    "id": "O7y2zuCKodnb",
    "outputId": "2b222abd-2b2f-486f-bbc5-2f6e0b9a86f3",
    "slideshow": {
     "slide_type": "subslide"
    }
   },
   "outputs": [
    {
     "data": {
      "text/html": [
       "<html>\n",
       "<head><meta charset=\"utf-8\" /></head>\n",
       "<body>\n",
       "    <div>            <script src=\"https://cdnjs.cloudflare.com/ajax/libs/mathjax/2.7.5/MathJax.js?config=TeX-AMS-MML_SVG\"></script><script type=\"text/javascript\">if (window.MathJax) {MathJax.Hub.Config({SVG: {font: \"STIX-Web\"}});}</script>                <script type=\"text/javascript\">window.PlotlyConfig = {MathJaxConfig: 'local'};</script>\n",
       "        <script src=\"https://cdn.plot.ly/plotly-latest.min.js\"></script>                <div id=\"a04fa05c-d89c-4940-9ef0-b0abe777bf99\" class=\"plotly-graph-div\" style=\"height:500px; width:700px;\"></div>            <script type=\"text/javascript\">                                    window.PLOTLYENV=window.PLOTLYENV || {};                                    if (document.getElementById(\"a04fa05c-d89c-4940-9ef0-b0abe777bf99\")) {                    Plotly.newPlot(                        \"a04fa05c-d89c-4940-9ef0-b0abe777bf99\",                        [{\"colorscale\": [[0.0, \"#78290f\"], [0.25, \"#ff7d00\"], [0.5, \"#ffecd1\"], [0.75, \"#15616d\"], [1.0, \"#202c39\"]], \"type\": \"heatmap\", \"x\": [\"fLength\", \"fWidth\", \"fSize\", \"fConc\", \"fConc1\", \"fAsym\", \"fM3Long\", \"fM3Trans\", \"fAlpha\", \"fDist\", \"class\"], \"y\": [\"fLength\", \"fWidth\", \"fSize\", \"fConc\", \"fConc1\", \"fAsym\", \"fM3Long\", \"fM3Trans\", \"fAlpha\", \"fDist\", \"class\"], \"z\": [[1.0, 0.7705120396837211, 0.7024537576802136, -0.6309990789441371, -0.5981451310343256, -0.36855648667770613, -0.11974712839849563, 0.013389231720797553, -0.008777491115616104, 0.4184660710290949, 0.3075722462037404], [0.7705120396837211, 1.0, 0.7175168553176411, -0.6097786682086167, -0.5811407280368901, -0.2669609165340795, -0.17623422360754665, 0.03974360775459556, 0.06606137710396848, 0.33681611468448225, 0.2655964388163358], [0.7024537576802136, 0.7175168553176411, 1.0, -0.8508497973208023, -0.8088350117321321, -0.15986295426380667, 0.09515719422738414, 0.015454743012780273, -0.18667516391283426, 0.43704075700982004, 0.1177945917375826], [-0.6309990789441371, -0.6097786682086167, -0.8508497973208023, 1.0, 0.9764118508094787, 0.11227222630884263, -0.12189933746198144, -0.011294068519778324, 0.23527190115015098, -0.32833230192791163, -0.02461450922104169], [-0.5981451310343256, -0.5811407280368901, -0.8088350117321321, 0.9764118508094787, 1.0, 0.10015922010503664, -0.11876890875676853, -0.010965602436160038, 0.2297985354481817, -0.3046246782032224, -0.004797273270669923], [-0.36855648667770613, -0.2669609165340795, -0.15986295426380667, 0.11227222630884263, 0.10015922010503664, 1.0, 0.27404481585390233, 0.0025528373198593904, -0.05568862071046052, -0.2067296317956613, -0.1735872573906205], [-0.11974712839849563, -0.17623422360754665, 0.09515719422738414, -0.12189933746198144, -0.11876890875676853, 0.27404481585390233, 1.0, -0.017196694477804374, -0.18627459341684421, 0.03702517412368082, -0.1934090510037046], [0.013389231720797553, 0.03974360775459556, 0.015454743012780273, -0.011294068519778324, -0.010965602436160038, 0.0025528373198593904, -0.017196694477804374, 1.0, 0.004659125870348445, 0.011426611571946773, 0.0038371980687573583], [-0.008777491115616104, 0.06606137710396848, -0.18667516391283426, 0.23527190115015098, 0.2297985354481817, -0.05568862071046052, -0.18627459341684421, 0.004659125870348445, 1.0, -0.22055557614035393, 0.4609793933309639], [0.4184660710290949, 0.33681611468448225, 0.43704075700982004, -0.32833230192791163, -0.3046246782032224, -0.2067296317956613, 0.03702517412368082, 0.011426611571946773, -0.22055557614035393, 1.0, 0.06520263487388467], [0.3075722462037404, 0.2655964388163358, 0.1177945917375826, -0.02461450922104169, -0.004797273270669923, -0.1735872573906205, -0.1934090510037046, 0.0038371980687573583, 0.4609793933309639, 0.06520263487388467, 1.0]]}],                        {\"height\": 500, \"template\": {\"data\": {\"bar\": [{\"error_x\": {\"color\": \"#2a3f5f\"}, \"error_y\": {\"color\": \"#2a3f5f\"}, \"marker\": {\"line\": {\"color\": \"#E5ECF6\", \"width\": 0.5}}, \"type\": \"bar\"}], \"barpolar\": [{\"marker\": {\"line\": {\"color\": \"#E5ECF6\", \"width\": 0.5}}, \"type\": \"barpolar\"}], \"carpet\": [{\"aaxis\": {\"endlinecolor\": \"#2a3f5f\", \"gridcolor\": \"white\", \"linecolor\": \"white\", \"minorgridcolor\": \"white\", \"startlinecolor\": \"#2a3f5f\"}, \"baxis\": {\"endlinecolor\": \"#2a3f5f\", \"gridcolor\": \"white\", \"linecolor\": \"white\", \"minorgridcolor\": \"white\", \"startlinecolor\": \"#2a3f5f\"}, \"type\": \"carpet\"}], \"choropleth\": [{\"colorbar\": {\"outlinewidth\": 0, \"ticks\": \"\"}, \"type\": \"choropleth\"}], \"contour\": [{\"colorbar\": {\"outlinewidth\": 0, \"ticks\": \"\"}, \"colorscale\": [[0.0, \"#0d0887\"], [0.1111111111111111, \"#46039f\"], [0.2222222222222222, \"#7201a8\"], [0.3333333333333333, \"#9c179e\"], [0.4444444444444444, \"#bd3786\"], [0.5555555555555556, \"#d8576b\"], [0.6666666666666666, \"#ed7953\"], [0.7777777777777778, \"#fb9f3a\"], [0.8888888888888888, \"#fdca26\"], [1.0, \"#f0f921\"]], \"type\": \"contour\"}], \"contourcarpet\": [{\"colorbar\": {\"outlinewidth\": 0, \"ticks\": \"\"}, \"type\": \"contourcarpet\"}], \"heatmap\": [{\"colorbar\": {\"outlinewidth\": 0, \"ticks\": \"\"}, \"colorscale\": [[0.0, \"#0d0887\"], [0.1111111111111111, \"#46039f\"], [0.2222222222222222, \"#7201a8\"], [0.3333333333333333, \"#9c179e\"], [0.4444444444444444, \"#bd3786\"], [0.5555555555555556, \"#d8576b\"], [0.6666666666666666, \"#ed7953\"], [0.7777777777777778, \"#fb9f3a\"], [0.8888888888888888, \"#fdca26\"], [1.0, \"#f0f921\"]], \"type\": \"heatmap\"}], \"heatmapgl\": [{\"colorbar\": {\"outlinewidth\": 0, \"ticks\": \"\"}, \"colorscale\": [[0.0, \"#0d0887\"], [0.1111111111111111, \"#46039f\"], [0.2222222222222222, \"#7201a8\"], [0.3333333333333333, \"#9c179e\"], [0.4444444444444444, \"#bd3786\"], [0.5555555555555556, \"#d8576b\"], [0.6666666666666666, \"#ed7953\"], [0.7777777777777778, \"#fb9f3a\"], [0.8888888888888888, \"#fdca26\"], [1.0, \"#f0f921\"]], \"type\": \"heatmapgl\"}], \"histogram\": [{\"marker\": {\"colorbar\": {\"outlinewidth\": 0, \"ticks\": \"\"}}, \"type\": \"histogram\"}], \"histogram2d\": [{\"colorbar\": {\"outlinewidth\": 0, \"ticks\": \"\"}, \"colorscale\": [[0.0, \"#0d0887\"], [0.1111111111111111, \"#46039f\"], [0.2222222222222222, \"#7201a8\"], [0.3333333333333333, \"#9c179e\"], [0.4444444444444444, \"#bd3786\"], [0.5555555555555556, \"#d8576b\"], [0.6666666666666666, \"#ed7953\"], [0.7777777777777778, \"#fb9f3a\"], [0.8888888888888888, \"#fdca26\"], [1.0, \"#f0f921\"]], \"type\": \"histogram2d\"}], \"histogram2dcontour\": [{\"colorbar\": {\"outlinewidth\": 0, \"ticks\": \"\"}, \"colorscale\": [[0.0, \"#0d0887\"], [0.1111111111111111, \"#46039f\"], [0.2222222222222222, \"#7201a8\"], [0.3333333333333333, \"#9c179e\"], [0.4444444444444444, \"#bd3786\"], [0.5555555555555556, \"#d8576b\"], [0.6666666666666666, \"#ed7953\"], [0.7777777777777778, \"#fb9f3a\"], [0.8888888888888888, \"#fdca26\"], [1.0, \"#f0f921\"]], \"type\": \"histogram2dcontour\"}], \"mesh3d\": [{\"colorbar\": {\"outlinewidth\": 0, \"ticks\": \"\"}, \"type\": \"mesh3d\"}], \"parcoords\": [{\"line\": {\"colorbar\": {\"outlinewidth\": 0, \"ticks\": \"\"}}, \"type\": \"parcoords\"}], \"pie\": [{\"automargin\": true, \"type\": \"pie\"}], \"scatter\": [{\"marker\": {\"colorbar\": {\"outlinewidth\": 0, \"ticks\": \"\"}}, \"type\": \"scatter\"}], \"scatter3d\": [{\"line\": {\"colorbar\": {\"outlinewidth\": 0, \"ticks\": \"\"}}, \"marker\": {\"colorbar\": {\"outlinewidth\": 0, \"ticks\": \"\"}}, \"type\": \"scatter3d\"}], \"scattercarpet\": [{\"marker\": {\"colorbar\": {\"outlinewidth\": 0, \"ticks\": \"\"}}, \"type\": \"scattercarpet\"}], \"scattergeo\": [{\"marker\": {\"colorbar\": {\"outlinewidth\": 0, \"ticks\": \"\"}}, \"type\": \"scattergeo\"}], \"scattergl\": [{\"marker\": {\"colorbar\": {\"outlinewidth\": 0, \"ticks\": \"\"}}, \"type\": \"scattergl\"}], \"scattermapbox\": [{\"marker\": {\"colorbar\": {\"outlinewidth\": 0, \"ticks\": \"\"}}, \"type\": \"scattermapbox\"}], \"scatterpolar\": [{\"marker\": {\"colorbar\": {\"outlinewidth\": 0, \"ticks\": \"\"}}, \"type\": \"scatterpolar\"}], \"scatterpolargl\": [{\"marker\": {\"colorbar\": {\"outlinewidth\": 0, \"ticks\": \"\"}}, \"type\": \"scatterpolargl\"}], \"scatterternary\": [{\"marker\": {\"colorbar\": {\"outlinewidth\": 0, \"ticks\": \"\"}}, \"type\": \"scatterternary\"}], \"surface\": [{\"colorbar\": {\"outlinewidth\": 0, \"ticks\": \"\"}, \"colorscale\": [[0.0, \"#0d0887\"], [0.1111111111111111, \"#46039f\"], [0.2222222222222222, \"#7201a8\"], [0.3333333333333333, \"#9c179e\"], [0.4444444444444444, \"#bd3786\"], [0.5555555555555556, \"#d8576b\"], [0.6666666666666666, \"#ed7953\"], [0.7777777777777778, \"#fb9f3a\"], [0.8888888888888888, \"#fdca26\"], [1.0, \"#f0f921\"]], \"type\": \"surface\"}], \"table\": [{\"cells\": {\"fill\": {\"color\": \"#EBF0F8\"}, \"line\": {\"color\": \"white\"}}, \"header\": {\"fill\": {\"color\": \"#C8D4E3\"}, \"line\": {\"color\": \"white\"}}, \"type\": \"table\"}]}, \"layout\": {\"annotationdefaults\": {\"arrowcolor\": \"#2a3f5f\", \"arrowhead\": 0, \"arrowwidth\": 1}, \"autotypenumbers\": \"strict\", \"coloraxis\": {\"colorbar\": {\"outlinewidth\": 0, \"ticks\": \"\"}}, \"colorscale\": {\"diverging\": [[0, \"#8e0152\"], [0.1, \"#c51b7d\"], [0.2, \"#de77ae\"], [0.3, \"#f1b6da\"], [0.4, \"#fde0ef\"], [0.5, \"#f7f7f7\"], [0.6, \"#e6f5d0\"], [0.7, \"#b8e186\"], [0.8, \"#7fbc41\"], [0.9, \"#4d9221\"], [1, \"#276419\"]], \"sequential\": [[0.0, \"#0d0887\"], [0.1111111111111111, \"#46039f\"], [0.2222222222222222, \"#7201a8\"], [0.3333333333333333, \"#9c179e\"], [0.4444444444444444, \"#bd3786\"], [0.5555555555555556, \"#d8576b\"], [0.6666666666666666, \"#ed7953\"], [0.7777777777777778, \"#fb9f3a\"], [0.8888888888888888, \"#fdca26\"], [1.0, \"#f0f921\"]], \"sequentialminus\": [[0.0, \"#0d0887\"], [0.1111111111111111, \"#46039f\"], [0.2222222222222222, \"#7201a8\"], [0.3333333333333333, \"#9c179e\"], [0.4444444444444444, \"#bd3786\"], [0.5555555555555556, \"#d8576b\"], [0.6666666666666666, \"#ed7953\"], [0.7777777777777778, \"#fb9f3a\"], [0.8888888888888888, \"#fdca26\"], [1.0, \"#f0f921\"]]}, \"colorway\": [\"#636efa\", \"#EF553B\", \"#00cc96\", \"#ab63fa\", \"#FFA15A\", \"#19d3f3\", \"#FF6692\", \"#B6E880\", \"#FF97FF\", \"#FECB52\"], \"font\": {\"color\": \"#2a3f5f\"}, \"geo\": {\"bgcolor\": \"white\", \"lakecolor\": \"white\", \"landcolor\": \"#E5ECF6\", \"showlakes\": true, \"showland\": true, \"subunitcolor\": \"white\"}, \"hoverlabel\": {\"align\": \"left\"}, \"hovermode\": \"closest\", \"mapbox\": {\"style\": \"light\"}, \"paper_bgcolor\": \"white\", \"plot_bgcolor\": \"#E5ECF6\", \"polar\": {\"angularaxis\": {\"gridcolor\": \"white\", \"linecolor\": \"white\", \"ticks\": \"\"}, \"bgcolor\": \"#E5ECF6\", \"radialaxis\": {\"gridcolor\": \"white\", \"linecolor\": \"white\", \"ticks\": \"\"}}, \"scene\": {\"xaxis\": {\"backgroundcolor\": \"#E5ECF6\", \"gridcolor\": \"white\", \"gridwidth\": 2, \"linecolor\": \"white\", \"showbackground\": true, \"ticks\": \"\", \"zerolinecolor\": \"white\"}, \"yaxis\": {\"backgroundcolor\": \"#E5ECF6\", \"gridcolor\": \"white\", \"gridwidth\": 2, \"linecolor\": \"white\", \"showbackground\": true, \"ticks\": \"\", \"zerolinecolor\": \"white\"}, \"zaxis\": {\"backgroundcolor\": \"#E5ECF6\", \"gridcolor\": \"white\", \"gridwidth\": 2, \"linecolor\": \"white\", \"showbackground\": true, \"ticks\": \"\", \"zerolinecolor\": \"white\"}}, \"shapedefaults\": {\"line\": {\"color\": \"#2a3f5f\"}}, \"ternary\": {\"aaxis\": {\"gridcolor\": \"white\", \"linecolor\": \"white\", \"ticks\": \"\"}, \"baxis\": {\"gridcolor\": \"white\", \"linecolor\": \"white\", \"ticks\": \"\"}, \"bgcolor\": \"#E5ECF6\", \"caxis\": {\"gridcolor\": \"white\", \"linecolor\": \"white\", \"ticks\": \"\"}}, \"title\": {\"x\": 0.05}, \"xaxis\": {\"automargin\": true, \"gridcolor\": \"white\", \"linecolor\": \"white\", \"ticks\": \"\", \"title\": {\"standoff\": 15}, \"zerolinecolor\": \"white\", \"zerolinewidth\": 2}, \"yaxis\": {\"automargin\": true, \"gridcolor\": \"white\", \"linecolor\": \"white\", \"ticks\": \"\", \"title\": {\"standoff\": 15}, \"zerolinecolor\": \"white\", \"zerolinewidth\": 2}}}, \"title\": {\"text\": \"Correlation between feautures\"}, \"width\": 700, \"xaxis\": {\"nticks\": 11}, \"yaxis\": {\"nticks\": 11}},                        {\"responsive\": true}                    ).then(function(){\n",
       "                            \n",
       "var gd = document.getElementById('a04fa05c-d89c-4940-9ef0-b0abe777bf99');\n",
       "var x = new MutationObserver(function (mutations, observer) {{\n",
       "        var display = window.getComputedStyle(gd).display;\n",
       "        if (!display || display === 'none') {{\n",
       "            console.log([gd, 'removed!']);\n",
       "            Plotly.purge(gd);\n",
       "            observer.disconnect();\n",
       "        }}\n",
       "}});\n",
       "\n",
       "// Listen for the removal of the full notebook cells\n",
       "var notebookContainer = gd.closest('#notebook-container');\n",
       "if (notebookContainer) {{\n",
       "    x.observe(notebookContainer, {childList: true});\n",
       "}}\n",
       "\n",
       "// Listen for the clearing of the current output cell\n",
       "var outputEl = gd.closest('.output');\n",
       "if (outputEl) {{\n",
       "    x.observe(outputEl, {childList: true});\n",
       "}}\n",
       "\n",
       "                        })                };                            </script>        </div>\n",
       "</body>\n",
       "</html>"
      ]
     },
     "metadata": {
      "tags": []
     },
     "output_type": "display_data"
    }
   ],
   "source": [
    "#@title\n",
    "corr = df.corr(method='pearson')\n",
    "cmap= [\"#78290f\",\"#ff7d00\",\"#ffecd1\",\"#15616d\", \"#202c39\"]\n",
    "fig = go.Figure(data=go.Heatmap(z=corr,x=df.columns, y=df.columns,colorscale=cmap))\n",
    "fig.update_layout(\n",
    "    title='Correlation between feautures',\n",
    "    xaxis_nticks=len(df.columns),\n",
    "    yaxis_nticks=len(df.columns),\n",
    "    width = 700, height = 500)\n",
    "fig.show()"
   ]
  },
  {
   "cell_type": "markdown",
   "metadata": {
    "id": "stjL_zptxb5h",
    "slideshow": {
     "slide_type": "subslide"
    }
   },
   "source": [
    "Here is shown the correlation matrix of the feature, high positive correlated features are illustrated in blue, while highly negative correlated features are shown in orange.\n",
    "As noticed in the pairplot, the fConc and fConc1 are strictly correlated. We now notice also a small correlation also bewteen fConc/fConc1 and fSize/fLength/fWidth. We can procede to reduce the the dimensionality of the dataset and extrapole some significant features. To do so in more structured manner, PCA for dimensionality reduction will be used. \n"
   ]
  },
  {
   "cell_type": "code",
   "execution_count": 6,
   "metadata": {
    "executionInfo": {
     "elapsed": 230,
     "status": "ok",
     "timestamp": 1625144914508,
     "user": {
      "displayName": "Noemi Tomasello",
      "photoUrl": "https://lh3.googleusercontent.com/a-/AOh14GjIW9yCqcM8LQ4exswU2SMdZkf4dyrZ2hNdGKNq=s64",
      "userId": "14936482853525964477"
     },
     "user_tz": -120
    },
    "id": "Rn2eIxdKodnf",
    "slideshow": {
     "slide_type": "skip"
    }
   },
   "outputs": [],
   "source": [
    "df = df.drop(['class'],axis=1)"
   ]
  },
  {
   "cell_type": "code",
   "execution_count": 7,
   "metadata": {
    "colab": {
     "base_uri": "https://localhost:8080/",
     "height": 421
    },
    "executionInfo": {
     "elapsed": 6,
     "status": "ok",
     "timestamp": 1625144915781,
     "user": {
      "displayName": "Noemi Tomasello",
      "photoUrl": "https://lh3.googleusercontent.com/a-/AOh14GjIW9yCqcM8LQ4exswU2SMdZkf4dyrZ2hNdGKNq=s64",
      "userId": "14936482853525964477"
     },
     "user_tz": -120
    },
    "id": "gX_oSJ8YWu4Z",
    "outputId": "84949c7f-9380-4174-d121-5276dbb5a989",
    "slideshow": {
     "slide_type": "skip"
    }
   },
   "outputs": [
    {
     "data": {
      "text/html": [
       "<div>\n",
       "<style scoped>\n",
       "    .dataframe tbody tr th:only-of-type {\n",
       "        vertical-align: middle;\n",
       "    }\n",
       "\n",
       "    .dataframe tbody tr th {\n",
       "        vertical-align: top;\n",
       "    }\n",
       "\n",
       "    .dataframe thead th {\n",
       "        text-align: right;\n",
       "    }\n",
       "</style>\n",
       "<table border=\"1\" class=\"dataframe\">\n",
       "  <thead>\n",
       "    <tr style=\"text-align: right;\">\n",
       "      <th></th>\n",
       "      <th>fLength</th>\n",
       "      <th>fWidth</th>\n",
       "      <th>fSize</th>\n",
       "      <th>fConc</th>\n",
       "      <th>fConc1</th>\n",
       "      <th>fAsym</th>\n",
       "      <th>fM3Long</th>\n",
       "      <th>fM3Trans</th>\n",
       "      <th>fAlpha</th>\n",
       "      <th>fDist</th>\n",
       "    </tr>\n",
       "  </thead>\n",
       "  <tbody>\n",
       "    <tr>\n",
       "      <th>9168</th>\n",
       "      <td>25.9857</td>\n",
       "      <td>18.4585</td>\n",
       "      <td>2.5231</td>\n",
       "      <td>0.3538</td>\n",
       "      <td>0.1814</td>\n",
       "      <td>-25.4800</td>\n",
       "      <td>-6.2044</td>\n",
       "      <td>15.2170</td>\n",
       "      <td>56.1948</td>\n",
       "      <td>190.3300</td>\n",
       "    </tr>\n",
       "    <tr>\n",
       "      <th>8383</th>\n",
       "      <td>37.5265</td>\n",
       "      <td>21.7254</td>\n",
       "      <td>3.0988</td>\n",
       "      <td>0.2087</td>\n",
       "      <td>0.1087</td>\n",
       "      <td>37.1436</td>\n",
       "      <td>8.3872</td>\n",
       "      <td>8.8451</td>\n",
       "      <td>7.3742</td>\n",
       "      <td>141.9140</td>\n",
       "    </tr>\n",
       "    <tr>\n",
       "      <th>3980</th>\n",
       "      <td>58.8047</td>\n",
       "      <td>33.6055</td>\n",
       "      <td>3.5673</td>\n",
       "      <td>0.1798</td>\n",
       "      <td>0.0955</td>\n",
       "      <td>45.2378</td>\n",
       "      <td>56.4516</td>\n",
       "      <td>26.5973</td>\n",
       "      <td>4.6870</td>\n",
       "      <td>134.6540</td>\n",
       "    </tr>\n",
       "    <tr>\n",
       "      <th>8011</th>\n",
       "      <td>81.8663</td>\n",
       "      <td>22.5846</td>\n",
       "      <td>3.0037</td>\n",
       "      <td>0.2062</td>\n",
       "      <td>0.1076</td>\n",
       "      <td>-98.9128</td>\n",
       "      <td>56.3823</td>\n",
       "      <td>15.6502</td>\n",
       "      <td>4.4916</td>\n",
       "      <td>242.7150</td>\n",
       "    </tr>\n",
       "    <tr>\n",
       "      <th>9018</th>\n",
       "      <td>57.4159</td>\n",
       "      <td>17.4763</td>\n",
       "      <td>2.8344</td>\n",
       "      <td>0.2738</td>\n",
       "      <td>0.1428</td>\n",
       "      <td>22.4771</td>\n",
       "      <td>60.2797</td>\n",
       "      <td>12.2177</td>\n",
       "      <td>14.6429</td>\n",
       "      <td>202.6650</td>\n",
       "    </tr>\n",
       "    <tr>\n",
       "      <th>...</th>\n",
       "      <td>...</td>\n",
       "      <td>...</td>\n",
       "      <td>...</td>\n",
       "      <td>...</td>\n",
       "      <td>...</td>\n",
       "      <td>...</td>\n",
       "      <td>...</td>\n",
       "      <td>...</td>\n",
       "      <td>...</td>\n",
       "      <td>...</td>\n",
       "    </tr>\n",
       "    <tr>\n",
       "      <th>9225</th>\n",
       "      <td>34.7527</td>\n",
       "      <td>16.3799</td>\n",
       "      <td>2.6212</td>\n",
       "      <td>0.2703</td>\n",
       "      <td>0.1376</td>\n",
       "      <td>21.9455</td>\n",
       "      <td>23.6607</td>\n",
       "      <td>7.2786</td>\n",
       "      <td>16.5306</td>\n",
       "      <td>158.1200</td>\n",
       "    </tr>\n",
       "    <tr>\n",
       "      <th>13123</th>\n",
       "      <td>40.7440</td>\n",
       "      <td>16.0635</td>\n",
       "      <td>2.8145</td>\n",
       "      <td>0.3108</td>\n",
       "      <td>0.1668</td>\n",
       "      <td>15.8622</td>\n",
       "      <td>36.5069</td>\n",
       "      <td>-6.2138</td>\n",
       "      <td>13.3971</td>\n",
       "      <td>284.7751</td>\n",
       "    </tr>\n",
       "    <tr>\n",
       "      <th>9845</th>\n",
       "      <td>35.8286</td>\n",
       "      <td>16.8952</td>\n",
       "      <td>2.8802</td>\n",
       "      <td>0.3070</td>\n",
       "      <td>0.1746</td>\n",
       "      <td>38.7674</td>\n",
       "      <td>17.2509</td>\n",
       "      <td>11.3048</td>\n",
       "      <td>0.4720</td>\n",
       "      <td>234.8680</td>\n",
       "    </tr>\n",
       "    <tr>\n",
       "      <th>10799</th>\n",
       "      <td>20.0986</td>\n",
       "      <td>12.8671</td>\n",
       "      <td>2.4057</td>\n",
       "      <td>0.4558</td>\n",
       "      <td>0.2417</td>\n",
       "      <td>11.5039</td>\n",
       "      <td>9.7434</td>\n",
       "      <td>7.8750</td>\n",
       "      <td>21.6750</td>\n",
       "      <td>212.0980</td>\n",
       "    </tr>\n",
       "    <tr>\n",
       "      <th>2732</th>\n",
       "      <td>27.2726</td>\n",
       "      <td>12.6129</td>\n",
       "      <td>2.7288</td>\n",
       "      <td>0.3978</td>\n",
       "      <td>0.2512</td>\n",
       "      <td>-10.4679</td>\n",
       "      <td>-17.5545</td>\n",
       "      <td>-9.9008</td>\n",
       "      <td>3.7890</td>\n",
       "      <td>185.4310</td>\n",
       "    </tr>\n",
       "  </tbody>\n",
       "</table>\n",
       "<p>14265 rows × 10 columns</p>\n",
       "</div>"
      ],
      "text/plain": [
       "       fLength   fWidth   fSize   fConc  ...  fM3Long  fM3Trans   fAlpha     fDist\n",
       "9168   25.9857  18.4585  2.5231  0.3538  ...  -6.2044   15.2170  56.1948  190.3300\n",
       "8383   37.5265  21.7254  3.0988  0.2087  ...   8.3872    8.8451   7.3742  141.9140\n",
       "3980   58.8047  33.6055  3.5673  0.1798  ...  56.4516   26.5973   4.6870  134.6540\n",
       "8011   81.8663  22.5846  3.0037  0.2062  ...  56.3823   15.6502   4.4916  242.7150\n",
       "9018   57.4159  17.4763  2.8344  0.2738  ...  60.2797   12.2177  14.6429  202.6650\n",
       "...        ...      ...     ...     ...  ...      ...       ...      ...       ...\n",
       "9225   34.7527  16.3799  2.6212  0.2703  ...  23.6607    7.2786  16.5306  158.1200\n",
       "13123  40.7440  16.0635  2.8145  0.3108  ...  36.5069   -6.2138  13.3971  284.7751\n",
       "9845   35.8286  16.8952  2.8802  0.3070  ...  17.2509   11.3048   0.4720  234.8680\n",
       "10799  20.0986  12.8671  2.4057  0.4558  ...   9.7434    7.8750  21.6750  212.0980\n",
       "2732   27.2726  12.6129  2.7288  0.3978  ... -17.5545   -9.9008   3.7890  185.4310\n",
       "\n",
       "[14265 rows x 10 columns]"
      ]
     },
     "execution_count": 7,
     "metadata": {
      "tags": []
     },
     "output_type": "execute_result"
    }
   ],
   "source": [
    "df_train, df_test, y_train, y_test = train_test_split(df, Y,test_size=.25, random_state=0)\n",
    "df_train"
   ]
  },
  {
   "cell_type": "code",
   "execution_count": null,
   "metadata": {
    "colab": {
     "base_uri": "https://localhost:8080/"
    },
    "executionInfo": {
     "elapsed": 252034,
     "status": "ok",
     "timestamp": 1619881560799,
     "user": {
      "displayName": "Noemi Tomasello",
      "photoUrl": "https://lh6.googleusercontent.com/-0vac6q9vL7M/AAAAAAAAAAI/AAAAAAAACQY/OsKV2bRy4NA/s64/photo.jpg",
      "userId": "14936482853525964477"
     },
     "user_tz": -120
    },
    "id": "tG2VFlVrOvFH",
    "outputId": "82faa5b0-1c18-4b0d-8538-ba543296f477",
    "slideshow": {
     "slide_type": "skip"
    }
   },
   "outputs": [
    {
     "data": {
      "text/plain": [
       "array([0, 0, 0, ..., 1, 1, 1])"
      ]
     },
     "execution_count": 15,
     "metadata": {
      "tags": []
     },
     "output_type": "execute_result"
    }
   ],
   "source": [
    "Y"
   ]
  },
  {
   "cell_type": "markdown",
   "metadata": {
    "id": "Y-qURswpodng",
    "slideshow": {
     "slide_type": "slide"
    }
   },
   "source": [
    "## *Standardization*\n",
    "\n",
    "As mentioned before, features present very different distributions, magnitude, and units, so it is necessary to standardize them in order to make a reasonable analysis. In fact many algorithms based their analysis on these characteristics, in gradient-based algorithms having features all on similar scale can help the algorithm converging faster, or distance-based algorithms need also to have their features scaled so to give a fair importance to all of them. \n",
    "There are different ways to scale the features, in this work it is use the standardization, which is one of the most common techniques. The standardization is done by removing the mean (µ) of the features values and dividing by the standard deviation (σ) of the features values:\n",
    "\\begin{equation}\n",
    "Z =  \\frac{X- μ}{σ}\n",
    "\\end{equation}\n",
    "In this way, the features result more comparable. We can see the effect of the standardization on the dataset in Figure 8. \n"
   ]
  },
  {
   "cell_type": "code",
   "execution_count": 8,
   "metadata": {
    "colab": {
     "base_uri": "https://localhost:8080/",
     "height": 299
    },
    "executionInfo": {
     "elapsed": 213,
     "status": "ok",
     "timestamp": 1625144920124,
     "user": {
      "displayName": "Noemi Tomasello",
      "photoUrl": "https://lh3.googleusercontent.com/a-/AOh14GjIW9yCqcM8LQ4exswU2SMdZkf4dyrZ2hNdGKNq=s64",
      "userId": "14936482853525964477"
     },
     "user_tz": -120
    },
    "id": "YOHQsuHfodng",
    "outputId": "a5debb23-be09-44e1-891d-b850fc767fb9",
    "slideshow": {
     "slide_type": "subslide"
    }
   },
   "outputs": [
    {
     "data": {
      "text/html": [
       "<div>\n",
       "<style scoped>\n",
       "    .dataframe tbody tr th:only-of-type {\n",
       "        vertical-align: middle;\n",
       "    }\n",
       "\n",
       "    .dataframe tbody tr th {\n",
       "        vertical-align: top;\n",
       "    }\n",
       "\n",
       "    .dataframe thead th {\n",
       "        text-align: right;\n",
       "    }\n",
       "</style>\n",
       "<table border=\"1\" class=\"dataframe\">\n",
       "  <thead>\n",
       "    <tr style=\"text-align: right;\">\n",
       "      <th></th>\n",
       "      <th>fLength</th>\n",
       "      <th>fWidth</th>\n",
       "      <th>fSize</th>\n",
       "      <th>fConc</th>\n",
       "      <th>fConc1</th>\n",
       "      <th>fAsym</th>\n",
       "      <th>fM3Long</th>\n",
       "      <th>fM3Trans</th>\n",
       "      <th>fAlpha</th>\n",
       "      <th>fDist</th>\n",
       "    </tr>\n",
       "  </thead>\n",
       "  <tbody>\n",
       "    <tr>\n",
       "      <th>count</th>\n",
       "      <td>1.426500e+04</td>\n",
       "      <td>1.426500e+04</td>\n",
       "      <td>1.426500e+04</td>\n",
       "      <td>1.426500e+04</td>\n",
       "      <td>1.426500e+04</td>\n",
       "      <td>1.426500e+04</td>\n",
       "      <td>1.426500e+04</td>\n",
       "      <td>1.426500e+04</td>\n",
       "      <td>1.426500e+04</td>\n",
       "      <td>1.426500e+04</td>\n",
       "    </tr>\n",
       "    <tr>\n",
       "      <th>mean</th>\n",
       "      <td>-2.748123e-17</td>\n",
       "      <td>3.905432e-17</td>\n",
       "      <td>-2.589295e-16</td>\n",
       "      <td>-1.451248e-16</td>\n",
       "      <td>8.035400e-17</td>\n",
       "      <td>-1.288353e-17</td>\n",
       "      <td>2.120826e-17</td>\n",
       "      <td>-8.732354e-18</td>\n",
       "      <td>8.806291e-17</td>\n",
       "      <td>7.215671e-18</td>\n",
       "    </tr>\n",
       "    <tr>\n",
       "      <th>std</th>\n",
       "      <td>1.000035e+00</td>\n",
       "      <td>1.000035e+00</td>\n",
       "      <td>1.000035e+00</td>\n",
       "      <td>1.000035e+00</td>\n",
       "      <td>1.000035e+00</td>\n",
       "      <td>1.000035e+00</td>\n",
       "      <td>1.000035e+00</td>\n",
       "      <td>1.000035e+00</td>\n",
       "      <td>1.000035e+00</td>\n",
       "      <td>1.000035e+00</td>\n",
       "    </tr>\n",
       "    <tr>\n",
       "      <th>min</th>\n",
       "      <td>-1.142097e+00</td>\n",
       "      <td>-1.192862e+00</td>\n",
       "      <td>-1.855999e+00</td>\n",
       "      <td>-2.005098e+00</td>\n",
       "      <td>-1.933050e+00</td>\n",
       "      <td>-7.464534e+00</td>\n",
       "      <td>-6.613837e+00</td>\n",
       "      <td>-7.833905e+00</td>\n",
       "      <td>-1.059394e+00</td>\n",
       "      <td>-2.574096e+00</td>\n",
       "    </tr>\n",
       "    <tr>\n",
       "      <th>25%</th>\n",
       "      <td>-6.778381e-01</td>\n",
       "      <td>-5.573448e-01</td>\n",
       "      <td>-7.335011e-01</td>\n",
       "      <td>-7.925623e-01</td>\n",
       "      <td>-7.824951e-01</td>\n",
       "      <td>-2.704419e-01</td>\n",
       "      <td>-4.446228e-01</td>\n",
       "      <td>-5.288635e-01</td>\n",
       "      <td>-8.478121e-01</td>\n",
       "      <td>-6.890751e-01</td>\n",
       "    </tr>\n",
       "    <tr>\n",
       "      <th>50%</th>\n",
       "      <td>-3.796533e-01</td>\n",
       "      <td>-2.739814e-01</td>\n",
       "      <td>-1.804014e-01</td>\n",
       "      <td>-1.467847e-01</td>\n",
       "      <td>-1.662869e-01</td>\n",
       "      <td>1.412262e-01</td>\n",
       "      <td>9.702134e-02</td>\n",
       "      <td>-2.131427e-03</td>\n",
       "      <td>-3.844270e-01</td>\n",
       "      <td>-2.650564e-02</td>\n",
       "    </tr>\n",
       "    <tr>\n",
       "      <th>75%</th>\n",
       "      <td>3.882435e-01</td>\n",
       "      <td>1.355662e-01</td>\n",
       "      <td>5.803490e-01</td>\n",
       "      <td>6.755599e-01</td>\n",
       "      <td>6.361332e-01</td>\n",
       "      <td>4.748606e-01</td>\n",
       "      <td>4.859354e-01</td>\n",
       "      <td>5.097069e-01</td>\n",
       "      <td>7.006551e-01</td>\n",
       "      <td>6.248484e-01</td>\n",
       "    </tr>\n",
       "    <tr>\n",
       "      <th>max</th>\n",
       "      <td>6.519952e+00</td>\n",
       "      <td>1.255787e+01</td>\n",
       "      <td>5.291116e+00</td>\n",
       "      <td>2.790005e+00</td>\n",
       "      <td>4.138175e+00</td>\n",
       "      <td>9.717173e+00</td>\n",
       "      <td>4.408578e+00</td>\n",
       "      <td>8.560659e+00</td>\n",
       "      <td>2.381585e+00</td>\n",
       "      <td>3.650962e+00</td>\n",
       "    </tr>\n",
       "  </tbody>\n",
       "</table>\n",
       "</div>"
      ],
      "text/plain": [
       "            fLength        fWidth  ...        fAlpha         fDist\n",
       "count  1.426500e+04  1.426500e+04  ...  1.426500e+04  1.426500e+04\n",
       "mean  -2.748123e-17  3.905432e-17  ...  8.806291e-17  7.215671e-18\n",
       "std    1.000035e+00  1.000035e+00  ...  1.000035e+00  1.000035e+00\n",
       "min   -1.142097e+00 -1.192862e+00  ... -1.059394e+00 -2.574096e+00\n",
       "25%   -6.778381e-01 -5.573448e-01  ... -8.478121e-01 -6.890751e-01\n",
       "50%   -3.796533e-01 -2.739814e-01  ... -3.844270e-01 -2.650564e-02\n",
       "75%    3.882435e-01  1.355662e-01  ...  7.006551e-01  6.248484e-01\n",
       "max    6.519952e+00  1.255787e+01  ...  2.381585e+00  3.650962e+00\n",
       "\n",
       "[8 rows x 10 columns]"
      ]
     },
     "execution_count": 8,
     "metadata": {
      "tags": []
     },
     "output_type": "execute_result"
    }
   ],
   "source": [
    "scaler = StandardScaler()\n",
    "train_scaled = scaler.fit_transform(df_train)\n",
    "df_train_scaled = pd.DataFrame(train_scaled, columns=df_train.columns)\n",
    "df_train_scaled.describe()"
   ]
  },
  {
   "cell_type": "markdown",
   "metadata": {
    "id": "-NBo8ff0odnj",
    "slideshow": {
     "slide_type": "slide"
    }
   },
   "source": [
    "## **Outlier detection**\n",
    "\n",
    "As anticipated in the Data Exploration section, the features present a high number of outliers, which are data points that stand out from the dataset and do not conform to the normal distribution of the whole dataset. These rare items can lead to errors and misclassification and depends on different factors: measurement errors, noise, novelty, etc. \n",
    "An easy way to visualize outliers in the data are boxplots. These graphs describe the data based on their quantiles and are not parametric, so no assumption is made upon the underling distribution. In particular they show five numbers: the maximum value, the minimum values, the sample median (or also second quantile), the first and the third quantile. The points that are not included between the maximum and minimum values are represented as dots, and they represent outliers. In Figure 10 we can see the boxplts of the features of our dataset, hued on their class value. \n"
   ]
  },
  {
   "cell_type": "code",
   "execution_count": null,
   "metadata": {
    "colab": {
     "base_uri": "https://localhost:8080/",
     "height": 542,
     "output_embedded_package_id": "11Wdum0g1kAFdkzwLFmlHsgIGnOeC8Jq4"
    },
    "executionInfo": {
     "elapsed": 253950,
     "status": "ok",
     "timestamp": 1619881562765,
     "user": {
      "displayName": "Noemi Tomasello",
      "photoUrl": "https://lh6.googleusercontent.com/-0vac6q9vL7M/AAAAAAAAAAI/AAAAAAAACQY/OsKV2bRy4NA/s64/photo.jpg",
      "userId": "14936482853525964477"
     },
     "user_tz": -120
    },
    "id": "hyn6T1b1odni",
    "outputId": "974d26da-09f6-4b74-f62d-c05fed1a0af1",
    "scrolled": false,
    "slideshow": {
     "slide_type": "subslide"
    }
   },
   "outputs": [
    {
     "data": {
      "text/plain": [
       "Output hidden; open in https://colab.research.google.com to view."
      ]
     },
     "metadata": {},
     "output_type": "display_data"
    }
   ],
   "source": [
    "color_discrete_map = {0:'#15616d', 1: '#ff7d00'}\n",
    "px.box(df_train_scaled,color=y_train, title = \"Box Plots Standardized Training Data\",color_discrete_map=color_discrete_map)"
   ]
  },
  {
   "cell_type": "markdown",
   "metadata": {
    "id": "FvOIxtKWgFYf",
    "slideshow": {
     "slide_type": "subslide"
    }
   },
   "source": [
    "As we can see, almost all the features present different univariate *outliers*. It is fun to notice that the features that have the greatest number of outliers corresponds to the ones with really hight level of kurtosis and skewness as observed in the Data exploration part.\n",
    "To try to remove this abnormal data points, four different anomaly detection algorithms have been tested.\n"
   ]
  },
  {
   "cell_type": "markdown",
   "metadata": {
    "id": "sZ4oX415odnj",
    "slideshow": {
     "slide_type": "slide"
    }
   },
   "source": [
    "### IQR\n",
    "\n",
    "IQR stands for Inter Quantile Range, and it is the difference between the third and first quartiles. Recalling that:\n",
    "* Q1, the first quartile, is the 25% of the data, also denoted as 0.25 quantile or 25 percentile.\n",
    "* Q3, the third quartile, is the 75% of the data, also denoted ad 0.75 quantile or 75 percentile.\n",
    "* Q2, the second quartile or also the median, is the 50% of the data, 0.50 quantile or 50 percentile.\n",
    "\n",
    "Therefore, the IQR is defined as:\n",
    "\\begin{equation}\n",
    "IQR=Q3-Q1\n",
    "\\end{equation}\n",
    "In order to detect outliers, a range is denoted by defining an upper and lower bound with the above-mentioned measures.\n",
    " \\begin{equation}lower-bound=(Q1- 1.5*IQR) \\end{equation}\n",
    " \\begin{equation}upper-bound=(Q3-1.5*IQR)\\end{equation}\n",
    "\n",
    "All the points that are less the lower bound or more than the upper bound are considered outliers and therefore discarded. \n"
   ]
  },
  {
   "cell_type": "code",
   "execution_count": 9,
   "metadata": {
    "executionInfo": {
     "elapsed": 228,
     "status": "ok",
     "timestamp": 1625144929157,
     "user": {
      "displayName": "Noemi Tomasello",
      "photoUrl": "https://lh3.googleusercontent.com/a-/AOh14GjIW9yCqcM8LQ4exswU2SMdZkf4dyrZ2hNdGKNq=s64",
      "userId": "14936482853525964477"
     },
     "user_tz": -120
    },
    "id": "K6qWdONQodnj",
    "slideshow": {
     "slide_type": "skip"
    }
   },
   "outputs": [],
   "source": [
    "def outliers_iqr(X_train, y_train, stampa=False):\n",
    "    Q1,Q3 = X_train.quantile(0.25), X_train.quantile(.75)\n",
    "    IQR = Q3 - Q1\n",
    "    lower_bound = Q1 - (1.5 * IQR)\n",
    "    upper_bound = Q3 + (1.5 * IQR)\n",
    "    outliers_index = []\n",
    "    for i in range(len(X_train.columns)):\n",
    "        out_lower = X_train.iloc[:,i] < lower_bound[i]\n",
    "        outliers_index.append(out_lower[out_lower==True].index.values)\n",
    "        out_upper = X_train.iloc[:,i] > upper_bound[i]\n",
    "        outliers_index.append(out_upper[out_upper==True].index.values)\n",
    "    outliers_index = np.concatenate(outliers_index, axis=0)\n",
    "    outliers_index = np.unique(list(outliers_index.flatten())).tolist() ##elimino i duplicati \n",
    "    if stampa == True:\n",
    "        print(f\"With IQR there are {len(outliers_index)} outliers\")\n",
    "    to_keep =[i for i in X_train.index if i not in outliers_index]  \n",
    "    X_train_iqr, y_train_iqr= X_train.iloc[to_keep, :], y_train[to_keep]\n",
    "    px.box(X_train_iqr, color=y_train_iqr)\n",
    "\n",
    "    return X_train_iqr, y_train_iqr"
   ]
  },
  {
   "cell_type": "code",
   "execution_count": null,
   "metadata": {
    "colab": {
     "base_uri": "https://localhost:8080/",
     "height": 559,
     "output_embedded_package_id": "1zwTvZ18MqTTtJayGR7TXvebsVfJ26xug"
    },
    "executionInfo": {
     "elapsed": 256011,
     "status": "ok",
     "timestamp": 1619881564851,
     "user": {
      "displayName": "Noemi Tomasello",
      "photoUrl": "https://lh6.googleusercontent.com/-0vac6q9vL7M/AAAAAAAAAAI/AAAAAAAACQY/OsKV2bRy4NA/s64/photo.jpg",
      "userId": "14936482853525964477"
     },
     "user_tz": -120
    },
    "id": "pVw9SqKF4AaV",
    "outputId": "d7c0620e-4f86-4d58-9401-65594f93a406",
    "slideshow": {
     "slide_type": "subslide"
    }
   },
   "outputs": [
    {
     "data": {
      "text/plain": [
       "Output hidden; open in https://colab.research.google.com to view."
      ]
     },
     "metadata": {},
     "output_type": "display_data"
    }
   ],
   "source": [
    "X_train_iqr, y_train_iqr = outliers_iqr(df_train_scaled,y_train,stampa=True)\n",
    "color_discrete_map = {0:'#15616d', 1: '#ff7d00'}\n",
    "px.box(X_train_iqr, color=y_train_iqr, title=\"Box Plots after IQR filter\",color_discrete_map=color_discrete_map)"
   ]
  },
  {
   "cell_type": "markdown",
   "metadata": {
    "id": "NyFI5ZvkdEOW",
    "slideshow": {
     "slide_type": "subslide"
    }
   },
   "source": [
    "Using IQR Filter 2445 out of 1902 points have been identified as outliers. In fact, we can notice in the above graph that the y-range is been reduced a lot, which indicated that almost all the \"*extreme*\" univariate outliers have been removed."
   ]
  },
  {
   "cell_type": "markdown",
   "metadata": {
    "id": "RwjkzcpFodnk",
    "slideshow": {
     "slide_type": "slide"
    }
   },
   "source": [
    "### **Isolation Forest**\n"
   ]
  },
  {
   "cell_type": "markdown",
   "metadata": {
    "id": "PlxI1z9X-sGg",
    "slideshow": {
     "slide_type": "subslide"
    }
   },
   "source": [
    "\n",
    "The Isolation Forest algorithm is a model-based method that isolates anomalies rather than profiles normal instances. It is based on two assumptions:\n",
    "1.\tThe anomalies are a minority consisting of few instances\n",
    "2.\tThey have attribute-values that are very “different” \n",
    "\n",
    "Therefore, the anomalies are expected to be isolated and closed to the root of a tree, called Isolation Tree. In fact, the Isolation Forest builds an ensemble of Isolation Trees on the datasets, the isolation of instances is done recursively until all instances have been isolated. The points which are considered outliers and therefore removed are those which have short average paths in the isolation trees, where the path length $h(x)$ is defined as the number of edges $x$ traverses an isolation tree from the root node to the external node.\n",
    "Specifically, given a sample of data $X$ of $n$ instances, to build an isolation tree $X$ is divided by selecting randomly an attribute $q$ and a split value $p$ until either the tree reaches a height limit or $|X| = 1$ or all the data in $X$ have the same value. Note that the isolation tree is a perfect binary tree, so each node has zero or two daughter nodes. In this way, the total number of nodes is $2n-1$, and consequently the memory requirement is bounded and grows linearly with $n$. \n",
    "Each instance is assigned an anomaly score, depending on the average on the path length $h(x)$. Based on this score we can estimate if that instance is an anomaly or not:\n",
    "* If the score is very close to 1, then the instance is definitely anomaly\n",
    "* If the score is much smaller than 0.5 then the instance is almost surely not an anomaly\n",
    "* If the score is ≈ 0.5 the entire sample does not really have any distinct anomaly."
   ]
  },
  {
   "cell_type": "code",
   "execution_count": 10,
   "metadata": {
    "executionInfo": {
     "elapsed": 246,
     "status": "ok",
     "timestamp": 1625144933661,
     "user": {
      "displayName": "Noemi Tomasello",
      "photoUrl": "https://lh3.googleusercontent.com/a-/AOh14GjIW9yCqcM8LQ4exswU2SMdZkf4dyrZ2hNdGKNq=s64",
      "userId": "14936482853525964477"
     },
     "user_tz": -120
    },
    "id": "LWzK_Xt6odnk",
    "slideshow": {
     "slide_type": "skip"
    }
   },
   "outputs": [],
   "source": [
    "def outliers_iso(X_train,y_train, stampa=False):\n",
    "    iso = IsolationForest(contamination=0.1)\n",
    "    yhat = iso.fit_predict(X_train)\n",
    "    mask = yhat != -1\n",
    "    X_train_iso, y_train_iso = X_train.iloc[mask, :], y_train[mask]\n",
    "    if stampa == True:\n",
    "        print(f\"With Isolation forest there are {list(yhat).count(-1)} outliers\")\n",
    "    return X_train_iso, y_train_iso"
   ]
  },
  {
   "cell_type": "code",
   "execution_count": null,
   "metadata": {
    "colab": {
     "base_uri": "https://localhost:8080/",
     "height": 559,
     "output_embedded_package_id": "1WDDKxE9qh8CuHTXkinMMa55Ouyn5P9Ew"
    },
    "executionInfo": {
     "elapsed": 258628,
     "status": "ok",
     "timestamp": 1619881567492,
     "user": {
      "displayName": "Noemi Tomasello",
      "photoUrl": "https://lh6.googleusercontent.com/-0vac6q9vL7M/AAAAAAAAAAI/AAAAAAAACQY/OsKV2bRy4NA/s64/photo.jpg",
      "userId": "14936482853525964477"
     },
     "user_tz": -120
    },
    "id": "Ko1VW8snodnk",
    "outputId": "36a9cfbe-a3d1-448d-dfa8-3a01dc03cb28",
    "slideshow": {
     "slide_type": "subslide"
    }
   },
   "outputs": [
    {
     "data": {
      "text/plain": [
       "Output hidden; open in https://colab.research.google.com to view."
      ]
     },
     "metadata": {},
     "output_type": "display_data"
    }
   ],
   "source": [
    "X_train_iso, y_train_iso = outliers_iso(df_train_scaled, y_train, stampa=True)\n",
    "color_discrete_map = {0:'#15616d', 1: '#ff7d00'}\n",
    "px.box(X_train_iso, color=y_train_iso, title=\"Box plots after Isolation Forests\",color_discrete_map=color_discrete_map)"
   ]
  },
  {
   "cell_type": "markdown",
   "metadata": {
    "id": "-ONJrqtf9jIy",
    "slideshow": {
     "slide_type": "subslide"
    }
   },
   "source": [
    "In this case, the algorithm indentified fewer outliers (1522 out of 19020  datapoints) and in fact, the y-range in the Box-plots graph is wider. Still, many univariate outliers has been removed. "
   ]
  },
  {
   "cell_type": "markdown",
   "metadata": {
    "id": "SADJBubx-wLW",
    "slideshow": {
     "slide_type": "slide"
    }
   },
   "source": [
    "### **Local Outlier Factor**\n"
   ]
  },
  {
   "cell_type": "markdown",
   "metadata": {
    "id": "mV6ZBFiaodnm",
    "slideshow": {
     "slide_type": "subslide"
    }
   },
   "source": [
    "\n",
    "Local Outlier Factor (LOF) is an algorithm thought for outlier and anomaly detection, and it is the first algorithm to introduce also the concept of how much outlying a point is. In fact, it computes a score, called outlier factor, representing the degree of abnormality of the observation, basically tells us how likely the point is an outlier. <br/>\n",
    "LOF “expands” the concept of outlier based on the assumption that for many real-world datasets the underlying structure is so complex that there must be considered other kinds of outliers. These objects are outlying relative to their local neighbourhood, in particular with respect to the density of their neighbourhood, and are called **local outliers**.\n",
    "The term “local” refers to the fact that only a restricted neighbourhood of each point is taken into consideration.<br/>\n",
    "Therefore, it is introduced a parameter $k$, which represents the number of neighbours considered. Using the right number for $k$ is not straightforward, with a too small number the algorithm looks only at nearby points, possibly missing out many noise points; on the other hand, a too large $k$ may miss local outliers.\n",
    "This leads to the definition of $k-distance$ of an object $p$, denoted as $k-distance(p)$, which is the distance $d(p,o)$ between $p$ and an object $o \\in D$ (Dataset), such that:\n",
    "\n",
    "* For at least $k$ object $o’ \\in D$, it holds that $d(o',p) ≤ d(o,p)$\n",
    "* For at most $k-1$ object $o’ \\in D$, it holds that $d(o',p) < d(o,p)$\n",
    "\n",
    "For example, if $k$ was 3, the k-distance would be the distance of a point to the third closest point. <br/>\n",
    "This leads to the concept of reachability distance of an object $p$ with respect to the object $o$:\n",
    "<br/><br/>\n",
    "\\begin{equation}\n",
    "reach-dist_k=max⁡{k-distance(o),d(p,o)}\n",
    "\\end{equation}\n",
    "<br/>\n",
    "Intuitively, if the object $p$ is really far away from object $o$, the reachability distance actually corresponds to the real distance of the two objects. This is basically a “smoothing effect” that can be controlled by the parameter $k$.<br/>\n",
    "Linked to this, we have the definition of the local reachability density ($lrd$), which indicates basically the inverse of the average reachability distances based on the $k$ nearest neighbours of object $p$. Precisely,\n",
    "<br/><br/>\n",
    "\\begin{equation} \n",
    "lrd=\\frac{1}{\\frac{\\sum{reach-dist_k (p,o)}}{k}}\n",
    "\\end{equation}\n",
    "<br/>\n",
    "Finally, we arrive to the definition of the above-mentioned local outlier factor (LOF), formally,\n",
    "<br/><br/>\n",
    "\\begin{equation} \n",
    "LOF_k (p)=  \\frac{\\frac{\\sum{lrd(o)}}{lrd(p)}}{k}\n",
    "\\end{equation} \n",
    "<br/>\n",
    "It is the average of the ratio of the local reachability density of p and those of $p$’s $k$-nearest neighbours. It is quite straightforward to see that the lower $p$’s reachability density is, the higher the reachability densities of $p$’s neighbours, and so the higher the $LOF$ coefficient. <br/>\n",
    "In other words, the $LOF$ of a point tells the its density compares to those of its neighbours. If the density of a point is much lower than those of its neighbours, and therefore the $LOF >> 1$, then the point is far from a dense area and, hence, an outlier."
   ]
  },
  {
   "cell_type": "code",
   "execution_count": 11,
   "metadata": {
    "executionInfo": {
     "elapsed": 222,
     "status": "ok",
     "timestamp": 1625144945942,
     "user": {
      "displayName": "Noemi Tomasello",
      "photoUrl": "https://lh3.googleusercontent.com/a-/AOh14GjIW9yCqcM8LQ4exswU2SMdZkf4dyrZ2hNdGKNq=s64",
      "userId": "14936482853525964477"
     },
     "user_tz": -120
    },
    "id": "-Kf8cuKoodnm",
    "slideshow": {
     "slide_type": "skip"
    }
   },
   "outputs": [],
   "source": [
    "def outliers_lof(X_train,y_train, stampa=False):\n",
    "    lof = LocalOutlierFactor(n_neighbors=400, novelty=True)\n",
    "    lof.fit(X_train)\n",
    "    outliers = lof.predict(X_train)\n",
    "    mask_lof = outliers != -1\n",
    "    if stampa==True:\n",
    "        print(f\"With LOF there are {list(outliers).count(-1)} outliers\")\n",
    "    X_train_lof, y_train_lof = X_train.iloc[mask_lof, :], y_train[mask_lof]\n",
    "    return X_train_lof, y_train_lof\n"
   ]
  },
  {
   "cell_type": "code",
   "execution_count": 14,
   "metadata": {
    "colab": {
     "base_uri": "https://localhost:8080/",
     "height": 559,
     "output_embedded_package_id": "1clFON8KsN_s9KyVWwuaIElUzNIkaxKGe"
    },
    "executionInfo": {
     "elapsed": 12952,
     "status": "ok",
     "timestamp": 1625145107271,
     "user": {
      "displayName": "Noemi Tomasello",
      "photoUrl": "https://lh3.googleusercontent.com/a-/AOh14GjIW9yCqcM8LQ4exswU2SMdZkf4dyrZ2hNdGKNq=s64",
      "userId": "14936482853525964477"
     },
     "user_tz": -120
    },
    "id": "OFvhBT5NvdVJ",
    "outputId": "08f140e3-086f-45d8-f687-a9efa87d5a74",
    "slideshow": {
     "slide_type": "subslide"
    }
   },
   "outputs": [
    {
     "data": {
      "text/plain": [
       "Output hidden; open in https://colab.research.google.com to view."
      ]
     },
     "metadata": {},
     "output_type": "display_data"
    }
   ],
   "source": [
    "X_train_lof, y_train_lof = outliers_lof(df_train_scaled, y_train, stampa=True)\n",
    "color_discrete_map = {0:'#15616d', 1: '#ff7d00'}\n",
    "px.box(X_train_lof, color=y_train_lof, title=\"Box plots after Local Outlier Factor\", color_discrete_map=color_discrete_map)"
   ]
  },
  {
   "cell_type": "markdown",
   "metadata": {
    "id": "8Sx6cVXt96hK",
    "slideshow": {
     "slide_type": "subslide"
    }
   },
   "source": [
    "This last algorithm indentifies the fewer number of outliers of all the others (787 out of 19020 ), in fact, the variables still presents a significant amount of abnormal points."
   ]
  },
  {
   "cell_type": "markdown",
   "metadata": {
    "id": "TNpUE-eeodnn",
    "slideshow": {
     "slide_type": "slide"
    }
   },
   "source": [
    "## **Dimensionality Reduction**\n",
    "\n",
    "Dimensionality reduction refers to the process of taking the data in high dimensional space and map it in a lower dimensional space.  This helps avoiding the **curse of dimensionality**, which is a phenomena that appears in different domains such us machine learning, database, data mining. Dimensionality simply refers to the numeber of features/variables and it can become a problem when optimizing a model with a large number of variables. In fact, high dimensional functions are potentially much more complicated than low dimensional functions, which makes harder discern new samples.\n",
    "\n",
    "The reduction is done by applying a linear transformation to the original data. The method used in this project, and probably the most common method used, is Principal Components Analysis (PCA). \n"
   ]
  },
  {
   "cell_type": "markdown",
   "metadata": {
    "id": "Uew6KnBFodnn",
    "slideshow": {
     "slide_type": "subslide"
    }
   },
   "source": [
    "**PCA**<br/>\n",
    "Let $x_i,… ,x_m$   be the original m vectors in $R^d$ , the purpose is to map $x$ with $y$ that is in a lower dimensional space $R^n$. So, we take $x ̃=Uy$ so that the $x ̃ $ is recovered version of $x$. Two matrixes are exploited to get the minimal distance between $x$ and $x ̃.$ Mathematically we aim at solving\n",
    "\\begin{equation}\n",
    "\\underset{W ∈R^{n,d},U∈R^{d,n}}{\\mathrm{argmin}}\\,\\sum{i=1}^{m}‖x_i-UWx_i ‖_2^2  \n",
    "\\end{equation} \n",
    "It can be proved that this formula is equal to the below formula:\n",
    "\\begin{equation}\n",
    "\\underset{U ∈R^{d,n}:U^TU=1}{\\mathrm{argmin}}\\,trace(U^T \\sum{i=1}^{m}x_i x_i^TU)\n",
    "\\end{equation}\n",
    "Where the trace operator is the sum of the diagonal entries of the matrix. In this way it can be found the solution of the PCA optimization problem by setting the U matrix to have the columns $u_1,…,u_n$, which are the n largest eigenvectors  of the matrix $A=\\sum{i=1}^{m}x_i x_i^T$, and set $W=U^T$. \n",
    "It is usually a standard practice to centre the data before applying PCA, this is related to the concept of maximal variance. Variance in the data is really important, because it corresponds to information. Thanks to the variance we can understand if a feature is more important than another.\n",
    "In simpler words, the PCA optimization problem explained before corresponds in choosing the “best line” on which project the original data to get the minimal error, this “best line” corresponds to the one in the direction of the maximum variance. The largest variance is given by the eigenvector corresponding to the largest eigenvalue of the matrix A.\n",
    "The principal components found by PCA are all linear combination of the features. The first principal component has the largest variance:\n",
    "$Z_1= ϕ_{11} X_1+ ϕ_{21} X_2+⋯+ ϕ_{m1} X_m$\n",
    "And it is a normalized linear combination, which means that the $\\sum{j=1}^{m}ϕ_{j1}^2=1$\n",
    "The values $ϕ_{j1},…,ϕ_{jm}$ are called principal components loadings. Projecting the data point $x_1,…,x_m$ onto these directions, we get the principal component scores $z_1,…,z_m$. Note that the $j$ principal components must be uncorrelated with each other, which is equivalent to constraining their directions to be orthonormal. \n",
    "In this way, PCA can be thought of as finding the new orthonormal basis by rotating the old axis until the direction of the maximal variance is found.\n"
   ]
  },
  {
   "cell_type": "code",
   "execution_count": 15,
   "metadata": {
    "colab": {
     "base_uri": "https://localhost:8080/",
     "height": 542
    },
    "executionInfo": {
     "elapsed": 222,
     "status": "ok",
     "timestamp": 1625145579531,
     "user": {
      "displayName": "Noemi Tomasello",
      "photoUrl": "https://lh3.googleusercontent.com/a-/AOh14GjIW9yCqcM8LQ4exswU2SMdZkf4dyrZ2hNdGKNq=s64",
      "userId": "14936482853525964477"
     },
     "user_tz": -120
    },
    "id": "MF_zZShDodnn",
    "outputId": "6adbad1a-d3a6-4a5c-95cb-1cd4b8593e21",
    "slideshow": {
     "slide_type": "subslide"
    }
   },
   "outputs": [
    {
     "data": {
      "text/html": [
       "<html>\n",
       "<head><meta charset=\"utf-8\" /></head>\n",
       "<body>\n",
       "    <div>            <script src=\"https://cdnjs.cloudflare.com/ajax/libs/mathjax/2.7.5/MathJax.js?config=TeX-AMS-MML_SVG\"></script><script type=\"text/javascript\">if (window.MathJax) {MathJax.Hub.Config({SVG: {font: \"STIX-Web\"}});}</script>                <script type=\"text/javascript\">window.PlotlyConfig = {MathJaxConfig: 'local'};</script>\n",
       "        <script src=\"https://cdn.plot.ly/plotly-latest.min.js\"></script>                <div id=\"23be9ad3-e489-403b-9ff0-cab8417ba0e1\" class=\"plotly-graph-div\" style=\"height:525px; width:100%;\"></div>            <script type=\"text/javascript\">                                    window.PLOTLYENV=window.PLOTLYENV || {};                                    if (document.getElementById(\"23be9ad3-e489-403b-9ff0-cab8417ba0e1\")) {                    Plotly.newPlot(                        \"23be9ad3-e489-403b-9ff0-cab8417ba0e1\",                        [{\"marker\": {\"color\": \"#004052\", \"line\": {\"color\": \"#004052\", \"width\": 1.5}}, \"name\": \"Variance Explained\", \"opacity\": 0.7, \"type\": \"bar\", \"x\": [1, 2, 3, 4, 5, 6, 7, 8, 9, 10, 11, 12, 13, 14, 15, 16, 17, 18, 19, 20, 21, 22, 23, 24, 25, 26, 27, 28], \"y\": [0.4212595523263437, 0.1592735224858774, 0.10149130641744854, 0.09925559448287027, 0.07350283713739054, 0.06474163047388003, 0.04113795525063656, 0.021832354412360002, 0.015470401428920078, 0.002034845584272888]}, {\"marker\": {\"color\": \"#dc562e\"}, \"mode\": \"lines+markers\", \"name\": \"Cumulative\", \"type\": \"scatter\", \"x\": [1, 2, 3, 4, 5, 6, 7, 8, 9, 10, 11, 12, 13, 14, 15, 16, 17, 18, 19, 20, 21, 22, 23, 24, 25, 26, 27, 28], \"y\": [0.4212595523263437, 0.580533074812221, 0.6820243812296696, 0.7812799757125398, 0.8547828128499304, 0.9195244433238104, 0.960662398574447, 0.982494752986807, 0.9979651544157271, 1.0]}],                        {\"template\": {\"data\": {\"bar\": [{\"error_x\": {\"color\": \"#2a3f5f\"}, \"error_y\": {\"color\": \"#2a3f5f\"}, \"marker\": {\"line\": {\"color\": \"#E5ECF6\", \"width\": 0.5}}, \"type\": \"bar\"}], \"barpolar\": [{\"marker\": {\"line\": {\"color\": \"#E5ECF6\", \"width\": 0.5}}, \"type\": \"barpolar\"}], \"carpet\": [{\"aaxis\": {\"endlinecolor\": \"#2a3f5f\", \"gridcolor\": \"white\", \"linecolor\": \"white\", \"minorgridcolor\": \"white\", \"startlinecolor\": \"#2a3f5f\"}, \"baxis\": {\"endlinecolor\": \"#2a3f5f\", \"gridcolor\": \"white\", \"linecolor\": \"white\", \"minorgridcolor\": \"white\", \"startlinecolor\": \"#2a3f5f\"}, \"type\": \"carpet\"}], \"choropleth\": [{\"colorbar\": {\"outlinewidth\": 0, \"ticks\": \"\"}, \"type\": \"choropleth\"}], \"contour\": [{\"colorbar\": {\"outlinewidth\": 0, \"ticks\": \"\"}, \"colorscale\": [[0.0, \"#0d0887\"], [0.1111111111111111, \"#46039f\"], [0.2222222222222222, \"#7201a8\"], [0.3333333333333333, \"#9c179e\"], [0.4444444444444444, \"#bd3786\"], [0.5555555555555556, \"#d8576b\"], [0.6666666666666666, \"#ed7953\"], [0.7777777777777778, \"#fb9f3a\"], [0.8888888888888888, \"#fdca26\"], [1.0, \"#f0f921\"]], \"type\": \"contour\"}], \"contourcarpet\": [{\"colorbar\": {\"outlinewidth\": 0, \"ticks\": \"\"}, \"type\": \"contourcarpet\"}], \"heatmap\": [{\"colorbar\": {\"outlinewidth\": 0, \"ticks\": \"\"}, \"colorscale\": [[0.0, \"#0d0887\"], [0.1111111111111111, \"#46039f\"], [0.2222222222222222, \"#7201a8\"], [0.3333333333333333, \"#9c179e\"], [0.4444444444444444, \"#bd3786\"], [0.5555555555555556, \"#d8576b\"], [0.6666666666666666, \"#ed7953\"], [0.7777777777777778, \"#fb9f3a\"], [0.8888888888888888, \"#fdca26\"], [1.0, \"#f0f921\"]], \"type\": \"heatmap\"}], \"heatmapgl\": [{\"colorbar\": {\"outlinewidth\": 0, \"ticks\": \"\"}, \"colorscale\": [[0.0, \"#0d0887\"], [0.1111111111111111, \"#46039f\"], [0.2222222222222222, \"#7201a8\"], [0.3333333333333333, \"#9c179e\"], [0.4444444444444444, \"#bd3786\"], [0.5555555555555556, \"#d8576b\"], [0.6666666666666666, \"#ed7953\"], [0.7777777777777778, \"#fb9f3a\"], [0.8888888888888888, \"#fdca26\"], [1.0, \"#f0f921\"]], \"type\": \"heatmapgl\"}], \"histogram\": [{\"marker\": {\"colorbar\": {\"outlinewidth\": 0, \"ticks\": \"\"}}, \"type\": \"histogram\"}], \"histogram2d\": [{\"colorbar\": {\"outlinewidth\": 0, \"ticks\": \"\"}, \"colorscale\": [[0.0, \"#0d0887\"], [0.1111111111111111, \"#46039f\"], [0.2222222222222222, \"#7201a8\"], [0.3333333333333333, \"#9c179e\"], [0.4444444444444444, \"#bd3786\"], [0.5555555555555556, \"#d8576b\"], [0.6666666666666666, \"#ed7953\"], [0.7777777777777778, \"#fb9f3a\"], [0.8888888888888888, \"#fdca26\"], [1.0, \"#f0f921\"]], \"type\": \"histogram2d\"}], \"histogram2dcontour\": [{\"colorbar\": {\"outlinewidth\": 0, \"ticks\": \"\"}, \"colorscale\": [[0.0, \"#0d0887\"], [0.1111111111111111, \"#46039f\"], [0.2222222222222222, \"#7201a8\"], [0.3333333333333333, \"#9c179e\"], [0.4444444444444444, \"#bd3786\"], [0.5555555555555556, \"#d8576b\"], [0.6666666666666666, \"#ed7953\"], [0.7777777777777778, \"#fb9f3a\"], [0.8888888888888888, \"#fdca26\"], [1.0, \"#f0f921\"]], \"type\": \"histogram2dcontour\"}], \"mesh3d\": [{\"colorbar\": {\"outlinewidth\": 0, \"ticks\": \"\"}, \"type\": \"mesh3d\"}], \"parcoords\": [{\"line\": {\"colorbar\": {\"outlinewidth\": 0, \"ticks\": \"\"}}, \"type\": \"parcoords\"}], \"pie\": [{\"automargin\": true, \"type\": \"pie\"}], \"scatter\": [{\"marker\": {\"colorbar\": {\"outlinewidth\": 0, \"ticks\": \"\"}}, \"type\": \"scatter\"}], \"scatter3d\": [{\"line\": {\"colorbar\": {\"outlinewidth\": 0, \"ticks\": \"\"}}, \"marker\": {\"colorbar\": {\"outlinewidth\": 0, \"ticks\": \"\"}}, \"type\": \"scatter3d\"}], \"scattercarpet\": [{\"marker\": {\"colorbar\": {\"outlinewidth\": 0, \"ticks\": \"\"}}, \"type\": \"scattercarpet\"}], \"scattergeo\": [{\"marker\": {\"colorbar\": {\"outlinewidth\": 0, \"ticks\": \"\"}}, \"type\": \"scattergeo\"}], \"scattergl\": [{\"marker\": {\"colorbar\": {\"outlinewidth\": 0, \"ticks\": \"\"}}, \"type\": \"scattergl\"}], \"scattermapbox\": [{\"marker\": {\"colorbar\": {\"outlinewidth\": 0, \"ticks\": \"\"}}, \"type\": \"scattermapbox\"}], \"scatterpolar\": [{\"marker\": {\"colorbar\": {\"outlinewidth\": 0, \"ticks\": \"\"}}, \"type\": \"scatterpolar\"}], \"scatterpolargl\": [{\"marker\": {\"colorbar\": {\"outlinewidth\": 0, \"ticks\": \"\"}}, \"type\": \"scatterpolargl\"}], \"scatterternary\": [{\"marker\": {\"colorbar\": {\"outlinewidth\": 0, \"ticks\": \"\"}}, \"type\": \"scatterternary\"}], \"surface\": [{\"colorbar\": {\"outlinewidth\": 0, \"ticks\": \"\"}, \"colorscale\": [[0.0, \"#0d0887\"], [0.1111111111111111, \"#46039f\"], [0.2222222222222222, \"#7201a8\"], [0.3333333333333333, \"#9c179e\"], [0.4444444444444444, \"#bd3786\"], [0.5555555555555556, \"#d8576b\"], [0.6666666666666666, \"#ed7953\"], [0.7777777777777778, \"#fb9f3a\"], [0.8888888888888888, \"#fdca26\"], [1.0, \"#f0f921\"]], \"type\": \"surface\"}], \"table\": [{\"cells\": {\"fill\": {\"color\": \"#EBF0F8\"}, \"line\": {\"color\": \"white\"}}, \"header\": {\"fill\": {\"color\": \"#C8D4E3\"}, \"line\": {\"color\": \"white\"}}, \"type\": \"table\"}]}, \"layout\": {\"annotationdefaults\": {\"arrowcolor\": \"#2a3f5f\", \"arrowhead\": 0, \"arrowwidth\": 1}, \"autotypenumbers\": \"strict\", \"coloraxis\": {\"colorbar\": {\"outlinewidth\": 0, \"ticks\": \"\"}}, \"colorscale\": {\"diverging\": [[0, \"#8e0152\"], [0.1, \"#c51b7d\"], [0.2, \"#de77ae\"], [0.3, \"#f1b6da\"], [0.4, \"#fde0ef\"], [0.5, \"#f7f7f7\"], [0.6, \"#e6f5d0\"], [0.7, \"#b8e186\"], [0.8, \"#7fbc41\"], [0.9, \"#4d9221\"], [1, \"#276419\"]], \"sequential\": [[0.0, \"#0d0887\"], [0.1111111111111111, \"#46039f\"], [0.2222222222222222, \"#7201a8\"], [0.3333333333333333, \"#9c179e\"], [0.4444444444444444, \"#bd3786\"], [0.5555555555555556, \"#d8576b\"], [0.6666666666666666, \"#ed7953\"], [0.7777777777777778, \"#fb9f3a\"], [0.8888888888888888, \"#fdca26\"], [1.0, \"#f0f921\"]], \"sequentialminus\": [[0.0, \"#0d0887\"], [0.1111111111111111, \"#46039f\"], [0.2222222222222222, \"#7201a8\"], [0.3333333333333333, \"#9c179e\"], [0.4444444444444444, \"#bd3786\"], [0.5555555555555556, \"#d8576b\"], [0.6666666666666666, \"#ed7953\"], [0.7777777777777778, \"#fb9f3a\"], [0.8888888888888888, \"#fdca26\"], [1.0, \"#f0f921\"]]}, \"colorway\": [\"#636efa\", \"#EF553B\", \"#00cc96\", \"#ab63fa\", \"#FFA15A\", \"#19d3f3\", \"#FF6692\", \"#B6E880\", \"#FF97FF\", \"#FECB52\"], \"font\": {\"color\": \"#2a3f5f\"}, \"geo\": {\"bgcolor\": \"white\", \"lakecolor\": \"white\", \"landcolor\": \"#E5ECF6\", \"showlakes\": true, \"showland\": true, \"subunitcolor\": \"white\"}, \"hoverlabel\": {\"align\": \"left\"}, \"hovermode\": \"closest\", \"mapbox\": {\"style\": \"light\"}, \"paper_bgcolor\": \"white\", \"plot_bgcolor\": \"#E5ECF6\", \"polar\": {\"angularaxis\": {\"gridcolor\": \"white\", \"linecolor\": \"white\", \"ticks\": \"\"}, \"bgcolor\": \"#E5ECF6\", \"radialaxis\": {\"gridcolor\": \"white\", \"linecolor\": \"white\", \"ticks\": \"\"}}, \"scene\": {\"xaxis\": {\"backgroundcolor\": \"#E5ECF6\", \"gridcolor\": \"white\", \"gridwidth\": 2, \"linecolor\": \"white\", \"showbackground\": true, \"ticks\": \"\", \"zerolinecolor\": \"white\"}, \"yaxis\": {\"backgroundcolor\": \"#E5ECF6\", \"gridcolor\": \"white\", \"gridwidth\": 2, \"linecolor\": \"white\", \"showbackground\": true, \"ticks\": \"\", \"zerolinecolor\": \"white\"}, \"zaxis\": {\"backgroundcolor\": \"#E5ECF6\", \"gridcolor\": \"white\", \"gridwidth\": 2, \"linecolor\": \"white\", \"showbackground\": true, \"ticks\": \"\", \"zerolinecolor\": \"white\"}}, \"shapedefaults\": {\"line\": {\"color\": \"#2a3f5f\"}}, \"ternary\": {\"aaxis\": {\"gridcolor\": \"white\", \"linecolor\": \"white\", \"ticks\": \"\"}, \"baxis\": {\"gridcolor\": \"white\", \"linecolor\": \"white\", \"ticks\": \"\"}, \"bgcolor\": \"#E5ECF6\", \"caxis\": {\"gridcolor\": \"white\", \"linecolor\": \"white\", \"ticks\": \"\"}}, \"title\": {\"x\": 0.05}, \"xaxis\": {\"automargin\": true, \"gridcolor\": \"white\", \"linecolor\": \"white\", \"ticks\": \"\", \"title\": {\"standoff\": 15}, \"zerolinecolor\": \"white\", \"zerolinewidth\": 2}, \"yaxis\": {\"automargin\": true, \"gridcolor\": \"white\", \"linecolor\": \"white\", \"ticks\": \"\", \"title\": {\"standoff\": 15}, \"zerolinecolor\": \"white\", \"zerolinewidth\": 2}}}, \"xaxis\": {\"showspikes\": true}, \"yaxis\": {\"showspikes\": true}},                        {\"responsive\": true}                    ).then(function(){\n",
       "                            \n",
       "var gd = document.getElementById('23be9ad3-e489-403b-9ff0-cab8417ba0e1');\n",
       "var x = new MutationObserver(function (mutations, observer) {{\n",
       "        var display = window.getComputedStyle(gd).display;\n",
       "        if (!display || display === 'none') {{\n",
       "            console.log([gd, 'removed!']);\n",
       "            Plotly.purge(gd);\n",
       "            observer.disconnect();\n",
       "        }}\n",
       "}});\n",
       "\n",
       "// Listen for the removal of the full notebook cells\n",
       "var notebookContainer = gd.closest('#notebook-container');\n",
       "if (notebookContainer) {{\n",
       "    x.observe(notebookContainer, {childList: true});\n",
       "}}\n",
       "\n",
       "// Listen for the clearing of the current output cell\n",
       "var outputEl = gd.closest('.output');\n",
       "if (outputEl) {{\n",
       "    x.observe(outputEl, {childList: true});\n",
       "}}\n",
       "\n",
       "                        })                };                            </script>        </div>\n",
       "</body>\n",
       "</html>"
      ]
     },
     "metadata": {
      "tags": []
     },
     "output_type": "display_data"
    }
   ],
   "source": [
    "# Pareto chart to see how many feature a need for a good result ---> circa 6\n",
    "pca = PCA()\n",
    "pca.fit(df_train_scaled)\n",
    "pca.explained_variance_ratio_\n",
    "reduced_df_train = pca.transform(df_train_scaled)\n",
    "color_discrete_map = {0:'#15616d', 1: '#ff7d00'}\n",
    "\n",
    "total_var = pca.explained_variance_ratio_.sum() * 100\n",
    "fig = go.Figure(data=go.Bar(x=np.arange(1,29), y=pca.explained_variance_ratio_, name='Variance Explained',marker_color='#004052', marker_line_color='#004052',\n",
    "                  marker_line_width=1.5, opacity=0.7))\n",
    "fig.add_trace(go.Scatter(x=np.arange(1,29), y=pca.explained_variance_ratio_.cumsum(), name='Cumulative',mode=\"lines+markers\",marker=dict(color='#dc562e')))\n",
    "\n",
    "fig.update_xaxes(showspikes=True)\n",
    "fig.update_yaxes(showspikes=True)\n",
    "fig.show()"
   ]
  },
  {
   "cell_type": "markdown",
   "metadata": {
    "id": "Z3t0FSJK-pgd",
    "slideshow": {
     "slide_type": "subslide"
    }
   },
   "source": [
    "*How to understan how many principal components to chose?* One of the most frequent method to use is explointing the bias-variance trade-off. To better visualize the variance explanied the Pareto diagram has been used. On the graph, the blue histogram represents the quantity of variance explained by every single possible component, while the red scattered line is the cumulative explained variance. The rule of thumbs tells me to retain a number of principals components so that the variance mainted is bewteen 70% and 90%. So I decided to maintain 5 principal components.\n"
   ]
  },
  {
   "cell_type": "code",
   "execution_count": 16,
   "metadata": {
    "executionInfo": {
     "elapsed": 214,
     "status": "ok",
     "timestamp": 1625145714685,
     "user": {
      "displayName": "Noemi Tomasello",
      "photoUrl": "https://lh3.googleusercontent.com/a-/AOh14GjIW9yCqcM8LQ4exswU2SMdZkf4dyrZ2hNdGKNq=s64",
      "userId": "14936482853525964477"
     },
     "user_tz": -120
    },
    "id": "VWeulXz-odnn",
    "slideshow": {
     "slide_type": "skip"
    }
   },
   "outputs": [],
   "source": [
    "pca = PCA(5)\n",
    "pca.fit(df_train_scaled)\n",
    "X_new = pca.transform(df_train_scaled)\n",
    "#X_val_new = pca.transform(X_val_clean)"
   ]
  },
  {
   "cell_type": "markdown",
   "metadata": {
    "id": "z8_y-nn-n0tw",
    "slideshow": {
     "slide_type": "slide"
    }
   },
   "source": [
    "# **Unbalanced dataset**"
   ]
  },
  {
   "cell_type": "markdown",
   "metadata": {
    "id": "xkrn25Vz-044",
    "slideshow": {
     "slide_type": "subslide"
    }
   },
   "source": [
    "We talk about unbalanced dataset when a class has the majority of the prediction with respect to the other. This leads the models to predict more often the majority class, which is usually the less important, resulting in  lower values of accuracy. <br/>\n",
    "High unbalanced dataset are common when dealing with real data such us telecommunication customers, radar images, text classification and so on. In the case of the analysed dataset the imbalance is due to the fact that re-creating gamma rays for the simulation is easier than recreating hadrons. While in reality, the majority class would have been hadron (h -> 1).\n",
    "During the year different methods to deal with the this situation have been proposed both at data level and at algorithm levels. The former consists of all the forms of re-sampling data like random oversampling with replacement, random undersampling, direct oversampling and direct undersampling. While the algorithm levels method focus more theorethical reasonings, like for istance adjusting the probability estimate of each class, or adjusting the decision threshold. \n",
    "\n",
    "<a href=\"https://www.researchgate.net/publication/228084509_Handling_imbalanced_datasets_A_review\">[3]</a>"
   ]
  },
  {
   "cell_type": "markdown",
   "metadata": {
    "id": "omMSOUNXDzSg",
    "slideshow": {
     "slide_type": "slide"
    }
   },
   "source": [
    "## **Random Undersampling**"
   ]
  },
  {
   "cell_type": "markdown",
   "metadata": {
    "id": "4mmZV5R3D4oj",
    "slideshow": {
     "slide_type": "subslide"
    }
   },
   "source": [
    "Random undersampling is a non-heuristic methond that aims at eliminating samples from the majority class to balance the class distribution. The idea is to overcame the normal behaviour of machine learning algoriths that tends to preferred the majority class especially in presence of uncertainty. The main drawback of this method is that it can potentially discard important information for the discrimination process.\n",
    "The idea behind this implementation of a consistent subset is to\n",
    "eliminate the examples from the majority class that are distant from the decision border, since these sorts of examples might be considered less relevant for learning.\n",
    "\n",
    "<p align=\"center\"><img src=\"https://dataaspirant.com/wp-content/uploads/2020/08/17-undersampling.png\" width=500 height=300/></p>\n"
   ]
  },
  {
   "cell_type": "code",
   "execution_count": null,
   "metadata": {
    "id": "Ep1cbz0_Nf2b",
    "slideshow": {
     "slide_type": "skip"
    }
   },
   "outputs": [],
   "source": [
    "rus = RandomUnderSampler() \n",
    "X_train_rus, y_train_rus = rus.fit_resample(X_new, y_train)"
   ]
  },
  {
   "cell_type": "code",
   "execution_count": null,
   "metadata": {
    "colab": {
     "base_uri": "https://localhost:8080/",
     "height": 417
    },
    "executionInfo": {
     "elapsed": 286767,
     "status": "ok",
     "timestamp": 1619881595729,
     "user": {
      "displayName": "Noemi Tomasello",
      "photoUrl": "https://lh6.googleusercontent.com/-0vac6q9vL7M/AAAAAAAAAAI/AAAAAAAACQY/OsKV2bRy4NA/s64/photo.jpg",
      "userId": "14936482853525964477"
     },
     "user_tz": -120
    },
    "id": "3tk0TbBxNyEb",
    "outputId": "e49bea8c-0493-46ed-d067-efe4f91d9eb8",
    "slideshow": {
     "slide_type": "subslide"
    }
   },
   "outputs": [
    {
     "data": {
      "text/html": [
       "<html>\n",
       "<head><meta charset=\"utf-8\" /></head>\n",
       "<body>\n",
       "    <div>            <script src=\"https://cdnjs.cloudflare.com/ajax/libs/mathjax/2.7.5/MathJax.js?config=TeX-AMS-MML_SVG\"></script><script type=\"text/javascript\">if (window.MathJax) {MathJax.Hub.Config({SVG: {font: \"STIX-Web\"}});}</script>                <script type=\"text/javascript\">window.PlotlyConfig = {MathJaxConfig: 'local'};</script>\n",
       "        <script src=\"https://cdn.plot.ly/plotly-latest.min.js\"></script>                <div id=\"342c1f02-5578-47d8-9f8f-9fd321a32d48\" class=\"plotly-graph-div\" style=\"height:400px; width:1000px;\"></div>            <script type=\"text/javascript\">                                    window.PLOTLYENV=window.PLOTLYENV || {};                                    if (document.getElementById(\"342c1f02-5578-47d8-9f8f-9fd321a32d48\")) {                    Plotly.newPlot(                        \"342c1f02-5578-47d8-9f8f-9fd321a32d48\",                        [{\"marker\": {\"color\": \"#004052\"}, \"type\": \"bar\", \"x\": [\"gamma\", \"hadron\"], \"xaxis\": \"x\", \"y\": [5012, 5012], \"yaxis\": \"y\"}, {\"marker\": {\"color\": \"#dc562e\"}, \"type\": \"bar\", \"x\": [\"gamma\", \"hadron\"], \"xaxis\": \"x2\", \"y\": [9253, 5012], \"yaxis\": \"y2\"}],                        {\"annotations\": [{\"font\": {\"size\": 16}, \"showarrow\": false, \"text\": \"Random Under Sampling\", \"x\": 0.225, \"xanchor\": \"center\", \"xref\": \"paper\", \"y\": 1.0, \"yanchor\": \"bottom\", \"yref\": \"paper\"}, {\"font\": {\"size\": 16}, \"showarrow\": false, \"text\": \"Original\", \"x\": 0.775, \"xanchor\": \"center\", \"xref\": \"paper\", \"y\": 1.0, \"yanchor\": \"bottom\", \"yref\": \"paper\"}], \"height\": 400, \"showlegend\": false, \"template\": {\"data\": {\"bar\": [{\"error_x\": {\"color\": \"#2a3f5f\"}, \"error_y\": {\"color\": \"#2a3f5f\"}, \"marker\": {\"line\": {\"color\": \"#E5ECF6\", \"width\": 0.5}}, \"type\": \"bar\"}], \"barpolar\": [{\"marker\": {\"line\": {\"color\": \"#E5ECF6\", \"width\": 0.5}}, \"type\": \"barpolar\"}], \"carpet\": [{\"aaxis\": {\"endlinecolor\": \"#2a3f5f\", \"gridcolor\": \"white\", \"linecolor\": \"white\", \"minorgridcolor\": \"white\", \"startlinecolor\": \"#2a3f5f\"}, \"baxis\": {\"endlinecolor\": \"#2a3f5f\", \"gridcolor\": \"white\", \"linecolor\": \"white\", \"minorgridcolor\": \"white\", \"startlinecolor\": \"#2a3f5f\"}, \"type\": \"carpet\"}], \"choropleth\": [{\"colorbar\": {\"outlinewidth\": 0, \"ticks\": \"\"}, \"type\": \"choropleth\"}], \"contour\": [{\"colorbar\": {\"outlinewidth\": 0, \"ticks\": \"\"}, \"colorscale\": [[0.0, \"#0d0887\"], [0.1111111111111111, \"#46039f\"], [0.2222222222222222, \"#7201a8\"], [0.3333333333333333, \"#9c179e\"], [0.4444444444444444, \"#bd3786\"], [0.5555555555555556, \"#d8576b\"], [0.6666666666666666, \"#ed7953\"], [0.7777777777777778, \"#fb9f3a\"], [0.8888888888888888, \"#fdca26\"], [1.0, \"#f0f921\"]], \"type\": \"contour\"}], \"contourcarpet\": [{\"colorbar\": {\"outlinewidth\": 0, \"ticks\": \"\"}, \"type\": \"contourcarpet\"}], \"heatmap\": [{\"colorbar\": {\"outlinewidth\": 0, \"ticks\": \"\"}, \"colorscale\": [[0.0, \"#0d0887\"], [0.1111111111111111, \"#46039f\"], [0.2222222222222222, \"#7201a8\"], [0.3333333333333333, \"#9c179e\"], [0.4444444444444444, \"#bd3786\"], [0.5555555555555556, \"#d8576b\"], [0.6666666666666666, \"#ed7953\"], [0.7777777777777778, \"#fb9f3a\"], [0.8888888888888888, \"#fdca26\"], [1.0, \"#f0f921\"]], \"type\": \"heatmap\"}], \"heatmapgl\": [{\"colorbar\": {\"outlinewidth\": 0, \"ticks\": \"\"}, \"colorscale\": [[0.0, \"#0d0887\"], [0.1111111111111111, \"#46039f\"], [0.2222222222222222, \"#7201a8\"], [0.3333333333333333, \"#9c179e\"], [0.4444444444444444, \"#bd3786\"], [0.5555555555555556, \"#d8576b\"], [0.6666666666666666, \"#ed7953\"], [0.7777777777777778, \"#fb9f3a\"], [0.8888888888888888, \"#fdca26\"], [1.0, \"#f0f921\"]], \"type\": \"heatmapgl\"}], \"histogram\": [{\"marker\": {\"colorbar\": {\"outlinewidth\": 0, \"ticks\": \"\"}}, \"type\": \"histogram\"}], \"histogram2d\": [{\"colorbar\": {\"outlinewidth\": 0, \"ticks\": \"\"}, \"colorscale\": [[0.0, \"#0d0887\"], [0.1111111111111111, \"#46039f\"], [0.2222222222222222, \"#7201a8\"], [0.3333333333333333, \"#9c179e\"], [0.4444444444444444, \"#bd3786\"], [0.5555555555555556, \"#d8576b\"], [0.6666666666666666, \"#ed7953\"], [0.7777777777777778, \"#fb9f3a\"], [0.8888888888888888, \"#fdca26\"], [1.0, \"#f0f921\"]], \"type\": \"histogram2d\"}], \"histogram2dcontour\": [{\"colorbar\": {\"outlinewidth\": 0, \"ticks\": \"\"}, \"colorscale\": [[0.0, \"#0d0887\"], [0.1111111111111111, \"#46039f\"], [0.2222222222222222, \"#7201a8\"], [0.3333333333333333, \"#9c179e\"], [0.4444444444444444, \"#bd3786\"], [0.5555555555555556, \"#d8576b\"], [0.6666666666666666, \"#ed7953\"], [0.7777777777777778, \"#fb9f3a\"], [0.8888888888888888, \"#fdca26\"], [1.0, \"#f0f921\"]], \"type\": \"histogram2dcontour\"}], \"mesh3d\": [{\"colorbar\": {\"outlinewidth\": 0, \"ticks\": \"\"}, \"type\": \"mesh3d\"}], \"parcoords\": [{\"line\": {\"colorbar\": {\"outlinewidth\": 0, \"ticks\": \"\"}}, \"type\": \"parcoords\"}], \"pie\": [{\"automargin\": true, \"type\": \"pie\"}], \"scatter\": [{\"marker\": {\"colorbar\": {\"outlinewidth\": 0, \"ticks\": \"\"}}, \"type\": \"scatter\"}], \"scatter3d\": [{\"line\": {\"colorbar\": {\"outlinewidth\": 0, \"ticks\": \"\"}}, \"marker\": {\"colorbar\": {\"outlinewidth\": 0, \"ticks\": \"\"}}, \"type\": \"scatter3d\"}], \"scattercarpet\": [{\"marker\": {\"colorbar\": {\"outlinewidth\": 0, \"ticks\": \"\"}}, \"type\": \"scattercarpet\"}], \"scattergeo\": [{\"marker\": {\"colorbar\": {\"outlinewidth\": 0, \"ticks\": \"\"}}, \"type\": \"scattergeo\"}], \"scattergl\": [{\"marker\": {\"colorbar\": {\"outlinewidth\": 0, \"ticks\": \"\"}}, \"type\": \"scattergl\"}], \"scattermapbox\": [{\"marker\": {\"colorbar\": {\"outlinewidth\": 0, \"ticks\": \"\"}}, \"type\": \"scattermapbox\"}], \"scatterpolar\": [{\"marker\": {\"colorbar\": {\"outlinewidth\": 0, \"ticks\": \"\"}}, \"type\": \"scatterpolar\"}], \"scatterpolargl\": [{\"marker\": {\"colorbar\": {\"outlinewidth\": 0, \"ticks\": \"\"}}, \"type\": \"scatterpolargl\"}], \"scatterternary\": [{\"marker\": {\"colorbar\": {\"outlinewidth\": 0, \"ticks\": \"\"}}, \"type\": \"scatterternary\"}], \"surface\": [{\"colorbar\": {\"outlinewidth\": 0, \"ticks\": \"\"}, \"colorscale\": [[0.0, \"#0d0887\"], [0.1111111111111111, \"#46039f\"], [0.2222222222222222, \"#7201a8\"], [0.3333333333333333, \"#9c179e\"], [0.4444444444444444, \"#bd3786\"], [0.5555555555555556, \"#d8576b\"], [0.6666666666666666, \"#ed7953\"], [0.7777777777777778, \"#fb9f3a\"], [0.8888888888888888, \"#fdca26\"], [1.0, \"#f0f921\"]], \"type\": \"surface\"}], \"table\": [{\"cells\": {\"fill\": {\"color\": \"#EBF0F8\"}, \"line\": {\"color\": \"white\"}}, \"header\": {\"fill\": {\"color\": \"#C8D4E3\"}, \"line\": {\"color\": \"white\"}}, \"type\": \"table\"}]}, \"layout\": {\"annotationdefaults\": {\"arrowcolor\": \"#2a3f5f\", \"arrowhead\": 0, \"arrowwidth\": 1}, \"autotypenumbers\": \"strict\", \"coloraxis\": {\"colorbar\": {\"outlinewidth\": 0, \"ticks\": \"\"}}, \"colorscale\": {\"diverging\": [[0, \"#8e0152\"], [0.1, \"#c51b7d\"], [0.2, \"#de77ae\"], [0.3, \"#f1b6da\"], [0.4, \"#fde0ef\"], [0.5, \"#f7f7f7\"], [0.6, \"#e6f5d0\"], [0.7, \"#b8e186\"], [0.8, \"#7fbc41\"], [0.9, \"#4d9221\"], [1, \"#276419\"]], \"sequential\": [[0.0, \"#0d0887\"], [0.1111111111111111, \"#46039f\"], [0.2222222222222222, \"#7201a8\"], [0.3333333333333333, \"#9c179e\"], [0.4444444444444444, \"#bd3786\"], [0.5555555555555556, \"#d8576b\"], [0.6666666666666666, \"#ed7953\"], [0.7777777777777778, \"#fb9f3a\"], [0.8888888888888888, \"#fdca26\"], [1.0, \"#f0f921\"]], \"sequentialminus\": [[0.0, \"#0d0887\"], [0.1111111111111111, \"#46039f\"], [0.2222222222222222, \"#7201a8\"], [0.3333333333333333, \"#9c179e\"], [0.4444444444444444, \"#bd3786\"], [0.5555555555555556, \"#d8576b\"], [0.6666666666666666, \"#ed7953\"], [0.7777777777777778, \"#fb9f3a\"], [0.8888888888888888, \"#fdca26\"], [1.0, \"#f0f921\"]]}, \"colorway\": [\"#636efa\", \"#EF553B\", \"#00cc96\", \"#ab63fa\", \"#FFA15A\", \"#19d3f3\", \"#FF6692\", \"#B6E880\", \"#FF97FF\", \"#FECB52\"], \"font\": {\"color\": \"#2a3f5f\"}, \"geo\": {\"bgcolor\": \"white\", \"lakecolor\": \"white\", \"landcolor\": \"#E5ECF6\", \"showlakes\": true, \"showland\": true, \"subunitcolor\": \"white\"}, \"hoverlabel\": {\"align\": \"left\"}, \"hovermode\": \"closest\", \"mapbox\": {\"style\": \"light\"}, \"paper_bgcolor\": \"white\", \"plot_bgcolor\": \"#E5ECF6\", \"polar\": {\"angularaxis\": {\"gridcolor\": \"white\", \"linecolor\": \"white\", \"ticks\": \"\"}, \"bgcolor\": \"#E5ECF6\", \"radialaxis\": {\"gridcolor\": \"white\", \"linecolor\": \"white\", \"ticks\": \"\"}}, \"scene\": {\"xaxis\": {\"backgroundcolor\": \"#E5ECF6\", \"gridcolor\": \"white\", \"gridwidth\": 2, \"linecolor\": \"white\", \"showbackground\": true, \"ticks\": \"\", \"zerolinecolor\": \"white\"}, \"yaxis\": {\"backgroundcolor\": \"#E5ECF6\", \"gridcolor\": \"white\", \"gridwidth\": 2, \"linecolor\": \"white\", \"showbackground\": true, \"ticks\": \"\", \"zerolinecolor\": \"white\"}, \"zaxis\": {\"backgroundcolor\": \"#E5ECF6\", \"gridcolor\": \"white\", \"gridwidth\": 2, \"linecolor\": \"white\", \"showbackground\": true, \"ticks\": \"\", \"zerolinecolor\": \"white\"}}, \"shapedefaults\": {\"line\": {\"color\": \"#2a3f5f\"}}, \"ternary\": {\"aaxis\": {\"gridcolor\": \"white\", \"linecolor\": \"white\", \"ticks\": \"\"}, \"baxis\": {\"gridcolor\": \"white\", \"linecolor\": \"white\", \"ticks\": \"\"}, \"bgcolor\": \"#E5ECF6\", \"caxis\": {\"gridcolor\": \"white\", \"linecolor\": \"white\", \"ticks\": \"\"}}, \"title\": {\"x\": 0.05}, \"xaxis\": {\"automargin\": true, \"gridcolor\": \"white\", \"linecolor\": \"white\", \"ticks\": \"\", \"title\": {\"standoff\": 15}, \"zerolinecolor\": \"white\", \"zerolinewidth\": 2}, \"yaxis\": {\"automargin\": true, \"gridcolor\": \"white\", \"linecolor\": \"white\", \"ticks\": \"\", \"title\": {\"standoff\": 15}, \"zerolinecolor\": \"white\", \"zerolinewidth\": 2}}}, \"width\": 1000, \"xaxis\": {\"anchor\": \"y\", \"domain\": [0.0, 0.45]}, \"xaxis2\": {\"anchor\": \"y2\", \"domain\": [0.55, 1.0]}, \"yaxis\": {\"anchor\": \"x\", \"domain\": [0.0, 1.0]}, \"yaxis2\": {\"anchor\": \"x2\", \"domain\": [0.0, 1.0]}},                        {\"responsive\": true}                    ).then(function(){\n",
       "                            \n",
       "var gd = document.getElementById('342c1f02-5578-47d8-9f8f-9fd321a32d48');\n",
       "var x = new MutationObserver(function (mutations, observer) {{\n",
       "        var display = window.getComputedStyle(gd).display;\n",
       "        if (!display || display === 'none') {{\n",
       "            console.log([gd, 'removed!']);\n",
       "            Plotly.purge(gd);\n",
       "            observer.disconnect();\n",
       "        }}\n",
       "}});\n",
       "\n",
       "// Listen for the removal of the full notebook cells\n",
       "var notebookContainer = gd.closest('#notebook-container');\n",
       "if (notebookContainer) {{\n",
       "    x.observe(notebookContainer, {childList: true});\n",
       "}}\n",
       "\n",
       "// Listen for the clearing of the current output cell\n",
       "var outputEl = gd.closest('.output');\n",
       "if (outputEl) {{\n",
       "    x.observe(outputEl, {childList: true});\n",
       "}}\n",
       "\n",
       "                        })                };                            </script>        </div>\n",
       "</body>\n",
       "</html>"
      ]
     },
     "metadata": {
      "tags": []
     },
     "output_type": "display_data"
    }
   ],
   "source": [
    "fig = make_subplots(rows=1, cols=2,subplot_titles=(\"Random Under Sampling\", \"Original\"))\n",
    "fig.add_trace(go.Bar(y=[len(y_train_rus[y_train_rus==0]), len(y_train_rus[y_train_rus==1])],x=['gamma', 'hadron'],marker_color='#004052'), 1,1)\n",
    "fig.add_trace(go.Bar(y=[len(y_train[y_train==0]), len(y_train[y_train==1])],x=['gamma', 'hadron'],marker_color='#dc562e'),1,2)\n",
    "fig.update_layout(height=400, width= 1000,showlegend=False)\n",
    "fig.show()"
   ]
  },
  {
   "cell_type": "markdown",
   "metadata": {
    "id": "qvCCWVLo-Wnl",
    "slideshow": {
     "slide_type": "subslide"
    }
   },
   "source": [
    "As we can see, the total numer of instances for each class is now equal to the number of instances of the previous minority class."
   ]
  },
  {
   "cell_type": "markdown",
   "metadata": {
    "id": "J90KHrdrPtH_",
    "slideshow": {
     "slide_type": "slide"
    }
   },
   "source": [
    "## **SMOTE**"
   ]
  },
  {
   "cell_type": "markdown",
   "metadata": {
    "id": "iLhLm-16IZsp",
    "slideshow": {
     "slide_type": "subslide"
    }
   },
   "source": [
    "Regarding the algorithm level the algorithm we analyze Synthetic Minority Oversampling Technique (SMOTE). The minority class is over-sampled\n",
    "by taking each minority class sample and introducing synthetic examples along the line segments joining any/all of the k minority class nearest neighbors. These synthetic samples are generated by taking the difference between the feature vector (sample) under consideration and its nearest neighbor; then multipling this difference by a random number between 0 and 1, and adding it to the feature vector under consideration. In this way, the selection of a random point is along the line segment between two specific features.\n",
    "This approach effectively forces the decision region of the minority class to become more general.\n",
    "<p align=\"center\"><img src=\"https://editor.analyticsvidhya.com/uploads/77417image1.png\" width=500 height=300/></p>\n",
    "\n",
    "<a href=\"https://arxiv.org/pdf/1106.1813.pdf\">source</a>"
   ]
  },
  {
   "cell_type": "code",
   "execution_count": null,
   "metadata": {
    "id": "YUzxtm_Ln57N",
    "slideshow": {
     "slide_type": "skip"
    }
   },
   "outputs": [],
   "source": [
    "smote = SMOTE()\n",
    "X_train_smote, y_train_smote = smote.fit_resample(X_new, y_train)"
   ]
  },
  {
   "cell_type": "code",
   "execution_count": null,
   "metadata": {
    "colab": {
     "base_uri": "https://localhost:8080/",
     "height": 417
    },
    "executionInfo": {
     "elapsed": 286751,
     "status": "ok",
     "timestamp": 1619881595735,
     "user": {
      "displayName": "Noemi Tomasello",
      "photoUrl": "https://lh6.googleusercontent.com/-0vac6q9vL7M/AAAAAAAAAAI/AAAAAAAACQY/OsKV2bRy4NA/s64/photo.jpg",
      "userId": "14936482853525964477"
     },
     "user_tz": -120
    },
    "id": "61CVAIYatBZB",
    "outputId": "101c04e2-d2ea-4f80-8e3e-af0525fa8914",
    "slideshow": {
     "slide_type": "subslide"
    }
   },
   "outputs": [
    {
     "data": {
      "text/html": [
       "<html>\n",
       "<head><meta charset=\"utf-8\" /></head>\n",
       "<body>\n",
       "    <div>            <script src=\"https://cdnjs.cloudflare.com/ajax/libs/mathjax/2.7.5/MathJax.js?config=TeX-AMS-MML_SVG\"></script><script type=\"text/javascript\">if (window.MathJax) {MathJax.Hub.Config({SVG: {font: \"STIX-Web\"}});}</script>                <script type=\"text/javascript\">window.PlotlyConfig = {MathJaxConfig: 'local'};</script>\n",
       "        <script src=\"https://cdn.plot.ly/plotly-latest.min.js\"></script>                <div id=\"4646f6df-2f54-4fac-9393-06e7397a39a5\" class=\"plotly-graph-div\" style=\"height:400px; width:1000px;\"></div>            <script type=\"text/javascript\">                                    window.PLOTLYENV=window.PLOTLYENV || {};                                    if (document.getElementById(\"4646f6df-2f54-4fac-9393-06e7397a39a5\")) {                    Plotly.newPlot(                        \"4646f6df-2f54-4fac-9393-06e7397a39a5\",                        [{\"marker\": {\"color\": \"#004052\"}, \"type\": \"bar\", \"x\": [\"gamma\", \"hadron\"], \"xaxis\": \"x\", \"y\": [9253, 9253], \"yaxis\": \"y\"}, {\"marker\": {\"color\": \"#dc562e\"}, \"type\": \"bar\", \"x\": [\"gamma\", \"hadron\"], \"xaxis\": \"x2\", \"y\": [9253, 5012], \"yaxis\": \"y2\"}],                        {\"annotations\": [{\"font\": {\"size\": 16}, \"showarrow\": false, \"text\": \"SMOTE\", \"x\": 0.225, \"xanchor\": \"center\", \"xref\": \"paper\", \"y\": 1.0, \"yanchor\": \"bottom\", \"yref\": \"paper\"}, {\"font\": {\"size\": 16}, \"showarrow\": false, \"text\": \"Original\", \"x\": 0.775, \"xanchor\": \"center\", \"xref\": \"paper\", \"y\": 1.0, \"yanchor\": \"bottom\", \"yref\": \"paper\"}], \"height\": 400, \"showlegend\": false, \"template\": {\"data\": {\"bar\": [{\"error_x\": {\"color\": \"#2a3f5f\"}, \"error_y\": {\"color\": \"#2a3f5f\"}, \"marker\": {\"line\": {\"color\": \"#E5ECF6\", \"width\": 0.5}}, \"type\": \"bar\"}], \"barpolar\": [{\"marker\": {\"line\": {\"color\": \"#E5ECF6\", \"width\": 0.5}}, \"type\": \"barpolar\"}], \"carpet\": [{\"aaxis\": {\"endlinecolor\": \"#2a3f5f\", \"gridcolor\": \"white\", \"linecolor\": \"white\", \"minorgridcolor\": \"white\", \"startlinecolor\": \"#2a3f5f\"}, \"baxis\": {\"endlinecolor\": \"#2a3f5f\", \"gridcolor\": \"white\", \"linecolor\": \"white\", \"minorgridcolor\": \"white\", \"startlinecolor\": \"#2a3f5f\"}, \"type\": \"carpet\"}], \"choropleth\": [{\"colorbar\": {\"outlinewidth\": 0, \"ticks\": \"\"}, \"type\": \"choropleth\"}], \"contour\": [{\"colorbar\": {\"outlinewidth\": 0, \"ticks\": \"\"}, \"colorscale\": [[0.0, \"#0d0887\"], [0.1111111111111111, \"#46039f\"], [0.2222222222222222, \"#7201a8\"], [0.3333333333333333, \"#9c179e\"], [0.4444444444444444, \"#bd3786\"], [0.5555555555555556, \"#d8576b\"], [0.6666666666666666, \"#ed7953\"], [0.7777777777777778, \"#fb9f3a\"], [0.8888888888888888, \"#fdca26\"], [1.0, \"#f0f921\"]], \"type\": \"contour\"}], \"contourcarpet\": [{\"colorbar\": {\"outlinewidth\": 0, \"ticks\": \"\"}, \"type\": \"contourcarpet\"}], \"heatmap\": [{\"colorbar\": {\"outlinewidth\": 0, \"ticks\": \"\"}, \"colorscale\": [[0.0, \"#0d0887\"], [0.1111111111111111, \"#46039f\"], [0.2222222222222222, \"#7201a8\"], [0.3333333333333333, \"#9c179e\"], [0.4444444444444444, \"#bd3786\"], [0.5555555555555556, \"#d8576b\"], [0.6666666666666666, \"#ed7953\"], [0.7777777777777778, \"#fb9f3a\"], [0.8888888888888888, \"#fdca26\"], [1.0, \"#f0f921\"]], \"type\": \"heatmap\"}], \"heatmapgl\": [{\"colorbar\": {\"outlinewidth\": 0, \"ticks\": \"\"}, \"colorscale\": [[0.0, \"#0d0887\"], [0.1111111111111111, \"#46039f\"], [0.2222222222222222, \"#7201a8\"], [0.3333333333333333, \"#9c179e\"], [0.4444444444444444, \"#bd3786\"], [0.5555555555555556, \"#d8576b\"], [0.6666666666666666, \"#ed7953\"], [0.7777777777777778, \"#fb9f3a\"], [0.8888888888888888, \"#fdca26\"], [1.0, \"#f0f921\"]], \"type\": \"heatmapgl\"}], \"histogram\": [{\"marker\": {\"colorbar\": {\"outlinewidth\": 0, \"ticks\": \"\"}}, \"type\": \"histogram\"}], \"histogram2d\": [{\"colorbar\": {\"outlinewidth\": 0, \"ticks\": \"\"}, \"colorscale\": [[0.0, \"#0d0887\"], [0.1111111111111111, \"#46039f\"], [0.2222222222222222, \"#7201a8\"], [0.3333333333333333, \"#9c179e\"], [0.4444444444444444, \"#bd3786\"], [0.5555555555555556, \"#d8576b\"], [0.6666666666666666, \"#ed7953\"], [0.7777777777777778, \"#fb9f3a\"], [0.8888888888888888, \"#fdca26\"], [1.0, \"#f0f921\"]], \"type\": \"histogram2d\"}], \"histogram2dcontour\": [{\"colorbar\": {\"outlinewidth\": 0, \"ticks\": \"\"}, \"colorscale\": [[0.0, \"#0d0887\"], [0.1111111111111111, \"#46039f\"], [0.2222222222222222, \"#7201a8\"], [0.3333333333333333, \"#9c179e\"], [0.4444444444444444, \"#bd3786\"], [0.5555555555555556, \"#d8576b\"], [0.6666666666666666, \"#ed7953\"], [0.7777777777777778, \"#fb9f3a\"], [0.8888888888888888, \"#fdca26\"], [1.0, \"#f0f921\"]], \"type\": \"histogram2dcontour\"}], \"mesh3d\": [{\"colorbar\": {\"outlinewidth\": 0, \"ticks\": \"\"}, \"type\": \"mesh3d\"}], \"parcoords\": [{\"line\": {\"colorbar\": {\"outlinewidth\": 0, \"ticks\": \"\"}}, \"type\": \"parcoords\"}], \"pie\": [{\"automargin\": true, \"type\": \"pie\"}], \"scatter\": [{\"marker\": {\"colorbar\": {\"outlinewidth\": 0, \"ticks\": \"\"}}, \"type\": \"scatter\"}], \"scatter3d\": [{\"line\": {\"colorbar\": {\"outlinewidth\": 0, \"ticks\": \"\"}}, \"marker\": {\"colorbar\": {\"outlinewidth\": 0, \"ticks\": \"\"}}, \"type\": \"scatter3d\"}], \"scattercarpet\": [{\"marker\": {\"colorbar\": {\"outlinewidth\": 0, \"ticks\": \"\"}}, \"type\": \"scattercarpet\"}], \"scattergeo\": [{\"marker\": {\"colorbar\": {\"outlinewidth\": 0, \"ticks\": \"\"}}, \"type\": \"scattergeo\"}], \"scattergl\": [{\"marker\": {\"colorbar\": {\"outlinewidth\": 0, \"ticks\": \"\"}}, \"type\": \"scattergl\"}], \"scattermapbox\": [{\"marker\": {\"colorbar\": {\"outlinewidth\": 0, \"ticks\": \"\"}}, \"type\": \"scattermapbox\"}], \"scatterpolar\": [{\"marker\": {\"colorbar\": {\"outlinewidth\": 0, \"ticks\": \"\"}}, \"type\": \"scatterpolar\"}], \"scatterpolargl\": [{\"marker\": {\"colorbar\": {\"outlinewidth\": 0, \"ticks\": \"\"}}, \"type\": \"scatterpolargl\"}], \"scatterternary\": [{\"marker\": {\"colorbar\": {\"outlinewidth\": 0, \"ticks\": \"\"}}, \"type\": \"scatterternary\"}], \"surface\": [{\"colorbar\": {\"outlinewidth\": 0, \"ticks\": \"\"}, \"colorscale\": [[0.0, \"#0d0887\"], [0.1111111111111111, \"#46039f\"], [0.2222222222222222, \"#7201a8\"], [0.3333333333333333, \"#9c179e\"], [0.4444444444444444, \"#bd3786\"], [0.5555555555555556, \"#d8576b\"], [0.6666666666666666, \"#ed7953\"], [0.7777777777777778, \"#fb9f3a\"], [0.8888888888888888, \"#fdca26\"], [1.0, \"#f0f921\"]], \"type\": \"surface\"}], \"table\": [{\"cells\": {\"fill\": {\"color\": \"#EBF0F8\"}, \"line\": {\"color\": \"white\"}}, \"header\": {\"fill\": {\"color\": \"#C8D4E3\"}, \"line\": {\"color\": \"white\"}}, \"type\": \"table\"}]}, \"layout\": {\"annotationdefaults\": {\"arrowcolor\": \"#2a3f5f\", \"arrowhead\": 0, \"arrowwidth\": 1}, \"autotypenumbers\": \"strict\", \"coloraxis\": {\"colorbar\": {\"outlinewidth\": 0, \"ticks\": \"\"}}, \"colorscale\": {\"diverging\": [[0, \"#8e0152\"], [0.1, \"#c51b7d\"], [0.2, \"#de77ae\"], [0.3, \"#f1b6da\"], [0.4, \"#fde0ef\"], [0.5, \"#f7f7f7\"], [0.6, \"#e6f5d0\"], [0.7, \"#b8e186\"], [0.8, \"#7fbc41\"], [0.9, \"#4d9221\"], [1, \"#276419\"]], \"sequential\": [[0.0, \"#0d0887\"], [0.1111111111111111, \"#46039f\"], [0.2222222222222222, \"#7201a8\"], [0.3333333333333333, \"#9c179e\"], [0.4444444444444444, \"#bd3786\"], [0.5555555555555556, \"#d8576b\"], [0.6666666666666666, \"#ed7953\"], [0.7777777777777778, \"#fb9f3a\"], [0.8888888888888888, \"#fdca26\"], [1.0, \"#f0f921\"]], \"sequentialminus\": [[0.0, \"#0d0887\"], [0.1111111111111111, \"#46039f\"], [0.2222222222222222, \"#7201a8\"], [0.3333333333333333, \"#9c179e\"], [0.4444444444444444, \"#bd3786\"], [0.5555555555555556, \"#d8576b\"], [0.6666666666666666, \"#ed7953\"], [0.7777777777777778, \"#fb9f3a\"], [0.8888888888888888, \"#fdca26\"], [1.0, \"#f0f921\"]]}, \"colorway\": [\"#636efa\", \"#EF553B\", \"#00cc96\", \"#ab63fa\", \"#FFA15A\", \"#19d3f3\", \"#FF6692\", \"#B6E880\", \"#FF97FF\", \"#FECB52\"], \"font\": {\"color\": \"#2a3f5f\"}, \"geo\": {\"bgcolor\": \"white\", \"lakecolor\": \"white\", \"landcolor\": \"#E5ECF6\", \"showlakes\": true, \"showland\": true, \"subunitcolor\": \"white\"}, \"hoverlabel\": {\"align\": \"left\"}, \"hovermode\": \"closest\", \"mapbox\": {\"style\": \"light\"}, \"paper_bgcolor\": \"white\", \"plot_bgcolor\": \"#E5ECF6\", \"polar\": {\"angularaxis\": {\"gridcolor\": \"white\", \"linecolor\": \"white\", \"ticks\": \"\"}, \"bgcolor\": \"#E5ECF6\", \"radialaxis\": {\"gridcolor\": \"white\", \"linecolor\": \"white\", \"ticks\": \"\"}}, \"scene\": {\"xaxis\": {\"backgroundcolor\": \"#E5ECF6\", \"gridcolor\": \"white\", \"gridwidth\": 2, \"linecolor\": \"white\", \"showbackground\": true, \"ticks\": \"\", \"zerolinecolor\": \"white\"}, \"yaxis\": {\"backgroundcolor\": \"#E5ECF6\", \"gridcolor\": \"white\", \"gridwidth\": 2, \"linecolor\": \"white\", \"showbackground\": true, \"ticks\": \"\", \"zerolinecolor\": \"white\"}, \"zaxis\": {\"backgroundcolor\": \"#E5ECF6\", \"gridcolor\": \"white\", \"gridwidth\": 2, \"linecolor\": \"white\", \"showbackground\": true, \"ticks\": \"\", \"zerolinecolor\": \"white\"}}, \"shapedefaults\": {\"line\": {\"color\": \"#2a3f5f\"}}, \"ternary\": {\"aaxis\": {\"gridcolor\": \"white\", \"linecolor\": \"white\", \"ticks\": \"\"}, \"baxis\": {\"gridcolor\": \"white\", \"linecolor\": \"white\", \"ticks\": \"\"}, \"bgcolor\": \"#E5ECF6\", \"caxis\": {\"gridcolor\": \"white\", \"linecolor\": \"white\", \"ticks\": \"\"}}, \"title\": {\"x\": 0.05}, \"xaxis\": {\"automargin\": true, \"gridcolor\": \"white\", \"linecolor\": \"white\", \"ticks\": \"\", \"title\": {\"standoff\": 15}, \"zerolinecolor\": \"white\", \"zerolinewidth\": 2}, \"yaxis\": {\"automargin\": true, \"gridcolor\": \"white\", \"linecolor\": \"white\", \"ticks\": \"\", \"title\": {\"standoff\": 15}, \"zerolinecolor\": \"white\", \"zerolinewidth\": 2}}}, \"width\": 1000, \"xaxis\": {\"anchor\": \"y\", \"domain\": [0.0, 0.45]}, \"xaxis2\": {\"anchor\": \"y2\", \"domain\": [0.55, 1.0]}, \"yaxis\": {\"anchor\": \"x\", \"domain\": [0.0, 1.0]}, \"yaxis2\": {\"anchor\": \"x2\", \"domain\": [0.0, 1.0]}},                        {\"responsive\": true}                    ).then(function(){\n",
       "                            \n",
       "var gd = document.getElementById('4646f6df-2f54-4fac-9393-06e7397a39a5');\n",
       "var x = new MutationObserver(function (mutations, observer) {{\n",
       "        var display = window.getComputedStyle(gd).display;\n",
       "        if (!display || display === 'none') {{\n",
       "            console.log([gd, 'removed!']);\n",
       "            Plotly.purge(gd);\n",
       "            observer.disconnect();\n",
       "        }}\n",
       "}});\n",
       "\n",
       "// Listen for the removal of the full notebook cells\n",
       "var notebookContainer = gd.closest('#notebook-container');\n",
       "if (notebookContainer) {{\n",
       "    x.observe(notebookContainer, {childList: true});\n",
       "}}\n",
       "\n",
       "// Listen for the clearing of the current output cell\n",
       "var outputEl = gd.closest('.output');\n",
       "if (outputEl) {{\n",
       "    x.observe(outputEl, {childList: true});\n",
       "}}\n",
       "\n",
       "                        })                };                            </script>        </div>\n",
       "</body>\n",
       "</html>"
      ]
     },
     "metadata": {
      "tags": []
     },
     "output_type": "display_data"
    }
   ],
   "source": [
    "fig = make_subplots(rows=1, cols=2,subplot_titles=(\"SMOTE\", \"Original\"))\n",
    "fig.add_trace(go.Bar(y=[len(y_train_smote[y_train_smote==0]), len(y_train_smote[y_train_smote==1])],x=['gamma', 'hadron'],marker_color='#004052'), 1,1)\n",
    "fig.add_trace(go.Bar(y=[len(y_train[y_train==0]), len(y_train[y_train==1])],x=['gamma', 'hadron'],marker_color='#dc562e'),1,2)\n",
    "fig.update_layout(height=400, width= 1000,showlegend=False)\n",
    "fig.show()"
   ]
  },
  {
   "cell_type": "markdown",
   "metadata": {
    "id": "Ll4JPjUkKRkc",
    "slideshow": {
     "slide_type": "subslide"
    }
   },
   "source": [
    "Indeed after SMOTE we now have the same number of istancens of the previous majority class."
   ]
  },
  {
   "cell_type": "markdown",
   "metadata": {
    "id": "6v9AGV-Eodnq",
    "slideshow": {
     "slide_type": "slide"
    }
   },
   "source": [
    "# **Training and Testing**\n",
    "\n",
    "### **K-Fold Cross Validation**\n",
    "\n",
    "K-fold validation is a re-sampling procedure widely used in Machine learning. It consists of dividing the data into k different sets to select the best performing “model”, where iteratively each fold is used as validation set, for example in the first iteration the first fold is used as validation set and all the others as training set\n",
    "\n",
    "For each group of observation an evaluation metric is computed, so we end up with k evaluations. The k-Fold CV is then computed by averaging these values:\n",
    "\\begin{equation}\n",
    "CV_K=   \\sum_{k=1}^{K}{\\frac{n_k}{n} Err_k} \n",
    "\\end{equation}\n",
    "\n",
    "where $Err_k = \\sum_{i\\in{C_k}}\\frac{I(y_i \\neq \\hat{y_i})}{n_k} $\n",
    "<br/><br/>\n",
    "<p align=\"center\"><img src=\"https://miro.medium.com/max/1688/0*yRHMkhX-tlcM8qAR.gif\" width=\"500\" height=\"300\"/></p>\n",
    "\n",
    "\n",
    "Then, we evaluate the analysis done through the training phase on the totally unseen data of the test set. Also in this case a function has been created in which the steps of the \"pipeline\" are insterted in such a way that each algorithm (Standard Scalar, Outlier detection, PCA, inference) has been trained only on the training set and evalutate on the test set.\n",
    "\n",
    "**Stratified K-Fold**\n",
    "<br/>Stratified Kfold is a variation that takes into consideration the unbalance of the original dataset, each set of indexes is created so that it contains approximately the same percentage of samples classes as the original dataset. This method is reccommanted when dealing with large unbalanced dataset, and even if this dataset the difference is not particurarly big, I decided to used it over the normal KFold."
   ]
  },
  {
   "cell_type": "markdown",
   "metadata": {
    "id": "lb7nfUCNmAT7",
    "slideshow": {
     "slide_type": "slide"
    }
   },
   "source": [
    "### **Evaluation Metrics**\n",
    "\n",
    "In this work we are facing a binary classification problem, so the two errors possible are false-positive (FP) and false-negative (FN). In these cases, we mis-classify respectively a prediction y = 1, when the real value is 0, and a prediction y=0, when the real value is 1. One of the principal ways to represent these values is called Confusion Matrix (aka error matrix), in which each row is an instance of the predictive class and each column are the instances of the true class.\n",
    "<p align=\"center\"><img src=\"https://miro.medium.com/max/2102/1*fxiTNIgOyvAombPJx5KGeA.png\" width=\"300\" height=\"200\"/></p>\n",
    "As we can visually see in Figure 9, the diagonal values on the matrix represents the correct classification, while the off-diagonal values are the mis-classified values.\n",
    "From the table, we can also compute the metrics to evaluate the classification models:\n",
    "\n",
    "* Accuracy: probably the simplest metric is defined as the number of correct predictions divided by the total number of predictions. \n",
    "\\begin{equation}\n",
    "Accuracy=  \\frac{TP+TN}{TP+TN+FP+FN}\n",
    "\\end{equation}\n",
    "* Recall or True Positive Rate (TPR), or if you are dealing with biomedical features, Sensitivity, defined as the number of correctly positive predicted values over the total actual positives.\n",
    "\\begin{equation}\n",
    " Recall =  \\frac{TP}{TP+FN}\n",
    " \\end{equation}\n",
    "* Precision or Positive Predictive Value: is defined as the number of true predicted positives over the total number of positives. \n",
    "\\begin{equation}\n",
    "Precision=  \\frac{TP}{TP+FP}\n",
    "\\end{equation}\n",
    "* F-1Score: is a function of both precision and recall. \n",
    "\\begin{equation}\n",
    "F1-Score=\\frac{2*Sesitivity*Precision}{Sensitivity+Precision}\n",
    "\\end{equation}"
   ]
  },
  {
   "cell_type": "markdown",
   "metadata": {
    "id": "0AdG2-TglBSt",
    "slideshow": {
     "slide_type": "subslide"
    }
   },
   "source": [
    "All the previous pre-processing steps are inserted in the functions training and test, so that the trasformation are applied taking into consideration points belonging excusely to the training set, and the validation and test are completely new data points for the model to analyse."
   ]
  },
  {
   "cell_type": "code",
   "execution_count": 17,
   "metadata": {
    "cellView": "form",
    "executionInfo": {
     "elapsed": 240,
     "status": "ok",
     "timestamp": 1625147953156,
     "user": {
      "displayName": "Noemi Tomasello",
      "photoUrl": "https://lh3.googleusercontent.com/a-/AOh14GjIW9yCqcM8LQ4exswU2SMdZkf4dyrZ2hNdGKNq=s64",
      "userId": "14936482853525964477"
     },
     "user_tz": -120
    },
    "id": "PfCSuQqwodnt",
    "slideshow": {
     "slide_type": "skip"
    }
   },
   "outputs": [],
   "source": [
    "#@title\n",
    "def training(algorithm, param_grid,outliers_detect,balancing_algo,doPCA=True, outliers=True,balancing=True):\n",
    "    kf = StratifiedKFold(n_splits=5,shuffle=True ,random_state=42)\n",
    "\n",
    "    total_results = []\n",
    "\n",
    "    for params in ParameterGrid(param_grid):\n",
    "        mean_acc = []\n",
    "        mean_rec = []\n",
    "        mean_prec = []\n",
    "        mean_f1 = []\n",
    "        for train_index, test_index in kf.split(df_train, y_train):\n",
    "            #print(\"TRAIN:\", train_index, \"TEST:\", test_index)\n",
    "            X_train, X_val = df_train.iloc[train_index,:], df_train.iloc[test_index,:]\n",
    "            Y_train, y_val = y_train[train_index], y_train[test_index]\n",
    "\n",
    "            #Standardizing fitting only on the training set\n",
    "            std = StandardScaler()\n",
    "            std.fit(X_train)\n",
    "            X_train = std.transform(X_train)\n",
    "            X_val = std.transform(X_val)\n",
    "\n",
    "            X_train = pd.DataFrame(X_train, columns=df_train.columns)\n",
    "            X_val = pd.DataFrame(X_val, columns=df_test.columns)\n",
    "\n",
    "            if outliers:\n",
    "                ## Delete outliers\n",
    "                X_train_clean, y_train_clean= outliers_detect(X_train,Y_train,stampa=False)\n",
    "            else:\n",
    "                X_train_clean,y_train_clean = X_train, Y_train\n",
    "\n",
    "            if doPCA:\n",
    "                ## PCA\n",
    "                pca = PCA(5)\n",
    "                pca.fit(X_train_clean)\n",
    "                X_train_pca = pca.transform(X_train_clean)\n",
    "                X_val_pca = pca.transform(X_val)\n",
    "            else:\n",
    "                X_train_pca = X_train_clean\n",
    "                X_val_pca = X_val\n",
    "\n",
    "            if balancing:\n",
    "                ##SMOTE\n",
    "                X_train_bal,y_train_bal = balancing_algo.fit_resample(X_train_pca, y_train_clean)\n",
    "            else:\n",
    "                 X_train_bal,y_train_bal = X_train_pca, y_train_clean\n",
    "\n",
    "\n",
    "            ## Training model\n",
    "            algo = algorithm(**params)\n",
    "            algo.fit(X_train_bal,y_train_bal)\n",
    "            y_pred = algo.predict(X_val_pca)\n",
    "\n",
    "            ## Evaluate\n",
    "            accuracy = accuracy_score(y_val, y_pred)\n",
    "            recall = recall_score(y_val, y_pred)\n",
    "            precision = precision_score(y_val, y_pred)\n",
    "            f1 = f1_score(y_val, y_pred)\n",
    "\n",
    "            mean_acc.append(accuracy)\n",
    "            mean_rec.append(recall)\n",
    "            mean_prec.append(precision)\n",
    "            mean_f1.append(f1)\n",
    "\n",
    "        data = [params, np.mean(mean_acc), np.mean(mean_rec), np.mean(mean_prec), np.mean(mean_f1)]\n",
    "        total_results.append(data)\n",
    "\n",
    "    print(\"Done!\")\n",
    "    return total_results, algo\n"
   ]
  },
  {
   "cell_type": "code",
   "execution_count": 18,
   "metadata": {
    "cellView": "form",
    "executionInfo": {
     "elapsed": 7,
     "status": "ok",
     "timestamp": 1625147954043,
     "user": {
      "displayName": "Noemi Tomasello",
      "photoUrl": "https://lh3.googleusercontent.com/a-/AOh14GjIW9yCqcM8LQ4exswU2SMdZkf4dyrZ2hNdGKNq=s64",
      "userId": "14936482853525964477"
     },
     "user_tz": -120
    },
    "id": "72LPiXVuodn5",
    "slideshow": {
     "slide_type": "skip"
    }
   },
   "outputs": [],
   "source": [
    "#@title\n",
    "def testing(algorithm, best_param,outliers_detect,balancing_algo,doPCA=True,outliers=True,balancing=True):\n",
    "\n",
    "    algo = algorithm(**best_param)\n",
    "\n",
    "    #Standardizing fitting only on the training set\n",
    "    std = StandardScaler()\n",
    "    std.fit(df_train)\n",
    "    X_train = std.transform(df_train)\n",
    "    X_test = std.transform(df_test)\n",
    "\n",
    "    X_train = pd.DataFrame(X_train, columns=df_train.columns)\n",
    "    X_test = pd.DataFrame(X_test, columns=df_test.columns)\n",
    "   \n",
    "    if outliers:\n",
    "        ## Delete outliers\n",
    "        X_train_clean, y_train_clean= outliers_detect(X_train,y_train,stampa=False)\n",
    "    else:\n",
    "        X_train_clean,y_train_clean = X_train, y_train\n",
    "\n",
    "    if doPCA:\n",
    "        ## PCA\n",
    "        pca = PCA(5)\n",
    "        pca.fit(X_train_clean)\n",
    "        X_train_pca = pca.transform(X_train_clean)\n",
    "        X_test_pca = pca.transform(X_test)\n",
    "    else:\n",
    "        X_train_pca = X_train_clean\n",
    "        X_test_pca = X_test\n",
    "    if balancing:\n",
    "        ##SMOTE\n",
    "        X_train_bal,y_train_bal = balancing_algo.fit_resample(X_train_pca, y_train_clean)\n",
    "    else:\n",
    "        X_train_bal,y_train_bal = X_train_pca, y_train_clean\n",
    "\n",
    "\n",
    "    algo.fit(X_train_bal,y_train_bal)\n",
    "\n",
    "    y_pred = algo.predict(X_test_pca)\n",
    "    print(classification_report(y_test, y_pred))\n",
    "\n",
    "    #Evaluate\n",
    "    accuracy = accuracy_score(y_test, y_pred)\n",
    "    recall = recall_score(y_test, y_pred)\n",
    "    precision = precision_score(y_test, y_pred)\n",
    "    f1 = f1_score(y_test, y_pred)\n",
    "\n",
    "    arr_val = [accuracy, recall, precision, f1]\n",
    "\n",
    "    cf_matrix = confusion_matrix(y_test, y_pred)\n",
    "    return cf_matrix, arr_val"
   ]
  },
  {
   "cell_type": "code",
   "execution_count": 19,
   "metadata": {
    "cellView": "form",
    "executionInfo": {
     "elapsed": 431,
     "status": "ok",
     "timestamp": 1625147955690,
     "user": {
      "displayName": "Noemi Tomasello",
      "photoUrl": "https://lh3.googleusercontent.com/a-/AOh14GjIW9yCqcM8LQ4exswU2SMdZkf4dyrZ2hNdGKNq=s64",
      "userId": "14936482853525964477"
     },
     "user_tz": -120
    },
    "id": "vxc1rXkLROHg",
    "slideshow": {
     "slide_type": "skip"
    }
   },
   "outputs": [],
   "source": [
    " #@title\n",
    " def print_conf_acc(pd_est):   \n",
    "    df = pd.DataFrame(pd_est, columns=[\"params\",\"acc\",\"rec\",\"prec\",\"f1\"])\n",
    "    alias = [f'Configuration {i+1}' for i in range(len(pd_est))]\n",
    "    fig = make_subplots(rows=1, cols=1, subplot_titles=\"StratifiedKFolds configuration\")\n",
    "    fig.add_trace(go.Bar(x=alias,y=df['acc'],name=\"Accuracy\", marker_color=(\"#78290f\")))\n",
    "    fig.add_trace(go.Bar(x=alias,y=df['rec'],name=\"Recall\", marker_color=(\"#ff7d00\")))\n",
    "    fig.add_trace(go.Bar(x=alias,y=df['prec'],name=\"Precision\", marker_color=(\"#202c39\")))\n",
    "    fig.add_trace(go.Bar(x=alias,y=df['f1'],name=\"F1-score\",marker_color=(\"#15616d\")))\n",
    "    fig.show()\n",
    "    return df"
   ]
  },
  {
   "cell_type": "code",
   "execution_count": 73,
   "metadata": {
    "executionInfo": {
     "elapsed": 653,
     "status": "ok",
     "timestamp": 1625151935840,
     "user": {
      "displayName": "Noemi Tomasello",
      "photoUrl": "https://lh3.googleusercontent.com/a-/AOh14GjIW9yCqcM8LQ4exswU2SMdZkf4dyrZ2hNdGKNq=s64",
      "userId": "14936482853525964477"
     },
     "user_tz": -120
    },
    "id": "sZp3lbI_uWZO",
    "slideshow": {
     "slide_type": "skip"
    }
   },
   "outputs": [],
   "source": [
    "#@title\n",
    "def print_lc(estimator, learning_curves = True):\n",
    "\n",
    "    fig = make_subplots(rows=1, cols=1, subplot_titles=[\"Confusion Matrix\",\"Learning Curves\"])\n",
    "\n",
    "    ## Learning Curves\n",
    "    cv = ShuffleSplit(n_splits=5, test_size=0.2, random_state=0)\n",
    "    train_sizes, train_scores, test_scores = learning_curve(estimator,df_train,y_train, cv=cv, scoring='accuracy',shuffle=True)\n",
    "    #train_scores_mean = 1-np.mean(train_scores,axis=1)#converting the accuracy score to misclassification rate\n",
    "    #test_scores_mean = 1-np.mean(test_scores,axis=1)#converting the accuracy score to misclassification rate\n",
    "    train_scores_mean = np.mean(train_scores, axis=1)\n",
    "    train_scores_std = np.std(train_scores, axis=1)\n",
    "    test_scores_mean = np.mean(test_scores, axis=1)\n",
    "    test_scores_std = np.std(test_scores, axis=1)\n",
    "    upper_bound = train_scores_mean+train_scores_std\n",
    "    lower_bound = train_scores_mean-train_scores_std\n",
    "    fig.add_trace(go.Scatter(x=train_sizes,y=train_scores_mean,name=\"Training accuracy\",marker_color=cmap[1]))\n",
    "    fig.add_trace(go.Scatter(x=train_sizes,y=upper_bound,   line=dict(width=0),\n",
    "            mode='lines',fill='tonexty',fillcolor='rgba(254, 200, 154, 0.2)',showlegend=False, hoverinfo=\"skip\"))\n",
    "    fig.add_trace(go.Scatter(x=train_sizes,y=lower_bound,   line=dict(width=0),\n",
    "            mode='lines',fill='tonexty', fillcolor='rgba(254, 200, 154, 0.2)',showlegend=False, hoverinfo=\"skip\"))\n",
    "    fig.add_trace(go.Scatter(x=train_sizes,y=test_scores_mean,name=\"Test accuracy\", marker_color=cmap[3]))\n",
    "    fig.add_trace(go.Scatter(x=train_sizes,y=test_scores_mean+test_scores_std,   line=dict(width=0),\n",
    "            mode='lines',fill='tonexty',fillcolor='rgba(0,100,80,0.1)',showlegend=False, hoverinfo=\"skip\"))\n",
    "    fig.add_trace(go.Scatter(x=train_sizes,y=test_scores_mean-test_scores_std,   line=dict(width=0),\n",
    "            mode='lines',fill='tonexty', fillcolor='rgba(0,100,80,0.2)',showlegend=False, hoverinfo=\"skip\"))\n",
    "    \n",
    "    fig.update_layout(autosize=False,\n",
    "    width=600,\n",
    "    height=400,\n",
    "    xaxis_title='Training Example',\n",
    "    yaxis_title='Scores')\n",
    "    \n",
    "    \n",
    "    fig.show()\n",
    "\n",
    "\n",
    "def print_cfs(arr_cfs):\n",
    "\n",
    "    if len(arr_cfs) != 5:\n",
    "        raise RuntimeError(\"Wrong number of cfs\")\n",
    "    \n",
    "    cf1, cf2, cf3, cf4, cf5 = arr_cfs\n",
    "\n",
    "    fig = make_subplots(rows=3, cols=2, subplot_titles=[cf1[1],cf2[1],cf5[1],cf3[1],cf4[1]])\n",
    "\n",
    "    # CF1\n",
    "    trace_cf = ff.create_annotated_heatmap(z = cf1[0],x = [\"0\",\"1\"],y = [\"1\",\"0\"],showscale  = False,colorscale=cmap)\n",
    "    fig.add_trace(go.Heatmap(trace_cf.data[0]),row=1,col=1)\n",
    "    fig.add_trace(go.Scatter(x=[0],y=[0],mode=\"text\",text=[str( cf1[0][0][0])],textfont=dict(family=\"sans serif\",size=18,color=\"#ffffff\"),name=\"\"), row=1,col=1)\n",
    "    fig.add_trace(go.Scatter(x=[0],y=[1],mode=\"text\",text=[str( cf1[0][1][0])],textfont=dict(family=\"sans serif\",size=18,color=\"#ffffff\"),name=\"\"), row=1,col=1)\n",
    "    fig.add_trace(go.Scatter(x=[1],y=[0],mode=\"text\",text=[str( cf1[0][0][1])],textfont=dict(family=\"sans serif\",size=18,color=\"#ffffff\"),name=\"\"), row=1,col=1)\n",
    "    fig.add_trace(go.Scatter(x=[1],y=[1],mode=\"text\",text=[str( cf1[0][1][1])],textfont=dict(family=\"sans serif\",size=18,color=\"#ffffff\"),name=\"\"), row=1,col=1)\n",
    "    \n",
    "    # CF2\n",
    "    trace_cf = ff.create_annotated_heatmap(z = cf2[0],x = [\"0\",\"1\"],y = [\"1\",\"0\"],showscale  = False,colorscale=cmap)\n",
    "    fig.add_trace(go.Heatmap(trace_cf.data[0]),row=1,col=2)\n",
    "    fig.add_trace(go.Scatter(x=[0],y=[0],mode=\"text\",text=[str(cf2[0][0][0])],textfont=dict(family=\"sans serif\",size=18,color=\"#ffffff\"),name=\"\"), row=1,col=2)\n",
    "    fig.add_trace(go.Scatter(x=[0],y=[1],mode=\"text\",text=[str(cf2[0][1][0])],textfont=dict(family=\"sans serif\",size=18,color=\"#ffffff\"),name=\"\"), row=1,col=2)\n",
    "    fig.add_trace(go.Scatter(x=[1],y=[0],mode=\"text\",text=[str(cf2[0][0][1])],textfont=dict(family=\"sans serif\",size=18,color=\"#ffffff\"),name=\"\"), row=1,col=2)\n",
    "    fig.add_trace(go.Scatter(x=[1],y=[1],mode=\"text\",text=[str(cf2[0][1][1])],textfont=dict(family=\"sans serif\",size=18,color=\"#ffffff\"),name=\"\"), row=1,col=2)\n",
    "\n",
    "    # CF3\n",
    "    trace_cf = ff.create_annotated_heatmap(z = cf3[0],x = [\"0\",\"1\"],y = [\"1\",\"0\"],showscale  = False,colorscale=cmap)\n",
    "    fig.add_trace(go.Heatmap(trace_cf.data[0]),row=2,col=1)\n",
    "    fig.add_trace(go.Scatter(x=[0],y=[0],mode=\"text\",text=[str(cf3[0][0][0])],textfont=dict(family=\"sans serif\",size=18,color=\"#ffffff\"),name=\"\"), row=3,col=1)\n",
    "    fig.add_trace(go.Scatter(x=[0],y=[1],mode=\"text\",text=[str(cf3[0][1][0])],textfont=dict(family=\"sans serif\",size=18,color=\"#ffffff\"),name=\"\"), row=3,col=1)\n",
    "    fig.add_trace(go.Scatter(x=[1],y=[0],mode=\"text\",text=[str(cf3[0][0][1])],textfont=dict(family=\"sans serif\",size=18,color=\"#ffffff\"),name=\"\"), row=3,col=1)\n",
    "    fig.add_trace(go.Scatter(x=[1],y=[1],mode=\"text\",text=[str(cf3[0][1][1])],textfont=dict(family=\"sans serif\",size=18,color=\"#ffffff\"),name=\"\"), row=3,col=1)\n",
    "    \n",
    "    # CF4\n",
    "    trace_cf = ff.create_annotated_heatmap(z = cf4[0],x = [\"0\",\"1\"],y = [\"1\",\"0\"],showscale  = False,colorscale=cmap)\n",
    "    fig.add_trace(go.Heatmap(trace_cf.data[0]),row=2,col=2)\n",
    "    fig.add_trace(go.Scatter(x=[0],y=[0],mode=\"text\",text=[str(cf4[0][0][0])],textfont=dict(family=\"sans serif\",size=18,color=\"#ffffff\"),name=\"\"), row=2,col=2)\n",
    "    fig.add_trace(go.Scatter(x=[0],y=[1],mode=\"text\",text=[str(cf4[0][1][0])],textfont=dict(family=\"sans serif\",size=18,color=\"#ffffff\"),name=\"\"), row=2,col=2)\n",
    "    fig.add_trace(go.Scatter(x=[1],y=[0],mode=\"text\",text=[str(cf4[0][0][1])],textfont=dict(family=\"sans serif\",size=18,color=\"#ffffff\"),name=\"\"), row=2,col=2)\n",
    "    fig.add_trace(go.Scatter(x=[1],y=[1],mode=\"text\",text=[str(cf4[0][1][1])],textfont=dict(family=\"sans serif\",size=18,color=\"#ffffff\"),name=\"\"), row=2,col=2)\n",
    "    \n",
    "    # CF5\n",
    "    trace_cf = ff.create_annotated_heatmap(z = cf5[0],x = [\"0\",\"1\"],y = [\"1\",\"0\"],showscale  = False,colorscale=cmap)\n",
    "    fig.add_trace(go.Heatmap(trace_cf.data[0]),row=3,col=1)\n",
    "    fig.add_trace(go.Scatter(x=[0],y=[0],mode=\"text\",text=[str(cf5[0][0][0])],textfont=dict(family=\"sans serif\",size=18,color=\"#ffffff\"),name=\"\"), row=2,col=1)\n",
    "    fig.add_trace(go.Scatter(x=[0],y=[1],mode=\"text\",text=[str(cf5[0][1][0])],textfont=dict(family=\"sans serif\",size=18,color=\"#ffffff\"),name=\"\"), row=2,col=1)\n",
    "    fig.add_trace(go.Scatter(x=[1],y=[0],mode=\"text\",text=[str(cf5[0][0][1])],textfont=dict(family=\"sans serif\",size=18,color=\"#ffffff\"),name=\"\"), row=2,col=1)\n",
    "    fig.add_trace(go.Scatter(x=[1],y=[1],mode=\"text\",text=[str(cf5[0][1][1])],textfont=dict(family=\"sans serif\",size=18,color=\"#ffffff\"),name=\"\"), row=2,col=1)\n",
    "    \n",
    "     \n",
    "    fig.update_layout(autosize=False,\n",
    "    width=900,\n",
    "    height=650,\n",
    "    xaxis_title='Predicted',\n",
    "    yaxis_title='Ground Truth')\n",
    "    \n",
    "    fig.show()\n",
    "\n"
   ]
  },
  {
   "cell_type": "code",
   "execution_count": 21,
   "metadata": {
    "executionInfo": {
     "elapsed": 5,
     "status": "ok",
     "timestamp": 1625147957283,
     "user": {
      "displayName": "Noemi Tomasello",
      "photoUrl": "https://lh3.googleusercontent.com/a-/AOh14GjIW9yCqcM8LQ4exswU2SMdZkf4dyrZ2hNdGKNq=s64",
      "userId": "14936482853525964477"
     },
     "user_tz": -120
    },
    "id": "zAw3XKGyTflE",
    "slideshow": {
     "slide_type": "skip"
    }
   },
   "outputs": [],
   "source": [
    "#@title\n",
    "def chose_best_params(arr_params):\n",
    "    indexes = []\n",
    "    df = pd.DataFrame(arr_params, columns=[\"params\",\"acc\",\"rec\",\"prec\",\"f1\"])\n",
    "    alias = [f'Configuration {i+1}' for i in range(len(arr_params))] \n",
    "    indexes.append(df['acc'].idxmax())\n",
    "    indexes.append(df['rec'].idxmax())\n",
    "    indexes.append(df['prec'].idxmax())\n",
    "    indexes.append(df['f1'].idxmax())\n",
    "\n",
    "    #best = mode(indexes)\n",
    "    c = Counter(indexes)\n",
    "    best,_ = c.most_common(1)[0]\n",
    "    print(f\"The best configuration is {alias[best]}: {df['params'][best]}\")\n",
    "    return df['params'][best]"
   ]
  },
  {
   "cell_type": "markdown",
   "metadata": {
    "id": "IMmIlr62GT8Y",
    "slideshow": {
     "slide_type": "slide"
    }
   },
   "source": [
    "## **The Bias-Variance Trade-off**\n"
   ]
  },
  {
   "cell_type": "markdown",
   "metadata": {
    "id": "gtXMnvm6GdGl",
    "slideshow": {
     "slide_type": "subslide"
    }
   },
   "source": [
    "The Bias-Complexity trade off is related to the chose of a good hypothesis class for our predictors. The trade off is needed because on one hand we want a class that we belivie it contains the hypothesis with the smallest possible error, but on the other hand we cannot simply choose the richest class possible (i.e. a class that consists of all possible functions over the given domain).\n",
    "In order to resolve this trade off the we decompose the Empirical Risk in two:\n",
    "* *The Approximation Error*: is the minimum risk that can be achived by the hypothesis class. It does not depends on the sample size but on the hypothesis class chosen. So increasing the class can reduce the the approximation error.\n",
    "* *The Estimation Error*: is the difference between the approximation error and error achieved by the ERM estimator. This error is linked to the fact the the Empirical Risk (i.e. the training error) is an estimation of the true risk, and the quality of this estimation depends on the sample size and the size or complexity of the hypothesis class. <br/>\n",
    "\n",
    "This lead to the tradeoff since on the one hand we want to increase the hypothesis class in order to reduce the approximation error but this at the same time may lead to an increase in the estimation error (since a richer hypothesis class may lead to overfitting). On the other hand deciding to use a small hypothesis class reduces the estimations error but may increase the approximation error, resulting in underfitting. \n",
    "\n",
    "One of the common thing to do for understanding which of the two cases of error the algorithm is suffering is plotting *learning curves*. In this \"reppresentation\" the algorithm is trained on increasing part of the training set, starting for example with 10% of the whole dataset, then with the 20% and so on. At each steps the training error is calculated on both training and validation set. In this way if the trend of the training error and the validation error remains constant for all the steps, then the algorithm is suffering of approximation error since it is not actually learning more, while if the validation error starts as a constant and then starts decreasing we are in the estimation error scenario\n",
    "\n",
    "<p align=\"center\"><img src=\"https://www.baeldung.com/wp-content/uploads/sites/4/2020/07/fitgraph.jpg\" width=\"400\" height=\"250\"/></p>\n",
    "\n",
    "\n",
    "In the case of this project, it is used the method \"learnin_curve\" provided by the library Sklearn, which uses the score/accuracy on the training and validation sets, so the higher the values the better."
   ]
  },
  {
   "cell_type": "markdown",
   "metadata": {
    "id": "DCW40SY2mwJw",
    "slideshow": {
     "slide_type": "slide"
    }
   },
   "source": [
    "## **Algorithms**\n",
    "\n",
    "The algorithms chosen to inference the dataset are 4 and they are tuned and validated with Stratified 5-Fold cross validation method. Moreover, a custom pipeline is created in a fuction to train the different algorithms (PCA, Outlier detection and undersampling/SMOTE) only on the training set and not on the validation set, which instead reflects a proper test set with totally unseen data. \n"
   ]
  },
  {
   "cell_type": "markdown",
   "metadata": {
    "id": "e6Dgwkqam2Q1",
    "slideshow": {
     "slide_type": "subslide"
    }
   },
   "source": [
    "### **Random Forest**\n",
    "Random Forest is a classifier based on an ensemble of decision trees. A decision tree is a simple and intuitive method which can be used both for classification and regression. Each internal node of the tree $v$ contains a logical condition that divides the features space $X$ into regions/subsets and associated with each leaf node there is a partition of $X$ and a regional prediction function, that in a classification setting corresponds to the set of possible classes (in this case just two, gamma or hadron). It is very common to construct the tree with a greedy top-down approach, which means that the tree is built gradually starting from the root node and locally optimal decisions are made at the construction of each node. These decisions are based on a splitting rule which aim to maximize the “gain” of the algorithm, in fact, among all the possible splits it is chosen the one that provides the maximum “gain” or it is decided to not split further and this will be a leaf node.  There are different solutions to define this “gain”, we can analyse two:\n",
    "* Information Gain: is the difference between the entropy before and after the splitting.\n",
    "\\begin{equation}\n",
    "Entropy= \\sum_{i=1}^{C}-p_i*\\log_{2}{p_i}\n",
    "\\end{equation}\n",
    "* Gini Index: \n",
    "\\begin{equation}\n",
    "Gini= 1- \\sum_{i=1}^{C}p_i^2 \n",
    "\\end{equation}\n",
    "\n",
    "Both these measures are a level of “impurity” of the node, so the lower they are the better.\n",
    "The purpose of Random Forest is to limit the risk of overfitting in a single decision tree. In fact, decision tree (especially when they are deep) heavily rely on their training set and even a small change in the data can totally revolutionize the results. The major idea behind Random Forest is bootstrap aggregation sampling, or also called **bagging**, which combine multiple prediction functions learned from different data sets. In the case of Random forest, $T_1,…T_B$, sets are sampled from the training set to create $B$ separate models. Then, using a majority voting criterium, the most frequent class among the $B$ predictors is chosen. In case of a regression setting, the prediction function is often chosen as the mean response.\n"
   ]
  },
  {
   "cell_type": "code",
   "execution_count": 22,
   "metadata": {
    "executionInfo": {
     "elapsed": 221,
     "status": "ok",
     "timestamp": 1625147967913,
     "user": {
      "displayName": "Noemi Tomasello",
      "photoUrl": "https://lh3.googleusercontent.com/a-/AOh14GjIW9yCqcM8LQ4exswU2SMdZkf4dyrZ2hNdGKNq=s64",
      "userId": "14936482853525964477"
     },
     "user_tz": -120
    },
    "id": "Oj-e6elwm8sc",
    "slideshow": {
     "slide_type": "skip"
    }
   },
   "outputs": [],
   "source": [
    "total_results = pd.DataFrame([], columns=['Algorithm','Configuration','Accuracy', 'Precision','Recall','F1-score'])"
   ]
  },
  {
   "cell_type": "code",
   "execution_count": 23,
   "metadata": {
    "colab": {
     "base_uri": "https://localhost:8080/"
    },
    "executionInfo": {
     "elapsed": 220684,
     "status": "ok",
     "timestamp": 1625148189601,
     "user": {
      "displayName": "Noemi Tomasello",
      "photoUrl": "https://lh3.googleusercontent.com/a-/AOh14GjIW9yCqcM8LQ4exswU2SMdZkf4dyrZ2hNdGKNq=s64",
      "userId": "14936482853525964477"
     },
     "user_tz": -120
    },
    "id": "oDh1lHYJodns",
    "outputId": "807fcb0b-7b1c-4df5-cfa0-9f20edb9a1ea",
    "slideshow": {
     "slide_type": "skip"
    }
   },
   "outputs": [
    {
     "name": "stdout",
     "output_type": "stream",
     "text": [
      "Done!\n"
     ]
    }
   ],
   "source": [
    "params_rdmf = { \"random_state\": [0],\n",
    "                \"criterion\": [\"entropy\",\"gini\"],\n",
    "                \"n_estimators\": [20,50,100,200],\n",
    "               }\n",
    "\n",
    "pd_rnd, rnd = training(RandomForestClassifier, params_rdmf, outliers_iso, SMOTE())"
   ]
  },
  {
   "cell_type": "code",
   "execution_count": 24,
   "metadata": {
    "colab": {
     "base_uri": "https://localhost:8080/",
     "height": 542
    },
    "executionInfo": {
     "elapsed": 220,
     "status": "ok",
     "timestamp": 1625148398308,
     "user": {
      "displayName": "Noemi Tomasello",
      "photoUrl": "https://lh3.googleusercontent.com/a-/AOh14GjIW9yCqcM8LQ4exswU2SMdZkf4dyrZ2hNdGKNq=s64",
      "userId": "14936482853525964477"
     },
     "user_tz": -120
    },
    "id": "Epg-bz1DXy0V",
    "outputId": "3a2cabfd-bd6b-4dc2-9488-a01f3461ca5a",
    "slideshow": {
     "slide_type": "subslide"
    }
   },
   "outputs": [
    {
     "data": {
      "text/html": [
       "<html>\n",
       "<head><meta charset=\"utf-8\" /></head>\n",
       "<body>\n",
       "    <div>            <script src=\"https://cdnjs.cloudflare.com/ajax/libs/mathjax/2.7.5/MathJax.js?config=TeX-AMS-MML_SVG\"></script><script type=\"text/javascript\">if (window.MathJax) {MathJax.Hub.Config({SVG: {font: \"STIX-Web\"}});}</script>                <script type=\"text/javascript\">window.PlotlyConfig = {MathJaxConfig: 'local'};</script>\n",
       "        <script src=\"https://cdn.plot.ly/plotly-latest.min.js\"></script>                <div id=\"a07623d1-4f0d-4825-8446-758e4b93c8eb\" class=\"plotly-graph-div\" style=\"height:525px; width:100%;\"></div>            <script type=\"text/javascript\">                                    window.PLOTLYENV=window.PLOTLYENV || {};                                    if (document.getElementById(\"a07623d1-4f0d-4825-8446-758e4b93c8eb\")) {                    Plotly.newPlot(                        \"a07623d1-4f0d-4825-8446-758e4b93c8eb\",                        [{\"marker\": {\"color\": \"#78290f\"}, \"name\": \"Accuracy\", \"type\": \"bar\", \"x\": [\"Configuration 1\", \"Configuration 2\", \"Configuration 3\", \"Configuration 4\", \"Configuration 5\", \"Configuration 6\", \"Configuration 7\", \"Configuration 8\"], \"y\": [0.7910269891342446, 0.7971258324570627, 0.7948825797406238, 0.7957237995092885, 0.786049772169646, 0.7967052225727305, 0.7952330879775674, 0.7957939011566771]}, {\"marker\": {\"color\": \"#ff7d00\"}, \"name\": \"Recall\", \"type\": \"bar\", \"x\": [\"Configuration 1\", \"Configuration 2\", \"Configuration 3\", \"Configuration 4\", \"Configuration 5\", \"Configuration 6\", \"Configuration 7\", \"Configuration 8\"], \"y\": [0.7096942704819672, 0.740220058387711, 0.7350330246784597, 0.7370258486018989, 0.7090956670905448, 0.7306406130908671, 0.7340342246712954, 0.7332356224738957]}, {\"marker\": {\"color\": \"#202c39\"}, \"name\": \"Precision\", \"type\": \"bar\", \"x\": [\"Configuration 1\", \"Configuration 2\", \"Configuration 3\", \"Configuration 4\", \"Configuration 5\", \"Configuration 6\", \"Configuration 7\", \"Configuration 8\"], \"y\": [0.6998844805070721, 0.6999696275110604, 0.697584925378199, 0.698319916856064, 0.6906358121815807, 0.7029210633526757, 0.6986719603169708, 0.699961481487957]}, {\"marker\": {\"color\": \"#15616d\"}, \"name\": \"F1-score\", \"type\": \"bar\", \"x\": [\"Configuration 1\", \"Configuration 2\", \"Configuration 3\", \"Configuration 4\", \"Configuration 5\", \"Configuration 6\", \"Configuration 7\", \"Configuration 8\"], \"y\": [0.7046439953370347, 0.719393512293026, 0.715666136337066, 0.7170465198517196, 0.6996326054646558, 0.7162882689146927, 0.7157670264638542, 0.716091725912593]}],                        {\"annotations\": [{\"font\": {\"size\": 16}, \"showarrow\": false, \"text\": \"S\", \"x\": 0.5, \"xanchor\": \"center\", \"xref\": \"paper\", \"y\": 1.0, \"yanchor\": \"bottom\", \"yref\": \"paper\"}], \"template\": {\"data\": {\"bar\": [{\"error_x\": {\"color\": \"#2a3f5f\"}, \"error_y\": {\"color\": \"#2a3f5f\"}, \"marker\": {\"line\": {\"color\": \"#E5ECF6\", \"width\": 0.5}}, \"type\": \"bar\"}], \"barpolar\": [{\"marker\": {\"line\": {\"color\": \"#E5ECF6\", \"width\": 0.5}}, \"type\": \"barpolar\"}], \"carpet\": [{\"aaxis\": {\"endlinecolor\": \"#2a3f5f\", \"gridcolor\": \"white\", \"linecolor\": \"white\", \"minorgridcolor\": \"white\", \"startlinecolor\": \"#2a3f5f\"}, \"baxis\": {\"endlinecolor\": \"#2a3f5f\", \"gridcolor\": \"white\", \"linecolor\": \"white\", \"minorgridcolor\": \"white\", \"startlinecolor\": \"#2a3f5f\"}, \"type\": \"carpet\"}], \"choropleth\": [{\"colorbar\": {\"outlinewidth\": 0, \"ticks\": \"\"}, \"type\": \"choropleth\"}], \"contour\": [{\"colorbar\": {\"outlinewidth\": 0, \"ticks\": \"\"}, \"colorscale\": [[0.0, \"#0d0887\"], [0.1111111111111111, \"#46039f\"], [0.2222222222222222, \"#7201a8\"], [0.3333333333333333, \"#9c179e\"], [0.4444444444444444, \"#bd3786\"], [0.5555555555555556, \"#d8576b\"], [0.6666666666666666, \"#ed7953\"], [0.7777777777777778, \"#fb9f3a\"], [0.8888888888888888, \"#fdca26\"], [1.0, \"#f0f921\"]], \"type\": \"contour\"}], \"contourcarpet\": [{\"colorbar\": {\"outlinewidth\": 0, \"ticks\": \"\"}, \"type\": \"contourcarpet\"}], \"heatmap\": [{\"colorbar\": {\"outlinewidth\": 0, \"ticks\": \"\"}, \"colorscale\": [[0.0, \"#0d0887\"], [0.1111111111111111, \"#46039f\"], [0.2222222222222222, \"#7201a8\"], [0.3333333333333333, \"#9c179e\"], [0.4444444444444444, \"#bd3786\"], [0.5555555555555556, \"#d8576b\"], [0.6666666666666666, \"#ed7953\"], [0.7777777777777778, \"#fb9f3a\"], [0.8888888888888888, \"#fdca26\"], [1.0, \"#f0f921\"]], \"type\": \"heatmap\"}], \"heatmapgl\": [{\"colorbar\": {\"outlinewidth\": 0, \"ticks\": \"\"}, \"colorscale\": [[0.0, \"#0d0887\"], [0.1111111111111111, \"#46039f\"], [0.2222222222222222, \"#7201a8\"], [0.3333333333333333, \"#9c179e\"], [0.4444444444444444, \"#bd3786\"], [0.5555555555555556, \"#d8576b\"], [0.6666666666666666, \"#ed7953\"], [0.7777777777777778, \"#fb9f3a\"], [0.8888888888888888, \"#fdca26\"], [1.0, \"#f0f921\"]], \"type\": \"heatmapgl\"}], \"histogram\": [{\"marker\": {\"colorbar\": {\"outlinewidth\": 0, \"ticks\": \"\"}}, \"type\": \"histogram\"}], \"histogram2d\": [{\"colorbar\": {\"outlinewidth\": 0, \"ticks\": \"\"}, \"colorscale\": [[0.0, \"#0d0887\"], [0.1111111111111111, \"#46039f\"], [0.2222222222222222, \"#7201a8\"], [0.3333333333333333, \"#9c179e\"], [0.4444444444444444, \"#bd3786\"], [0.5555555555555556, \"#d8576b\"], [0.6666666666666666, \"#ed7953\"], [0.7777777777777778, \"#fb9f3a\"], [0.8888888888888888, \"#fdca26\"], [1.0, \"#f0f921\"]], \"type\": \"histogram2d\"}], \"histogram2dcontour\": [{\"colorbar\": {\"outlinewidth\": 0, \"ticks\": \"\"}, \"colorscale\": [[0.0, \"#0d0887\"], [0.1111111111111111, \"#46039f\"], [0.2222222222222222, \"#7201a8\"], [0.3333333333333333, \"#9c179e\"], [0.4444444444444444, \"#bd3786\"], [0.5555555555555556, \"#d8576b\"], [0.6666666666666666, \"#ed7953\"], [0.7777777777777778, \"#fb9f3a\"], [0.8888888888888888, \"#fdca26\"], [1.0, \"#f0f921\"]], \"type\": \"histogram2dcontour\"}], \"mesh3d\": [{\"colorbar\": {\"outlinewidth\": 0, \"ticks\": \"\"}, \"type\": \"mesh3d\"}], \"parcoords\": [{\"line\": {\"colorbar\": {\"outlinewidth\": 0, \"ticks\": \"\"}}, \"type\": \"parcoords\"}], \"pie\": [{\"automargin\": true, \"type\": \"pie\"}], \"scatter\": [{\"marker\": {\"colorbar\": {\"outlinewidth\": 0, \"ticks\": \"\"}}, \"type\": \"scatter\"}], \"scatter3d\": [{\"line\": {\"colorbar\": {\"outlinewidth\": 0, \"ticks\": \"\"}}, \"marker\": {\"colorbar\": {\"outlinewidth\": 0, \"ticks\": \"\"}}, \"type\": \"scatter3d\"}], \"scattercarpet\": [{\"marker\": {\"colorbar\": {\"outlinewidth\": 0, \"ticks\": \"\"}}, \"type\": \"scattercarpet\"}], \"scattergeo\": [{\"marker\": {\"colorbar\": {\"outlinewidth\": 0, \"ticks\": \"\"}}, \"type\": \"scattergeo\"}], \"scattergl\": [{\"marker\": {\"colorbar\": {\"outlinewidth\": 0, \"ticks\": \"\"}}, \"type\": \"scattergl\"}], \"scattermapbox\": [{\"marker\": {\"colorbar\": {\"outlinewidth\": 0, \"ticks\": \"\"}}, \"type\": \"scattermapbox\"}], \"scatterpolar\": [{\"marker\": {\"colorbar\": {\"outlinewidth\": 0, \"ticks\": \"\"}}, \"type\": \"scatterpolar\"}], \"scatterpolargl\": [{\"marker\": {\"colorbar\": {\"outlinewidth\": 0, \"ticks\": \"\"}}, \"type\": \"scatterpolargl\"}], \"scatterternary\": [{\"marker\": {\"colorbar\": {\"outlinewidth\": 0, \"ticks\": \"\"}}, \"type\": \"scatterternary\"}], \"surface\": [{\"colorbar\": {\"outlinewidth\": 0, \"ticks\": \"\"}, \"colorscale\": [[0.0, \"#0d0887\"], [0.1111111111111111, \"#46039f\"], [0.2222222222222222, \"#7201a8\"], [0.3333333333333333, \"#9c179e\"], [0.4444444444444444, \"#bd3786\"], [0.5555555555555556, \"#d8576b\"], [0.6666666666666666, \"#ed7953\"], [0.7777777777777778, \"#fb9f3a\"], [0.8888888888888888, \"#fdca26\"], [1.0, \"#f0f921\"]], \"type\": \"surface\"}], \"table\": [{\"cells\": {\"fill\": {\"color\": \"#EBF0F8\"}, \"line\": {\"color\": \"white\"}}, \"header\": {\"fill\": {\"color\": \"#C8D4E3\"}, \"line\": {\"color\": \"white\"}}, \"type\": \"table\"}]}, \"layout\": {\"annotationdefaults\": {\"arrowcolor\": \"#2a3f5f\", \"arrowhead\": 0, \"arrowwidth\": 1}, \"autotypenumbers\": \"strict\", \"coloraxis\": {\"colorbar\": {\"outlinewidth\": 0, \"ticks\": \"\"}}, \"colorscale\": {\"diverging\": [[0, \"#8e0152\"], [0.1, \"#c51b7d\"], [0.2, \"#de77ae\"], [0.3, \"#f1b6da\"], [0.4, \"#fde0ef\"], [0.5, \"#f7f7f7\"], [0.6, \"#e6f5d0\"], [0.7, \"#b8e186\"], [0.8, \"#7fbc41\"], [0.9, \"#4d9221\"], [1, \"#276419\"]], \"sequential\": [[0.0, \"#0d0887\"], [0.1111111111111111, \"#46039f\"], [0.2222222222222222, \"#7201a8\"], [0.3333333333333333, \"#9c179e\"], [0.4444444444444444, \"#bd3786\"], [0.5555555555555556, \"#d8576b\"], [0.6666666666666666, \"#ed7953\"], [0.7777777777777778, \"#fb9f3a\"], [0.8888888888888888, \"#fdca26\"], [1.0, \"#f0f921\"]], \"sequentialminus\": [[0.0, \"#0d0887\"], [0.1111111111111111, \"#46039f\"], [0.2222222222222222, \"#7201a8\"], [0.3333333333333333, \"#9c179e\"], [0.4444444444444444, \"#bd3786\"], [0.5555555555555556, \"#d8576b\"], [0.6666666666666666, \"#ed7953\"], [0.7777777777777778, \"#fb9f3a\"], [0.8888888888888888, \"#fdca26\"], [1.0, \"#f0f921\"]]}, \"colorway\": [\"#636efa\", \"#EF553B\", \"#00cc96\", \"#ab63fa\", \"#FFA15A\", \"#19d3f3\", \"#FF6692\", \"#B6E880\", \"#FF97FF\", \"#FECB52\"], \"font\": {\"color\": \"#2a3f5f\"}, \"geo\": {\"bgcolor\": \"white\", \"lakecolor\": \"white\", \"landcolor\": \"#E5ECF6\", \"showlakes\": true, \"showland\": true, \"subunitcolor\": \"white\"}, \"hoverlabel\": {\"align\": \"left\"}, \"hovermode\": \"closest\", \"mapbox\": {\"style\": \"light\"}, \"paper_bgcolor\": \"white\", \"plot_bgcolor\": \"#E5ECF6\", \"polar\": {\"angularaxis\": {\"gridcolor\": \"white\", \"linecolor\": \"white\", \"ticks\": \"\"}, \"bgcolor\": \"#E5ECF6\", \"radialaxis\": {\"gridcolor\": \"white\", \"linecolor\": \"white\", \"ticks\": \"\"}}, \"scene\": {\"xaxis\": {\"backgroundcolor\": \"#E5ECF6\", \"gridcolor\": \"white\", \"gridwidth\": 2, \"linecolor\": \"white\", \"showbackground\": true, \"ticks\": \"\", \"zerolinecolor\": \"white\"}, \"yaxis\": {\"backgroundcolor\": \"#E5ECF6\", \"gridcolor\": \"white\", \"gridwidth\": 2, \"linecolor\": \"white\", \"showbackground\": true, \"ticks\": \"\", \"zerolinecolor\": \"white\"}, \"zaxis\": {\"backgroundcolor\": \"#E5ECF6\", \"gridcolor\": \"white\", \"gridwidth\": 2, \"linecolor\": \"white\", \"showbackground\": true, \"ticks\": \"\", \"zerolinecolor\": \"white\"}}, \"shapedefaults\": {\"line\": {\"color\": \"#2a3f5f\"}}, \"ternary\": {\"aaxis\": {\"gridcolor\": \"white\", \"linecolor\": \"white\", \"ticks\": \"\"}, \"baxis\": {\"gridcolor\": \"white\", \"linecolor\": \"white\", \"ticks\": \"\"}, \"bgcolor\": \"#E5ECF6\", \"caxis\": {\"gridcolor\": \"white\", \"linecolor\": \"white\", \"ticks\": \"\"}}, \"title\": {\"x\": 0.05}, \"xaxis\": {\"automargin\": true, \"gridcolor\": \"white\", \"linecolor\": \"white\", \"ticks\": \"\", \"title\": {\"standoff\": 15}, \"zerolinecolor\": \"white\", \"zerolinewidth\": 2}, \"yaxis\": {\"automargin\": true, \"gridcolor\": \"white\", \"linecolor\": \"white\", \"ticks\": \"\", \"title\": {\"standoff\": 15}, \"zerolinecolor\": \"white\", \"zerolinewidth\": 2}}}, \"xaxis\": {\"anchor\": \"y\", \"domain\": [0.0, 1.0]}, \"yaxis\": {\"anchor\": \"x\", \"domain\": [0.0, 1.0]}},                        {\"responsive\": true}                    ).then(function(){\n",
       "                            \n",
       "var gd = document.getElementById('a07623d1-4f0d-4825-8446-758e4b93c8eb');\n",
       "var x = new MutationObserver(function (mutations, observer) {{\n",
       "        var display = window.getComputedStyle(gd).display;\n",
       "        if (!display || display === 'none') {{\n",
       "            console.log([gd, 'removed!']);\n",
       "            Plotly.purge(gd);\n",
       "            observer.disconnect();\n",
       "        }}\n",
       "}});\n",
       "\n",
       "// Listen for the removal of the full notebook cells\n",
       "var notebookContainer = gd.closest('#notebook-container');\n",
       "if (notebookContainer) {{\n",
       "    x.observe(notebookContainer, {childList: true});\n",
       "}}\n",
       "\n",
       "// Listen for the clearing of the current output cell\n",
       "var outputEl = gd.closest('.output');\n",
       "if (outputEl) {{\n",
       "    x.observe(outputEl, {childList: true});\n",
       "}}\n",
       "\n",
       "                        })                };                            </script>        </div>\n",
       "</body>\n",
       "</html>"
      ]
     },
     "metadata": {
      "tags": []
     },
     "output_type": "display_data"
    }
   ],
   "source": [
    "df_rndforest = print_conf_acc(pd_rnd)"
   ]
  },
  {
   "cell_type": "markdown",
   "metadata": {
    "id": "LVM03X96FzeE",
    "slideshow": {
     "slide_type": "subslide"
    }
   },
   "source": [
    "The best configuration is chosen comparing the values of each metric for each configuration. The configuration which has the most high score is decided to be the best. "
   ]
  },
  {
   "cell_type": "code",
   "execution_count": 25,
   "metadata": {
    "colab": {
     "base_uri": "https://localhost:8080/"
    },
    "executionInfo": {
     "elapsed": 251,
     "status": "ok",
     "timestamp": 1625148403278,
     "user": {
      "displayName": "Noemi Tomasello",
      "photoUrl": "https://lh3.googleusercontent.com/a-/AOh14GjIW9yCqcM8LQ4exswU2SMdZkf4dyrZ2hNdGKNq=s64",
      "userId": "14936482853525964477"
     },
     "user_tz": -120
    },
    "id": "T3MncU6xDxyU",
    "outputId": "4e35f5c0-28cb-4d81-e455-50549b348226",
    "slideshow": {
     "slide_type": "subslide"
    }
   },
   "outputs": [
    {
     "name": "stdout",
     "output_type": "stream",
     "text": [
      "The best configuration is Configuration 2: {'criterion': 'entropy', 'n_estimators': 50, 'random_state': 0}\n"
     ]
    }
   ],
   "source": [
    "best_rnd = chose_best_params(pd_rnd)"
   ]
  },
  {
   "cell_type": "code",
   "execution_count": 75,
   "metadata": {
    "colab": {
     "base_uri": "https://localhost:8080/"
    },
    "executionInfo": {
     "elapsed": 38969,
     "status": "ok",
     "timestamp": 1625152021360,
     "user": {
      "displayName": "Noemi Tomasello",
      "photoUrl": "https://lh3.googleusercontent.com/a-/AOh14GjIW9yCqcM8LQ4exswU2SMdZkf4dyrZ2hNdGKNq=s64",
      "userId": "14936482853525964477"
     },
     "user_tz": -120
    },
    "id": "1Nbmrtvfodn5",
    "outputId": "a182cfe9-92b7-4662-ceb8-b54562a34178",
    "slideshow": {
     "slide_type": "skip"
    }
   },
   "outputs": [
    {
     "name": "stdout",
     "output_type": "stream",
     "text": [
      "              precision    recall  f1-score   support\n",
      "\n",
      "           0       0.85      0.81      0.83      3079\n",
      "           1       0.68      0.74      0.71      1676\n",
      "\n",
      "    accuracy                           0.79      4755\n",
      "   macro avg       0.77      0.78      0.77      4755\n",
      "weighted avg       0.79      0.79      0.79      4755\n",
      "\n",
      "              precision    recall  f1-score   support\n",
      "\n",
      "           0       0.87      0.77      0.82      3079\n",
      "           1       0.65      0.79      0.71      1676\n",
      "\n",
      "    accuracy                           0.78      4755\n",
      "   macro avg       0.76      0.78      0.76      4755\n",
      "weighted avg       0.79      0.78      0.78      4755\n",
      "\n",
      "              precision    recall  f1-score   support\n",
      "\n",
      "           0       0.85      0.85      0.85      3079\n",
      "           1       0.72      0.72      0.72      1676\n",
      "\n",
      "    accuracy                           0.80      4755\n",
      "   macro avg       0.78      0.78      0.78      4755\n",
      "weighted avg       0.80      0.80      0.80      4755\n",
      "\n",
      "              precision    recall  f1-score   support\n",
      "\n",
      "           0       0.86      0.79      0.83      3079\n",
      "           1       0.67      0.77      0.72      1676\n",
      "\n",
      "    accuracy                           0.78      4755\n",
      "   macro avg       0.77      0.78      0.77      4755\n",
      "weighted avg       0.79      0.78      0.79      4755\n",
      "\n",
      "              precision    recall  f1-score   support\n",
      "\n",
      "           0       0.88      0.95      0.92      3079\n",
      "           1       0.90      0.76      0.82      1676\n",
      "\n",
      "    accuracy                           0.89      4755\n",
      "   macro avg       0.89      0.86      0.87      4755\n",
      "weighted avg       0.89      0.89      0.88      4755\n",
      "\n"
     ]
    }
   ],
   "source": [
    "rnd_cfs = []\n",
    "cf_matrix_rnd_1, test_rnd_iso_pca_smote = testing(RandomForestClassifier, best_rnd,outliers_iso, SMOTE()) \n",
    "rnd_cfs.append((cf_matrix_rnd_1,\"Test Random Forest with Iso, PCA, SMOTE\"))\n",
    "total_results = total_results.append(pd.Series(['Random Forest',\"Test Random Forest with Iso, PCA, SMOTE\",\n",
    "                                test_rnd_iso_pca_smote[0], test_rnd_iso_pca_smote[1],\n",
    "                                test_rnd_iso_pca_smote[2],test_rnd_iso_pca_smote[3]],index=total_results.columns),ignore_index=True)\n",
    "cf_matrix_rnd_2, test_rndiso_pca_rus = testing(RandomForestClassifier, best_rnd,outliers_iso, RandomUnderSampler()) \n",
    "rnd_cfs.append((cf_matrix_rnd_2,\"Test Random Forest with Iso, PCA, Random Undersampling\"))\n",
    "total_results = total_results.append(pd.Series(['Random Forest',\"Test Random Forest with Iso, PCA, Random Undersampling\",\n",
    "                                test_rndiso_pca_rus[0], test_rndiso_pca_rus[1],\n",
    "                                test_rndiso_pca_rus[2], test_rndiso_pca_rus[3]],index=total_results.columns),ignore_index=True)\n",
    "cf_matrix_rnd_3, test_rnd_lof_pca_smote = testing(RandomForestClassifier,best_rnd,outliers_lof, SMOTE()) \n",
    "rnd_cfs.append((cf_matrix_rnd_3,\"Test Random Forest with LOF, PCA, SMOTE\"))\n",
    "total_results = total_results.append(pd.Series(['Random Forest',\"Test Random Forest with LOF, PCA, SMOTE\",\n",
    "                                test_rnd_lof_pca_smote[0], test_rnd_lof_pca_smote[1],\n",
    "                                test_rnd_lof_pca_smote[2],test_rnd_lof_pca_smote[3]],index=total_results.columns),ignore_index=True)\n",
    "cf_matrix_rnd_4, test_rnd_lof_pca_rus = testing(RandomForestClassifier, best_rnd,outliers_lof, RandomUnderSampler()) \n",
    "rnd_cfs.append((cf_matrix_rnd_4,\"Test Random Forest with LOF, PCA, Random Undersampling\"))\n",
    "total_results = total_results.append(pd.Series(['Random Forest',\"Test Random Forest with LOF, PCA, Random Undersampling\",\n",
    "                                test_rnd_lof_pca_rus[0],test_rnd_lof_pca_rus[1],\n",
    "                                test_rnd_lof_pca_rus[2],test_rnd_lof_pca_rus[3]],index=total_results.columns),ignore_index=True)\n",
    "cf_matrix_rnd_5, test_rnd_no_precosseing = testing(RandomForestClassifier, best_rnd,outliers_lof, RandomUnderSampler(), doPCA=False,outliers=False, balancing=False) \n",
    "rnd_cfs.append((cf_matrix_rnd_5,\"Test Random Forest with no preprocessing\"))\n",
    "total_results = total_results.append(pd.Series(['Random Forest',\"Test Random Forest with no preprocessing\",\n",
    "                                test_rnd_no_precosseing[0],test_rnd_no_precosseing[1],\n",
    "                                test_rnd_no_precosseing[2],test_rnd_no_precosseing[3]],index=total_results.columns),ignore_index=True)"
   ]
  },
  {
   "cell_type": "code",
   "execution_count": 69,
   "metadata": {
    "colab": {
     "base_uri": "https://localhost:8080/"
    },
    "executionInfo": {
     "elapsed": 9369,
     "status": "ok",
     "timestamp": 1625151605081,
     "user": {
      "displayName": "Noemi Tomasello",
      "photoUrl": "https://lh3.googleusercontent.com/a-/AOh14GjIW9yCqcM8LQ4exswU2SMdZkf4dyrZ2hNdGKNq=s64",
      "userId": "14936482853525964477"
     },
     "user_tz": -120
    },
    "id": "eKtAmUZN8hd1",
    "outputId": "ed361516-238a-403e-b196-4abf33aab1a0",
    "slideshow": {
     "slide_type": "subslide"
    }
   },
   "outputs": [
    {
     "name": "stdout",
     "output_type": "stream",
     "text": [
      "              precision    recall  f1-score   support\n",
      "\n",
      "           0       0.88      0.95      0.92      3079\n",
      "           1       0.90      0.76      0.82      1676\n",
      "\n",
      "    accuracy                           0.89      4755\n",
      "   macro avg       0.89      0.86      0.87      4755\n",
      "weighted avg       0.89      0.89      0.88      4755\n",
      "\n"
     ]
    }
   ],
   "source": [
    "bla_cf, bla_bla = testing(RandomForestClassifier,{'n_estimators':100, 'criterion':'entropy', 'random_state':0} ,outliers_iso, SMOTE(),doPCA=False,outliers=False, balancing=False) \n"
   ]
  },
  {
   "cell_type": "code",
   "execution_count": 49,
   "metadata": {
    "colab": {
     "base_uri": "https://localhost:8080/",
     "height": 417
    },
    "executionInfo": {
     "elapsed": 215,
     "status": "ok",
     "timestamp": 1625149545886,
     "user": {
      "displayName": "Noemi Tomasello",
      "photoUrl": "https://lh3.googleusercontent.com/a-/AOh14GjIW9yCqcM8LQ4exswU2SMdZkf4dyrZ2hNdGKNq=s64",
      "userId": "14936482853525964477"
     },
     "user_tz": -120
    },
    "id": "cW_jSru49EUY",
    "outputId": "17a320b9-07cd-4ffa-d0d1-22de648148e0",
    "slideshow": {
     "slide_type": "subslide"
    }
   },
   "outputs": [
    {
     "data": {
      "text/html": [
       "<html>\n",
       "<head><meta charset=\"utf-8\" /></head>\n",
       "<body>\n",
       "    <div>            <script src=\"https://cdnjs.cloudflare.com/ajax/libs/mathjax/2.7.5/MathJax.js?config=TeX-AMS-MML_SVG\"></script><script type=\"text/javascript\">if (window.MathJax) {MathJax.Hub.Config({SVG: {font: \"STIX-Web\"}});}</script>                <script type=\"text/javascript\">window.PlotlyConfig = {MathJaxConfig: 'local'};</script>\n",
       "        <script src=\"https://cdn.plot.ly/plotly-latest.min.js\"></script>                <div id=\"278fddcf-299f-4be2-8007-20074355f1db\" class=\"plotly-graph-div\" style=\"height:400px; width:400px;\"></div>            <script type=\"text/javascript\">                                    window.PLOTLYENV=window.PLOTLYENV || {};                                    if (document.getElementById(\"278fddcf-299f-4be2-8007-20074355f1db\")) {                    Plotly.newPlot(                        \"278fddcf-299f-4be2-8007-20074355f1db\",                        [{\"colorscale\": [[0.0, \"#78290f\"], [0.25, \"#ff7d00\"], [0.5, \"#ffecd1\"], [0.75, \"#15616d\"], [1.0, \"#202c39\"]], \"reversescale\": false, \"showscale\": false, \"type\": \"heatmap\", \"x\": [\"0\", \"1\"], \"y\": [\"1\", \"0\"], \"z\": [[2936, 143], [401, 1275]]}, {\"mode\": \"text\", \"name\": \"\", \"text\": [\"2936\"], \"textfont\": {\"color\": \"#ffffff\", \"family\": \"sans serif\", \"size\": 18}, \"type\": \"scatter\", \"x\": [0], \"y\": [0]}, {\"mode\": \"text\", \"name\": \"\", \"text\": [\"401\"], \"textfont\": {\"color\": \"#ffffff\", \"family\": \"sans serif\", \"size\": 18}, \"type\": \"scatter\", \"x\": [0], \"y\": [1]}, {\"mode\": \"text\", \"name\": \"\", \"text\": [\"143\"], \"textfont\": {\"color\": \"#ffffff\", \"family\": \"sans serif\", \"size\": 18}, \"type\": \"scatter\", \"x\": [1], \"y\": [0]}, {\"mode\": \"text\", \"name\": \"\", \"text\": [\"1275\"], \"textfont\": {\"color\": \"#ffffff\", \"family\": \"sans serif\", \"size\": 18}, \"type\": \"scatter\", \"x\": [1], \"y\": [1]}],                        {\"height\": 400, \"showlegend\": false, \"template\": {\"data\": {\"bar\": [{\"error_x\": {\"color\": \"#2a3f5f\"}, \"error_y\": {\"color\": \"#2a3f5f\"}, \"marker\": {\"line\": {\"color\": \"#E5ECF6\", \"width\": 0.5}}, \"type\": \"bar\"}], \"barpolar\": [{\"marker\": {\"line\": {\"color\": \"#E5ECF6\", \"width\": 0.5}}, \"type\": \"barpolar\"}], \"carpet\": [{\"aaxis\": {\"endlinecolor\": \"#2a3f5f\", \"gridcolor\": \"white\", \"linecolor\": \"white\", \"minorgridcolor\": \"white\", \"startlinecolor\": \"#2a3f5f\"}, \"baxis\": {\"endlinecolor\": \"#2a3f5f\", \"gridcolor\": \"white\", \"linecolor\": \"white\", \"minorgridcolor\": \"white\", \"startlinecolor\": \"#2a3f5f\"}, \"type\": \"carpet\"}], \"choropleth\": [{\"colorbar\": {\"outlinewidth\": 0, \"ticks\": \"\"}, \"type\": \"choropleth\"}], \"contour\": [{\"colorbar\": {\"outlinewidth\": 0, \"ticks\": \"\"}, \"colorscale\": [[0.0, \"#0d0887\"], [0.1111111111111111, \"#46039f\"], [0.2222222222222222, \"#7201a8\"], [0.3333333333333333, \"#9c179e\"], [0.4444444444444444, \"#bd3786\"], [0.5555555555555556, \"#d8576b\"], [0.6666666666666666, \"#ed7953\"], [0.7777777777777778, \"#fb9f3a\"], [0.8888888888888888, \"#fdca26\"], [1.0, \"#f0f921\"]], \"type\": \"contour\"}], \"contourcarpet\": [{\"colorbar\": {\"outlinewidth\": 0, \"ticks\": \"\"}, \"type\": \"contourcarpet\"}], \"heatmap\": [{\"colorbar\": {\"outlinewidth\": 0, \"ticks\": \"\"}, \"colorscale\": [[0.0, \"#0d0887\"], [0.1111111111111111, \"#46039f\"], [0.2222222222222222, \"#7201a8\"], [0.3333333333333333, \"#9c179e\"], [0.4444444444444444, \"#bd3786\"], [0.5555555555555556, \"#d8576b\"], [0.6666666666666666, \"#ed7953\"], [0.7777777777777778, \"#fb9f3a\"], [0.8888888888888888, \"#fdca26\"], [1.0, \"#f0f921\"]], \"type\": \"heatmap\"}], \"heatmapgl\": [{\"colorbar\": {\"outlinewidth\": 0, \"ticks\": \"\"}, \"colorscale\": [[0.0, \"#0d0887\"], [0.1111111111111111, \"#46039f\"], [0.2222222222222222, \"#7201a8\"], [0.3333333333333333, \"#9c179e\"], [0.4444444444444444, \"#bd3786\"], [0.5555555555555556, \"#d8576b\"], [0.6666666666666666, \"#ed7953\"], [0.7777777777777778, \"#fb9f3a\"], [0.8888888888888888, \"#fdca26\"], [1.0, \"#f0f921\"]], \"type\": \"heatmapgl\"}], \"histogram\": [{\"marker\": {\"colorbar\": {\"outlinewidth\": 0, \"ticks\": \"\"}}, \"type\": \"histogram\"}], \"histogram2d\": [{\"colorbar\": {\"outlinewidth\": 0, \"ticks\": \"\"}, \"colorscale\": [[0.0, \"#0d0887\"], [0.1111111111111111, \"#46039f\"], [0.2222222222222222, \"#7201a8\"], [0.3333333333333333, \"#9c179e\"], [0.4444444444444444, \"#bd3786\"], [0.5555555555555556, \"#d8576b\"], [0.6666666666666666, \"#ed7953\"], [0.7777777777777778, \"#fb9f3a\"], [0.8888888888888888, \"#fdca26\"], [1.0, \"#f0f921\"]], \"type\": \"histogram2d\"}], \"histogram2dcontour\": [{\"colorbar\": {\"outlinewidth\": 0, \"ticks\": \"\"}, \"colorscale\": [[0.0, \"#0d0887\"], [0.1111111111111111, \"#46039f\"], [0.2222222222222222, \"#7201a8\"], [0.3333333333333333, \"#9c179e\"], [0.4444444444444444, \"#bd3786\"], [0.5555555555555556, \"#d8576b\"], [0.6666666666666666, \"#ed7953\"], [0.7777777777777778, \"#fb9f3a\"], [0.8888888888888888, \"#fdca26\"], [1.0, \"#f0f921\"]], \"type\": \"histogram2dcontour\"}], \"mesh3d\": [{\"colorbar\": {\"outlinewidth\": 0, \"ticks\": \"\"}, \"type\": \"mesh3d\"}], \"parcoords\": [{\"line\": {\"colorbar\": {\"outlinewidth\": 0, \"ticks\": \"\"}}, \"type\": \"parcoords\"}], \"pie\": [{\"automargin\": true, \"type\": \"pie\"}], \"scatter\": [{\"marker\": {\"colorbar\": {\"outlinewidth\": 0, \"ticks\": \"\"}}, \"type\": \"scatter\"}], \"scatter3d\": [{\"line\": {\"colorbar\": {\"outlinewidth\": 0, \"ticks\": \"\"}}, \"marker\": {\"colorbar\": {\"outlinewidth\": 0, \"ticks\": \"\"}}, \"type\": \"scatter3d\"}], \"scattercarpet\": [{\"marker\": {\"colorbar\": {\"outlinewidth\": 0, \"ticks\": \"\"}}, \"type\": \"scattercarpet\"}], \"scattergeo\": [{\"marker\": {\"colorbar\": {\"outlinewidth\": 0, \"ticks\": \"\"}}, \"type\": \"scattergeo\"}], \"scattergl\": [{\"marker\": {\"colorbar\": {\"outlinewidth\": 0, \"ticks\": \"\"}}, \"type\": \"scattergl\"}], \"scattermapbox\": [{\"marker\": {\"colorbar\": {\"outlinewidth\": 0, \"ticks\": \"\"}}, \"type\": \"scattermapbox\"}], \"scatterpolar\": [{\"marker\": {\"colorbar\": {\"outlinewidth\": 0, \"ticks\": \"\"}}, \"type\": \"scatterpolar\"}], \"scatterpolargl\": [{\"marker\": {\"colorbar\": {\"outlinewidth\": 0, \"ticks\": \"\"}}, \"type\": \"scatterpolargl\"}], \"scatterternary\": [{\"marker\": {\"colorbar\": {\"outlinewidth\": 0, \"ticks\": \"\"}}, \"type\": \"scatterternary\"}], \"surface\": [{\"colorbar\": {\"outlinewidth\": 0, \"ticks\": \"\"}, \"colorscale\": [[0.0, \"#0d0887\"], [0.1111111111111111, \"#46039f\"], [0.2222222222222222, \"#7201a8\"], [0.3333333333333333, \"#9c179e\"], [0.4444444444444444, \"#bd3786\"], [0.5555555555555556, \"#d8576b\"], [0.6666666666666666, \"#ed7953\"], [0.7777777777777778, \"#fb9f3a\"], [0.8888888888888888, \"#fdca26\"], [1.0, \"#f0f921\"]], \"type\": \"surface\"}], \"table\": [{\"cells\": {\"fill\": {\"color\": \"#EBF0F8\"}, \"line\": {\"color\": \"white\"}}, \"header\": {\"fill\": {\"color\": \"#C8D4E3\"}, \"line\": {\"color\": \"white\"}}, \"type\": \"table\"}]}, \"layout\": {\"annotationdefaults\": {\"arrowcolor\": \"#2a3f5f\", \"arrowhead\": 0, \"arrowwidth\": 1}, \"autotypenumbers\": \"strict\", \"coloraxis\": {\"colorbar\": {\"outlinewidth\": 0, \"ticks\": \"\"}}, \"colorscale\": {\"diverging\": [[0, \"#8e0152\"], [0.1, \"#c51b7d\"], [0.2, \"#de77ae\"], [0.3, \"#f1b6da\"], [0.4, \"#fde0ef\"], [0.5, \"#f7f7f7\"], [0.6, \"#e6f5d0\"], [0.7, \"#b8e186\"], [0.8, \"#7fbc41\"], [0.9, \"#4d9221\"], [1, \"#276419\"]], \"sequential\": [[0.0, \"#0d0887\"], [0.1111111111111111, \"#46039f\"], [0.2222222222222222, \"#7201a8\"], [0.3333333333333333, \"#9c179e\"], [0.4444444444444444, \"#bd3786\"], [0.5555555555555556, \"#d8576b\"], [0.6666666666666666, \"#ed7953\"], [0.7777777777777778, \"#fb9f3a\"], [0.8888888888888888, \"#fdca26\"], [1.0, \"#f0f921\"]], \"sequentialminus\": [[0.0, \"#0d0887\"], [0.1111111111111111, \"#46039f\"], [0.2222222222222222, \"#7201a8\"], [0.3333333333333333, \"#9c179e\"], [0.4444444444444444, \"#bd3786\"], [0.5555555555555556, \"#d8576b\"], [0.6666666666666666, \"#ed7953\"], [0.7777777777777778, \"#fb9f3a\"], [0.8888888888888888, \"#fdca26\"], [1.0, \"#f0f921\"]]}, \"colorway\": [\"#636efa\", \"#EF553B\", \"#00cc96\", \"#ab63fa\", \"#FFA15A\", \"#19d3f3\", \"#FF6692\", \"#B6E880\", \"#FF97FF\", \"#FECB52\"], \"font\": {\"color\": \"#2a3f5f\"}, \"geo\": {\"bgcolor\": \"white\", \"lakecolor\": \"white\", \"landcolor\": \"#E5ECF6\", \"showlakes\": true, \"showland\": true, \"subunitcolor\": \"white\"}, \"hoverlabel\": {\"align\": \"left\"}, \"hovermode\": \"closest\", \"mapbox\": {\"style\": \"light\"}, \"paper_bgcolor\": \"white\", \"plot_bgcolor\": \"#E5ECF6\", \"polar\": {\"angularaxis\": {\"gridcolor\": \"white\", \"linecolor\": \"white\", \"ticks\": \"\"}, \"bgcolor\": \"#E5ECF6\", \"radialaxis\": {\"gridcolor\": \"white\", \"linecolor\": \"white\", \"ticks\": \"\"}}, \"scene\": {\"xaxis\": {\"backgroundcolor\": \"#E5ECF6\", \"gridcolor\": \"white\", \"gridwidth\": 2, \"linecolor\": \"white\", \"showbackground\": true, \"ticks\": \"\", \"zerolinecolor\": \"white\"}, \"yaxis\": {\"backgroundcolor\": \"#E5ECF6\", \"gridcolor\": \"white\", \"gridwidth\": 2, \"linecolor\": \"white\", \"showbackground\": true, \"ticks\": \"\", \"zerolinecolor\": \"white\"}, \"zaxis\": {\"backgroundcolor\": \"#E5ECF6\", \"gridcolor\": \"white\", \"gridwidth\": 2, \"linecolor\": \"white\", \"showbackground\": true, \"ticks\": \"\", \"zerolinecolor\": \"white\"}}, \"shapedefaults\": {\"line\": {\"color\": \"#2a3f5f\"}}, \"ternary\": {\"aaxis\": {\"gridcolor\": \"white\", \"linecolor\": \"white\", \"ticks\": \"\"}, \"baxis\": {\"gridcolor\": \"white\", \"linecolor\": \"white\", \"ticks\": \"\"}, \"bgcolor\": \"#E5ECF6\", \"caxis\": {\"gridcolor\": \"white\", \"linecolor\": \"white\", \"ticks\": \"\"}}, \"title\": {\"x\": 0.05}, \"xaxis\": {\"automargin\": true, \"gridcolor\": \"white\", \"linecolor\": \"white\", \"ticks\": \"\", \"title\": {\"standoff\": 15}, \"zerolinecolor\": \"white\", \"zerolinewidth\": 2}, \"yaxis\": {\"automargin\": true, \"gridcolor\": \"white\", \"linecolor\": \"white\", \"ticks\": \"\", \"title\": {\"standoff\": 15}, \"zerolinecolor\": \"white\", \"zerolinewidth\": 2}}}, \"title\": {\"text\": \"Confusion matrix Random Forest\"}, \"width\": 400, \"xaxis\": {\"anchor\": \"y\", \"domain\": [0.0, 1.0]}, \"yaxis\": {\"anchor\": \"x\", \"domain\": [0.0, 1.0]}},                        {\"responsive\": true}                    ).then(function(){\n",
       "                            \n",
       "var gd = document.getElementById('278fddcf-299f-4be2-8007-20074355f1db');\n",
       "var x = new MutationObserver(function (mutations, observer) {{\n",
       "        var display = window.getComputedStyle(gd).display;\n",
       "        if (!display || display === 'none') {{\n",
       "            console.log([gd, 'removed!']);\n",
       "            Plotly.purge(gd);\n",
       "            observer.disconnect();\n",
       "        }}\n",
       "}});\n",
       "\n",
       "// Listen for the removal of the full notebook cells\n",
       "var notebookContainer = gd.closest('#notebook-container');\n",
       "if (notebookContainer) {{\n",
       "    x.observe(notebookContainer, {childList: true});\n",
       "}}\n",
       "\n",
       "// Listen for the clearing of the current output cell\n",
       "var outputEl = gd.closest('.output');\n",
       "if (outputEl) {{\n",
       "    x.observe(outputEl, {childList: true});\n",
       "}}\n",
       "\n",
       "                        })                };                            </script>        </div>\n",
       "</body>\n",
       "</html>"
      ]
     },
     "metadata": {
      "tags": []
     },
     "output_type": "display_data"
    }
   ],
   "source": [
    "fig = make_subplots(rows=1, cols=1)\n",
    "trace_cf = ff.create_annotated_heatmap(z = bla_cf,x = [\"0\",\"1\"],y = [\"1\",\"0\"],showscale  = False,colorscale=cmap)\n",
    "fig.add_trace(go.Heatmap(trace_cf.data[0]))\n",
    "fig.add_trace(go.Scatter(x=[0],y=[0],mode=\"text\",text=[str(bla_cf[0][0])],textfont=dict(family=\"sans serif\",size=18,color=\"#ffffff\"),name=\"\"))\n",
    "fig.add_trace(go.Scatter(x=[0],y=[1],mode=\"text\",text=[str(bla_cf[1][0])],textfont=dict(family=\"sans serif\",size=18,color=\"#ffffff\"),name=\"\"))\n",
    "fig.add_trace(go.Scatter(x=[1],y=[0],mode=\"text\",text=[str(bla_cf[0][1])],textfont=dict(family=\"sans serif\",size=18,color=\"#ffffff\"),name=\"\"))\n",
    "fig.add_trace(go.Scatter(x=[1],y=[1],mode=\"text\",text=[str(bla_cf[1][1])],textfont=dict(family=\"sans serif\",size=18,color=\"#ffffff\"),name=\"\"))\n",
    "fig.update_layout(height=400, width= 400,showlegend=False, title=\"Confusion matrix Random Forest\")\n",
    "fig.show()"
   ]
  },
  {
   "cell_type": "code",
   "execution_count": 29,
   "metadata": {
    "colab": {
     "base_uri": "https://localhost:8080/",
     "height": 205
    },
    "executionInfo": {
     "elapsed": 226,
     "status": "ok",
     "timestamp": 1625148519685,
     "user": {
      "displayName": "Noemi Tomasello",
      "photoUrl": "https://lh3.googleusercontent.com/a-/AOh14GjIW9yCqcM8LQ4exswU2SMdZkf4dyrZ2hNdGKNq=s64",
      "userId": "14936482853525964477"
     },
     "user_tz": -120
    },
    "id": "f-hm6tPpwB9X",
    "outputId": "56a4d7f7-012d-431c-bb61-4fcbdf368825",
    "slideshow": {
     "slide_type": "skip"
    }
   },
   "outputs": [
    {
     "data": {
      "text/html": [
       "<div>\n",
       "<style scoped>\n",
       "    .dataframe tbody tr th:only-of-type {\n",
       "        vertical-align: middle;\n",
       "    }\n",
       "\n",
       "    .dataframe tbody tr th {\n",
       "        vertical-align: top;\n",
       "    }\n",
       "\n",
       "    .dataframe thead th {\n",
       "        text-align: right;\n",
       "    }\n",
       "</style>\n",
       "<table border=\"1\" class=\"dataframe\">\n",
       "  <thead>\n",
       "    <tr style=\"text-align: right;\">\n",
       "      <th></th>\n",
       "      <th>Algorithm</th>\n",
       "      <th>Configuration</th>\n",
       "      <th>Accuracy</th>\n",
       "      <th>Precision</th>\n",
       "      <th>Recall</th>\n",
       "      <th>F1-score</th>\n",
       "    </tr>\n",
       "  </thead>\n",
       "  <tbody>\n",
       "    <tr>\n",
       "      <th>0</th>\n",
       "      <td>Random Forest</td>\n",
       "      <td>Test Random Forest with Iso, PCA, SMOTE</td>\n",
       "      <td>0.791588</td>\n",
       "      <td>0.738663</td>\n",
       "      <td>0.691234</td>\n",
       "      <td>0.714162</td>\n",
       "    </tr>\n",
       "    <tr>\n",
       "      <th>1</th>\n",
       "      <td>Random Forest</td>\n",
       "      <td>Test Random Forest with Iso, PCA, Random Under...</td>\n",
       "      <td>0.774763</td>\n",
       "      <td>0.780430</td>\n",
       "      <td>0.650423</td>\n",
       "      <td>0.709520</td>\n",
       "    </tr>\n",
       "    <tr>\n",
       "      <th>2</th>\n",
       "      <td>Random Forest</td>\n",
       "      <td>Test Random Forest with LOF, PCA, SMOTE</td>\n",
       "      <td>0.794953</td>\n",
       "      <td>0.708831</td>\n",
       "      <td>0.709254</td>\n",
       "      <td>0.709042</td>\n",
       "    </tr>\n",
       "    <tr>\n",
       "      <th>3</th>\n",
       "      <td>Random Forest</td>\n",
       "      <td>Test Random Forest with LOF, PCA, Random Under...</td>\n",
       "      <td>0.785699</td>\n",
       "      <td>0.771480</td>\n",
       "      <td>0.670295</td>\n",
       "      <td>0.717337</td>\n",
       "    </tr>\n",
       "    <tr>\n",
       "      <th>4</th>\n",
       "      <td>Random Forest</td>\n",
       "      <td>Test Random Forest with no preprocessing</td>\n",
       "      <td>0.885594</td>\n",
       "      <td>0.764320</td>\n",
       "      <td>0.895804</td>\n",
       "      <td>0.824855</td>\n",
       "    </tr>\n",
       "  </tbody>\n",
       "</table>\n",
       "</div>"
      ],
      "text/plain": [
       "       Algorithm  ...  F1-score\n",
       "0  Random Forest  ...  0.714162\n",
       "1  Random Forest  ...  0.709520\n",
       "2  Random Forest  ...  0.709042\n",
       "3  Random Forest  ...  0.717337\n",
       "4  Random Forest  ...  0.824855\n",
       "\n",
       "[5 rows x 6 columns]"
      ]
     },
     "execution_count": 29,
     "metadata": {
      "tags": []
     },
     "output_type": "execute_result"
    }
   ],
   "source": [
    "total_results"
   ]
  },
  {
   "cell_type": "code",
   "execution_count": 74,
   "metadata": {
    "colab": {
     "base_uri": "https://localhost:8080/",
     "height": 667
    },
    "executionInfo": {
     "elapsed": 291,
     "status": "ok",
     "timestamp": 1625151948487,
     "user": {
      "displayName": "Noemi Tomasello",
      "photoUrl": "https://lh3.googleusercontent.com/a-/AOh14GjIW9yCqcM8LQ4exswU2SMdZkf4dyrZ2hNdGKNq=s64",
      "userId": "14936482853525964477"
     },
     "user_tz": -120
    },
    "id": "ywel4tfymTaJ",
    "outputId": "c33bf4b2-19f9-4663-e3be-bbfa13c827d6",
    "slideshow": {
     "slide_type": "subslide"
    }
   },
   "outputs": [
    {
     "data": {
      "text/html": [
       "<html>\n",
       "<head><meta charset=\"utf-8\" /></head>\n",
       "<body>\n",
       "    <div>            <script src=\"https://cdnjs.cloudflare.com/ajax/libs/mathjax/2.7.5/MathJax.js?config=TeX-AMS-MML_SVG\"></script><script type=\"text/javascript\">if (window.MathJax) {MathJax.Hub.Config({SVG: {font: \"STIX-Web\"}});}</script>                <script type=\"text/javascript\">window.PlotlyConfig = {MathJaxConfig: 'local'};</script>\n",
       "        <script src=\"https://cdn.plot.ly/plotly-latest.min.js\"></script>                <div id=\"ad6ca054-ff64-4f27-8e14-8a2639e1eeb3\" class=\"plotly-graph-div\" style=\"height:650px; width:900px;\"></div>            <script type=\"text/javascript\">                                    window.PLOTLYENV=window.PLOTLYENV || {};                                    if (document.getElementById(\"ad6ca054-ff64-4f27-8e14-8a2639e1eeb3\")) {                    Plotly.newPlot(                        \"ad6ca054-ff64-4f27-8e14-8a2639e1eeb3\",                        [{\"colorscale\": [[0.0, \"#78290f\"], [0.25, \"#ff7d00\"], [0.5, \"#ffecd1\"], [0.75, \"#15616d\"], [1.0, \"#202c39\"]], \"reversescale\": false, \"showscale\": false, \"type\": \"heatmap\", \"x\": [\"0\", \"1\"], \"xaxis\": \"x\", \"y\": [\"1\", \"0\"], \"yaxis\": \"y\", \"z\": [[2546, 533], [446, 1230]]}, {\"mode\": \"text\", \"name\": \"\", \"text\": [\"2546\"], \"textfont\": {\"color\": \"#ffffff\", \"family\": \"sans serif\", \"size\": 18}, \"type\": \"scatter\", \"x\": [0], \"xaxis\": \"x\", \"y\": [0], \"yaxis\": \"y\"}, {\"mode\": \"text\", \"name\": \"\", \"text\": [\"446\"], \"textfont\": {\"color\": \"#ffffff\", \"family\": \"sans serif\", \"size\": 18}, \"type\": \"scatter\", \"x\": [0], \"xaxis\": \"x\", \"y\": [1], \"yaxis\": \"y\"}, {\"mode\": \"text\", \"name\": \"\", \"text\": [\"533\"], \"textfont\": {\"color\": \"#ffffff\", \"family\": \"sans serif\", \"size\": 18}, \"type\": \"scatter\", \"x\": [1], \"xaxis\": \"x\", \"y\": [0], \"yaxis\": \"y\"}, {\"mode\": \"text\", \"name\": \"\", \"text\": [\"1230\"], \"textfont\": {\"color\": \"#ffffff\", \"family\": \"sans serif\", \"size\": 18}, \"type\": \"scatter\", \"x\": [1], \"xaxis\": \"x\", \"y\": [1], \"yaxis\": \"y\"}, {\"colorscale\": [[0.0, \"#78290f\"], [0.25, \"#ff7d00\"], [0.5, \"#ffecd1\"], [0.75, \"#15616d\"], [1.0, \"#202c39\"]], \"reversescale\": false, \"showscale\": false, \"type\": \"heatmap\", \"x\": [\"0\", \"1\"], \"xaxis\": \"x2\", \"y\": [\"1\", \"0\"], \"yaxis\": \"y2\", \"z\": [[2366, 713], [342, 1334]]}, {\"mode\": \"text\", \"name\": \"\", \"text\": [\"2366\"], \"textfont\": {\"color\": \"#ffffff\", \"family\": \"sans serif\", \"size\": 18}, \"type\": \"scatter\", \"x\": [0], \"xaxis\": \"x2\", \"y\": [0], \"yaxis\": \"y2\"}, {\"mode\": \"text\", \"name\": \"\", \"text\": [\"342\"], \"textfont\": {\"color\": \"#ffffff\", \"family\": \"sans serif\", \"size\": 18}, \"type\": \"scatter\", \"x\": [0], \"xaxis\": \"x2\", \"y\": [1], \"yaxis\": \"y2\"}, {\"mode\": \"text\", \"name\": \"\", \"text\": [\"713\"], \"textfont\": {\"color\": \"#ffffff\", \"family\": \"sans serif\", \"size\": 18}, \"type\": \"scatter\", \"x\": [1], \"xaxis\": \"x2\", \"y\": [0], \"yaxis\": \"y2\"}, {\"mode\": \"text\", \"name\": \"\", \"text\": [\"1334\"], \"textfont\": {\"color\": \"#ffffff\", \"family\": \"sans serif\", \"size\": 18}, \"type\": \"scatter\", \"x\": [1], \"xaxis\": \"x2\", \"y\": [1], \"yaxis\": \"y2\"}, {\"colorscale\": [[0.0, \"#78290f\"], [0.25, \"#ff7d00\"], [0.5, \"#ffecd1\"], [0.75, \"#15616d\"], [1.0, \"#202c39\"]], \"reversescale\": false, \"showscale\": false, \"type\": \"heatmap\", \"x\": [\"0\", \"1\"], \"xaxis\": \"x3\", \"y\": [\"1\", \"0\"], \"yaxis\": \"y3\", \"z\": [[2597, 482], [479, 1197]]}, {\"mode\": \"text\", \"name\": \"\", \"text\": [\"2597\"], \"textfont\": {\"color\": \"#ffffff\", \"family\": \"sans serif\", \"size\": 18}, \"type\": \"scatter\", \"x\": [0], \"xaxis\": \"x5\", \"y\": [0], \"yaxis\": \"y5\"}, {\"mode\": \"text\", \"name\": \"\", \"text\": [\"479\"], \"textfont\": {\"color\": \"#ffffff\", \"family\": \"sans serif\", \"size\": 18}, \"type\": \"scatter\", \"x\": [0], \"xaxis\": \"x5\", \"y\": [1], \"yaxis\": \"y5\"}, {\"mode\": \"text\", \"name\": \"\", \"text\": [\"482\"], \"textfont\": {\"color\": \"#ffffff\", \"family\": \"sans serif\", \"size\": 18}, \"type\": \"scatter\", \"x\": [1], \"xaxis\": \"x5\", \"y\": [0], \"yaxis\": \"y5\"}, {\"mode\": \"text\", \"name\": \"\", \"text\": [\"1197\"], \"textfont\": {\"color\": \"#ffffff\", \"family\": \"sans serif\", \"size\": 18}, \"type\": \"scatter\", \"x\": [1], \"xaxis\": \"x5\", \"y\": [1], \"yaxis\": \"y5\"}, {\"colorscale\": [[0.0, \"#78290f\"], [0.25, \"#ff7d00\"], [0.5, \"#ffecd1\"], [0.75, \"#15616d\"], [1.0, \"#202c39\"]], \"reversescale\": false, \"showscale\": false, \"type\": \"heatmap\", \"x\": [\"0\", \"1\"], \"xaxis\": \"x4\", \"y\": [\"1\", \"0\"], \"yaxis\": \"y4\", \"z\": [[2466, 613], [370, 1306]]}, {\"mode\": \"text\", \"name\": \"\", \"text\": [\"2466\"], \"textfont\": {\"color\": \"#ffffff\", \"family\": \"sans serif\", \"size\": 18}, \"type\": \"scatter\", \"x\": [0], \"xaxis\": \"x4\", \"y\": [0], \"yaxis\": \"y4\"}, {\"mode\": \"text\", \"name\": \"\", \"text\": [\"370\"], \"textfont\": {\"color\": \"#ffffff\", \"family\": \"sans serif\", \"size\": 18}, \"type\": \"scatter\", \"x\": [0], \"xaxis\": \"x4\", \"y\": [1], \"yaxis\": \"y4\"}, {\"mode\": \"text\", \"name\": \"\", \"text\": [\"613\"], \"textfont\": {\"color\": \"#ffffff\", \"family\": \"sans serif\", \"size\": 18}, \"type\": \"scatter\", \"x\": [1], \"xaxis\": \"x4\", \"y\": [0], \"yaxis\": \"y4\"}, {\"mode\": \"text\", \"name\": \"\", \"text\": [\"1306\"], \"textfont\": {\"color\": \"#ffffff\", \"family\": \"sans serif\", \"size\": 18}, \"type\": \"scatter\", \"x\": [1], \"xaxis\": \"x4\", \"y\": [1], \"yaxis\": \"y4\"}, {\"colorscale\": [[0.0, \"#78290f\"], [0.25, \"#ff7d00\"], [0.5, \"#ffecd1\"], [0.75, \"#15616d\"], [1.0, \"#202c39\"]], \"reversescale\": false, \"showscale\": false, \"type\": \"heatmap\", \"x\": [\"0\", \"1\"], \"xaxis\": \"x5\", \"y\": [\"1\", \"0\"], \"yaxis\": \"y5\", \"z\": [[2930, 149], [395, 1281]]}, {\"mode\": \"text\", \"name\": \"\", \"text\": [\"2930\"], \"textfont\": {\"color\": \"#ffffff\", \"family\": \"sans serif\", \"size\": 18}, \"type\": \"scatter\", \"x\": [0], \"xaxis\": \"x3\", \"y\": [0], \"yaxis\": \"y3\"}, {\"mode\": \"text\", \"name\": \"\", \"text\": [\"395\"], \"textfont\": {\"color\": \"#ffffff\", \"family\": \"sans serif\", \"size\": 18}, \"type\": \"scatter\", \"x\": [0], \"xaxis\": \"x3\", \"y\": [1], \"yaxis\": \"y3\"}, {\"mode\": \"text\", \"name\": \"\", \"text\": [\"149\"], \"textfont\": {\"color\": \"#ffffff\", \"family\": \"sans serif\", \"size\": 18}, \"type\": \"scatter\", \"x\": [1], \"xaxis\": \"x3\", \"y\": [0], \"yaxis\": \"y3\"}, {\"mode\": \"text\", \"name\": \"\", \"text\": [\"1281\"], \"textfont\": {\"color\": \"#ffffff\", \"family\": \"sans serif\", \"size\": 18}, \"type\": \"scatter\", \"x\": [1], \"xaxis\": \"x3\", \"y\": [1], \"yaxis\": \"y3\"}],                        {\"annotations\": [{\"font\": {\"size\": 16}, \"showarrow\": false, \"text\": \"Test Random Forest \\n with Iso, PCA, SMOTE\", \"x\": 0.225, \"xanchor\": \"center\", \"xref\": \"paper\", \"y\": 1.0, \"yanchor\": \"bottom\", \"yref\": \"paper\"}, {\"font\": {\"size\": 16}, \"showarrow\": false, \"text\": \"Test Random Forest \\n with Iso, PCA, Random Undersampling\", \"x\": 0.775, \"xanchor\": \"center\", \"xref\": \"paper\", \"y\": 1.0, \"yanchor\": \"bottom\", \"yref\": \"paper\"}, {\"font\": {\"size\": 16}, \"showarrow\": false, \"text\": \"Test Random Forest \\n with no preprocessing\", \"x\": 0.225, \"xanchor\": \"center\", \"xref\": \"paper\", \"y\": 0.6111111111111112, \"yanchor\": \"bottom\", \"yref\": \"paper\"}, {\"font\": {\"size\": 16}, \"showarrow\": false, \"text\": \"Test Random Forest \\n with LOF, PCA, SMOTE\", \"x\": 0.775, \"xanchor\": \"center\", \"xref\": \"paper\", \"y\": 0.6111111111111112, \"yanchor\": \"bottom\", \"yref\": \"paper\"}, {\"font\": {\"size\": 16}, \"showarrow\": false, \"text\": \"Test Random Forest \\n with LOF, PCA, Random Undersampling\", \"x\": 0.225, \"xanchor\": \"center\", \"xref\": \"paper\", \"y\": 0.22222222222222224, \"yanchor\": \"bottom\", \"yref\": \"paper\"}], \"autosize\": false, \"height\": 650, \"template\": {\"data\": {\"bar\": [{\"error_x\": {\"color\": \"#2a3f5f\"}, \"error_y\": {\"color\": \"#2a3f5f\"}, \"marker\": {\"line\": {\"color\": \"#E5ECF6\", \"width\": 0.5}}, \"type\": \"bar\"}], \"barpolar\": [{\"marker\": {\"line\": {\"color\": \"#E5ECF6\", \"width\": 0.5}}, \"type\": \"barpolar\"}], \"carpet\": [{\"aaxis\": {\"endlinecolor\": \"#2a3f5f\", \"gridcolor\": \"white\", \"linecolor\": \"white\", \"minorgridcolor\": \"white\", \"startlinecolor\": \"#2a3f5f\"}, \"baxis\": {\"endlinecolor\": \"#2a3f5f\", \"gridcolor\": \"white\", \"linecolor\": \"white\", \"minorgridcolor\": \"white\", \"startlinecolor\": \"#2a3f5f\"}, \"type\": \"carpet\"}], \"choropleth\": [{\"colorbar\": {\"outlinewidth\": 0, \"ticks\": \"\"}, \"type\": \"choropleth\"}], \"contour\": [{\"colorbar\": {\"outlinewidth\": 0, \"ticks\": \"\"}, \"colorscale\": [[0.0, \"#0d0887\"], [0.1111111111111111, \"#46039f\"], [0.2222222222222222, \"#7201a8\"], [0.3333333333333333, \"#9c179e\"], [0.4444444444444444, \"#bd3786\"], [0.5555555555555556, \"#d8576b\"], [0.6666666666666666, \"#ed7953\"], [0.7777777777777778, \"#fb9f3a\"], [0.8888888888888888, \"#fdca26\"], [1.0, \"#f0f921\"]], \"type\": \"contour\"}], \"contourcarpet\": [{\"colorbar\": {\"outlinewidth\": 0, \"ticks\": \"\"}, \"type\": \"contourcarpet\"}], \"heatmap\": [{\"colorbar\": {\"outlinewidth\": 0, \"ticks\": \"\"}, \"colorscale\": [[0.0, \"#0d0887\"], [0.1111111111111111, \"#46039f\"], [0.2222222222222222, \"#7201a8\"], [0.3333333333333333, \"#9c179e\"], [0.4444444444444444, \"#bd3786\"], [0.5555555555555556, \"#d8576b\"], [0.6666666666666666, \"#ed7953\"], [0.7777777777777778, \"#fb9f3a\"], [0.8888888888888888, \"#fdca26\"], [1.0, \"#f0f921\"]], \"type\": \"heatmap\"}], \"heatmapgl\": [{\"colorbar\": {\"outlinewidth\": 0, \"ticks\": \"\"}, \"colorscale\": [[0.0, \"#0d0887\"], [0.1111111111111111, \"#46039f\"], [0.2222222222222222, \"#7201a8\"], [0.3333333333333333, \"#9c179e\"], [0.4444444444444444, \"#bd3786\"], [0.5555555555555556, \"#d8576b\"], [0.6666666666666666, \"#ed7953\"], [0.7777777777777778, \"#fb9f3a\"], [0.8888888888888888, \"#fdca26\"], [1.0, \"#f0f921\"]], \"type\": \"heatmapgl\"}], \"histogram\": [{\"marker\": {\"colorbar\": {\"outlinewidth\": 0, \"ticks\": \"\"}}, \"type\": \"histogram\"}], \"histogram2d\": [{\"colorbar\": {\"outlinewidth\": 0, \"ticks\": \"\"}, \"colorscale\": [[0.0, \"#0d0887\"], [0.1111111111111111, \"#46039f\"], [0.2222222222222222, \"#7201a8\"], [0.3333333333333333, \"#9c179e\"], [0.4444444444444444, \"#bd3786\"], [0.5555555555555556, \"#d8576b\"], [0.6666666666666666, \"#ed7953\"], [0.7777777777777778, \"#fb9f3a\"], [0.8888888888888888, \"#fdca26\"], [1.0, \"#f0f921\"]], \"type\": \"histogram2d\"}], \"histogram2dcontour\": [{\"colorbar\": {\"outlinewidth\": 0, \"ticks\": \"\"}, \"colorscale\": [[0.0, \"#0d0887\"], [0.1111111111111111, \"#46039f\"], [0.2222222222222222, \"#7201a8\"], [0.3333333333333333, \"#9c179e\"], [0.4444444444444444, \"#bd3786\"], [0.5555555555555556, \"#d8576b\"], [0.6666666666666666, \"#ed7953\"], [0.7777777777777778, \"#fb9f3a\"], [0.8888888888888888, \"#fdca26\"], [1.0, \"#f0f921\"]], \"type\": \"histogram2dcontour\"}], \"mesh3d\": [{\"colorbar\": {\"outlinewidth\": 0, \"ticks\": \"\"}, \"type\": \"mesh3d\"}], \"parcoords\": [{\"line\": {\"colorbar\": {\"outlinewidth\": 0, \"ticks\": \"\"}}, \"type\": \"parcoords\"}], \"pie\": [{\"automargin\": true, \"type\": \"pie\"}], \"scatter\": [{\"marker\": {\"colorbar\": {\"outlinewidth\": 0, \"ticks\": \"\"}}, \"type\": \"scatter\"}], \"scatter3d\": [{\"line\": {\"colorbar\": {\"outlinewidth\": 0, \"ticks\": \"\"}}, \"marker\": {\"colorbar\": {\"outlinewidth\": 0, \"ticks\": \"\"}}, \"type\": \"scatter3d\"}], \"scattercarpet\": [{\"marker\": {\"colorbar\": {\"outlinewidth\": 0, \"ticks\": \"\"}}, \"type\": \"scattercarpet\"}], \"scattergeo\": [{\"marker\": {\"colorbar\": {\"outlinewidth\": 0, \"ticks\": \"\"}}, \"type\": \"scattergeo\"}], \"scattergl\": [{\"marker\": {\"colorbar\": {\"outlinewidth\": 0, \"ticks\": \"\"}}, \"type\": \"scattergl\"}], \"scattermapbox\": [{\"marker\": {\"colorbar\": {\"outlinewidth\": 0, \"ticks\": \"\"}}, \"type\": \"scattermapbox\"}], \"scatterpolar\": [{\"marker\": {\"colorbar\": {\"outlinewidth\": 0, \"ticks\": \"\"}}, \"type\": \"scatterpolar\"}], \"scatterpolargl\": [{\"marker\": {\"colorbar\": {\"outlinewidth\": 0, \"ticks\": \"\"}}, \"type\": \"scatterpolargl\"}], \"scatterternary\": [{\"marker\": {\"colorbar\": {\"outlinewidth\": 0, \"ticks\": \"\"}}, \"type\": \"scatterternary\"}], \"surface\": [{\"colorbar\": {\"outlinewidth\": 0, \"ticks\": \"\"}, \"colorscale\": [[0.0, \"#0d0887\"], [0.1111111111111111, \"#46039f\"], [0.2222222222222222, \"#7201a8\"], [0.3333333333333333, \"#9c179e\"], [0.4444444444444444, \"#bd3786\"], [0.5555555555555556, \"#d8576b\"], [0.6666666666666666, \"#ed7953\"], [0.7777777777777778, \"#fb9f3a\"], [0.8888888888888888, \"#fdca26\"], [1.0, \"#f0f921\"]], \"type\": \"surface\"}], \"table\": [{\"cells\": {\"fill\": {\"color\": \"#EBF0F8\"}, \"line\": {\"color\": \"white\"}}, \"header\": {\"fill\": {\"color\": \"#C8D4E3\"}, \"line\": {\"color\": \"white\"}}, \"type\": \"table\"}]}, \"layout\": {\"annotationdefaults\": {\"arrowcolor\": \"#2a3f5f\", \"arrowhead\": 0, \"arrowwidth\": 1}, \"autotypenumbers\": \"strict\", \"coloraxis\": {\"colorbar\": {\"outlinewidth\": 0, \"ticks\": \"\"}}, \"colorscale\": {\"diverging\": [[0, \"#8e0152\"], [0.1, \"#c51b7d\"], [0.2, \"#de77ae\"], [0.3, \"#f1b6da\"], [0.4, \"#fde0ef\"], [0.5, \"#f7f7f7\"], [0.6, \"#e6f5d0\"], [0.7, \"#b8e186\"], [0.8, \"#7fbc41\"], [0.9, \"#4d9221\"], [1, \"#276419\"]], \"sequential\": [[0.0, \"#0d0887\"], [0.1111111111111111, \"#46039f\"], [0.2222222222222222, \"#7201a8\"], [0.3333333333333333, \"#9c179e\"], [0.4444444444444444, \"#bd3786\"], [0.5555555555555556, \"#d8576b\"], [0.6666666666666666, \"#ed7953\"], [0.7777777777777778, \"#fb9f3a\"], [0.8888888888888888, \"#fdca26\"], [1.0, \"#f0f921\"]], \"sequentialminus\": [[0.0, \"#0d0887\"], [0.1111111111111111, \"#46039f\"], [0.2222222222222222, \"#7201a8\"], [0.3333333333333333, \"#9c179e\"], [0.4444444444444444, \"#bd3786\"], [0.5555555555555556, \"#d8576b\"], [0.6666666666666666, \"#ed7953\"], [0.7777777777777778, \"#fb9f3a\"], [0.8888888888888888, \"#fdca26\"], [1.0, \"#f0f921\"]]}, \"colorway\": [\"#636efa\", \"#EF553B\", \"#00cc96\", \"#ab63fa\", \"#FFA15A\", \"#19d3f3\", \"#FF6692\", \"#B6E880\", \"#FF97FF\", \"#FECB52\"], \"font\": {\"color\": \"#2a3f5f\"}, \"geo\": {\"bgcolor\": \"white\", \"lakecolor\": \"white\", \"landcolor\": \"#E5ECF6\", \"showlakes\": true, \"showland\": true, \"subunitcolor\": \"white\"}, \"hoverlabel\": {\"align\": \"left\"}, \"hovermode\": \"closest\", \"mapbox\": {\"style\": \"light\"}, \"paper_bgcolor\": \"white\", \"plot_bgcolor\": \"#E5ECF6\", \"polar\": {\"angularaxis\": {\"gridcolor\": \"white\", \"linecolor\": \"white\", \"ticks\": \"\"}, \"bgcolor\": \"#E5ECF6\", \"radialaxis\": {\"gridcolor\": \"white\", \"linecolor\": \"white\", \"ticks\": \"\"}}, \"scene\": {\"xaxis\": {\"backgroundcolor\": \"#E5ECF6\", \"gridcolor\": \"white\", \"gridwidth\": 2, \"linecolor\": \"white\", \"showbackground\": true, \"ticks\": \"\", \"zerolinecolor\": \"white\"}, \"yaxis\": {\"backgroundcolor\": \"#E5ECF6\", \"gridcolor\": \"white\", \"gridwidth\": 2, \"linecolor\": \"white\", \"showbackground\": true, \"ticks\": \"\", \"zerolinecolor\": \"white\"}, \"zaxis\": {\"backgroundcolor\": \"#E5ECF6\", \"gridcolor\": \"white\", \"gridwidth\": 2, \"linecolor\": \"white\", \"showbackground\": true, \"ticks\": \"\", \"zerolinecolor\": \"white\"}}, \"shapedefaults\": {\"line\": {\"color\": \"#2a3f5f\"}}, \"ternary\": {\"aaxis\": {\"gridcolor\": \"white\", \"linecolor\": \"white\", \"ticks\": \"\"}, \"baxis\": {\"gridcolor\": \"white\", \"linecolor\": \"white\", \"ticks\": \"\"}, \"bgcolor\": \"#E5ECF6\", \"caxis\": {\"gridcolor\": \"white\", \"linecolor\": \"white\", \"ticks\": \"\"}}, \"title\": {\"x\": 0.05}, \"xaxis\": {\"automargin\": true, \"gridcolor\": \"white\", \"linecolor\": \"white\", \"ticks\": \"\", \"title\": {\"standoff\": 15}, \"zerolinecolor\": \"white\", \"zerolinewidth\": 2}, \"yaxis\": {\"automargin\": true, \"gridcolor\": \"white\", \"linecolor\": \"white\", \"ticks\": \"\", \"title\": {\"standoff\": 15}, \"zerolinecolor\": \"white\", \"zerolinewidth\": 2}}}, \"width\": 900, \"xaxis\": {\"anchor\": \"y\", \"domain\": [0.0, 0.45], \"title\": {\"text\": \"Predicted\"}}, \"xaxis2\": {\"anchor\": \"y2\", \"domain\": [0.55, 1.0]}, \"xaxis3\": {\"anchor\": \"y3\", \"domain\": [0.0, 0.45]}, \"xaxis4\": {\"anchor\": \"y4\", \"domain\": [0.55, 1.0]}, \"xaxis5\": {\"anchor\": \"y5\", \"domain\": [0.0, 0.45]}, \"xaxis6\": {\"anchor\": \"y6\", \"domain\": [0.55, 1.0]}, \"yaxis\": {\"anchor\": \"x\", \"domain\": [0.7777777777777778, 1.0], \"title\": {\"text\": \"Ground Truth\"}}, \"yaxis2\": {\"anchor\": \"x2\", \"domain\": [0.7777777777777778, 1.0]}, \"yaxis3\": {\"anchor\": \"x3\", \"domain\": [0.3888888888888889, 0.6111111111111112]}, \"yaxis4\": {\"anchor\": \"x4\", \"domain\": [0.3888888888888889, 0.6111111111111112]}, \"yaxis5\": {\"anchor\": \"x5\", \"domain\": [0.0, 0.22222222222222224]}, \"yaxis6\": {\"anchor\": \"x6\", \"domain\": [0.0, 0.22222222222222224]}},                        {\"responsive\": true}                    ).then(function(){\n",
       "                            \n",
       "var gd = document.getElementById('ad6ca054-ff64-4f27-8e14-8a2639e1eeb3');\n",
       "var x = new MutationObserver(function (mutations, observer) {{\n",
       "        var display = window.getComputedStyle(gd).display;\n",
       "        if (!display || display === 'none') {{\n",
       "            console.log([gd, 'removed!']);\n",
       "            Plotly.purge(gd);\n",
       "            observer.disconnect();\n",
       "        }}\n",
       "}});\n",
       "\n",
       "// Listen for the removal of the full notebook cells\n",
       "var notebookContainer = gd.closest('#notebook-container');\n",
       "if (notebookContainer) {{\n",
       "    x.observe(notebookContainer, {childList: true});\n",
       "}}\n",
       "\n",
       "// Listen for the clearing of the current output cell\n",
       "var outputEl = gd.closest('.output');\n",
       "if (outputEl) {{\n",
       "    x.observe(outputEl, {childList: true});\n",
       "}}\n",
       "\n",
       "                        })                };                            </script>        </div>\n",
       "</body>\n",
       "</html>"
      ]
     },
     "metadata": {
      "tags": []
     },
     "output_type": "display_data"
    }
   ],
   "source": [
    "print_cfs(rnd_cfs)"
   ]
  },
  {
   "cell_type": "code",
   "execution_count": 31,
   "metadata": {
    "colab": {
     "base_uri": "https://localhost:8080/",
     "height": 417
    },
    "executionInfo": {
     "elapsed": 21164,
     "status": "ok",
     "timestamp": 1625148568881,
     "user": {
      "displayName": "Noemi Tomasello",
      "photoUrl": "https://lh3.googleusercontent.com/a-/AOh14GjIW9yCqcM8LQ4exswU2SMdZkf4dyrZ2hNdGKNq=s64",
      "userId": "14936482853525964477"
     },
     "user_tz": -120
    },
    "id": "Dn_oRMLZN1lM",
    "outputId": "481cf47e-7d5e-46c1-f7ae-723484b091a7",
    "slideshow": {
     "slide_type": "subslide"
    }
   },
   "outputs": [
    {
     "data": {
      "text/html": [
       "<html>\n",
       "<head><meta charset=\"utf-8\" /></head>\n",
       "<body>\n",
       "    <div>            <script src=\"https://cdnjs.cloudflare.com/ajax/libs/mathjax/2.7.5/MathJax.js?config=TeX-AMS-MML_SVG\"></script><script type=\"text/javascript\">if (window.MathJax) {MathJax.Hub.Config({SVG: {font: \"STIX-Web\"}});}</script>                <script type=\"text/javascript\">window.PlotlyConfig = {MathJaxConfig: 'local'};</script>\n",
       "        <script src=\"https://cdn.plot.ly/plotly-latest.min.js\"></script>                <div id=\"e81ec66b-61a9-4f79-819b-198413e25d60\" class=\"plotly-graph-div\" style=\"height:400px; width:600px;\"></div>            <script type=\"text/javascript\">                                    window.PLOTLYENV=window.PLOTLYENV || {};                                    if (document.getElementById(\"e81ec66b-61a9-4f79-819b-198413e25d60\")) {                    Plotly.newPlot(                        \"e81ec66b-61a9-4f79-819b-198413e25d60\",                        [{\"marker\": {\"color\": \"#ff7d00\"}, \"name\": \"Training accuracy\", \"type\": \"scatter\", \"x\": [1141, 3708, 6276, 8844, 11412], \"y\": [0.9961437335670464, 0.9963861920172601, 0.9964945825366476, 0.9961103573043871, 0.996477392218717]}, {\"fill\": \"tonexty\", \"fillcolor\": \"rgba(254, 200, 154, 0.2)\", \"hoverinfo\": \"skip\", \"line\": {\"width\": 0}, \"mode\": \"lines\", \"showlegend\": false, \"type\": \"scatter\", \"x\": [1141, 3708, 6276, 8844, 11412], \"y\": [0.9965730919794537, 0.9967520134834481, 0.9972944487188026, 0.9966851318420235, 0.996878567232466]}, {\"fill\": \"tonexty\", \"fillcolor\": \"rgba(254, 200, 154, 0.2)\", \"hoverinfo\": \"skip\", \"line\": {\"width\": 0}, \"mode\": \"lines\", \"showlegend\": false, \"type\": \"scatter\", \"x\": [1141, 3708, 6276, 8844, 11412], \"y\": [0.9957143751546392, 0.9960203705510721, 0.9956947163544926, 0.9955355827667508, 0.996076217204968]}, {\"marker\": {\"color\": \"#15616d\"}, \"name\": \"Test accuracy\", \"type\": \"scatter\", \"x\": [1141, 3708, 6276, 8844, 11412], \"y\": [0.8501226778829303, 0.8614791447599017, 0.866105853487557, 0.8665264633718893, 0.8738170347003156]}, {\"fill\": \"tonexty\", \"fillcolor\": \"rgba(0,100,80,0.1)\", \"hoverinfo\": \"skip\", \"line\": {\"width\": 0}, \"mode\": \"lines\", \"showlegend\": false, \"type\": \"scatter\", \"x\": [1141, 3708, 6276, 8844, 11412], \"y\": [0.8554087325682465, 0.8653595099903534, 0.8705394709571236, 0.8684767511732554, 0.8773430848482187]}, {\"fill\": \"tonexty\", \"fillcolor\": \"rgba(0,100,80,0.2)\", \"hoverinfo\": \"skip\", \"line\": {\"width\": 0}, \"mode\": \"lines\", \"showlegend\": false, \"type\": \"scatter\", \"x\": [1141, 3708, 6276, 8844, 11412], \"y\": [0.8448366231976141, 0.8575987795294501, 0.8616722360179904, 0.8645761755705232, 0.8702909845524125]}],                        {\"annotations\": [{\"font\": {\"size\": 16}, \"showarrow\": false, \"text\": \"Confusion Matrix\", \"x\": 0.5, \"xanchor\": \"center\", \"xref\": \"paper\", \"y\": 1.0, \"yanchor\": \"bottom\", \"yref\": \"paper\"}], \"autosize\": false, \"height\": 400, \"template\": {\"data\": {\"bar\": [{\"error_x\": {\"color\": \"#2a3f5f\"}, \"error_y\": {\"color\": \"#2a3f5f\"}, \"marker\": {\"line\": {\"color\": \"#E5ECF6\", \"width\": 0.5}}, \"type\": \"bar\"}], \"barpolar\": [{\"marker\": {\"line\": {\"color\": \"#E5ECF6\", \"width\": 0.5}}, \"type\": \"barpolar\"}], \"carpet\": [{\"aaxis\": {\"endlinecolor\": \"#2a3f5f\", \"gridcolor\": \"white\", \"linecolor\": \"white\", \"minorgridcolor\": \"white\", \"startlinecolor\": \"#2a3f5f\"}, \"baxis\": {\"endlinecolor\": \"#2a3f5f\", \"gridcolor\": \"white\", \"linecolor\": \"white\", \"minorgridcolor\": \"white\", \"startlinecolor\": \"#2a3f5f\"}, \"type\": \"carpet\"}], \"choropleth\": [{\"colorbar\": {\"outlinewidth\": 0, \"ticks\": \"\"}, \"type\": \"choropleth\"}], \"contour\": [{\"colorbar\": {\"outlinewidth\": 0, \"ticks\": \"\"}, \"colorscale\": [[0.0, \"#0d0887\"], [0.1111111111111111, \"#46039f\"], [0.2222222222222222, \"#7201a8\"], [0.3333333333333333, \"#9c179e\"], [0.4444444444444444, \"#bd3786\"], [0.5555555555555556, \"#d8576b\"], [0.6666666666666666, \"#ed7953\"], [0.7777777777777778, \"#fb9f3a\"], [0.8888888888888888, \"#fdca26\"], [1.0, \"#f0f921\"]], \"type\": \"contour\"}], \"contourcarpet\": [{\"colorbar\": {\"outlinewidth\": 0, \"ticks\": \"\"}, \"type\": \"contourcarpet\"}], \"heatmap\": [{\"colorbar\": {\"outlinewidth\": 0, \"ticks\": \"\"}, \"colorscale\": [[0.0, \"#0d0887\"], [0.1111111111111111, \"#46039f\"], [0.2222222222222222, \"#7201a8\"], [0.3333333333333333, \"#9c179e\"], [0.4444444444444444, \"#bd3786\"], [0.5555555555555556, \"#d8576b\"], [0.6666666666666666, \"#ed7953\"], [0.7777777777777778, \"#fb9f3a\"], [0.8888888888888888, \"#fdca26\"], [1.0, \"#f0f921\"]], \"type\": \"heatmap\"}], \"heatmapgl\": [{\"colorbar\": {\"outlinewidth\": 0, \"ticks\": \"\"}, \"colorscale\": [[0.0, \"#0d0887\"], [0.1111111111111111, \"#46039f\"], [0.2222222222222222, \"#7201a8\"], [0.3333333333333333, \"#9c179e\"], [0.4444444444444444, \"#bd3786\"], [0.5555555555555556, \"#d8576b\"], [0.6666666666666666, \"#ed7953\"], [0.7777777777777778, \"#fb9f3a\"], [0.8888888888888888, \"#fdca26\"], [1.0, \"#f0f921\"]], \"type\": \"heatmapgl\"}], \"histogram\": [{\"marker\": {\"colorbar\": {\"outlinewidth\": 0, \"ticks\": \"\"}}, \"type\": \"histogram\"}], \"histogram2d\": [{\"colorbar\": {\"outlinewidth\": 0, \"ticks\": \"\"}, \"colorscale\": [[0.0, \"#0d0887\"], [0.1111111111111111, \"#46039f\"], [0.2222222222222222, \"#7201a8\"], [0.3333333333333333, \"#9c179e\"], [0.4444444444444444, \"#bd3786\"], [0.5555555555555556, \"#d8576b\"], [0.6666666666666666, \"#ed7953\"], [0.7777777777777778, \"#fb9f3a\"], [0.8888888888888888, \"#fdca26\"], [1.0, \"#f0f921\"]], \"type\": \"histogram2d\"}], \"histogram2dcontour\": [{\"colorbar\": {\"outlinewidth\": 0, \"ticks\": \"\"}, \"colorscale\": [[0.0, \"#0d0887\"], [0.1111111111111111, \"#46039f\"], [0.2222222222222222, \"#7201a8\"], [0.3333333333333333, \"#9c179e\"], [0.4444444444444444, \"#bd3786\"], [0.5555555555555556, \"#d8576b\"], [0.6666666666666666, \"#ed7953\"], [0.7777777777777778, \"#fb9f3a\"], [0.8888888888888888, \"#fdca26\"], [1.0, \"#f0f921\"]], \"type\": \"histogram2dcontour\"}], \"mesh3d\": [{\"colorbar\": {\"outlinewidth\": 0, \"ticks\": \"\"}, \"type\": \"mesh3d\"}], \"parcoords\": [{\"line\": {\"colorbar\": {\"outlinewidth\": 0, \"ticks\": \"\"}}, \"type\": \"parcoords\"}], \"pie\": [{\"automargin\": true, \"type\": \"pie\"}], \"scatter\": [{\"marker\": {\"colorbar\": {\"outlinewidth\": 0, \"ticks\": \"\"}}, \"type\": \"scatter\"}], \"scatter3d\": [{\"line\": {\"colorbar\": {\"outlinewidth\": 0, \"ticks\": \"\"}}, \"marker\": {\"colorbar\": {\"outlinewidth\": 0, \"ticks\": \"\"}}, \"type\": \"scatter3d\"}], \"scattercarpet\": [{\"marker\": {\"colorbar\": {\"outlinewidth\": 0, \"ticks\": \"\"}}, \"type\": \"scattercarpet\"}], \"scattergeo\": [{\"marker\": {\"colorbar\": {\"outlinewidth\": 0, \"ticks\": \"\"}}, \"type\": \"scattergeo\"}], \"scattergl\": [{\"marker\": {\"colorbar\": {\"outlinewidth\": 0, \"ticks\": \"\"}}, \"type\": \"scattergl\"}], \"scattermapbox\": [{\"marker\": {\"colorbar\": {\"outlinewidth\": 0, \"ticks\": \"\"}}, \"type\": \"scattermapbox\"}], \"scatterpolar\": [{\"marker\": {\"colorbar\": {\"outlinewidth\": 0, \"ticks\": \"\"}}, \"type\": \"scatterpolar\"}], \"scatterpolargl\": [{\"marker\": {\"colorbar\": {\"outlinewidth\": 0, \"ticks\": \"\"}}, \"type\": \"scatterpolargl\"}], \"scatterternary\": [{\"marker\": {\"colorbar\": {\"outlinewidth\": 0, \"ticks\": \"\"}}, \"type\": \"scatterternary\"}], \"surface\": [{\"colorbar\": {\"outlinewidth\": 0, \"ticks\": \"\"}, \"colorscale\": [[0.0, \"#0d0887\"], [0.1111111111111111, \"#46039f\"], [0.2222222222222222, \"#7201a8\"], [0.3333333333333333, \"#9c179e\"], [0.4444444444444444, \"#bd3786\"], [0.5555555555555556, \"#d8576b\"], [0.6666666666666666, \"#ed7953\"], [0.7777777777777778, \"#fb9f3a\"], [0.8888888888888888, \"#fdca26\"], [1.0, \"#f0f921\"]], \"type\": \"surface\"}], \"table\": [{\"cells\": {\"fill\": {\"color\": \"#EBF0F8\"}, \"line\": {\"color\": \"white\"}}, \"header\": {\"fill\": {\"color\": \"#C8D4E3\"}, \"line\": {\"color\": \"white\"}}, \"type\": \"table\"}]}, \"layout\": {\"annotationdefaults\": {\"arrowcolor\": \"#2a3f5f\", \"arrowhead\": 0, \"arrowwidth\": 1}, \"autotypenumbers\": \"strict\", \"coloraxis\": {\"colorbar\": {\"outlinewidth\": 0, \"ticks\": \"\"}}, \"colorscale\": {\"diverging\": [[0, \"#8e0152\"], [0.1, \"#c51b7d\"], [0.2, \"#de77ae\"], [0.3, \"#f1b6da\"], [0.4, \"#fde0ef\"], [0.5, \"#f7f7f7\"], [0.6, \"#e6f5d0\"], [0.7, \"#b8e186\"], [0.8, \"#7fbc41\"], [0.9, \"#4d9221\"], [1, \"#276419\"]], \"sequential\": [[0.0, \"#0d0887\"], [0.1111111111111111, \"#46039f\"], [0.2222222222222222, \"#7201a8\"], [0.3333333333333333, \"#9c179e\"], [0.4444444444444444, \"#bd3786\"], [0.5555555555555556, \"#d8576b\"], [0.6666666666666666, \"#ed7953\"], [0.7777777777777778, \"#fb9f3a\"], [0.8888888888888888, \"#fdca26\"], [1.0, \"#f0f921\"]], \"sequentialminus\": [[0.0, \"#0d0887\"], [0.1111111111111111, \"#46039f\"], [0.2222222222222222, \"#7201a8\"], [0.3333333333333333, \"#9c179e\"], [0.4444444444444444, \"#bd3786\"], [0.5555555555555556, \"#d8576b\"], [0.6666666666666666, \"#ed7953\"], [0.7777777777777778, \"#fb9f3a\"], [0.8888888888888888, \"#fdca26\"], [1.0, \"#f0f921\"]]}, \"colorway\": [\"#636efa\", \"#EF553B\", \"#00cc96\", \"#ab63fa\", \"#FFA15A\", \"#19d3f3\", \"#FF6692\", \"#B6E880\", \"#FF97FF\", \"#FECB52\"], \"font\": {\"color\": \"#2a3f5f\"}, \"geo\": {\"bgcolor\": \"white\", \"lakecolor\": \"white\", \"landcolor\": \"#E5ECF6\", \"showlakes\": true, \"showland\": true, \"subunitcolor\": \"white\"}, \"hoverlabel\": {\"align\": \"left\"}, \"hovermode\": \"closest\", \"mapbox\": {\"style\": \"light\"}, \"paper_bgcolor\": \"white\", \"plot_bgcolor\": \"#E5ECF6\", \"polar\": {\"angularaxis\": {\"gridcolor\": \"white\", \"linecolor\": \"white\", \"ticks\": \"\"}, \"bgcolor\": \"#E5ECF6\", \"radialaxis\": {\"gridcolor\": \"white\", \"linecolor\": \"white\", \"ticks\": \"\"}}, \"scene\": {\"xaxis\": {\"backgroundcolor\": \"#E5ECF6\", \"gridcolor\": \"white\", \"gridwidth\": 2, \"linecolor\": \"white\", \"showbackground\": true, \"ticks\": \"\", \"zerolinecolor\": \"white\"}, \"yaxis\": {\"backgroundcolor\": \"#E5ECF6\", \"gridcolor\": \"white\", \"gridwidth\": 2, \"linecolor\": \"white\", \"showbackground\": true, \"ticks\": \"\", \"zerolinecolor\": \"white\"}, \"zaxis\": {\"backgroundcolor\": \"#E5ECF6\", \"gridcolor\": \"white\", \"gridwidth\": 2, \"linecolor\": \"white\", \"showbackground\": true, \"ticks\": \"\", \"zerolinecolor\": \"white\"}}, \"shapedefaults\": {\"line\": {\"color\": \"#2a3f5f\"}}, \"ternary\": {\"aaxis\": {\"gridcolor\": \"white\", \"linecolor\": \"white\", \"ticks\": \"\"}, \"baxis\": {\"gridcolor\": \"white\", \"linecolor\": \"white\", \"ticks\": \"\"}, \"bgcolor\": \"#E5ECF6\", \"caxis\": {\"gridcolor\": \"white\", \"linecolor\": \"white\", \"ticks\": \"\"}}, \"title\": {\"x\": 0.05}, \"xaxis\": {\"automargin\": true, \"gridcolor\": \"white\", \"linecolor\": \"white\", \"ticks\": \"\", \"title\": {\"standoff\": 15}, \"zerolinecolor\": \"white\", \"zerolinewidth\": 2}, \"yaxis\": {\"automargin\": true, \"gridcolor\": \"white\", \"linecolor\": \"white\", \"ticks\": \"\", \"title\": {\"standoff\": 15}, \"zerolinecolor\": \"white\", \"zerolinewidth\": 2}}}, \"width\": 600, \"xaxis\": {\"anchor\": \"y\", \"domain\": [0.0, 1.0], \"title\": {\"text\": \"Training Example\"}}, \"yaxis\": {\"anchor\": \"x\", \"domain\": [0.0, 1.0], \"title\": {\"text\": \"Scores\"}}},                        {\"responsive\": true}                    ).then(function(){\n",
       "                            \n",
       "var gd = document.getElementById('e81ec66b-61a9-4f79-819b-198413e25d60');\n",
       "var x = new MutationObserver(function (mutations, observer) {{\n",
       "        var display = window.getComputedStyle(gd).display;\n",
       "        if (!display || display === 'none') {{\n",
       "            console.log([gd, 'removed!']);\n",
       "            Plotly.purge(gd);\n",
       "            observer.disconnect();\n",
       "        }}\n",
       "}});\n",
       "\n",
       "// Listen for the removal of the full notebook cells\n",
       "var notebookContainer = gd.closest('#notebook-container');\n",
       "if (notebookContainer) {{\n",
       "    x.observe(notebookContainer, {childList: true});\n",
       "}}\n",
       "\n",
       "// Listen for the clearing of the current output cell\n",
       "var outputEl = gd.closest('.output');\n",
       "if (outputEl) {{\n",
       "    x.observe(outputEl, {childList: true});\n",
       "}}\n",
       "\n",
       "                        })                };                            </script>        </div>\n",
       "</body>\n",
       "</html>"
      ]
     },
     "metadata": {
      "tags": []
     },
     "output_type": "display_data"
    }
   ],
   "source": [
    "print_lc(RandomForestClassifier(criterion='entropy', n_estimators=20, random_state=0, bootstrap=True,))"
   ]
  },
  {
   "cell_type": "markdown",
   "metadata": {
    "id": "l0jUz3rNEawo",
    "slideshow": {
     "slide_type": "subslide"
    }
   },
   "source": [
    "Notice that accuracy is always higher than the other metrics, this is probably due to the imbalace of the two classes in the dataset. In fact the model is better at predicting class 'g'(0). This is easy to get by looking at the confusion matrixes, where the number of misclassification of the class 1 are always quite high. Notice also that the model without any kind of preprocessing has a higher accuracy but the number of false positive for the class h (1) is definetelly much higher than the other configurations. Looking instead at the learning curves, the training trend is almost a straight line, this means that the algorithm is suffering of quite high variance hence a severe overfitting."
   ]
  },
  {
   "cell_type": "markdown",
   "metadata": {
    "id": "wffR4Y5_nEhb",
    "slideshow": {
     "slide_type": "slide"
    }
   },
   "source": [
    "### **Support Vector Machine**\n",
    "\n",
    "\n",
    "\n",
    "Support Vector Machine is a supervised method used both for classification and regression. The main idea is to find and hyperplane that is able to distinctly classifies the data. We say that a training set $S$ is linearly separable if \n",
    "<br/><br/>\n",
    "\\begin{equation}\n",
    "∀i ∈[m],y_i (<w,x_i> +b )>0\n",
    "\\end{equation}\n",
    "<br/>\n",
    "For any separable training set there are a lot of possible hyperplanes, it is taken the ones that maximize the margin, i.e. the minimal distance between a point of the training set and the hyperplane itself. In this way, the formal rule of the so called *hard-SVM* is\n",
    "<br/><br/>\n",
    "\\begin{equation}\n",
    "argmax_{(w,b):||w||=1}⁡min_{i ∈[m]}|⁡|<w,x_{i}>+b|| \\quad\\quad     s.t.∀i,y_i  (<w,x_{i}>+b)>0 \n",
    "\\end{equation}\n",
    "<br/>\n",
    "In other words, hard-SVM searches for $w$ of minimal norm among all vectors that separate the data and for which $|<w,x_i>+b|≥1$ for all $i$. \n",
    "The solution of the Hard-SVM is therefore a solution to the above formula:\n",
    "<br/><br/>\n",
    "\\begin{equation}\n",
    "w ̂= \\frac{w_0}{||w_0 ||}  \\quad\\quad\\quad\\quad    b ̂=\\frac{b_0}{||w_0 ||}\n",
    "\\end{equation}\n",
    "<br/>\n",
    "This solution is supported by the points that are exactly at distance $1/|(|w_0 |)|$ from the separating hyperplane. These vectors are called *Support Vectors*, hence the name of the algorithm. <br/>\n",
    "In particular, let $I={ i∶|<w_0,x_i>|=1}$, there exist coefficients $α_1,…,α_m$ such that $w_0 = \\sum_{i ∈I}α_i x_i$.<br/>\n",
    "The examples ${x_i ∶i ∈I}$ are the support vectors.\n",
    "\n",
    "The problem of the Hard-SVM is that it assumes data is linearly separable, which is a quite strong assumption. Thus, a relaxation of this algorithm comes to help, called *Soft-SVM*, and it can be applied even when data is not linearly separable. This relaxation consists of allowing the constraint to be violated for some samples. This is done with the introduction of *slack variables* $ξ_1,…,ξ_m$ in the constraint:\n",
    "<br/><br/>\n",
    "\\begin{equation}\n",
    "|<w,x_i>+b|≥1- ξ_i\n",
    "\\end{equation}\n",
    "<br/>\n",
    "In this way $ξ_i$ measures how much the constraint is being violated. Moreover, it holds that: \n",
    "\\begin{equation}\n",
    "\\sum_{i=1}^{m}ξ_i  ≤C \n",
    "\\end{equation}\n",
    "<br/>\n",
    "Where C is a non-negative tuning parameter, also known as *Regularization parameter*, because it basically determines the number of violations we want to allow. If $C$ is small, the margin is small and therefore we allow rarely “mistakes”, on the other hand, if $C$ is large, the margin is wider, and we allow more “mistakes”.  \n"
   ]
  },
  {
   "cell_type": "markdown",
   "metadata": {
    "id": "UmV1dYlznces",
    "slideshow": {
     "slide_type": "subslide"
    }
   },
   "source": [
    "\n",
    "**The Kernel Trick**\n",
    "\n",
    "This is a “trick” used when data cannot be linearly separated. To solve the problem a non-linear mapping $ψ$ is applied to map the instances in a higher dimensional space and the learning of the feature space happens in this space. However, compute linear separators in very high dimensional space can be very computation expensive, so it is exploited a kernel that (in this context) refers to the inner product in the feature space. Formally, given an embedding $ψ$ of some domain $X$, we define the kernel function as \n",
    "<br/><br/>\n",
    "\\begin{equation}\n",
    "K = (x,x') = <\\psi(x),\\psi(x')>\n",
    "\\end{equation}\n",
    "<br/>\n",
    "The Kernel can be though as specifying a similarity between the instances and the embeddings realised as inner products. Thus, the “success” of the algorithm depends on choosing a good mapping $ψ$, that is able to separate the data in the features space. There are different kernels, in this project we tested the liner-kernel, which actually corresponds to the soft-SVM, and the *RBF (Radis Basis Function)* kernel:\n",
    "<br/><br/>\n",
    "\\begin{equation} \n",
    "K(x,x') = \\exp(-\\gamma\\sum_{i=1}^m(x_i,x_{i}^{'})^2)\n",
    "\\end{equation}\n",
    "<br/>\n",
    "This kernel basically calculates the distances of the data point from the margin with a sort of Gaussian shape, and the parameter $γ$, which is a positive constant, measures how “quick” this distance increases."
   ]
  },
  {
   "cell_type": "code",
   "execution_count": null,
   "metadata": {
    "colab": {
     "base_uri": "https://localhost:8080/"
    },
    "executionInfo": {
     "elapsed": 1365709,
     "status": "ok",
     "timestamp": 1619882674914,
     "user": {
      "displayName": "Noemi Tomasello",
      "photoUrl": "https://lh6.googleusercontent.com/-0vac6q9vL7M/AAAAAAAAAAI/AAAAAAAACQY/OsKV2bRy4NA/s64/photo.jpg",
      "userId": "14936482853525964477"
     },
     "user_tz": -120
    },
    "id": "1aqs_xNPb_UP",
    "outputId": "3b8395ac-0fec-42c5-81c0-43b3dd091485",
    "slideshow": {
     "slide_type": "skip"
    }
   },
   "outputs": [
    {
     "name": "stdout",
     "output_type": "stream",
     "text": [
      "Done!\n"
     ]
    }
   ],
   "source": [
    "params_svm = {\"kernel\": [\"linear\",\"rbf\"],\n",
    "              \"C\": [1,10,100]}\n",
    "\n",
    "pd_svc, svc = training(SVC, params_svm, outliers_iso,SMOTE())"
   ]
  },
  {
   "cell_type": "code",
   "execution_count": null,
   "metadata": {
    "colab": {
     "base_uri": "https://localhost:8080/",
     "height": 542
    },
    "executionInfo": {
     "elapsed": 1365694,
     "status": "ok",
     "timestamp": 1619882674919,
     "user": {
      "displayName": "Noemi Tomasello",
      "photoUrl": "https://lh6.googleusercontent.com/-0vac6q9vL7M/AAAAAAAAAAI/AAAAAAAACQY/OsKV2bRy4NA/s64/photo.jpg",
      "userId": "14936482853525964477"
     },
     "user_tz": -120
    },
    "id": "KDZTCsqtQSYx",
    "outputId": "42ab8e3a-4ff4-4acf-e6a7-58252e705ca9",
    "slideshow": {
     "slide_type": "subslide"
    }
   },
   "outputs": [
    {
     "data": {
      "text/html": [
       "<html>\n",
       "<head><meta charset=\"utf-8\" /></head>\n",
       "<body>\n",
       "    <div>            <script src=\"https://cdnjs.cloudflare.com/ajax/libs/mathjax/2.7.5/MathJax.js?config=TeX-AMS-MML_SVG\"></script><script type=\"text/javascript\">if (window.MathJax) {MathJax.Hub.Config({SVG: {font: \"STIX-Web\"}});}</script>                <script type=\"text/javascript\">window.PlotlyConfig = {MathJaxConfig: 'local'};</script>\n",
       "        <script src=\"https://cdn.plot.ly/plotly-latest.min.js\"></script>                <div id=\"a97992fa-91a5-44ce-865a-74de08edb0d3\" class=\"plotly-graph-div\" style=\"height:525px; width:100%;\"></div>            <script type=\"text/javascript\">                                    window.PLOTLYENV=window.PLOTLYENV || {};                                    if (document.getElementById(\"a97992fa-91a5-44ce-865a-74de08edb0d3\")) {                    Plotly.newPlot(                        \"a97992fa-91a5-44ce-865a-74de08edb0d3\",                        [{\"marker\": {\"color\": \"#78290f\"}, \"name\": \"Accuracy\", \"type\": \"bar\", \"x\": [\"Configuration 1\", \"Configuration 2\", \"Configuration 3\", \"Configuration 4\", \"Configuration 5\", \"Configuration 6\"], \"y\": [0.7599018576936558, 0.781913774973712, 0.7594812478093236, 0.7822642832106554, 0.7610935856992639, 0.7709078163336839]}, {\"marker\": {\"color\": \"#ff7d00\"}, \"name\": \"Recall\", \"type\": \"bar\", \"x\": [\"Configuration 1\", \"Configuration 2\", \"Configuration 3\", \"Configuration 4\", \"Configuration 5\", \"Configuration 6\"], \"y\": [0.6817642879744001, 0.795893755858174, 0.6847569069239389, 0.7797364393844416, 0.6855551111137645, 0.7573785629140523]}, {\"marker\": {\"color\": \"#202c39\"}, \"name\": \"Precision\", \"type\": \"bar\", \"x\": [\"Configuration 1\", \"Configuration 2\", \"Configuration 3\", \"Configuration 4\", \"Configuration 5\", \"Configuration 6\"], \"y\": [0.6514965204532797, 0.6565562715158337, 0.6498218128635871, 0.6612717743898259, 0.6525736659449514, 0.6492264360194367]}, {\"marker\": {\"color\": \"#15616d\"}, \"name\": \"F1-score\", \"type\": \"bar\", \"x\": [\"Configuration 1\", \"Configuration 2\", \"Configuration 3\", \"Configuration 4\", \"Configuration 5\", \"Configuration 6\"], \"y\": [0.6662130528129176, 0.7194480229729223, 0.6667746186888186, 0.7155287636452031, 0.668501811877443, 0.6990261522436548]}],                        {\"annotations\": [{\"font\": {\"size\": 16}, \"showarrow\": false, \"text\": \"S\", \"x\": 0.5, \"xanchor\": \"center\", \"xref\": \"paper\", \"y\": 1.0, \"yanchor\": \"bottom\", \"yref\": \"paper\"}], \"template\": {\"data\": {\"bar\": [{\"error_x\": {\"color\": \"#2a3f5f\"}, \"error_y\": {\"color\": \"#2a3f5f\"}, \"marker\": {\"line\": {\"color\": \"#E5ECF6\", \"width\": 0.5}}, \"type\": \"bar\"}], \"barpolar\": [{\"marker\": {\"line\": {\"color\": \"#E5ECF6\", \"width\": 0.5}}, \"type\": \"barpolar\"}], \"carpet\": [{\"aaxis\": {\"endlinecolor\": \"#2a3f5f\", \"gridcolor\": \"white\", \"linecolor\": \"white\", \"minorgridcolor\": \"white\", \"startlinecolor\": \"#2a3f5f\"}, \"baxis\": {\"endlinecolor\": \"#2a3f5f\", \"gridcolor\": \"white\", \"linecolor\": \"white\", \"minorgridcolor\": \"white\", \"startlinecolor\": \"#2a3f5f\"}, \"type\": \"carpet\"}], \"choropleth\": [{\"colorbar\": {\"outlinewidth\": 0, \"ticks\": \"\"}, \"type\": \"choropleth\"}], \"contour\": [{\"colorbar\": {\"outlinewidth\": 0, \"ticks\": \"\"}, \"colorscale\": [[0.0, \"#0d0887\"], [0.1111111111111111, \"#46039f\"], [0.2222222222222222, \"#7201a8\"], [0.3333333333333333, \"#9c179e\"], [0.4444444444444444, \"#bd3786\"], [0.5555555555555556, \"#d8576b\"], [0.6666666666666666, \"#ed7953\"], [0.7777777777777778, \"#fb9f3a\"], [0.8888888888888888, \"#fdca26\"], [1.0, \"#f0f921\"]], \"type\": \"contour\"}], \"contourcarpet\": [{\"colorbar\": {\"outlinewidth\": 0, \"ticks\": \"\"}, \"type\": \"contourcarpet\"}], \"heatmap\": [{\"colorbar\": {\"outlinewidth\": 0, \"ticks\": \"\"}, \"colorscale\": [[0.0, \"#0d0887\"], [0.1111111111111111, \"#46039f\"], [0.2222222222222222, \"#7201a8\"], [0.3333333333333333, \"#9c179e\"], [0.4444444444444444, \"#bd3786\"], [0.5555555555555556, \"#d8576b\"], [0.6666666666666666, \"#ed7953\"], [0.7777777777777778, \"#fb9f3a\"], [0.8888888888888888, \"#fdca26\"], [1.0, \"#f0f921\"]], \"type\": \"heatmap\"}], \"heatmapgl\": [{\"colorbar\": {\"outlinewidth\": 0, \"ticks\": \"\"}, \"colorscale\": [[0.0, \"#0d0887\"], [0.1111111111111111, \"#46039f\"], [0.2222222222222222, \"#7201a8\"], [0.3333333333333333, \"#9c179e\"], [0.4444444444444444, \"#bd3786\"], [0.5555555555555556, \"#d8576b\"], [0.6666666666666666, \"#ed7953\"], [0.7777777777777778, \"#fb9f3a\"], [0.8888888888888888, \"#fdca26\"], [1.0, \"#f0f921\"]], \"type\": \"heatmapgl\"}], \"histogram\": [{\"marker\": {\"colorbar\": {\"outlinewidth\": 0, \"ticks\": \"\"}}, \"type\": \"histogram\"}], \"histogram2d\": [{\"colorbar\": {\"outlinewidth\": 0, \"ticks\": \"\"}, \"colorscale\": [[0.0, \"#0d0887\"], [0.1111111111111111, \"#46039f\"], [0.2222222222222222, \"#7201a8\"], [0.3333333333333333, \"#9c179e\"], [0.4444444444444444, \"#bd3786\"], [0.5555555555555556, \"#d8576b\"], [0.6666666666666666, \"#ed7953\"], [0.7777777777777778, \"#fb9f3a\"], [0.8888888888888888, \"#fdca26\"], [1.0, \"#f0f921\"]], \"type\": \"histogram2d\"}], \"histogram2dcontour\": [{\"colorbar\": {\"outlinewidth\": 0, \"ticks\": \"\"}, \"colorscale\": [[0.0, \"#0d0887\"], [0.1111111111111111, \"#46039f\"], [0.2222222222222222, \"#7201a8\"], [0.3333333333333333, \"#9c179e\"], [0.4444444444444444, \"#bd3786\"], [0.5555555555555556, \"#d8576b\"], [0.6666666666666666, \"#ed7953\"], [0.7777777777777778, \"#fb9f3a\"], [0.8888888888888888, \"#fdca26\"], [1.0, \"#f0f921\"]], \"type\": \"histogram2dcontour\"}], \"mesh3d\": [{\"colorbar\": {\"outlinewidth\": 0, \"ticks\": \"\"}, \"type\": \"mesh3d\"}], \"parcoords\": [{\"line\": {\"colorbar\": {\"outlinewidth\": 0, \"ticks\": \"\"}}, \"type\": \"parcoords\"}], \"pie\": [{\"automargin\": true, \"type\": \"pie\"}], \"scatter\": [{\"marker\": {\"colorbar\": {\"outlinewidth\": 0, \"ticks\": \"\"}}, \"type\": \"scatter\"}], \"scatter3d\": [{\"line\": {\"colorbar\": {\"outlinewidth\": 0, \"ticks\": \"\"}}, \"marker\": {\"colorbar\": {\"outlinewidth\": 0, \"ticks\": \"\"}}, \"type\": \"scatter3d\"}], \"scattercarpet\": [{\"marker\": {\"colorbar\": {\"outlinewidth\": 0, \"ticks\": \"\"}}, \"type\": \"scattercarpet\"}], \"scattergeo\": [{\"marker\": {\"colorbar\": {\"outlinewidth\": 0, \"ticks\": \"\"}}, \"type\": \"scattergeo\"}], \"scattergl\": [{\"marker\": {\"colorbar\": {\"outlinewidth\": 0, \"ticks\": \"\"}}, \"type\": \"scattergl\"}], \"scattermapbox\": [{\"marker\": {\"colorbar\": {\"outlinewidth\": 0, \"ticks\": \"\"}}, \"type\": \"scattermapbox\"}], \"scatterpolar\": [{\"marker\": {\"colorbar\": {\"outlinewidth\": 0, \"ticks\": \"\"}}, \"type\": \"scatterpolar\"}], \"scatterpolargl\": [{\"marker\": {\"colorbar\": {\"outlinewidth\": 0, \"ticks\": \"\"}}, \"type\": \"scatterpolargl\"}], \"scatterternary\": [{\"marker\": {\"colorbar\": {\"outlinewidth\": 0, \"ticks\": \"\"}}, \"type\": \"scatterternary\"}], \"surface\": [{\"colorbar\": {\"outlinewidth\": 0, \"ticks\": \"\"}, \"colorscale\": [[0.0, \"#0d0887\"], [0.1111111111111111, \"#46039f\"], [0.2222222222222222, \"#7201a8\"], [0.3333333333333333, \"#9c179e\"], [0.4444444444444444, \"#bd3786\"], [0.5555555555555556, \"#d8576b\"], [0.6666666666666666, \"#ed7953\"], [0.7777777777777778, \"#fb9f3a\"], [0.8888888888888888, \"#fdca26\"], [1.0, \"#f0f921\"]], \"type\": \"surface\"}], \"table\": [{\"cells\": {\"fill\": {\"color\": \"#EBF0F8\"}, \"line\": {\"color\": \"white\"}}, \"header\": {\"fill\": {\"color\": \"#C8D4E3\"}, \"line\": {\"color\": \"white\"}}, \"type\": \"table\"}]}, \"layout\": {\"annotationdefaults\": {\"arrowcolor\": \"#2a3f5f\", \"arrowhead\": 0, \"arrowwidth\": 1}, \"autotypenumbers\": \"strict\", \"coloraxis\": {\"colorbar\": {\"outlinewidth\": 0, \"ticks\": \"\"}}, \"colorscale\": {\"diverging\": [[0, \"#8e0152\"], [0.1, \"#c51b7d\"], [0.2, \"#de77ae\"], [0.3, \"#f1b6da\"], [0.4, \"#fde0ef\"], [0.5, \"#f7f7f7\"], [0.6, \"#e6f5d0\"], [0.7, \"#b8e186\"], [0.8, \"#7fbc41\"], [0.9, \"#4d9221\"], [1, \"#276419\"]], \"sequential\": [[0.0, \"#0d0887\"], [0.1111111111111111, \"#46039f\"], [0.2222222222222222, \"#7201a8\"], [0.3333333333333333, \"#9c179e\"], [0.4444444444444444, \"#bd3786\"], [0.5555555555555556, \"#d8576b\"], [0.6666666666666666, \"#ed7953\"], [0.7777777777777778, \"#fb9f3a\"], [0.8888888888888888, \"#fdca26\"], [1.0, \"#f0f921\"]], \"sequentialminus\": [[0.0, \"#0d0887\"], [0.1111111111111111, \"#46039f\"], [0.2222222222222222, \"#7201a8\"], [0.3333333333333333, \"#9c179e\"], [0.4444444444444444, \"#bd3786\"], [0.5555555555555556, \"#d8576b\"], [0.6666666666666666, \"#ed7953\"], [0.7777777777777778, \"#fb9f3a\"], [0.8888888888888888, \"#fdca26\"], [1.0, \"#f0f921\"]]}, \"colorway\": [\"#636efa\", \"#EF553B\", \"#00cc96\", \"#ab63fa\", \"#FFA15A\", \"#19d3f3\", \"#FF6692\", \"#B6E880\", \"#FF97FF\", \"#FECB52\"], \"font\": {\"color\": \"#2a3f5f\"}, \"geo\": {\"bgcolor\": \"white\", \"lakecolor\": \"white\", \"landcolor\": \"#E5ECF6\", \"showlakes\": true, \"showland\": true, \"subunitcolor\": \"white\"}, \"hoverlabel\": {\"align\": \"left\"}, \"hovermode\": \"closest\", \"mapbox\": {\"style\": \"light\"}, \"paper_bgcolor\": \"white\", \"plot_bgcolor\": \"#E5ECF6\", \"polar\": {\"angularaxis\": {\"gridcolor\": \"white\", \"linecolor\": \"white\", \"ticks\": \"\"}, \"bgcolor\": \"#E5ECF6\", \"radialaxis\": {\"gridcolor\": \"white\", \"linecolor\": \"white\", \"ticks\": \"\"}}, \"scene\": {\"xaxis\": {\"backgroundcolor\": \"#E5ECF6\", \"gridcolor\": \"white\", \"gridwidth\": 2, \"linecolor\": \"white\", \"showbackground\": true, \"ticks\": \"\", \"zerolinecolor\": \"white\"}, \"yaxis\": {\"backgroundcolor\": \"#E5ECF6\", \"gridcolor\": \"white\", \"gridwidth\": 2, \"linecolor\": \"white\", \"showbackground\": true, \"ticks\": \"\", \"zerolinecolor\": \"white\"}, \"zaxis\": {\"backgroundcolor\": \"#E5ECF6\", \"gridcolor\": \"white\", \"gridwidth\": 2, \"linecolor\": \"white\", \"showbackground\": true, \"ticks\": \"\", \"zerolinecolor\": \"white\"}}, \"shapedefaults\": {\"line\": {\"color\": \"#2a3f5f\"}}, \"ternary\": {\"aaxis\": {\"gridcolor\": \"white\", \"linecolor\": \"white\", \"ticks\": \"\"}, \"baxis\": {\"gridcolor\": \"white\", \"linecolor\": \"white\", \"ticks\": \"\"}, \"bgcolor\": \"#E5ECF6\", \"caxis\": {\"gridcolor\": \"white\", \"linecolor\": \"white\", \"ticks\": \"\"}}, \"title\": {\"x\": 0.05}, \"xaxis\": {\"automargin\": true, \"gridcolor\": \"white\", \"linecolor\": \"white\", \"ticks\": \"\", \"title\": {\"standoff\": 15}, \"zerolinecolor\": \"white\", \"zerolinewidth\": 2}, \"yaxis\": {\"automargin\": true, \"gridcolor\": \"white\", \"linecolor\": \"white\", \"ticks\": \"\", \"title\": {\"standoff\": 15}, \"zerolinecolor\": \"white\", \"zerolinewidth\": 2}}}, \"xaxis\": {\"anchor\": \"y\", \"domain\": [0.0, 1.0]}, \"yaxis\": {\"anchor\": \"x\", \"domain\": [0.0, 1.0]}},                        {\"responsive\": true}                    ).then(function(){\n",
       "                            \n",
       "var gd = document.getElementById('a97992fa-91a5-44ce-865a-74de08edb0d3');\n",
       "var x = new MutationObserver(function (mutations, observer) {{\n",
       "        var display = window.getComputedStyle(gd).display;\n",
       "        if (!display || display === 'none') {{\n",
       "            console.log([gd, 'removed!']);\n",
       "            Plotly.purge(gd);\n",
       "            observer.disconnect();\n",
       "        }}\n",
       "}});\n",
       "\n",
       "// Listen for the removal of the full notebook cells\n",
       "var notebookContainer = gd.closest('#notebook-container');\n",
       "if (notebookContainer) {{\n",
       "    x.observe(notebookContainer, {childList: true});\n",
       "}}\n",
       "\n",
       "// Listen for the clearing of the current output cell\n",
       "var outputEl = gd.closest('.output');\n",
       "if (outputEl) {{\n",
       "    x.observe(outputEl, {childList: true});\n",
       "}}\n",
       "\n",
       "                        })                };                            </script>        </div>\n",
       "</body>\n",
       "</html>"
      ]
     },
     "metadata": {
      "tags": []
     },
     "output_type": "display_data"
    }
   ],
   "source": [
    "df_svm = print_conf_acc(pd_svc)"
   ]
  },
  {
   "cell_type": "markdown",
   "metadata": {
    "id": "Nb7A6sJxKq_8",
    "slideshow": {
     "slide_type": "subslide"
    }
   },
   "source": [
    "SVM presents configuration which are more different between each other with respect to the previous algorithm. In particular, configuration 2 seems has parcularly higher recall than all the the other."
   ]
  },
  {
   "cell_type": "code",
   "execution_count": null,
   "metadata": {
    "colab": {
     "base_uri": "https://localhost:8080/"
    },
    "executionInfo": {
     "elapsed": 1365675,
     "status": "ok",
     "timestamp": 1619882674921,
     "user": {
      "displayName": "Noemi Tomasello",
      "photoUrl": "https://lh6.googleusercontent.com/-0vac6q9vL7M/AAAAAAAAAAI/AAAAAAAACQY/OsKV2bRy4NA/s64/photo.jpg",
      "userId": "14936482853525964477"
     },
     "user_tz": -120
    },
    "id": "Hftm6y_6aWjA",
    "outputId": "40f58d08-d078-442e-fca6-af1c4bbfefc2",
    "slideshow": {
     "slide_type": "subslide"
    }
   },
   "outputs": [
    {
     "name": "stdout",
     "output_type": "stream",
     "text": [
      "The best configuration is Configuration 4: {'C': 10, 'kernel': 'rbf'}\n"
     ]
    }
   ],
   "source": [
    "best_svc = chose_best_params(pd_svc)"
   ]
  },
  {
   "cell_type": "code",
   "execution_count": null,
   "metadata": {
    "colab": {
     "base_uri": "https://localhost:8080/"
    },
    "executionInfo": {
     "elapsed": 1421679,
     "status": "ok",
     "timestamp": 1619882730948,
     "user": {
      "displayName": "Noemi Tomasello",
      "photoUrl": "https://lh6.googleusercontent.com/-0vac6q9vL7M/AAAAAAAAAAI/AAAAAAAACQY/OsKV2bRy4NA/s64/photo.jpg",
      "userId": "14936482853525964477"
     },
     "user_tz": -120
    },
    "id": "CtE0RnIzalxq",
    "outputId": "4563fdde-db6b-4027-96f3-53c79764e619",
    "slideshow": {
     "slide_type": "skip"
    }
   },
   "outputs": [
    {
     "name": "stdout",
     "output_type": "stream",
     "text": [
      "              precision    recall  f1-score   support\n",
      "\n",
      "           0       0.86      0.78      0.82      3079\n",
      "           1       0.65      0.76      0.70      1676\n",
      "\n",
      "    accuracy                           0.77      4755\n",
      "   macro avg       0.76      0.77      0.76      4755\n",
      "weighted avg       0.79      0.77      0.78      4755\n",
      "\n",
      "              precision    recall  f1-score   support\n",
      "\n",
      "           0       0.87      0.77      0.82      3079\n",
      "           1       0.66      0.79      0.72      1676\n",
      "\n",
      "    accuracy                           0.78      4755\n",
      "   macro avg       0.76      0.78      0.77      4755\n",
      "weighted avg       0.80      0.78      0.78      4755\n",
      "\n",
      "              precision    recall  f1-score   support\n",
      "\n",
      "           0       0.86      0.82      0.84      3079\n",
      "           1       0.69      0.76      0.72      1676\n",
      "\n",
      "    accuracy                           0.80      4755\n",
      "   macro avg       0.78      0.79      0.78      4755\n",
      "weighted avg       0.80      0.80      0.80      4755\n",
      "\n",
      "              precision    recall  f1-score   support\n",
      "\n",
      "           0       0.86      0.83      0.84      3079\n",
      "           1       0.70      0.75      0.72      1676\n",
      "\n",
      "    accuracy                           0.80      4755\n",
      "   macro avg       0.78      0.79      0.78      4755\n",
      "weighted avg       0.80      0.80      0.80      4755\n",
      "\n",
      "              precision    recall  f1-score   support\n",
      "\n",
      "           0       0.86      0.96      0.91      3079\n",
      "           1       0.90      0.72      0.80      1676\n",
      "\n",
      "    accuracy                           0.87      4755\n",
      "   macro avg       0.88      0.84      0.85      4755\n",
      "weighted avg       0.88      0.87      0.87      4755\n",
      "\n"
     ]
    }
   ],
   "source": [
    "svc_cfs = []\n",
    "cf_matrix_svc_1, test_svc_iso_pca_smote = testing(SVC, best_svc,outliers_iso, SMOTE()) \n",
    "svc_cfs.append((cf_matrix_svc_1,\"Test SVC with Iso, PCA, SMOTE\"))\n",
    "total_results = total_results.append(pd.Series(['Support Vector Machines',\"Test SVC with Iso, PCA, SMOTE\",\n",
    "                                test_svc_iso_pca_smote[0],test_svc_iso_pca_smote[1],\n",
    "                                test_svc_iso_pca_smote[2],test_svc_iso_pca_smote[3]],index=total_results.columns),ignore_index=True)\n",
    "cf_matrix_svc_2, test_svc_iso_pca_rus = testing(SVC, best_svc,outliers_iso, RandomUnderSampler()) \n",
    "svc_cfs.append((cf_matrix_svc_2,\"Test SVC with Iso, PCA, Random Undersampling\"))\n",
    "total_results = total_results.append(pd.Series(['Support Vector Machines',\"Test SVC with Iso, PCA, Random Undersampling\",\n",
    "                                test_svc_iso_pca_rus[0],test_svc_iso_pca_rus[1],\n",
    "                                test_svc_iso_pca_rus[2],test_svc_iso_pca_rus[3]],index=total_results.columns),ignore_index=True)\n",
    "cf_matrix_svc_3, test_svc_lof_pca_smote = testing(SVC,best_svc,outliers_lof, SMOTE()) \n",
    "svc_cfs.append((cf_matrix_svc_3,\"Test SVC with LOF, PCA, SMOTE\"))\n",
    "total_results = total_results.append(pd.Series(['Support Vector Machines',\"Test SVC with LOF, PCA, SMOTE\",\n",
    "                                test_svc_lof_pca_smote[0],test_svc_lof_pca_smote[1],\n",
    "                                test_svc_lof_pca_smote[2],test_svc_lof_pca_smote[3]],index=total_results.columns),ignore_index=True)\n",
    "cf_matrix_svc_4, test_svc_lof_pca_rus = testing(SVC, best_svc,outliers_lof, RandomUnderSampler()) \n",
    "svc_cfs.append((cf_matrix_svc_4,\"Test SVC with LOF, PCA, Random Undersampling\"))\n",
    "total_results = total_results.append(pd.Series(['Support Vector Machines',\"Test SVC with LOF, PCA, Random Undersampling\",\n",
    "                                test_svc_lof_pca_rus[0],test_svc_lof_pca_rus[1],\n",
    "                                test_svc_lof_pca_rus[2],test_svc_lof_pca_rus[3]],index=total_results.columns),ignore_index=True)\n",
    "cf_matrix_svc_5, test_svc_no_precosseing = testing(SVC, best_svc,outliers_lof, RandomUnderSampler(), doPCA=False,outliers=False, balancing=False) \n",
    "svc_cfs.append((cf_matrix_svc_5,\"Test SVC with no preprocessing\"))\n",
    "total_results = total_results.append(pd.Series(['Support Vector Machines',\"Test SVC with no preprocessing\",\n",
    "                                test_svc_no_precosseing[0],test_svc_no_precosseing[1],\n",
    "                                test_svc_no_precosseing[2],test_svc_no_precosseing[3]],index=total_results.columns),ignore_index=True)"
   ]
  },
  {
   "cell_type": "code",
   "execution_count": null,
   "metadata": {
    "colab": {
     "base_uri": "https://localhost:8080/",
     "height": 667
    },
    "executionInfo": {
     "elapsed": 1421670,
     "status": "ok",
     "timestamp": 1619882730961,
     "user": {
      "displayName": "Noemi Tomasello",
      "photoUrl": "https://lh6.googleusercontent.com/-0vac6q9vL7M/AAAAAAAAAAI/AAAAAAAACQY/OsKV2bRy4NA/s64/photo.jpg",
      "userId": "14936482853525964477"
     },
     "user_tz": -120
    },
    "id": "bIOvbkudmq0a",
    "outputId": "d74323b3-246a-4f00-ca4f-8b3f9d5df163",
    "slideshow": {
     "slide_type": "subslide"
    }
   },
   "outputs": [
    {
     "data": {
      "text/html": [
       "<html>\n",
       "<head><meta charset=\"utf-8\" /></head>\n",
       "<body>\n",
       "    <div>            <script src=\"https://cdnjs.cloudflare.com/ajax/libs/mathjax/2.7.5/MathJax.js?config=TeX-AMS-MML_SVG\"></script><script type=\"text/javascript\">if (window.MathJax) {MathJax.Hub.Config({SVG: {font: \"STIX-Web\"}});}</script>                <script type=\"text/javascript\">window.PlotlyConfig = {MathJaxConfig: 'local'};</script>\n",
       "        <script src=\"https://cdn.plot.ly/plotly-latest.min.js\"></script>                <div id=\"e63143c7-c364-4358-a91b-c3165a0386ac\" class=\"plotly-graph-div\" style=\"height:650px; width:900px;\"></div>            <script type=\"text/javascript\">                                    window.PLOTLYENV=window.PLOTLYENV || {};                                    if (document.getElementById(\"e63143c7-c364-4358-a91b-c3165a0386ac\")) {                    Plotly.newPlot(                        \"e63143c7-c364-4358-a91b-c3165a0386ac\",                        [{\"colorscale\": [[0.0, \"#78290f\"], [0.25, \"#ff7d00\"], [0.5, \"#ffecd1\"], [0.75, \"#15616d\"], [1.0, \"#202c39\"]], \"reversescale\": false, \"showscale\": false, \"type\": \"heatmap\", \"x\": [\"0\", \"1\"], \"xaxis\": \"x\", \"y\": [\"1\", \"0\"], \"yaxis\": \"y\", \"z\": [[2404, 675], [398, 1278]]}, {\"mode\": \"text\", \"name\": \"\", \"text\": [\"2404\"], \"textfont\": {\"color\": \"#ffffff\", \"family\": \"sans serif\", \"size\": 18}, \"type\": \"scatter\", \"x\": [0], \"xaxis\": \"x\", \"y\": [0], \"yaxis\": \"y\"}, {\"mode\": \"text\", \"name\": \"\", \"text\": [\"398\"], \"textfont\": {\"color\": \"#ffffff\", \"family\": \"sans serif\", \"size\": 18}, \"type\": \"scatter\", \"x\": [0], \"xaxis\": \"x\", \"y\": [1], \"yaxis\": \"y\"}, {\"mode\": \"text\", \"name\": \"\", \"text\": [\"675\"], \"textfont\": {\"color\": \"#ffffff\", \"family\": \"sans serif\", \"size\": 18}, \"type\": \"scatter\", \"x\": [1], \"xaxis\": \"x\", \"y\": [0], \"yaxis\": \"y\"}, {\"mode\": \"text\", \"name\": \"\", \"text\": [\"1278\"], \"textfont\": {\"color\": \"#ffffff\", \"family\": \"sans serif\", \"size\": 18}, \"type\": \"scatter\", \"x\": [1], \"xaxis\": \"x\", \"y\": [1], \"yaxis\": \"y\"}, {\"colorscale\": [[0.0, \"#78290f\"], [0.25, \"#ff7d00\"], [0.5, \"#ffecd1\"], [0.75, \"#15616d\"], [1.0, \"#202c39\"]], \"reversescale\": false, \"showscale\": false, \"type\": \"heatmap\", \"x\": [\"0\", \"1\"], \"xaxis\": \"x2\", \"y\": [\"1\", \"0\"], \"yaxis\": \"y2\", \"z\": [[2384, 695], [353, 1323]]}, {\"mode\": \"text\", \"name\": \"\", \"text\": [\"2384\"], \"textfont\": {\"color\": \"#ffffff\", \"family\": \"sans serif\", \"size\": 18}, \"type\": \"scatter\", \"x\": [0], \"xaxis\": \"x2\", \"y\": [0], \"yaxis\": \"y2\"}, {\"mode\": \"text\", \"name\": \"\", \"text\": [\"353\"], \"textfont\": {\"color\": \"#ffffff\", \"family\": \"sans serif\", \"size\": 18}, \"type\": \"scatter\", \"x\": [0], \"xaxis\": \"x2\", \"y\": [1], \"yaxis\": \"y2\"}, {\"mode\": \"text\", \"name\": \"\", \"text\": [\"695\"], \"textfont\": {\"color\": \"#ffffff\", \"family\": \"sans serif\", \"size\": 18}, \"type\": \"scatter\", \"x\": [1], \"xaxis\": \"x2\", \"y\": [0], \"yaxis\": \"y2\"}, {\"mode\": \"text\", \"name\": \"\", \"text\": [\"1323\"], \"textfont\": {\"color\": \"#ffffff\", \"family\": \"sans serif\", \"size\": 18}, \"type\": \"scatter\", \"x\": [1], \"xaxis\": \"x2\", \"y\": [1], \"yaxis\": \"y2\"}, {\"colorscale\": [[0.0, \"#78290f\"], [0.25, \"#ff7d00\"], [0.5, \"#ffecd1\"], [0.75, \"#15616d\"], [1.0, \"#202c39\"]], \"reversescale\": false, \"showscale\": false, \"type\": \"heatmap\", \"x\": [\"0\", \"1\"], \"xaxis\": \"x4\", \"y\": [\"1\", \"0\"], \"yaxis\": \"y4\", \"z\": [[2516, 563], [409, 1267]]}, {\"mode\": \"text\", \"name\": \"\", \"text\": [\"2516\"], \"textfont\": {\"color\": \"#ffffff\", \"family\": \"sans serif\", \"size\": 18}, \"type\": \"scatter\", \"x\": [0], \"xaxis\": \"x4\", \"y\": [0], \"yaxis\": \"y4\"}, {\"mode\": \"text\", \"name\": \"\", \"text\": [\"409\"], \"textfont\": {\"color\": \"#ffffff\", \"family\": \"sans serif\", \"size\": 18}, \"type\": \"scatter\", \"x\": [0], \"xaxis\": \"x4\", \"y\": [1], \"yaxis\": \"y4\"}, {\"mode\": \"text\", \"name\": \"\", \"text\": [\"563\"], \"textfont\": {\"color\": \"#ffffff\", \"family\": \"sans serif\", \"size\": 18}, \"type\": \"scatter\", \"x\": [1], \"xaxis\": \"x4\", \"y\": [0], \"yaxis\": \"y4\"}, {\"mode\": \"text\", \"name\": \"\", \"text\": [\"1267\"], \"textfont\": {\"color\": \"#ffffff\", \"family\": \"sans serif\", \"size\": 18}, \"type\": \"scatter\", \"x\": [1], \"xaxis\": \"x4\", \"y\": [1], \"yaxis\": \"y4\"}, {\"colorscale\": [[0.0, \"#78290f\"], [0.25, \"#ff7d00\"], [0.5, \"#ffecd1\"], [0.75, \"#15616d\"], [1.0, \"#202c39\"]], \"reversescale\": false, \"showscale\": false, \"type\": \"heatmap\", \"x\": [\"0\", \"1\"], \"xaxis\": \"x5\", \"y\": [\"1\", \"0\"], \"yaxis\": \"y5\", \"z\": [[2542, 537], [418, 1258]]}, {\"mode\": \"text\", \"name\": \"\", \"text\": [\"2542\"], \"textfont\": {\"color\": \"#ffffff\", \"family\": \"sans serif\", \"size\": 18}, \"type\": \"scatter\", \"x\": [0], \"xaxis\": \"x5\", \"y\": [0], \"yaxis\": \"y5\"}, {\"mode\": \"text\", \"name\": \"\", \"text\": [\"418\"], \"textfont\": {\"color\": \"#ffffff\", \"family\": \"sans serif\", \"size\": 18}, \"type\": \"scatter\", \"x\": [0], \"xaxis\": \"x5\", \"y\": [1], \"yaxis\": \"y5\"}, {\"mode\": \"text\", \"name\": \"\", \"text\": [\"537\"], \"textfont\": {\"color\": \"#ffffff\", \"family\": \"sans serif\", \"size\": 18}, \"type\": \"scatter\", \"x\": [1], \"xaxis\": \"x5\", \"y\": [0], \"yaxis\": \"y5\"}, {\"mode\": \"text\", \"name\": \"\", \"text\": [\"1258\"], \"textfont\": {\"color\": \"#ffffff\", \"family\": \"sans serif\", \"size\": 18}, \"type\": \"scatter\", \"x\": [1], \"xaxis\": \"x5\", \"y\": [1], \"yaxis\": \"y5\"}, {\"colorscale\": [[0.0, \"#78290f\"], [0.25, \"#ff7d00\"], [0.5, \"#ffecd1\"], [0.75, \"#15616d\"], [1.0, \"#202c39\"]], \"reversescale\": false, \"showscale\": false, \"type\": \"heatmap\", \"x\": [\"0\", \"1\"], \"xaxis\": \"x3\", \"y\": [\"1\", \"0\"], \"yaxis\": \"y3\", \"z\": [[2947, 132], [471, 1205]]}, {\"mode\": \"text\", \"name\": \"\", \"text\": [\"2947\"], \"textfont\": {\"color\": \"#ffffff\", \"family\": \"sans serif\", \"size\": 18}, \"type\": \"scatter\", \"x\": [0], \"xaxis\": \"x3\", \"y\": [0], \"yaxis\": \"y3\"}, {\"mode\": \"text\", \"name\": \"\", \"text\": [\"471\"], \"textfont\": {\"color\": \"#ffffff\", \"family\": \"sans serif\", \"size\": 18}, \"type\": \"scatter\", \"x\": [0], \"xaxis\": \"x3\", \"y\": [1], \"yaxis\": \"y3\"}, {\"mode\": \"text\", \"name\": \"\", \"text\": [\"132\"], \"textfont\": {\"color\": \"#ffffff\", \"family\": \"sans serif\", \"size\": 18}, \"type\": \"scatter\", \"x\": [1], \"xaxis\": \"x3\", \"y\": [0], \"yaxis\": \"y3\"}, {\"mode\": \"text\", \"name\": \"\", \"text\": [\"1205\"], \"textfont\": {\"color\": \"#ffffff\", \"family\": \"sans serif\", \"size\": 18}, \"type\": \"scatter\", \"x\": [1], \"xaxis\": \"x3\", \"y\": [1], \"yaxis\": \"y3\"}],                        {\"annotations\": [{\"font\": {\"size\": 16}, \"showarrow\": false, \"text\": \"Test SVC with Iso, PCA, SMOTE\", \"x\": 0.14444444444444446, \"xanchor\": \"center\", \"xref\": \"paper\", \"y\": 1.0, \"yanchor\": \"bottom\", \"yref\": \"paper\"}, {\"font\": {\"size\": 16}, \"showarrow\": false, \"text\": \"Test SVC with Iso, PCA, Random Undersampling\", \"x\": 0.5, \"xanchor\": \"center\", \"xref\": \"paper\", \"y\": 1.0, \"yanchor\": \"bottom\", \"yref\": \"paper\"}, {\"font\": {\"size\": 16}, \"showarrow\": false, \"text\": \"Test SVC with no preprocessing\", \"x\": 0.8555555555555556, \"xanchor\": \"center\", \"xref\": \"paper\", \"y\": 1.0, \"yanchor\": \"bottom\", \"yref\": \"paper\"}, {\"font\": {\"size\": 16}, \"showarrow\": false, \"text\": \"Test SVC with LOF, PCA, SMOTE\", \"x\": 0.14444444444444446, \"xanchor\": \"center\", \"xref\": \"paper\", \"y\": 0.375, \"yanchor\": \"bottom\", \"yref\": \"paper\"}, {\"font\": {\"size\": 16}, \"showarrow\": false, \"text\": \"Test SVC with LOF, PCA, Random Undersampling\", \"x\": 0.5, \"xanchor\": \"center\", \"xref\": \"paper\", \"y\": 0.375, \"yanchor\": \"bottom\", \"yref\": \"paper\"}], \"autosize\": false, \"height\": 650, \"template\": {\"data\": {\"bar\": [{\"error_x\": {\"color\": \"#2a3f5f\"}, \"error_y\": {\"color\": \"#2a3f5f\"}, \"marker\": {\"line\": {\"color\": \"#E5ECF6\", \"width\": 0.5}}, \"type\": \"bar\"}], \"barpolar\": [{\"marker\": {\"line\": {\"color\": \"#E5ECF6\", \"width\": 0.5}}, \"type\": \"barpolar\"}], \"carpet\": [{\"aaxis\": {\"endlinecolor\": \"#2a3f5f\", \"gridcolor\": \"white\", \"linecolor\": \"white\", \"minorgridcolor\": \"white\", \"startlinecolor\": \"#2a3f5f\"}, \"baxis\": {\"endlinecolor\": \"#2a3f5f\", \"gridcolor\": \"white\", \"linecolor\": \"white\", \"minorgridcolor\": \"white\", \"startlinecolor\": \"#2a3f5f\"}, \"type\": \"carpet\"}], \"choropleth\": [{\"colorbar\": {\"outlinewidth\": 0, \"ticks\": \"\"}, \"type\": \"choropleth\"}], \"contour\": [{\"colorbar\": {\"outlinewidth\": 0, \"ticks\": \"\"}, \"colorscale\": [[0.0, \"#0d0887\"], [0.1111111111111111, \"#46039f\"], [0.2222222222222222, \"#7201a8\"], [0.3333333333333333, \"#9c179e\"], [0.4444444444444444, \"#bd3786\"], [0.5555555555555556, \"#d8576b\"], [0.6666666666666666, \"#ed7953\"], [0.7777777777777778, \"#fb9f3a\"], [0.8888888888888888, \"#fdca26\"], [1.0, \"#f0f921\"]], \"type\": \"contour\"}], \"contourcarpet\": [{\"colorbar\": {\"outlinewidth\": 0, \"ticks\": \"\"}, \"type\": \"contourcarpet\"}], \"heatmap\": [{\"colorbar\": {\"outlinewidth\": 0, \"ticks\": \"\"}, \"colorscale\": [[0.0, \"#0d0887\"], [0.1111111111111111, \"#46039f\"], [0.2222222222222222, \"#7201a8\"], [0.3333333333333333, \"#9c179e\"], [0.4444444444444444, \"#bd3786\"], [0.5555555555555556, \"#d8576b\"], [0.6666666666666666, \"#ed7953\"], [0.7777777777777778, \"#fb9f3a\"], [0.8888888888888888, \"#fdca26\"], [1.0, \"#f0f921\"]], \"type\": \"heatmap\"}], \"heatmapgl\": [{\"colorbar\": {\"outlinewidth\": 0, \"ticks\": \"\"}, \"colorscale\": [[0.0, \"#0d0887\"], [0.1111111111111111, \"#46039f\"], [0.2222222222222222, \"#7201a8\"], [0.3333333333333333, \"#9c179e\"], [0.4444444444444444, \"#bd3786\"], [0.5555555555555556, \"#d8576b\"], [0.6666666666666666, \"#ed7953\"], [0.7777777777777778, \"#fb9f3a\"], [0.8888888888888888, \"#fdca26\"], [1.0, \"#f0f921\"]], \"type\": \"heatmapgl\"}], \"histogram\": [{\"marker\": {\"colorbar\": {\"outlinewidth\": 0, \"ticks\": \"\"}}, \"type\": \"histogram\"}], \"histogram2d\": [{\"colorbar\": {\"outlinewidth\": 0, \"ticks\": \"\"}, \"colorscale\": [[0.0, \"#0d0887\"], [0.1111111111111111, \"#46039f\"], [0.2222222222222222, \"#7201a8\"], [0.3333333333333333, \"#9c179e\"], [0.4444444444444444, \"#bd3786\"], [0.5555555555555556, \"#d8576b\"], [0.6666666666666666, \"#ed7953\"], [0.7777777777777778, \"#fb9f3a\"], [0.8888888888888888, \"#fdca26\"], [1.0, \"#f0f921\"]], \"type\": \"histogram2d\"}], \"histogram2dcontour\": [{\"colorbar\": {\"outlinewidth\": 0, \"ticks\": \"\"}, \"colorscale\": [[0.0, \"#0d0887\"], [0.1111111111111111, \"#46039f\"], [0.2222222222222222, \"#7201a8\"], [0.3333333333333333, \"#9c179e\"], [0.4444444444444444, \"#bd3786\"], [0.5555555555555556, \"#d8576b\"], [0.6666666666666666, \"#ed7953\"], [0.7777777777777778, \"#fb9f3a\"], [0.8888888888888888, \"#fdca26\"], [1.0, \"#f0f921\"]], \"type\": \"histogram2dcontour\"}], \"mesh3d\": [{\"colorbar\": {\"outlinewidth\": 0, \"ticks\": \"\"}, \"type\": \"mesh3d\"}], \"parcoords\": [{\"line\": {\"colorbar\": {\"outlinewidth\": 0, \"ticks\": \"\"}}, \"type\": \"parcoords\"}], \"pie\": [{\"automargin\": true, \"type\": \"pie\"}], \"scatter\": [{\"marker\": {\"colorbar\": {\"outlinewidth\": 0, \"ticks\": \"\"}}, \"type\": \"scatter\"}], \"scatter3d\": [{\"line\": {\"colorbar\": {\"outlinewidth\": 0, \"ticks\": \"\"}}, \"marker\": {\"colorbar\": {\"outlinewidth\": 0, \"ticks\": \"\"}}, \"type\": \"scatter3d\"}], \"scattercarpet\": [{\"marker\": {\"colorbar\": {\"outlinewidth\": 0, \"ticks\": \"\"}}, \"type\": \"scattercarpet\"}], \"scattergeo\": [{\"marker\": {\"colorbar\": {\"outlinewidth\": 0, \"ticks\": \"\"}}, \"type\": \"scattergeo\"}], \"scattergl\": [{\"marker\": {\"colorbar\": {\"outlinewidth\": 0, \"ticks\": \"\"}}, \"type\": \"scattergl\"}], \"scattermapbox\": [{\"marker\": {\"colorbar\": {\"outlinewidth\": 0, \"ticks\": \"\"}}, \"type\": \"scattermapbox\"}], \"scatterpolar\": [{\"marker\": {\"colorbar\": {\"outlinewidth\": 0, \"ticks\": \"\"}}, \"type\": \"scatterpolar\"}], \"scatterpolargl\": [{\"marker\": {\"colorbar\": {\"outlinewidth\": 0, \"ticks\": \"\"}}, \"type\": \"scatterpolargl\"}], \"scatterternary\": [{\"marker\": {\"colorbar\": {\"outlinewidth\": 0, \"ticks\": \"\"}}, \"type\": \"scatterternary\"}], \"surface\": [{\"colorbar\": {\"outlinewidth\": 0, \"ticks\": \"\"}, \"colorscale\": [[0.0, \"#0d0887\"], [0.1111111111111111, \"#46039f\"], [0.2222222222222222, \"#7201a8\"], [0.3333333333333333, \"#9c179e\"], [0.4444444444444444, \"#bd3786\"], [0.5555555555555556, \"#d8576b\"], [0.6666666666666666, \"#ed7953\"], [0.7777777777777778, \"#fb9f3a\"], [0.8888888888888888, \"#fdca26\"], [1.0, \"#f0f921\"]], \"type\": \"surface\"}], \"table\": [{\"cells\": {\"fill\": {\"color\": \"#EBF0F8\"}, \"line\": {\"color\": \"white\"}}, \"header\": {\"fill\": {\"color\": \"#C8D4E3\"}, \"line\": {\"color\": \"white\"}}, \"type\": \"table\"}]}, \"layout\": {\"annotationdefaults\": {\"arrowcolor\": \"#2a3f5f\", \"arrowhead\": 0, \"arrowwidth\": 1}, \"autotypenumbers\": \"strict\", \"coloraxis\": {\"colorbar\": {\"outlinewidth\": 0, \"ticks\": \"\"}}, \"colorscale\": {\"diverging\": [[0, \"#8e0152\"], [0.1, \"#c51b7d\"], [0.2, \"#de77ae\"], [0.3, \"#f1b6da\"], [0.4, \"#fde0ef\"], [0.5, \"#f7f7f7\"], [0.6, \"#e6f5d0\"], [0.7, \"#b8e186\"], [0.8, \"#7fbc41\"], [0.9, \"#4d9221\"], [1, \"#276419\"]], \"sequential\": [[0.0, \"#0d0887\"], [0.1111111111111111, \"#46039f\"], [0.2222222222222222, \"#7201a8\"], [0.3333333333333333, \"#9c179e\"], [0.4444444444444444, \"#bd3786\"], [0.5555555555555556, \"#d8576b\"], [0.6666666666666666, \"#ed7953\"], [0.7777777777777778, \"#fb9f3a\"], [0.8888888888888888, \"#fdca26\"], [1.0, \"#f0f921\"]], \"sequentialminus\": [[0.0, \"#0d0887\"], [0.1111111111111111, \"#46039f\"], [0.2222222222222222, \"#7201a8\"], [0.3333333333333333, \"#9c179e\"], [0.4444444444444444, \"#bd3786\"], [0.5555555555555556, \"#d8576b\"], [0.6666666666666666, \"#ed7953\"], [0.7777777777777778, \"#fb9f3a\"], [0.8888888888888888, \"#fdca26\"], [1.0, \"#f0f921\"]]}, \"colorway\": [\"#636efa\", \"#EF553B\", \"#00cc96\", \"#ab63fa\", \"#FFA15A\", \"#19d3f3\", \"#FF6692\", \"#B6E880\", \"#FF97FF\", \"#FECB52\"], \"font\": {\"color\": \"#2a3f5f\"}, \"geo\": {\"bgcolor\": \"white\", \"lakecolor\": \"white\", \"landcolor\": \"#E5ECF6\", \"showlakes\": true, \"showland\": true, \"subunitcolor\": \"white\"}, \"hoverlabel\": {\"align\": \"left\"}, \"hovermode\": \"closest\", \"mapbox\": {\"style\": \"light\"}, \"paper_bgcolor\": \"white\", \"plot_bgcolor\": \"#E5ECF6\", \"polar\": {\"angularaxis\": {\"gridcolor\": \"white\", \"linecolor\": \"white\", \"ticks\": \"\"}, \"bgcolor\": \"#E5ECF6\", \"radialaxis\": {\"gridcolor\": \"white\", \"linecolor\": \"white\", \"ticks\": \"\"}}, \"scene\": {\"xaxis\": {\"backgroundcolor\": \"#E5ECF6\", \"gridcolor\": \"white\", \"gridwidth\": 2, \"linecolor\": \"white\", \"showbackground\": true, \"ticks\": \"\", \"zerolinecolor\": \"white\"}, \"yaxis\": {\"backgroundcolor\": \"#E5ECF6\", \"gridcolor\": \"white\", \"gridwidth\": 2, \"linecolor\": \"white\", \"showbackground\": true, \"ticks\": \"\", \"zerolinecolor\": \"white\"}, \"zaxis\": {\"backgroundcolor\": \"#E5ECF6\", \"gridcolor\": \"white\", \"gridwidth\": 2, \"linecolor\": \"white\", \"showbackground\": true, \"ticks\": \"\", \"zerolinecolor\": \"white\"}}, \"shapedefaults\": {\"line\": {\"color\": \"#2a3f5f\"}}, \"ternary\": {\"aaxis\": {\"gridcolor\": \"white\", \"linecolor\": \"white\", \"ticks\": \"\"}, \"baxis\": {\"gridcolor\": \"white\", \"linecolor\": \"white\", \"ticks\": \"\"}, \"bgcolor\": \"#E5ECF6\", \"caxis\": {\"gridcolor\": \"white\", \"linecolor\": \"white\", \"ticks\": \"\"}}, \"title\": {\"x\": 0.05}, \"xaxis\": {\"automargin\": true, \"gridcolor\": \"white\", \"linecolor\": \"white\", \"ticks\": \"\", \"title\": {\"standoff\": 15}, \"zerolinecolor\": \"white\", \"zerolinewidth\": 2}, \"yaxis\": {\"automargin\": true, \"gridcolor\": \"white\", \"linecolor\": \"white\", \"ticks\": \"\", \"title\": {\"standoff\": 15}, \"zerolinecolor\": \"white\", \"zerolinewidth\": 2}}}, \"width\": 900, \"xaxis\": {\"anchor\": \"y\", \"domain\": [0.0, 0.2888888888888889], \"title\": {\"text\": \"Predicted\"}}, \"xaxis2\": {\"anchor\": \"y2\", \"domain\": [0.35555555555555557, 0.6444444444444445]}, \"xaxis3\": {\"anchor\": \"y3\", \"domain\": [0.7111111111111111, 1.0]}, \"xaxis4\": {\"anchor\": \"y4\", \"domain\": [0.0, 0.2888888888888889]}, \"xaxis5\": {\"anchor\": \"y5\", \"domain\": [0.35555555555555557, 0.6444444444444445]}, \"xaxis6\": {\"anchor\": \"y6\", \"domain\": [0.7111111111111111, 1.0]}, \"yaxis\": {\"anchor\": \"x\", \"domain\": [0.625, 1.0], \"title\": {\"text\": \"Ground Truth\"}}, \"yaxis2\": {\"anchor\": \"x2\", \"domain\": [0.625, 1.0]}, \"yaxis3\": {\"anchor\": \"x3\", \"domain\": [0.625, 1.0]}, \"yaxis4\": {\"anchor\": \"x4\", \"domain\": [0.0, 0.375]}, \"yaxis5\": {\"anchor\": \"x5\", \"domain\": [0.0, 0.375]}, \"yaxis6\": {\"anchor\": \"x6\", \"domain\": [0.0, 0.375]}},                        {\"responsive\": true}                    ).then(function(){\n",
       "                            \n",
       "var gd = document.getElementById('e63143c7-c364-4358-a91b-c3165a0386ac');\n",
       "var x = new MutationObserver(function (mutations, observer) {{\n",
       "        var display = window.getComputedStyle(gd).display;\n",
       "        if (!display || display === 'none') {{\n",
       "            console.log([gd, 'removed!']);\n",
       "            Plotly.purge(gd);\n",
       "            observer.disconnect();\n",
       "        }}\n",
       "}});\n",
       "\n",
       "// Listen for the removal of the full notebook cells\n",
       "var notebookContainer = gd.closest('#notebook-container');\n",
       "if (notebookContainer) {{\n",
       "    x.observe(notebookContainer, {childList: true});\n",
       "}}\n",
       "\n",
       "// Listen for the clearing of the current output cell\n",
       "var outputEl = gd.closest('.output');\n",
       "if (outputEl) {{\n",
       "    x.observe(outputEl, {childList: true});\n",
       "}}\n",
       "\n",
       "                        })                };                            </script>        </div>\n",
       "</body>\n",
       "</html>"
      ]
     },
     "metadata": {
      "tags": []
     },
     "output_type": "display_data"
    }
   ],
   "source": [
    "print_cfs(svc_cfs)"
   ]
  },
  {
   "cell_type": "code",
   "execution_count": null,
   "metadata": {
    "colab": {
     "base_uri": "https://localhost:8080/",
     "height": 417
    },
    "executionInfo": {
     "elapsed": 1482031,
     "status": "ok",
     "timestamp": 1619882791351,
     "user": {
      "displayName": "Noemi Tomasello",
      "photoUrl": "https://lh6.googleusercontent.com/-0vac6q9vL7M/AAAAAAAAAAI/AAAAAAAACQY/OsKV2bRy4NA/s64/photo.jpg",
      "userId": "14936482853525964477"
     },
     "user_tz": -120
    },
    "id": "YGHEE3sVnyno",
    "outputId": "96e51217-ca9b-4373-e8cb-d569c1ec51db",
    "slideshow": {
     "slide_type": "subslide"
    }
   },
   "outputs": [
    {
     "data": {
      "text/html": [
       "<html>\n",
       "<head><meta charset=\"utf-8\" /></head>\n",
       "<body>\n",
       "    <div>            <script src=\"https://cdnjs.cloudflare.com/ajax/libs/mathjax/2.7.5/MathJax.js?config=TeX-AMS-MML_SVG\"></script><script type=\"text/javascript\">if (window.MathJax) {MathJax.Hub.Config({SVG: {font: \"STIX-Web\"}});}</script>                <script type=\"text/javascript\">window.PlotlyConfig = {MathJaxConfig: 'local'};</script>\n",
       "        <script src=\"https://cdn.plot.ly/plotly-latest.min.js\"></script>                <div id=\"b50cea3a-4f09-4012-afc9-7583f30d299e\" class=\"plotly-graph-div\" style=\"height:400px; width:600px;\"></div>            <script type=\"text/javascript\">                                    window.PLOTLYENV=window.PLOTLYENV || {};                                    if (document.getElementById(\"b50cea3a-4f09-4012-afc9-7583f30d299e\")) {                    Plotly.newPlot(                        \"b50cea3a-4f09-4012-afc9-7583f30d299e\",                        [{\"marker\": {\"color\": \"#ff7d00\"}, \"name\": \"Training accuracy\", \"type\": \"scatter\", \"x\": [1141, 3708, 6276, 8844, 11412], \"y\": [0.8042068361086766, 0.8132686084142395, 0.8162205226258763, 0.8178199909543193, 0.8198913424465475]}, {\"fill\": \"tonexty\", \"fillcolor\": \"rgba(254, 200, 154, 0.2)\", \"hoverinfo\": \"skip\", \"line\": {\"width\": 0}, \"mode\": \"lines\", \"showlegend\": false, \"type\": \"scatter\", \"x\": [1141, 3708, 6276, 8844, 11412], \"y\": [0.8132063086085843, 0.8215732216312986, 0.8211466956938023, 0.821808305325201, 0.8212336105249819]}, {\"fill\": \"tonexty\", \"fillcolor\": \"rgba(254, 200, 154, 0.2)\", \"hoverinfo\": \"skip\", \"line\": {\"width\": 0}, \"mode\": \"lines\", \"showlegend\": false, \"type\": \"scatter\", \"x\": [1141, 3708, 6276, 8844, 11412], \"y\": [0.7952073636087689, 0.8049639951971804, 0.8112943495579503, 0.8138316765834377, 0.8185490743681131]}, {\"marker\": {\"color\": \"#15616d\"}, \"name\": \"Test accuracy\", \"type\": \"scatter\", \"x\": [1141, 3708, 6276, 8844, 11412], \"y\": [0.8061689449702067, 0.8140904311251314, 0.8191377497371188, 0.8218016123378901, 0.8227830354013319]}, {\"fill\": \"tonexty\", \"fillcolor\": \"rgba(0,100,80,0.1)\", \"hoverinfo\": \"skip\", \"line\": {\"width\": 0}, \"mode\": \"lines\", \"showlegend\": false, \"type\": \"scatter\", \"x\": [1141, 3708, 6276, 8844, 11412], \"y\": [0.8107228550350961, 0.8173151069050122, 0.8228669992508294, 0.8261772131887354, 0.8264161678289098]}, {\"fill\": \"tonexty\", \"fillcolor\": \"rgba(0,100,80,0.2)\", \"hoverinfo\": \"skip\", \"line\": {\"width\": 0}, \"mode\": \"lines\", \"showlegend\": false, \"type\": \"scatter\", \"x\": [1141, 3708, 6276, 8844, 11412], \"y\": [0.8016150349053174, 0.8108657553452505, 0.8154085002234083, 0.8174260114870447, 0.819149902973754]}],                        {\"annotations\": [{\"font\": {\"size\": 16}, \"showarrow\": false, \"text\": \"Confusion Matrix\", \"x\": 0.5, \"xanchor\": \"center\", \"xref\": \"paper\", \"y\": 1.0, \"yanchor\": \"bottom\", \"yref\": \"paper\"}], \"autosize\": false, \"height\": 400, \"template\": {\"data\": {\"bar\": [{\"error_x\": {\"color\": \"#2a3f5f\"}, \"error_y\": {\"color\": \"#2a3f5f\"}, \"marker\": {\"line\": {\"color\": \"#E5ECF6\", \"width\": 0.5}}, \"type\": \"bar\"}], \"barpolar\": [{\"marker\": {\"line\": {\"color\": \"#E5ECF6\", \"width\": 0.5}}, \"type\": \"barpolar\"}], \"carpet\": [{\"aaxis\": {\"endlinecolor\": \"#2a3f5f\", \"gridcolor\": \"white\", \"linecolor\": \"white\", \"minorgridcolor\": \"white\", \"startlinecolor\": \"#2a3f5f\"}, \"baxis\": {\"endlinecolor\": \"#2a3f5f\", \"gridcolor\": \"white\", \"linecolor\": \"white\", \"minorgridcolor\": \"white\", \"startlinecolor\": \"#2a3f5f\"}, \"type\": \"carpet\"}], \"choropleth\": [{\"colorbar\": {\"outlinewidth\": 0, \"ticks\": \"\"}, \"type\": \"choropleth\"}], \"contour\": [{\"colorbar\": {\"outlinewidth\": 0, \"ticks\": \"\"}, \"colorscale\": [[0.0, \"#0d0887\"], [0.1111111111111111, \"#46039f\"], [0.2222222222222222, \"#7201a8\"], [0.3333333333333333, \"#9c179e\"], [0.4444444444444444, \"#bd3786\"], [0.5555555555555556, \"#d8576b\"], [0.6666666666666666, \"#ed7953\"], [0.7777777777777778, \"#fb9f3a\"], [0.8888888888888888, \"#fdca26\"], [1.0, \"#f0f921\"]], \"type\": \"contour\"}], \"contourcarpet\": [{\"colorbar\": {\"outlinewidth\": 0, \"ticks\": \"\"}, \"type\": \"contourcarpet\"}], \"heatmap\": [{\"colorbar\": {\"outlinewidth\": 0, \"ticks\": \"\"}, \"colorscale\": [[0.0, \"#0d0887\"], [0.1111111111111111, \"#46039f\"], [0.2222222222222222, \"#7201a8\"], [0.3333333333333333, \"#9c179e\"], [0.4444444444444444, \"#bd3786\"], [0.5555555555555556, \"#d8576b\"], [0.6666666666666666, \"#ed7953\"], [0.7777777777777778, \"#fb9f3a\"], [0.8888888888888888, \"#fdca26\"], [1.0, \"#f0f921\"]], \"type\": \"heatmap\"}], \"heatmapgl\": [{\"colorbar\": {\"outlinewidth\": 0, \"ticks\": \"\"}, \"colorscale\": [[0.0, \"#0d0887\"], [0.1111111111111111, \"#46039f\"], [0.2222222222222222, \"#7201a8\"], [0.3333333333333333, \"#9c179e\"], [0.4444444444444444, \"#bd3786\"], [0.5555555555555556, \"#d8576b\"], [0.6666666666666666, \"#ed7953\"], [0.7777777777777778, \"#fb9f3a\"], [0.8888888888888888, \"#fdca26\"], [1.0, \"#f0f921\"]], \"type\": \"heatmapgl\"}], \"histogram\": [{\"marker\": {\"colorbar\": {\"outlinewidth\": 0, \"ticks\": \"\"}}, \"type\": \"histogram\"}], \"histogram2d\": [{\"colorbar\": {\"outlinewidth\": 0, \"ticks\": \"\"}, \"colorscale\": [[0.0, \"#0d0887\"], [0.1111111111111111, \"#46039f\"], [0.2222222222222222, \"#7201a8\"], [0.3333333333333333, \"#9c179e\"], [0.4444444444444444, \"#bd3786\"], [0.5555555555555556, \"#d8576b\"], [0.6666666666666666, \"#ed7953\"], [0.7777777777777778, \"#fb9f3a\"], [0.8888888888888888, \"#fdca26\"], [1.0, \"#f0f921\"]], \"type\": \"histogram2d\"}], \"histogram2dcontour\": [{\"colorbar\": {\"outlinewidth\": 0, \"ticks\": \"\"}, \"colorscale\": [[0.0, \"#0d0887\"], [0.1111111111111111, \"#46039f\"], [0.2222222222222222, \"#7201a8\"], [0.3333333333333333, \"#9c179e\"], [0.4444444444444444, \"#bd3786\"], [0.5555555555555556, \"#d8576b\"], [0.6666666666666666, \"#ed7953\"], [0.7777777777777778, \"#fb9f3a\"], [0.8888888888888888, \"#fdca26\"], [1.0, \"#f0f921\"]], \"type\": \"histogram2dcontour\"}], \"mesh3d\": [{\"colorbar\": {\"outlinewidth\": 0, \"ticks\": \"\"}, \"type\": \"mesh3d\"}], \"parcoords\": [{\"line\": {\"colorbar\": {\"outlinewidth\": 0, \"ticks\": \"\"}}, \"type\": \"parcoords\"}], \"pie\": [{\"automargin\": true, \"type\": \"pie\"}], \"scatter\": [{\"marker\": {\"colorbar\": {\"outlinewidth\": 0, \"ticks\": \"\"}}, \"type\": \"scatter\"}], \"scatter3d\": [{\"line\": {\"colorbar\": {\"outlinewidth\": 0, \"ticks\": \"\"}}, \"marker\": {\"colorbar\": {\"outlinewidth\": 0, \"ticks\": \"\"}}, \"type\": \"scatter3d\"}], \"scattercarpet\": [{\"marker\": {\"colorbar\": {\"outlinewidth\": 0, \"ticks\": \"\"}}, \"type\": \"scattercarpet\"}], \"scattergeo\": [{\"marker\": {\"colorbar\": {\"outlinewidth\": 0, \"ticks\": \"\"}}, \"type\": \"scattergeo\"}], \"scattergl\": [{\"marker\": {\"colorbar\": {\"outlinewidth\": 0, \"ticks\": \"\"}}, \"type\": \"scattergl\"}], \"scattermapbox\": [{\"marker\": {\"colorbar\": {\"outlinewidth\": 0, \"ticks\": \"\"}}, \"type\": \"scattermapbox\"}], \"scatterpolar\": [{\"marker\": {\"colorbar\": {\"outlinewidth\": 0, \"ticks\": \"\"}}, \"type\": \"scatterpolar\"}], \"scatterpolargl\": [{\"marker\": {\"colorbar\": {\"outlinewidth\": 0, \"ticks\": \"\"}}, \"type\": \"scatterpolargl\"}], \"scatterternary\": [{\"marker\": {\"colorbar\": {\"outlinewidth\": 0, \"ticks\": \"\"}}, \"type\": \"scatterternary\"}], \"surface\": [{\"colorbar\": {\"outlinewidth\": 0, \"ticks\": \"\"}, \"colorscale\": [[0.0, \"#0d0887\"], [0.1111111111111111, \"#46039f\"], [0.2222222222222222, \"#7201a8\"], [0.3333333333333333, \"#9c179e\"], [0.4444444444444444, \"#bd3786\"], [0.5555555555555556, \"#d8576b\"], [0.6666666666666666, \"#ed7953\"], [0.7777777777777778, \"#fb9f3a\"], [0.8888888888888888, \"#fdca26\"], [1.0, \"#f0f921\"]], \"type\": \"surface\"}], \"table\": [{\"cells\": {\"fill\": {\"color\": \"#EBF0F8\"}, \"line\": {\"color\": \"white\"}}, \"header\": {\"fill\": {\"color\": \"#C8D4E3\"}, \"line\": {\"color\": \"white\"}}, \"type\": \"table\"}]}, \"layout\": {\"annotationdefaults\": {\"arrowcolor\": \"#2a3f5f\", \"arrowhead\": 0, \"arrowwidth\": 1}, \"autotypenumbers\": \"strict\", \"coloraxis\": {\"colorbar\": {\"outlinewidth\": 0, \"ticks\": \"\"}}, \"colorscale\": {\"diverging\": [[0, \"#8e0152\"], [0.1, \"#c51b7d\"], [0.2, \"#de77ae\"], [0.3, \"#f1b6da\"], [0.4, \"#fde0ef\"], [0.5, \"#f7f7f7\"], [0.6, \"#e6f5d0\"], [0.7, \"#b8e186\"], [0.8, \"#7fbc41\"], [0.9, \"#4d9221\"], [1, \"#276419\"]], \"sequential\": [[0.0, \"#0d0887\"], [0.1111111111111111, \"#46039f\"], [0.2222222222222222, \"#7201a8\"], [0.3333333333333333, \"#9c179e\"], [0.4444444444444444, \"#bd3786\"], [0.5555555555555556, \"#d8576b\"], [0.6666666666666666, \"#ed7953\"], [0.7777777777777778, \"#fb9f3a\"], [0.8888888888888888, \"#fdca26\"], [1.0, \"#f0f921\"]], \"sequentialminus\": [[0.0, \"#0d0887\"], [0.1111111111111111, \"#46039f\"], [0.2222222222222222, \"#7201a8\"], [0.3333333333333333, \"#9c179e\"], [0.4444444444444444, \"#bd3786\"], [0.5555555555555556, \"#d8576b\"], [0.6666666666666666, \"#ed7953\"], [0.7777777777777778, \"#fb9f3a\"], [0.8888888888888888, \"#fdca26\"], [1.0, \"#f0f921\"]]}, \"colorway\": [\"#636efa\", \"#EF553B\", \"#00cc96\", \"#ab63fa\", \"#FFA15A\", \"#19d3f3\", \"#FF6692\", \"#B6E880\", \"#FF97FF\", \"#FECB52\"], \"font\": {\"color\": \"#2a3f5f\"}, \"geo\": {\"bgcolor\": \"white\", \"lakecolor\": \"white\", \"landcolor\": \"#E5ECF6\", \"showlakes\": true, \"showland\": true, \"subunitcolor\": \"white\"}, \"hoverlabel\": {\"align\": \"left\"}, \"hovermode\": \"closest\", \"mapbox\": {\"style\": \"light\"}, \"paper_bgcolor\": \"white\", \"plot_bgcolor\": \"#E5ECF6\", \"polar\": {\"angularaxis\": {\"gridcolor\": \"white\", \"linecolor\": \"white\", \"ticks\": \"\"}, \"bgcolor\": \"#E5ECF6\", \"radialaxis\": {\"gridcolor\": \"white\", \"linecolor\": \"white\", \"ticks\": \"\"}}, \"scene\": {\"xaxis\": {\"backgroundcolor\": \"#E5ECF6\", \"gridcolor\": \"white\", \"gridwidth\": 2, \"linecolor\": \"white\", \"showbackground\": true, \"ticks\": \"\", \"zerolinecolor\": \"white\"}, \"yaxis\": {\"backgroundcolor\": \"#E5ECF6\", \"gridcolor\": \"white\", \"gridwidth\": 2, \"linecolor\": \"white\", \"showbackground\": true, \"ticks\": \"\", \"zerolinecolor\": \"white\"}, \"zaxis\": {\"backgroundcolor\": \"#E5ECF6\", \"gridcolor\": \"white\", \"gridwidth\": 2, \"linecolor\": \"white\", \"showbackground\": true, \"ticks\": \"\", \"zerolinecolor\": \"white\"}}, \"shapedefaults\": {\"line\": {\"color\": \"#2a3f5f\"}}, \"ternary\": {\"aaxis\": {\"gridcolor\": \"white\", \"linecolor\": \"white\", \"ticks\": \"\"}, \"baxis\": {\"gridcolor\": \"white\", \"linecolor\": \"white\", \"ticks\": \"\"}, \"bgcolor\": \"#E5ECF6\", \"caxis\": {\"gridcolor\": \"white\", \"linecolor\": \"white\", \"ticks\": \"\"}}, \"title\": {\"x\": 0.05}, \"xaxis\": {\"automargin\": true, \"gridcolor\": \"white\", \"linecolor\": \"white\", \"ticks\": \"\", \"title\": {\"standoff\": 15}, \"zerolinecolor\": \"white\", \"zerolinewidth\": 2}, \"yaxis\": {\"automargin\": true, \"gridcolor\": \"white\", \"linecolor\": \"white\", \"ticks\": \"\", \"title\": {\"standoff\": 15}, \"zerolinecolor\": \"white\", \"zerolinewidth\": 2}}}, \"width\": 600, \"xaxis\": {\"anchor\": \"y\", \"domain\": [0.0, 1.0], \"title\": {\"text\": \"Training Example\"}}, \"yaxis\": {\"anchor\": \"x\", \"domain\": [0.0, 1.0], \"title\": {\"text\": \"Scores\"}}},                        {\"responsive\": true}                    ).then(function(){\n",
       "                            \n",
       "var gd = document.getElementById('b50cea3a-4f09-4012-afc9-7583f30d299e');\n",
       "var x = new MutationObserver(function (mutations, observer) {{\n",
       "        var display = window.getComputedStyle(gd).display;\n",
       "        if (!display || display === 'none') {{\n",
       "            console.log([gd, 'removed!']);\n",
       "            Plotly.purge(gd);\n",
       "            observer.disconnect();\n",
       "        }}\n",
       "}});\n",
       "\n",
       "// Listen for the removal of the full notebook cells\n",
       "var notebookContainer = gd.closest('#notebook-container');\n",
       "if (notebookContainer) {{\n",
       "    x.observe(notebookContainer, {childList: true});\n",
       "}}\n",
       "\n",
       "// Listen for the clearing of the current output cell\n",
       "var outputEl = gd.closest('.output');\n",
       "if (outputEl) {{\n",
       "    x.observe(outputEl, {childList: true});\n",
       "}}\n",
       "\n",
       "                        })                };                            </script>        </div>\n",
       "</body>\n",
       "</html>"
      ]
     },
     "metadata": {
      "tags": []
     },
     "output_type": "display_data"
    }
   ],
   "source": [
    "print_lc(SVC(C=1,kernel='rbf'))"
   ]
  },
  {
   "cell_type": "markdown",
   "metadata": {
    "id": "51a8HS6qO2Ir",
    "slideshow": {
     "slide_type": "subslide"
    }
   },
   "source": [
    "In this case, the Recall metric improved and as a matter of fact the number of misclassifications of class 1 (Hadrons) are less then the previous algorithm. Moreover, the learning curves here increase with the increasing of the training samples, but the test accuracy surpasses the training's, indicating and underfitting model and hence suffering of high bias."
   ]
  },
  {
   "cell_type": "markdown",
   "metadata": {
    "id": "znRmBtQ1nhnD",
    "slideshow": {
     "slide_type": "slide"
    }
   },
   "source": [
    "### **K-Nearest Neighbours**\n",
    "KNN is one of the simplest supervised algorithms in machine learning, and it is based on the assumptions that near points are similar. Specifically, given a positive $K$, it identifies the $K$ points that are closest to the test observation indicated with $N_0$, estimate the conditional probability for the class:\n",
    "<br/><br/>\n",
    "\\begin{equation}\n",
    "Pr⁡(Y=j | X=x_0)= \\frac{1}{K}  \\sum_{i ∈ N_0}I(y_i=j)\n",
    "\\end{equation}\n",
    "<br/>\n",
    "Finally, the Bayes rule is applied, and the algorithm classifies the test observation to the class with the highest probability. There are several metrics to evaluate the distance between the test example and the training data points, two can be the Euclidean distance or the Mahalanobis distance:\n",
    "<br/><br/>\n",
    "\\begin{equation} Euclidean_{dist} = \\sqrt{\\sum_{i=1}^{m}(x_i-y_i)^2}\\end{equation}\n",
    "<br/>\n",
    "\\begin{equation} Mahalanobis_{dist} = \\sqrt{(x- y)^{T}\\Sigma^{-1}(x-y)} \\end{equation}\n",
    "<br/>\n",
    "The choice of $K$ has a key role in the behaviour of the algorithm. As $K$ grows, KNN becomes less flexible, and the decision boundaries tends to be linear, and can easily lead to underfitting because the algorithm is less able to generalize. On the other hand, if $K$ is too small it can result in overfitting because the algorithm is too sensible to possible outliers. \n"
   ]
  },
  {
   "cell_type": "code",
   "execution_count": null,
   "metadata": {
    "colab": {
     "base_uri": "https://localhost:8080/"
    },
    "executionInfo": {
     "elapsed": 1559457,
     "status": "ok",
     "timestamp": 1619882868796,
     "user": {
      "displayName": "Noemi Tomasello",
      "photoUrl": "https://lh6.googleusercontent.com/-0vac6q9vL7M/AAAAAAAAAAI/AAAAAAAACQY/OsKV2bRy4NA/s64/photo.jpg",
      "userId": "14936482853525964477"
     },
     "user_tz": -120
    },
    "id": "stsIJCQuFf8M",
    "outputId": "71bf5f2d-a20c-4de9-a0d4-564cf2fa55a5",
    "slideshow": {
     "slide_type": "skip"
    }
   },
   "outputs": [
    {
     "name": "stdout",
     "output_type": "stream",
     "text": [
      "Done!\n"
     ]
    }
   ],
   "source": [
    "params_knn = {\"n_neighbors\": [15,25,50,100],\n",
    "              \"metric\": [\"euclidean\", \"manhattan\", \"chebyshev\"]}\n",
    "\n",
    "pd_knn, knn = training(KNN, params_knn,outliers_iso, SMOTE())"
   ]
  },
  {
   "cell_type": "code",
   "execution_count": null,
   "metadata": {
    "colab": {
     "base_uri": "https://localhost:8080/",
     "height": 542
    },
    "executionInfo": {
     "elapsed": 1559453,
     "status": "ok",
     "timestamp": 1619882868813,
     "user": {
      "displayName": "Noemi Tomasello",
      "photoUrl": "https://lh6.googleusercontent.com/-0vac6q9vL7M/AAAAAAAAAAI/AAAAAAAACQY/OsKV2bRy4NA/s64/photo.jpg",
      "userId": "14936482853525964477"
     },
     "user_tz": -120
    },
    "id": "W24-aqjIQvcj",
    "outputId": "94a57c3f-4cc7-443d-f130-6d40faa58eb6",
    "slideshow": {
     "slide_type": "subslide"
    }
   },
   "outputs": [
    {
     "data": {
      "text/html": [
       "<html>\n",
       "<head><meta charset=\"utf-8\" /></head>\n",
       "<body>\n",
       "    <div>            <script src=\"https://cdnjs.cloudflare.com/ajax/libs/mathjax/2.7.5/MathJax.js?config=TeX-AMS-MML_SVG\"></script><script type=\"text/javascript\">if (window.MathJax) {MathJax.Hub.Config({SVG: {font: \"STIX-Web\"}});}</script>                <script type=\"text/javascript\">window.PlotlyConfig = {MathJaxConfig: 'local'};</script>\n",
       "        <script src=\"https://cdn.plot.ly/plotly-latest.min.js\"></script>                <div id=\"72911993-39e6-4a14-ba73-987194f2e7ff\" class=\"plotly-graph-div\" style=\"height:525px; width:100%;\"></div>            <script type=\"text/javascript\">                                    window.PLOTLYENV=window.PLOTLYENV || {};                                    if (document.getElementById(\"72911993-39e6-4a14-ba73-987194f2e7ff\")) {                    Plotly.newPlot(                        \"72911993-39e6-4a14-ba73-987194f2e7ff\",                        [{\"marker\": {\"color\": \"#78290f\"}, \"name\": \"Accuracy\", \"type\": \"bar\", \"x\": [\"Configuration 1\", \"Configuration 2\", \"Configuration 3\", \"Configuration 4\", \"Configuration 5\", \"Configuration 6\", \"Configuration 7\", \"Configuration 8\", \"Configuration 9\", \"Configuration 10\", \"Configuration 11\", \"Configuration 12\"], \"y\": [0.7638976515948126, 0.7728005608131792, 0.7784086926042761, 0.7775674728356117, 0.7664914125481949, 0.7742726954083421, 0.7812828601472134, 0.7751139151770067, 0.7676130389064143, 0.7704171048019629, 0.7734314756396776, 0.7723799509288469]}, {\"marker\": {\"color\": \"#ff7d00\"}, \"name\": \"Recall\", \"type\": \"bar\", \"x\": [\"Configuration 1\", \"Configuration 2\", \"Configuration 3\", \"Configuration 4\", \"Configuration 5\", \"Configuration 6\", \"Configuration 7\", \"Configuration 8\", \"Configuration 9\", \"Configuration 10\", \"Configuration 11\", \"Configuration 12\"], \"y\": [0.7579803503660675, 0.7583833330348276, 0.7486090630304695, 0.7450154526440639, 0.7613735639389219, 0.7545917138803151, 0.7520002865654533, 0.7424210402723963, 0.7593791479851861, 0.7633739500062686, 0.7490078666197018, 0.7474114582400503]}, {\"marker\": {\"color\": \"#202c39\"}, \"name\": \"Precision\", \"type\": \"bar\", \"x\": [\"Configuration 1\", \"Configuration 2\", \"Configuration 3\", \"Configuration 4\", \"Configuration 5\", \"Configuration 6\", \"Configuration 7\", \"Configuration 8\", \"Configuration 9\", \"Configuration 10\", \"Configuration 11\", \"Configuration 12\"], \"y\": [0.6382179337090289, 0.6520901741500247, 0.6637418196339817, 0.6635297456553142, 0.6413217036626915, 0.6553774692518017, 0.6676450379253771, 0.6601302755047642, 0.6434597712579494, 0.6468243283883536, 0.6554383774296468, 0.6541137384097354]}, {\"marker\": {\"color\": \"#15616d\"}, \"name\": \"F1-score\", \"type\": \"bar\", \"x\": [\"Configuration 1\", \"Configuration 2\", \"Configuration 3\", \"Configuration 4\", \"Configuration 5\", \"Configuration 6\", \"Configuration 7\", \"Configuration 8\", \"Configuration 9\", \"Configuration 10\", \"Configuration 11\", \"Configuration 12\"], \"y\": [0.692823712361734, 0.701067183734003, 0.7034660291151311, 0.7018042179551275, 0.6961150109970569, 0.7014029134560306, 0.7072241280024881, 0.6987815359619247, 0.6964680300086146, 0.7001447467100284, 0.6990032072903329, 0.697612835225725]}],                        {\"annotations\": [{\"font\": {\"size\": 16}, \"showarrow\": false, \"text\": \"S\", \"x\": 0.5, \"xanchor\": \"center\", \"xref\": \"paper\", \"y\": 1.0, \"yanchor\": \"bottom\", \"yref\": \"paper\"}], \"template\": {\"data\": {\"bar\": [{\"error_x\": {\"color\": \"#2a3f5f\"}, \"error_y\": {\"color\": \"#2a3f5f\"}, \"marker\": {\"line\": {\"color\": \"#E5ECF6\", \"width\": 0.5}}, \"type\": \"bar\"}], \"barpolar\": [{\"marker\": {\"line\": {\"color\": \"#E5ECF6\", \"width\": 0.5}}, \"type\": \"barpolar\"}], \"carpet\": [{\"aaxis\": {\"endlinecolor\": \"#2a3f5f\", \"gridcolor\": \"white\", \"linecolor\": \"white\", \"minorgridcolor\": \"white\", \"startlinecolor\": \"#2a3f5f\"}, \"baxis\": {\"endlinecolor\": \"#2a3f5f\", \"gridcolor\": \"white\", \"linecolor\": \"white\", \"minorgridcolor\": \"white\", \"startlinecolor\": \"#2a3f5f\"}, \"type\": \"carpet\"}], \"choropleth\": [{\"colorbar\": {\"outlinewidth\": 0, \"ticks\": \"\"}, \"type\": \"choropleth\"}], \"contour\": [{\"colorbar\": {\"outlinewidth\": 0, \"ticks\": \"\"}, \"colorscale\": [[0.0, \"#0d0887\"], [0.1111111111111111, \"#46039f\"], [0.2222222222222222, \"#7201a8\"], [0.3333333333333333, \"#9c179e\"], [0.4444444444444444, \"#bd3786\"], [0.5555555555555556, \"#d8576b\"], [0.6666666666666666, \"#ed7953\"], [0.7777777777777778, \"#fb9f3a\"], [0.8888888888888888, \"#fdca26\"], [1.0, \"#f0f921\"]], \"type\": \"contour\"}], \"contourcarpet\": [{\"colorbar\": {\"outlinewidth\": 0, \"ticks\": \"\"}, \"type\": \"contourcarpet\"}], \"heatmap\": [{\"colorbar\": {\"outlinewidth\": 0, \"ticks\": \"\"}, \"colorscale\": [[0.0, \"#0d0887\"], [0.1111111111111111, \"#46039f\"], [0.2222222222222222, \"#7201a8\"], [0.3333333333333333, \"#9c179e\"], [0.4444444444444444, \"#bd3786\"], [0.5555555555555556, \"#d8576b\"], [0.6666666666666666, \"#ed7953\"], [0.7777777777777778, \"#fb9f3a\"], [0.8888888888888888, \"#fdca26\"], [1.0, \"#f0f921\"]], \"type\": \"heatmap\"}], \"heatmapgl\": [{\"colorbar\": {\"outlinewidth\": 0, \"ticks\": \"\"}, \"colorscale\": [[0.0, \"#0d0887\"], [0.1111111111111111, \"#46039f\"], [0.2222222222222222, \"#7201a8\"], [0.3333333333333333, \"#9c179e\"], [0.4444444444444444, \"#bd3786\"], [0.5555555555555556, \"#d8576b\"], [0.6666666666666666, \"#ed7953\"], [0.7777777777777778, \"#fb9f3a\"], [0.8888888888888888, \"#fdca26\"], [1.0, \"#f0f921\"]], \"type\": \"heatmapgl\"}], \"histogram\": [{\"marker\": {\"colorbar\": {\"outlinewidth\": 0, \"ticks\": \"\"}}, \"type\": \"histogram\"}], \"histogram2d\": [{\"colorbar\": {\"outlinewidth\": 0, \"ticks\": \"\"}, \"colorscale\": [[0.0, \"#0d0887\"], [0.1111111111111111, \"#46039f\"], [0.2222222222222222, \"#7201a8\"], [0.3333333333333333, \"#9c179e\"], [0.4444444444444444, \"#bd3786\"], [0.5555555555555556, \"#d8576b\"], [0.6666666666666666, \"#ed7953\"], [0.7777777777777778, \"#fb9f3a\"], [0.8888888888888888, \"#fdca26\"], [1.0, \"#f0f921\"]], \"type\": \"histogram2d\"}], \"histogram2dcontour\": [{\"colorbar\": {\"outlinewidth\": 0, \"ticks\": \"\"}, \"colorscale\": [[0.0, \"#0d0887\"], [0.1111111111111111, \"#46039f\"], [0.2222222222222222, \"#7201a8\"], [0.3333333333333333, \"#9c179e\"], [0.4444444444444444, \"#bd3786\"], [0.5555555555555556, \"#d8576b\"], [0.6666666666666666, \"#ed7953\"], [0.7777777777777778, \"#fb9f3a\"], [0.8888888888888888, \"#fdca26\"], [1.0, \"#f0f921\"]], \"type\": \"histogram2dcontour\"}], \"mesh3d\": [{\"colorbar\": {\"outlinewidth\": 0, \"ticks\": \"\"}, \"type\": \"mesh3d\"}], \"parcoords\": [{\"line\": {\"colorbar\": {\"outlinewidth\": 0, \"ticks\": \"\"}}, \"type\": \"parcoords\"}], \"pie\": [{\"automargin\": true, \"type\": \"pie\"}], \"scatter\": [{\"marker\": {\"colorbar\": {\"outlinewidth\": 0, \"ticks\": \"\"}}, \"type\": \"scatter\"}], \"scatter3d\": [{\"line\": {\"colorbar\": {\"outlinewidth\": 0, \"ticks\": \"\"}}, \"marker\": {\"colorbar\": {\"outlinewidth\": 0, \"ticks\": \"\"}}, \"type\": \"scatter3d\"}], \"scattercarpet\": [{\"marker\": {\"colorbar\": {\"outlinewidth\": 0, \"ticks\": \"\"}}, \"type\": \"scattercarpet\"}], \"scattergeo\": [{\"marker\": {\"colorbar\": {\"outlinewidth\": 0, \"ticks\": \"\"}}, \"type\": \"scattergeo\"}], \"scattergl\": [{\"marker\": {\"colorbar\": {\"outlinewidth\": 0, \"ticks\": \"\"}}, \"type\": \"scattergl\"}], \"scattermapbox\": [{\"marker\": {\"colorbar\": {\"outlinewidth\": 0, \"ticks\": \"\"}}, \"type\": \"scattermapbox\"}], \"scatterpolar\": [{\"marker\": {\"colorbar\": {\"outlinewidth\": 0, \"ticks\": \"\"}}, \"type\": \"scatterpolar\"}], \"scatterpolargl\": [{\"marker\": {\"colorbar\": {\"outlinewidth\": 0, \"ticks\": \"\"}}, \"type\": \"scatterpolargl\"}], \"scatterternary\": [{\"marker\": {\"colorbar\": {\"outlinewidth\": 0, \"ticks\": \"\"}}, \"type\": \"scatterternary\"}], \"surface\": [{\"colorbar\": {\"outlinewidth\": 0, \"ticks\": \"\"}, \"colorscale\": [[0.0, \"#0d0887\"], [0.1111111111111111, \"#46039f\"], [0.2222222222222222, \"#7201a8\"], [0.3333333333333333, \"#9c179e\"], [0.4444444444444444, \"#bd3786\"], [0.5555555555555556, \"#d8576b\"], [0.6666666666666666, \"#ed7953\"], [0.7777777777777778, \"#fb9f3a\"], [0.8888888888888888, \"#fdca26\"], [1.0, \"#f0f921\"]], \"type\": \"surface\"}], \"table\": [{\"cells\": {\"fill\": {\"color\": \"#EBF0F8\"}, \"line\": {\"color\": \"white\"}}, \"header\": {\"fill\": {\"color\": \"#C8D4E3\"}, \"line\": {\"color\": \"white\"}}, \"type\": \"table\"}]}, \"layout\": {\"annotationdefaults\": {\"arrowcolor\": \"#2a3f5f\", \"arrowhead\": 0, \"arrowwidth\": 1}, \"autotypenumbers\": \"strict\", \"coloraxis\": {\"colorbar\": {\"outlinewidth\": 0, \"ticks\": \"\"}}, \"colorscale\": {\"diverging\": [[0, \"#8e0152\"], [0.1, \"#c51b7d\"], [0.2, \"#de77ae\"], [0.3, \"#f1b6da\"], [0.4, \"#fde0ef\"], [0.5, \"#f7f7f7\"], [0.6, \"#e6f5d0\"], [0.7, \"#b8e186\"], [0.8, \"#7fbc41\"], [0.9, \"#4d9221\"], [1, \"#276419\"]], \"sequential\": [[0.0, \"#0d0887\"], [0.1111111111111111, \"#46039f\"], [0.2222222222222222, \"#7201a8\"], [0.3333333333333333, \"#9c179e\"], [0.4444444444444444, \"#bd3786\"], [0.5555555555555556, \"#d8576b\"], [0.6666666666666666, \"#ed7953\"], [0.7777777777777778, \"#fb9f3a\"], [0.8888888888888888, \"#fdca26\"], [1.0, \"#f0f921\"]], \"sequentialminus\": [[0.0, \"#0d0887\"], [0.1111111111111111, \"#46039f\"], [0.2222222222222222, \"#7201a8\"], [0.3333333333333333, \"#9c179e\"], [0.4444444444444444, \"#bd3786\"], [0.5555555555555556, \"#d8576b\"], [0.6666666666666666, \"#ed7953\"], [0.7777777777777778, \"#fb9f3a\"], [0.8888888888888888, \"#fdca26\"], [1.0, \"#f0f921\"]]}, \"colorway\": [\"#636efa\", \"#EF553B\", \"#00cc96\", \"#ab63fa\", \"#FFA15A\", \"#19d3f3\", \"#FF6692\", \"#B6E880\", \"#FF97FF\", \"#FECB52\"], \"font\": {\"color\": \"#2a3f5f\"}, \"geo\": {\"bgcolor\": \"white\", \"lakecolor\": \"white\", \"landcolor\": \"#E5ECF6\", \"showlakes\": true, \"showland\": true, \"subunitcolor\": \"white\"}, \"hoverlabel\": {\"align\": \"left\"}, \"hovermode\": \"closest\", \"mapbox\": {\"style\": \"light\"}, \"paper_bgcolor\": \"white\", \"plot_bgcolor\": \"#E5ECF6\", \"polar\": {\"angularaxis\": {\"gridcolor\": \"white\", \"linecolor\": \"white\", \"ticks\": \"\"}, \"bgcolor\": \"#E5ECF6\", \"radialaxis\": {\"gridcolor\": \"white\", \"linecolor\": \"white\", \"ticks\": \"\"}}, \"scene\": {\"xaxis\": {\"backgroundcolor\": \"#E5ECF6\", \"gridcolor\": \"white\", \"gridwidth\": 2, \"linecolor\": \"white\", \"showbackground\": true, \"ticks\": \"\", \"zerolinecolor\": \"white\"}, \"yaxis\": {\"backgroundcolor\": \"#E5ECF6\", \"gridcolor\": \"white\", \"gridwidth\": 2, \"linecolor\": \"white\", \"showbackground\": true, \"ticks\": \"\", \"zerolinecolor\": \"white\"}, \"zaxis\": {\"backgroundcolor\": \"#E5ECF6\", \"gridcolor\": \"white\", \"gridwidth\": 2, \"linecolor\": \"white\", \"showbackground\": true, \"ticks\": \"\", \"zerolinecolor\": \"white\"}}, \"shapedefaults\": {\"line\": {\"color\": \"#2a3f5f\"}}, \"ternary\": {\"aaxis\": {\"gridcolor\": \"white\", \"linecolor\": \"white\", \"ticks\": \"\"}, \"baxis\": {\"gridcolor\": \"white\", \"linecolor\": \"white\", \"ticks\": \"\"}, \"bgcolor\": \"#E5ECF6\", \"caxis\": {\"gridcolor\": \"white\", \"linecolor\": \"white\", \"ticks\": \"\"}}, \"title\": {\"x\": 0.05}, \"xaxis\": {\"automargin\": true, \"gridcolor\": \"white\", \"linecolor\": \"white\", \"ticks\": \"\", \"title\": {\"standoff\": 15}, \"zerolinecolor\": \"white\", \"zerolinewidth\": 2}, \"yaxis\": {\"automargin\": true, \"gridcolor\": \"white\", \"linecolor\": \"white\", \"ticks\": \"\", \"title\": {\"standoff\": 15}, \"zerolinecolor\": \"white\", \"zerolinewidth\": 2}}}, \"xaxis\": {\"anchor\": \"y\", \"domain\": [0.0, 1.0]}, \"yaxis\": {\"anchor\": \"x\", \"domain\": [0.0, 1.0]}},                        {\"responsive\": true}                    ).then(function(){\n",
       "                            \n",
       "var gd = document.getElementById('72911993-39e6-4a14-ba73-987194f2e7ff');\n",
       "var x = new MutationObserver(function (mutations, observer) {{\n",
       "        var display = window.getComputedStyle(gd).display;\n",
       "        if (!display || display === 'none') {{\n",
       "            console.log([gd, 'removed!']);\n",
       "            Plotly.purge(gd);\n",
       "            observer.disconnect();\n",
       "        }}\n",
       "}});\n",
       "\n",
       "// Listen for the removal of the full notebook cells\n",
       "var notebookContainer = gd.closest('#notebook-container');\n",
       "if (notebookContainer) {{\n",
       "    x.observe(notebookContainer, {childList: true});\n",
       "}}\n",
       "\n",
       "// Listen for the clearing of the current output cell\n",
       "var outputEl = gd.closest('.output');\n",
       "if (outputEl) {{\n",
       "    x.observe(outputEl, {childList: true});\n",
       "}}\n",
       "\n",
       "                        })                };                            </script>        </div>\n",
       "</body>\n",
       "</html>"
      ]
     },
     "metadata": {
      "tags": []
     },
     "output_type": "display_data"
    }
   ],
   "source": [
    "df_knn = print_conf_acc(pd_knn)"
   ]
  },
  {
   "cell_type": "code",
   "execution_count": null,
   "metadata": {
    "colab": {
     "base_uri": "https://localhost:8080/"
    },
    "executionInfo": {
     "elapsed": 530,
     "status": "ok",
     "timestamp": 1619882990368,
     "user": {
      "displayName": "Noemi Tomasello",
      "photoUrl": "https://lh6.googleusercontent.com/-0vac6q9vL7M/AAAAAAAAAAI/AAAAAAAACQY/OsKV2bRy4NA/s64/photo.jpg",
      "userId": "14936482853525964477"
     },
     "user_tz": -120
    },
    "id": "Ii9mWT54coWk",
    "outputId": "77305412-d4b8-4d11-c167-12fa329e1845",
    "slideshow": {
     "slide_type": "subslide"
    }
   },
   "outputs": [
    {
     "name": "stdout",
     "output_type": "stream",
     "text": [
      "The best configuration is Configuration 7: {'metric': 'manhattan', 'n_neighbors': 50}\n"
     ]
    }
   ],
   "source": [
    "best_knn = chose_best_params(pd_knn)"
   ]
  },
  {
   "cell_type": "code",
   "execution_count": null,
   "metadata": {
    "colab": {
     "base_uri": "https://localhost:8080/"
    },
    "executionInfo": {
     "elapsed": 26126,
     "status": "ok",
     "timestamp": 1619883015983,
     "user": {
      "displayName": "Noemi Tomasello",
      "photoUrl": "https://lh6.googleusercontent.com/-0vac6q9vL7M/AAAAAAAAAAI/AAAAAAAACQY/OsKV2bRy4NA/s64/photo.jpg",
      "userId": "14936482853525964477"
     },
     "user_tz": -120
    },
    "id": "7ho--SyMc0wG",
    "outputId": "b898be14-4ab7-4102-ef4e-ab4b658d35fe",
    "slideshow": {
     "slide_type": "skip"
    }
   },
   "outputs": [
    {
     "name": "stdout",
     "output_type": "stream",
     "text": [
      "              precision    recall  f1-score   support\n",
      "\n",
      "           0       0.85      0.79      0.82      3079\n",
      "           1       0.66      0.74      0.70      1676\n",
      "\n",
      "    accuracy                           0.77      4755\n",
      "   macro avg       0.75      0.77      0.76      4755\n",
      "weighted avg       0.78      0.77      0.78      4755\n",
      "\n",
      "              precision    recall  f1-score   support\n",
      "\n",
      "           0       0.84      0.82      0.83      3079\n",
      "           1       0.69      0.72      0.70      1676\n",
      "\n",
      "    accuracy                           0.79      4755\n",
      "   macro avg       0.77      0.77      0.77      4755\n",
      "weighted avg       0.79      0.79      0.79      4755\n",
      "\n",
      "              precision    recall  f1-score   support\n",
      "\n",
      "           0       0.84      0.83      0.84      3079\n",
      "           1       0.70      0.71      0.70      1676\n",
      "\n",
      "    accuracy                           0.79      4755\n",
      "   macro avg       0.77      0.77      0.77      4755\n",
      "weighted avg       0.79      0.79      0.79      4755\n",
      "\n",
      "              precision    recall  f1-score   support\n",
      "\n",
      "           0       0.84      0.84      0.84      3079\n",
      "           1       0.71      0.70      0.70      1676\n",
      "\n",
      "    accuracy                           0.79      4755\n",
      "   macro avg       0.77      0.77      0.77      4755\n",
      "weighted avg       0.79      0.79      0.79      4755\n",
      "\n",
      "              precision    recall  f1-score   support\n",
      "\n",
      "           0       0.80      0.98      0.88      3079\n",
      "           1       0.94      0.55      0.69      1676\n",
      "\n",
      "    accuracy                           0.83      4755\n",
      "   macro avg       0.87      0.77      0.79      4755\n",
      "weighted avg       0.85      0.83      0.81      4755\n",
      "\n"
     ]
    }
   ],
   "source": [
    "knn_cfs = []\n",
    "cf_matrix_knn_1, test_knn_iso_pca_smote = testing(KNN, best_knn,outliers_iso, SMOTE()) \n",
    "knn_cfs.append((cf_matrix_knn_1,\"Test KNN with Iso, PCA, SMOTE\"))\n",
    "total_results = total_results.append(pd.Series(['K-Nearest Neighbors',\"Test KNN with Iso, PCA, SMOTE\",\n",
    "                                test_knn_iso_pca_smote[0],test_knn_iso_pca_smote[1],\n",
    "                                test_knn_iso_pca_smote[2],test_knn_iso_pca_smote[3]],index=total_results.columns),ignore_index=True)\n",
    "cf_matrix_knn_2, test_knn_iso_pca_rus = testing(KNN, best_knn,outliers_iso, RandomUnderSampler()) \n",
    "knn_cfs.append((cf_matrix_knn_2,\"Test KNN with Iso, PCA, Random Undersampling\"))\n",
    "total_results = total_results.append(pd.Series(['K-Nearest Neighbors',\"Test KNN with Iso, PCA, Random Undersampling\",\n",
    "                                test_knn_iso_pca_rus[0],test_knn_iso_pca_rus[1],\n",
    "                                test_knn_iso_pca_rus[2],test_knn_iso_pca_rus[3]],index=total_results.columns),ignore_index=True)\n",
    "cf_matrix_knn_3, test_knn_lof_pca_smote = testing(KNN,best_knn,outliers_lof, SMOTE()) \n",
    "knn_cfs.append((cf_matrix_knn_3,\"Test KNN with LOF, PCA, SMOTE\"))\n",
    "total_results = total_results.append(pd.Series(['K-Nearest Neighbors',\"Test KNN with LOF, PCA, SMOTE\",\n",
    "                                test_knn_lof_pca_smote[0],test_knn_lof_pca_smote[1],\n",
    "                                test_knn_lof_pca_smote[2],test_knn_lof_pca_smote[3]],index=total_results.columns),ignore_index=True)\n",
    "cf_matrix_knn_4, test_knn_lof_pca_rus = testing(KNN, best_knn,outliers_lof, RandomUnderSampler()) \n",
    "knn_cfs.append((cf_matrix_knn_4,\"Test KNN with LOF, PCA, Random Undersampling\"))\n",
    "total_results = total_results.append(pd.Series(['K-Nearest Neighbors',\"Test KNN with LOF, PCA, Random Undersampling\",\n",
    "                                test_knn_lof_pca_rus[0],test_knn_lof_pca_rus[1],\n",
    "                                test_knn_lof_pca_rus[2],test_knn_lof_pca_rus[3]],index=total_results.columns),ignore_index=True)\n",
    "cf_matrix_knn_5, test_knn_no_precosseing = testing(KNN, best_knn,outliers_lof, RandomUnderSampler(), doPCA=False,outliers=False, balancing=False) \n",
    "knn_cfs.append((cf_matrix_knn_5,\"Test KNN with no preprocessing\"))\n",
    "total_results = total_results.append(pd.Series(['K-Nearest Neighbors',\"Test KNN with no preprocessing\",\n",
    "                                test_knn_no_precosseing[0],test_knn_no_precosseing[1],\n",
    "                                test_knn_no_precosseing[2],test_knn_no_precosseing[3]],index=total_results.columns),ignore_index=True)"
   ]
  },
  {
   "cell_type": "code",
   "execution_count": null,
   "metadata": {
    "colab": {
     "base_uri": "https://localhost:8080/",
     "height": 667
    },
    "executionInfo": {
     "elapsed": 26129,
     "status": "ok",
     "timestamp": 1619883016000,
     "user": {
      "displayName": "Noemi Tomasello",
      "photoUrl": "https://lh6.googleusercontent.com/-0vac6q9vL7M/AAAAAAAAAAI/AAAAAAAACQY/OsKV2bRy4NA/s64/photo.jpg",
      "userId": "14936482853525964477"
     },
     "user_tz": -120
    },
    "id": "uyV2bD2rePWu",
    "outputId": "e02d8edd-eb7e-4c39-fe3b-c936d738a1e4",
    "slideshow": {
     "slide_type": "subslide"
    }
   },
   "outputs": [
    {
     "data": {
      "text/html": [
       "<html>\n",
       "<head><meta charset=\"utf-8\" /></head>\n",
       "<body>\n",
       "    <div>            <script src=\"https://cdnjs.cloudflare.com/ajax/libs/mathjax/2.7.5/MathJax.js?config=TeX-AMS-MML_SVG\"></script><script type=\"text/javascript\">if (window.MathJax) {MathJax.Hub.Config({SVG: {font: \"STIX-Web\"}});}</script>                <script type=\"text/javascript\">window.PlotlyConfig = {MathJaxConfig: 'local'};</script>\n",
       "        <script src=\"https://cdn.plot.ly/plotly-latest.min.js\"></script>                <div id=\"d05432f4-d99e-4bd7-866c-d0def06ff402\" class=\"plotly-graph-div\" style=\"height:650px; width:900px;\"></div>            <script type=\"text/javascript\">                                    window.PLOTLYENV=window.PLOTLYENV || {};                                    if (document.getElementById(\"d05432f4-d99e-4bd7-866c-d0def06ff402\")) {                    Plotly.newPlot(                        \"d05432f4-d99e-4bd7-866c-d0def06ff402\",                        [{\"colorscale\": [[0.0, \"#78290f\"], [0.25, \"#ff7d00\"], [0.5, \"#ffecd1\"], [0.75, \"#15616d\"], [1.0, \"#202c39\"]], \"reversescale\": false, \"showscale\": false, \"type\": \"heatmap\", \"x\": [\"0\", \"1\"], \"xaxis\": \"x\", \"y\": [\"1\", \"0\"], \"yaxis\": \"y\", \"z\": [[2437, 642], [435, 1241]]}, {\"mode\": \"text\", \"name\": \"\", \"text\": [\"2437\"], \"textfont\": {\"color\": \"#ffffff\", \"family\": \"sans serif\", \"size\": 18}, \"type\": \"scatter\", \"x\": [0], \"xaxis\": \"x\", \"y\": [0], \"yaxis\": \"y\"}, {\"mode\": \"text\", \"name\": \"\", \"text\": [\"435\"], \"textfont\": {\"color\": \"#ffffff\", \"family\": \"sans serif\", \"size\": 18}, \"type\": \"scatter\", \"x\": [0], \"xaxis\": \"x\", \"y\": [1], \"yaxis\": \"y\"}, {\"mode\": \"text\", \"name\": \"\", \"text\": [\"642\"], \"textfont\": {\"color\": \"#ffffff\", \"family\": \"sans serif\", \"size\": 18}, \"type\": \"scatter\", \"x\": [1], \"xaxis\": \"x\", \"y\": [0], \"yaxis\": \"y\"}, {\"mode\": \"text\", \"name\": \"\", \"text\": [\"1241\"], \"textfont\": {\"color\": \"#ffffff\", \"family\": \"sans serif\", \"size\": 18}, \"type\": \"scatter\", \"x\": [1], \"xaxis\": \"x\", \"y\": [1], \"yaxis\": \"y\"}, {\"colorscale\": [[0.0, \"#78290f\"], [0.25, \"#ff7d00\"], [0.5, \"#ffecd1\"], [0.75, \"#15616d\"], [1.0, \"#202c39\"]], \"reversescale\": false, \"showscale\": false, \"type\": \"heatmap\", \"x\": [\"0\", \"1\"], \"xaxis\": \"x2\", \"y\": [\"1\", \"0\"], \"yaxis\": \"y2\", \"z\": [[2536, 543], [473, 1203]]}, {\"mode\": \"text\", \"name\": \"\", \"text\": [\"2536\"], \"textfont\": {\"color\": \"#ffffff\", \"family\": \"sans serif\", \"size\": 18}, \"type\": \"scatter\", \"x\": [0], \"xaxis\": \"x2\", \"y\": [0], \"yaxis\": \"y2\"}, {\"mode\": \"text\", \"name\": \"\", \"text\": [\"473\"], \"textfont\": {\"color\": \"#ffffff\", \"family\": \"sans serif\", \"size\": 18}, \"type\": \"scatter\", \"x\": [0], \"xaxis\": \"x2\", \"y\": [1], \"yaxis\": \"y2\"}, {\"mode\": \"text\", \"name\": \"\", \"text\": [\"543\"], \"textfont\": {\"color\": \"#ffffff\", \"family\": \"sans serif\", \"size\": 18}, \"type\": \"scatter\", \"x\": [1], \"xaxis\": \"x2\", \"y\": [0], \"yaxis\": \"y2\"}, {\"mode\": \"text\", \"name\": \"\", \"text\": [\"1203\"], \"textfont\": {\"color\": \"#ffffff\", \"family\": \"sans serif\", \"size\": 18}, \"type\": \"scatter\", \"x\": [1], \"xaxis\": \"x2\", \"y\": [1], \"yaxis\": \"y2\"}, {\"colorscale\": [[0.0, \"#78290f\"], [0.25, \"#ff7d00\"], [0.5, \"#ffecd1\"], [0.75, \"#15616d\"], [1.0, \"#202c39\"]], \"reversescale\": false, \"showscale\": false, \"type\": \"heatmap\", \"x\": [\"0\", \"1\"], \"xaxis\": \"x4\", \"y\": [\"1\", \"0\"], \"yaxis\": \"y4\", \"z\": [[2555, 524], [480, 1196]]}, {\"mode\": \"text\", \"name\": \"\", \"text\": [\"2555\"], \"textfont\": {\"color\": \"#ffffff\", \"family\": \"sans serif\", \"size\": 18}, \"type\": \"scatter\", \"x\": [0], \"xaxis\": \"x4\", \"y\": [0], \"yaxis\": \"y4\"}, {\"mode\": \"text\", \"name\": \"\", \"text\": [\"480\"], \"textfont\": {\"color\": \"#ffffff\", \"family\": \"sans serif\", \"size\": 18}, \"type\": \"scatter\", \"x\": [0], \"xaxis\": \"x4\", \"y\": [1], \"yaxis\": \"y4\"}, {\"mode\": \"text\", \"name\": \"\", \"text\": [\"524\"], \"textfont\": {\"color\": \"#ffffff\", \"family\": \"sans serif\", \"size\": 18}, \"type\": \"scatter\", \"x\": [1], \"xaxis\": \"x4\", \"y\": [0], \"yaxis\": \"y4\"}, {\"mode\": \"text\", \"name\": \"\", \"text\": [\"1196\"], \"textfont\": {\"color\": \"#ffffff\", \"family\": \"sans serif\", \"size\": 18}, \"type\": \"scatter\", \"x\": [1], \"xaxis\": \"x4\", \"y\": [1], \"yaxis\": \"y4\"}, {\"colorscale\": [[0.0, \"#78290f\"], [0.25, \"#ff7d00\"], [0.5, \"#ffecd1\"], [0.75, \"#15616d\"], [1.0, \"#202c39\"]], \"reversescale\": false, \"showscale\": false, \"type\": \"heatmap\", \"x\": [\"0\", \"1\"], \"xaxis\": \"x5\", \"y\": [\"1\", \"0\"], \"yaxis\": \"y5\", \"z\": [[2596, 483], [510, 1166]]}, {\"mode\": \"text\", \"name\": \"\", \"text\": [\"2596\"], \"textfont\": {\"color\": \"#ffffff\", \"family\": \"sans serif\", \"size\": 18}, \"type\": \"scatter\", \"x\": [0], \"xaxis\": \"x5\", \"y\": [0], \"yaxis\": \"y5\"}, {\"mode\": \"text\", \"name\": \"\", \"text\": [\"510\"], \"textfont\": {\"color\": \"#ffffff\", \"family\": \"sans serif\", \"size\": 18}, \"type\": \"scatter\", \"x\": [0], \"xaxis\": \"x5\", \"y\": [1], \"yaxis\": \"y5\"}, {\"mode\": \"text\", \"name\": \"\", \"text\": [\"483\"], \"textfont\": {\"color\": \"#ffffff\", \"family\": \"sans serif\", \"size\": 18}, \"type\": \"scatter\", \"x\": [1], \"xaxis\": \"x5\", \"y\": [0], \"yaxis\": \"y5\"}, {\"mode\": \"text\", \"name\": \"\", \"text\": [\"1166\"], \"textfont\": {\"color\": \"#ffffff\", \"family\": \"sans serif\", \"size\": 18}, \"type\": \"scatter\", \"x\": [1], \"xaxis\": \"x5\", \"y\": [1], \"yaxis\": \"y5\"}, {\"colorscale\": [[0.0, \"#78290f\"], [0.25, \"#ff7d00\"], [0.5, \"#ffecd1\"], [0.75, \"#15616d\"], [1.0, \"#202c39\"]], \"reversescale\": false, \"showscale\": false, \"type\": \"heatmap\", \"x\": [\"0\", \"1\"], \"xaxis\": \"x3\", \"y\": [\"1\", \"0\"], \"yaxis\": \"y3\", \"z\": [[3015, 64], [752, 924]]}, {\"mode\": \"text\", \"name\": \"\", \"text\": [\"3015\"], \"textfont\": {\"color\": \"#ffffff\", \"family\": \"sans serif\", \"size\": 18}, \"type\": \"scatter\", \"x\": [0], \"xaxis\": \"x3\", \"y\": [0], \"yaxis\": \"y3\"}, {\"mode\": \"text\", \"name\": \"\", \"text\": [\"752\"], \"textfont\": {\"color\": \"#ffffff\", \"family\": \"sans serif\", \"size\": 18}, \"type\": \"scatter\", \"x\": [0], \"xaxis\": \"x3\", \"y\": [1], \"yaxis\": \"y3\"}, {\"mode\": \"text\", \"name\": \"\", \"text\": [\"64\"], \"textfont\": {\"color\": \"#ffffff\", \"family\": \"sans serif\", \"size\": 18}, \"type\": \"scatter\", \"x\": [1], \"xaxis\": \"x3\", \"y\": [0], \"yaxis\": \"y3\"}, {\"mode\": \"text\", \"name\": \"\", \"text\": [\"924\"], \"textfont\": {\"color\": \"#ffffff\", \"family\": \"sans serif\", \"size\": 18}, \"type\": \"scatter\", \"x\": [1], \"xaxis\": \"x3\", \"y\": [1], \"yaxis\": \"y3\"}],                        {\"annotations\": [{\"font\": {\"size\": 16}, \"showarrow\": false, \"text\": \"Test KNN with Iso, PCA, SMOTE\", \"x\": 0.14444444444444446, \"xanchor\": \"center\", \"xref\": \"paper\", \"y\": 1.0, \"yanchor\": \"bottom\", \"yref\": \"paper\"}, {\"font\": {\"size\": 16}, \"showarrow\": false, \"text\": \"Test KNN with Iso, PCA, Random Undersampling\", \"x\": 0.5, \"xanchor\": \"center\", \"xref\": \"paper\", \"y\": 1.0, \"yanchor\": \"bottom\", \"yref\": \"paper\"}, {\"font\": {\"size\": 16}, \"showarrow\": false, \"text\": \"Test KNN with no preprocessing\", \"x\": 0.8555555555555556, \"xanchor\": \"center\", \"xref\": \"paper\", \"y\": 1.0, \"yanchor\": \"bottom\", \"yref\": \"paper\"}, {\"font\": {\"size\": 16}, \"showarrow\": false, \"text\": \"Test KNN with LOF, PCA, SMOTE\", \"x\": 0.14444444444444446, \"xanchor\": \"center\", \"xref\": \"paper\", \"y\": 0.375, \"yanchor\": \"bottom\", \"yref\": \"paper\"}, {\"font\": {\"size\": 16}, \"showarrow\": false, \"text\": \"Test KNN with LOF, PCA, Random Undersampling\", \"x\": 0.5, \"xanchor\": \"center\", \"xref\": \"paper\", \"y\": 0.375, \"yanchor\": \"bottom\", \"yref\": \"paper\"}], \"autosize\": false, \"height\": 650, \"template\": {\"data\": {\"bar\": [{\"error_x\": {\"color\": \"#2a3f5f\"}, \"error_y\": {\"color\": \"#2a3f5f\"}, \"marker\": {\"line\": {\"color\": \"#E5ECF6\", \"width\": 0.5}}, \"type\": \"bar\"}], \"barpolar\": [{\"marker\": {\"line\": {\"color\": \"#E5ECF6\", \"width\": 0.5}}, \"type\": \"barpolar\"}], \"carpet\": [{\"aaxis\": {\"endlinecolor\": \"#2a3f5f\", \"gridcolor\": \"white\", \"linecolor\": \"white\", \"minorgridcolor\": \"white\", \"startlinecolor\": \"#2a3f5f\"}, \"baxis\": {\"endlinecolor\": \"#2a3f5f\", \"gridcolor\": \"white\", \"linecolor\": \"white\", \"minorgridcolor\": \"white\", \"startlinecolor\": \"#2a3f5f\"}, \"type\": \"carpet\"}], \"choropleth\": [{\"colorbar\": {\"outlinewidth\": 0, \"ticks\": \"\"}, \"type\": \"choropleth\"}], \"contour\": [{\"colorbar\": {\"outlinewidth\": 0, \"ticks\": \"\"}, \"colorscale\": [[0.0, \"#0d0887\"], [0.1111111111111111, \"#46039f\"], [0.2222222222222222, \"#7201a8\"], [0.3333333333333333, \"#9c179e\"], [0.4444444444444444, \"#bd3786\"], [0.5555555555555556, \"#d8576b\"], [0.6666666666666666, \"#ed7953\"], [0.7777777777777778, \"#fb9f3a\"], [0.8888888888888888, \"#fdca26\"], [1.0, \"#f0f921\"]], \"type\": \"contour\"}], \"contourcarpet\": [{\"colorbar\": {\"outlinewidth\": 0, \"ticks\": \"\"}, \"type\": \"contourcarpet\"}], \"heatmap\": [{\"colorbar\": {\"outlinewidth\": 0, \"ticks\": \"\"}, \"colorscale\": [[0.0, \"#0d0887\"], [0.1111111111111111, \"#46039f\"], [0.2222222222222222, \"#7201a8\"], [0.3333333333333333, \"#9c179e\"], [0.4444444444444444, \"#bd3786\"], [0.5555555555555556, \"#d8576b\"], [0.6666666666666666, \"#ed7953\"], [0.7777777777777778, \"#fb9f3a\"], [0.8888888888888888, \"#fdca26\"], [1.0, \"#f0f921\"]], \"type\": \"heatmap\"}], \"heatmapgl\": [{\"colorbar\": {\"outlinewidth\": 0, \"ticks\": \"\"}, \"colorscale\": [[0.0, \"#0d0887\"], [0.1111111111111111, \"#46039f\"], [0.2222222222222222, \"#7201a8\"], [0.3333333333333333, \"#9c179e\"], [0.4444444444444444, \"#bd3786\"], [0.5555555555555556, \"#d8576b\"], [0.6666666666666666, \"#ed7953\"], [0.7777777777777778, \"#fb9f3a\"], [0.8888888888888888, \"#fdca26\"], [1.0, \"#f0f921\"]], \"type\": \"heatmapgl\"}], \"histogram\": [{\"marker\": {\"colorbar\": {\"outlinewidth\": 0, \"ticks\": \"\"}}, \"type\": \"histogram\"}], \"histogram2d\": [{\"colorbar\": {\"outlinewidth\": 0, \"ticks\": \"\"}, \"colorscale\": [[0.0, \"#0d0887\"], [0.1111111111111111, \"#46039f\"], [0.2222222222222222, \"#7201a8\"], [0.3333333333333333, \"#9c179e\"], [0.4444444444444444, \"#bd3786\"], [0.5555555555555556, \"#d8576b\"], [0.6666666666666666, \"#ed7953\"], [0.7777777777777778, \"#fb9f3a\"], [0.8888888888888888, \"#fdca26\"], [1.0, \"#f0f921\"]], \"type\": \"histogram2d\"}], \"histogram2dcontour\": [{\"colorbar\": {\"outlinewidth\": 0, \"ticks\": \"\"}, \"colorscale\": [[0.0, \"#0d0887\"], [0.1111111111111111, \"#46039f\"], [0.2222222222222222, \"#7201a8\"], [0.3333333333333333, \"#9c179e\"], [0.4444444444444444, \"#bd3786\"], [0.5555555555555556, \"#d8576b\"], [0.6666666666666666, \"#ed7953\"], [0.7777777777777778, \"#fb9f3a\"], [0.8888888888888888, \"#fdca26\"], [1.0, \"#f0f921\"]], \"type\": \"histogram2dcontour\"}], \"mesh3d\": [{\"colorbar\": {\"outlinewidth\": 0, \"ticks\": \"\"}, \"type\": \"mesh3d\"}], \"parcoords\": [{\"line\": {\"colorbar\": {\"outlinewidth\": 0, \"ticks\": \"\"}}, \"type\": \"parcoords\"}], \"pie\": [{\"automargin\": true, \"type\": \"pie\"}], \"scatter\": [{\"marker\": {\"colorbar\": {\"outlinewidth\": 0, \"ticks\": \"\"}}, \"type\": \"scatter\"}], \"scatter3d\": [{\"line\": {\"colorbar\": {\"outlinewidth\": 0, \"ticks\": \"\"}}, \"marker\": {\"colorbar\": {\"outlinewidth\": 0, \"ticks\": \"\"}}, \"type\": \"scatter3d\"}], \"scattercarpet\": [{\"marker\": {\"colorbar\": {\"outlinewidth\": 0, \"ticks\": \"\"}}, \"type\": \"scattercarpet\"}], \"scattergeo\": [{\"marker\": {\"colorbar\": {\"outlinewidth\": 0, \"ticks\": \"\"}}, \"type\": \"scattergeo\"}], \"scattergl\": [{\"marker\": {\"colorbar\": {\"outlinewidth\": 0, \"ticks\": \"\"}}, \"type\": \"scattergl\"}], \"scattermapbox\": [{\"marker\": {\"colorbar\": {\"outlinewidth\": 0, \"ticks\": \"\"}}, \"type\": \"scattermapbox\"}], \"scatterpolar\": [{\"marker\": {\"colorbar\": {\"outlinewidth\": 0, \"ticks\": \"\"}}, \"type\": \"scatterpolar\"}], \"scatterpolargl\": [{\"marker\": {\"colorbar\": {\"outlinewidth\": 0, \"ticks\": \"\"}}, \"type\": \"scatterpolargl\"}], \"scatterternary\": [{\"marker\": {\"colorbar\": {\"outlinewidth\": 0, \"ticks\": \"\"}}, \"type\": \"scatterternary\"}], \"surface\": [{\"colorbar\": {\"outlinewidth\": 0, \"ticks\": \"\"}, \"colorscale\": [[0.0, \"#0d0887\"], [0.1111111111111111, \"#46039f\"], [0.2222222222222222, \"#7201a8\"], [0.3333333333333333, \"#9c179e\"], [0.4444444444444444, \"#bd3786\"], [0.5555555555555556, \"#d8576b\"], [0.6666666666666666, \"#ed7953\"], [0.7777777777777778, \"#fb9f3a\"], [0.8888888888888888, \"#fdca26\"], [1.0, \"#f0f921\"]], \"type\": \"surface\"}], \"table\": [{\"cells\": {\"fill\": {\"color\": \"#EBF0F8\"}, \"line\": {\"color\": \"white\"}}, \"header\": {\"fill\": {\"color\": \"#C8D4E3\"}, \"line\": {\"color\": \"white\"}}, \"type\": \"table\"}]}, \"layout\": {\"annotationdefaults\": {\"arrowcolor\": \"#2a3f5f\", \"arrowhead\": 0, \"arrowwidth\": 1}, \"autotypenumbers\": \"strict\", \"coloraxis\": {\"colorbar\": {\"outlinewidth\": 0, \"ticks\": \"\"}}, \"colorscale\": {\"diverging\": [[0, \"#8e0152\"], [0.1, \"#c51b7d\"], [0.2, \"#de77ae\"], [0.3, \"#f1b6da\"], [0.4, \"#fde0ef\"], [0.5, \"#f7f7f7\"], [0.6, \"#e6f5d0\"], [0.7, \"#b8e186\"], [0.8, \"#7fbc41\"], [0.9, \"#4d9221\"], [1, \"#276419\"]], \"sequential\": [[0.0, \"#0d0887\"], [0.1111111111111111, \"#46039f\"], [0.2222222222222222, \"#7201a8\"], [0.3333333333333333, \"#9c179e\"], [0.4444444444444444, \"#bd3786\"], [0.5555555555555556, \"#d8576b\"], [0.6666666666666666, \"#ed7953\"], [0.7777777777777778, \"#fb9f3a\"], [0.8888888888888888, \"#fdca26\"], [1.0, \"#f0f921\"]], \"sequentialminus\": [[0.0, \"#0d0887\"], [0.1111111111111111, \"#46039f\"], [0.2222222222222222, \"#7201a8\"], [0.3333333333333333, \"#9c179e\"], [0.4444444444444444, \"#bd3786\"], [0.5555555555555556, \"#d8576b\"], [0.6666666666666666, \"#ed7953\"], [0.7777777777777778, \"#fb9f3a\"], [0.8888888888888888, \"#fdca26\"], [1.0, \"#f0f921\"]]}, \"colorway\": [\"#636efa\", \"#EF553B\", \"#00cc96\", \"#ab63fa\", \"#FFA15A\", \"#19d3f3\", \"#FF6692\", \"#B6E880\", \"#FF97FF\", \"#FECB52\"], \"font\": {\"color\": \"#2a3f5f\"}, \"geo\": {\"bgcolor\": \"white\", \"lakecolor\": \"white\", \"landcolor\": \"#E5ECF6\", \"showlakes\": true, \"showland\": true, \"subunitcolor\": \"white\"}, \"hoverlabel\": {\"align\": \"left\"}, \"hovermode\": \"closest\", \"mapbox\": {\"style\": \"light\"}, \"paper_bgcolor\": \"white\", \"plot_bgcolor\": \"#E5ECF6\", \"polar\": {\"angularaxis\": {\"gridcolor\": \"white\", \"linecolor\": \"white\", \"ticks\": \"\"}, \"bgcolor\": \"#E5ECF6\", \"radialaxis\": {\"gridcolor\": \"white\", \"linecolor\": \"white\", \"ticks\": \"\"}}, \"scene\": {\"xaxis\": {\"backgroundcolor\": \"#E5ECF6\", \"gridcolor\": \"white\", \"gridwidth\": 2, \"linecolor\": \"white\", \"showbackground\": true, \"ticks\": \"\", \"zerolinecolor\": \"white\"}, \"yaxis\": {\"backgroundcolor\": \"#E5ECF6\", \"gridcolor\": \"white\", \"gridwidth\": 2, \"linecolor\": \"white\", \"showbackground\": true, \"ticks\": \"\", \"zerolinecolor\": \"white\"}, \"zaxis\": {\"backgroundcolor\": \"#E5ECF6\", \"gridcolor\": \"white\", \"gridwidth\": 2, \"linecolor\": \"white\", \"showbackground\": true, \"ticks\": \"\", \"zerolinecolor\": \"white\"}}, \"shapedefaults\": {\"line\": {\"color\": \"#2a3f5f\"}}, \"ternary\": {\"aaxis\": {\"gridcolor\": \"white\", \"linecolor\": \"white\", \"ticks\": \"\"}, \"baxis\": {\"gridcolor\": \"white\", \"linecolor\": \"white\", \"ticks\": \"\"}, \"bgcolor\": \"#E5ECF6\", \"caxis\": {\"gridcolor\": \"white\", \"linecolor\": \"white\", \"ticks\": \"\"}}, \"title\": {\"x\": 0.05}, \"xaxis\": {\"automargin\": true, \"gridcolor\": \"white\", \"linecolor\": \"white\", \"ticks\": \"\", \"title\": {\"standoff\": 15}, \"zerolinecolor\": \"white\", \"zerolinewidth\": 2}, \"yaxis\": {\"automargin\": true, \"gridcolor\": \"white\", \"linecolor\": \"white\", \"ticks\": \"\", \"title\": {\"standoff\": 15}, \"zerolinecolor\": \"white\", \"zerolinewidth\": 2}}}, \"width\": 900, \"xaxis\": {\"anchor\": \"y\", \"domain\": [0.0, 0.2888888888888889], \"title\": {\"text\": \"Predicted\"}}, \"xaxis2\": {\"anchor\": \"y2\", \"domain\": [0.35555555555555557, 0.6444444444444445]}, \"xaxis3\": {\"anchor\": \"y3\", \"domain\": [0.7111111111111111, 1.0]}, \"xaxis4\": {\"anchor\": \"y4\", \"domain\": [0.0, 0.2888888888888889]}, \"xaxis5\": {\"anchor\": \"y5\", \"domain\": [0.35555555555555557, 0.6444444444444445]}, \"xaxis6\": {\"anchor\": \"y6\", \"domain\": [0.7111111111111111, 1.0]}, \"yaxis\": {\"anchor\": \"x\", \"domain\": [0.625, 1.0], \"title\": {\"text\": \"Ground Truth\"}}, \"yaxis2\": {\"anchor\": \"x2\", \"domain\": [0.625, 1.0]}, \"yaxis3\": {\"anchor\": \"x3\", \"domain\": [0.625, 1.0]}, \"yaxis4\": {\"anchor\": \"x4\", \"domain\": [0.0, 0.375]}, \"yaxis5\": {\"anchor\": \"x5\", \"domain\": [0.0, 0.375]}, \"yaxis6\": {\"anchor\": \"x6\", \"domain\": [0.0, 0.375]}},                        {\"responsive\": true}                    ).then(function(){\n",
       "                            \n",
       "var gd = document.getElementById('d05432f4-d99e-4bd7-866c-d0def06ff402');\n",
       "var x = new MutationObserver(function (mutations, observer) {{\n",
       "        var display = window.getComputedStyle(gd).display;\n",
       "        if (!display || display === 'none') {{\n",
       "            console.log([gd, 'removed!']);\n",
       "            Plotly.purge(gd);\n",
       "            observer.disconnect();\n",
       "        }}\n",
       "}});\n",
       "\n",
       "// Listen for the removal of the full notebook cells\n",
       "var notebookContainer = gd.closest('#notebook-container');\n",
       "if (notebookContainer) {{\n",
       "    x.observe(notebookContainer, {childList: true});\n",
       "}}\n",
       "\n",
       "// Listen for the clearing of the current output cell\n",
       "var outputEl = gd.closest('.output');\n",
       "if (outputEl) {{\n",
       "    x.observe(outputEl, {childList: true});\n",
       "}}\n",
       "\n",
       "                        })                };                            </script>        </div>\n",
       "</body>\n",
       "</html>"
      ]
     },
     "metadata": {
      "tags": []
     },
     "output_type": "display_data"
    }
   ],
   "source": [
    "print_cfs(knn_cfs)"
   ]
  },
  {
   "cell_type": "code",
   "execution_count": null,
   "metadata": {
    "colab": {
     "base_uri": "https://localhost:8080/",
     "height": 417
    },
    "executionInfo": {
     "elapsed": 50871,
     "status": "ok",
     "timestamp": 1619883040750,
     "user": {
      "displayName": "Noemi Tomasello",
      "photoUrl": "https://lh6.googleusercontent.com/-0vac6q9vL7M/AAAAAAAAAAI/AAAAAAAACQY/OsKV2bRy4NA/s64/photo.jpg",
      "userId": "14936482853525964477"
     },
     "user_tz": -120
    },
    "id": "JcdAfQoToUAF",
    "outputId": "eba61a81-900a-4aec-bca1-091e5aadeadd",
    "slideshow": {
     "slide_type": "subslide"
    }
   },
   "outputs": [
    {
     "data": {
      "text/html": [
       "<html>\n",
       "<head><meta charset=\"utf-8\" /></head>\n",
       "<body>\n",
       "    <div>            <script src=\"https://cdnjs.cloudflare.com/ajax/libs/mathjax/2.7.5/MathJax.js?config=TeX-AMS-MML_SVG\"></script><script type=\"text/javascript\">if (window.MathJax) {MathJax.Hub.Config({SVG: {font: \"STIX-Web\"}});}</script>                <script type=\"text/javascript\">window.PlotlyConfig = {MathJaxConfig: 'local'};</script>\n",
       "        <script src=\"https://cdn.plot.ly/plotly-latest.min.js\"></script>                <div id=\"e4af418a-113b-449a-af98-a3db3e75daeb\" class=\"plotly-graph-div\" style=\"height:400px; width:600px;\"></div>            <script type=\"text/javascript\">                                    window.PLOTLYENV=window.PLOTLYENV || {};                                    if (document.getElementById(\"e4af418a-113b-449a-af98-a3db3e75daeb\")) {                    Plotly.newPlot(                        \"e4af418a-113b-449a-af98-a3db3e75daeb\",                        [{\"marker\": {\"color\": \"#ff7d00\"}, \"name\": \"Training accuracy\", \"type\": \"scatter\", \"x\": [1141, 3708, 6276, 8844, 11412], \"y\": [0.7551270815074496, 0.7880798274002158, 0.7959847036328872, 0.7995703301673451, 0.8027690150718542]}, {\"fill\": \"tonexty\", \"fillcolor\": \"rgba(254, 200, 154, 0.2)\", \"hoverinfo\": \"skip\", \"line\": {\"width\": 0}, \"mode\": \"lines\", \"showlegend\": false, \"type\": \"scatter\", \"x\": [1141, 3708, 6276, 8844, 11412], \"y\": [0.7582430129420913, 0.7918221680169799, 0.7987694139292484, 0.8005602021089209, 0.8034509315267558]}, {\"fill\": \"tonexty\", \"fillcolor\": \"rgba(254, 200, 154, 0.2)\", \"hoverinfo\": \"skip\", \"line\": {\"width\": 0}, \"mode\": \"lines\", \"showlegend\": false, \"type\": \"scatter\", \"x\": [1141, 3708, 6276, 8844, 11412], \"y\": [0.7520111500728078, 0.7843374867834516, 0.793199993336526, 0.7985804582257694, 0.8020870986169525]}, {\"marker\": {\"color\": \"#15616d\"}, \"name\": \"Test accuracy\", \"type\": \"scatter\", \"x\": [1141, 3708, 6276, 8844, 11412], \"y\": [0.7406940063091481, 0.7812127584998247, 0.7908166841920786, 0.7972660357518402, 0.8022432527164389]}, {\"fill\": \"tonexty\", \"fillcolor\": \"rgba(0,100,80,0.1)\", \"hoverinfo\": \"skip\", \"line\": {\"width\": 0}, \"mode\": \"lines\", \"showlegend\": false, \"type\": \"scatter\", \"x\": [1141, 3708, 6276, 8844, 11412], \"y\": [0.7471395468707871, 0.7873216655952427, 0.7945287633494215, 0.8023094583241794, 0.8072318112512183]}, {\"fill\": \"tonexty\", \"fillcolor\": \"rgba(0,100,80,0.2)\", \"hoverinfo\": \"skip\", \"line\": {\"width\": 0}, \"mode\": \"lines\", \"showlegend\": false, \"type\": \"scatter\", \"x\": [1141, 3708, 6276, 8844, 11412], \"y\": [0.734248465747509, 0.7751038514044067, 0.7871046050347358, 0.7922226131795009, 0.7972546941816595]}],                        {\"annotations\": [{\"font\": {\"size\": 16}, \"showarrow\": false, \"text\": \"Confusion Matrix\", \"x\": 0.5, \"xanchor\": \"center\", \"xref\": \"paper\", \"y\": 1.0, \"yanchor\": \"bottom\", \"yref\": \"paper\"}], \"autosize\": false, \"height\": 400, \"template\": {\"data\": {\"bar\": [{\"error_x\": {\"color\": \"#2a3f5f\"}, \"error_y\": {\"color\": \"#2a3f5f\"}, \"marker\": {\"line\": {\"color\": \"#E5ECF6\", \"width\": 0.5}}, \"type\": \"bar\"}], \"barpolar\": [{\"marker\": {\"line\": {\"color\": \"#E5ECF6\", \"width\": 0.5}}, \"type\": \"barpolar\"}], \"carpet\": [{\"aaxis\": {\"endlinecolor\": \"#2a3f5f\", \"gridcolor\": \"white\", \"linecolor\": \"white\", \"minorgridcolor\": \"white\", \"startlinecolor\": \"#2a3f5f\"}, \"baxis\": {\"endlinecolor\": \"#2a3f5f\", \"gridcolor\": \"white\", \"linecolor\": \"white\", \"minorgridcolor\": \"white\", \"startlinecolor\": \"#2a3f5f\"}, \"type\": \"carpet\"}], \"choropleth\": [{\"colorbar\": {\"outlinewidth\": 0, \"ticks\": \"\"}, \"type\": \"choropleth\"}], \"contour\": [{\"colorbar\": {\"outlinewidth\": 0, \"ticks\": \"\"}, \"colorscale\": [[0.0, \"#0d0887\"], [0.1111111111111111, \"#46039f\"], [0.2222222222222222, \"#7201a8\"], [0.3333333333333333, \"#9c179e\"], [0.4444444444444444, \"#bd3786\"], [0.5555555555555556, \"#d8576b\"], [0.6666666666666666, \"#ed7953\"], [0.7777777777777778, \"#fb9f3a\"], [0.8888888888888888, \"#fdca26\"], [1.0, \"#f0f921\"]], \"type\": \"contour\"}], \"contourcarpet\": [{\"colorbar\": {\"outlinewidth\": 0, \"ticks\": \"\"}, \"type\": \"contourcarpet\"}], \"heatmap\": [{\"colorbar\": {\"outlinewidth\": 0, \"ticks\": \"\"}, \"colorscale\": [[0.0, \"#0d0887\"], [0.1111111111111111, \"#46039f\"], [0.2222222222222222, \"#7201a8\"], [0.3333333333333333, \"#9c179e\"], [0.4444444444444444, \"#bd3786\"], [0.5555555555555556, \"#d8576b\"], [0.6666666666666666, \"#ed7953\"], [0.7777777777777778, \"#fb9f3a\"], [0.8888888888888888, \"#fdca26\"], [1.0, \"#f0f921\"]], \"type\": \"heatmap\"}], \"heatmapgl\": [{\"colorbar\": {\"outlinewidth\": 0, \"ticks\": \"\"}, \"colorscale\": [[0.0, \"#0d0887\"], [0.1111111111111111, \"#46039f\"], [0.2222222222222222, \"#7201a8\"], [0.3333333333333333, \"#9c179e\"], [0.4444444444444444, \"#bd3786\"], [0.5555555555555556, \"#d8576b\"], [0.6666666666666666, \"#ed7953\"], [0.7777777777777778, \"#fb9f3a\"], [0.8888888888888888, \"#fdca26\"], [1.0, \"#f0f921\"]], \"type\": \"heatmapgl\"}], \"histogram\": [{\"marker\": {\"colorbar\": {\"outlinewidth\": 0, \"ticks\": \"\"}}, \"type\": \"histogram\"}], \"histogram2d\": [{\"colorbar\": {\"outlinewidth\": 0, \"ticks\": \"\"}, \"colorscale\": [[0.0, \"#0d0887\"], [0.1111111111111111, \"#46039f\"], [0.2222222222222222, \"#7201a8\"], [0.3333333333333333, \"#9c179e\"], [0.4444444444444444, \"#bd3786\"], [0.5555555555555556, \"#d8576b\"], [0.6666666666666666, \"#ed7953\"], [0.7777777777777778, \"#fb9f3a\"], [0.8888888888888888, \"#fdca26\"], [1.0, \"#f0f921\"]], \"type\": \"histogram2d\"}], \"histogram2dcontour\": [{\"colorbar\": {\"outlinewidth\": 0, \"ticks\": \"\"}, \"colorscale\": [[0.0, \"#0d0887\"], [0.1111111111111111, \"#46039f\"], [0.2222222222222222, \"#7201a8\"], [0.3333333333333333, \"#9c179e\"], [0.4444444444444444, \"#bd3786\"], [0.5555555555555556, \"#d8576b\"], [0.6666666666666666, \"#ed7953\"], [0.7777777777777778, \"#fb9f3a\"], [0.8888888888888888, \"#fdca26\"], [1.0, \"#f0f921\"]], \"type\": \"histogram2dcontour\"}], \"mesh3d\": [{\"colorbar\": {\"outlinewidth\": 0, \"ticks\": \"\"}, \"type\": \"mesh3d\"}], \"parcoords\": [{\"line\": {\"colorbar\": {\"outlinewidth\": 0, \"ticks\": \"\"}}, \"type\": \"parcoords\"}], \"pie\": [{\"automargin\": true, \"type\": \"pie\"}], \"scatter\": [{\"marker\": {\"colorbar\": {\"outlinewidth\": 0, \"ticks\": \"\"}}, \"type\": \"scatter\"}], \"scatter3d\": [{\"line\": {\"colorbar\": {\"outlinewidth\": 0, \"ticks\": \"\"}}, \"marker\": {\"colorbar\": {\"outlinewidth\": 0, \"ticks\": \"\"}}, \"type\": \"scatter3d\"}], \"scattercarpet\": [{\"marker\": {\"colorbar\": {\"outlinewidth\": 0, \"ticks\": \"\"}}, \"type\": \"scattercarpet\"}], \"scattergeo\": [{\"marker\": {\"colorbar\": {\"outlinewidth\": 0, \"ticks\": \"\"}}, \"type\": \"scattergeo\"}], \"scattergl\": [{\"marker\": {\"colorbar\": {\"outlinewidth\": 0, \"ticks\": \"\"}}, \"type\": \"scattergl\"}], \"scattermapbox\": [{\"marker\": {\"colorbar\": {\"outlinewidth\": 0, \"ticks\": \"\"}}, \"type\": \"scattermapbox\"}], \"scatterpolar\": [{\"marker\": {\"colorbar\": {\"outlinewidth\": 0, \"ticks\": \"\"}}, \"type\": \"scatterpolar\"}], \"scatterpolargl\": [{\"marker\": {\"colorbar\": {\"outlinewidth\": 0, \"ticks\": \"\"}}, \"type\": \"scatterpolargl\"}], \"scatterternary\": [{\"marker\": {\"colorbar\": {\"outlinewidth\": 0, \"ticks\": \"\"}}, \"type\": \"scatterternary\"}], \"surface\": [{\"colorbar\": {\"outlinewidth\": 0, \"ticks\": \"\"}, \"colorscale\": [[0.0, \"#0d0887\"], [0.1111111111111111, \"#46039f\"], [0.2222222222222222, \"#7201a8\"], [0.3333333333333333, \"#9c179e\"], [0.4444444444444444, \"#bd3786\"], [0.5555555555555556, \"#d8576b\"], [0.6666666666666666, \"#ed7953\"], [0.7777777777777778, \"#fb9f3a\"], [0.8888888888888888, \"#fdca26\"], [1.0, \"#f0f921\"]], \"type\": \"surface\"}], \"table\": [{\"cells\": {\"fill\": {\"color\": \"#EBF0F8\"}, \"line\": {\"color\": \"white\"}}, \"header\": {\"fill\": {\"color\": \"#C8D4E3\"}, \"line\": {\"color\": \"white\"}}, \"type\": \"table\"}]}, \"layout\": {\"annotationdefaults\": {\"arrowcolor\": \"#2a3f5f\", \"arrowhead\": 0, \"arrowwidth\": 1}, \"autotypenumbers\": \"strict\", \"coloraxis\": {\"colorbar\": {\"outlinewidth\": 0, \"ticks\": \"\"}}, \"colorscale\": {\"diverging\": [[0, \"#8e0152\"], [0.1, \"#c51b7d\"], [0.2, \"#de77ae\"], [0.3, \"#f1b6da\"], [0.4, \"#fde0ef\"], [0.5, \"#f7f7f7\"], [0.6, \"#e6f5d0\"], [0.7, \"#b8e186\"], [0.8, \"#7fbc41\"], [0.9, \"#4d9221\"], [1, \"#276419\"]], \"sequential\": [[0.0, \"#0d0887\"], [0.1111111111111111, \"#46039f\"], [0.2222222222222222, \"#7201a8\"], [0.3333333333333333, \"#9c179e\"], [0.4444444444444444, \"#bd3786\"], [0.5555555555555556, \"#d8576b\"], [0.6666666666666666, \"#ed7953\"], [0.7777777777777778, \"#fb9f3a\"], [0.8888888888888888, \"#fdca26\"], [1.0, \"#f0f921\"]], \"sequentialminus\": [[0.0, \"#0d0887\"], [0.1111111111111111, \"#46039f\"], [0.2222222222222222, \"#7201a8\"], [0.3333333333333333, \"#9c179e\"], [0.4444444444444444, \"#bd3786\"], [0.5555555555555556, \"#d8576b\"], [0.6666666666666666, \"#ed7953\"], [0.7777777777777778, \"#fb9f3a\"], [0.8888888888888888, \"#fdca26\"], [1.0, \"#f0f921\"]]}, \"colorway\": [\"#636efa\", \"#EF553B\", \"#00cc96\", \"#ab63fa\", \"#FFA15A\", \"#19d3f3\", \"#FF6692\", \"#B6E880\", \"#FF97FF\", \"#FECB52\"], \"font\": {\"color\": \"#2a3f5f\"}, \"geo\": {\"bgcolor\": \"white\", \"lakecolor\": \"white\", \"landcolor\": \"#E5ECF6\", \"showlakes\": true, \"showland\": true, \"subunitcolor\": \"white\"}, \"hoverlabel\": {\"align\": \"left\"}, \"hovermode\": \"closest\", \"mapbox\": {\"style\": \"light\"}, \"paper_bgcolor\": \"white\", \"plot_bgcolor\": \"#E5ECF6\", \"polar\": {\"angularaxis\": {\"gridcolor\": \"white\", \"linecolor\": \"white\", \"ticks\": \"\"}, \"bgcolor\": \"#E5ECF6\", \"radialaxis\": {\"gridcolor\": \"white\", \"linecolor\": \"white\", \"ticks\": \"\"}}, \"scene\": {\"xaxis\": {\"backgroundcolor\": \"#E5ECF6\", \"gridcolor\": \"white\", \"gridwidth\": 2, \"linecolor\": \"white\", \"showbackground\": true, \"ticks\": \"\", \"zerolinecolor\": \"white\"}, \"yaxis\": {\"backgroundcolor\": \"#E5ECF6\", \"gridcolor\": \"white\", \"gridwidth\": 2, \"linecolor\": \"white\", \"showbackground\": true, \"ticks\": \"\", \"zerolinecolor\": \"white\"}, \"zaxis\": {\"backgroundcolor\": \"#E5ECF6\", \"gridcolor\": \"white\", \"gridwidth\": 2, \"linecolor\": \"white\", \"showbackground\": true, \"ticks\": \"\", \"zerolinecolor\": \"white\"}}, \"shapedefaults\": {\"line\": {\"color\": \"#2a3f5f\"}}, \"ternary\": {\"aaxis\": {\"gridcolor\": \"white\", \"linecolor\": \"white\", \"ticks\": \"\"}, \"baxis\": {\"gridcolor\": \"white\", \"linecolor\": \"white\", \"ticks\": \"\"}, \"bgcolor\": \"#E5ECF6\", \"caxis\": {\"gridcolor\": \"white\", \"linecolor\": \"white\", \"ticks\": \"\"}}, \"title\": {\"x\": 0.05}, \"xaxis\": {\"automargin\": true, \"gridcolor\": \"white\", \"linecolor\": \"white\", \"ticks\": \"\", \"title\": {\"standoff\": 15}, \"zerolinecolor\": \"white\", \"zerolinewidth\": 2}, \"yaxis\": {\"automargin\": true, \"gridcolor\": \"white\", \"linecolor\": \"white\", \"ticks\": \"\", \"title\": {\"standoff\": 15}, \"zerolinecolor\": \"white\", \"zerolinewidth\": 2}}}, \"width\": 600, \"xaxis\": {\"anchor\": \"y\", \"domain\": [0.0, 1.0], \"title\": {\"text\": \"Training Example\"}}, \"yaxis\": {\"anchor\": \"x\", \"domain\": [0.0, 1.0], \"title\": {\"text\": \"Scores\"}}},                        {\"responsive\": true}                    ).then(function(){\n",
       "                            \n",
       "var gd = document.getElementById('e4af418a-113b-449a-af98-a3db3e75daeb');\n",
       "var x = new MutationObserver(function (mutations, observer) {{\n",
       "        var display = window.getComputedStyle(gd).display;\n",
       "        if (!display || display === 'none') {{\n",
       "            console.log([gd, 'removed!']);\n",
       "            Plotly.purge(gd);\n",
       "            observer.disconnect();\n",
       "        }}\n",
       "}});\n",
       "\n",
       "// Listen for the removal of the full notebook cells\n",
       "var notebookContainer = gd.closest('#notebook-container');\n",
       "if (notebookContainer) {{\n",
       "    x.observe(notebookContainer, {childList: true});\n",
       "}}\n",
       "\n",
       "// Listen for the clearing of the current output cell\n",
       "var outputEl = gd.closest('.output');\n",
       "if (outputEl) {{\n",
       "    x.observe(outputEl, {childList: true});\n",
       "}}\n",
       "\n",
       "                        })                };                            </script>        </div>\n",
       "</body>\n",
       "</html>"
      ]
     },
     "metadata": {
      "tags": []
     },
     "output_type": "display_data"
    }
   ],
   "source": [
    "print_lc(KNN(n_neighbors=50,metric='manhattan'))"
   ]
  },
  {
   "cell_type": "markdown",
   "metadata": {
    "id": "TYUG39bpgRri",
    "slideshow": {
     "slide_type": "subslide"
    }
   },
   "source": [
    "For KNN algorithm the metrics in the cross validation steps varies similar to the RandomForest's. In fact also the number of misclassification in the test step is higher then SVM. <br/> On the other hand, looking at the learning curves that the model performed well and it is learning from the data until reaching a convergence point."
   ]
  },
  {
   "cell_type": "markdown",
   "metadata": {
    "id": "-ylznNuZnuVx",
    "slideshow": {
     "slide_type": "slide"
    }
   },
   "source": [
    "### **Logistic Regression**\n",
    "Logistic Regression is a General Linear Model that learns a function $h$ in $R^d$ to the interval $[0,1]$. In fact, this model is used for classification task since the output can be interpreted as a probability distribution. Specifically, $h(x)$ is the probability that $x=1$. There are many functions able to return this can of outputs, in logistic regression the function used is the logistic function:\n",
    "<br/><br/>\n",
    "\\begin{equation}\n",
    "p(X)=\\frac{e^{β_0+ β_1 X}}{1+e^{β_0+ β_1X}} = \\frac{e^{<w,x>}}{1+e^{<w,x>}}\n",
    "\\end{equation}\n",
    "<br/>\n",
    "This is called a *sigmoid function* since it will always produce the characteristic “S-shape”. Recall, that $<w,x>$ is a compact format to represent $β_0+ β_1 X$. <br/>\n",
    "Notice that, every time $<w,x>$ is very large than the logistic function is close to one, while if $<w,x>$ is very small then the logistic function is close to zero. Thus, since the prediction corresponds to the $sign<w,x>$, in the first case the sample is assign to class 1 and in the second case to class 0. After some computation from the above formula we arrive at the following:\n",
    "<br/><br/>\n",
    "\\begin{equation}\n",
    "\\log⁡{\\frac{p(x)}{1-p(X)}}=β_0+β_1 X\n",
    "\\end{equation}<br/>\n",
    "This quantity is called *log-odds* or *logits*, and it is linear in $X$, which means that increasing the $X$ with one unit the logistic regression function will increase with a quantity $β_1$. The two coefficients $β_0$ and $β_1$ are unknown, to estimated them it is used the method of maximum likelihood, a well-known statistical method to estimate parameters. In this way, the two parameters are chosen to maximize the likelihood function. The Maximum Likelihood corresponds exactly to the optimization of the logistic loss function: \n",
    "<br/><br/>\n",
    "\\begin{equation}\n",
    "argmin_{w∈ R^d}(\\frac{1}{m}\\sum_{i=1}^{m}log⁡{(1+e^{-y_i<w,x_i>})}\n",
    "\\end{equation}\n",
    "<br/>\n",
    "The above have the advantage of being a convex function, allowing in this way to solve the optimization problem with standard methods like gradient descent. \n",
    " \n"
   ]
  },
  {
   "cell_type": "code",
   "execution_count": null,
   "metadata": {
    "colab": {
     "base_uri": "https://localhost:8080/"
    },
    "executionInfo": {
     "elapsed": 199263,
     "status": "ok",
     "timestamp": 1619883189149,
     "user": {
      "displayName": "Noemi Tomasello",
      "photoUrl": "https://lh6.googleusercontent.com/-0vac6q9vL7M/AAAAAAAAAAI/AAAAAAAACQY/OsKV2bRy4NA/s64/photo.jpg",
      "userId": "14936482853525964477"
     },
     "user_tz": -120
    },
    "id": "3U7reqfLnt5Y",
    "outputId": "af5ef454-ca56-4b83-e0c6-66aa3a89249f",
    "slideshow": {
     "slide_type": "skip"
    }
   },
   "outputs": [
    {
     "name": "stdout",
     "output_type": "stream",
     "text": [
      "Done!\n"
     ]
    }
   ],
   "source": [
    "param_lr={\"C\": [0.0001,0.001,0.01,0.1,1,10],\"solver\":[\"newton-cg\", \"lbfgs\", \"liblinear\", \"sag\"]}\n",
    "pd_lr, lr = training(LogisticRegression, param_lr,outliers_iso, SMOTE())"
   ]
  },
  {
   "cell_type": "code",
   "execution_count": null,
   "metadata": {
    "colab": {
     "base_uri": "https://localhost:8080/",
     "height": 542
    },
    "executionInfo": {
     "elapsed": 199260,
     "status": "ok",
     "timestamp": 1619883189153,
     "user": {
      "displayName": "Noemi Tomasello",
      "photoUrl": "https://lh6.googleusercontent.com/-0vac6q9vL7M/AAAAAAAAAAI/AAAAAAAACQY/OsKV2bRy4NA/s64/photo.jpg",
      "userId": "14936482853525964477"
     },
     "user_tz": -120
    },
    "id": "BB4psJCDsr21",
    "outputId": "c3e708ab-c175-45c1-ee52-408d977957ad",
    "slideshow": {
     "slide_type": "subslide"
    }
   },
   "outputs": [
    {
     "data": {
      "text/html": [
       "<html>\n",
       "<head><meta charset=\"utf-8\" /></head>\n",
       "<body>\n",
       "    <div>            <script src=\"https://cdnjs.cloudflare.com/ajax/libs/mathjax/2.7.5/MathJax.js?config=TeX-AMS-MML_SVG\"></script><script type=\"text/javascript\">if (window.MathJax) {MathJax.Hub.Config({SVG: {font: \"STIX-Web\"}});}</script>                <script type=\"text/javascript\">window.PlotlyConfig = {MathJaxConfig: 'local'};</script>\n",
       "        <script src=\"https://cdn.plot.ly/plotly-latest.min.js\"></script>                <div id=\"72c0dd31-6d58-47b3-99ae-80c5fb5ba126\" class=\"plotly-graph-div\" style=\"height:525px; width:100%;\"></div>            <script type=\"text/javascript\">                                    window.PLOTLYENV=window.PLOTLYENV || {};                                    if (document.getElementById(\"72c0dd31-6d58-47b3-99ae-80c5fb5ba126\")) {                    Plotly.newPlot(                        \"72c0dd31-6d58-47b3-99ae-80c5fb5ba126\",                        [{\"marker\": {\"color\": \"#78290f\"}, \"name\": \"Accuracy\", \"type\": \"bar\", \"x\": [\"Configuration 1\", \"Configuration 2\", \"Configuration 3\", \"Configuration 4\", \"Configuration 5\", \"Configuration 6\", \"Configuration 7\", \"Configuration 8\", \"Configuration 9\", \"Configuration 10\", \"Configuration 11\", \"Configuration 12\", \"Configuration 13\", \"Configuration 14\", \"Configuration 15\", \"Configuration 16\", \"Configuration 17\", \"Configuration 18\", \"Configuration 19\", \"Configuration 20\", \"Configuration 21\", \"Configuration 22\", \"Configuration 23\", \"Configuration 24\"], \"y\": [0.7269540834209605, 0.7240799158780231, 0.7256922537679635, 0.7326323168594462, 0.7617245005257623, 0.7642481598317561, 0.760602874167543, 0.7609533824044865, 0.7663512092534174, 0.7653697861899754, 0.7651594812478094, 0.7662811076060286, 0.7665615141955836, 0.7659305993690853, 0.7667718191377497, 0.7655800911321415, 0.7664914125481948, 0.7678934454959692, 0.7660708026638627, 0.7658604977216965, 0.7670522257273046, 0.7663512092534175, 0.7665615141955836, 0.7665615141955836]}, {\"marker\": {\"color\": \"#ff7d00\"}, \"name\": \"Recall\", \"type\": \"bar\", \"x\": [\"Configuration 1\", \"Configuration 2\", \"Configuration 3\", \"Configuration 4\", \"Configuration 5\", \"Configuration 6\", \"Configuration 7\", \"Configuration 8\", \"Configuration 9\", \"Configuration 10\", \"Configuration 11\", \"Configuration 12\", \"Configuration 13\", \"Configuration 14\", \"Configuration 15\", \"Configuration 16\", \"Configuration 17\", \"Configuration 18\", \"Configuration 19\", \"Configuration 20\", \"Configuration 21\", \"Configuration 22\", \"Configuration 23\", \"Configuration 24\"], \"y\": [0.6586155704543059, 0.6542267409348801, 0.7098936722765835, 0.6665984083677113, 0.703113414248273, 0.7087008435770532, 0.7168797002206951, 0.7051090242247311, 0.7166804974298661, 0.7178761121824149, 0.7188749121895789, 0.7194737145847886, 0.7204723155881656, 0.7204725145919527, 0.7190761050182786, 0.718676306410111, 0.7192739147825984, 0.7204713205692304, 0.7200715219610629, 0.718676704417685, 0.7224659355267532, 0.7202711227594663, 0.7202729137935495, 0.7194747096037236]}, {\"marker\": {\"color\": \"#202c39\"}, \"name\": \"Precision\", \"type\": \"bar\", \"x\": [\"Configuration 1\", \"Configuration 2\", \"Configuration 3\", \"Configuration 4\", \"Configuration 5\", \"Configuration 6\", \"Configuration 7\", \"Configuration 8\", \"Configuration 9\", \"Configuration 10\", \"Configuration 11\", \"Configuration 12\", \"Configuration 13\", \"Configuration 14\", \"Configuration 15\", \"Configuration 16\", \"Configuration 17\", \"Configuration 18\", \"Configuration 19\", \"Configuration 20\", \"Configuration 21\", \"Configuration 22\", \"Configuration 23\", \"Configuration 24\"], \"y\": [0.6018769030760689, 0.5981966557442996, 0.5913608794688361, 0.6093089833549126, 0.6485364067529481, 0.6513627441377945, 0.6432135282822208, 0.6468108173514558, 0.6527154447914255, 0.6507488061014672, 0.6501351296531501, 0.651848036229987, 0.6519778972487023, 0.6510406317107286, 0.6527343654344011, 0.650901521177984, 0.6522753951025059, 0.6542554719382373, 0.6513115417079833, 0.6512978642141976, 0.6523757980919715, 0.6516801329415433, 0.6521329368368691, 0.6523571357726945]}, {\"marker\": {\"color\": \"#15616d\"}, \"name\": \"F1-score\", \"type\": \"bar\", \"x\": [\"Configuration 1\", \"Configuration 2\", \"Configuration 3\", \"Configuration 4\", \"Configuration 5\", \"Configuration 6\", \"Configuration 7\", \"Configuration 8\", \"Configuration 9\", \"Configuration 10\", \"Configuration 11\", \"Configuration 12\", \"Configuration 13\", \"Configuration 14\", \"Configuration 15\", \"Configuration 16\", \"Configuration 17\", \"Configuration 18\", \"Configuration 19\", \"Configuration 20\", \"Configuration 21\", \"Configuration 22\", \"Configuration 23\", \"Configuration 24\"], \"y\": [0.628937078658234, 0.6249178273491438, 0.6451721254613046, 0.6365898015906026, 0.6746271202426907, 0.6787362383279761, 0.6779397213124605, 0.6746087220579506, 0.6830926460152241, 0.6825531309818642, 0.6826674736501492, 0.6838722413790752, 0.6844388174261697, 0.6838535477761045, 0.6842028748385826, 0.6829959595462531, 0.6840065059204902, 0.6856636688674896, 0.6838484140720302, 0.6832363480831302, 0.685487330801402, 0.6841628603514947, 0.6843576490892439, 0.6841366772974584]}],                        {\"annotations\": [{\"font\": {\"size\": 16}, \"showarrow\": false, \"text\": \"S\", \"x\": 0.5, \"xanchor\": \"center\", \"xref\": \"paper\", \"y\": 1.0, \"yanchor\": \"bottom\", \"yref\": \"paper\"}], \"template\": {\"data\": {\"bar\": [{\"error_x\": {\"color\": \"#2a3f5f\"}, \"error_y\": {\"color\": \"#2a3f5f\"}, \"marker\": {\"line\": {\"color\": \"#E5ECF6\", \"width\": 0.5}}, \"type\": \"bar\"}], \"barpolar\": [{\"marker\": {\"line\": {\"color\": \"#E5ECF6\", \"width\": 0.5}}, \"type\": \"barpolar\"}], \"carpet\": [{\"aaxis\": {\"endlinecolor\": \"#2a3f5f\", \"gridcolor\": \"white\", \"linecolor\": \"white\", \"minorgridcolor\": \"white\", \"startlinecolor\": \"#2a3f5f\"}, \"baxis\": {\"endlinecolor\": \"#2a3f5f\", \"gridcolor\": \"white\", \"linecolor\": \"white\", \"minorgridcolor\": \"white\", \"startlinecolor\": \"#2a3f5f\"}, \"type\": \"carpet\"}], \"choropleth\": [{\"colorbar\": {\"outlinewidth\": 0, \"ticks\": \"\"}, \"type\": \"choropleth\"}], \"contour\": [{\"colorbar\": {\"outlinewidth\": 0, \"ticks\": \"\"}, \"colorscale\": [[0.0, \"#0d0887\"], [0.1111111111111111, \"#46039f\"], [0.2222222222222222, \"#7201a8\"], [0.3333333333333333, \"#9c179e\"], [0.4444444444444444, \"#bd3786\"], [0.5555555555555556, \"#d8576b\"], [0.6666666666666666, \"#ed7953\"], [0.7777777777777778, \"#fb9f3a\"], [0.8888888888888888, \"#fdca26\"], [1.0, \"#f0f921\"]], \"type\": \"contour\"}], \"contourcarpet\": [{\"colorbar\": {\"outlinewidth\": 0, \"ticks\": \"\"}, \"type\": \"contourcarpet\"}], \"heatmap\": [{\"colorbar\": {\"outlinewidth\": 0, \"ticks\": \"\"}, \"colorscale\": [[0.0, \"#0d0887\"], [0.1111111111111111, \"#46039f\"], [0.2222222222222222, \"#7201a8\"], [0.3333333333333333, \"#9c179e\"], [0.4444444444444444, \"#bd3786\"], [0.5555555555555556, \"#d8576b\"], [0.6666666666666666, \"#ed7953\"], [0.7777777777777778, \"#fb9f3a\"], [0.8888888888888888, \"#fdca26\"], [1.0, \"#f0f921\"]], \"type\": \"heatmap\"}], \"heatmapgl\": [{\"colorbar\": {\"outlinewidth\": 0, \"ticks\": \"\"}, \"colorscale\": [[0.0, \"#0d0887\"], [0.1111111111111111, \"#46039f\"], [0.2222222222222222, \"#7201a8\"], [0.3333333333333333, \"#9c179e\"], [0.4444444444444444, \"#bd3786\"], [0.5555555555555556, \"#d8576b\"], [0.6666666666666666, \"#ed7953\"], [0.7777777777777778, \"#fb9f3a\"], [0.8888888888888888, \"#fdca26\"], [1.0, \"#f0f921\"]], \"type\": \"heatmapgl\"}], \"histogram\": [{\"marker\": {\"colorbar\": {\"outlinewidth\": 0, \"ticks\": \"\"}}, \"type\": \"histogram\"}], \"histogram2d\": [{\"colorbar\": {\"outlinewidth\": 0, \"ticks\": \"\"}, \"colorscale\": [[0.0, \"#0d0887\"], [0.1111111111111111, \"#46039f\"], [0.2222222222222222, \"#7201a8\"], [0.3333333333333333, \"#9c179e\"], [0.4444444444444444, \"#bd3786\"], [0.5555555555555556, \"#d8576b\"], [0.6666666666666666, \"#ed7953\"], [0.7777777777777778, \"#fb9f3a\"], [0.8888888888888888, \"#fdca26\"], [1.0, \"#f0f921\"]], \"type\": \"histogram2d\"}], \"histogram2dcontour\": [{\"colorbar\": {\"outlinewidth\": 0, \"ticks\": \"\"}, \"colorscale\": [[0.0, \"#0d0887\"], [0.1111111111111111, \"#46039f\"], [0.2222222222222222, \"#7201a8\"], [0.3333333333333333, \"#9c179e\"], [0.4444444444444444, \"#bd3786\"], [0.5555555555555556, \"#d8576b\"], [0.6666666666666666, \"#ed7953\"], [0.7777777777777778, \"#fb9f3a\"], [0.8888888888888888, \"#fdca26\"], [1.0, \"#f0f921\"]], \"type\": \"histogram2dcontour\"}], \"mesh3d\": [{\"colorbar\": {\"outlinewidth\": 0, \"ticks\": \"\"}, \"type\": \"mesh3d\"}], \"parcoords\": [{\"line\": {\"colorbar\": {\"outlinewidth\": 0, \"ticks\": \"\"}}, \"type\": \"parcoords\"}], \"pie\": [{\"automargin\": true, \"type\": \"pie\"}], \"scatter\": [{\"marker\": {\"colorbar\": {\"outlinewidth\": 0, \"ticks\": \"\"}}, \"type\": \"scatter\"}], \"scatter3d\": [{\"line\": {\"colorbar\": {\"outlinewidth\": 0, \"ticks\": \"\"}}, \"marker\": {\"colorbar\": {\"outlinewidth\": 0, \"ticks\": \"\"}}, \"type\": \"scatter3d\"}], \"scattercarpet\": [{\"marker\": {\"colorbar\": {\"outlinewidth\": 0, \"ticks\": \"\"}}, \"type\": \"scattercarpet\"}], \"scattergeo\": [{\"marker\": {\"colorbar\": {\"outlinewidth\": 0, \"ticks\": \"\"}}, \"type\": \"scattergeo\"}], \"scattergl\": [{\"marker\": {\"colorbar\": {\"outlinewidth\": 0, \"ticks\": \"\"}}, \"type\": \"scattergl\"}], \"scattermapbox\": [{\"marker\": {\"colorbar\": {\"outlinewidth\": 0, \"ticks\": \"\"}}, \"type\": \"scattermapbox\"}], \"scatterpolar\": [{\"marker\": {\"colorbar\": {\"outlinewidth\": 0, \"ticks\": \"\"}}, \"type\": \"scatterpolar\"}], \"scatterpolargl\": [{\"marker\": {\"colorbar\": {\"outlinewidth\": 0, \"ticks\": \"\"}}, \"type\": \"scatterpolargl\"}], \"scatterternary\": [{\"marker\": {\"colorbar\": {\"outlinewidth\": 0, \"ticks\": \"\"}}, \"type\": \"scatterternary\"}], \"surface\": [{\"colorbar\": {\"outlinewidth\": 0, \"ticks\": \"\"}, \"colorscale\": [[0.0, \"#0d0887\"], [0.1111111111111111, \"#46039f\"], [0.2222222222222222, \"#7201a8\"], [0.3333333333333333, \"#9c179e\"], [0.4444444444444444, \"#bd3786\"], [0.5555555555555556, \"#d8576b\"], [0.6666666666666666, \"#ed7953\"], [0.7777777777777778, \"#fb9f3a\"], [0.8888888888888888, \"#fdca26\"], [1.0, \"#f0f921\"]], \"type\": \"surface\"}], \"table\": [{\"cells\": {\"fill\": {\"color\": \"#EBF0F8\"}, \"line\": {\"color\": \"white\"}}, \"header\": {\"fill\": {\"color\": \"#C8D4E3\"}, \"line\": {\"color\": \"white\"}}, \"type\": \"table\"}]}, \"layout\": {\"annotationdefaults\": {\"arrowcolor\": \"#2a3f5f\", \"arrowhead\": 0, \"arrowwidth\": 1}, \"autotypenumbers\": \"strict\", \"coloraxis\": {\"colorbar\": {\"outlinewidth\": 0, \"ticks\": \"\"}}, \"colorscale\": {\"diverging\": [[0, \"#8e0152\"], [0.1, \"#c51b7d\"], [0.2, \"#de77ae\"], [0.3, \"#f1b6da\"], [0.4, \"#fde0ef\"], [0.5, \"#f7f7f7\"], [0.6, \"#e6f5d0\"], [0.7, \"#b8e186\"], [0.8, \"#7fbc41\"], [0.9, \"#4d9221\"], [1, \"#276419\"]], \"sequential\": [[0.0, \"#0d0887\"], [0.1111111111111111, \"#46039f\"], [0.2222222222222222, \"#7201a8\"], [0.3333333333333333, \"#9c179e\"], [0.4444444444444444, \"#bd3786\"], [0.5555555555555556, \"#d8576b\"], [0.6666666666666666, \"#ed7953\"], [0.7777777777777778, \"#fb9f3a\"], [0.8888888888888888, \"#fdca26\"], [1.0, \"#f0f921\"]], \"sequentialminus\": [[0.0, \"#0d0887\"], [0.1111111111111111, \"#46039f\"], [0.2222222222222222, \"#7201a8\"], [0.3333333333333333, \"#9c179e\"], [0.4444444444444444, \"#bd3786\"], [0.5555555555555556, \"#d8576b\"], [0.6666666666666666, \"#ed7953\"], [0.7777777777777778, \"#fb9f3a\"], [0.8888888888888888, \"#fdca26\"], [1.0, \"#f0f921\"]]}, \"colorway\": [\"#636efa\", \"#EF553B\", \"#00cc96\", \"#ab63fa\", \"#FFA15A\", \"#19d3f3\", \"#FF6692\", \"#B6E880\", \"#FF97FF\", \"#FECB52\"], \"font\": {\"color\": \"#2a3f5f\"}, \"geo\": {\"bgcolor\": \"white\", \"lakecolor\": \"white\", \"landcolor\": \"#E5ECF6\", \"showlakes\": true, \"showland\": true, \"subunitcolor\": \"white\"}, \"hoverlabel\": {\"align\": \"left\"}, \"hovermode\": \"closest\", \"mapbox\": {\"style\": \"light\"}, \"paper_bgcolor\": \"white\", \"plot_bgcolor\": \"#E5ECF6\", \"polar\": {\"angularaxis\": {\"gridcolor\": \"white\", \"linecolor\": \"white\", \"ticks\": \"\"}, \"bgcolor\": \"#E5ECF6\", \"radialaxis\": {\"gridcolor\": \"white\", \"linecolor\": \"white\", \"ticks\": \"\"}}, \"scene\": {\"xaxis\": {\"backgroundcolor\": \"#E5ECF6\", \"gridcolor\": \"white\", \"gridwidth\": 2, \"linecolor\": \"white\", \"showbackground\": true, \"ticks\": \"\", \"zerolinecolor\": \"white\"}, \"yaxis\": {\"backgroundcolor\": \"#E5ECF6\", \"gridcolor\": \"white\", \"gridwidth\": 2, \"linecolor\": \"white\", \"showbackground\": true, \"ticks\": \"\", \"zerolinecolor\": \"white\"}, \"zaxis\": {\"backgroundcolor\": \"#E5ECF6\", \"gridcolor\": \"white\", \"gridwidth\": 2, \"linecolor\": \"white\", \"showbackground\": true, \"ticks\": \"\", \"zerolinecolor\": \"white\"}}, \"shapedefaults\": {\"line\": {\"color\": \"#2a3f5f\"}}, \"ternary\": {\"aaxis\": {\"gridcolor\": \"white\", \"linecolor\": \"white\", \"ticks\": \"\"}, \"baxis\": {\"gridcolor\": \"white\", \"linecolor\": \"white\", \"ticks\": \"\"}, \"bgcolor\": \"#E5ECF6\", \"caxis\": {\"gridcolor\": \"white\", \"linecolor\": \"white\", \"ticks\": \"\"}}, \"title\": {\"x\": 0.05}, \"xaxis\": {\"automargin\": true, \"gridcolor\": \"white\", \"linecolor\": \"white\", \"ticks\": \"\", \"title\": {\"standoff\": 15}, \"zerolinecolor\": \"white\", \"zerolinewidth\": 2}, \"yaxis\": {\"automargin\": true, \"gridcolor\": \"white\", \"linecolor\": \"white\", \"ticks\": \"\", \"title\": {\"standoff\": 15}, \"zerolinecolor\": \"white\", \"zerolinewidth\": 2}}}, \"xaxis\": {\"anchor\": \"y\", \"domain\": [0.0, 1.0]}, \"yaxis\": {\"anchor\": \"x\", \"domain\": [0.0, 1.0]}},                        {\"responsive\": true}                    ).then(function(){\n",
       "                            \n",
       "var gd = document.getElementById('72c0dd31-6d58-47b3-99ae-80c5fb5ba126');\n",
       "var x = new MutationObserver(function (mutations, observer) {{\n",
       "        var display = window.getComputedStyle(gd).display;\n",
       "        if (!display || display === 'none') {{\n",
       "            console.log([gd, 'removed!']);\n",
       "            Plotly.purge(gd);\n",
       "            observer.disconnect();\n",
       "        }}\n",
       "}});\n",
       "\n",
       "// Listen for the removal of the full notebook cells\n",
       "var notebookContainer = gd.closest('#notebook-container');\n",
       "if (notebookContainer) {{\n",
       "    x.observe(notebookContainer, {childList: true});\n",
       "}}\n",
       "\n",
       "// Listen for the clearing of the current output cell\n",
       "var outputEl = gd.closest('.output');\n",
       "if (outputEl) {{\n",
       "    x.observe(outputEl, {childList: true});\n",
       "}}\n",
       "\n",
       "                        })                };                            </script>        </div>\n",
       "</body>\n",
       "</html>"
      ]
     },
     "metadata": {
      "tags": []
     },
     "output_type": "display_data"
    }
   ],
   "source": [
    "df_lr = print_conf_acc(pd_lr)"
   ]
  },
  {
   "cell_type": "code",
   "execution_count": null,
   "metadata": {
    "colab": {
     "base_uri": "https://localhost:8080/"
    },
    "executionInfo": {
     "elapsed": 199253,
     "status": "ok",
     "timestamp": 1619883189154,
     "user": {
      "displayName": "Noemi Tomasello",
      "photoUrl": "https://lh6.googleusercontent.com/-0vac6q9vL7M/AAAAAAAAAAI/AAAAAAAACQY/OsKV2bRy4NA/s64/photo.jpg",
      "userId": "14936482853525964477"
     },
     "user_tz": -120
    },
    "id": "Qrzg1TG_gv_z",
    "outputId": "aaf1f273-066c-4653-d547-5a21e44bef01",
    "slideshow": {
     "slide_type": "subslide"
    }
   },
   "outputs": [
    {
     "name": "stdout",
     "output_type": "stream",
     "text": [
      "The best configuration is Configuration 18: {'C': 1, 'solver': 'lbfgs'}\n"
     ]
    }
   ],
   "source": [
    "best_lr = chose_best_params(pd_lr)"
   ]
  },
  {
   "cell_type": "code",
   "execution_count": null,
   "metadata": {
    "colab": {
     "base_uri": "https://localhost:8080/"
    },
    "executionInfo": {
     "elapsed": 221739,
     "status": "ok",
     "timestamp": 1619883211647,
     "user": {
      "displayName": "Noemi Tomasello",
      "photoUrl": "https://lh6.googleusercontent.com/-0vac6q9vL7M/AAAAAAAAAAI/AAAAAAAACQY/OsKV2bRy4NA/s64/photo.jpg",
      "userId": "14936482853525964477"
     },
     "user_tz": -120
    },
    "id": "H7wSXKFygLk_",
    "outputId": "86cf0d7d-d1f8-42a7-df13-f9d200286c9d",
    "slideshow": {
     "slide_type": "skip"
    }
   },
   "outputs": [
    {
     "name": "stdout",
     "output_type": "stream",
     "text": [
      "              precision    recall  f1-score   support\n",
      "\n",
      "           0       0.85      0.80      0.82      3079\n",
      "           1       0.66      0.74      0.70      1676\n",
      "\n",
      "    accuracy                           0.78      4755\n",
      "   macro avg       0.76      0.77      0.76      4755\n",
      "weighted avg       0.78      0.78      0.78      4755\n",
      "\n",
      "              precision    recall  f1-score   support\n",
      "\n",
      "           0       0.85      0.80      0.82      3079\n",
      "           1       0.66      0.74      0.70      1676\n",
      "\n",
      "    accuracy                           0.77      4755\n",
      "   macro avg       0.75      0.77      0.76      4755\n",
      "weighted avg       0.78      0.77      0.78      4755\n",
      "\n",
      "              precision    recall  f1-score   support\n",
      "\n",
      "           0       0.84      0.81      0.83      3079\n",
      "           1       0.68      0.72      0.70      1676\n",
      "\n",
      "    accuracy                           0.78      4755\n",
      "   macro avg       0.76      0.77      0.76      4755\n",
      "weighted avg       0.78      0.78      0.78      4755\n",
      "\n",
      "              precision    recall  f1-score   support\n",
      "\n",
      "           0       0.84      0.81      0.83      3079\n",
      "           1       0.67      0.72      0.70      1676\n",
      "\n",
      "    accuracy                           0.78      4755\n",
      "   macro avg       0.76      0.77      0.76      4755\n",
      "weighted avg       0.78      0.78      0.78      4755\n",
      "\n",
      "              precision    recall  f1-score   support\n",
      "\n",
      "           0       0.80      0.90      0.85      3079\n",
      "           1       0.77      0.59      0.66      1676\n",
      "\n",
      "    accuracy                           0.79      4755\n",
      "   macro avg       0.78      0.74      0.76      4755\n",
      "weighted avg       0.79      0.79      0.78      4755\n",
      "\n"
     ]
    }
   ],
   "source": [
    "lr_cfs = []\n",
    "cf_matrix_lr_1, test_lr_iso_pca_smote = testing(LogisticRegression, best_lr,outliers_iso, SMOTE()) \n",
    "lr_cfs.append((cf_matrix_lr_1,\"Test LR with Iso, PCA, SMOTE\"))\n",
    "total_results = total_results.append(pd.Series(['Logistic Regression',\"Test LR with Iso, PCA, SMOTE\",\n",
    "                                test_lr_iso_pca_smote[0],test_lr_iso_pca_smote[1],\n",
    "                                test_lr_iso_pca_smote[2],test_lr_iso_pca_smote[3]],index=total_results.columns),ignore_index=True)\n",
    "cf_matrix_lr_2, test_lr_iso_pca_rus = testing(LogisticRegression, best_lr,outliers_iso, RandomUnderSampler()) \n",
    "lr_cfs.append((cf_matrix_lr_2,\"Test LR with Iso, PCA, Random Undersampling\"))\n",
    "total_results = total_results.append(pd.Series(['Logistic Regression',\"Test LR with Iso, PCA, Random Undersampling\",\n",
    "                                test_lr_iso_pca_rus[0],test_lr_iso_pca_rus[1],\n",
    "                                test_lr_iso_pca_rus[2],test_lr_iso_pca_rus[3]],index=total_results.columns),ignore_index=True)\n",
    "cf_matrix_lr_3, test_lr_lof_pca_smote = testing(LogisticRegression,best_lr,outliers_lof, SMOTE()) \n",
    "lr_cfs.append((cf_matrix_lr_3,\"Test LR with LOF, PCA, SMOTE\"))\n",
    "total_results = total_results.append(pd.Series(['Logistic Regression',\"Test LR with LOF, PCA, SMOTE\",\n",
    "                                test_lr_lof_pca_smote[0],test_lr_lof_pca_smote[1],\n",
    "                                test_lr_lof_pca_smote[2],test_lr_lof_pca_smote[3]],index=total_results.columns),ignore_index=True)\n",
    "cf_matrix_lr_4, test_lr_lof_pca_rus = testing(LogisticRegression, best_lr,outliers_lof, RandomUnderSampler()) \n",
    "lr_cfs.append((cf_matrix_lr_4,\"Test LR with LOF, PCA, Random Undersampling\"))\n",
    "total_results = total_results.append(pd.Series(['Logistic Regression',\"Test LR with LOF, PCA, Random Undersampling\",\n",
    "                                test_lr_lof_pca_rus[0],test_lr_lof_pca_rus[1],\n",
    "                                test_lr_lof_pca_rus[2],test_lr_lof_pca_rus[3]],index=total_results.columns),ignore_index=True)\n",
    "cf_matrix_lr_5, test_lr_no_precosseing = testing(LogisticRegression, best_lr,outliers_lof, RandomUnderSampler(), doPCA=False,outliers=False, balancing=False) \n",
    "lr_cfs.append((cf_matrix_lr_5,\"Test LR with no preprocessing\"))\n",
    "total_results = total_results.append(pd.Series(['Logistic Regression',\"Test LR with no preprocessing\",\n",
    "                                test_lr_no_precosseing[0],test_lr_no_precosseing[1],\n",
    "                                test_lr_no_precosseing[2],test_lr_no_precosseing[3]],index=total_results.columns),ignore_index=True)"
   ]
  },
  {
   "cell_type": "code",
   "execution_count": null,
   "metadata": {
    "colab": {
     "base_uri": "https://localhost:8080/",
     "height": 667
    },
    "executionInfo": {
     "elapsed": 221740,
     "status": "ok",
     "timestamp": 1619883211655,
     "user": {
      "displayName": "Noemi Tomasello",
      "photoUrl": "https://lh6.googleusercontent.com/-0vac6q9vL7M/AAAAAAAAAAI/AAAAAAAACQY/OsKV2bRy4NA/s64/photo.jpg",
      "userId": "14936482853525964477"
     },
     "user_tz": -120
    },
    "id": "RKzu2nQxhg1Z",
    "outputId": "275d1b69-0466-4e33-b6a7-47087976f062",
    "slideshow": {
     "slide_type": "subslide"
    }
   },
   "outputs": [
    {
     "data": {
      "text/html": [
       "<html>\n",
       "<head><meta charset=\"utf-8\" /></head>\n",
       "<body>\n",
       "    <div>            <script src=\"https://cdnjs.cloudflare.com/ajax/libs/mathjax/2.7.5/MathJax.js?config=TeX-AMS-MML_SVG\"></script><script type=\"text/javascript\">if (window.MathJax) {MathJax.Hub.Config({SVG: {font: \"STIX-Web\"}});}</script>                <script type=\"text/javascript\">window.PlotlyConfig = {MathJaxConfig: 'local'};</script>\n",
       "        <script src=\"https://cdn.plot.ly/plotly-latest.min.js\"></script>                <div id=\"2827d3ad-37bd-4abd-a9e7-b4308f27503a\" class=\"plotly-graph-div\" style=\"height:650px; width:900px;\"></div>            <script type=\"text/javascript\">                                    window.PLOTLYENV=window.PLOTLYENV || {};                                    if (document.getElementById(\"2827d3ad-37bd-4abd-a9e7-b4308f27503a\")) {                    Plotly.newPlot(                        \"2827d3ad-37bd-4abd-a9e7-b4308f27503a\",                        [{\"colorscale\": [[0.0, \"#78290f\"], [0.25, \"#ff7d00\"], [0.5, \"#ffecd1\"], [0.75, \"#15616d\"], [1.0, \"#202c39\"]], \"reversescale\": false, \"showscale\": false, \"type\": \"heatmap\", \"x\": [\"0\", \"1\"], \"xaxis\": \"x\", \"y\": [\"1\", \"0\"], \"yaxis\": \"y\", \"z\": [[2453, 626], [439, 1237]]}, {\"mode\": \"text\", \"name\": \"\", \"text\": [\"2453\"], \"textfont\": {\"color\": \"#ffffff\", \"family\": \"sans serif\", \"size\": 18}, \"type\": \"scatter\", \"x\": [0], \"xaxis\": \"x\", \"y\": [0], \"yaxis\": \"y\"}, {\"mode\": \"text\", \"name\": \"\", \"text\": [\"439\"], \"textfont\": {\"color\": \"#ffffff\", \"family\": \"sans serif\", \"size\": 18}, \"type\": \"scatter\", \"x\": [0], \"xaxis\": \"x\", \"y\": [1], \"yaxis\": \"y\"}, {\"mode\": \"text\", \"name\": \"\", \"text\": [\"626\"], \"textfont\": {\"color\": \"#ffffff\", \"family\": \"sans serif\", \"size\": 18}, \"type\": \"scatter\", \"x\": [1], \"xaxis\": \"x\", \"y\": [0], \"yaxis\": \"y\"}, {\"mode\": \"text\", \"name\": \"\", \"text\": [\"1237\"], \"textfont\": {\"color\": \"#ffffff\", \"family\": \"sans serif\", \"size\": 18}, \"type\": \"scatter\", \"x\": [1], \"xaxis\": \"x\", \"y\": [1], \"yaxis\": \"y\"}, {\"colorscale\": [[0.0, \"#78290f\"], [0.25, \"#ff7d00\"], [0.5, \"#ffecd1\"], [0.75, \"#15616d\"], [1.0, \"#202c39\"]], \"reversescale\": false, \"showscale\": false, \"type\": \"heatmap\", \"x\": [\"0\", \"1\"], \"xaxis\": \"x2\", \"y\": [\"1\", \"0\"], \"yaxis\": \"y2\", \"z\": [[2450, 629], [443, 1233]]}, {\"mode\": \"text\", \"name\": \"\", \"text\": [\"2450\"], \"textfont\": {\"color\": \"#ffffff\", \"family\": \"sans serif\", \"size\": 18}, \"type\": \"scatter\", \"x\": [0], \"xaxis\": \"x2\", \"y\": [0], \"yaxis\": \"y2\"}, {\"mode\": \"text\", \"name\": \"\", \"text\": [\"443\"], \"textfont\": {\"color\": \"#ffffff\", \"family\": \"sans serif\", \"size\": 18}, \"type\": \"scatter\", \"x\": [0], \"xaxis\": \"x2\", \"y\": [1], \"yaxis\": \"y2\"}, {\"mode\": \"text\", \"name\": \"\", \"text\": [\"629\"], \"textfont\": {\"color\": \"#ffffff\", \"family\": \"sans serif\", \"size\": 18}, \"type\": \"scatter\", \"x\": [1], \"xaxis\": \"x2\", \"y\": [0], \"yaxis\": \"y2\"}, {\"mode\": \"text\", \"name\": \"\", \"text\": [\"1233\"], \"textfont\": {\"color\": \"#ffffff\", \"family\": \"sans serif\", \"size\": 18}, \"type\": \"scatter\", \"x\": [1], \"xaxis\": \"x2\", \"y\": [1], \"yaxis\": \"y2\"}, {\"colorscale\": [[0.0, \"#78290f\"], [0.25, \"#ff7d00\"], [0.5, \"#ffecd1\"], [0.75, \"#15616d\"], [1.0, \"#202c39\"]], \"reversescale\": false, \"showscale\": false, \"type\": \"heatmap\", \"x\": [\"0\", \"1\"], \"xaxis\": \"x4\", \"y\": [\"1\", \"0\"], \"yaxis\": \"y4\", \"z\": [[2504, 575], [472, 1204]]}, {\"mode\": \"text\", \"name\": \"\", \"text\": [\"2504\"], \"textfont\": {\"color\": \"#ffffff\", \"family\": \"sans serif\", \"size\": 18}, \"type\": \"scatter\", \"x\": [0], \"xaxis\": \"x4\", \"y\": [0], \"yaxis\": \"y4\"}, {\"mode\": \"text\", \"name\": \"\", \"text\": [\"472\"], \"textfont\": {\"color\": \"#ffffff\", \"family\": \"sans serif\", \"size\": 18}, \"type\": \"scatter\", \"x\": [0], \"xaxis\": \"x4\", \"y\": [1], \"yaxis\": \"y4\"}, {\"mode\": \"text\", \"name\": \"\", \"text\": [\"575\"], \"textfont\": {\"color\": \"#ffffff\", \"family\": \"sans serif\", \"size\": 18}, \"type\": \"scatter\", \"x\": [1], \"xaxis\": \"x4\", \"y\": [0], \"yaxis\": \"y4\"}, {\"mode\": \"text\", \"name\": \"\", \"text\": [\"1204\"], \"textfont\": {\"color\": \"#ffffff\", \"family\": \"sans serif\", \"size\": 18}, \"type\": \"scatter\", \"x\": [1], \"xaxis\": \"x4\", \"y\": [1], \"yaxis\": \"y4\"}, {\"colorscale\": [[0.0, \"#78290f\"], [0.25, \"#ff7d00\"], [0.5, \"#ffecd1\"], [0.75, \"#15616d\"], [1.0, \"#202c39\"]], \"reversescale\": false, \"showscale\": false, \"type\": \"heatmap\", \"x\": [\"0\", \"1\"], \"xaxis\": \"x5\", \"y\": [\"1\", \"0\"], \"yaxis\": \"y5\", \"z\": [[2498, 581], [471, 1205]]}, {\"mode\": \"text\", \"name\": \"\", \"text\": [\"2498\"], \"textfont\": {\"color\": \"#ffffff\", \"family\": \"sans serif\", \"size\": 18}, \"type\": \"scatter\", \"x\": [0], \"xaxis\": \"x5\", \"y\": [0], \"yaxis\": \"y5\"}, {\"mode\": \"text\", \"name\": \"\", \"text\": [\"471\"], \"textfont\": {\"color\": \"#ffffff\", \"family\": \"sans serif\", \"size\": 18}, \"type\": \"scatter\", \"x\": [0], \"xaxis\": \"x5\", \"y\": [1], \"yaxis\": \"y5\"}, {\"mode\": \"text\", \"name\": \"\", \"text\": [\"581\"], \"textfont\": {\"color\": \"#ffffff\", \"family\": \"sans serif\", \"size\": 18}, \"type\": \"scatter\", \"x\": [1], \"xaxis\": \"x5\", \"y\": [0], \"yaxis\": \"y5\"}, {\"mode\": \"text\", \"name\": \"\", \"text\": [\"1205\"], \"textfont\": {\"color\": \"#ffffff\", \"family\": \"sans serif\", \"size\": 18}, \"type\": \"scatter\", \"x\": [1], \"xaxis\": \"x5\", \"y\": [1], \"yaxis\": \"y5\"}, {\"colorscale\": [[0.0, \"#78290f\"], [0.25, \"#ff7d00\"], [0.5, \"#ffecd1\"], [0.75, \"#15616d\"], [1.0, \"#202c39\"]], \"reversescale\": false, \"showscale\": false, \"type\": \"heatmap\", \"x\": [\"0\", \"1\"], \"xaxis\": \"x3\", \"y\": [\"1\", \"0\"], \"yaxis\": \"y3\", \"z\": [[2777, 302], [691, 985]]}, {\"mode\": \"text\", \"name\": \"\", \"text\": [\"2777\"], \"textfont\": {\"color\": \"#ffffff\", \"family\": \"sans serif\", \"size\": 18}, \"type\": \"scatter\", \"x\": [0], \"xaxis\": \"x3\", \"y\": [0], \"yaxis\": \"y3\"}, {\"mode\": \"text\", \"name\": \"\", \"text\": [\"691\"], \"textfont\": {\"color\": \"#ffffff\", \"family\": \"sans serif\", \"size\": 18}, \"type\": \"scatter\", \"x\": [0], \"xaxis\": \"x3\", \"y\": [1], \"yaxis\": \"y3\"}, {\"mode\": \"text\", \"name\": \"\", \"text\": [\"302\"], \"textfont\": {\"color\": \"#ffffff\", \"family\": \"sans serif\", \"size\": 18}, \"type\": \"scatter\", \"x\": [1], \"xaxis\": \"x3\", \"y\": [0], \"yaxis\": \"y3\"}, {\"mode\": \"text\", \"name\": \"\", \"text\": [\"985\"], \"textfont\": {\"color\": \"#ffffff\", \"family\": \"sans serif\", \"size\": 18}, \"type\": \"scatter\", \"x\": [1], \"xaxis\": \"x3\", \"y\": [1], \"yaxis\": \"y3\"}],                        {\"annotations\": [{\"font\": {\"size\": 16}, \"showarrow\": false, \"text\": \"Test LR with Iso, PCA, SMOTE\", \"x\": 0.14444444444444446, \"xanchor\": \"center\", \"xref\": \"paper\", \"y\": 1.0, \"yanchor\": \"bottom\", \"yref\": \"paper\"}, {\"font\": {\"size\": 16}, \"showarrow\": false, \"text\": \"Test LR with Iso, PCA, Random Undersampling\", \"x\": 0.5, \"xanchor\": \"center\", \"xref\": \"paper\", \"y\": 1.0, \"yanchor\": \"bottom\", \"yref\": \"paper\"}, {\"font\": {\"size\": 16}, \"showarrow\": false, \"text\": \"Test LR with no preprocessing\", \"x\": 0.8555555555555556, \"xanchor\": \"center\", \"xref\": \"paper\", \"y\": 1.0, \"yanchor\": \"bottom\", \"yref\": \"paper\"}, {\"font\": {\"size\": 16}, \"showarrow\": false, \"text\": \"Test LR with LOF, PCA, SMOTE\", \"x\": 0.14444444444444446, \"xanchor\": \"center\", \"xref\": \"paper\", \"y\": 0.375, \"yanchor\": \"bottom\", \"yref\": \"paper\"}, {\"font\": {\"size\": 16}, \"showarrow\": false, \"text\": \"Test LR with LOF, PCA, Random Undersampling\", \"x\": 0.5, \"xanchor\": \"center\", \"xref\": \"paper\", \"y\": 0.375, \"yanchor\": \"bottom\", \"yref\": \"paper\"}], \"autosize\": false, \"height\": 650, \"template\": {\"data\": {\"bar\": [{\"error_x\": {\"color\": \"#2a3f5f\"}, \"error_y\": {\"color\": \"#2a3f5f\"}, \"marker\": {\"line\": {\"color\": \"#E5ECF6\", \"width\": 0.5}}, \"type\": \"bar\"}], \"barpolar\": [{\"marker\": {\"line\": {\"color\": \"#E5ECF6\", \"width\": 0.5}}, \"type\": \"barpolar\"}], \"carpet\": [{\"aaxis\": {\"endlinecolor\": \"#2a3f5f\", \"gridcolor\": \"white\", \"linecolor\": \"white\", \"minorgridcolor\": \"white\", \"startlinecolor\": \"#2a3f5f\"}, \"baxis\": {\"endlinecolor\": \"#2a3f5f\", \"gridcolor\": \"white\", \"linecolor\": \"white\", \"minorgridcolor\": \"white\", \"startlinecolor\": \"#2a3f5f\"}, \"type\": \"carpet\"}], \"choropleth\": [{\"colorbar\": {\"outlinewidth\": 0, \"ticks\": \"\"}, \"type\": \"choropleth\"}], \"contour\": [{\"colorbar\": {\"outlinewidth\": 0, \"ticks\": \"\"}, \"colorscale\": [[0.0, \"#0d0887\"], [0.1111111111111111, \"#46039f\"], [0.2222222222222222, \"#7201a8\"], [0.3333333333333333, \"#9c179e\"], [0.4444444444444444, \"#bd3786\"], [0.5555555555555556, \"#d8576b\"], [0.6666666666666666, \"#ed7953\"], [0.7777777777777778, \"#fb9f3a\"], [0.8888888888888888, \"#fdca26\"], [1.0, \"#f0f921\"]], \"type\": \"contour\"}], \"contourcarpet\": [{\"colorbar\": {\"outlinewidth\": 0, \"ticks\": \"\"}, \"type\": \"contourcarpet\"}], \"heatmap\": [{\"colorbar\": {\"outlinewidth\": 0, \"ticks\": \"\"}, \"colorscale\": [[0.0, \"#0d0887\"], [0.1111111111111111, \"#46039f\"], [0.2222222222222222, \"#7201a8\"], [0.3333333333333333, \"#9c179e\"], [0.4444444444444444, \"#bd3786\"], [0.5555555555555556, \"#d8576b\"], [0.6666666666666666, \"#ed7953\"], [0.7777777777777778, \"#fb9f3a\"], [0.8888888888888888, \"#fdca26\"], [1.0, \"#f0f921\"]], \"type\": \"heatmap\"}], \"heatmapgl\": [{\"colorbar\": {\"outlinewidth\": 0, \"ticks\": \"\"}, \"colorscale\": [[0.0, \"#0d0887\"], [0.1111111111111111, \"#46039f\"], [0.2222222222222222, \"#7201a8\"], [0.3333333333333333, \"#9c179e\"], [0.4444444444444444, \"#bd3786\"], [0.5555555555555556, \"#d8576b\"], [0.6666666666666666, \"#ed7953\"], [0.7777777777777778, \"#fb9f3a\"], [0.8888888888888888, \"#fdca26\"], [1.0, \"#f0f921\"]], \"type\": \"heatmapgl\"}], \"histogram\": [{\"marker\": {\"colorbar\": {\"outlinewidth\": 0, \"ticks\": \"\"}}, \"type\": \"histogram\"}], \"histogram2d\": [{\"colorbar\": {\"outlinewidth\": 0, \"ticks\": \"\"}, \"colorscale\": [[0.0, \"#0d0887\"], [0.1111111111111111, \"#46039f\"], [0.2222222222222222, \"#7201a8\"], [0.3333333333333333, \"#9c179e\"], [0.4444444444444444, \"#bd3786\"], [0.5555555555555556, \"#d8576b\"], [0.6666666666666666, \"#ed7953\"], [0.7777777777777778, \"#fb9f3a\"], [0.8888888888888888, \"#fdca26\"], [1.0, \"#f0f921\"]], \"type\": \"histogram2d\"}], \"histogram2dcontour\": [{\"colorbar\": {\"outlinewidth\": 0, \"ticks\": \"\"}, \"colorscale\": [[0.0, \"#0d0887\"], [0.1111111111111111, \"#46039f\"], [0.2222222222222222, \"#7201a8\"], [0.3333333333333333, \"#9c179e\"], [0.4444444444444444, \"#bd3786\"], [0.5555555555555556, \"#d8576b\"], [0.6666666666666666, \"#ed7953\"], [0.7777777777777778, \"#fb9f3a\"], [0.8888888888888888, \"#fdca26\"], [1.0, \"#f0f921\"]], \"type\": \"histogram2dcontour\"}], \"mesh3d\": [{\"colorbar\": {\"outlinewidth\": 0, \"ticks\": \"\"}, \"type\": \"mesh3d\"}], \"parcoords\": [{\"line\": {\"colorbar\": {\"outlinewidth\": 0, \"ticks\": \"\"}}, \"type\": \"parcoords\"}], \"pie\": [{\"automargin\": true, \"type\": \"pie\"}], \"scatter\": [{\"marker\": {\"colorbar\": {\"outlinewidth\": 0, \"ticks\": \"\"}}, \"type\": \"scatter\"}], \"scatter3d\": [{\"line\": {\"colorbar\": {\"outlinewidth\": 0, \"ticks\": \"\"}}, \"marker\": {\"colorbar\": {\"outlinewidth\": 0, \"ticks\": \"\"}}, \"type\": \"scatter3d\"}], \"scattercarpet\": [{\"marker\": {\"colorbar\": {\"outlinewidth\": 0, \"ticks\": \"\"}}, \"type\": \"scattercarpet\"}], \"scattergeo\": [{\"marker\": {\"colorbar\": {\"outlinewidth\": 0, \"ticks\": \"\"}}, \"type\": \"scattergeo\"}], \"scattergl\": [{\"marker\": {\"colorbar\": {\"outlinewidth\": 0, \"ticks\": \"\"}}, \"type\": \"scattergl\"}], \"scattermapbox\": [{\"marker\": {\"colorbar\": {\"outlinewidth\": 0, \"ticks\": \"\"}}, \"type\": \"scattermapbox\"}], \"scatterpolar\": [{\"marker\": {\"colorbar\": {\"outlinewidth\": 0, \"ticks\": \"\"}}, \"type\": \"scatterpolar\"}], \"scatterpolargl\": [{\"marker\": {\"colorbar\": {\"outlinewidth\": 0, \"ticks\": \"\"}}, \"type\": \"scatterpolargl\"}], \"scatterternary\": [{\"marker\": {\"colorbar\": {\"outlinewidth\": 0, \"ticks\": \"\"}}, \"type\": \"scatterternary\"}], \"surface\": [{\"colorbar\": {\"outlinewidth\": 0, \"ticks\": \"\"}, \"colorscale\": [[0.0, \"#0d0887\"], [0.1111111111111111, \"#46039f\"], [0.2222222222222222, \"#7201a8\"], [0.3333333333333333, \"#9c179e\"], [0.4444444444444444, \"#bd3786\"], [0.5555555555555556, \"#d8576b\"], [0.6666666666666666, \"#ed7953\"], [0.7777777777777778, \"#fb9f3a\"], [0.8888888888888888, \"#fdca26\"], [1.0, \"#f0f921\"]], \"type\": \"surface\"}], \"table\": [{\"cells\": {\"fill\": {\"color\": \"#EBF0F8\"}, \"line\": {\"color\": \"white\"}}, \"header\": {\"fill\": {\"color\": \"#C8D4E3\"}, \"line\": {\"color\": \"white\"}}, \"type\": \"table\"}]}, \"layout\": {\"annotationdefaults\": {\"arrowcolor\": \"#2a3f5f\", \"arrowhead\": 0, \"arrowwidth\": 1}, \"autotypenumbers\": \"strict\", \"coloraxis\": {\"colorbar\": {\"outlinewidth\": 0, \"ticks\": \"\"}}, \"colorscale\": {\"diverging\": [[0, \"#8e0152\"], [0.1, \"#c51b7d\"], [0.2, \"#de77ae\"], [0.3, \"#f1b6da\"], [0.4, \"#fde0ef\"], [0.5, \"#f7f7f7\"], [0.6, \"#e6f5d0\"], [0.7, \"#b8e186\"], [0.8, \"#7fbc41\"], [0.9, \"#4d9221\"], [1, \"#276419\"]], \"sequential\": [[0.0, \"#0d0887\"], [0.1111111111111111, \"#46039f\"], [0.2222222222222222, \"#7201a8\"], [0.3333333333333333, \"#9c179e\"], [0.4444444444444444, \"#bd3786\"], [0.5555555555555556, \"#d8576b\"], [0.6666666666666666, \"#ed7953\"], [0.7777777777777778, \"#fb9f3a\"], [0.8888888888888888, \"#fdca26\"], [1.0, \"#f0f921\"]], \"sequentialminus\": [[0.0, \"#0d0887\"], [0.1111111111111111, \"#46039f\"], [0.2222222222222222, \"#7201a8\"], [0.3333333333333333, \"#9c179e\"], [0.4444444444444444, \"#bd3786\"], [0.5555555555555556, \"#d8576b\"], [0.6666666666666666, \"#ed7953\"], [0.7777777777777778, \"#fb9f3a\"], [0.8888888888888888, \"#fdca26\"], [1.0, \"#f0f921\"]]}, \"colorway\": [\"#636efa\", \"#EF553B\", \"#00cc96\", \"#ab63fa\", \"#FFA15A\", \"#19d3f3\", \"#FF6692\", \"#B6E880\", \"#FF97FF\", \"#FECB52\"], \"font\": {\"color\": \"#2a3f5f\"}, \"geo\": {\"bgcolor\": \"white\", \"lakecolor\": \"white\", \"landcolor\": \"#E5ECF6\", \"showlakes\": true, \"showland\": true, \"subunitcolor\": \"white\"}, \"hoverlabel\": {\"align\": \"left\"}, \"hovermode\": \"closest\", \"mapbox\": {\"style\": \"light\"}, \"paper_bgcolor\": \"white\", \"plot_bgcolor\": \"#E5ECF6\", \"polar\": {\"angularaxis\": {\"gridcolor\": \"white\", \"linecolor\": \"white\", \"ticks\": \"\"}, \"bgcolor\": \"#E5ECF6\", \"radialaxis\": {\"gridcolor\": \"white\", \"linecolor\": \"white\", \"ticks\": \"\"}}, \"scene\": {\"xaxis\": {\"backgroundcolor\": \"#E5ECF6\", \"gridcolor\": \"white\", \"gridwidth\": 2, \"linecolor\": \"white\", \"showbackground\": true, \"ticks\": \"\", \"zerolinecolor\": \"white\"}, \"yaxis\": {\"backgroundcolor\": \"#E5ECF6\", \"gridcolor\": \"white\", \"gridwidth\": 2, \"linecolor\": \"white\", \"showbackground\": true, \"ticks\": \"\", \"zerolinecolor\": \"white\"}, \"zaxis\": {\"backgroundcolor\": \"#E5ECF6\", \"gridcolor\": \"white\", \"gridwidth\": 2, \"linecolor\": \"white\", \"showbackground\": true, \"ticks\": \"\", \"zerolinecolor\": \"white\"}}, \"shapedefaults\": {\"line\": {\"color\": \"#2a3f5f\"}}, \"ternary\": {\"aaxis\": {\"gridcolor\": \"white\", \"linecolor\": \"white\", \"ticks\": \"\"}, \"baxis\": {\"gridcolor\": \"white\", \"linecolor\": \"white\", \"ticks\": \"\"}, \"bgcolor\": \"#E5ECF6\", \"caxis\": {\"gridcolor\": \"white\", \"linecolor\": \"white\", \"ticks\": \"\"}}, \"title\": {\"x\": 0.05}, \"xaxis\": {\"automargin\": true, \"gridcolor\": \"white\", \"linecolor\": \"white\", \"ticks\": \"\", \"title\": {\"standoff\": 15}, \"zerolinecolor\": \"white\", \"zerolinewidth\": 2}, \"yaxis\": {\"automargin\": true, \"gridcolor\": \"white\", \"linecolor\": \"white\", \"ticks\": \"\", \"title\": {\"standoff\": 15}, \"zerolinecolor\": \"white\", \"zerolinewidth\": 2}}}, \"width\": 900, \"xaxis\": {\"anchor\": \"y\", \"domain\": [0.0, 0.2888888888888889], \"title\": {\"text\": \"Predicted\"}}, \"xaxis2\": {\"anchor\": \"y2\", \"domain\": [0.35555555555555557, 0.6444444444444445]}, \"xaxis3\": {\"anchor\": \"y3\", \"domain\": [0.7111111111111111, 1.0]}, \"xaxis4\": {\"anchor\": \"y4\", \"domain\": [0.0, 0.2888888888888889]}, \"xaxis5\": {\"anchor\": \"y5\", \"domain\": [0.35555555555555557, 0.6444444444444445]}, \"xaxis6\": {\"anchor\": \"y6\", \"domain\": [0.7111111111111111, 1.0]}, \"yaxis\": {\"anchor\": \"x\", \"domain\": [0.625, 1.0], \"title\": {\"text\": \"Ground Truth\"}}, \"yaxis2\": {\"anchor\": \"x2\", \"domain\": [0.625, 1.0]}, \"yaxis3\": {\"anchor\": \"x3\", \"domain\": [0.625, 1.0]}, \"yaxis4\": {\"anchor\": \"x4\", \"domain\": [0.0, 0.375]}, \"yaxis5\": {\"anchor\": \"x5\", \"domain\": [0.0, 0.375]}, \"yaxis6\": {\"anchor\": \"x6\", \"domain\": [0.0, 0.375]}},                        {\"responsive\": true}                    ).then(function(){\n",
       "                            \n",
       "var gd = document.getElementById('2827d3ad-37bd-4abd-a9e7-b4308f27503a');\n",
       "var x = new MutationObserver(function (mutations, observer) {{\n",
       "        var display = window.getComputedStyle(gd).display;\n",
       "        if (!display || display === 'none') {{\n",
       "            console.log([gd, 'removed!']);\n",
       "            Plotly.purge(gd);\n",
       "            observer.disconnect();\n",
       "        }}\n",
       "}});\n",
       "\n",
       "// Listen for the removal of the full notebook cells\n",
       "var notebookContainer = gd.closest('#notebook-container');\n",
       "if (notebookContainer) {{\n",
       "    x.observe(notebookContainer, {childList: true});\n",
       "}}\n",
       "\n",
       "// Listen for the clearing of the current output cell\n",
       "var outputEl = gd.closest('.output');\n",
       "if (outputEl) {{\n",
       "    x.observe(outputEl, {childList: true});\n",
       "}}\n",
       "\n",
       "                        })                };                            </script>        </div>\n",
       "</body>\n",
       "</html>"
      ]
     },
     "metadata": {
      "tags": []
     },
     "output_type": "display_data"
    }
   ],
   "source": [
    "print_cfs(lr_cfs)"
   ]
  },
  {
   "cell_type": "code",
   "execution_count": null,
   "metadata": {
    "colab": {
     "base_uri": "https://localhost:8080/",
     "height": 417
    },
    "executionInfo": {
     "elapsed": 226227,
     "status": "ok",
     "timestamp": 1619883216151,
     "user": {
      "displayName": "Noemi Tomasello",
      "photoUrl": "https://lh6.googleusercontent.com/-0vac6q9vL7M/AAAAAAAAAAI/AAAAAAAACQY/OsKV2bRy4NA/s64/photo.jpg",
      "userId": "14936482853525964477"
     },
     "user_tz": -120
    },
    "id": "76kfdH5zqbXX",
    "outputId": "23bb0913-f31b-42e0-b97f-7f3739073313",
    "slideshow": {
     "slide_type": "subslide"
    }
   },
   "outputs": [
    {
     "data": {
      "text/html": [
       "<html>\n",
       "<head><meta charset=\"utf-8\" /></head>\n",
       "<body>\n",
       "    <div>            <script src=\"https://cdnjs.cloudflare.com/ajax/libs/mathjax/2.7.5/MathJax.js?config=TeX-AMS-MML_SVG\"></script><script type=\"text/javascript\">if (window.MathJax) {MathJax.Hub.Config({SVG: {font: \"STIX-Web\"}});}</script>                <script type=\"text/javascript\">window.PlotlyConfig = {MathJaxConfig: 'local'};</script>\n",
       "        <script src=\"https://cdn.plot.ly/plotly-latest.min.js\"></script>                <div id=\"36b52362-f8aa-43e4-84da-24148901c153\" class=\"plotly-graph-div\" style=\"height:400px; width:600px;\"></div>            <script type=\"text/javascript\">                                    window.PLOTLYENV=window.PLOTLYENV || {};                                    if (document.getElementById(\"36b52362-f8aa-43e4-84da-24148901c153\")) {                    Plotly.newPlot(                        \"36b52362-f8aa-43e4-84da-24148901c153\",                        [{\"marker\": {\"color\": \"#ff7d00\"}, \"name\": \"Training accuracy\", \"type\": \"scatter\", \"x\": [1141, 3708, 6276, 8844, 11412], \"y\": [0.7379491673970202, 0.7495145631067961, 0.7576800509878904, 0.7590682948891905, 0.7620925341745531]}, {\"fill\": \"tonexty\", \"fillcolor\": \"rgba(254, 200, 154, 0.2)\", \"hoverinfo\": \"skip\", \"line\": {\"width\": 0}, \"mode\": \"lines\", \"showlegend\": false, \"type\": \"scatter\", \"x\": [1141, 3708, 6276, 8844, 11412], \"y\": [0.7441464222715737, 0.7580486172555433, 0.7638703764535508, 0.7632414576913266, 0.7647728337871087]}, {\"fill\": \"tonexty\", \"fillcolor\": \"rgba(254, 200, 154, 0.2)\", \"hoverinfo\": \"skip\", \"line\": {\"width\": 0}, \"mode\": \"lines\", \"showlegend\": false, \"type\": \"scatter\", \"x\": [1141, 3708, 6276, 8844, 11412], \"y\": [0.7317519125224667, 0.7409805089580489, 0.7514897255222299, 0.7548951320870544, 0.7594122345619976]}, {\"marker\": {\"color\": \"#15616d\"}, \"name\": \"Test accuracy\", \"type\": \"scatter\", \"x\": [1141, 3708, 6276, 8844, 11412], \"y\": [0.7467928496319663, 0.7575184016824396, 0.7628461268839818, 0.7678233438485804, 0.7685243603224675]}, {\"fill\": \"tonexty\", \"fillcolor\": \"rgba(0,100,80,0.1)\", \"hoverinfo\": \"skip\", \"line\": {\"width\": 0}, \"mode\": \"lines\", \"showlegend\": false, \"type\": \"scatter\", \"x\": [1141, 3708, 6276, 8844, 11412], \"y\": [0.7518944003921936, 0.763986774552778, 0.7688830144105464, 0.7739451084317198, 0.7740999758360037]}, {\"fill\": \"tonexty\", \"fillcolor\": \"rgba(0,100,80,0.2)\", \"hoverinfo\": \"skip\", \"line\": {\"width\": 0}, \"mode\": \"lines\", \"showlegend\": false, \"type\": \"scatter\", \"x\": [1141, 3708, 6276, 8844, 11412], \"y\": [0.7416912988717391, 0.7510500288121011, 0.7568092393574172, 0.761701579265441, 0.7629487448089314]}],                        {\"annotations\": [{\"font\": {\"size\": 16}, \"showarrow\": false, \"text\": \"Confusion Matrix\", \"x\": 0.5, \"xanchor\": \"center\", \"xref\": \"paper\", \"y\": 1.0, \"yanchor\": \"bottom\", \"yref\": \"paper\"}], \"autosize\": false, \"height\": 400, \"template\": {\"data\": {\"bar\": [{\"error_x\": {\"color\": \"#2a3f5f\"}, \"error_y\": {\"color\": \"#2a3f5f\"}, \"marker\": {\"line\": {\"color\": \"#E5ECF6\", \"width\": 0.5}}, \"type\": \"bar\"}], \"barpolar\": [{\"marker\": {\"line\": {\"color\": \"#E5ECF6\", \"width\": 0.5}}, \"type\": \"barpolar\"}], \"carpet\": [{\"aaxis\": {\"endlinecolor\": \"#2a3f5f\", \"gridcolor\": \"white\", \"linecolor\": \"white\", \"minorgridcolor\": \"white\", \"startlinecolor\": \"#2a3f5f\"}, \"baxis\": {\"endlinecolor\": \"#2a3f5f\", \"gridcolor\": \"white\", \"linecolor\": \"white\", \"minorgridcolor\": \"white\", \"startlinecolor\": \"#2a3f5f\"}, \"type\": \"carpet\"}], \"choropleth\": [{\"colorbar\": {\"outlinewidth\": 0, \"ticks\": \"\"}, \"type\": \"choropleth\"}], \"contour\": [{\"colorbar\": {\"outlinewidth\": 0, \"ticks\": \"\"}, \"colorscale\": [[0.0, \"#0d0887\"], [0.1111111111111111, \"#46039f\"], [0.2222222222222222, \"#7201a8\"], [0.3333333333333333, \"#9c179e\"], [0.4444444444444444, \"#bd3786\"], [0.5555555555555556, \"#d8576b\"], [0.6666666666666666, \"#ed7953\"], [0.7777777777777778, \"#fb9f3a\"], [0.8888888888888888, \"#fdca26\"], [1.0, \"#f0f921\"]], \"type\": \"contour\"}], \"contourcarpet\": [{\"colorbar\": {\"outlinewidth\": 0, \"ticks\": \"\"}, \"type\": \"contourcarpet\"}], \"heatmap\": [{\"colorbar\": {\"outlinewidth\": 0, \"ticks\": \"\"}, \"colorscale\": [[0.0, \"#0d0887\"], [0.1111111111111111, \"#46039f\"], [0.2222222222222222, \"#7201a8\"], [0.3333333333333333, \"#9c179e\"], [0.4444444444444444, \"#bd3786\"], [0.5555555555555556, \"#d8576b\"], [0.6666666666666666, \"#ed7953\"], [0.7777777777777778, \"#fb9f3a\"], [0.8888888888888888, \"#fdca26\"], [1.0, \"#f0f921\"]], \"type\": \"heatmap\"}], \"heatmapgl\": [{\"colorbar\": {\"outlinewidth\": 0, \"ticks\": \"\"}, \"colorscale\": [[0.0, \"#0d0887\"], [0.1111111111111111, \"#46039f\"], [0.2222222222222222, \"#7201a8\"], [0.3333333333333333, \"#9c179e\"], [0.4444444444444444, \"#bd3786\"], [0.5555555555555556, \"#d8576b\"], [0.6666666666666666, \"#ed7953\"], [0.7777777777777778, \"#fb9f3a\"], [0.8888888888888888, \"#fdca26\"], [1.0, \"#f0f921\"]], \"type\": \"heatmapgl\"}], \"histogram\": [{\"marker\": {\"colorbar\": {\"outlinewidth\": 0, \"ticks\": \"\"}}, \"type\": \"histogram\"}], \"histogram2d\": [{\"colorbar\": {\"outlinewidth\": 0, \"ticks\": \"\"}, \"colorscale\": [[0.0, \"#0d0887\"], [0.1111111111111111, \"#46039f\"], [0.2222222222222222, \"#7201a8\"], [0.3333333333333333, \"#9c179e\"], [0.4444444444444444, \"#bd3786\"], [0.5555555555555556, \"#d8576b\"], [0.6666666666666666, \"#ed7953\"], [0.7777777777777778, \"#fb9f3a\"], [0.8888888888888888, \"#fdca26\"], [1.0, \"#f0f921\"]], \"type\": \"histogram2d\"}], \"histogram2dcontour\": [{\"colorbar\": {\"outlinewidth\": 0, \"ticks\": \"\"}, \"colorscale\": [[0.0, \"#0d0887\"], [0.1111111111111111, \"#46039f\"], [0.2222222222222222, \"#7201a8\"], [0.3333333333333333, \"#9c179e\"], [0.4444444444444444, \"#bd3786\"], [0.5555555555555556, \"#d8576b\"], [0.6666666666666666, \"#ed7953\"], [0.7777777777777778, \"#fb9f3a\"], [0.8888888888888888, \"#fdca26\"], [1.0, \"#f0f921\"]], \"type\": \"histogram2dcontour\"}], \"mesh3d\": [{\"colorbar\": {\"outlinewidth\": 0, \"ticks\": \"\"}, \"type\": \"mesh3d\"}], \"parcoords\": [{\"line\": {\"colorbar\": {\"outlinewidth\": 0, \"ticks\": \"\"}}, \"type\": \"parcoords\"}], \"pie\": [{\"automargin\": true, \"type\": \"pie\"}], \"scatter\": [{\"marker\": {\"colorbar\": {\"outlinewidth\": 0, \"ticks\": \"\"}}, \"type\": \"scatter\"}], \"scatter3d\": [{\"line\": {\"colorbar\": {\"outlinewidth\": 0, \"ticks\": \"\"}}, \"marker\": {\"colorbar\": {\"outlinewidth\": 0, \"ticks\": \"\"}}, \"type\": \"scatter3d\"}], \"scattercarpet\": [{\"marker\": {\"colorbar\": {\"outlinewidth\": 0, \"ticks\": \"\"}}, \"type\": \"scattercarpet\"}], \"scattergeo\": [{\"marker\": {\"colorbar\": {\"outlinewidth\": 0, \"ticks\": \"\"}}, \"type\": \"scattergeo\"}], \"scattergl\": [{\"marker\": {\"colorbar\": {\"outlinewidth\": 0, \"ticks\": \"\"}}, \"type\": \"scattergl\"}], \"scattermapbox\": [{\"marker\": {\"colorbar\": {\"outlinewidth\": 0, \"ticks\": \"\"}}, \"type\": \"scattermapbox\"}], \"scatterpolar\": [{\"marker\": {\"colorbar\": {\"outlinewidth\": 0, \"ticks\": \"\"}}, \"type\": \"scatterpolar\"}], \"scatterpolargl\": [{\"marker\": {\"colorbar\": {\"outlinewidth\": 0, \"ticks\": \"\"}}, \"type\": \"scatterpolargl\"}], \"scatterternary\": [{\"marker\": {\"colorbar\": {\"outlinewidth\": 0, \"ticks\": \"\"}}, \"type\": \"scatterternary\"}], \"surface\": [{\"colorbar\": {\"outlinewidth\": 0, \"ticks\": \"\"}, \"colorscale\": [[0.0, \"#0d0887\"], [0.1111111111111111, \"#46039f\"], [0.2222222222222222, \"#7201a8\"], [0.3333333333333333, \"#9c179e\"], [0.4444444444444444, \"#bd3786\"], [0.5555555555555556, \"#d8576b\"], [0.6666666666666666, \"#ed7953\"], [0.7777777777777778, \"#fb9f3a\"], [0.8888888888888888, \"#fdca26\"], [1.0, \"#f0f921\"]], \"type\": \"surface\"}], \"table\": [{\"cells\": {\"fill\": {\"color\": \"#EBF0F8\"}, \"line\": {\"color\": \"white\"}}, \"header\": {\"fill\": {\"color\": \"#C8D4E3\"}, \"line\": {\"color\": \"white\"}}, \"type\": \"table\"}]}, \"layout\": {\"annotationdefaults\": {\"arrowcolor\": \"#2a3f5f\", \"arrowhead\": 0, \"arrowwidth\": 1}, \"autotypenumbers\": \"strict\", \"coloraxis\": {\"colorbar\": {\"outlinewidth\": 0, \"ticks\": \"\"}}, \"colorscale\": {\"diverging\": [[0, \"#8e0152\"], [0.1, \"#c51b7d\"], [0.2, \"#de77ae\"], [0.3, \"#f1b6da\"], [0.4, \"#fde0ef\"], [0.5, \"#f7f7f7\"], [0.6, \"#e6f5d0\"], [0.7, \"#b8e186\"], [0.8, \"#7fbc41\"], [0.9, \"#4d9221\"], [1, \"#276419\"]], \"sequential\": [[0.0, \"#0d0887\"], [0.1111111111111111, \"#46039f\"], [0.2222222222222222, \"#7201a8\"], [0.3333333333333333, \"#9c179e\"], [0.4444444444444444, \"#bd3786\"], [0.5555555555555556, \"#d8576b\"], [0.6666666666666666, \"#ed7953\"], [0.7777777777777778, \"#fb9f3a\"], [0.8888888888888888, \"#fdca26\"], [1.0, \"#f0f921\"]], \"sequentialminus\": [[0.0, \"#0d0887\"], [0.1111111111111111, \"#46039f\"], [0.2222222222222222, \"#7201a8\"], [0.3333333333333333, \"#9c179e\"], [0.4444444444444444, \"#bd3786\"], [0.5555555555555556, \"#d8576b\"], [0.6666666666666666, \"#ed7953\"], [0.7777777777777778, \"#fb9f3a\"], [0.8888888888888888, \"#fdca26\"], [1.0, \"#f0f921\"]]}, \"colorway\": [\"#636efa\", \"#EF553B\", \"#00cc96\", \"#ab63fa\", \"#FFA15A\", \"#19d3f3\", \"#FF6692\", \"#B6E880\", \"#FF97FF\", \"#FECB52\"], \"font\": {\"color\": \"#2a3f5f\"}, \"geo\": {\"bgcolor\": \"white\", \"lakecolor\": \"white\", \"landcolor\": \"#E5ECF6\", \"showlakes\": true, \"showland\": true, \"subunitcolor\": \"white\"}, \"hoverlabel\": {\"align\": \"left\"}, \"hovermode\": \"closest\", \"mapbox\": {\"style\": \"light\"}, \"paper_bgcolor\": \"white\", \"plot_bgcolor\": \"#E5ECF6\", \"polar\": {\"angularaxis\": {\"gridcolor\": \"white\", \"linecolor\": \"white\", \"ticks\": \"\"}, \"bgcolor\": \"#E5ECF6\", \"radialaxis\": {\"gridcolor\": \"white\", \"linecolor\": \"white\", \"ticks\": \"\"}}, \"scene\": {\"xaxis\": {\"backgroundcolor\": \"#E5ECF6\", \"gridcolor\": \"white\", \"gridwidth\": 2, \"linecolor\": \"white\", \"showbackground\": true, \"ticks\": \"\", \"zerolinecolor\": \"white\"}, \"yaxis\": {\"backgroundcolor\": \"#E5ECF6\", \"gridcolor\": \"white\", \"gridwidth\": 2, \"linecolor\": \"white\", \"showbackground\": true, \"ticks\": \"\", \"zerolinecolor\": \"white\"}, \"zaxis\": {\"backgroundcolor\": \"#E5ECF6\", \"gridcolor\": \"white\", \"gridwidth\": 2, \"linecolor\": \"white\", \"showbackground\": true, \"ticks\": \"\", \"zerolinecolor\": \"white\"}}, \"shapedefaults\": {\"line\": {\"color\": \"#2a3f5f\"}}, \"ternary\": {\"aaxis\": {\"gridcolor\": \"white\", \"linecolor\": \"white\", \"ticks\": \"\"}, \"baxis\": {\"gridcolor\": \"white\", \"linecolor\": \"white\", \"ticks\": \"\"}, \"bgcolor\": \"#E5ECF6\", \"caxis\": {\"gridcolor\": \"white\", \"linecolor\": \"white\", \"ticks\": \"\"}}, \"title\": {\"x\": 0.05}, \"xaxis\": {\"automargin\": true, \"gridcolor\": \"white\", \"linecolor\": \"white\", \"ticks\": \"\", \"title\": {\"standoff\": 15}, \"zerolinecolor\": \"white\", \"zerolinewidth\": 2}, \"yaxis\": {\"automargin\": true, \"gridcolor\": \"white\", \"linecolor\": \"white\", \"ticks\": \"\", \"title\": {\"standoff\": 15}, \"zerolinecolor\": \"white\", \"zerolinewidth\": 2}}}, \"width\": 600, \"xaxis\": {\"anchor\": \"y\", \"domain\": [0.0, 1.0], \"title\": {\"text\": \"Training Example\"}}, \"yaxis\": {\"anchor\": \"x\", \"domain\": [0.0, 1.0], \"title\": {\"text\": \"Scores\"}}},                        {\"responsive\": true}                    ).then(function(){\n",
       "                            \n",
       "var gd = document.getElementById('36b52362-f8aa-43e4-84da-24148901c153');\n",
       "var x = new MutationObserver(function (mutations, observer) {{\n",
       "        var display = window.getComputedStyle(gd).display;\n",
       "        if (!display || display === 'none') {{\n",
       "            console.log([gd, 'removed!']);\n",
       "            Plotly.purge(gd);\n",
       "            observer.disconnect();\n",
       "        }}\n",
       "}});\n",
       "\n",
       "// Listen for the removal of the full notebook cells\n",
       "var notebookContainer = gd.closest('#notebook-container');\n",
       "if (notebookContainer) {{\n",
       "    x.observe(notebookContainer, {childList: true});\n",
       "}}\n",
       "\n",
       "// Listen for the clearing of the current output cell\n",
       "var outputEl = gd.closest('.output');\n",
       "if (outputEl) {{\n",
       "    x.observe(outputEl, {childList: true});\n",
       "}}\n",
       "\n",
       "                        })                };                            </script>        </div>\n",
       "</body>\n",
       "</html>"
      ]
     },
     "metadata": {
      "tags": []
     },
     "output_type": "display_data"
    }
   ],
   "source": [
    "print_lc(LogisticRegression(C=1,solver='saga'))"
   ]
  },
  {
   "cell_type": "markdown",
   "metadata": {
    "id": "zppIqKPkJcJG",
    "slideshow": {
     "slide_type": "subslide"
    }
   },
   "source": [
    "In this case, by looking at the learning curves the test trend stands most of the time above the training trend indicating an underfitting model hence which suffers of high bias."
   ]
  },
  {
   "cell_type": "markdown",
   "metadata": {
    "id": "NSGeWecnwGFs",
    "slideshow": {
     "slide_type": "slide"
    }
   },
   "source": [
    "### **QDA**"
   ]
  },
  {
   "cell_type": "markdown",
   "metadata": {
    "id": "Mhxm6J8cwMfc",
    "slideshow": {
     "slide_type": "subslide"
    }
   },
   "source": [
    "Quadratic Discriminant Analysis is a classification method that assumes a quadratic decision boundary. The classifier assumes that the observations are taken from a Gaussian distribution, and that each class has its own covariance matrix. So that, each observation from the $k^{th}$ class is of the form $X \\sim N(\\mu_k, \\Sigma_k)$ where $\\Sigma_k$ is the covariance matrix for the $ k^{th}$ class. Under this assumption, the Bayes classifier assigns the observation $X=x$ the class for which the quantity $\\delta_k(x)$ is the largest. \n",
    "<br/><br/>\n",
    "\\begin{equation}\n",
    "\\delta_k(x) = - \\frac{1}{2} x^{T}\\Sigma_k^{-1}x + \\Sigma_k^{-1}\\mu_k - \\frac{1}{2}\\mu_k^T\\Sigma_k^{-1}\\mu_k -\\frac{1}{2}\\log{|\\Sigma_k|} + \\log{\\pi_k}\n",
    "\\end{equation}\n",
    "<br/>\n",
    "Where $\\pi_k$ are the priors of each class and $\\mu_k$ are their mean values.\n",
    "The classifiers gets its name since $x$ appears as a *quadratic* function. \n",
    "<br/> QDA is usually reccommended when dealing with large datasets, so that the assumption of a different covariance matrix for each class is resounable. In this way also the variance of the classifiers should not be a major concern.\n"
   ]
  },
  {
   "cell_type": "code",
   "execution_count": null,
   "metadata": {
    "colab": {
     "base_uri": "https://localhost:8080/"
    },
    "executionInfo": {
     "elapsed": 249736,
     "status": "ok",
     "timestamp": 1619883239672,
     "user": {
      "displayName": "Noemi Tomasello",
      "photoUrl": "https://lh6.googleusercontent.com/-0vac6q9vL7M/AAAAAAAAAAI/AAAAAAAACQY/OsKV2bRy4NA/s64/photo.jpg",
      "userId": "14936482853525964477"
     },
     "user_tz": -120
    },
    "id": "5Io458SzwVot",
    "outputId": "3c3836e2-45b8-4338-e4d7-ff1c54202aeb",
    "slideshow": {
     "slide_type": "skip"
    }
   },
   "outputs": [
    {
     "name": "stdout",
     "output_type": "stream",
     "text": [
      "Done!\n"
     ]
    }
   ],
   "source": [
    " params_qda = {'reg_param':[0.0,0.01,1,0.001]}\n",
    "\n",
    "pd_qda, qda = training(QDA, params_qda, outliers_iso,SMOTE())"
   ]
  },
  {
   "cell_type": "code",
   "execution_count": null,
   "metadata": {
    "colab": {
     "base_uri": "https://localhost:8080/",
     "height": 542
    },
    "executionInfo": {
     "elapsed": 249753,
     "status": "ok",
     "timestamp": 1619883239697,
     "user": {
      "displayName": "Noemi Tomasello",
      "photoUrl": "https://lh6.googleusercontent.com/-0vac6q9vL7M/AAAAAAAAAAI/AAAAAAAACQY/OsKV2bRy4NA/s64/photo.jpg",
      "userId": "14936482853525964477"
     },
     "user_tz": -120
    },
    "id": "nJjsPotlynht",
    "outputId": "b934b655-abf1-4f13-b4ee-d328aa562a0c",
    "slideshow": {
     "slide_type": "subslide"
    }
   },
   "outputs": [
    {
     "data": {
      "text/html": [
       "<html>\n",
       "<head><meta charset=\"utf-8\" /></head>\n",
       "<body>\n",
       "    <div>            <script src=\"https://cdnjs.cloudflare.com/ajax/libs/mathjax/2.7.5/MathJax.js?config=TeX-AMS-MML_SVG\"></script><script type=\"text/javascript\">if (window.MathJax) {MathJax.Hub.Config({SVG: {font: \"STIX-Web\"}});}</script>                <script type=\"text/javascript\">window.PlotlyConfig = {MathJaxConfig: 'local'};</script>\n",
       "        <script src=\"https://cdn.plot.ly/plotly-latest.min.js\"></script>                <div id=\"92cc5c1e-6a0b-4976-8885-1be806e14909\" class=\"plotly-graph-div\" style=\"height:525px; width:100%;\"></div>            <script type=\"text/javascript\">                                    window.PLOTLYENV=window.PLOTLYENV || {};                                    if (document.getElementById(\"92cc5c1e-6a0b-4976-8885-1be806e14909\")) {                    Plotly.newPlot(                        \"92cc5c1e-6a0b-4976-8885-1be806e14909\",                        [{\"marker\": {\"color\": \"#78290f\"}, \"name\": \"Accuracy\", \"type\": \"bar\", \"x\": [\"Configuration 1\", \"Configuration 2\", \"Configuration 3\", \"Configuration 4\"], \"y\": [0.7785488958990536, 0.7796004206098843, 0.6822292323869611, 0.7786890991938311]}, {\"marker\": {\"color\": \"#ff7d00\"}, \"name\": \"Recall\", \"type\": \"bar\", \"x\": [\"Configuration 1\", \"Configuration 2\", \"Configuration 3\", \"Configuration 4\"], \"y\": [0.718676704417685, 0.7210713169871622, 0.6109272979464799, 0.7198735131929561]}, {\"marker\": {\"color\": \"#202c39\"}, \"name\": \"Precision\", \"type\": \"bar\", \"x\": [\"Configuration 1\", \"Configuration 2\", \"Configuration 3\", \"Configuration 4\"], \"y\": [0.6733636685261923, 0.6745677842740425, 0.5424884116596753, 0.6733233359519246]}, {\"marker\": {\"color\": \"#15616d\"}, \"name\": \"F1-score\", \"type\": \"bar\", \"x\": [\"Configuration 1\", \"Configuration 2\", \"Configuration 3\", \"Configuration 4\"], \"y\": [0.6951029151598809, 0.6968414770619006, 0.5746459663479465, 0.6956089488395492]}],                        {\"annotations\": [{\"font\": {\"size\": 16}, \"showarrow\": false, \"text\": \"S\", \"x\": 0.5, \"xanchor\": \"center\", \"xref\": \"paper\", \"y\": 1.0, \"yanchor\": \"bottom\", \"yref\": \"paper\"}], \"template\": {\"data\": {\"bar\": [{\"error_x\": {\"color\": \"#2a3f5f\"}, \"error_y\": {\"color\": \"#2a3f5f\"}, \"marker\": {\"line\": {\"color\": \"#E5ECF6\", \"width\": 0.5}}, \"type\": \"bar\"}], \"barpolar\": [{\"marker\": {\"line\": {\"color\": \"#E5ECF6\", \"width\": 0.5}}, \"type\": \"barpolar\"}], \"carpet\": [{\"aaxis\": {\"endlinecolor\": \"#2a3f5f\", \"gridcolor\": \"white\", \"linecolor\": \"white\", \"minorgridcolor\": \"white\", \"startlinecolor\": \"#2a3f5f\"}, \"baxis\": {\"endlinecolor\": \"#2a3f5f\", \"gridcolor\": \"white\", \"linecolor\": \"white\", \"minorgridcolor\": \"white\", \"startlinecolor\": \"#2a3f5f\"}, \"type\": \"carpet\"}], \"choropleth\": [{\"colorbar\": {\"outlinewidth\": 0, \"ticks\": \"\"}, \"type\": \"choropleth\"}], \"contour\": [{\"colorbar\": {\"outlinewidth\": 0, \"ticks\": \"\"}, \"colorscale\": [[0.0, \"#0d0887\"], [0.1111111111111111, \"#46039f\"], [0.2222222222222222, \"#7201a8\"], [0.3333333333333333, \"#9c179e\"], [0.4444444444444444, \"#bd3786\"], [0.5555555555555556, \"#d8576b\"], [0.6666666666666666, \"#ed7953\"], [0.7777777777777778, \"#fb9f3a\"], [0.8888888888888888, \"#fdca26\"], [1.0, \"#f0f921\"]], \"type\": \"contour\"}], \"contourcarpet\": [{\"colorbar\": {\"outlinewidth\": 0, \"ticks\": \"\"}, \"type\": \"contourcarpet\"}], \"heatmap\": [{\"colorbar\": {\"outlinewidth\": 0, \"ticks\": \"\"}, \"colorscale\": [[0.0, \"#0d0887\"], [0.1111111111111111, \"#46039f\"], [0.2222222222222222, \"#7201a8\"], [0.3333333333333333, \"#9c179e\"], [0.4444444444444444, \"#bd3786\"], [0.5555555555555556, \"#d8576b\"], [0.6666666666666666, \"#ed7953\"], [0.7777777777777778, \"#fb9f3a\"], [0.8888888888888888, \"#fdca26\"], [1.0, \"#f0f921\"]], \"type\": \"heatmap\"}], \"heatmapgl\": [{\"colorbar\": {\"outlinewidth\": 0, \"ticks\": \"\"}, \"colorscale\": [[0.0, \"#0d0887\"], [0.1111111111111111, \"#46039f\"], [0.2222222222222222, \"#7201a8\"], [0.3333333333333333, \"#9c179e\"], [0.4444444444444444, \"#bd3786\"], [0.5555555555555556, \"#d8576b\"], [0.6666666666666666, \"#ed7953\"], [0.7777777777777778, \"#fb9f3a\"], [0.8888888888888888, \"#fdca26\"], [1.0, \"#f0f921\"]], \"type\": \"heatmapgl\"}], \"histogram\": [{\"marker\": {\"colorbar\": {\"outlinewidth\": 0, \"ticks\": \"\"}}, \"type\": \"histogram\"}], \"histogram2d\": [{\"colorbar\": {\"outlinewidth\": 0, \"ticks\": \"\"}, \"colorscale\": [[0.0, \"#0d0887\"], [0.1111111111111111, \"#46039f\"], [0.2222222222222222, \"#7201a8\"], [0.3333333333333333, \"#9c179e\"], [0.4444444444444444, \"#bd3786\"], [0.5555555555555556, \"#d8576b\"], [0.6666666666666666, \"#ed7953\"], [0.7777777777777778, \"#fb9f3a\"], [0.8888888888888888, \"#fdca26\"], [1.0, \"#f0f921\"]], \"type\": \"histogram2d\"}], \"histogram2dcontour\": [{\"colorbar\": {\"outlinewidth\": 0, \"ticks\": \"\"}, \"colorscale\": [[0.0, \"#0d0887\"], [0.1111111111111111, \"#46039f\"], [0.2222222222222222, \"#7201a8\"], [0.3333333333333333, \"#9c179e\"], [0.4444444444444444, \"#bd3786\"], [0.5555555555555556, \"#d8576b\"], [0.6666666666666666, \"#ed7953\"], [0.7777777777777778, \"#fb9f3a\"], [0.8888888888888888, \"#fdca26\"], [1.0, \"#f0f921\"]], \"type\": \"histogram2dcontour\"}], \"mesh3d\": [{\"colorbar\": {\"outlinewidth\": 0, \"ticks\": \"\"}, \"type\": \"mesh3d\"}], \"parcoords\": [{\"line\": {\"colorbar\": {\"outlinewidth\": 0, \"ticks\": \"\"}}, \"type\": \"parcoords\"}], \"pie\": [{\"automargin\": true, \"type\": \"pie\"}], \"scatter\": [{\"marker\": {\"colorbar\": {\"outlinewidth\": 0, \"ticks\": \"\"}}, \"type\": \"scatter\"}], \"scatter3d\": [{\"line\": {\"colorbar\": {\"outlinewidth\": 0, \"ticks\": \"\"}}, \"marker\": {\"colorbar\": {\"outlinewidth\": 0, \"ticks\": \"\"}}, \"type\": \"scatter3d\"}], \"scattercarpet\": [{\"marker\": {\"colorbar\": {\"outlinewidth\": 0, \"ticks\": \"\"}}, \"type\": \"scattercarpet\"}], \"scattergeo\": [{\"marker\": {\"colorbar\": {\"outlinewidth\": 0, \"ticks\": \"\"}}, \"type\": \"scattergeo\"}], \"scattergl\": [{\"marker\": {\"colorbar\": {\"outlinewidth\": 0, \"ticks\": \"\"}}, \"type\": \"scattergl\"}], \"scattermapbox\": [{\"marker\": {\"colorbar\": {\"outlinewidth\": 0, \"ticks\": \"\"}}, \"type\": \"scattermapbox\"}], \"scatterpolar\": [{\"marker\": {\"colorbar\": {\"outlinewidth\": 0, \"ticks\": \"\"}}, \"type\": \"scatterpolar\"}], \"scatterpolargl\": [{\"marker\": {\"colorbar\": {\"outlinewidth\": 0, \"ticks\": \"\"}}, \"type\": \"scatterpolargl\"}], \"scatterternary\": [{\"marker\": {\"colorbar\": {\"outlinewidth\": 0, \"ticks\": \"\"}}, \"type\": \"scatterternary\"}], \"surface\": [{\"colorbar\": {\"outlinewidth\": 0, \"ticks\": \"\"}, \"colorscale\": [[0.0, \"#0d0887\"], [0.1111111111111111, \"#46039f\"], [0.2222222222222222, \"#7201a8\"], [0.3333333333333333, \"#9c179e\"], [0.4444444444444444, \"#bd3786\"], [0.5555555555555556, \"#d8576b\"], [0.6666666666666666, \"#ed7953\"], [0.7777777777777778, \"#fb9f3a\"], [0.8888888888888888, \"#fdca26\"], [1.0, \"#f0f921\"]], \"type\": \"surface\"}], \"table\": [{\"cells\": {\"fill\": {\"color\": \"#EBF0F8\"}, \"line\": {\"color\": \"white\"}}, \"header\": {\"fill\": {\"color\": \"#C8D4E3\"}, \"line\": {\"color\": \"white\"}}, \"type\": \"table\"}]}, \"layout\": {\"annotationdefaults\": {\"arrowcolor\": \"#2a3f5f\", \"arrowhead\": 0, \"arrowwidth\": 1}, \"autotypenumbers\": \"strict\", \"coloraxis\": {\"colorbar\": {\"outlinewidth\": 0, \"ticks\": \"\"}}, \"colorscale\": {\"diverging\": [[0, \"#8e0152\"], [0.1, \"#c51b7d\"], [0.2, \"#de77ae\"], [0.3, \"#f1b6da\"], [0.4, \"#fde0ef\"], [0.5, \"#f7f7f7\"], [0.6, \"#e6f5d0\"], [0.7, \"#b8e186\"], [0.8, \"#7fbc41\"], [0.9, \"#4d9221\"], [1, \"#276419\"]], \"sequential\": [[0.0, \"#0d0887\"], [0.1111111111111111, \"#46039f\"], [0.2222222222222222, \"#7201a8\"], [0.3333333333333333, \"#9c179e\"], [0.4444444444444444, \"#bd3786\"], [0.5555555555555556, \"#d8576b\"], [0.6666666666666666, \"#ed7953\"], [0.7777777777777778, \"#fb9f3a\"], [0.8888888888888888, \"#fdca26\"], [1.0, \"#f0f921\"]], \"sequentialminus\": [[0.0, \"#0d0887\"], [0.1111111111111111, \"#46039f\"], [0.2222222222222222, \"#7201a8\"], [0.3333333333333333, \"#9c179e\"], [0.4444444444444444, \"#bd3786\"], [0.5555555555555556, \"#d8576b\"], [0.6666666666666666, \"#ed7953\"], [0.7777777777777778, \"#fb9f3a\"], [0.8888888888888888, \"#fdca26\"], [1.0, \"#f0f921\"]]}, \"colorway\": [\"#636efa\", \"#EF553B\", \"#00cc96\", \"#ab63fa\", \"#FFA15A\", \"#19d3f3\", \"#FF6692\", \"#B6E880\", \"#FF97FF\", \"#FECB52\"], \"font\": {\"color\": \"#2a3f5f\"}, \"geo\": {\"bgcolor\": \"white\", \"lakecolor\": \"white\", \"landcolor\": \"#E5ECF6\", \"showlakes\": true, \"showland\": true, \"subunitcolor\": \"white\"}, \"hoverlabel\": {\"align\": \"left\"}, \"hovermode\": \"closest\", \"mapbox\": {\"style\": \"light\"}, \"paper_bgcolor\": \"white\", \"plot_bgcolor\": \"#E5ECF6\", \"polar\": {\"angularaxis\": {\"gridcolor\": \"white\", \"linecolor\": \"white\", \"ticks\": \"\"}, \"bgcolor\": \"#E5ECF6\", \"radialaxis\": {\"gridcolor\": \"white\", \"linecolor\": \"white\", \"ticks\": \"\"}}, \"scene\": {\"xaxis\": {\"backgroundcolor\": \"#E5ECF6\", \"gridcolor\": \"white\", \"gridwidth\": 2, \"linecolor\": \"white\", \"showbackground\": true, \"ticks\": \"\", \"zerolinecolor\": \"white\"}, \"yaxis\": {\"backgroundcolor\": \"#E5ECF6\", \"gridcolor\": \"white\", \"gridwidth\": 2, \"linecolor\": \"white\", \"showbackground\": true, \"ticks\": \"\", \"zerolinecolor\": \"white\"}, \"zaxis\": {\"backgroundcolor\": \"#E5ECF6\", \"gridcolor\": \"white\", \"gridwidth\": 2, \"linecolor\": \"white\", \"showbackground\": true, \"ticks\": \"\", \"zerolinecolor\": \"white\"}}, \"shapedefaults\": {\"line\": {\"color\": \"#2a3f5f\"}}, \"ternary\": {\"aaxis\": {\"gridcolor\": \"white\", \"linecolor\": \"white\", \"ticks\": \"\"}, \"baxis\": {\"gridcolor\": \"white\", \"linecolor\": \"white\", \"ticks\": \"\"}, \"bgcolor\": \"#E5ECF6\", \"caxis\": {\"gridcolor\": \"white\", \"linecolor\": \"white\", \"ticks\": \"\"}}, \"title\": {\"x\": 0.05}, \"xaxis\": {\"automargin\": true, \"gridcolor\": \"white\", \"linecolor\": \"white\", \"ticks\": \"\", \"title\": {\"standoff\": 15}, \"zerolinecolor\": \"white\", \"zerolinewidth\": 2}, \"yaxis\": {\"automargin\": true, \"gridcolor\": \"white\", \"linecolor\": \"white\", \"ticks\": \"\", \"title\": {\"standoff\": 15}, \"zerolinecolor\": \"white\", \"zerolinewidth\": 2}}}, \"xaxis\": {\"anchor\": \"y\", \"domain\": [0.0, 1.0]}, \"yaxis\": {\"anchor\": \"x\", \"domain\": [0.0, 1.0]}},                        {\"responsive\": true}                    ).then(function(){\n",
       "                            \n",
       "var gd = document.getElementById('92cc5c1e-6a0b-4976-8885-1be806e14909');\n",
       "var x = new MutationObserver(function (mutations, observer) {{\n",
       "        var display = window.getComputedStyle(gd).display;\n",
       "        if (!display || display === 'none') {{\n",
       "            console.log([gd, 'removed!']);\n",
       "            Plotly.purge(gd);\n",
       "            observer.disconnect();\n",
       "        }}\n",
       "}});\n",
       "\n",
       "// Listen for the removal of the full notebook cells\n",
       "var notebookContainer = gd.closest('#notebook-container');\n",
       "if (notebookContainer) {{\n",
       "    x.observe(notebookContainer, {childList: true});\n",
       "}}\n",
       "\n",
       "// Listen for the clearing of the current output cell\n",
       "var outputEl = gd.closest('.output');\n",
       "if (outputEl) {{\n",
       "    x.observe(outputEl, {childList: true});\n",
       "}}\n",
       "\n",
       "                        })                };                            </script>        </div>\n",
       "</body>\n",
       "</html>"
      ]
     },
     "metadata": {
      "tags": []
     },
     "output_type": "display_data"
    }
   ],
   "source": [
    "df_qda = print_conf_acc(pd_qda)"
   ]
  },
  {
   "cell_type": "code",
   "execution_count": null,
   "metadata": {
    "colab": {
     "base_uri": "https://localhost:8080/"
    },
    "executionInfo": {
     "elapsed": 249747,
     "status": "ok",
     "timestamp": 1619883239698,
     "user": {
      "displayName": "Noemi Tomasello",
      "photoUrl": "https://lh6.googleusercontent.com/-0vac6q9vL7M/AAAAAAAAAAI/AAAAAAAACQY/OsKV2bRy4NA/s64/photo.jpg",
      "userId": "14936482853525964477"
     },
     "user_tz": -120
    },
    "id": "ptmCvceGjBAE",
    "outputId": "91a29312-6d21-44ff-8e0f-32ef5e88ae2e",
    "slideshow": {
     "slide_type": "subslide"
    }
   },
   "outputs": [
    {
     "name": "stdout",
     "output_type": "stream",
     "text": [
      "The best configuration is Configuration 2: {'reg_param': 0.01}\n"
     ]
    }
   ],
   "source": [
    "best_qda = chose_best_params(pd_qda)"
   ]
  },
  {
   "cell_type": "code",
   "execution_count": null,
   "metadata": {
    "colab": {
     "base_uri": "https://localhost:8080/"
    },
    "executionInfo": {
     "elapsed": 272211,
     "status": "ok",
     "timestamp": 1619883262172,
     "user": {
      "displayName": "Noemi Tomasello",
      "photoUrl": "https://lh6.googleusercontent.com/-0vac6q9vL7M/AAAAAAAAAAI/AAAAAAAACQY/OsKV2bRy4NA/s64/photo.jpg",
      "userId": "14936482853525964477"
     },
     "user_tz": -120
    },
    "id": "onKPm3LQieXI",
    "outputId": "c67a9be9-805c-4b43-e881-e1732709bf93",
    "slideshow": {
     "slide_type": "skip"
    }
   },
   "outputs": [
    {
     "name": "stdout",
     "output_type": "stream",
     "text": [
      "              precision    recall  f1-score   support\n",
      "\n",
      "           0       0.83      0.82      0.83      3079\n",
      "           1       0.68      0.70      0.69      1676\n",
      "\n",
      "    accuracy                           0.78      4755\n",
      "   macro avg       0.76      0.76      0.76      4755\n",
      "weighted avg       0.78      0.78      0.78      4755\n",
      "\n",
      "              precision    recall  f1-score   support\n",
      "\n",
      "           0       0.83      0.82      0.83      3079\n",
      "           1       0.68      0.70      0.69      1676\n",
      "\n",
      "    accuracy                           0.78      4755\n",
      "   macro avg       0.76      0.76      0.76      4755\n",
      "weighted avg       0.78      0.78      0.78      4755\n",
      "\n",
      "              precision    recall  f1-score   support\n",
      "\n",
      "           0       0.79      0.90      0.84      3079\n",
      "           1       0.76      0.57      0.65      1676\n",
      "\n",
      "    accuracy                           0.79      4755\n",
      "   macro avg       0.78      0.74      0.75      4755\n",
      "weighted avg       0.78      0.79      0.78      4755\n",
      "\n",
      "              precision    recall  f1-score   support\n",
      "\n",
      "           0       0.79      0.90      0.84      3079\n",
      "           1       0.76      0.57      0.65      1676\n",
      "\n",
      "    accuracy                           0.78      4755\n",
      "   macro avg       0.78      0.73      0.75      4755\n",
      "weighted avg       0.78      0.78      0.78      4755\n",
      "\n",
      "              precision    recall  f1-score   support\n",
      "\n",
      "           0       0.76      0.95      0.85      3079\n",
      "           1       0.84      0.46      0.59      1676\n",
      "\n",
      "    accuracy                           0.78      4755\n",
      "   macro avg       0.80      0.70      0.72      4755\n",
      "weighted avg       0.79      0.78      0.76      4755\n",
      "\n"
     ]
    }
   ],
   "source": [
    "qda_cfs = []\n",
    "cf_matrix_qda_1, test_qda_iso_pca_smote = testing(QDA, best_qda,outliers_iso, SMOTE()) \n",
    "qda_cfs.append((cf_matrix_qda_1,\"Test QDA with Iso,PCA,SMOTE\"))\n",
    "total_results = total_results.append(pd.Series(['Quadratic Discriminant Analysis',\"Test QDA with Iso,PCA,SMOTE\",\n",
    "                                test_qda_iso_pca_smote[0],test_qda_iso_pca_smote[1],\n",
    "                                test_qda_iso_pca_smote[2],test_qda_iso_pca_smote[3]],index=total_results.columns),ignore_index=True)\n",
    "cf_matrix_qda_2, test_qda_iso_pca_rus = testing(QDA, best_qda,outliers_iso, RandomUnderSampler()) \n",
    "qda_cfs.append((cf_matrix_qda_2,\"Test QDA with Iso, PCA, Rand UnderSampling\"))\n",
    "total_results = total_results.append(pd.Series(['Quadratic Discriminant Analysis',\"Test QDA with Iso, PCA, Rand UnderSampling\",\n",
    "                                test_qda_iso_pca_rus[0],test_qda_iso_pca_rus[1],\n",
    "                                test_qda_iso_pca_rus[2],test_qda_iso_pca_rus[3]],index=total_results.columns),ignore_index=True)\n",
    "cf_matrix_qda_3, test_qda_lof_pca_smote = testing(QDA,best_qda,outliers_lof, SMOTE()) \n",
    "qda_cfs.append((cf_matrix_qda_3,\"Test QDA with LOF, PCA, SMOTE\"))\n",
    "total_results = total_results.append(pd.Series(['Quadratic Discriminant Analysis',\"Test QDA with LOF, PCA, SMOTE\",\n",
    "                                test_qda_lof_pca_smote[0],test_qda_lof_pca_smote[1],\n",
    "                                test_qda_lof_pca_smote[2],test_qda_lof_pca_smote[3]],index=total_results.columns),ignore_index=True)\n",
    "cf_matrix_qda_4, test_qda_lof_pca_rus = testing(QDA, best_qda,outliers_lof, RandomUnderSampler()) \n",
    "qda_cfs.append((cf_matrix_qda_4,\"Test QDA with LOF, PCA, Random Undersampling\"))\n",
    "total_results = total_results.append(pd.Series(['Quadratic Discriminant Analysis',\"Test QDA with LOF, PCA, Random Undersampling\",\n",
    "                                test_qda_lof_pca_rus[0],test_qda_lof_pca_rus[1],\n",
    "                                test_qda_lof_pca_rus[2],test_qda_lof_pca_rus[3]],index=total_results.columns),ignore_index=True)\n",
    "cf_matrix_qda_5, test_qda_no_precosseing = testing(QDA, best_qda,outliers_lof, RandomUnderSampler(), doPCA=False,outliers=False, balancing=False) \n",
    "qda_cfs.append((cf_matrix_qda_5,\"Test QDA with no preprocessing\"))\n",
    "total_results = total_results.append(pd.Series(['Quadratic Discriminant Analysis',\"Test QDA with no preprocessing\",\n",
    "                                test_qda_no_precosseing[0],test_qda_no_precosseing[1],\n",
    "                                test_qda_no_precosseing[2],test_qda_no_precosseing[3]],index=total_results.columns),ignore_index=True)"
   ]
  },
  {
   "cell_type": "code",
   "execution_count": null,
   "metadata": {
    "colab": {
     "base_uri": "https://localhost:8080/",
     "height": 667
    },
    "executionInfo": {
     "elapsed": 272215,
     "status": "ok",
     "timestamp": 1619883262183,
     "user": {
      "displayName": "Noemi Tomasello",
      "photoUrl": "https://lh6.googleusercontent.com/-0vac6q9vL7M/AAAAAAAAAAI/AAAAAAAACQY/OsKV2bRy4NA/s64/photo.jpg",
      "userId": "14936482853525964477"
     },
     "user_tz": -120
    },
    "id": "77xz0A8Tlo6K",
    "outputId": "03bdaf41-0a97-4c78-d3da-66fe3cf8d1f2",
    "slideshow": {
     "slide_type": "subslide"
    }
   },
   "outputs": [
    {
     "data": {
      "text/html": [
       "<html>\n",
       "<head><meta charset=\"utf-8\" /></head>\n",
       "<body>\n",
       "    <div>            <script src=\"https://cdnjs.cloudflare.com/ajax/libs/mathjax/2.7.5/MathJax.js?config=TeX-AMS-MML_SVG\"></script><script type=\"text/javascript\">if (window.MathJax) {MathJax.Hub.Config({SVG: {font: \"STIX-Web\"}});}</script>                <script type=\"text/javascript\">window.PlotlyConfig = {MathJaxConfig: 'local'};</script>\n",
       "        <script src=\"https://cdn.plot.ly/plotly-latest.min.js\"></script>                <div id=\"7dd96a07-18df-4f36-9b24-7567ec148a7c\" class=\"plotly-graph-div\" style=\"height:650px; width:900px;\"></div>            <script type=\"text/javascript\">                                    window.PLOTLYENV=window.PLOTLYENV || {};                                    if (document.getElementById(\"7dd96a07-18df-4f36-9b24-7567ec148a7c\")) {                    Plotly.newPlot(                        \"7dd96a07-18df-4f36-9b24-7567ec148a7c\",                        [{\"colorscale\": [[0.0, \"#78290f\"], [0.25, \"#ff7d00\"], [0.5, \"#ffecd1\"], [0.75, \"#15616d\"], [1.0, \"#202c39\"]], \"reversescale\": false, \"showscale\": false, \"type\": \"heatmap\", \"x\": [\"0\", \"1\"], \"xaxis\": \"x\", \"y\": [\"1\", \"0\"], \"yaxis\": \"y\", \"z\": [[2535, 544], [502, 1174]]}, {\"mode\": \"text\", \"name\": \"\", \"text\": [\"2535\"], \"textfont\": {\"color\": \"#ffffff\", \"family\": \"sans serif\", \"size\": 18}, \"type\": \"scatter\", \"x\": [0], \"xaxis\": \"x\", \"y\": [0], \"yaxis\": \"y\"}, {\"mode\": \"text\", \"name\": \"\", \"text\": [\"502\"], \"textfont\": {\"color\": \"#ffffff\", \"family\": \"sans serif\", \"size\": 18}, \"type\": \"scatter\", \"x\": [0], \"xaxis\": \"x\", \"y\": [1], \"yaxis\": \"y\"}, {\"mode\": \"text\", \"name\": \"\", \"text\": [\"544\"], \"textfont\": {\"color\": \"#ffffff\", \"family\": \"sans serif\", \"size\": 18}, \"type\": \"scatter\", \"x\": [1], \"xaxis\": \"x\", \"y\": [0], \"yaxis\": \"y\"}, {\"mode\": \"text\", \"name\": \"\", \"text\": [\"1174\"], \"textfont\": {\"color\": \"#ffffff\", \"family\": \"sans serif\", \"size\": 18}, \"type\": \"scatter\", \"x\": [1], \"xaxis\": \"x\", \"y\": [1], \"yaxis\": \"y\"}, {\"colorscale\": [[0.0, \"#78290f\"], [0.25, \"#ff7d00\"], [0.5, \"#ffecd1\"], [0.75, \"#15616d\"], [1.0, \"#202c39\"]], \"reversescale\": false, \"showscale\": false, \"type\": \"heatmap\", \"x\": [\"0\", \"1\"], \"xaxis\": \"x2\", \"y\": [\"1\", \"0\"], \"yaxis\": \"y2\", \"z\": [[2535, 544], [504, 1172]]}, {\"mode\": \"text\", \"name\": \"\", \"text\": [\"2535\"], \"textfont\": {\"color\": \"#ffffff\", \"family\": \"sans serif\", \"size\": 18}, \"type\": \"scatter\", \"x\": [0], \"xaxis\": \"x2\", \"y\": [0], \"yaxis\": \"y2\"}, {\"mode\": \"text\", \"name\": \"\", \"text\": [\"504\"], \"textfont\": {\"color\": \"#ffffff\", \"family\": \"sans serif\", \"size\": 18}, \"type\": \"scatter\", \"x\": [0], \"xaxis\": \"x2\", \"y\": [1], \"yaxis\": \"y2\"}, {\"mode\": \"text\", \"name\": \"\", \"text\": [\"544\"], \"textfont\": {\"color\": \"#ffffff\", \"family\": \"sans serif\", \"size\": 18}, \"type\": \"scatter\", \"x\": [1], \"xaxis\": \"x2\", \"y\": [0], \"yaxis\": \"y2\"}, {\"mode\": \"text\", \"name\": \"\", \"text\": [\"1172\"], \"textfont\": {\"color\": \"#ffffff\", \"family\": \"sans serif\", \"size\": 18}, \"type\": \"scatter\", \"x\": [1], \"xaxis\": \"x2\", \"y\": [1], \"yaxis\": \"y2\"}, {\"colorscale\": [[0.0, \"#78290f\"], [0.25, \"#ff7d00\"], [0.5, \"#ffecd1\"], [0.75, \"#15616d\"], [1.0, \"#202c39\"]], \"reversescale\": false, \"showscale\": false, \"type\": \"heatmap\", \"x\": [\"0\", \"1\"], \"xaxis\": \"x4\", \"y\": [\"1\", \"0\"], \"yaxis\": \"y4\", \"z\": [[2779, 300], [722, 954]]}, {\"mode\": \"text\", \"name\": \"\", \"text\": [\"2779\"], \"textfont\": {\"color\": \"#ffffff\", \"family\": \"sans serif\", \"size\": 18}, \"type\": \"scatter\", \"x\": [0], \"xaxis\": \"x4\", \"y\": [0], \"yaxis\": \"y4\"}, {\"mode\": \"text\", \"name\": \"\", \"text\": [\"722\"], \"textfont\": {\"color\": \"#ffffff\", \"family\": \"sans serif\", \"size\": 18}, \"type\": \"scatter\", \"x\": [0], \"xaxis\": \"x4\", \"y\": [1], \"yaxis\": \"y4\"}, {\"mode\": \"text\", \"name\": \"\", \"text\": [\"300\"], \"textfont\": {\"color\": \"#ffffff\", \"family\": \"sans serif\", \"size\": 18}, \"type\": \"scatter\", \"x\": [1], \"xaxis\": \"x4\", \"y\": [0], \"yaxis\": \"y4\"}, {\"mode\": \"text\", \"name\": \"\", \"text\": [\"954\"], \"textfont\": {\"color\": \"#ffffff\", \"family\": \"sans serif\", \"size\": 18}, \"type\": \"scatter\", \"x\": [1], \"xaxis\": \"x4\", \"y\": [1], \"yaxis\": \"y4\"}, {\"colorscale\": [[0.0, \"#78290f\"], [0.25, \"#ff7d00\"], [0.5, \"#ffecd1\"], [0.75, \"#15616d\"], [1.0, \"#202c39\"]], \"reversescale\": false, \"showscale\": false, \"type\": \"heatmap\", \"x\": [\"0\", \"1\"], \"xaxis\": \"x5\", \"y\": [\"1\", \"0\"], \"yaxis\": \"y5\", \"z\": [[2779, 300], [727, 949]]}, {\"mode\": \"text\", \"name\": \"\", \"text\": [\"2779\"], \"textfont\": {\"color\": \"#ffffff\", \"family\": \"sans serif\", \"size\": 18}, \"type\": \"scatter\", \"x\": [0], \"xaxis\": \"x5\", \"y\": [0], \"yaxis\": \"y5\"}, {\"mode\": \"text\", \"name\": \"\", \"text\": [\"727\"], \"textfont\": {\"color\": \"#ffffff\", \"family\": \"sans serif\", \"size\": 18}, \"type\": \"scatter\", \"x\": [0], \"xaxis\": \"x5\", \"y\": [1], \"yaxis\": \"y5\"}, {\"mode\": \"text\", \"name\": \"\", \"text\": [\"300\"], \"textfont\": {\"color\": \"#ffffff\", \"family\": \"sans serif\", \"size\": 18}, \"type\": \"scatter\", \"x\": [1], \"xaxis\": \"x5\", \"y\": [0], \"yaxis\": \"y5\"}, {\"mode\": \"text\", \"name\": \"\", \"text\": [\"949\"], \"textfont\": {\"color\": \"#ffffff\", \"family\": \"sans serif\", \"size\": 18}, \"type\": \"scatter\", \"x\": [1], \"xaxis\": \"x5\", \"y\": [1], \"yaxis\": \"y5\"}, {\"colorscale\": [[0.0, \"#78290f\"], [0.25, \"#ff7d00\"], [0.5, \"#ffecd1\"], [0.75, \"#15616d\"], [1.0, \"#202c39\"]], \"reversescale\": false, \"showscale\": false, \"type\": \"heatmap\", \"x\": [\"0\", \"1\"], \"xaxis\": \"x3\", \"y\": [\"1\", \"0\"], \"yaxis\": \"y3\", \"z\": [[2929, 150], [909, 767]]}, {\"mode\": \"text\", \"name\": \"\", \"text\": [\"2929\"], \"textfont\": {\"color\": \"#ffffff\", \"family\": \"sans serif\", \"size\": 18}, \"type\": \"scatter\", \"x\": [0], \"xaxis\": \"x3\", \"y\": [0], \"yaxis\": \"y3\"}, {\"mode\": \"text\", \"name\": \"\", \"text\": [\"909\"], \"textfont\": {\"color\": \"#ffffff\", \"family\": \"sans serif\", \"size\": 18}, \"type\": \"scatter\", \"x\": [0], \"xaxis\": \"x3\", \"y\": [1], \"yaxis\": \"y3\"}, {\"mode\": \"text\", \"name\": \"\", \"text\": [\"150\"], \"textfont\": {\"color\": \"#ffffff\", \"family\": \"sans serif\", \"size\": 18}, \"type\": \"scatter\", \"x\": [1], \"xaxis\": \"x3\", \"y\": [0], \"yaxis\": \"y3\"}, {\"mode\": \"text\", \"name\": \"\", \"text\": [\"767\"], \"textfont\": {\"color\": \"#ffffff\", \"family\": \"sans serif\", \"size\": 18}, \"type\": \"scatter\", \"x\": [1], \"xaxis\": \"x3\", \"y\": [1], \"yaxis\": \"y3\"}],                        {\"annotations\": [{\"font\": {\"size\": 16}, \"showarrow\": false, \"text\": \"Test QDA with Iso,PCA,SMOTE\", \"x\": 0.14444444444444446, \"xanchor\": \"center\", \"xref\": \"paper\", \"y\": 1.0, \"yanchor\": \"bottom\", \"yref\": \"paper\"}, {\"font\": {\"size\": 16}, \"showarrow\": false, \"text\": \"Test QDA with Iso, PCA, Rand UnderSampling\", \"x\": 0.5, \"xanchor\": \"center\", \"xref\": \"paper\", \"y\": 1.0, \"yanchor\": \"bottom\", \"yref\": \"paper\"}, {\"font\": {\"size\": 16}, \"showarrow\": false, \"text\": \"Test QDA with no preprocessing\", \"x\": 0.8555555555555556, \"xanchor\": \"center\", \"xref\": \"paper\", \"y\": 1.0, \"yanchor\": \"bottom\", \"yref\": \"paper\"}, {\"font\": {\"size\": 16}, \"showarrow\": false, \"text\": \"Test QDA with LOF, PCA, SMOTE\", \"x\": 0.14444444444444446, \"xanchor\": \"center\", \"xref\": \"paper\", \"y\": 0.375, \"yanchor\": \"bottom\", \"yref\": \"paper\"}, {\"font\": {\"size\": 16}, \"showarrow\": false, \"text\": \"Test QDA with LOF, PCA, Random Undersampling\", \"x\": 0.5, \"xanchor\": \"center\", \"xref\": \"paper\", \"y\": 0.375, \"yanchor\": \"bottom\", \"yref\": \"paper\"}], \"autosize\": false, \"height\": 650, \"template\": {\"data\": {\"bar\": [{\"error_x\": {\"color\": \"#2a3f5f\"}, \"error_y\": {\"color\": \"#2a3f5f\"}, \"marker\": {\"line\": {\"color\": \"#E5ECF6\", \"width\": 0.5}}, \"type\": \"bar\"}], \"barpolar\": [{\"marker\": {\"line\": {\"color\": \"#E5ECF6\", \"width\": 0.5}}, \"type\": \"barpolar\"}], \"carpet\": [{\"aaxis\": {\"endlinecolor\": \"#2a3f5f\", \"gridcolor\": \"white\", \"linecolor\": \"white\", \"minorgridcolor\": \"white\", \"startlinecolor\": \"#2a3f5f\"}, \"baxis\": {\"endlinecolor\": \"#2a3f5f\", \"gridcolor\": \"white\", \"linecolor\": \"white\", \"minorgridcolor\": \"white\", \"startlinecolor\": \"#2a3f5f\"}, \"type\": \"carpet\"}], \"choropleth\": [{\"colorbar\": {\"outlinewidth\": 0, \"ticks\": \"\"}, \"type\": \"choropleth\"}], \"contour\": [{\"colorbar\": {\"outlinewidth\": 0, \"ticks\": \"\"}, \"colorscale\": [[0.0, \"#0d0887\"], [0.1111111111111111, \"#46039f\"], [0.2222222222222222, \"#7201a8\"], [0.3333333333333333, \"#9c179e\"], [0.4444444444444444, \"#bd3786\"], [0.5555555555555556, \"#d8576b\"], [0.6666666666666666, \"#ed7953\"], [0.7777777777777778, \"#fb9f3a\"], [0.8888888888888888, \"#fdca26\"], [1.0, \"#f0f921\"]], \"type\": \"contour\"}], \"contourcarpet\": [{\"colorbar\": {\"outlinewidth\": 0, \"ticks\": \"\"}, \"type\": \"contourcarpet\"}], \"heatmap\": [{\"colorbar\": {\"outlinewidth\": 0, \"ticks\": \"\"}, \"colorscale\": [[0.0, \"#0d0887\"], [0.1111111111111111, \"#46039f\"], [0.2222222222222222, \"#7201a8\"], [0.3333333333333333, \"#9c179e\"], [0.4444444444444444, \"#bd3786\"], [0.5555555555555556, \"#d8576b\"], [0.6666666666666666, \"#ed7953\"], [0.7777777777777778, \"#fb9f3a\"], [0.8888888888888888, \"#fdca26\"], [1.0, \"#f0f921\"]], \"type\": \"heatmap\"}], \"heatmapgl\": [{\"colorbar\": {\"outlinewidth\": 0, \"ticks\": \"\"}, \"colorscale\": [[0.0, \"#0d0887\"], [0.1111111111111111, \"#46039f\"], [0.2222222222222222, \"#7201a8\"], [0.3333333333333333, \"#9c179e\"], [0.4444444444444444, \"#bd3786\"], [0.5555555555555556, \"#d8576b\"], [0.6666666666666666, \"#ed7953\"], [0.7777777777777778, \"#fb9f3a\"], [0.8888888888888888, \"#fdca26\"], [1.0, \"#f0f921\"]], \"type\": \"heatmapgl\"}], \"histogram\": [{\"marker\": {\"colorbar\": {\"outlinewidth\": 0, \"ticks\": \"\"}}, \"type\": \"histogram\"}], \"histogram2d\": [{\"colorbar\": {\"outlinewidth\": 0, \"ticks\": \"\"}, \"colorscale\": [[0.0, \"#0d0887\"], [0.1111111111111111, \"#46039f\"], [0.2222222222222222, \"#7201a8\"], [0.3333333333333333, \"#9c179e\"], [0.4444444444444444, \"#bd3786\"], [0.5555555555555556, \"#d8576b\"], [0.6666666666666666, \"#ed7953\"], [0.7777777777777778, \"#fb9f3a\"], [0.8888888888888888, \"#fdca26\"], [1.0, \"#f0f921\"]], \"type\": \"histogram2d\"}], \"histogram2dcontour\": [{\"colorbar\": {\"outlinewidth\": 0, \"ticks\": \"\"}, \"colorscale\": [[0.0, \"#0d0887\"], [0.1111111111111111, \"#46039f\"], [0.2222222222222222, \"#7201a8\"], [0.3333333333333333, \"#9c179e\"], [0.4444444444444444, \"#bd3786\"], [0.5555555555555556, \"#d8576b\"], [0.6666666666666666, \"#ed7953\"], [0.7777777777777778, \"#fb9f3a\"], [0.8888888888888888, \"#fdca26\"], [1.0, \"#f0f921\"]], \"type\": \"histogram2dcontour\"}], \"mesh3d\": [{\"colorbar\": {\"outlinewidth\": 0, \"ticks\": \"\"}, \"type\": \"mesh3d\"}], \"parcoords\": [{\"line\": {\"colorbar\": {\"outlinewidth\": 0, \"ticks\": \"\"}}, \"type\": \"parcoords\"}], \"pie\": [{\"automargin\": true, \"type\": \"pie\"}], \"scatter\": [{\"marker\": {\"colorbar\": {\"outlinewidth\": 0, \"ticks\": \"\"}}, \"type\": \"scatter\"}], \"scatter3d\": [{\"line\": {\"colorbar\": {\"outlinewidth\": 0, \"ticks\": \"\"}}, \"marker\": {\"colorbar\": {\"outlinewidth\": 0, \"ticks\": \"\"}}, \"type\": \"scatter3d\"}], \"scattercarpet\": [{\"marker\": {\"colorbar\": {\"outlinewidth\": 0, \"ticks\": \"\"}}, \"type\": \"scattercarpet\"}], \"scattergeo\": [{\"marker\": {\"colorbar\": {\"outlinewidth\": 0, \"ticks\": \"\"}}, \"type\": \"scattergeo\"}], \"scattergl\": [{\"marker\": {\"colorbar\": {\"outlinewidth\": 0, \"ticks\": \"\"}}, \"type\": \"scattergl\"}], \"scattermapbox\": [{\"marker\": {\"colorbar\": {\"outlinewidth\": 0, \"ticks\": \"\"}}, \"type\": \"scattermapbox\"}], \"scatterpolar\": [{\"marker\": {\"colorbar\": {\"outlinewidth\": 0, \"ticks\": \"\"}}, \"type\": \"scatterpolar\"}], \"scatterpolargl\": [{\"marker\": {\"colorbar\": {\"outlinewidth\": 0, \"ticks\": \"\"}}, \"type\": \"scatterpolargl\"}], \"scatterternary\": [{\"marker\": {\"colorbar\": {\"outlinewidth\": 0, \"ticks\": \"\"}}, \"type\": \"scatterternary\"}], \"surface\": [{\"colorbar\": {\"outlinewidth\": 0, \"ticks\": \"\"}, \"colorscale\": [[0.0, \"#0d0887\"], [0.1111111111111111, \"#46039f\"], [0.2222222222222222, \"#7201a8\"], [0.3333333333333333, \"#9c179e\"], [0.4444444444444444, \"#bd3786\"], [0.5555555555555556, \"#d8576b\"], [0.6666666666666666, \"#ed7953\"], [0.7777777777777778, \"#fb9f3a\"], [0.8888888888888888, \"#fdca26\"], [1.0, \"#f0f921\"]], \"type\": \"surface\"}], \"table\": [{\"cells\": {\"fill\": {\"color\": \"#EBF0F8\"}, \"line\": {\"color\": \"white\"}}, \"header\": {\"fill\": {\"color\": \"#C8D4E3\"}, \"line\": {\"color\": \"white\"}}, \"type\": \"table\"}]}, \"layout\": {\"annotationdefaults\": {\"arrowcolor\": \"#2a3f5f\", \"arrowhead\": 0, \"arrowwidth\": 1}, \"autotypenumbers\": \"strict\", \"coloraxis\": {\"colorbar\": {\"outlinewidth\": 0, \"ticks\": \"\"}}, \"colorscale\": {\"diverging\": [[0, \"#8e0152\"], [0.1, \"#c51b7d\"], [0.2, \"#de77ae\"], [0.3, \"#f1b6da\"], [0.4, \"#fde0ef\"], [0.5, \"#f7f7f7\"], [0.6, \"#e6f5d0\"], [0.7, \"#b8e186\"], [0.8, \"#7fbc41\"], [0.9, \"#4d9221\"], [1, \"#276419\"]], \"sequential\": [[0.0, \"#0d0887\"], [0.1111111111111111, \"#46039f\"], [0.2222222222222222, \"#7201a8\"], [0.3333333333333333, \"#9c179e\"], [0.4444444444444444, \"#bd3786\"], [0.5555555555555556, \"#d8576b\"], [0.6666666666666666, \"#ed7953\"], [0.7777777777777778, \"#fb9f3a\"], [0.8888888888888888, \"#fdca26\"], [1.0, \"#f0f921\"]], \"sequentialminus\": [[0.0, \"#0d0887\"], [0.1111111111111111, \"#46039f\"], [0.2222222222222222, \"#7201a8\"], [0.3333333333333333, \"#9c179e\"], [0.4444444444444444, \"#bd3786\"], [0.5555555555555556, \"#d8576b\"], [0.6666666666666666, \"#ed7953\"], [0.7777777777777778, \"#fb9f3a\"], [0.8888888888888888, \"#fdca26\"], [1.0, \"#f0f921\"]]}, \"colorway\": [\"#636efa\", \"#EF553B\", \"#00cc96\", \"#ab63fa\", \"#FFA15A\", \"#19d3f3\", \"#FF6692\", \"#B6E880\", \"#FF97FF\", \"#FECB52\"], \"font\": {\"color\": \"#2a3f5f\"}, \"geo\": {\"bgcolor\": \"white\", \"lakecolor\": \"white\", \"landcolor\": \"#E5ECF6\", \"showlakes\": true, \"showland\": true, \"subunitcolor\": \"white\"}, \"hoverlabel\": {\"align\": \"left\"}, \"hovermode\": \"closest\", \"mapbox\": {\"style\": \"light\"}, \"paper_bgcolor\": \"white\", \"plot_bgcolor\": \"#E5ECF6\", \"polar\": {\"angularaxis\": {\"gridcolor\": \"white\", \"linecolor\": \"white\", \"ticks\": \"\"}, \"bgcolor\": \"#E5ECF6\", \"radialaxis\": {\"gridcolor\": \"white\", \"linecolor\": \"white\", \"ticks\": \"\"}}, \"scene\": {\"xaxis\": {\"backgroundcolor\": \"#E5ECF6\", \"gridcolor\": \"white\", \"gridwidth\": 2, \"linecolor\": \"white\", \"showbackground\": true, \"ticks\": \"\", \"zerolinecolor\": \"white\"}, \"yaxis\": {\"backgroundcolor\": \"#E5ECF6\", \"gridcolor\": \"white\", \"gridwidth\": 2, \"linecolor\": \"white\", \"showbackground\": true, \"ticks\": \"\", \"zerolinecolor\": \"white\"}, \"zaxis\": {\"backgroundcolor\": \"#E5ECF6\", \"gridcolor\": \"white\", \"gridwidth\": 2, \"linecolor\": \"white\", \"showbackground\": true, \"ticks\": \"\", \"zerolinecolor\": \"white\"}}, \"shapedefaults\": {\"line\": {\"color\": \"#2a3f5f\"}}, \"ternary\": {\"aaxis\": {\"gridcolor\": \"white\", \"linecolor\": \"white\", \"ticks\": \"\"}, \"baxis\": {\"gridcolor\": \"white\", \"linecolor\": \"white\", \"ticks\": \"\"}, \"bgcolor\": \"#E5ECF6\", \"caxis\": {\"gridcolor\": \"white\", \"linecolor\": \"white\", \"ticks\": \"\"}}, \"title\": {\"x\": 0.05}, \"xaxis\": {\"automargin\": true, \"gridcolor\": \"white\", \"linecolor\": \"white\", \"ticks\": \"\", \"title\": {\"standoff\": 15}, \"zerolinecolor\": \"white\", \"zerolinewidth\": 2}, \"yaxis\": {\"automargin\": true, \"gridcolor\": \"white\", \"linecolor\": \"white\", \"ticks\": \"\", \"title\": {\"standoff\": 15}, \"zerolinecolor\": \"white\", \"zerolinewidth\": 2}}}, \"width\": 900, \"xaxis\": {\"anchor\": \"y\", \"domain\": [0.0, 0.2888888888888889], \"title\": {\"text\": \"Predicted\"}}, \"xaxis2\": {\"anchor\": \"y2\", \"domain\": [0.35555555555555557, 0.6444444444444445]}, \"xaxis3\": {\"anchor\": \"y3\", \"domain\": [0.7111111111111111, 1.0]}, \"xaxis4\": {\"anchor\": \"y4\", \"domain\": [0.0, 0.2888888888888889]}, \"xaxis5\": {\"anchor\": \"y5\", \"domain\": [0.35555555555555557, 0.6444444444444445]}, \"xaxis6\": {\"anchor\": \"y6\", \"domain\": [0.7111111111111111, 1.0]}, \"yaxis\": {\"anchor\": \"x\", \"domain\": [0.625, 1.0], \"title\": {\"text\": \"Ground Truth\"}}, \"yaxis2\": {\"anchor\": \"x2\", \"domain\": [0.625, 1.0]}, \"yaxis3\": {\"anchor\": \"x3\", \"domain\": [0.625, 1.0]}, \"yaxis4\": {\"anchor\": \"x4\", \"domain\": [0.0, 0.375]}, \"yaxis5\": {\"anchor\": \"x5\", \"domain\": [0.0, 0.375]}, \"yaxis6\": {\"anchor\": \"x6\", \"domain\": [0.0, 0.375]}},                        {\"responsive\": true}                    ).then(function(){\n",
       "                            \n",
       "var gd = document.getElementById('7dd96a07-18df-4f36-9b24-7567ec148a7c');\n",
       "var x = new MutationObserver(function (mutations, observer) {{\n",
       "        var display = window.getComputedStyle(gd).display;\n",
       "        if (!display || display === 'none') {{\n",
       "            console.log([gd, 'removed!']);\n",
       "            Plotly.purge(gd);\n",
       "            observer.disconnect();\n",
       "        }}\n",
       "}});\n",
       "\n",
       "// Listen for the removal of the full notebook cells\n",
       "var notebookContainer = gd.closest('#notebook-container');\n",
       "if (notebookContainer) {{\n",
       "    x.observe(notebookContainer, {childList: true});\n",
       "}}\n",
       "\n",
       "// Listen for the clearing of the current output cell\n",
       "var outputEl = gd.closest('.output');\n",
       "if (outputEl) {{\n",
       "    x.observe(outputEl, {childList: true});\n",
       "}}\n",
       "\n",
       "                        })                };                            </script>        </div>\n",
       "</body>\n",
       "</html>"
      ]
     },
     "metadata": {
      "tags": []
     },
     "output_type": "display_data"
    }
   ],
   "source": [
    "print_cfs(qda_cfs)"
   ]
  },
  {
   "cell_type": "code",
   "execution_count": null,
   "metadata": {
    "colab": {
     "base_uri": "https://localhost:8080/",
     "height": 417
    },
    "executionInfo": {
     "elapsed": 272760,
     "status": "ok",
     "timestamp": 1619883262735,
     "user": {
      "displayName": "Noemi Tomasello",
      "photoUrl": "https://lh6.googleusercontent.com/-0vac6q9vL7M/AAAAAAAAAAI/AAAAAAAACQY/OsKV2bRy4NA/s64/photo.jpg",
      "userId": "14936482853525964477"
     },
     "user_tz": -120
    },
    "id": "eBthhznXyzy-",
    "outputId": "491d18af-fe07-4c82-cc8e-180b8915e097",
    "slideshow": {
     "slide_type": "subslide"
    }
   },
   "outputs": [
    {
     "data": {
      "text/html": [
       "<html>\n",
       "<head><meta charset=\"utf-8\" /></head>\n",
       "<body>\n",
       "    <div>            <script src=\"https://cdnjs.cloudflare.com/ajax/libs/mathjax/2.7.5/MathJax.js?config=TeX-AMS-MML_SVG\"></script><script type=\"text/javascript\">if (window.MathJax) {MathJax.Hub.Config({SVG: {font: \"STIX-Web\"}});}</script>                <script type=\"text/javascript\">window.PlotlyConfig = {MathJaxConfig: 'local'};</script>\n",
       "        <script src=\"https://cdn.plot.ly/plotly-latest.min.js\"></script>                <div id=\"875c4b0b-ea68-4ad4-be67-7f5e33059395\" class=\"plotly-graph-div\" style=\"height:400px; width:600px;\"></div>            <script type=\"text/javascript\">                                    window.PLOTLYENV=window.PLOTLYENV || {};                                    if (document.getElementById(\"875c4b0b-ea68-4ad4-be67-7f5e33059395\")) {                    Plotly.newPlot(                        \"875c4b0b-ea68-4ad4-be67-7f5e33059395\",                        [{\"marker\": {\"color\": \"#ff7d00\"}, \"name\": \"Training accuracy\", \"type\": \"scatter\", \"x\": [1141, 3708, 6276, 8844, 11412], \"y\": [0.7843996494303243, 0.7805825242718447, 0.7784894837476101, 0.7787878787878788, 0.7779355064844024]}, {\"fill\": \"tonexty\", \"fillcolor\": \"rgba(254, 200, 154, 0.2)\", \"hoverinfo\": \"skip\", \"line\": {\"width\": 0}, \"mode\": \"lines\", \"showlegend\": false, \"type\": \"scatter\", \"x\": [1141, 3708, 6276, 8844, 11412], \"y\": [0.7904716943297769, 0.7830400832254357, 0.7804025915895225, 0.7809938938757589, 0.7793324917899319]}, {\"fill\": \"tonexty\", \"fillcolor\": \"rgba(254, 200, 154, 0.2)\", \"hoverinfo\": \"skip\", \"line\": {\"width\": 0}, \"mode\": \"lines\", \"showlegend\": false, \"type\": \"scatter\", \"x\": [1141, 3708, 6276, 8844, 11412], \"y\": [0.7783276045308716, 0.7781249653182537, 0.7765763759056976, 0.7765818636999987, 0.7765385211788728]}, {\"marker\": {\"color\": \"#15616d\"}, \"name\": \"Test accuracy\", \"type\": \"scatter\", \"x\": [1141, 3708, 6276, 8844, 11412], \"y\": [0.7751840168243953, 0.7785488958990536, 0.7790396074307746, 0.779179810725552, 0.7786189975464424]}, {\"fill\": \"tonexty\", \"fillcolor\": \"rgba(0,100,80,0.1)\", \"hoverinfo\": \"skip\", \"line\": {\"width\": 0}, \"mode\": \"lines\", \"showlegend\": false, \"type\": \"scatter\", \"x\": [1141, 3708, 6276, 8844, 11412], \"y\": [0.7815613405765407, 0.7835226559481435, 0.7833700512335031, 0.7832853979570547, 0.7823653387215949]}, {\"fill\": \"tonexty\", \"fillcolor\": \"rgba(0,100,80,0.2)\", \"hoverinfo\": \"skip\", \"line\": {\"width\": 0}, \"mode\": \"lines\", \"showlegend\": false, \"type\": \"scatter\", \"x\": [1141, 3708, 6276, 8844, 11412], \"y\": [0.7688066930722499, 0.7735751358499637, 0.7747091636280461, 0.7750742234940493, 0.7748726563712899]}],                        {\"annotations\": [{\"font\": {\"size\": 16}, \"showarrow\": false, \"text\": \"Confusion Matrix\", \"x\": 0.5, \"xanchor\": \"center\", \"xref\": \"paper\", \"y\": 1.0, \"yanchor\": \"bottom\", \"yref\": \"paper\"}], \"autosize\": false, \"height\": 400, \"template\": {\"data\": {\"bar\": [{\"error_x\": {\"color\": \"#2a3f5f\"}, \"error_y\": {\"color\": \"#2a3f5f\"}, \"marker\": {\"line\": {\"color\": \"#E5ECF6\", \"width\": 0.5}}, \"type\": \"bar\"}], \"barpolar\": [{\"marker\": {\"line\": {\"color\": \"#E5ECF6\", \"width\": 0.5}}, \"type\": \"barpolar\"}], \"carpet\": [{\"aaxis\": {\"endlinecolor\": \"#2a3f5f\", \"gridcolor\": \"white\", \"linecolor\": \"white\", \"minorgridcolor\": \"white\", \"startlinecolor\": \"#2a3f5f\"}, \"baxis\": {\"endlinecolor\": \"#2a3f5f\", \"gridcolor\": \"white\", \"linecolor\": \"white\", \"minorgridcolor\": \"white\", \"startlinecolor\": \"#2a3f5f\"}, \"type\": \"carpet\"}], \"choropleth\": [{\"colorbar\": {\"outlinewidth\": 0, \"ticks\": \"\"}, \"type\": \"choropleth\"}], \"contour\": [{\"colorbar\": {\"outlinewidth\": 0, \"ticks\": \"\"}, \"colorscale\": [[0.0, \"#0d0887\"], [0.1111111111111111, \"#46039f\"], [0.2222222222222222, \"#7201a8\"], [0.3333333333333333, \"#9c179e\"], [0.4444444444444444, \"#bd3786\"], [0.5555555555555556, \"#d8576b\"], [0.6666666666666666, \"#ed7953\"], [0.7777777777777778, \"#fb9f3a\"], [0.8888888888888888, \"#fdca26\"], [1.0, \"#f0f921\"]], \"type\": \"contour\"}], \"contourcarpet\": [{\"colorbar\": {\"outlinewidth\": 0, \"ticks\": \"\"}, \"type\": \"contourcarpet\"}], \"heatmap\": [{\"colorbar\": {\"outlinewidth\": 0, \"ticks\": \"\"}, \"colorscale\": [[0.0, \"#0d0887\"], [0.1111111111111111, \"#46039f\"], [0.2222222222222222, \"#7201a8\"], [0.3333333333333333, \"#9c179e\"], [0.4444444444444444, \"#bd3786\"], [0.5555555555555556, \"#d8576b\"], [0.6666666666666666, \"#ed7953\"], [0.7777777777777778, \"#fb9f3a\"], [0.8888888888888888, \"#fdca26\"], [1.0, \"#f0f921\"]], \"type\": \"heatmap\"}], \"heatmapgl\": [{\"colorbar\": {\"outlinewidth\": 0, \"ticks\": \"\"}, \"colorscale\": [[0.0, \"#0d0887\"], [0.1111111111111111, \"#46039f\"], [0.2222222222222222, \"#7201a8\"], [0.3333333333333333, \"#9c179e\"], [0.4444444444444444, \"#bd3786\"], [0.5555555555555556, \"#d8576b\"], [0.6666666666666666, \"#ed7953\"], [0.7777777777777778, \"#fb9f3a\"], [0.8888888888888888, \"#fdca26\"], [1.0, \"#f0f921\"]], \"type\": \"heatmapgl\"}], \"histogram\": [{\"marker\": {\"colorbar\": {\"outlinewidth\": 0, \"ticks\": \"\"}}, \"type\": \"histogram\"}], \"histogram2d\": [{\"colorbar\": {\"outlinewidth\": 0, \"ticks\": \"\"}, \"colorscale\": [[0.0, \"#0d0887\"], [0.1111111111111111, \"#46039f\"], [0.2222222222222222, \"#7201a8\"], [0.3333333333333333, \"#9c179e\"], [0.4444444444444444, \"#bd3786\"], [0.5555555555555556, \"#d8576b\"], [0.6666666666666666, \"#ed7953\"], [0.7777777777777778, \"#fb9f3a\"], [0.8888888888888888, \"#fdca26\"], [1.0, \"#f0f921\"]], \"type\": \"histogram2d\"}], \"histogram2dcontour\": [{\"colorbar\": {\"outlinewidth\": 0, \"ticks\": \"\"}, \"colorscale\": [[0.0, \"#0d0887\"], [0.1111111111111111, \"#46039f\"], [0.2222222222222222, \"#7201a8\"], [0.3333333333333333, \"#9c179e\"], [0.4444444444444444, \"#bd3786\"], [0.5555555555555556, \"#d8576b\"], [0.6666666666666666, \"#ed7953\"], [0.7777777777777778, \"#fb9f3a\"], [0.8888888888888888, \"#fdca26\"], [1.0, \"#f0f921\"]], \"type\": \"histogram2dcontour\"}], \"mesh3d\": [{\"colorbar\": {\"outlinewidth\": 0, \"ticks\": \"\"}, \"type\": \"mesh3d\"}], \"parcoords\": [{\"line\": {\"colorbar\": {\"outlinewidth\": 0, \"ticks\": \"\"}}, \"type\": \"parcoords\"}], \"pie\": [{\"automargin\": true, \"type\": \"pie\"}], \"scatter\": [{\"marker\": {\"colorbar\": {\"outlinewidth\": 0, \"ticks\": \"\"}}, \"type\": \"scatter\"}], \"scatter3d\": [{\"line\": {\"colorbar\": {\"outlinewidth\": 0, \"ticks\": \"\"}}, \"marker\": {\"colorbar\": {\"outlinewidth\": 0, \"ticks\": \"\"}}, \"type\": \"scatter3d\"}], \"scattercarpet\": [{\"marker\": {\"colorbar\": {\"outlinewidth\": 0, \"ticks\": \"\"}}, \"type\": \"scattercarpet\"}], \"scattergeo\": [{\"marker\": {\"colorbar\": {\"outlinewidth\": 0, \"ticks\": \"\"}}, \"type\": \"scattergeo\"}], \"scattergl\": [{\"marker\": {\"colorbar\": {\"outlinewidth\": 0, \"ticks\": \"\"}}, \"type\": \"scattergl\"}], \"scattermapbox\": [{\"marker\": {\"colorbar\": {\"outlinewidth\": 0, \"ticks\": \"\"}}, \"type\": \"scattermapbox\"}], \"scatterpolar\": [{\"marker\": {\"colorbar\": {\"outlinewidth\": 0, \"ticks\": \"\"}}, \"type\": \"scatterpolar\"}], \"scatterpolargl\": [{\"marker\": {\"colorbar\": {\"outlinewidth\": 0, \"ticks\": \"\"}}, \"type\": \"scatterpolargl\"}], \"scatterternary\": [{\"marker\": {\"colorbar\": {\"outlinewidth\": 0, \"ticks\": \"\"}}, \"type\": \"scatterternary\"}], \"surface\": [{\"colorbar\": {\"outlinewidth\": 0, \"ticks\": \"\"}, \"colorscale\": [[0.0, \"#0d0887\"], [0.1111111111111111, \"#46039f\"], [0.2222222222222222, \"#7201a8\"], [0.3333333333333333, \"#9c179e\"], [0.4444444444444444, \"#bd3786\"], [0.5555555555555556, \"#d8576b\"], [0.6666666666666666, \"#ed7953\"], [0.7777777777777778, \"#fb9f3a\"], [0.8888888888888888, \"#fdca26\"], [1.0, \"#f0f921\"]], \"type\": \"surface\"}], \"table\": [{\"cells\": {\"fill\": {\"color\": \"#EBF0F8\"}, \"line\": {\"color\": \"white\"}}, \"header\": {\"fill\": {\"color\": \"#C8D4E3\"}, \"line\": {\"color\": \"white\"}}, \"type\": \"table\"}]}, \"layout\": {\"annotationdefaults\": {\"arrowcolor\": \"#2a3f5f\", \"arrowhead\": 0, \"arrowwidth\": 1}, \"autotypenumbers\": \"strict\", \"coloraxis\": {\"colorbar\": {\"outlinewidth\": 0, \"ticks\": \"\"}}, \"colorscale\": {\"diverging\": [[0, \"#8e0152\"], [0.1, \"#c51b7d\"], [0.2, \"#de77ae\"], [0.3, \"#f1b6da\"], [0.4, \"#fde0ef\"], [0.5, \"#f7f7f7\"], [0.6, \"#e6f5d0\"], [0.7, \"#b8e186\"], [0.8, \"#7fbc41\"], [0.9, \"#4d9221\"], [1, \"#276419\"]], \"sequential\": [[0.0, \"#0d0887\"], [0.1111111111111111, \"#46039f\"], [0.2222222222222222, \"#7201a8\"], [0.3333333333333333, \"#9c179e\"], [0.4444444444444444, \"#bd3786\"], [0.5555555555555556, \"#d8576b\"], [0.6666666666666666, \"#ed7953\"], [0.7777777777777778, \"#fb9f3a\"], [0.8888888888888888, \"#fdca26\"], [1.0, \"#f0f921\"]], \"sequentialminus\": [[0.0, \"#0d0887\"], [0.1111111111111111, \"#46039f\"], [0.2222222222222222, \"#7201a8\"], [0.3333333333333333, \"#9c179e\"], [0.4444444444444444, \"#bd3786\"], [0.5555555555555556, \"#d8576b\"], [0.6666666666666666, \"#ed7953\"], [0.7777777777777778, \"#fb9f3a\"], [0.8888888888888888, \"#fdca26\"], [1.0, \"#f0f921\"]]}, \"colorway\": [\"#636efa\", \"#EF553B\", \"#00cc96\", \"#ab63fa\", \"#FFA15A\", \"#19d3f3\", \"#FF6692\", \"#B6E880\", \"#FF97FF\", \"#FECB52\"], \"font\": {\"color\": \"#2a3f5f\"}, \"geo\": {\"bgcolor\": \"white\", \"lakecolor\": \"white\", \"landcolor\": \"#E5ECF6\", \"showlakes\": true, \"showland\": true, \"subunitcolor\": \"white\"}, \"hoverlabel\": {\"align\": \"left\"}, \"hovermode\": \"closest\", \"mapbox\": {\"style\": \"light\"}, \"paper_bgcolor\": \"white\", \"plot_bgcolor\": \"#E5ECF6\", \"polar\": {\"angularaxis\": {\"gridcolor\": \"white\", \"linecolor\": \"white\", \"ticks\": \"\"}, \"bgcolor\": \"#E5ECF6\", \"radialaxis\": {\"gridcolor\": \"white\", \"linecolor\": \"white\", \"ticks\": \"\"}}, \"scene\": {\"xaxis\": {\"backgroundcolor\": \"#E5ECF6\", \"gridcolor\": \"white\", \"gridwidth\": 2, \"linecolor\": \"white\", \"showbackground\": true, \"ticks\": \"\", \"zerolinecolor\": \"white\"}, \"yaxis\": {\"backgroundcolor\": \"#E5ECF6\", \"gridcolor\": \"white\", \"gridwidth\": 2, \"linecolor\": \"white\", \"showbackground\": true, \"ticks\": \"\", \"zerolinecolor\": \"white\"}, \"zaxis\": {\"backgroundcolor\": \"#E5ECF6\", \"gridcolor\": \"white\", \"gridwidth\": 2, \"linecolor\": \"white\", \"showbackground\": true, \"ticks\": \"\", \"zerolinecolor\": \"white\"}}, \"shapedefaults\": {\"line\": {\"color\": \"#2a3f5f\"}}, \"ternary\": {\"aaxis\": {\"gridcolor\": \"white\", \"linecolor\": \"white\", \"ticks\": \"\"}, \"baxis\": {\"gridcolor\": \"white\", \"linecolor\": \"white\", \"ticks\": \"\"}, \"bgcolor\": \"#E5ECF6\", \"caxis\": {\"gridcolor\": \"white\", \"linecolor\": \"white\", \"ticks\": \"\"}}, \"title\": {\"x\": 0.05}, \"xaxis\": {\"automargin\": true, \"gridcolor\": \"white\", \"linecolor\": \"white\", \"ticks\": \"\", \"title\": {\"standoff\": 15}, \"zerolinecolor\": \"white\", \"zerolinewidth\": 2}, \"yaxis\": {\"automargin\": true, \"gridcolor\": \"white\", \"linecolor\": \"white\", \"ticks\": \"\", \"title\": {\"standoff\": 15}, \"zerolinecolor\": \"white\", \"zerolinewidth\": 2}}}, \"width\": 600, \"xaxis\": {\"anchor\": \"y\", \"domain\": [0.0, 1.0], \"title\": {\"text\": \"Training Example\"}}, \"yaxis\": {\"anchor\": \"x\", \"domain\": [0.0, 1.0], \"title\": {\"text\": \"Scores\"}}},                        {\"responsive\": true}                    ).then(function(){\n",
       "                            \n",
       "var gd = document.getElementById('875c4b0b-ea68-4ad4-be67-7f5e33059395');\n",
       "var x = new MutationObserver(function (mutations, observer) {{\n",
       "        var display = window.getComputedStyle(gd).display;\n",
       "        if (!display || display === 'none') {{\n",
       "            console.log([gd, 'removed!']);\n",
       "            Plotly.purge(gd);\n",
       "            observer.disconnect();\n",
       "        }}\n",
       "}});\n",
       "\n",
       "// Listen for the removal of the full notebook cells\n",
       "var notebookContainer = gd.closest('#notebook-container');\n",
       "if (notebookContainer) {{\n",
       "    x.observe(notebookContainer, {childList: true});\n",
       "}}\n",
       "\n",
       "// Listen for the clearing of the current output cell\n",
       "var outputEl = gd.closest('.output');\n",
       "if (outputEl) {{\n",
       "    x.observe(outputEl, {childList: true});\n",
       "}}\n",
       "\n",
       "                        })                };                            </script>        </div>\n",
       "</body>\n",
       "</html>"
      ]
     },
     "metadata": {
      "tags": []
     },
     "output_type": "display_data"
    }
   ],
   "source": [
    "print_lc(QDA(reg_param=0.01))"
   ]
  },
  {
   "cell_type": "markdown",
   "metadata": {
    "id": "iQxRv-c_NqAN",
    "slideshow": {
     "slide_type": "subslide"
    }
   },
   "source": [
    "In this case we se yet another situation. The algorithm is not learning anything from the data, on the constrast the performances are slightly descreasing with the increasing of the training examples falling in a high bias model/underfitting"
   ]
  },
  {
   "cell_type": "markdown",
   "metadata": {
    "id": "KOQVxaApyyzz",
    "slideshow": {
     "slide_type": "slide"
    }
   },
   "source": [
    "# **Conclusion**"
   ]
  },
  {
   "cell_type": "markdown",
   "metadata": {
    "id": "ytGP1bgLGPBp",
    "slideshow": {
     "slide_type": "subslide"
    }
   },
   "source": [
    "The scope of this project was to analyze how machine learning algorithms works and their performances. We have noticed that the PCA did not improved the performance of every model and the balancing methods actully worsened the performance, possibly due to the fact that the imbalance in the dataset was not high. Another important \"problem\" due to the imbalance in the dataset is that all algorithms suffer of lower scores in precision f-1 with respect to the accuracy since they predict better the samples beloging to the class gamma ray."
   ]
  },
  {
   "cell_type": "markdown",
   "metadata": {
    "id": "Ho5FNz28LjpI",
    "slideshow": {
     "slide_type": "subslide"
    }
   },
   "source": [
    "As we can see the SVM algorithm does the best job considering all the different metrics. Moreover, it is clear that the preprocessing steps help to reduce the number of misclassifications, but cause a little drop in the accuracies values.\n",
    "\n",
    "Below we summerize the results with all the algorithms on the test set: \n"
   ]
  },
  {
   "cell_type": "code",
   "execution_count": null,
   "metadata": {
    "id": "dsReJwn1pNoi",
    "slideshow": {
     "slide_type": "skip"
    }
   },
   "outputs": [],
   "source": [
    "final_results = total_results.copy()\n",
    "final_results.set_index(['Algorithm', 'Configuration'],drop=True,inplace=True)"
   ]
  },
  {
   "cell_type": "code",
   "execution_count": null,
   "metadata": {
    "id": "Sy3OD2eWYtjX",
    "slideshow": {
     "slide_type": "skip"
    }
   },
   "outputs": [],
   "source": [
    "final_results"
   ]
  },
  {
   "cell_type": "code",
   "execution_count": null,
   "metadata": {
    "cellView": "form",
    "colab": {
     "base_uri": "https://localhost:8080/",
     "height": 1000
    },
    "executionInfo": {
     "elapsed": 756,
     "status": "ok",
     "timestamp": 1619888458471,
     "user": {
      "displayName": "Noemi Tomasello",
      "photoUrl": "https://lh6.googleusercontent.com/-0vac6q9vL7M/AAAAAAAAAAI/AAAAAAAACQY/OsKV2bRy4NA/s64/photo.jpg",
      "userId": "14936482853525964477"
     },
     "user_tz": -120
    },
    "id": "ckEQJJ-t-isv",
    "outputId": "53aa156e-3331-49d5-ba99-75000d3a716b",
    "slideshow": {
     "slide_type": "fragment"
    }
   },
   "outputs": [
    {
     "data": {
      "text/html": [
       "<style  type=\"text/css\" >\n",
       "    #T_cb69d762_aa9e_11eb_941b_0242ac1c0002 tr:hover {\n",
       "          background-color: #fec89a;\n",
       "    }    #T_cb69d762_aa9e_11eb_941b_0242ac1c0002 th {\n",
       "          text-align: center;\n",
       "          color: #ffffff;\n",
       "          background-color: #2d6a4f;\n",
       "          height: 60px;\n",
       "          width: max-width;\n",
       "          font: Nunito Sans;\n",
       "    }    #T_cb69d762_aa9e_11eb_941b_0242ac1c0002 tr {\n",
       "          text-align: center;\n",
       "          background-color: #e2ece9;\n",
       "          font-color: #fffff;\n",
       "          padding: 20px;\n",
       "    }#T_cb69d762_aa9e_11eb_941b_0242ac1c0002row0_col0,#T_cb69d762_aa9e_11eb_941b_0242ac1c0002row0_col1,#T_cb69d762_aa9e_11eb_941b_0242ac1c0002row0_col2,#T_cb69d762_aa9e_11eb_941b_0242ac1c0002row0_col3,#T_cb69d762_aa9e_11eb_941b_0242ac1c0002row1_col0,#T_cb69d762_aa9e_11eb_941b_0242ac1c0002row1_col2,#T_cb69d762_aa9e_11eb_941b_0242ac1c0002row1_col3,#T_cb69d762_aa9e_11eb_941b_0242ac1c0002row2_col0,#T_cb69d762_aa9e_11eb_941b_0242ac1c0002row2_col1,#T_cb69d762_aa9e_11eb_941b_0242ac1c0002row2_col2,#T_cb69d762_aa9e_11eb_941b_0242ac1c0002row2_col3,#T_cb69d762_aa9e_11eb_941b_0242ac1c0002row3_col0,#T_cb69d762_aa9e_11eb_941b_0242ac1c0002row3_col1,#T_cb69d762_aa9e_11eb_941b_0242ac1c0002row3_col2,#T_cb69d762_aa9e_11eb_941b_0242ac1c0002row3_col3,#T_cb69d762_aa9e_11eb_941b_0242ac1c0002row4_col1,#T_cb69d762_aa9e_11eb_941b_0242ac1c0002row4_col2,#T_cb69d762_aa9e_11eb_941b_0242ac1c0002row5_col0,#T_cb69d762_aa9e_11eb_941b_0242ac1c0002row5_col1,#T_cb69d762_aa9e_11eb_941b_0242ac1c0002row5_col2,#T_cb69d762_aa9e_11eb_941b_0242ac1c0002row5_col3,#T_cb69d762_aa9e_11eb_941b_0242ac1c0002row6_col0,#T_cb69d762_aa9e_11eb_941b_0242ac1c0002row6_col1,#T_cb69d762_aa9e_11eb_941b_0242ac1c0002row6_col2,#T_cb69d762_aa9e_11eb_941b_0242ac1c0002row6_col3,#T_cb69d762_aa9e_11eb_941b_0242ac1c0002row7_col0,#T_cb69d762_aa9e_11eb_941b_0242ac1c0002row7_col1,#T_cb69d762_aa9e_11eb_941b_0242ac1c0002row7_col2,#T_cb69d762_aa9e_11eb_941b_0242ac1c0002row7_col3,#T_cb69d762_aa9e_11eb_941b_0242ac1c0002row8_col0,#T_cb69d762_aa9e_11eb_941b_0242ac1c0002row8_col1,#T_cb69d762_aa9e_11eb_941b_0242ac1c0002row8_col2,#T_cb69d762_aa9e_11eb_941b_0242ac1c0002row8_col3,#T_cb69d762_aa9e_11eb_941b_0242ac1c0002row9_col0,#T_cb69d762_aa9e_11eb_941b_0242ac1c0002row9_col1,#T_cb69d762_aa9e_11eb_941b_0242ac1c0002row9_col2,#T_cb69d762_aa9e_11eb_941b_0242ac1c0002row9_col3,#T_cb69d762_aa9e_11eb_941b_0242ac1c0002row10_col0,#T_cb69d762_aa9e_11eb_941b_0242ac1c0002row10_col1,#T_cb69d762_aa9e_11eb_941b_0242ac1c0002row10_col2,#T_cb69d762_aa9e_11eb_941b_0242ac1c0002row10_col3,#T_cb69d762_aa9e_11eb_941b_0242ac1c0002row11_col0,#T_cb69d762_aa9e_11eb_941b_0242ac1c0002row11_col1,#T_cb69d762_aa9e_11eb_941b_0242ac1c0002row11_col2,#T_cb69d762_aa9e_11eb_941b_0242ac1c0002row11_col3,#T_cb69d762_aa9e_11eb_941b_0242ac1c0002row12_col0,#T_cb69d762_aa9e_11eb_941b_0242ac1c0002row12_col1,#T_cb69d762_aa9e_11eb_941b_0242ac1c0002row12_col2,#T_cb69d762_aa9e_11eb_941b_0242ac1c0002row12_col3,#T_cb69d762_aa9e_11eb_941b_0242ac1c0002row13_col0,#T_cb69d762_aa9e_11eb_941b_0242ac1c0002row13_col1,#T_cb69d762_aa9e_11eb_941b_0242ac1c0002row13_col2,#T_cb69d762_aa9e_11eb_941b_0242ac1c0002row13_col3,#T_cb69d762_aa9e_11eb_941b_0242ac1c0002row14_col0,#T_cb69d762_aa9e_11eb_941b_0242ac1c0002row14_col1,#T_cb69d762_aa9e_11eb_941b_0242ac1c0002row14_col3,#T_cb69d762_aa9e_11eb_941b_0242ac1c0002row15_col0,#T_cb69d762_aa9e_11eb_941b_0242ac1c0002row15_col1,#T_cb69d762_aa9e_11eb_941b_0242ac1c0002row15_col2,#T_cb69d762_aa9e_11eb_941b_0242ac1c0002row15_col3,#T_cb69d762_aa9e_11eb_941b_0242ac1c0002row16_col0,#T_cb69d762_aa9e_11eb_941b_0242ac1c0002row16_col1,#T_cb69d762_aa9e_11eb_941b_0242ac1c0002row16_col2,#T_cb69d762_aa9e_11eb_941b_0242ac1c0002row16_col3,#T_cb69d762_aa9e_11eb_941b_0242ac1c0002row17_col0,#T_cb69d762_aa9e_11eb_941b_0242ac1c0002row17_col1,#T_cb69d762_aa9e_11eb_941b_0242ac1c0002row17_col2,#T_cb69d762_aa9e_11eb_941b_0242ac1c0002row17_col3,#T_cb69d762_aa9e_11eb_941b_0242ac1c0002row18_col0,#T_cb69d762_aa9e_11eb_941b_0242ac1c0002row18_col1,#T_cb69d762_aa9e_11eb_941b_0242ac1c0002row18_col2,#T_cb69d762_aa9e_11eb_941b_0242ac1c0002row18_col3,#T_cb69d762_aa9e_11eb_941b_0242ac1c0002row19_col0,#T_cb69d762_aa9e_11eb_941b_0242ac1c0002row19_col1,#T_cb69d762_aa9e_11eb_941b_0242ac1c0002row19_col2,#T_cb69d762_aa9e_11eb_941b_0242ac1c0002row19_col3,#T_cb69d762_aa9e_11eb_941b_0242ac1c0002row20_col0,#T_cb69d762_aa9e_11eb_941b_0242ac1c0002row20_col1,#T_cb69d762_aa9e_11eb_941b_0242ac1c0002row20_col2,#T_cb69d762_aa9e_11eb_941b_0242ac1c0002row20_col3,#T_cb69d762_aa9e_11eb_941b_0242ac1c0002row21_col0,#T_cb69d762_aa9e_11eb_941b_0242ac1c0002row21_col1,#T_cb69d762_aa9e_11eb_941b_0242ac1c0002row21_col2,#T_cb69d762_aa9e_11eb_941b_0242ac1c0002row21_col3,#T_cb69d762_aa9e_11eb_941b_0242ac1c0002row22_col0,#T_cb69d762_aa9e_11eb_941b_0242ac1c0002row22_col1,#T_cb69d762_aa9e_11eb_941b_0242ac1c0002row22_col2,#T_cb69d762_aa9e_11eb_941b_0242ac1c0002row22_col3,#T_cb69d762_aa9e_11eb_941b_0242ac1c0002row23_col0,#T_cb69d762_aa9e_11eb_941b_0242ac1c0002row23_col1,#T_cb69d762_aa9e_11eb_941b_0242ac1c0002row23_col2,#T_cb69d762_aa9e_11eb_941b_0242ac1c0002row23_col3,#T_cb69d762_aa9e_11eb_941b_0242ac1c0002row24_col0,#T_cb69d762_aa9e_11eb_941b_0242ac1c0002row24_col1,#T_cb69d762_aa9e_11eb_941b_0242ac1c0002row24_col2,#T_cb69d762_aa9e_11eb_941b_0242ac1c0002row24_col3{\n",
       "            width:  200px;\n",
       "        }#T_cb69d762_aa9e_11eb_941b_0242ac1c0002row1_col1,#T_cb69d762_aa9e_11eb_941b_0242ac1c0002row4_col0,#T_cb69d762_aa9e_11eb_941b_0242ac1c0002row4_col3,#T_cb69d762_aa9e_11eb_941b_0242ac1c0002row14_col2{\n",
       "            background-color:  #52b69a;\n",
       "            width:  200px;\n",
       "        }</style><table id=\"T_cb69d762_aa9e_11eb_941b_0242ac1c0002\" ><thead>    <tr>        <th class=\"blank\" ></th>        <th class=\"blank level0\" ></th>        <th class=\"col_heading level0 col0\" >Accuracy</th>        <th class=\"col_heading level0 col1\" >Precision</th>        <th class=\"col_heading level0 col2\" >Recall</th>        <th class=\"col_heading level0 col3\" >F1-score</th>    </tr>    <tr>        <th class=\"index_name level0\" >Algorithm</th>        <th class=\"index_name level1\" >Configuration</th>        <th class=\"blank\" ></th>        <th class=\"blank\" ></th>        <th class=\"blank\" ></th>        <th class=\"blank\" ></th>    </tr></thead><tbody>\n",
       "                <tr>\n",
       "                        <th id=\"T_cb69d762_aa9e_11eb_941b_0242ac1c0002level0_row0\" class=\"row_heading level0 row0\" rowspan=5>Random Forest</th>\n",
       "                        <th id=\"T_cb69d762_aa9e_11eb_941b_0242ac1c0002level1_row0\" class=\"row_heading level1 row0\" >Test Random Forest with Iso, PCA, SMOTE</th>\n",
       "                        <td id=\"T_cb69d762_aa9e_11eb_941b_0242ac1c0002row0_col0\" class=\"data row0 col0\" >0.790116</td>\n",
       "                        <td id=\"T_cb69d762_aa9e_11eb_941b_0242ac1c0002row0_col1\" class=\"data row0 col1\" >0.743437</td>\n",
       "                        <td id=\"T_cb69d762_aa9e_11eb_941b_0242ac1c0002row0_col2\" class=\"data row0 col2\" >0.686880</td>\n",
       "                        <td id=\"T_cb69d762_aa9e_11eb_941b_0242ac1c0002row0_col3\" class=\"data row0 col3\" >0.714040</td>\n",
       "            </tr>\n",
       "            <tr>\n",
       "                                <th id=\"T_cb69d762_aa9e_11eb_941b_0242ac1c0002level1_row1\" class=\"row_heading level1 row1\" >Test Random Forest with Iso, PCA, Random Undersampling</th>\n",
       "                        <td id=\"T_cb69d762_aa9e_11eb_941b_0242ac1c0002row1_col0\" class=\"data row1 col0\" >0.772871</td>\n",
       "                        <td id=\"T_cb69d762_aa9e_11eb_941b_0242ac1c0002row1_col1\" class=\"data row1 col1\" >0.802506</td>\n",
       "                        <td id=\"T_cb69d762_aa9e_11eb_941b_0242ac1c0002row1_col2\" class=\"data row1 col2\" >0.642311</td>\n",
       "                        <td id=\"T_cb69d762_aa9e_11eb_941b_0242ac1c0002row1_col3\" class=\"data row1 col3\" >0.713528</td>\n",
       "            </tr>\n",
       "            <tr>\n",
       "                                <th id=\"T_cb69d762_aa9e_11eb_941b_0242ac1c0002level1_row2\" class=\"row_heading level1 row2\" >Test Random Forest with LOF, PCA, SMOTE</th>\n",
       "                        <td id=\"T_cb69d762_aa9e_11eb_941b_0242ac1c0002row2_col0\" class=\"data row2 col0\" >0.800000</td>\n",
       "                        <td id=\"T_cb69d762_aa9e_11eb_941b_0242ac1c0002row2_col1\" class=\"data row2 col1\" >0.723747</td>\n",
       "                        <td id=\"T_cb69d762_aa9e_11eb_941b_0242ac1c0002row2_col2\" class=\"data row2 col2\" >0.713110</td>\n",
       "                        <td id=\"T_cb69d762_aa9e_11eb_941b_0242ac1c0002row2_col3\" class=\"data row2 col3\" >0.718389</td>\n",
       "            </tr>\n",
       "            <tr>\n",
       "                                <th id=\"T_cb69d762_aa9e_11eb_941b_0242ac1c0002level1_row3\" class=\"row_heading level1 row3\" >Test Random Forest with LOF, PCA, Random Undersampling</th>\n",
       "                        <td id=\"T_cb69d762_aa9e_11eb_941b_0242ac1c0002row3_col0\" class=\"data row3 col0\" >0.784437</td>\n",
       "                        <td id=\"T_cb69d762_aa9e_11eb_941b_0242ac1c0002row3_col1\" class=\"data row3 col1\" >0.775656</td>\n",
       "                        <td id=\"T_cb69d762_aa9e_11eb_941b_0242ac1c0002row3_col2\" class=\"data row3 col2\" >0.667009</td>\n",
       "                        <td id=\"T_cb69d762_aa9e_11eb_941b_0242ac1c0002row3_col3\" class=\"data row3 col3\" >0.717241</td>\n",
       "            </tr>\n",
       "            <tr>\n",
       "                                <th id=\"T_cb69d762_aa9e_11eb_941b_0242ac1c0002level1_row4\" class=\"row_heading level1 row4\" >Test Random Forest with no preprocessing</th>\n",
       "                        <td id=\"T_cb69d762_aa9e_11eb_941b_0242ac1c0002row4_col0\" class=\"data row4 col0\" >0.885594</td>\n",
       "                        <td id=\"T_cb69d762_aa9e_11eb_941b_0242ac1c0002row4_col1\" class=\"data row4 col1\" >0.765513</td>\n",
       "                        <td id=\"T_cb69d762_aa9e_11eb_941b_0242ac1c0002row4_col2\" class=\"data row4 col2\" >0.894700</td>\n",
       "                        <td id=\"T_cb69d762_aa9e_11eb_941b_0242ac1c0002row4_col3\" class=\"data row4 col3\" >0.825080</td>\n",
       "            </tr>\n",
       "            <tr>\n",
       "                        <th id=\"T_cb69d762_aa9e_11eb_941b_0242ac1c0002level0_row5\" class=\"row_heading level0 row5\" rowspan=5>Support Vector Machines</th>\n",
       "                        <th id=\"T_cb69d762_aa9e_11eb_941b_0242ac1c0002level1_row5\" class=\"row_heading level1 row5\" >Test SVC with Iso, PCA, SMOTE</th>\n",
       "                        <td id=\"T_cb69d762_aa9e_11eb_941b_0242ac1c0002row5_col0\" class=\"data row5 col0\" >0.774343</td>\n",
       "                        <td id=\"T_cb69d762_aa9e_11eb_941b_0242ac1c0002row5_col1\" class=\"data row5 col1\" >0.762530</td>\n",
       "                        <td id=\"T_cb69d762_aa9e_11eb_941b_0242ac1c0002row5_col2\" class=\"data row5 col2\" >0.654378</td>\n",
       "                        <td id=\"T_cb69d762_aa9e_11eb_941b_0242ac1c0002row5_col3\" class=\"data row5 col3\" >0.704326</td>\n",
       "            </tr>\n",
       "            <tr>\n",
       "                                <th id=\"T_cb69d762_aa9e_11eb_941b_0242ac1c0002level1_row6\" class=\"row_heading level1 row6\" >Test SVC with Iso, PCA, Random Undersampling</th>\n",
       "                        <td id=\"T_cb69d762_aa9e_11eb_941b_0242ac1c0002row6_col0\" class=\"data row6 col0\" >0.779600</td>\n",
       "                        <td id=\"T_cb69d762_aa9e_11eb_941b_0242ac1c0002row6_col1\" class=\"data row6 col1\" >0.789379</td>\n",
       "                        <td id=\"T_cb69d762_aa9e_11eb_941b_0242ac1c0002row6_col2\" class=\"data row6 col2\" >0.655600</td>\n",
       "                        <td id=\"T_cb69d762_aa9e_11eb_941b_0242ac1c0002row6_col3\" class=\"data row6 col3\" >0.716297</td>\n",
       "            </tr>\n",
       "            <tr>\n",
       "                                <th id=\"T_cb69d762_aa9e_11eb_941b_0242ac1c0002level1_row7\" class=\"row_heading level1 row7\" >Test SVC with LOF, PCA, SMOTE</th>\n",
       "                        <td id=\"T_cb69d762_aa9e_11eb_941b_0242ac1c0002row7_col0\" class=\"data row7 col0\" >0.795584</td>\n",
       "                        <td id=\"T_cb69d762_aa9e_11eb_941b_0242ac1c0002row7_col1\" class=\"data row7 col1\" >0.755967</td>\n",
       "                        <td id=\"T_cb69d762_aa9e_11eb_941b_0242ac1c0002row7_col2\" class=\"data row7 col2\" >0.692350</td>\n",
       "                        <td id=\"T_cb69d762_aa9e_11eb_941b_0242ac1c0002row7_col3\" class=\"data row7 col3\" >0.722761</td>\n",
       "            </tr>\n",
       "            <tr>\n",
       "                                <th id=\"T_cb69d762_aa9e_11eb_941b_0242ac1c0002level1_row8\" class=\"row_heading level1 row8\" >Test SVC with LOF, PCA, Random Undersampling</th>\n",
       "                        <td id=\"T_cb69d762_aa9e_11eb_941b_0242ac1c0002row8_col0\" class=\"data row8 col0\" >0.799159</td>\n",
       "                        <td id=\"T_cb69d762_aa9e_11eb_941b_0242ac1c0002row8_col1\" class=\"data row8 col1\" >0.750597</td>\n",
       "                        <td id=\"T_cb69d762_aa9e_11eb_941b_0242ac1c0002row8_col2\" class=\"data row8 col2\" >0.700836</td>\n",
       "                        <td id=\"T_cb69d762_aa9e_11eb_941b_0242ac1c0002row8_col3\" class=\"data row8 col3\" >0.724863</td>\n",
       "            </tr>\n",
       "            <tr>\n",
       "                                <th id=\"T_cb69d762_aa9e_11eb_941b_0242ac1c0002level1_row9\" class=\"row_heading level1 row9\" >Test SVC with no preprocessing</th>\n",
       "                        <td id=\"T_cb69d762_aa9e_11eb_941b_0242ac1c0002row9_col0\" class=\"data row9 col0\" >0.873186</td>\n",
       "                        <td id=\"T_cb69d762_aa9e_11eb_941b_0242ac1c0002row9_col1\" class=\"data row9 col1\" >0.718974</td>\n",
       "                        <td id=\"T_cb69d762_aa9e_11eb_941b_0242ac1c0002row9_col2\" class=\"data row9 col2\" >0.901272</td>\n",
       "                        <td id=\"T_cb69d762_aa9e_11eb_941b_0242ac1c0002row9_col3\" class=\"data row9 col3\" >0.799867</td>\n",
       "            </tr>\n",
       "            <tr>\n",
       "                        <th id=\"T_cb69d762_aa9e_11eb_941b_0242ac1c0002level0_row10\" class=\"row_heading level0 row10\" rowspan=5>K-Nearest Neighbors</th>\n",
       "                        <th id=\"T_cb69d762_aa9e_11eb_941b_0242ac1c0002level1_row10\" class=\"row_heading level1 row10\" >Test KNN with Iso, PCA, SMOTE</th>\n",
       "                        <td id=\"T_cb69d762_aa9e_11eb_941b_0242ac1c0002row10_col0\" class=\"data row10 col0\" >0.773502</td>\n",
       "                        <td id=\"T_cb69d762_aa9e_11eb_941b_0242ac1c0002row10_col1\" class=\"data row10 col1\" >0.740453</td>\n",
       "                        <td id=\"T_cb69d762_aa9e_11eb_941b_0242ac1c0002row10_col2\" class=\"data row10 col2\" >0.659055</td>\n",
       "                        <td id=\"T_cb69d762_aa9e_11eb_941b_0242ac1c0002row10_col3\" class=\"data row10 col3\" >0.697387</td>\n",
       "            </tr>\n",
       "            <tr>\n",
       "                                <th id=\"T_cb69d762_aa9e_11eb_941b_0242ac1c0002level1_row11\" class=\"row_heading level1 row11\" >Test KNN with Iso, PCA, Random Undersampling</th>\n",
       "                        <td id=\"T_cb69d762_aa9e_11eb_941b_0242ac1c0002row11_col0\" class=\"data row11 col0\" >0.786330</td>\n",
       "                        <td id=\"T_cb69d762_aa9e_11eb_941b_0242ac1c0002row11_col1\" class=\"data row11 col1\" >0.717780</td>\n",
       "                        <td id=\"T_cb69d762_aa9e_11eb_941b_0242ac1c0002row11_col2\" class=\"data row11 col2\" >0.689003</td>\n",
       "                        <td id=\"T_cb69d762_aa9e_11eb_941b_0242ac1c0002row11_col3\" class=\"data row11 col3\" >0.703098</td>\n",
       "            </tr>\n",
       "            <tr>\n",
       "                                <th id=\"T_cb69d762_aa9e_11eb_941b_0242ac1c0002level1_row12\" class=\"row_heading level1 row12\" >Test KNN with LOF, PCA, SMOTE</th>\n",
       "                        <td id=\"T_cb69d762_aa9e_11eb_941b_0242ac1c0002row12_col0\" class=\"data row12 col0\" >0.788854</td>\n",
       "                        <td id=\"T_cb69d762_aa9e_11eb_941b_0242ac1c0002row12_col1\" class=\"data row12 col1\" >0.713604</td>\n",
       "                        <td id=\"T_cb69d762_aa9e_11eb_941b_0242ac1c0002row12_col2\" class=\"data row12 col2\" >0.695349</td>\n",
       "                        <td id=\"T_cb69d762_aa9e_11eb_941b_0242ac1c0002row12_col3\" class=\"data row12 col3\" >0.704358</td>\n",
       "            </tr>\n",
       "            <tr>\n",
       "                                <th id=\"T_cb69d762_aa9e_11eb_941b_0242ac1c0002level1_row13\" class=\"row_heading level1 row13\" >Test KNN with LOF, PCA, Random Undersampling</th>\n",
       "                        <td id=\"T_cb69d762_aa9e_11eb_941b_0242ac1c0002row13_col0\" class=\"data row13 col0\" >0.791167</td>\n",
       "                        <td id=\"T_cb69d762_aa9e_11eb_941b_0242ac1c0002row13_col1\" class=\"data row13 col1\" >0.695704</td>\n",
       "                        <td id=\"T_cb69d762_aa9e_11eb_941b_0242ac1c0002row13_col2\" class=\"data row13 col2\" >0.707095</td>\n",
       "                        <td id=\"T_cb69d762_aa9e_11eb_941b_0242ac1c0002row13_col3\" class=\"data row13 col3\" >0.701353</td>\n",
       "            </tr>\n",
       "            <tr>\n",
       "                                <th id=\"T_cb69d762_aa9e_11eb_941b_0242ac1c0002level1_row14\" class=\"row_heading level1 row14\" >Test KNN with no preprocessing</th>\n",
       "                        <td id=\"T_cb69d762_aa9e_11eb_941b_0242ac1c0002row14_col0\" class=\"data row14 col0\" >0.828391</td>\n",
       "                        <td id=\"T_cb69d762_aa9e_11eb_941b_0242ac1c0002row14_col1\" class=\"data row14 col1\" >0.551313</td>\n",
       "                        <td id=\"T_cb69d762_aa9e_11eb_941b_0242ac1c0002row14_col2\" class=\"data row14 col2\" >0.935223</td>\n",
       "                        <td id=\"T_cb69d762_aa9e_11eb_941b_0242ac1c0002row14_col3\" class=\"data row14 col3\" >0.693694</td>\n",
       "            </tr>\n",
       "            <tr>\n",
       "                        <th id=\"T_cb69d762_aa9e_11eb_941b_0242ac1c0002level0_row15\" class=\"row_heading level0 row15\" rowspan=5>Logistic Regression</th>\n",
       "                        <th id=\"T_cb69d762_aa9e_11eb_941b_0242ac1c0002level1_row15\" class=\"row_heading level1 row15\" >Test LR with Iso, PCA, SMOTE</th>\n",
       "                        <td id=\"T_cb69d762_aa9e_11eb_941b_0242ac1c0002row15_col0\" class=\"data row15 col0\" >0.776025</td>\n",
       "                        <td id=\"T_cb69d762_aa9e_11eb_941b_0242ac1c0002row15_col1\" class=\"data row15 col1\" >0.738067</td>\n",
       "                        <td id=\"T_cb69d762_aa9e_11eb_941b_0242ac1c0002row15_col2\" class=\"data row15 col2\" >0.663983</td>\n",
       "                        <td id=\"T_cb69d762_aa9e_11eb_941b_0242ac1c0002row15_col3\" class=\"data row15 col3\" >0.699068</td>\n",
       "            </tr>\n",
       "            <tr>\n",
       "                                <th id=\"T_cb69d762_aa9e_11eb_941b_0242ac1c0002level1_row16\" class=\"row_heading level1 row16\" >Test LR with Iso, PCA, Random Undersampling</th>\n",
       "                        <td id=\"T_cb69d762_aa9e_11eb_941b_0242ac1c0002row16_col0\" class=\"data row16 col0\" >0.774553</td>\n",
       "                        <td id=\"T_cb69d762_aa9e_11eb_941b_0242ac1c0002row16_col1\" class=\"data row16 col1\" >0.735680</td>\n",
       "                        <td id=\"T_cb69d762_aa9e_11eb_941b_0242ac1c0002row16_col2\" class=\"data row16 col2\" >0.662191</td>\n",
       "                        <td id=\"T_cb69d762_aa9e_11eb_941b_0242ac1c0002row16_col3\" class=\"data row16 col3\" >0.697004</td>\n",
       "            </tr>\n",
       "            <tr>\n",
       "                                <th id=\"T_cb69d762_aa9e_11eb_941b_0242ac1c0002level1_row17\" class=\"row_heading level1 row17\" >Test LR with LOF, PCA, SMOTE</th>\n",
       "                        <td id=\"T_cb69d762_aa9e_11eb_941b_0242ac1c0002row17_col0\" class=\"data row17 col0\" >0.779811</td>\n",
       "                        <td id=\"T_cb69d762_aa9e_11eb_941b_0242ac1c0002row17_col1\" class=\"data row17 col1\" >0.718377</td>\n",
       "                        <td id=\"T_cb69d762_aa9e_11eb_941b_0242ac1c0002row17_col2\" class=\"data row17 col2\" >0.676785</td>\n",
       "                        <td id=\"T_cb69d762_aa9e_11eb_941b_0242ac1c0002row17_col3\" class=\"data row17 col3\" >0.696961</td>\n",
       "            </tr>\n",
       "            <tr>\n",
       "                                <th id=\"T_cb69d762_aa9e_11eb_941b_0242ac1c0002level1_row18\" class=\"row_heading level1 row18\" >Test LR with LOF, PCA, Random Undersampling</th>\n",
       "                        <td id=\"T_cb69d762_aa9e_11eb_941b_0242ac1c0002row18_col0\" class=\"data row18 col0\" >0.778759</td>\n",
       "                        <td id=\"T_cb69d762_aa9e_11eb_941b_0242ac1c0002row18_col1\" class=\"data row18 col1\" >0.718974</td>\n",
       "                        <td id=\"T_cb69d762_aa9e_11eb_941b_0242ac1c0002row18_col2\" class=\"data row18 col2\" >0.674692</td>\n",
       "                        <td id=\"T_cb69d762_aa9e_11eb_941b_0242ac1c0002row18_col3\" class=\"data row18 col3\" >0.696129</td>\n",
       "            </tr>\n",
       "            <tr>\n",
       "                                <th id=\"T_cb69d762_aa9e_11eb_941b_0242ac1c0002level1_row19\" class=\"row_heading level1 row19\" >Test LR with no preprocessing</th>\n",
       "                        <td id=\"T_cb69d762_aa9e_11eb_941b_0242ac1c0002row19_col0\" class=\"data row19 col0\" >0.791167</td>\n",
       "                        <td id=\"T_cb69d762_aa9e_11eb_941b_0242ac1c0002row19_col1\" class=\"data row19 col1\" >0.587709</td>\n",
       "                        <td id=\"T_cb69d762_aa9e_11eb_941b_0242ac1c0002row19_col2\" class=\"data row19 col2\" >0.765346</td>\n",
       "                        <td id=\"T_cb69d762_aa9e_11eb_941b_0242ac1c0002row19_col3\" class=\"data row19 col3\" >0.664867</td>\n",
       "            </tr>\n",
       "            <tr>\n",
       "                        <th id=\"T_cb69d762_aa9e_11eb_941b_0242ac1c0002level0_row20\" class=\"row_heading level0 row20\" rowspan=5>Quadratic Discriminant Analysis</th>\n",
       "                        <th id=\"T_cb69d762_aa9e_11eb_941b_0242ac1c0002level1_row20\" class=\"row_heading level1 row20\" >Test QDA with Iso,PCA,SMOTE</th>\n",
       "                        <td id=\"T_cb69d762_aa9e_11eb_941b_0242ac1c0002row20_col0\" class=\"data row20 col0\" >0.780021</td>\n",
       "                        <td id=\"T_cb69d762_aa9e_11eb_941b_0242ac1c0002row20_col1\" class=\"data row20 col1\" >0.700477</td>\n",
       "                        <td id=\"T_cb69d762_aa9e_11eb_941b_0242ac1c0002row20_col2\" class=\"data row20 col2\" >0.683353</td>\n",
       "                        <td id=\"T_cb69d762_aa9e_11eb_941b_0242ac1c0002row20_col3\" class=\"data row20 col3\" >0.691809</td>\n",
       "            </tr>\n",
       "            <tr>\n",
       "                                <th id=\"T_cb69d762_aa9e_11eb_941b_0242ac1c0002level1_row21\" class=\"row_heading level1 row21\" >Test QDA with Iso, PCA, Rand UnderSampling</th>\n",
       "                        <td id=\"T_cb69d762_aa9e_11eb_941b_0242ac1c0002row21_col0\" class=\"data row21 col0\" >0.779600</td>\n",
       "                        <td id=\"T_cb69d762_aa9e_11eb_941b_0242ac1c0002row21_col1\" class=\"data row21 col1\" >0.699284</td>\n",
       "                        <td id=\"T_cb69d762_aa9e_11eb_941b_0242ac1c0002row21_col2\" class=\"data row21 col2\" >0.682984</td>\n",
       "                        <td id=\"T_cb69d762_aa9e_11eb_941b_0242ac1c0002row21_col3\" class=\"data row21 col3\" >0.691038</td>\n",
       "            </tr>\n",
       "            <tr>\n",
       "                                <th id=\"T_cb69d762_aa9e_11eb_941b_0242ac1c0002level1_row22\" class=\"row_heading level1 row22\" >Test QDA with LOF, PCA, SMOTE</th>\n",
       "                        <td id=\"T_cb69d762_aa9e_11eb_941b_0242ac1c0002row22_col0\" class=\"data row22 col0\" >0.785068</td>\n",
       "                        <td id=\"T_cb69d762_aa9e_11eb_941b_0242ac1c0002row22_col1\" class=\"data row22 col1\" >0.569212</td>\n",
       "                        <td id=\"T_cb69d762_aa9e_11eb_941b_0242ac1c0002row22_col2\" class=\"data row22 col2\" >0.760766</td>\n",
       "                        <td id=\"T_cb69d762_aa9e_11eb_941b_0242ac1c0002row22_col3\" class=\"data row22 col3\" >0.651195</td>\n",
       "            </tr>\n",
       "            <tr>\n",
       "                                <th id=\"T_cb69d762_aa9e_11eb_941b_0242ac1c0002level1_row23\" class=\"row_heading level1 row23\" >Test QDA with LOF, PCA, Random Undersampling</th>\n",
       "                        <td id=\"T_cb69d762_aa9e_11eb_941b_0242ac1c0002row23_col0\" class=\"data row23 col0\" >0.784017</td>\n",
       "                        <td id=\"T_cb69d762_aa9e_11eb_941b_0242ac1c0002row23_col1\" class=\"data row23 col1\" >0.566229</td>\n",
       "                        <td id=\"T_cb69d762_aa9e_11eb_941b_0242ac1c0002row23_col2\" class=\"data row23 col2\" >0.759808</td>\n",
       "                        <td id=\"T_cb69d762_aa9e_11eb_941b_0242ac1c0002row23_col3\" class=\"data row23 col3\" >0.648889</td>\n",
       "            </tr>\n",
       "            <tr>\n",
       "                                <th id=\"T_cb69d762_aa9e_11eb_941b_0242ac1c0002level1_row24\" class=\"row_heading level1 row24\" >Test QDA with no preprocessing</th>\n",
       "                        <td id=\"T_cb69d762_aa9e_11eb_941b_0242ac1c0002row24_col0\" class=\"data row24 col0\" >0.777287</td>\n",
       "                        <td id=\"T_cb69d762_aa9e_11eb_941b_0242ac1c0002row24_col1\" class=\"data row24 col1\" >0.457637</td>\n",
       "                        <td id=\"T_cb69d762_aa9e_11eb_941b_0242ac1c0002row24_col2\" class=\"data row24 col2\" >0.836423</td>\n",
       "                        <td id=\"T_cb69d762_aa9e_11eb_941b_0242ac1c0002row24_col3\" class=\"data row24 col3\" >0.591593</td>\n",
       "            </tr>\n",
       "    </tbody></table>"
      ],
      "text/plain": [
       "<pandas.io.formats.style.Styler at 0x7fa799ce0810>"
      ]
     },
     "execution_count": 105,
     "metadata": {
      "tags": []
     },
     "output_type": "execute_result"
    }
   ],
   "source": [
    "#@title\n",
    "\n",
    "from IPython.core.display import HTML\n",
    "\n",
    "def highlight_max(s):\n",
    "    '''\n",
    "    highlight the maximum in a Series yellow.\n",
    "    '''\n",
    "    is_max = s == s.max()\n",
    "    return ['background-color: #52b69a' if v else '' for v in is_max]\n",
    "\n",
    "\n",
    "def hover(hover_color=\"#fec89a\"):\n",
    "    return dict(selector=\"tr:hover\",\n",
    "                props=[(\"background-color\", \"%s\" % hover_color)])\n",
    "    \n",
    "\n",
    "\n",
    "styles = [\n",
    "    hover(),\n",
    "    dict(selector=\"th\", props=[(\"text-align\", \"center\"),\n",
    "                               (\"color\", '#ffffff'),\n",
    "                               (\"background-color\", \"#2d6a4f\"),\n",
    "                               (\"height\", \"60px\"),\n",
    "                               (\"width\", \"max-width\"),\n",
    "                               (\"font\", \"Nunito Sans\")]),\n",
    "    dict(selector=\"tr\", props=[(\"text-align\", \"center\"),\n",
    "                (\"background-color\", \"#e2ece9\"),\n",
    "                 (\"font-color\", '#fffff'),\n",
    "                 (\"padding\", \"20px\")])\n",
    "]\n",
    "\n",
    "final_results.style.apply(highlight_max).set_properties(**{'width': '200px'}).set_table_styles(styles)"
   ]
  },
  {
   "cell_type": "code",
   "execution_count": null,
   "metadata": {
    "id": "PlAt_NEnHqU2"
   },
   "outputs": [],
   "source": []
  }
 ],
 "metadata": {
  "celltoolbar": "Slideshow",
  "colab": {
   "collapsed_sections": [],
   "name": "MAGIC.ipynb",
   "provenance": [
    {
     "file_id": "1fAIAacGrw5sKdJecLOgl3uWZiALMzd8V",
     "timestamp": 1615919012609
    },
    {
     "file_id": "13AtrAIrr__RW7xr48ZhB7bHicMHluBdm",
     "timestamp": 1615288376313
    }
   ]
  },
  "kernelspec": {
   "display_name": "Python 3",
   "language": "python",
   "name": "python3"
  },
  "language_info": {
   "codemirror_mode": {
    "name": "ipython",
    "version": 3
   },
   "file_extension": ".py",
   "mimetype": "text/x-python",
   "name": "python",
   "nbconvert_exporter": "python",
   "pygments_lexer": "ipython3",
   "version": "3.8.5"
  }
 },
 "nbformat": 4,
 "nbformat_minor": 1
}
